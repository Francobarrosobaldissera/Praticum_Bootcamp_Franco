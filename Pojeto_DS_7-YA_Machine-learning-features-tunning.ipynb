{
 "cells": [
  {
   "cell_type": "markdown",
   "metadata": {},
   "source": [
    "## INTRODUÇÃO E IMPORTANDO OS DADOS"
   ]
  },
  {
   "cell_type": "markdown",
   "metadata": {},
   "source": [
    "### INTRODUÇÃO E OBJETIVOS"
   ]
  },
  {
   "cell_type": "markdown",
   "metadata": {},
   "source": [
    " Este projeto  visa buscar esclarecer porque alguns clientes estão deixando de usar os serviços do banco Beta Bank, bom como criar um modelo que busca prever se um cliente deixará o banco, utilizando-se os dados de comportamento dos mesmos.  \n",
    "Sendi assim faz-se necessário construir um modelo buscando um sólido valor de F1 e compará-lo com outra métricas, como AUC-ROC. Após isto iremos avaliar quais hiperparâmetros podem ser ajustados para se obter as melhores métricas com o modelo de treinamento mais adequado para esta tarefa.    \n",
    " \n"
   ]
  },
  {
   "cell_type": "markdown",
   "metadata": {},
   "source": [
    "### IMPORTAÇÃO E PRÉ-ANALISE DOS DADOS"
   ]
  },
  {
   "cell_type": "code",
   "execution_count": 1,
   "metadata": {},
   "outputs": [],
   "source": [
    "import pandas as pd \n",
    "import scipy.stats  as spt \n",
    "import seaborn as sns\n",
    "import matplotlib as mplt\n",
    "import matplotlib.pyplot as plt\n",
    "import seaborn as sns\n",
    "import  plotly.express as px\n",
    "import pandas as pd\n",
    "import numpy as np\n",
    "from sklearn.utils import shuffle\n",
    "from sklearn.metrics import roc_auc_score \n",
    "from sklearn.metrics import roc_curve \n",
    "from sklearn.tree import DecisionTreeClassifier\n",
    "from sklearn.metrics import accuracy_score\n",
    "from sklearn.model_selection import train_test_split\n",
    "from sklearn.ensemble import RandomForestClassifier\n",
    "from sklearn.ensemble import RandomForestRegressor\n",
    "from sklearn.linear_model import LogisticRegression\n",
    "from sklearn.metrics import mean_squared_error\n",
    "from sklearn.preprocessing import StandardScaler \n",
    "from sklearn.metrics import f1_score \n",
    "from sklearn.metrics import confusion_matrix\n",
    "\n"
   ]
  },
  {
   "cell_type": "code",
   "execution_count": 2,
   "metadata": {},
   "outputs": [],
   "source": [
    "df= pd.read_csv('/datasets/Churn.csv')"
   ]
  },
  {
   "cell_type": "code",
   "execution_count": 3,
   "metadata": {
    "scrolled": false
   },
   "outputs": [
    {
     "data": {
      "text/html": [
       "<div>\n",
       "<style scoped>\n",
       "    .dataframe tbody tr th:only-of-type {\n",
       "        vertical-align: middle;\n",
       "    }\n",
       "\n",
       "    .dataframe tbody tr th {\n",
       "        vertical-align: top;\n",
       "    }\n",
       "\n",
       "    .dataframe thead th {\n",
       "        text-align: right;\n",
       "    }\n",
       "</style>\n",
       "<table border=\"1\" class=\"dataframe\">\n",
       "  <thead>\n",
       "    <tr style=\"text-align: right;\">\n",
       "      <th></th>\n",
       "      <th>RowNumber</th>\n",
       "      <th>CustomerId</th>\n",
       "      <th>Surname</th>\n",
       "      <th>CreditScore</th>\n",
       "      <th>Geography</th>\n",
       "      <th>Gender</th>\n",
       "      <th>Age</th>\n",
       "      <th>Tenure</th>\n",
       "      <th>Balance</th>\n",
       "      <th>NumOfProducts</th>\n",
       "      <th>HasCrCard</th>\n",
       "      <th>IsActiveMember</th>\n",
       "      <th>EstimatedSalary</th>\n",
       "      <th>Exited</th>\n",
       "    </tr>\n",
       "  </thead>\n",
       "  <tbody>\n",
       "    <tr>\n",
       "      <th>0</th>\n",
       "      <td>1</td>\n",
       "      <td>15634602</td>\n",
       "      <td>Hargrave</td>\n",
       "      <td>619</td>\n",
       "      <td>France</td>\n",
       "      <td>Female</td>\n",
       "      <td>42</td>\n",
       "      <td>2.0</td>\n",
       "      <td>0.00</td>\n",
       "      <td>1</td>\n",
       "      <td>1</td>\n",
       "      <td>1</td>\n",
       "      <td>101348.88</td>\n",
       "      <td>1</td>\n",
       "    </tr>\n",
       "    <tr>\n",
       "      <th>1</th>\n",
       "      <td>2</td>\n",
       "      <td>15647311</td>\n",
       "      <td>Hill</td>\n",
       "      <td>608</td>\n",
       "      <td>Spain</td>\n",
       "      <td>Female</td>\n",
       "      <td>41</td>\n",
       "      <td>1.0</td>\n",
       "      <td>83807.86</td>\n",
       "      <td>1</td>\n",
       "      <td>0</td>\n",
       "      <td>1</td>\n",
       "      <td>112542.58</td>\n",
       "      <td>0</td>\n",
       "    </tr>\n",
       "    <tr>\n",
       "      <th>2</th>\n",
       "      <td>3</td>\n",
       "      <td>15619304</td>\n",
       "      <td>Onio</td>\n",
       "      <td>502</td>\n",
       "      <td>France</td>\n",
       "      <td>Female</td>\n",
       "      <td>42</td>\n",
       "      <td>8.0</td>\n",
       "      <td>159660.80</td>\n",
       "      <td>3</td>\n",
       "      <td>1</td>\n",
       "      <td>0</td>\n",
       "      <td>113931.57</td>\n",
       "      <td>1</td>\n",
       "    </tr>\n",
       "    <tr>\n",
       "      <th>3</th>\n",
       "      <td>4</td>\n",
       "      <td>15701354</td>\n",
       "      <td>Boni</td>\n",
       "      <td>699</td>\n",
       "      <td>France</td>\n",
       "      <td>Female</td>\n",
       "      <td>39</td>\n",
       "      <td>1.0</td>\n",
       "      <td>0.00</td>\n",
       "      <td>2</td>\n",
       "      <td>0</td>\n",
       "      <td>0</td>\n",
       "      <td>93826.63</td>\n",
       "      <td>0</td>\n",
       "    </tr>\n",
       "    <tr>\n",
       "      <th>4</th>\n",
       "      <td>5</td>\n",
       "      <td>15737888</td>\n",
       "      <td>Mitchell</td>\n",
       "      <td>850</td>\n",
       "      <td>Spain</td>\n",
       "      <td>Female</td>\n",
       "      <td>43</td>\n",
       "      <td>2.0</td>\n",
       "      <td>125510.82</td>\n",
       "      <td>1</td>\n",
       "      <td>1</td>\n",
       "      <td>1</td>\n",
       "      <td>79084.10</td>\n",
       "      <td>0</td>\n",
       "    </tr>\n",
       "  </tbody>\n",
       "</table>\n",
       "</div>"
      ],
      "text/plain": [
       "   RowNumber  CustomerId   Surname  CreditScore Geography  Gender  Age  \\\n",
       "0          1    15634602  Hargrave          619    France  Female   42   \n",
       "1          2    15647311      Hill          608     Spain  Female   41   \n",
       "2          3    15619304      Onio          502    France  Female   42   \n",
       "3          4    15701354      Boni          699    France  Female   39   \n",
       "4          5    15737888  Mitchell          850     Spain  Female   43   \n",
       "\n",
       "   Tenure    Balance  NumOfProducts  HasCrCard  IsActiveMember  \\\n",
       "0     2.0       0.00              1          1               1   \n",
       "1     1.0   83807.86              1          0               1   \n",
       "2     8.0  159660.80              3          1               0   \n",
       "3     1.0       0.00              2          0               0   \n",
       "4     2.0  125510.82              1          1               1   \n",
       "\n",
       "   EstimatedSalary  Exited  \n",
       "0        101348.88       1  \n",
       "1        112542.58       0  \n",
       "2        113931.57       1  \n",
       "3         93826.63       0  \n",
       "4         79084.10       0  "
      ]
     },
     "execution_count": 3,
     "metadata": {},
     "output_type": "execute_result"
    }
   ],
   "source": [
    "df.head(5)"
   ]
  },
  {
   "cell_type": "code",
   "execution_count": 4,
   "metadata": {
    "scrolled": true
   },
   "outputs": [
    {
     "name": "stdout",
     "output_type": "stream",
     "text": [
      "<class 'pandas.core.frame.DataFrame'>\n",
      "RangeIndex: 10000 entries, 0 to 9999\n",
      "Data columns (total 14 columns):\n",
      " #   Column           Non-Null Count  Dtype  \n",
      "---  ------           --------------  -----  \n",
      " 0   RowNumber        10000 non-null  int64  \n",
      " 1   CustomerId       10000 non-null  int64  \n",
      " 2   Surname          10000 non-null  object \n",
      " 3   CreditScore      10000 non-null  int64  \n",
      " 4   Geography        10000 non-null  object \n",
      " 5   Gender           10000 non-null  object \n",
      " 6   Age              10000 non-null  int64  \n",
      " 7   Tenure           9091 non-null   float64\n",
      " 8   Balance          10000 non-null  float64\n",
      " 9   NumOfProducts    10000 non-null  int64  \n",
      " 10  HasCrCard        10000 non-null  int64  \n",
      " 11  IsActiveMember   10000 non-null  int64  \n",
      " 12  EstimatedSalary  10000 non-null  float64\n",
      " 13  Exited           10000 non-null  int64  \n",
      "dtypes: float64(3), int64(8), object(3)\n",
      "memory usage: 1.1+ MB\n"
     ]
    }
   ],
   "source": [
    "df.info()"
   ]
  },
  {
   "cell_type": "code",
   "execution_count": 5,
   "metadata": {
    "scrolled": true
   },
   "outputs": [
    {
     "data": {
      "text/html": [
       "<div>\n",
       "<style scoped>\n",
       "    .dataframe tbody tr th:only-of-type {\n",
       "        vertical-align: middle;\n",
       "    }\n",
       "\n",
       "    .dataframe tbody tr th {\n",
       "        vertical-align: top;\n",
       "    }\n",
       "\n",
       "    .dataframe thead th {\n",
       "        text-align: right;\n",
       "    }\n",
       "</style>\n",
       "<table border=\"1\" class=\"dataframe\">\n",
       "  <thead>\n",
       "    <tr style=\"text-align: right;\">\n",
       "      <th></th>\n",
       "      <th>RowNumber</th>\n",
       "      <th>CustomerId</th>\n",
       "      <th>CreditScore</th>\n",
       "      <th>Age</th>\n",
       "      <th>Tenure</th>\n",
       "      <th>Balance</th>\n",
       "      <th>NumOfProducts</th>\n",
       "      <th>HasCrCard</th>\n",
       "      <th>IsActiveMember</th>\n",
       "      <th>EstimatedSalary</th>\n",
       "      <th>Exited</th>\n",
       "    </tr>\n",
       "  </thead>\n",
       "  <tbody>\n",
       "    <tr>\n",
       "      <th>count</th>\n",
       "      <td>10000.00000</td>\n",
       "      <td>1.000000e+04</td>\n",
       "      <td>10000.000000</td>\n",
       "      <td>10000.000000</td>\n",
       "      <td>9091.000000</td>\n",
       "      <td>10000.000000</td>\n",
       "      <td>10000.000000</td>\n",
       "      <td>10000.00000</td>\n",
       "      <td>10000.000000</td>\n",
       "      <td>10000.000000</td>\n",
       "      <td>10000.000000</td>\n",
       "    </tr>\n",
       "    <tr>\n",
       "      <th>mean</th>\n",
       "      <td>5000.50000</td>\n",
       "      <td>1.569094e+07</td>\n",
       "      <td>650.528800</td>\n",
       "      <td>38.921800</td>\n",
       "      <td>4.997690</td>\n",
       "      <td>76485.889288</td>\n",
       "      <td>1.530200</td>\n",
       "      <td>0.70550</td>\n",
       "      <td>0.515100</td>\n",
       "      <td>100090.239881</td>\n",
       "      <td>0.203700</td>\n",
       "    </tr>\n",
       "    <tr>\n",
       "      <th>std</th>\n",
       "      <td>2886.89568</td>\n",
       "      <td>7.193619e+04</td>\n",
       "      <td>96.653299</td>\n",
       "      <td>10.487806</td>\n",
       "      <td>2.894723</td>\n",
       "      <td>62397.405202</td>\n",
       "      <td>0.581654</td>\n",
       "      <td>0.45584</td>\n",
       "      <td>0.499797</td>\n",
       "      <td>57510.492818</td>\n",
       "      <td>0.402769</td>\n",
       "    </tr>\n",
       "    <tr>\n",
       "      <th>min</th>\n",
       "      <td>1.00000</td>\n",
       "      <td>1.556570e+07</td>\n",
       "      <td>350.000000</td>\n",
       "      <td>18.000000</td>\n",
       "      <td>0.000000</td>\n",
       "      <td>0.000000</td>\n",
       "      <td>1.000000</td>\n",
       "      <td>0.00000</td>\n",
       "      <td>0.000000</td>\n",
       "      <td>11.580000</td>\n",
       "      <td>0.000000</td>\n",
       "    </tr>\n",
       "    <tr>\n",
       "      <th>25%</th>\n",
       "      <td>2500.75000</td>\n",
       "      <td>1.562853e+07</td>\n",
       "      <td>584.000000</td>\n",
       "      <td>32.000000</td>\n",
       "      <td>2.000000</td>\n",
       "      <td>0.000000</td>\n",
       "      <td>1.000000</td>\n",
       "      <td>0.00000</td>\n",
       "      <td>0.000000</td>\n",
       "      <td>51002.110000</td>\n",
       "      <td>0.000000</td>\n",
       "    </tr>\n",
       "    <tr>\n",
       "      <th>50%</th>\n",
       "      <td>5000.50000</td>\n",
       "      <td>1.569074e+07</td>\n",
       "      <td>652.000000</td>\n",
       "      <td>37.000000</td>\n",
       "      <td>5.000000</td>\n",
       "      <td>97198.540000</td>\n",
       "      <td>1.000000</td>\n",
       "      <td>1.00000</td>\n",
       "      <td>1.000000</td>\n",
       "      <td>100193.915000</td>\n",
       "      <td>0.000000</td>\n",
       "    </tr>\n",
       "    <tr>\n",
       "      <th>75%</th>\n",
       "      <td>7500.25000</td>\n",
       "      <td>1.575323e+07</td>\n",
       "      <td>718.000000</td>\n",
       "      <td>44.000000</td>\n",
       "      <td>7.000000</td>\n",
       "      <td>127644.240000</td>\n",
       "      <td>2.000000</td>\n",
       "      <td>1.00000</td>\n",
       "      <td>1.000000</td>\n",
       "      <td>149388.247500</td>\n",
       "      <td>0.000000</td>\n",
       "    </tr>\n",
       "    <tr>\n",
       "      <th>max</th>\n",
       "      <td>10000.00000</td>\n",
       "      <td>1.581569e+07</td>\n",
       "      <td>850.000000</td>\n",
       "      <td>92.000000</td>\n",
       "      <td>10.000000</td>\n",
       "      <td>250898.090000</td>\n",
       "      <td>4.000000</td>\n",
       "      <td>1.00000</td>\n",
       "      <td>1.000000</td>\n",
       "      <td>199992.480000</td>\n",
       "      <td>1.000000</td>\n",
       "    </tr>\n",
       "  </tbody>\n",
       "</table>\n",
       "</div>"
      ],
      "text/plain": [
       "         RowNumber    CustomerId   CreditScore           Age       Tenure  \\\n",
       "count  10000.00000  1.000000e+04  10000.000000  10000.000000  9091.000000   \n",
       "mean    5000.50000  1.569094e+07    650.528800     38.921800     4.997690   \n",
       "std     2886.89568  7.193619e+04     96.653299     10.487806     2.894723   \n",
       "min        1.00000  1.556570e+07    350.000000     18.000000     0.000000   \n",
       "25%     2500.75000  1.562853e+07    584.000000     32.000000     2.000000   \n",
       "50%     5000.50000  1.569074e+07    652.000000     37.000000     5.000000   \n",
       "75%     7500.25000  1.575323e+07    718.000000     44.000000     7.000000   \n",
       "max    10000.00000  1.581569e+07    850.000000     92.000000    10.000000   \n",
       "\n",
       "             Balance  NumOfProducts    HasCrCard  IsActiveMember  \\\n",
       "count   10000.000000   10000.000000  10000.00000    10000.000000   \n",
       "mean    76485.889288       1.530200      0.70550        0.515100   \n",
       "std     62397.405202       0.581654      0.45584        0.499797   \n",
       "min         0.000000       1.000000      0.00000        0.000000   \n",
       "25%         0.000000       1.000000      0.00000        0.000000   \n",
       "50%     97198.540000       1.000000      1.00000        1.000000   \n",
       "75%    127644.240000       2.000000      1.00000        1.000000   \n",
       "max    250898.090000       4.000000      1.00000        1.000000   \n",
       "\n",
       "       EstimatedSalary        Exited  \n",
       "count     10000.000000  10000.000000  \n",
       "mean     100090.239881      0.203700  \n",
       "std       57510.492818      0.402769  \n",
       "min          11.580000      0.000000  \n",
       "25%       51002.110000      0.000000  \n",
       "50%      100193.915000      0.000000  \n",
       "75%      149388.247500      0.000000  \n",
       "max      199992.480000      1.000000  "
      ]
     },
     "execution_count": 5,
     "metadata": {},
     "output_type": "execute_result"
    }
   ],
   "source": [
    "df.describe()"
   ]
  },
  {
   "cell_type": "markdown",
   "metadata": {},
   "source": [
    "  *   O dataset traz uma quantidade considerável de colunas, algumas delas sendo variáveis categóricas e outras numéricas.\n",
    "  * Existe também colunas com dados booleanos (0 e 1) que poderá ser utilizado no treinamento do modelo como target. \n",
    " "
   ]
  },
  {
   "cell_type": "code",
   "execution_count": 6,
   "metadata": {
    "scrolled": true
   },
   "outputs": [
    {
     "data": {
      "text/plain": [
       "RowNumber            0\n",
       "CustomerId           0\n",
       "Surname              0\n",
       "CreditScore          0\n",
       "Geography            0\n",
       "Gender               0\n",
       "Age                  0\n",
       "Tenure             909\n",
       "Balance              0\n",
       "NumOfProducts        0\n",
       "HasCrCard            0\n",
       "IsActiveMember       0\n",
       "EstimatedSalary      0\n",
       "Exited               0\n",
       "dtype: int64"
      ]
     },
     "execution_count": 6,
     "metadata": {},
     "output_type": "execute_result"
    }
   ],
   "source": [
    "df.isnull().sum()\n"
   ]
  },
  {
   "cell_type": "markdown",
   "metadata": {},
   "source": [
    "  * Apenas Tenure tem dados Nan; se trata de uma quantidade pouco expresiva do dataset <1% dos valores totais.\n"
   ]
  },
  {
   "cell_type": "markdown",
   "metadata": {},
   "source": [
    "    - Como se trata de um número pequeno de dados Nan, vamos substituí-los pela mediana dos demais valores:\n",
    "   "
   ]
  },
  {
   "cell_type": "code",
   "execution_count": 7,
   "metadata": {},
   "outputs": [
    {
     "data": {
      "text/plain": [
       "0"
      ]
     },
     "execution_count": 7,
     "metadata": {},
     "output_type": "execute_result"
    }
   ],
   "source": [
    "df.duplicated().sum()\n"
   ]
  },
  {
   "cell_type": "code",
   "execution_count": 8,
   "metadata": {},
   "outputs": [],
   "source": [
    "df_null=df[df['Tenure'].isnull()]"
   ]
  },
  {
   "cell_type": "code",
   "execution_count": 9,
   "metadata": {},
   "outputs": [],
   "source": [
    "df['Tenure'] = df['Tenure'].fillna(value=df['Tenure'].median())"
   ]
  },
  {
   "cell_type": "code",
   "execution_count": 10,
   "metadata": {},
   "outputs": [
    {
     "data": {
      "text/plain": [
       "0"
      ]
     },
     "execution_count": 10,
     "metadata": {},
     "output_type": "execute_result"
    }
   ],
   "source": [
    "df['Tenure'].isnull().sum()\n"
   ]
  },
  {
   "cell_type": "markdown",
   "metadata": {},
   "source": [
    "### Aplicar filtragem e transformação nos dados"
   ]
  },
  {
   "cell_type": "markdown",
   "metadata": {},
   "source": [
    "    Como as colunas são de categorias diferentes, podemos fazer uma transformação nos dados.\n",
    "    Primeiro é necessário que os dados que serão transformados, sejam salvos em uma tabela separada.  "
   ]
  },
  {
   "cell_type": "markdown",
   "metadata": {},
   "source": [
    "  *  A primeira transformação será nos dados categóricos, que precisam ser convertidos para numéricos."
   ]
  },
  {
   "cell_type": "code",
   "execution_count": 11,
   "metadata": {},
   "outputs": [],
   "source": [
    "var_non_informative = ['RowNumber', 'CustomerId', 'Surname']\n",
    "var_numeric = ['CreditScore', 'Age', 'Tenure', 'Balance', \n",
    "               'NumOfProducts', 'HasCrCard', 'IsActiveMember', \n",
    "               'EstimatedSalary']\n",
    "var_categorical2 = ['Geography', 'Gender']\n"
   ]
  },
  {
   "cell_type": "markdown",
   "metadata": {},
   "source": [
    "A primeira transformação será nos dados categóricos, que precisam ser convertidos para numéricos."
   ]
  },
  {
   "cell_type": "markdown",
   "metadata": {},
   "source": [
    "#### Removendo as colunas que não serão utilizadas:"
   ]
  },
  {
   "cell_type": "markdown",
   "metadata": {},
   "source": [
    " * Inicialmente vamos remover a coluna que não tem relevância para o treinamento do nosso modelo. "
   ]
  },
  {
   "cell_type": "code",
   "execution_count": 12,
   "metadata": {},
   "outputs": [],
   "source": [
    "df.drop(var_non_informative, axis=1, inplace=True)"
   ]
  },
  {
   "cell_type": "markdown",
   "metadata": {},
   "source": [
    " * Depois vamos extrair variáveis numéricas das colunas que estão como categóricas. "
   ]
  },
  {
   "cell_type": "code",
   "execution_count": 13,
   "metadata": {},
   "outputs": [],
   "source": [
    "df = pd.get_dummies(df, drop_first=True, columns=var_categorical2)"
   ]
  },
  {
   "cell_type": "markdown",
   "metadata": {},
   "source": [
    "## Exame do equilíbrio das classes e  treinamento do modelo"
   ]
  },
  {
   "cell_type": "markdown",
   "metadata": {},
   "source": [
    "### Treinamento do modelo"
   ]
  },
  {
   "cell_type": "markdown",
   "metadata": {},
   "source": [
    "     O objetivo do modelo aqui será definido como a coluna 'Exited' que traz informações sobre a evasão dos clientes (1 - sim; 0 - não).\n"
   ]
  },
  {
   "cell_type": "markdown",
   "metadata": {},
   "source": [
    "#### Definindo a váriaveis target e feature"
   ]
  },
  {
   "cell_type": "markdown",
   "metadata": {},
   "source": [
    "Vamos definir a variável Target como sendo a coluna ['Exited'] que traz informações sobre a evasão dos clientes (1 - sim; 0 - não), afim de encontrar padrões no comportamento dos clientes procurando padrões nas demais colunas relevantes que serão utilizadas como features."
   ]
  },
  {
   "cell_type": "markdown",
   "metadata": {},
   "source": [
    "* Tamanho conjunto de teste: \n",
    "    Já que estaremos lidando com um problema relativamente complexo precisamos term um conjunto de teste e validação com tamanho razoável. Por isso vamos utilizar 20% dos dados para os conjuntos."
   ]
  },
  {
   "cell_type": "code",
   "execution_count": 14,
   "metadata": {},
   "outputs": [],
   "source": [
    "df_train_valid, df_test = train_test_split(df, test_size=0.20, random_state=12345)\n"
   ]
  },
  {
   "cell_type": "code",
   "execution_count": 15,
   "metadata": {},
   "outputs": [],
   "source": [
    "df_train, df_valid = train_test_split(df_train_valid, test_size=0.20, random_state=12345)\n"
   ]
  },
  {
   "cell_type": "code",
   "execution_count": 16,
   "metadata": {},
   "outputs": [],
   "source": [
    "features_train = df_train.drop(['Exited'], axis=1)\n",
    "target_train = df_train['Exited']\n",
    "features_valid = df_valid.drop(['Exited'], axis=1)\n",
    "target_valid = df_valid['Exited']\n",
    "features_test = df_test.drop(['Exited'], axis=1)\n",
    "target_test = df_test['Exited']"
   ]
  },
  {
   "cell_type": "markdown",
   "metadata": {},
   "source": [
    "      Agora para tratar os dados numéricos precisamos fazer uma padronização, já que muitas colunas tem valores de diferentes ordens de grandeza, o que pode fazer com que o modelo acabe interpretando que os maiores valores possuem um peso maior, o que não é correto dento do processo de modelagem e predição.  "
   ]
  },
  {
   "cell_type": "code",
   "execution_count": 17,
   "metadata": {
    "scrolled": false
   },
   "outputs": [
    {
     "data": {
      "text/plain": [
       "StandardScaler()"
      ]
     },
     "execution_count": 17,
     "metadata": {},
     "output_type": "execute_result"
    }
   ],
   "source": [
    "scaler = StandardScaler()\n",
    "scaler.fit(features_train)"
   ]
  },
  {
   "cell_type": "code",
   "execution_count": 18,
   "metadata": {},
   "outputs": [],
   "source": [
    "features_train_scaled = scaler.transform(features_train)\n",
    "features_train[var_numeric] = scaler.fit_transform(features_train[var_numeric])\n"
   ]
  },
  {
   "cell_type": "code",
   "execution_count": 19,
   "metadata": {},
   "outputs": [],
   "source": [
    "features_valid[var_numeric] = scaler.transform(features_valid[var_numeric])\n",
    "features_test[var_numeric] = scaler.transform(features_test[var_numeric])  "
   ]
  },
  {
   "cell_type": "markdown",
   "metadata": {},
   "source": [
    " - Avaliação inicial do equilíbrio de classes"
   ]
  },
  {
   "cell_type": "markdown",
   "metadata": {},
   "source": [
    " - Inicialmente podemos avaliar a proporção das classes 0,1 (positiva e nula).\n",
    " -Posteriormente iremos avaliar o equilibrio de classes para cada modelo, utilizando a matriz de confusão, que traz informaçãsos sobre as classes falsa e verdadeiras, positias e nulas. "
   ]
  },
  {
   "cell_type": "code",
   "execution_count": 20,
   "metadata": {},
   "outputs": [
    {
     "data": {
      "text/plain": [
       "<AxesSubplot:>"
      ]
     },
     "execution_count": 20,
     "metadata": {},
     "output_type": "execute_result"
    },
    {
     "data": {
      "image/png": "[encoded data removed]",
      "text/plain": [
       "<Figure size 432x288 with 1 Axes>"
      ]
     },
     "metadata": {
      "needs_background": "light"
     },
     "output_type": "display_data"
    }
   ],
   "source": [
    "target_train.value_counts(normalize=True).plot(kind='bar')"
   ]
  },
  {
   "cell_type": "markdown",
   "metadata": {},
   "source": [
    "* Podemos ver que o número de classes de clientes que não sairam (0) é maior. "
   ]
  },
  {
   "cell_type": "markdown",
   "metadata": {},
   "source": [
    "####        Regressão tipo DecisionTreeClassifier"
   ]
  },
  {
   "cell_type": "code",
   "execution_count": 21,
   "metadata": {
    "scrolled": false
   },
   "outputs": [
    {
     "name": "stdout",
     "output_type": "stream",
     "text": [
      "max_depth = 5 : Valid: 0.858125\n",
      "Train: 0.858125\n",
      "Acurácia do melhor modelo: 0.858125\n",
      "Acurácia de F1: 0.5642994241842609\n"
     ]
    }
   ],
   "source": [
    "best_model = None\n",
    "best_result = 0\n",
    "for depth in range(1, 6):\n",
    "\tmodel_tree = DecisionTreeClassifier(random_state=12345, max_depth= depth ) \n",
    "\tmodel_tree.fit(features_train, target_train) \n",
    "\tpredictions = model_tree.predict(features_valid)\n",
    "\tresult = accuracy_score(target_valid,predictions) \n",
    "\tif result > best_result:\n",
    "\t\tbest_model = features_train\n",
    "\t\tbest_result = result\n",
    "\t\tf1_scr= f1_score(target_valid, predictions)\n",
    "        \n",
    "print(\"max_depth =\", depth, \": \", end='')\n",
    "print(\"Valid:\", model_tree.score(features_train, target_train))\n",
    "print(\"Train:\", model_tree.score(features_valid, target_valid))\n",
    "print(\"Acurácia do melhor modelo:\", best_result)\n",
    "print(\"Acurácia de F1:\",  f1_scr)\n"
   ]
  },
  {
   "cell_type": "markdown",
   "metadata": {},
   "source": [
    "  * A acurácia dos 2 conjuntos são parecidas, porém os resultados não tão satisfatórios."
   ]
  },
  {
   "cell_type": "code",
   "execution_count": 22,
   "metadata": {},
   "outputs": [
    {
     "data": {
      "text/plain": [
       "Text(0.5, 15.0, 'Predicted label')"
      ]
     },
     "execution_count": 22,
     "metadata": {},
     "output_type": "execute_result"
    },
    {
     "data": {
      "image/png": "[encoded data removed]",
      "text/plain": [
       "<Figure size 432x288 with 2 Axes>"
      ]
     },
     "metadata": {
      "needs_background": "light"
     },
     "output_type": "display_data"
    }
   ],
   "source": [
    "cnfs_mtx_DTC= confusion_matrix(target_valid, predictions)\n",
    "sns.heatmap(cnfs_mtx_DTC, annot=True, fmt=\"g\")\n",
    "plt.title(\"Confusion matrix\")\n",
    "plt.ylabel(\"Actual label\")\n",
    "plt.xlabel(\"Predicted label\")"
   ]
  },
  {
   "cell_type": "markdown",
   "metadata": {},
   "source": [
    "- A matriz de confusão nos mostra que existe um certo desequilibrio de classes, ja que o número de FN E FP é alto, 156 e 71 respectivamente."
   ]
  },
  {
   "cell_type": "markdown",
   "metadata": {},
   "source": [
    "#### Modelo RandomForestClassifier"
   ]
  },
  {
   "cell_type": "code",
   "execution_count": 23,
   "metadata": {},
   "outputs": [],
   "source": [
    "model_rfc = RandomForestClassifier(random_state=54321, n_estimators=9)"
   ]
  },
  {
   "cell_type": "code",
   "execution_count": 24,
   "metadata": {},
   "outputs": [
    {
     "data": {
      "text/plain": [
       "RandomForestClassifier(n_estimators=9, random_state=54321)"
      ]
     },
     "execution_count": 24,
     "metadata": {},
     "output_type": "execute_result"
    }
   ],
   "source": [
    "model_rfc.fit(features_train, target_train)"
   ]
  },
  {
   "cell_type": "code",
   "execution_count": 25,
   "metadata": {
    "scrolled": false
   },
   "outputs": [
    {
     "name": "stdout",
     "output_type": "stream",
     "text": [
      "Train: 0.984375\n",
      "Valid: 0.85875\n",
      "Acurácia do melhor modelo no conjunto de validação (n_estimators = 10): 0.85875\n",
      "Acurácia de F1: 0.5330578512396693\n"
     ]
    }
   ],
   "source": [
    "best_score = 0\n",
    "best_est = 0\n",
    "for est in range(1, 11): \n",
    "    model_rfc = RandomForestClassifier(random_state=54321, n_estimators=est) \n",
    "    model_rfc.fit(features_train, target_train ) \n",
    "    score = model_rfc.score(features_valid, target_valid)\n",
    "    predictions = model_rfc.predict(features_valid)\n",
    "    f1_scr_rf= f1_score(target_valid, predictions)\n",
    "    if score > best_score:\n",
    "        best_score = score \n",
    "        best_est = est \n",
    "print(\"Train:\", model_rfc.score(features_train, target_train))\n",
    "print(\"Valid:\", model_rfc.score(features_valid, target_valid))\n",
    "print(\"Acurácia do melhor modelo no conjunto de validação (n_estimators = {}): {}\".format(best_est, best_score))\n",
    "print(\"Acurácia de F1:\",  f1_scr_rf)\n",
    "    "
   ]
  },
  {
   "cell_type": "markdown",
   "metadata": {},
   "source": [
    "####        regressão tipo Logistic regression"
   ]
  },
  {
   "cell_type": "code",
   "execution_count": 26,
   "metadata": {},
   "outputs": [
    {
     "data": {
      "text/plain": [
       "LogisticRegression(random_state=12345)"
      ]
     },
     "execution_count": 26,
     "metadata": {},
     "output_type": "execute_result"
    }
   ],
   "source": [
    "model_lr = LogisticRegression(random_state=12345) \n",
    "model_lr.fit(features_train, target_train) "
   ]
  },
  {
   "cell_type": "code",
   "execution_count": 27,
   "metadata": {},
   "outputs": [],
   "source": [
    "pred_lr = model_lr.predict(features_valid)\n",
    "acc_lr= accuracy_score(target_valid, pred_lr)"
   ]
  },
  {
   "cell_type": "code",
   "execution_count": 28,
   "metadata": {},
   "outputs": [],
   "source": [
    "tra_pred_lr = model_lr.predict(features_train)\n",
    "trn_acc_lr= accuracy_score(target_train, tra_pred_lr)"
   ]
  },
  {
   "cell_type": "code",
   "execution_count": 29,
   "metadata": {},
   "outputs": [
    {
     "name": "stdout",
     "output_type": "stream",
     "text": [
      "Сonjunto de treinamento: 0.813125\n",
      "Conjunto de validação: 0.816875\n"
     ]
    }
   ],
   "source": [
    "('Acurácia' )\n",
    "print('Сonjunto de treinamento:', trn_acc_lr )\n",
    "print('Conjunto de validação:',  acc_lr)\n"
   ]
  },
  {
   "cell_type": "code",
   "execution_count": 30,
   "metadata": {},
   "outputs": [
    {
     "name": "stdout",
     "output_type": "stream",
     "text": [
      "O REQM do modelo de regressão linear no conjunto de validação: 0.42793106921559226\n"
     ]
    }
   ],
   "source": [
    "result = mean_squared_error(target_valid, pred_lr)**0.5 \n",
    "print(\"O REQM do modelo de regressão linear no conjunto de validação:\", result)"
   ]
  },
  {
   "cell_type": "code",
   "execution_count": 31,
   "metadata": {
    "scrolled": true
   },
   "outputs": [
    {
     "data": {
      "text/plain": [
       "0.31058823529411766"
      ]
     },
     "execution_count": 31,
     "metadata": {},
     "output_type": "execute_result"
    }
   ],
   "source": [
    "f1_score(target_valid, pred_lr)"
   ]
  },
  {
   "cell_type": "code",
   "execution_count": 32,
   "metadata": {},
   "outputs": [
    {
     "data": {
      "text/plain": [
       "Text(0.5, 15.0, 'Predicted label')"
      ]
     },
     "execution_count": 32,
     "metadata": {},
     "output_type": "execute_result"
    },
    {
     "data": {
      "image/png": "[encoded data removed]",
      "text/plain": [
       "<Figure size 432x288 with 2 Axes>"
      ]
     },
     "metadata": {
      "needs_background": "light"
     },
     "output_type": "display_data"
    }
   ],
   "source": [
    "cnf_matrix_one = confusion_matrix(target_valid, pred_lr)\n",
    "\n",
    "sns.heatmap(cnf_matrix_one, annot=True, fmt=\"g\")\n",
    "plt.title(\"Confusion matrix\")\n",
    "plt.ylabel(\"Actual label\")\n",
    "plt.xlabel(\"Predicted label\")"
   ]
  },
  {
   "cell_type": "markdown",
   "metadata": {},
   "source": [
    "    Observações sobre o Modelo:\n",
    "\n",
    " * Esse modelo foi o que teve a menor acurácia, e como ficou abaixo a nossa linha de corte (0,75), vamos descartá-lo.    \n",
    " * Esse modelo também tem um número razoável de FP E FN."
   ]
  },
  {
   "cell_type": "markdown",
   "metadata": {},
   "source": [
    "### Melhorando a qualidade do modelo"
   ]
  },
  {
   "cell_type": "markdown",
   "metadata": {},
   "source": [
    " - Utilizando o parâmetro class_weight='balanced', visando obter melhorias no modelo. \n",
    " Com este parâmetro o algoritmo irá calcular quantas vezes a classe \"0\" ocorre em relação a  frequência da classe \"1\"."
   ]
  },
  {
   "cell_type": "markdown",
   "metadata": {},
   "source": [
    "#### Melhorando o equílibrio de classes através do parâmetro class_weight='balanced' para o modelo DTC"
   ]
  },
  {
   "cell_type": "code",
   "execution_count": 33,
   "metadata": {
    "scrolled": false
   },
   "outputs": [
    {
     "name": "stdout",
     "output_type": "stream",
     "text": [
      "Valid: 0.77\n",
      "Train: 0.77328125\n"
     ]
    }
   ],
   "source": [
    "model_dt_bal=DecisionTreeClassifier(random_state=12345, max_depth= depth, class_weight='balanced') \n",
    "model_dt_bal.fit(features_train, target_train) \n",
    "print(\"Valid:\", model_dt_bal.score(features_valid, target_valid))\n",
    "print(\"Train:\", model_dt_bal.score(features_train, target_train))"
   ]
  },
  {
   "cell_type": "markdown",
   "metadata": {},
   "source": [
    "#### Melhorando o equílibrio de classes através do parâmetro class_weight='balanced' para o modelo RFC"
   ]
  },
  {
   "cell_type": "code",
   "execution_count": 34,
   "metadata": {},
   "outputs": [
    {
     "data": {
      "text/plain": [
       "RandomForestClassifier(class_weight='balanced', n_estimators=10,\n",
       "                       random_state=54321)"
      ]
     },
     "execution_count": 34,
     "metadata": {},
     "output_type": "execute_result"
    }
   ],
   "source": [
    "model_rfc_bal = RandomForestClassifier(random_state=54321, n_estimators=est, class_weight='balanced') \n",
    "model_rfc_bal.fit(features_train, target_train ) \n"
   ]
  },
  {
   "cell_type": "code",
   "execution_count": 35,
   "metadata": {
    "scrolled": false
   },
   "outputs": [
    {
     "name": "stdout",
     "output_type": "stream",
     "text": [
      "Valid: 0.85875\n"
     ]
    }
   ],
   "source": [
    "print(\"Valid:\", model_rfc_bal.score(features_valid, target_valid))"
   ]
  },
  {
   "cell_type": "markdown",
   "metadata": {},
   "source": [
    "#### Melhorando o equílibrio de classes através do parâmetro class_weight='balanced' para o modelo LR"
   ]
  },
  {
   "cell_type": "code",
   "execution_count": 36,
   "metadata": {
    "scrolled": false
   },
   "outputs": [
    {
     "name": "stdout",
     "output_type": "stream",
     "text": [
      "Valid: 0.70625\n"
     ]
    }
   ],
   "source": [
    "model_lr_bal = LogisticRegression(random_state=12345, class_weight='balanced') \n",
    "model_lr_bal.fit(features_train, target_train) \n",
    "\n",
    "print(\"Valid:\", model_lr_bal.score(features_valid, target_valid))\n"
   ]
  },
  {
   "cell_type": "markdown",
   "metadata": {},
   "source": [
    "##### Avaliando o resultado da melhoria de classes nos modelos"
   ]
  },
  {
   "cell_type": "markdown",
   "metadata": {},
   "source": [
    "Não houve incremento significativo no score do modelo com a utilização da 'balanced' como peso de classes, em alguns casos até houve diminuição do score. "
   ]
  },
  {
   "cell_type": "markdown",
   "metadata": {},
   "source": [
    "#### Aplicando upsample e downsample"
   ]
  },
  {
   "cell_type": "markdown",
   "metadata": {},
   "source": [
    "A função de upsample busca aumentar a significância de uma classe que ocorre com menor frequência. "
   ]
  },
  {
   "cell_type": "code",
   "execution_count": 37,
   "metadata": {},
   "outputs": [],
   "source": [
    "def upsample(features_train, target_train, repeat):\n",
    "    features_zeros = features_train[target_train == 0]\n",
    "    features_ones = features_train[target_train == 1]\n",
    "    target_zeros = target_train[target_train == 0]\n",
    "    target_ones = target_train[target_train == 1]\n",
    "\n",
    "    features_upsampled = pd.concat([features_zeros] + [features_ones] * repeat)\n",
    "    target_upsampled = pd.concat([target_zeros] + [target_ones] * repeat)\n",
    "\n",
    "    features_upsampled, target_upsampled = shuffle(\n",
    "        features_upsampled, target_upsampled, random_state=12345\n",
    "    )\n",
    "    return features_upsampled, target_upsampled\n",
    "\n",
    "features_upsampled, target_upsampled = upsample(\n",
    "    features_train, target_train, 10\n",
    ")"
   ]
  },
  {
   "cell_type": "markdown",
   "metadata": {},
   "source": [
    "##### Aplicando downsample no modelo\n"
   ]
  },
  {
   "cell_type": "code",
   "execution_count": 38,
   "metadata": {},
   "outputs": [],
   "source": [
    "def downsample(features, target, fraction):\n",
    "    features_zeros = features[target == 0]\n",
    "    features_ones = features[target == 1]\n",
    "    target_zeros = target[target == 0]\n",
    "    target_ones = target[target == 1]\n",
    "\n",
    "    features_downsampled = pd.concat(\n",
    "        [features_zeros.sample(frac=fraction, random_state=12345)]\n",
    "        + [features_ones]\n",
    "    )\n",
    "    target_downsampled = pd.concat(\n",
    "        [target_zeros.sample(frac=fraction, random_state=12345)]\n",
    "        + [target_ones]\n",
    "    )\n",
    "\n",
    "    features_downsampled, target_downsampled = shuffle(\n",
    "        features_downsampled, target_downsampled, random_state=12345\n",
    "    )\n",
    "\n",
    "    return features_downsampled, target_downsampled\n",
    "\n",
    "features_downsampled, target_downsampled = downsample(\n",
    "    features_train, target_train, 0.1)"
   ]
  },
  {
   "cell_type": "markdown",
   "metadata": {},
   "source": [
    "####  Melhorando o equílibrio de classes dos modelos  com upsample e downsample\n"
   ]
  },
  {
   "cell_type": "markdown",
   "metadata": {},
   "source": [
    " - *Aplicando Upsample no modelo LR* :"
   ]
  },
  {
   "cell_type": "code",
   "execution_count": 39,
   "metadata": {},
   "outputs": [],
   "source": [
    "model_lr_up = LogisticRegression(random_state=12345, solver='liblinear') \n",
    "model_lr_up.fit(features_upsampled, target_upsampled)\n",
    "predicted_up= model_lr_up.predict(features_upsampled) \n"
   ]
  },
  {
   "cell_type": "code",
   "execution_count": 40,
   "metadata": {
    "scrolled": true
   },
   "outputs": [
    {
     "data": {
      "text/plain": [
       "0.8450902934537247"
      ]
     },
     "execution_count": 40,
     "metadata": {},
     "output_type": "execute_result"
    }
   ],
   "source": [
    "f1_score(target_upsampled, predicted_up)\n"
   ]
  },
  {
   "cell_type": "code",
   "execution_count": 41,
   "metadata": {
    "scrolled": true
   },
   "outputs": [
    {
     "data": {
      "text/plain": [
       "0.7581897263667896"
      ]
     },
     "execution_count": 41,
     "metadata": {},
     "output_type": "execute_result"
    }
   ],
   "source": [
    "accuracy_score(target_upsampled, predicted_up)"
   ]
  },
  {
   "cell_type": "markdown",
   "metadata": {},
   "source": [
    "* o F1_score não teve incremento para este modelo com a otimização."
   ]
  },
  {
   "cell_type": "code",
   "execution_count": 42,
   "metadata": {},
   "outputs": [
    {
     "data": {
      "text/plain": [
       "array([[ 1791,  3302],\n",
       "       [ 1090, 11980]])"
      ]
     },
     "execution_count": 42,
     "metadata": {},
     "output_type": "execute_result"
    },
    {
     "data": {
      "image/png": "[encoded data removed]",
      "text/plain": [
       "<Figure size 432x288 with 2 Axes>"
      ]
     },
     "metadata": {
      "needs_background": "light"
     },
     "output_type": "display_data"
    }
   ],
   "source": [
    "cnf_matrix = confusion_matrix(target_upsampled, predicted_up)\n",
    "\n",
    "sns.heatmap(cnf_matrix, annot=True, fmt=\"g\")\n",
    "plt.title(\"Confusion matrix\")\n",
    "plt.ylabel(\"Actual label\")\n",
    "plt.xlabel(\"Predicted label\")\n",
    "cnf_matrix"
   ]
  },
  {
   "cell_type": "markdown",
   "metadata": {},
   "source": [
    " - *Aplicando upsample no modelo DTC* :"
   ]
  },
  {
   "cell_type": "code",
   "execution_count": 43,
   "metadata": {},
   "outputs": [
    {
     "name": "stdout",
     "output_type": "stream",
     "text": [
      "max_depth = 5\n",
      "  F1 = 0.45537948290241875\n",
      "  AUC-ROC = 0.8345203834184497\n",
      "0.591875\n"
     ]
    }
   ],
   "source": [
    "for depth in range(1,6):\n",
    "    model_dt = DecisionTreeClassifier(random_state=12345, max_depth=depth)\n",
    "\n",
    "model_dt.fit(features_upsampled, target_upsampled)\n",
    "predicted_valid = model_dt.predict(features_valid)\n",
    "probablities_valid = model_dt.predict_proba(features_valid)[:, 1]\n",
    "\n",
    "print(\"max_depth =\", depth)\n",
    "print('  F1 =', f1_score(target_valid, predicted_valid))\n",
    "print('  AUC-ROC =', roc_auc_score(target_valid, probablities_valid))\n",
    "print(accuracy_score(target_valid, predicted_valid))"
   ]
  },
  {
   "cell_type": "markdown",
   "metadata": {},
   "source": [
    " - *Aplicando upsample no modelo RF* :"
   ]
  },
  {
   "cell_type": "code",
   "execution_count": 44,
   "metadata": {},
   "outputs": [
    {
     "name": "stdout",
     "output_type": "stream",
     "text": [
      "n_estimators = 5\n",
      "  F1 = 0.548494983277592\n",
      "  AUC-ROC = 0.795455875579848\n",
      "0.591875\n"
     ]
    }
   ],
   "source": [
    "for est in range(1,6):    \n",
    "    model_rfc_up = RandomForestClassifier(random_state=54321, n_estimators= est) \n",
    "    model_rfc_up.fit (features_upsampled, target_upsampled)\n",
    "    predicted_up_rf= model_rfc_up.predict(features_valid)\n",
    "    probablities_rf_up= model_rfc_up.predict_proba(features_valid)[:, 1]\n",
    "\n",
    "print(\"n_estimators =\", est)\n",
    "print('  F1 =', f1_score(target_valid, predicted_up_rf))\n",
    "print('  AUC-ROC =', roc_auc_score(target_valid, probablities_rf_up))\n",
    "print(accuracy_score(target_valid, predicted_valid))"
   ]
  },
  {
   "cell_type": "markdown",
   "metadata": {},
   "source": [
    " - *Aplicando downsample no modelo DTC* :"
   ]
  },
  {
   "cell_type": "code",
   "execution_count": 45,
   "metadata": {},
   "outputs": [
    {
     "name": "stdout",
     "output_type": "stream",
     "text": [
      "n_estimators = 5\n",
      "  F1 = 0.4440894568690095\n",
      "  AUC-ROC = 0.8211549373904237\n"
     ]
    }
   ],
   "source": [
    "for est in range(1,6):    \n",
    "    model_dt.fit(features_downsampled, target_downsampled)\n",
    "    predic_dtc_dwn= model_dt.predict(features_valid) \n",
    "    probablities_dtc_dw= model_dt.predict_proba(features_valid)[:, 1]\n",
    "\n",
    "print(\"n_estimators =\", est)\n",
    "print('  F1 =', f1_score(target_valid, predic_dtc_dwn))\n",
    "print('  AUC-ROC =', roc_auc_score(target_valid, probablities_dtc_dw))\n"
   ]
  },
  {
   "cell_type": "code",
   "execution_count": 46,
   "metadata": {
    "scrolled": true
   },
   "outputs": [
    {
     "data": {
      "text/plain": [
       "0.565"
      ]
     },
     "execution_count": 46,
     "metadata": {},
     "output_type": "execute_result"
    }
   ],
   "source": [
    "accuracy_score(target_valid, predic_dtc_dwn)"
   ]
  },
  {
   "cell_type": "markdown",
   "metadata": {},
   "source": [
    " - *Aplicando downsample no modelo RFC* :"
   ]
  },
  {
   "cell_type": "code",
   "execution_count": 47,
   "metadata": {},
   "outputs": [
    {
     "name": "stdout",
     "output_type": "stream",
     "text": [
      "n_estimators = 5\n",
      "  F1 = 0.3925362819626814\n",
      "  AUC-ROC = 0.7644297197645746\n",
      "score= 0.450625\n"
     ]
    }
   ],
   "source": [
    "for est in range(1,6):    \n",
    "    model_rfc_dw = LogisticRegression(random_state=12345, solver='liblinear') \n",
    "    model_rfc_dw.fit(features_downsampled, target_downsampled)\n",
    "    predic_rfc_dwn= model_rfc_dw.predict(features_valid) \n",
    "    probablities_rfc_dw= model_rfc_dw.predict_proba(features_valid)[:, 1]\n",
    "\n",
    "print(\"n_estimators =\", est)\n",
    "print('  F1 =', f1_score(target_valid, predic_rfc_dwn))\n",
    "print('  AUC-ROC =', roc_auc_score(target_valid, probablities_rfc_dw))\n",
    "print('score=',accuracy_score(target_valid, predic_rfc_dwn))"
   ]
  },
  {
   "cell_type": "markdown",
   "metadata": {},
   "source": [
    " - *Aplicando downsample no modelo LR* :"
   ]
  },
  {
   "cell_type": "code",
   "execution_count": 48,
   "metadata": {
    "scrolled": true
   },
   "outputs": [
    {
     "name": "stdout",
     "output_type": "stream",
     "text": [
      "  F1 = 0.3925362819626814\n",
      "  AUC-ROC = 0.7644297197645746\n",
      "  score = 0.450625\n"
     ]
    }
   ],
   "source": [
    "model_lr_dwn = LogisticRegression(random_state=12345, solver='liblinear') \n",
    "model_lr_dwn.fit(features_downsampled, target_downsampled)\n",
    "predicted_dwn= model_lr_dwn.predict(features_valid) \n",
    "probablities_lr_dw= model_lr_dwn.predict_proba(features_valid)[:, 1]\n",
    "print('  F1 =', f1_score(target_valid, predicted_dwn))\n",
    "print('  AUC-ROC =', roc_auc_score(target_valid, probablities_lr_dw))\n",
    "print('  score =', accuracy_score(target_valid, predicted_dwn))\n"
   ]
  },
  {
   "cell_type": "markdown",
   "metadata": {},
   "source": [
    "##### Considerações sobre a performance dos modelos com downsample e upsample:\n"
   ]
  },
  {
   "cell_type": "markdown",
   "metadata": {},
   "source": [
    "Em termos gerais os modelos com upsample tiveram um performance superior aos com downsample.\n",
    "Cabe resaltar porém, que o incremento no score de upsample foi muito pequeno. "
   ]
  },
  {
   "cell_type": "markdown",
   "metadata": {},
   "source": [
    "#### Visualizando a performance dos modelos com a curva AUC-ROC:\n"
   ]
  },
  {
   "cell_type": "markdown",
   "metadata": {},
   "source": [
    "Afim de descobrir o quanto nosso modelo difere do modelo aleatório, vamos utilizar a curva AUC-ROC que traz os valores de Taxa de positivos falsos (RPF) ao longo do eixo horizontal e os valores de Taxa de positivos verdadeiros (RPV) ao longo do eixo vertical. "
   ]
  },
  {
   "cell_type": "markdown",
   "metadata": {},
   "source": [
    "#### Modelo LR"
   ]
  },
  {
   "cell_type": "code",
   "execution_count": 49,
   "metadata": {},
   "outputs": [
    {
     "data": {
      "image/png": "[encoded data removed]",
      "text/plain": [
       "<Figure size 432x288 with 1 Axes>"
      ]
     },
     "metadata": {
      "needs_background": "light"
     },
     "output_type": "display_data"
    }
   ],
   "source": [
    "probabilities_valid_lr = model_lr.predict_proba(features_valid)\n",
    "probabilities_one_valid = probabilities_valid_lr[:, 1]\n",
    "\n",
    "fpr, tpr, thresholds = roc_curve(target_valid, probabilities_one_valid)  # < escreva o código aqui >\n",
    "\n",
    "plt.figure()\n",
    "\n",
    "plt.plot(fpr, tpr, [0, 5], [0, 5], linestyle='--')\n",
    "\n",
    "plt.xlim([0.0, 1.0])\n",
    "plt.ylim([0.0, 1.0])\n",
    "plt.xlabel('Taxa de Falsos Positivos')\n",
    "plt.ylabel('Taxa de Verdadeiros Positivos')\n",
    "plt.title('Curva ROC')\n",
    "plt.show() \n",
    "plt.show()"
   ]
  },
  {
   "cell_type": "code",
   "execution_count": 50,
   "metadata": {
    "scrolled": true
   },
   "outputs": [
    {
     "data": {
      "text/plain": [
       "0.7632337636230855"
      ]
     },
     "execution_count": 50,
     "metadata": {},
     "output_type": "execute_result"
    }
   ],
   "source": [
    "auc_roc = roc_auc_score(target_valid, probabilities_one_valid )\n",
    "auc_roc"
   ]
  },
  {
   "cell_type": "code",
   "execution_count": 51,
   "metadata": {},
   "outputs": [
    {
     "data": {
      "image/png": "[encoded data removed]",
      "text/plain": [
       "<Figure size 432x288 with 1 Axes>"
      ]
     },
     "metadata": {
      "needs_background": "light"
     },
     "output_type": "display_data"
    }
   ],
   "source": [
    "probabilities_up = model_lr.predict_proba(features_upsampled)\n",
    "probabilities_one_up = probabilities_up[:, 1]\n",
    "\n",
    "fpr, tpr, thresholds = roc_curve(target_upsampled, probabilities_one_up)  # < escreva o código aqui >\n",
    "\n",
    "plt.figure()\n",
    "\n",
    "plt.plot(fpr, tpr, [0, 5], [0, 5], linestyle='--')\n",
    "\n",
    "plt.xlim([0.0, 1.0])\n",
    "plt.ylim([0.0, 1.0])\n",
    "plt.xlabel('Taxa de Falsos Positivos')\n",
    "plt.ylabel('Taxa de Verdadeiros Positivos')\n",
    "plt.title('Curva ROC')\n",
    "plt.show() \n",
    "plt.show()"
   ]
  },
  {
   "cell_type": "code",
   "execution_count": 52,
   "metadata": {},
   "outputs": [
    {
     "data": {
      "text/plain": [
       "0.7694340507569161"
      ]
     },
     "execution_count": 52,
     "metadata": {},
     "output_type": "execute_result"
    }
   ],
   "source": [
    "roc_auc_score(target_upsampled, probabilities_one_up )\n"
   ]
  },
  {
   "cell_type": "markdown",
   "metadata": {},
   "source": [
    "#### Modelo DTC"
   ]
  },
  {
   "cell_type": "code",
   "execution_count": 53,
   "metadata": {},
   "outputs": [
    {
     "data": {
      "image/png": "[encoded data removed]",
      "text/plain": [
       "<Figure size 432x288 with 1 Axes>"
      ]
     },
     "metadata": {
      "needs_background": "light"
     },
     "output_type": "display_data"
    }
   ],
   "source": [
    "predicted_valid = model_dt.predict_proba(features_valid)\n",
    "probablities_valid_dt = predicted_valid[:, 1]\n",
    "\n",
    "fpr, tpr, thresholds = roc_curve(target_valid, probablities_valid_dt)  # < escreva o código aqui >\n",
    "\n",
    "plt.figure()\n",
    "\n",
    "plt.plot(fpr, tpr, [0, 5], [0, 5], linestyle='--')\n",
    "\n",
    "plt.xlim([0.0, 1.0])\n",
    "plt.ylim([0.0, 1.0])\n",
    "plt.xlabel('Taxa de Falsos Positivos')\n",
    "plt.ylabel('Taxa de Verdadeiros Positivos')\n",
    "plt.title('Curva ROC')\n",
    "plt.show() \n",
    "plt.show()"
   ]
  },
  {
   "cell_type": "code",
   "execution_count": 54,
   "metadata": {
    "scrolled": true
   },
   "outputs": [
    {
     "data": {
      "text/plain": [
       "0.8211549373904237"
      ]
     },
     "execution_count": 54,
     "metadata": {},
     "output_type": "execute_result"
    }
   ],
   "source": [
    "auc_roc = roc_auc_score(target_valid, probablities_valid_dt )\n",
    "auc_roc"
   ]
  },
  {
   "cell_type": "code",
   "execution_count": 55,
   "metadata": {},
   "outputs": [
    {
     "data": {
      "image/png": "[encoded data removed]",
      "text/plain": [
       "<Figure size 432x288 with 1 Axes>"
      ]
     },
     "metadata": {
      "needs_background": "light"
     },
     "output_type": "display_data"
    }
   ],
   "source": [
    "predicted_valid_up = model_dt.predict_proba(features_upsampled)\n",
    "probablities_valid_up = predicted_valid_up[:, 1]\n",
    "\n",
    "fpr, tpr, thresholds = roc_curve(target_upsampled, probablities_valid_up)  # < escreva o código aqui >\n",
    "\n",
    "plt.figure()\n",
    "\n",
    "plt.plot(fpr, tpr, [0, 5], [0, 5], linestyle='--')\n",
    "\n",
    "plt.xlim([0.0, 1.0])\n",
    "plt.ylim([0.0, 1.0])\n",
    "plt.xlabel('Taxa de Falsos Positivos')\n",
    "plt.ylabel('Taxa de Verdadeiros Positivos')\n",
    "plt.title('Curva ROC')\n",
    "plt.show() \n",
    "plt.show()"
   ]
  },
  {
   "cell_type": "code",
   "execution_count": 56,
   "metadata": {
    "scrolled": true
   },
   "outputs": [
    {
     "data": {
      "text/plain": [
       "0.8286080133690855"
      ]
     },
     "execution_count": 56,
     "metadata": {},
     "output_type": "execute_result"
    }
   ],
   "source": [
    "roc_auc_score(target_upsampled, probablities_valid_up )\n"
   ]
  },
  {
   "cell_type": "markdown",
   "metadata": {},
   "source": [
    "#### Modelo RF"
   ]
  },
  {
   "cell_type": "code",
   "execution_count": 57,
   "metadata": {
    "scrolled": true
   },
   "outputs": [
    {
     "data": {
      "image/png": "[encoded data removed]",
      "text/plain": [
       "<Figure size 432x288 with 1 Axes>"
      ]
     },
     "metadata": {
      "needs_background": "light"
     },
     "output_type": "display_data"
    }
   ],
   "source": [
    "predicted_valid_rf = model_rfc.predict_proba(features_valid)\n",
    "probablities_valid_rf = predicted_valid_rf[:, 1]\n",
    "\n",
    "fpr, tpr, thresholds = roc_curve(target_valid, probablities_valid_rf)  # < escreva o código aqui >\n",
    "\n",
    "plt.figure()\n",
    "\n",
    "plt.plot(fpr, tpr, [0, 5], [0, 5], linestyle='--')\n",
    "\n",
    "plt.xlim([0.0, 1.0])\n",
    "plt.ylim([0.0, 1.0])\n",
    "plt.xlabel('Taxa de Falsos Positivos')\n",
    "plt.ylabel('Taxa de Verdadeiros Positivos')\n",
    "plt.title('Curva ROC')\n",
    "plt.show() \n",
    "plt.show()"
   ]
  },
  {
   "cell_type": "code",
   "execution_count": 58,
   "metadata": {},
   "outputs": [
    {
     "data": {
      "text/plain": [
       "0.8123824718632233"
      ]
     },
     "execution_count": 58,
     "metadata": {},
     "output_type": "execute_result"
    }
   ],
   "source": [
    "roc_auc_score(target_valid, probablities_valid_rf )\n"
   ]
  },
  {
   "cell_type": "code",
   "execution_count": 59,
   "metadata": {},
   "outputs": [
    {
     "data": {
      "image/png": "[encoded data removed]",
      "text/plain": [
       "<Figure size 432x288 with 1 Axes>"
      ]
     },
     "metadata": {
      "needs_background": "light"
     },
     "output_type": "display_data"
    }
   ],
   "source": [
    "predicted_up_rf = model_rfc_up.predict_proba(features_valid)\n",
    "probablities_up_rf = predicted_up_rf[:, 1]\n",
    "\n",
    "fpr, tpr, thresholds = roc_curve(target_valid, probablities_up_rf)  # < escreva o código aqui >\n",
    "\n",
    "plt.figure()\n",
    "\n",
    "plt.plot(fpr, tpr, [0, 5], [0, 5], linestyle='--')\n",
    "\n",
    "plt.xlim([0.0, 1.0])\n",
    "plt.ylim([0.0, 1.0])\n",
    "plt.xlabel('Taxa de Falsos Positivos')\n",
    "plt.ylabel('Taxa de Verdadeiros Positivos')\n",
    "plt.title('Curva ROC')\n",
    "plt.show() \n",
    "plt.show()"
   ]
  },
  {
   "cell_type": "code",
   "execution_count": 60,
   "metadata": {
    "scrolled": true
   },
   "outputs": [
    {
     "data": {
      "text/plain": [
       "0.795455875579848"
      ]
     },
     "execution_count": 60,
     "metadata": {},
     "output_type": "execute_result"
    }
   ],
   "source": [
    "roc_auc_score(target_valid, probablities_up_rf )\n"
   ]
  },
  {
   "cell_type": "markdown",
   "metadata": {},
   "source": [
    "##### Resultados"
   ]
  },
  {
   "cell_type": "markdown",
   "metadata": {},
   "source": [
    "- Os modelos DTC e LR tiveram um ligeiro incremento no roc_auc_score com o upsample. \n",
    "- O que teve a melhor performançe foi DTC. "
   ]
  },
  {
   "cell_type": "markdown",
   "metadata": {},
   "source": [
    "## Teste final para validação do melhor modelo\n",
    "\n"
   ]
  },
  {
   "cell_type": "markdown",
   "metadata": {},
   "source": [
    "O mehor modelo foi o DT, que obteve o score de 0.858 com os paramêtros de max_depth= 5 . As demais métricas (AUC-ROC, f1-score...) também tiveram valores acima dos demais modelos. "
   ]
  },
  {
   "cell_type": "code",
   "execution_count": 61,
   "metadata": {},
   "outputs": [
    {
     "name": "stdout",
     "output_type": "stream",
     "text": [
      "Test: 0.8595\n",
      "Acurácia de F1: 0.5642994241842609\n"
     ]
    }
   ],
   "source": [
    "model_tree_fin = DecisionTreeClassifier(random_state=12345, max_depth= 5 ) \n",
    "model_tree_fin.fit(features_test, target_test) \n",
    "predictions_tst = model_tree.predict(features_valid)\n",
    "f1_scr= f1_score(target_valid, predictions_tst)\n",
    "\n",
    "print(\"Test:\", model_tree_fin.score(features_test, target_test))\n",
    "print(\"Acurácia de F1:\",  f1_scr)\n"
   ]
  },
  {
   "cell_type": "code",
   "execution_count": 62,
   "metadata": {},
   "outputs": [
    {
     "data": {
      "image/png": "[encoded data removed]",
      "text/plain": [
       "<Figure size 432x288 with 1 Axes>"
      ]
     },
     "metadata": {
      "needs_background": "light"
     },
     "output_type": "display_data"
    }
   ],
   "source": [
    "predicted_fin = model_tree_fin.predict_proba(features_test)\n",
    "probablities_fin = predicted_fin[:, 1]\n",
    "\n",
    "fpr, tpr, thresholds = roc_curve(target_test, probablities_fin)  # < escreva o código aqui >\n",
    "\n",
    "plt.figure()\n",
    "\n",
    "plt.plot(fpr, tpr, [0, 5], [0, 5], linestyle='--')\n",
    "\n",
    "plt.xlim([0.0, 1.0])\n",
    "plt.ylim([0.0, 1.0])\n",
    "plt.xlabel('Taxa de Falsos Positivos')\n",
    "plt.ylabel('Taxa de Verdadeiros Positivos')\n",
    "plt.title('Curva ROC')\n",
    "plt.show() \n",
    "plt.show()"
   ]
  },
  {
   "cell_type": "code",
   "execution_count": 63,
   "metadata": {},
   "outputs": [
    {
     "data": {
      "text/plain": [
       "0.8698931470913587"
      ]
     },
     "execution_count": 63,
     "metadata": {},
     "output_type": "execute_result"
    }
   ],
   "source": [
    "roc_auc_score(target_test, probablities_fin )\n"
   ]
  },
  {
   "cell_type": "markdown",
   "metadata": {},
   "source": [
    "Conforme esperado o resultado do score foi satisfatório, sendo assim este é o melhor modelo para prever o nosso objetivo que é prever a probabilidade de um cliente deixar o banco. "
   ]
  }
 ],
 "metadata": {
  "ExecuteTimeLog": [
   {
    "duration": 1618,
    "start_time": "2022-09-05T00:34:51.846Z"
   },
   {
    "duration": 43,
    "start_time": "2022-09-05T00:37:25.497Z"
   },
   {
    "duration": 16,
    "start_time": "2022-09-05T00:37:26.281Z"
   },
   {
    "duration": 12,
    "start_time": "2022-09-05T00:39:15.865Z"
   },
   {
    "duration": 35,
    "start_time": "2022-09-05T00:40:32.439Z"
   },
   {
    "duration": 108,
    "start_time": "2022-09-05T00:40:51.639Z"
   },
   {
    "duration": 15,
    "start_time": "2022-09-05T00:40:56.172Z"
   },
   {
    "duration": 16,
    "start_time": "2022-09-05T00:41:03.386Z"
   },
   {
    "duration": 7,
    "start_time": "2022-09-05T00:41:06.758Z"
   },
   {
    "duration": 2051,
    "start_time": "2022-09-05T00:41:23.879Z"
   },
   {
    "duration": 6,
    "start_time": "2022-09-05T00:41:31.227Z"
   },
   {
    "duration": 11,
    "start_time": "2022-09-05T00:42:29.614Z"
   },
   {
    "duration": 61,
    "start_time": "2022-09-05T12:44:43.763Z"
   },
   {
    "duration": 2,
    "start_time": "2022-09-05T12:45:14.648Z"
   },
   {
    "duration": 45,
    "start_time": "2022-09-05T12:52:31.026Z"
   },
   {
    "duration": 48,
    "start_time": "2022-09-05T18:14:13.506Z"
   },
   {
    "duration": 1695,
    "start_time": "2022-09-05T18:14:20.312Z"
   },
   {
    "duration": 91,
    "start_time": "2022-09-05T18:14:22.009Z"
   },
   {
    "duration": 25,
    "start_time": "2022-09-05T18:14:22.102Z"
   },
   {
    "duration": 12,
    "start_time": "2022-09-05T18:14:22.129Z"
   },
   {
    "duration": 45,
    "start_time": "2022-09-05T18:14:22.143Z"
   },
   {
    "duration": 9,
    "start_time": "2022-09-05T18:14:22.190Z"
   },
   {
    "duration": 18,
    "start_time": "2022-09-05T18:14:22.200Z"
   },
   {
    "duration": 6,
    "start_time": "2022-09-05T18:14:22.220Z"
   },
   {
    "duration": 6,
    "start_time": "2022-09-05T18:14:29.321Z"
   },
   {
    "duration": 4,
    "start_time": "2022-09-05T18:14:41.368Z"
   },
   {
    "duration": 8,
    "start_time": "2022-09-05T18:14:45.281Z"
   },
   {
    "duration": 5718,
    "start_time": "2022-09-05T18:14:59.529Z"
   },
   {
    "duration": 25,
    "start_time": "2022-09-05T18:15:05.250Z"
   },
   {
    "duration": 4,
    "start_time": "2022-09-05T18:16:35.520Z"
   },
   {
    "duration": 20,
    "start_time": "2022-09-05T18:16:37.391Z"
   },
   {
    "duration": 117,
    "start_time": "2022-09-05T18:17:44.684Z"
   },
   {
    "duration": 29105,
    "start_time": "2022-09-05T18:17:49.942Z"
   },
   {
    "duration": 388,
    "start_time": "2022-09-05T18:18:38.446Z"
   },
   {
    "duration": 388,
    "start_time": "2022-09-05T18:18:56.693Z"
   },
   {
    "duration": 1364,
    "start_time": "2022-09-05T18:20:23.006Z"
   },
   {
    "duration": 40,
    "start_time": "2022-09-05T18:20:24.372Z"
   },
   {
    "duration": 16,
    "start_time": "2022-09-05T18:20:24.413Z"
   },
   {
    "duration": 20,
    "start_time": "2022-09-05T18:20:24.430Z"
   },
   {
    "duration": 49,
    "start_time": "2022-09-05T18:20:24.452Z"
   },
   {
    "duration": 7,
    "start_time": "2022-09-05T18:20:24.502Z"
   },
   {
    "duration": 17,
    "start_time": "2022-09-05T18:20:24.510Z"
   },
   {
    "duration": 13,
    "start_time": "2022-09-05T18:20:24.529Z"
   },
   {
    "duration": 26,
    "start_time": "2022-09-05T18:20:24.543Z"
   },
   {
    "duration": 390,
    "start_time": "2022-09-05T18:20:24.570Z"
   },
   {
    "duration": 547,
    "start_time": "2022-09-05T18:20:24.962Z"
   },
   {
    "duration": 321014,
    "start_time": "2022-09-05T18:20:34.452Z"
   },
   {
    "duration": 112,
    "start_time": "2022-09-05T19:12:50.350Z"
   },
   {
    "duration": 6,
    "start_time": "2022-09-05T19:40:51.713Z"
   },
   {
    "duration": 3,
    "start_time": "2022-09-05T19:40:52.448Z"
   },
   {
    "duration": 13,
    "start_time": "2022-09-05T19:41:13.320Z"
   },
   {
    "duration": 6,
    "start_time": "2022-09-05T19:41:24.977Z"
   },
   {
    "duration": 18,
    "start_time": "2022-09-05T19:42:54.632Z"
   },
   {
    "duration": 6,
    "start_time": "2022-09-05T19:43:02.263Z"
   },
   {
    "duration": 3,
    "start_time": "2022-09-05T19:48:06.347Z"
   },
   {
    "duration": 3,
    "start_time": "2022-09-05T19:48:50.049Z"
   },
   {
    "duration": 19,
    "start_time": "2022-09-05T19:48:50.786Z"
   },
   {
    "duration": 16,
    "start_time": "2022-09-05T19:48:57.249Z"
   },
   {
    "duration": 7,
    "start_time": "2022-09-05T19:49:11.634Z"
   },
   {
    "duration": 6,
    "start_time": "2022-09-05T19:49:12.710Z"
   },
   {
    "duration": 3,
    "start_time": "2022-09-05T19:49:14.338Z"
   },
   {
    "duration": 19,
    "start_time": "2022-09-05T19:49:15.178Z"
   },
   {
    "duration": 23,
    "start_time": "2022-09-05T19:49:17.907Z"
   },
   {
    "duration": 18,
    "start_time": "2022-09-05T19:49:28.915Z"
   },
   {
    "duration": 9,
    "start_time": "2022-09-05T19:49:53.764Z"
   },
   {
    "duration": 6,
    "start_time": "2022-09-05T19:49:57.778Z"
   },
   {
    "duration": 2,
    "start_time": "2022-09-05T19:50:02.011Z"
   },
   {
    "duration": 17,
    "start_time": "2022-09-05T19:50:02.403Z"
   },
   {
    "duration": 20,
    "start_time": "2022-09-05T19:50:05.003Z"
   },
   {
    "duration": 20,
    "start_time": "2022-09-05T19:50:39.835Z"
   },
   {
    "duration": 21,
    "start_time": "2022-09-05T19:51:03.475Z"
   },
   {
    "duration": 11,
    "start_time": "2022-09-05T19:52:15.634Z"
   },
   {
    "duration": 3,
    "start_time": "2022-09-05T19:53:12.865Z"
   },
   {
    "duration": 21,
    "start_time": "2022-09-05T19:53:14.680Z"
   },
   {
    "duration": 25,
    "start_time": "2022-09-05T19:53:34.745Z"
   },
   {
    "duration": 7,
    "start_time": "2022-09-05T19:53:46.831Z"
   },
   {
    "duration": 3,
    "start_time": "2022-09-05T20:04:40.772Z"
   },
   {
    "duration": 18,
    "start_time": "2022-09-05T20:04:41.613Z"
   },
   {
    "duration": 22,
    "start_time": "2022-09-05T20:07:42.577Z"
   },
   {
    "duration": 7,
    "start_time": "2022-09-05T20:07:46.625Z"
   },
   {
    "duration": 5,
    "start_time": "2022-09-05T20:11:39.744Z"
   },
   {
    "duration": 8,
    "start_time": "2022-09-09T00:13:01.591Z"
   },
   {
    "duration": 1479,
    "start_time": "2022-09-09T00:13:10.176Z"
   },
   {
    "duration": 80,
    "start_time": "2022-09-09T00:13:11.657Z"
   },
   {
    "duration": 15,
    "start_time": "2022-09-09T00:13:11.739Z"
   },
   {
    "duration": 11,
    "start_time": "2022-09-09T00:13:11.757Z"
   },
   {
    "duration": 38,
    "start_time": "2022-09-09T00:13:11.770Z"
   },
   {
    "duration": 18,
    "start_time": "2022-09-09T00:13:11.810Z"
   },
   {
    "duration": 14,
    "start_time": "2022-09-09T00:13:11.829Z"
   },
   {
    "duration": 3,
    "start_time": "2022-09-09T00:13:11.844Z"
   },
   {
    "duration": 16,
    "start_time": "2022-09-09T00:13:11.849Z"
   },
   {
    "duration": 392,
    "start_time": "2022-09-09T00:13:11.868Z"
   },
   {
    "duration": 1420,
    "start_time": "2022-09-09T00:13:55.257Z"
   },
   {
    "duration": 42,
    "start_time": "2022-09-09T00:13:56.678Z"
   },
   {
    "duration": 15,
    "start_time": "2022-09-09T00:13:56.722Z"
   },
   {
    "duration": 12,
    "start_time": "2022-09-09T00:13:56.738Z"
   },
   {
    "duration": 36,
    "start_time": "2022-09-09T00:13:56.751Z"
   },
   {
    "duration": 6,
    "start_time": "2022-09-09T00:13:56.789Z"
   },
   {
    "duration": 32,
    "start_time": "2022-09-09T00:13:56.796Z"
   },
   {
    "duration": 6,
    "start_time": "2022-09-09T00:13:56.830Z"
   },
   {
    "duration": 20,
    "start_time": "2022-09-09T00:13:56.838Z"
   },
   {
    "duration": 6,
    "start_time": "2022-09-09T00:13:56.861Z"
   },
   {
    "duration": 9,
    "start_time": "2022-09-09T00:13:56.868Z"
   },
   {
    "duration": 4,
    "start_time": "2022-09-09T00:13:56.879Z"
   },
   {
    "duration": 8,
    "start_time": "2022-09-09T00:13:56.885Z"
   },
   {
    "duration": 27,
    "start_time": "2022-09-09T00:13:56.895Z"
   },
   {
    "duration": 3,
    "start_time": "2022-09-09T00:13:56.923Z"
   },
   {
    "duration": 126,
    "start_time": "2022-09-09T00:13:56.927Z"
   },
   {
    "duration": 0,
    "start_time": "2022-09-09T00:13:57.055Z"
   },
   {
    "duration": 0,
    "start_time": "2022-09-09T00:13:57.057Z"
   },
   {
    "duration": 0,
    "start_time": "2022-09-09T00:13:57.058Z"
   },
   {
    "duration": 0,
    "start_time": "2022-09-09T00:13:57.059Z"
   },
   {
    "duration": 0,
    "start_time": "2022-09-09T00:13:57.060Z"
   },
   {
    "duration": 0,
    "start_time": "2022-09-09T00:13:57.061Z"
   },
   {
    "duration": 0,
    "start_time": "2022-09-09T00:13:57.062Z"
   },
   {
    "duration": 0,
    "start_time": "2022-09-09T00:13:57.064Z"
   },
   {
    "duration": 0,
    "start_time": "2022-09-09T00:13:57.064Z"
   },
   {
    "duration": 10,
    "start_time": "2022-09-09T00:19:56.003Z"
   },
   {
    "duration": 5,
    "start_time": "2022-09-09T00:20:13.194Z"
   },
   {
    "duration": 5,
    "start_time": "2022-09-09T00:20:22.971Z"
   },
   {
    "duration": 25,
    "start_time": "2022-09-09T00:20:23.417Z"
   },
   {
    "duration": 20,
    "start_time": "2022-09-09T00:21:15.378Z"
   },
   {
    "duration": 19,
    "start_time": "2022-09-09T00:21:22.082Z"
   },
   {
    "duration": 59,
    "start_time": "2022-09-09T15:28:30.168Z"
   },
   {
    "duration": 6,
    "start_time": "2022-09-09T15:28:39.258Z"
   },
   {
    "duration": 1611,
    "start_time": "2022-09-09T15:28:51.153Z"
   },
   {
    "duration": 154,
    "start_time": "2022-09-09T15:28:52.766Z"
   },
   {
    "duration": 16,
    "start_time": "2022-09-09T15:28:52.921Z"
   },
   {
    "duration": 11,
    "start_time": "2022-09-09T15:28:52.938Z"
   },
   {
    "duration": 39,
    "start_time": "2022-09-09T15:28:52.951Z"
   },
   {
    "duration": 14,
    "start_time": "2022-09-09T15:28:52.992Z"
   },
   {
    "duration": 10,
    "start_time": "2022-09-09T15:28:53.008Z"
   },
   {
    "duration": 4,
    "start_time": "2022-09-09T15:28:53.020Z"
   },
   {
    "duration": 24,
    "start_time": "2022-09-09T15:28:53.025Z"
   },
   {
    "duration": 98,
    "start_time": "2022-09-09T15:28:53.050Z"
   },
   {
    "duration": 0,
    "start_time": "2022-09-09T15:28:53.150Z"
   },
   {
    "duration": 0,
    "start_time": "2022-09-09T15:28:53.152Z"
   },
   {
    "duration": 0,
    "start_time": "2022-09-09T15:28:53.153Z"
   },
   {
    "duration": 0,
    "start_time": "2022-09-09T15:28:53.154Z"
   },
   {
    "duration": 0,
    "start_time": "2022-09-09T15:28:53.154Z"
   },
   {
    "duration": 0,
    "start_time": "2022-09-09T15:28:53.156Z"
   },
   {
    "duration": 0,
    "start_time": "2022-09-09T15:28:53.156Z"
   },
   {
    "duration": 0,
    "start_time": "2022-09-09T15:28:53.157Z"
   },
   {
    "duration": 0,
    "start_time": "2022-09-09T15:28:53.158Z"
   },
   {
    "duration": 0,
    "start_time": "2022-09-09T15:28:53.159Z"
   },
   {
    "duration": 0,
    "start_time": "2022-09-09T15:28:53.159Z"
   },
   {
    "duration": 0,
    "start_time": "2022-09-09T15:28:53.160Z"
   },
   {
    "duration": 0,
    "start_time": "2022-09-09T15:28:53.161Z"
   },
   {
    "duration": 1,
    "start_time": "2022-09-09T15:28:53.162Z"
   },
   {
    "duration": 0,
    "start_time": "2022-09-09T15:28:53.163Z"
   },
   {
    "duration": 0,
    "start_time": "2022-09-09T15:28:53.164Z"
   },
   {
    "duration": 0,
    "start_time": "2022-09-09T15:28:53.165Z"
   },
   {
    "duration": 0,
    "start_time": "2022-09-09T15:28:53.166Z"
   },
   {
    "duration": 0,
    "start_time": "2022-09-09T15:28:53.167Z"
   },
   {
    "duration": 3,
    "start_time": "2022-09-09T15:29:10.243Z"
   },
   {
    "duration": 135,
    "start_time": "2022-09-09T15:29:10.249Z"
   },
   {
    "duration": 0,
    "start_time": "2022-09-09T15:29:10.386Z"
   },
   {
    "duration": 0,
    "start_time": "2022-09-09T15:29:10.387Z"
   },
   {
    "duration": 0,
    "start_time": "2022-09-09T15:29:10.388Z"
   },
   {
    "duration": 0,
    "start_time": "2022-09-09T15:29:10.389Z"
   },
   {
    "duration": 0,
    "start_time": "2022-09-09T15:29:10.390Z"
   },
   {
    "duration": 0,
    "start_time": "2022-09-09T15:29:10.390Z"
   },
   {
    "duration": 0,
    "start_time": "2022-09-09T15:29:10.392Z"
   },
   {
    "duration": 0,
    "start_time": "2022-09-09T15:29:10.393Z"
   },
   {
    "duration": 0,
    "start_time": "2022-09-09T15:29:10.394Z"
   },
   {
    "duration": 0,
    "start_time": "2022-09-09T15:29:10.408Z"
   },
   {
    "duration": 0,
    "start_time": "2022-09-09T15:29:10.410Z"
   },
   {
    "duration": 0,
    "start_time": "2022-09-09T15:29:10.411Z"
   },
   {
    "duration": 0,
    "start_time": "2022-09-09T15:29:10.413Z"
   },
   {
    "duration": 0,
    "start_time": "2022-09-09T15:29:10.414Z"
   },
   {
    "duration": 0,
    "start_time": "2022-09-09T15:29:10.415Z"
   },
   {
    "duration": 0,
    "start_time": "2022-09-09T15:29:10.417Z"
   },
   {
    "duration": 0,
    "start_time": "2022-09-09T15:29:10.418Z"
   },
   {
    "duration": 9,
    "start_time": "2022-09-09T15:29:48.236Z"
   },
   {
    "duration": 9,
    "start_time": "2022-09-09T15:30:31.203Z"
   },
   {
    "duration": 9,
    "start_time": "2022-09-09T15:31:07.643Z"
   },
   {
    "duration": 1113,
    "start_time": "2022-09-09T15:31:12.707Z"
   },
   {
    "duration": 199,
    "start_time": "2022-09-09T15:31:32.571Z"
   },
   {
    "duration": 201,
    "start_time": "2022-09-09T15:31:42.644Z"
   },
   {
    "duration": 192,
    "start_time": "2022-09-09T15:33:04.241Z"
   },
   {
    "duration": 13,
    "start_time": "2022-09-09T15:38:58.347Z"
   },
   {
    "duration": 13,
    "start_time": "2022-09-09T15:39:07.581Z"
   },
   {
    "duration": 1127,
    "start_time": "2022-09-09T15:39:27.990Z"
   },
   {
    "duration": 11,
    "start_time": "2022-09-09T15:39:36.205Z"
   },
   {
    "duration": 11,
    "start_time": "2022-09-09T15:39:56.590Z"
   },
   {
    "duration": 192,
    "start_time": "2022-09-09T15:40:02.685Z"
   },
   {
    "duration": 25,
    "start_time": "2022-09-09T15:40:06.637Z"
   },
   {
    "duration": 22,
    "start_time": "2022-09-09T15:40:47.396Z"
   },
   {
    "duration": 7,
    "start_time": "2022-09-09T15:40:57.365Z"
   },
   {
    "duration": 7,
    "start_time": "2022-09-09T15:41:06.885Z"
   },
   {
    "duration": 7,
    "start_time": "2022-09-09T15:41:10.636Z"
   },
   {
    "duration": 5,
    "start_time": "2022-09-09T15:41:20.380Z"
   },
   {
    "duration": 1462,
    "start_time": "2022-09-09T15:41:29.902Z"
   },
   {
    "duration": 39,
    "start_time": "2022-09-09T15:41:31.366Z"
   },
   {
    "duration": 20,
    "start_time": "2022-09-09T15:41:31.407Z"
   },
   {
    "duration": 17,
    "start_time": "2022-09-09T15:41:31.430Z"
   },
   {
    "duration": 58,
    "start_time": "2022-09-09T15:41:31.449Z"
   },
   {
    "duration": 9,
    "start_time": "2022-09-09T15:41:31.509Z"
   },
   {
    "duration": 53,
    "start_time": "2022-09-09T15:41:31.520Z"
   },
   {
    "duration": 13,
    "start_time": "2022-09-09T15:41:31.574Z"
   },
   {
    "duration": 32,
    "start_time": "2022-09-09T15:41:31.589Z"
   },
   {
    "duration": 14,
    "start_time": "2022-09-09T15:41:31.623Z"
   },
   {
    "duration": 112,
    "start_time": "2022-09-09T15:41:31.638Z"
   },
   {
    "duration": 0,
    "start_time": "2022-09-09T15:41:31.751Z"
   },
   {
    "duration": 0,
    "start_time": "2022-09-09T15:41:31.752Z"
   },
   {
    "duration": 0,
    "start_time": "2022-09-09T15:41:31.753Z"
   },
   {
    "duration": 0,
    "start_time": "2022-09-09T15:41:31.754Z"
   },
   {
    "duration": 0,
    "start_time": "2022-09-09T15:41:31.754Z"
   },
   {
    "duration": 0,
    "start_time": "2022-09-09T15:41:31.756Z"
   },
   {
    "duration": 0,
    "start_time": "2022-09-09T15:41:31.757Z"
   },
   {
    "duration": 0,
    "start_time": "2022-09-09T15:41:31.758Z"
   },
   {
    "duration": 0,
    "start_time": "2022-09-09T15:41:31.758Z"
   },
   {
    "duration": 0,
    "start_time": "2022-09-09T15:41:31.759Z"
   },
   {
    "duration": 0,
    "start_time": "2022-09-09T15:41:31.760Z"
   },
   {
    "duration": 0,
    "start_time": "2022-09-09T15:41:31.761Z"
   },
   {
    "duration": 0,
    "start_time": "2022-09-09T15:41:31.762Z"
   },
   {
    "duration": 0,
    "start_time": "2022-09-09T15:41:31.763Z"
   },
   {
    "duration": 0,
    "start_time": "2022-09-09T15:41:31.764Z"
   },
   {
    "duration": 0,
    "start_time": "2022-09-09T15:41:31.765Z"
   },
   {
    "duration": 0,
    "start_time": "2022-09-09T15:41:31.766Z"
   },
   {
    "duration": 0,
    "start_time": "2022-09-09T15:41:31.767Z"
   },
   {
    "duration": 8,
    "start_time": "2022-09-09T15:41:46.539Z"
   },
   {
    "duration": 6,
    "start_time": "2022-09-09T15:41:53.061Z"
   },
   {
    "duration": 5,
    "start_time": "2022-09-09T15:42:02.603Z"
   },
   {
    "duration": 10,
    "start_time": "2022-09-09T15:42:09.603Z"
   },
   {
    "duration": 12,
    "start_time": "2022-09-09T15:42:19.221Z"
   },
   {
    "duration": 16,
    "start_time": "2022-09-09T15:42:36.717Z"
   },
   {
    "duration": 10,
    "start_time": "2022-09-09T15:45:23.859Z"
   },
   {
    "duration": 22,
    "start_time": "2022-09-09T15:46:20.634Z"
   },
   {
    "duration": 20,
    "start_time": "2022-09-09T15:46:22.225Z"
   },
   {
    "duration": 42,
    "start_time": "2022-09-09T20:38:38.901Z"
   },
   {
    "duration": 1600,
    "start_time": "2022-09-09T20:38:45.631Z"
   },
   {
    "duration": 83,
    "start_time": "2022-09-09T20:38:47.233Z"
   },
   {
    "duration": 17,
    "start_time": "2022-09-09T20:38:47.318Z"
   },
   {
    "duration": 31,
    "start_time": "2022-09-09T20:38:47.338Z"
   },
   {
    "duration": 55,
    "start_time": "2022-09-09T20:38:47.371Z"
   },
   {
    "duration": 7,
    "start_time": "2022-09-09T20:38:47.428Z"
   },
   {
    "duration": 28,
    "start_time": "2022-09-09T20:38:47.437Z"
   },
   {
    "duration": 19,
    "start_time": "2022-09-09T20:38:47.467Z"
   },
   {
    "duration": 38,
    "start_time": "2022-09-09T20:38:47.487Z"
   },
   {
    "duration": 21,
    "start_time": "2022-09-09T20:38:47.528Z"
   },
   {
    "duration": 131,
    "start_time": "2022-09-09T20:38:47.551Z"
   },
   {
    "duration": 0,
    "start_time": "2022-09-09T20:38:47.684Z"
   },
   {
    "duration": 0,
    "start_time": "2022-09-09T20:38:47.686Z"
   },
   {
    "duration": 0,
    "start_time": "2022-09-09T20:38:47.687Z"
   },
   {
    "duration": 0,
    "start_time": "2022-09-09T20:38:47.689Z"
   },
   {
    "duration": 0,
    "start_time": "2022-09-09T20:38:47.689Z"
   },
   {
    "duration": 0,
    "start_time": "2022-09-09T20:38:47.691Z"
   },
   {
    "duration": 0,
    "start_time": "2022-09-09T20:38:47.692Z"
   },
   {
    "duration": 0,
    "start_time": "2022-09-09T20:38:47.693Z"
   },
   {
    "duration": 0,
    "start_time": "2022-09-09T20:38:47.694Z"
   },
   {
    "duration": 0,
    "start_time": "2022-09-09T20:38:47.695Z"
   },
   {
    "duration": 0,
    "start_time": "2022-09-09T20:38:47.696Z"
   },
   {
    "duration": 0,
    "start_time": "2022-09-09T20:38:47.697Z"
   },
   {
    "duration": 0,
    "start_time": "2022-09-09T20:38:47.698Z"
   },
   {
    "duration": 0,
    "start_time": "2022-09-09T20:38:47.699Z"
   },
   {
    "duration": 0,
    "start_time": "2022-09-09T20:38:47.700Z"
   },
   {
    "duration": 0,
    "start_time": "2022-09-09T20:38:47.701Z"
   },
   {
    "duration": 0,
    "start_time": "2022-09-09T20:38:47.702Z"
   },
   {
    "duration": 1418,
    "start_time": "2022-09-09T20:39:10.043Z"
   },
   {
    "duration": 39,
    "start_time": "2022-09-09T20:39:11.463Z"
   },
   {
    "duration": 15,
    "start_time": "2022-09-09T20:39:11.504Z"
   },
   {
    "duration": 11,
    "start_time": "2022-09-09T20:39:11.520Z"
   },
   {
    "duration": 44,
    "start_time": "2022-09-09T20:39:11.533Z"
   },
   {
    "duration": 8,
    "start_time": "2022-09-09T20:39:11.578Z"
   },
   {
    "duration": 14,
    "start_time": "2022-09-09T20:39:11.588Z"
   },
   {
    "duration": 4,
    "start_time": "2022-09-09T20:39:11.604Z"
   },
   {
    "duration": 21,
    "start_time": "2022-09-09T20:39:11.610Z"
   },
   {
    "duration": 4,
    "start_time": "2022-09-09T20:39:11.633Z"
   },
   {
    "duration": 129,
    "start_time": "2022-09-09T20:39:11.639Z"
   },
   {
    "duration": 0,
    "start_time": "2022-09-09T20:39:11.770Z"
   },
   {
    "duration": 0,
    "start_time": "2022-09-09T20:39:11.776Z"
   },
   {
    "duration": 0,
    "start_time": "2022-09-09T20:39:11.777Z"
   },
   {
    "duration": 0,
    "start_time": "2022-09-09T20:39:11.778Z"
   },
   {
    "duration": 0,
    "start_time": "2022-09-09T20:39:11.780Z"
   },
   {
    "duration": 0,
    "start_time": "2022-09-09T20:39:11.781Z"
   },
   {
    "duration": 0,
    "start_time": "2022-09-09T20:39:11.781Z"
   },
   {
    "duration": 0,
    "start_time": "2022-09-09T20:39:11.782Z"
   },
   {
    "duration": 0,
    "start_time": "2022-09-09T20:39:11.783Z"
   },
   {
    "duration": 0,
    "start_time": "2022-09-09T20:39:11.784Z"
   },
   {
    "duration": 0,
    "start_time": "2022-09-09T20:39:11.785Z"
   },
   {
    "duration": 0,
    "start_time": "2022-09-09T20:39:11.786Z"
   },
   {
    "duration": 0,
    "start_time": "2022-09-09T20:39:11.787Z"
   },
   {
    "duration": 0,
    "start_time": "2022-09-09T20:39:11.788Z"
   },
   {
    "duration": 0,
    "start_time": "2022-09-09T20:39:11.789Z"
   },
   {
    "duration": 0,
    "start_time": "2022-09-09T20:39:11.790Z"
   },
   {
    "duration": 0,
    "start_time": "2022-09-09T20:39:11.791Z"
   },
   {
    "duration": 4,
    "start_time": "2022-09-09T20:39:25.721Z"
   },
   {
    "duration": 7,
    "start_time": "2022-09-09T20:39:30.650Z"
   },
   {
    "duration": 16,
    "start_time": "2022-09-09T20:40:33.408Z"
   },
   {
    "duration": 7,
    "start_time": "2022-09-09T20:49:44.114Z"
   },
   {
    "duration": 13,
    "start_time": "2022-09-09T20:50:05.713Z"
   },
   {
    "duration": 1419,
    "start_time": "2022-09-09T20:50:50.656Z"
   },
   {
    "duration": 40,
    "start_time": "2022-09-09T20:50:52.077Z"
   },
   {
    "duration": 16,
    "start_time": "2022-09-09T20:50:52.118Z"
   },
   {
    "duration": 15,
    "start_time": "2022-09-09T20:50:52.135Z"
   },
   {
    "duration": 39,
    "start_time": "2022-09-09T20:50:52.152Z"
   },
   {
    "duration": 7,
    "start_time": "2022-09-09T20:50:52.192Z"
   },
   {
    "duration": 20,
    "start_time": "2022-09-09T20:50:52.201Z"
   },
   {
    "duration": 5,
    "start_time": "2022-09-09T20:50:52.222Z"
   },
   {
    "duration": 48,
    "start_time": "2022-09-09T20:50:52.229Z"
   },
   {
    "duration": 3,
    "start_time": "2022-09-09T20:50:52.279Z"
   },
   {
    "duration": 13,
    "start_time": "2022-09-09T20:50:52.284Z"
   },
   {
    "duration": 38,
    "start_time": "2022-09-09T20:50:52.299Z"
   },
   {
    "duration": 44,
    "start_time": "2022-09-09T20:50:52.340Z"
   },
   {
    "duration": 8,
    "start_time": "2022-09-09T20:50:52.388Z"
   },
   {
    "duration": 3,
    "start_time": "2022-09-09T20:50:52.398Z"
   },
   {
    "duration": 8,
    "start_time": "2022-09-09T20:50:52.403Z"
   },
   {
    "duration": 7,
    "start_time": "2022-09-09T20:50:52.412Z"
   },
   {
    "duration": 7,
    "start_time": "2022-09-09T20:50:52.420Z"
   },
   {
    "duration": 137,
    "start_time": "2022-09-09T20:50:52.428Z"
   },
   {
    "duration": 0,
    "start_time": "2022-09-09T20:50:52.567Z"
   },
   {
    "duration": 0,
    "start_time": "2022-09-09T20:50:52.577Z"
   },
   {
    "duration": 0,
    "start_time": "2022-09-09T20:50:52.578Z"
   },
   {
    "duration": 0,
    "start_time": "2022-09-09T20:50:52.580Z"
   },
   {
    "duration": 0,
    "start_time": "2022-09-09T20:50:52.582Z"
   },
   {
    "duration": 0,
    "start_time": "2022-09-09T20:50:52.583Z"
   },
   {
    "duration": 0,
    "start_time": "2022-09-09T20:50:52.584Z"
   },
   {
    "duration": 0,
    "start_time": "2022-09-09T20:50:52.587Z"
   },
   {
    "duration": 0,
    "start_time": "2022-09-09T20:50:52.588Z"
   },
   {
    "duration": 10,
    "start_time": "2022-09-09T21:02:45.130Z"
   },
   {
    "duration": 19,
    "start_time": "2022-09-09T21:02:46.121Z"
   },
   {
    "duration": 12,
    "start_time": "2022-09-09T21:02:51.721Z"
   },
   {
    "duration": 15,
    "start_time": "2022-09-09T21:02:55.034Z"
   },
   {
    "duration": 20,
    "start_time": "2022-09-09T21:04:01.130Z"
   },
   {
    "duration": 20,
    "start_time": "2022-09-09T21:04:02.449Z"
   },
   {
    "duration": 4,
    "start_time": "2022-09-09T21:33:13.561Z"
   },
   {
    "duration": 17,
    "start_time": "2022-09-09T21:33:21.955Z"
   },
   {
    "duration": 730,
    "start_time": "2022-09-09T21:42:59.156Z"
   },
   {
    "duration": 7,
    "start_time": "2022-09-09T21:43:29.811Z"
   },
   {
    "duration": 18,
    "start_time": "2022-09-09T21:46:39.153Z"
   },
   {
    "duration": 15,
    "start_time": "2022-09-09T21:46:53.385Z"
   },
   {
    "duration": 18,
    "start_time": "2022-09-09T21:47:21.578Z"
   },
   {
    "duration": 13,
    "start_time": "2022-09-09T21:48:30.456Z"
   },
   {
    "duration": 10,
    "start_time": "2022-09-09T21:49:14.919Z"
   },
   {
    "duration": 21,
    "start_time": "2022-09-09T21:49:25.656Z"
   },
   {
    "duration": 22,
    "start_time": "2022-09-09T21:49:49.583Z"
   },
   {
    "duration": 9,
    "start_time": "2022-09-09T21:51:51.893Z"
   },
   {
    "duration": 3,
    "start_time": "2022-09-09T21:56:54.788Z"
   },
   {
    "duration": 4,
    "start_time": "2022-09-09T22:13:58.328Z"
   },
   {
    "duration": 779,
    "start_time": "2022-09-09T22:14:34.111Z"
   },
   {
    "duration": 3,
    "start_time": "2022-09-09T22:14:38.088Z"
   },
   {
    "duration": 774,
    "start_time": "2022-09-09T22:16:49.646Z"
   },
   {
    "duration": 741,
    "start_time": "2022-09-09T22:17:10.558Z"
   },
   {
    "duration": 1004,
    "start_time": "2022-09-09T22:18:56.126Z"
   },
   {
    "duration": 745,
    "start_time": "2022-09-09T22:20:05.644Z"
   },
   {
    "duration": 1400,
    "start_time": "2022-09-09T22:20:30.300Z"
   },
   {
    "duration": 63,
    "start_time": "2022-09-09T22:20:31.701Z"
   },
   {
    "duration": 16,
    "start_time": "2022-09-09T22:20:31.765Z"
   },
   {
    "duration": 30,
    "start_time": "2022-09-09T22:20:31.782Z"
   },
   {
    "duration": 58,
    "start_time": "2022-09-09T22:20:31.815Z"
   },
   {
    "duration": 9,
    "start_time": "2022-09-09T22:20:31.874Z"
   },
   {
    "duration": 17,
    "start_time": "2022-09-09T22:20:31.885Z"
   },
   {
    "duration": 5,
    "start_time": "2022-09-09T22:20:31.904Z"
   },
   {
    "duration": 22,
    "start_time": "2022-09-09T22:20:31.911Z"
   },
   {
    "duration": 3,
    "start_time": "2022-09-09T22:20:31.934Z"
   },
   {
    "duration": 908,
    "start_time": "2022-09-09T22:20:31.938Z"
   },
   {
    "duration": 0,
    "start_time": "2022-09-09T22:20:32.850Z"
   },
   {
    "duration": 0,
    "start_time": "2022-09-09T22:20:32.851Z"
   },
   {
    "duration": 0,
    "start_time": "2022-09-09T22:20:32.852Z"
   },
   {
    "duration": 0,
    "start_time": "2022-09-09T22:20:32.853Z"
   },
   {
    "duration": 0,
    "start_time": "2022-09-09T22:20:32.854Z"
   },
   {
    "duration": 0,
    "start_time": "2022-09-09T22:20:32.855Z"
   },
   {
    "duration": 0,
    "start_time": "2022-09-09T22:20:32.856Z"
   },
   {
    "duration": 0,
    "start_time": "2022-09-09T22:20:32.857Z"
   },
   {
    "duration": 0,
    "start_time": "2022-09-09T22:20:32.858Z"
   },
   {
    "duration": 0,
    "start_time": "2022-09-09T22:20:32.859Z"
   },
   {
    "duration": 0,
    "start_time": "2022-09-09T22:20:32.860Z"
   },
   {
    "duration": 0,
    "start_time": "2022-09-09T22:20:32.861Z"
   },
   {
    "duration": 0,
    "start_time": "2022-09-09T22:20:32.862Z"
   },
   {
    "duration": 0,
    "start_time": "2022-09-09T22:20:32.863Z"
   },
   {
    "duration": 0,
    "start_time": "2022-09-09T22:20:32.864Z"
   },
   {
    "duration": 0,
    "start_time": "2022-09-09T22:20:32.865Z"
   },
   {
    "duration": 0,
    "start_time": "2022-09-09T22:20:32.866Z"
   },
   {
    "duration": 0,
    "start_time": "2022-09-09T22:20:32.867Z"
   },
   {
    "duration": 0,
    "start_time": "2022-09-09T22:20:32.868Z"
   },
   {
    "duration": 0,
    "start_time": "2022-09-09T22:20:32.869Z"
   },
   {
    "duration": 0,
    "start_time": "2022-09-09T22:20:32.870Z"
   },
   {
    "duration": 0,
    "start_time": "2022-09-09T22:20:32.871Z"
   },
   {
    "duration": 0,
    "start_time": "2022-09-09T22:20:32.872Z"
   },
   {
    "duration": 774,
    "start_time": "2022-09-09T22:21:04.817Z"
   },
   {
    "duration": 349,
    "start_time": "2022-09-09T22:21:25.625Z"
   },
   {
    "duration": 396,
    "start_time": "2022-09-09T22:21:36.872Z"
   },
   {
    "duration": 745,
    "start_time": "2022-09-09T22:21:46.441Z"
   },
   {
    "duration": 822,
    "start_time": "2022-09-09T22:22:04.330Z"
   },
   {
    "duration": 4,
    "start_time": "2022-09-09T22:22:11.651Z"
   },
   {
    "duration": 763,
    "start_time": "2022-09-09T22:22:26.329Z"
   },
   {
    "duration": 65,
    "start_time": "2022-09-09T22:32:57.523Z"
   },
   {
    "duration": 49,
    "start_time": "2022-09-09T22:33:06.102Z"
   },
   {
    "duration": 3,
    "start_time": "2022-09-09T22:33:19.431Z"
   },
   {
    "duration": 8,
    "start_time": "2022-09-09T22:33:28.902Z"
   },
   {
    "duration": 3,
    "start_time": "2022-09-09T22:35:15.464Z"
   },
   {
    "duration": 3,
    "start_time": "2022-09-09T22:35:22.430Z"
   },
   {
    "duration": 8,
    "start_time": "2022-09-09T22:35:34.942Z"
   },
   {
    "duration": 4,
    "start_time": "2022-09-09T22:37:28.589Z"
   },
   {
    "duration": 10,
    "start_time": "2022-09-09T22:37:37.981Z"
   },
   {
    "duration": 6,
    "start_time": "2022-09-09T22:49:01.800Z"
   },
   {
    "duration": 10,
    "start_time": "2022-09-09T22:50:23.135Z"
   },
   {
    "duration": 13,
    "start_time": "2022-09-09T22:50:29.679Z"
   },
   {
    "duration": 78,
    "start_time": "2022-09-09T22:53:06.815Z"
   },
   {
    "duration": 10,
    "start_time": "2022-09-09T22:53:23.911Z"
   },
   {
    "duration": 66,
    "start_time": "2022-09-09T22:53:53.687Z"
   },
   {
    "duration": 69,
    "start_time": "2022-09-09T22:55:48.805Z"
   },
   {
    "duration": 11,
    "start_time": "2022-09-09T22:58:34.252Z"
   },
   {
    "duration": 18,
    "start_time": "2022-09-09T22:58:45.676Z"
   },
   {
    "duration": 746,
    "start_time": "2022-09-09T22:59:33.168Z"
   },
   {
    "duration": 16,
    "start_time": "2022-09-09T23:00:31.795Z"
   },
   {
    "duration": 7,
    "start_time": "2022-09-09T23:00:43.586Z"
   },
   {
    "duration": 16,
    "start_time": "2022-09-09T23:01:47.475Z"
   },
   {
    "duration": 13,
    "start_time": "2022-09-09T23:01:56.251Z"
   },
   {
    "duration": 10,
    "start_time": "2022-09-09T23:02:11.235Z"
   },
   {
    "duration": 6,
    "start_time": "2022-09-09T23:02:14.170Z"
   },
   {
    "duration": 12,
    "start_time": "2022-09-09T23:02:20.930Z"
   },
   {
    "duration": 6,
    "start_time": "2022-09-09T23:02:21.930Z"
   },
   {
    "duration": 14,
    "start_time": "2022-09-09T23:02:26.913Z"
   },
   {
    "duration": 7,
    "start_time": "2022-09-09T23:02:35.498Z"
   },
   {
    "duration": 9,
    "start_time": "2022-09-09T23:02:36.457Z"
   },
   {
    "duration": 11,
    "start_time": "2022-09-09T23:05:25.475Z"
   },
   {
    "duration": 8,
    "start_time": "2022-09-09T23:05:31.681Z"
   },
   {
    "duration": 13,
    "start_time": "2022-09-09T23:05:41.665Z"
   },
   {
    "duration": 6,
    "start_time": "2022-09-09T23:05:42.729Z"
   },
   {
    "duration": 14,
    "start_time": "2022-09-09T23:06:14.041Z"
   },
   {
    "duration": 1357,
    "start_time": "2022-09-09T23:06:34.313Z"
   },
   {
    "duration": 40,
    "start_time": "2022-09-09T23:06:35.672Z"
   },
   {
    "duration": 16,
    "start_time": "2022-09-09T23:06:35.713Z"
   },
   {
    "duration": 13,
    "start_time": "2022-09-09T23:06:35.731Z"
   },
   {
    "duration": 40,
    "start_time": "2022-09-09T23:06:35.745Z"
   },
   {
    "duration": 7,
    "start_time": "2022-09-09T23:06:35.787Z"
   },
   {
    "duration": 12,
    "start_time": "2022-09-09T23:06:35.796Z"
   },
   {
    "duration": 8,
    "start_time": "2022-09-09T23:06:35.809Z"
   },
   {
    "duration": 25,
    "start_time": "2022-09-09T23:06:35.818Z"
   },
   {
    "duration": 6,
    "start_time": "2022-09-09T23:06:35.845Z"
   },
   {
    "duration": 18,
    "start_time": "2022-09-09T23:06:35.853Z"
   },
   {
    "duration": 14,
    "start_time": "2022-09-09T23:06:35.872Z"
   },
   {
    "duration": 175,
    "start_time": "2022-09-09T23:06:35.887Z"
   },
   {
    "duration": 0,
    "start_time": "2022-09-09T23:06:36.064Z"
   },
   {
    "duration": 0,
    "start_time": "2022-09-09T23:06:36.065Z"
   },
   {
    "duration": 0,
    "start_time": "2022-09-09T23:06:36.066Z"
   },
   {
    "duration": 0,
    "start_time": "2022-09-09T23:06:36.066Z"
   },
   {
    "duration": 0,
    "start_time": "2022-09-09T23:06:36.067Z"
   },
   {
    "duration": 0,
    "start_time": "2022-09-09T23:06:36.076Z"
   },
   {
    "duration": 0,
    "start_time": "2022-09-09T23:06:36.077Z"
   },
   {
    "duration": 0,
    "start_time": "2022-09-09T23:06:36.078Z"
   },
   {
    "duration": 0,
    "start_time": "2022-09-09T23:06:36.079Z"
   },
   {
    "duration": 0,
    "start_time": "2022-09-09T23:06:36.080Z"
   },
   {
    "duration": 0,
    "start_time": "2022-09-09T23:06:36.082Z"
   },
   {
    "duration": 0,
    "start_time": "2022-09-09T23:06:36.083Z"
   },
   {
    "duration": 0,
    "start_time": "2022-09-09T23:06:36.084Z"
   },
   {
    "duration": 0,
    "start_time": "2022-09-09T23:06:36.085Z"
   },
   {
    "duration": 0,
    "start_time": "2022-09-09T23:06:36.086Z"
   },
   {
    "duration": 0,
    "start_time": "2022-09-09T23:06:36.087Z"
   },
   {
    "duration": 0,
    "start_time": "2022-09-09T23:06:36.088Z"
   },
   {
    "duration": 0,
    "start_time": "2022-09-09T23:06:36.089Z"
   },
   {
    "duration": 0,
    "start_time": "2022-09-09T23:06:36.090Z"
   },
   {
    "duration": 0,
    "start_time": "2022-09-09T23:06:36.091Z"
   },
   {
    "duration": 9,
    "start_time": "2022-09-09T23:07:02.693Z"
   },
   {
    "duration": 21,
    "start_time": "2022-09-09T23:07:05.350Z"
   },
   {
    "duration": 54,
    "start_time": "2022-09-09T23:21:42.423Z"
   },
   {
    "duration": 14,
    "start_time": "2022-09-09T23:22:05.969Z"
   },
   {
    "duration": 13,
    "start_time": "2022-09-09T23:22:10.656Z"
   },
   {
    "duration": 2,
    "start_time": "2022-09-09T23:24:06.105Z"
   },
   {
    "duration": 62,
    "start_time": "2022-09-10T13:11:22.400Z"
   },
   {
    "duration": 1691,
    "start_time": "2022-09-10T13:11:40.424Z"
   },
   {
    "duration": 89,
    "start_time": "2022-09-10T13:11:42.117Z"
   },
   {
    "duration": 23,
    "start_time": "2022-09-10T13:11:42.207Z"
   },
   {
    "duration": 23,
    "start_time": "2022-09-10T13:11:42.232Z"
   },
   {
    "duration": 34,
    "start_time": "2022-09-10T13:11:42.257Z"
   },
   {
    "duration": 6,
    "start_time": "2022-09-10T13:11:42.293Z"
   },
   {
    "duration": 39,
    "start_time": "2022-09-10T13:11:42.300Z"
   },
   {
    "duration": 14,
    "start_time": "2022-09-10T13:11:42.342Z"
   },
   {
    "duration": 31,
    "start_time": "2022-09-10T13:11:42.358Z"
   },
   {
    "duration": 3,
    "start_time": "2022-09-10T13:11:42.391Z"
   },
   {
    "duration": 10,
    "start_time": "2022-09-10T13:11:42.396Z"
   },
   {
    "duration": 34,
    "start_time": "2022-09-10T13:11:42.408Z"
   },
   {
    "duration": 15,
    "start_time": "2022-09-10T13:11:42.443Z"
   },
   {
    "duration": 11,
    "start_time": "2022-09-10T13:11:42.462Z"
   },
   {
    "duration": 53,
    "start_time": "2022-09-10T13:11:42.474Z"
   },
   {
    "duration": 66,
    "start_time": "2022-09-10T13:11:42.528Z"
   },
   {
    "duration": 0,
    "start_time": "2022-09-10T13:11:42.595Z"
   },
   {
    "duration": 0,
    "start_time": "2022-09-10T13:11:42.596Z"
   },
   {
    "duration": 0,
    "start_time": "2022-09-10T13:11:42.597Z"
   },
   {
    "duration": 0,
    "start_time": "2022-09-10T13:11:42.598Z"
   },
   {
    "duration": 0,
    "start_time": "2022-09-10T13:11:42.599Z"
   },
   {
    "duration": 0,
    "start_time": "2022-09-10T13:11:42.600Z"
   },
   {
    "duration": 0,
    "start_time": "2022-09-10T13:11:42.602Z"
   },
   {
    "duration": 0,
    "start_time": "2022-09-10T13:11:42.603Z"
   },
   {
    "duration": 0,
    "start_time": "2022-09-10T13:11:42.604Z"
   },
   {
    "duration": 0,
    "start_time": "2022-09-10T13:11:42.606Z"
   },
   {
    "duration": 0,
    "start_time": "2022-09-10T13:11:42.607Z"
   },
   {
    "duration": 0,
    "start_time": "2022-09-10T13:11:42.608Z"
   },
   {
    "duration": 0,
    "start_time": "2022-09-10T13:11:42.621Z"
   },
   {
    "duration": 0,
    "start_time": "2022-09-10T13:11:42.622Z"
   },
   {
    "duration": 0,
    "start_time": "2022-09-10T13:11:42.622Z"
   },
   {
    "duration": 0,
    "start_time": "2022-09-10T13:11:42.623Z"
   },
   {
    "duration": 142,
    "start_time": "2022-09-10T13:39:59.286Z"
   },
   {
    "duration": 2,
    "start_time": "2022-09-10T13:40:53.868Z"
   },
   {
    "duration": 13,
    "start_time": "2022-09-10T13:42:40.002Z"
   },
   {
    "duration": 2,
    "start_time": "2022-09-10T13:42:42.567Z"
   },
   {
    "duration": 5,
    "start_time": "2022-09-10T13:42:54.813Z"
   },
   {
    "duration": 5,
    "start_time": "2022-09-10T13:43:41.986Z"
   },
   {
    "duration": 5,
    "start_time": "2022-09-10T13:43:43.992Z"
   },
   {
    "duration": 6,
    "start_time": "2022-09-10T13:43:44.344Z"
   },
   {
    "duration": 1398,
    "start_time": "2022-09-10T13:47:47.067Z"
   },
   {
    "duration": 39,
    "start_time": "2022-09-10T13:47:48.467Z"
   },
   {
    "duration": 32,
    "start_time": "2022-09-10T13:47:48.507Z"
   },
   {
    "duration": 10,
    "start_time": "2022-09-10T13:47:48.541Z"
   },
   {
    "duration": 35,
    "start_time": "2022-09-10T13:47:48.553Z"
   },
   {
    "duration": 6,
    "start_time": "2022-09-10T13:47:48.590Z"
   },
   {
    "duration": 35,
    "start_time": "2022-09-10T13:47:48.597Z"
   },
   {
    "duration": 5,
    "start_time": "2022-09-10T13:47:48.633Z"
   },
   {
    "duration": 20,
    "start_time": "2022-09-10T13:47:48.639Z"
   },
   {
    "duration": 5,
    "start_time": "2022-09-10T13:47:48.660Z"
   },
   {
    "duration": 8,
    "start_time": "2022-09-10T13:47:48.666Z"
   },
   {
    "duration": 16,
    "start_time": "2022-09-10T13:47:48.675Z"
   },
   {
    "duration": 8,
    "start_time": "2022-09-10T13:47:48.692Z"
   },
   {
    "duration": 4,
    "start_time": "2022-09-10T13:47:48.703Z"
   },
   {
    "duration": 42,
    "start_time": "2022-09-10T13:47:48.708Z"
   },
   {
    "duration": 12,
    "start_time": "2022-09-10T13:47:48.751Z"
   },
   {
    "duration": 128,
    "start_time": "2022-09-10T13:47:48.765Z"
   },
   {
    "duration": 0,
    "start_time": "2022-09-10T13:47:48.894Z"
   },
   {
    "duration": 0,
    "start_time": "2022-09-10T13:47:48.895Z"
   },
   {
    "duration": 0,
    "start_time": "2022-09-10T13:47:48.895Z"
   },
   {
    "duration": 0,
    "start_time": "2022-09-10T13:47:48.896Z"
   },
   {
    "duration": 0,
    "start_time": "2022-09-10T13:47:48.897Z"
   },
   {
    "duration": 0,
    "start_time": "2022-09-10T13:47:48.897Z"
   },
   {
    "duration": 0,
    "start_time": "2022-09-10T13:47:48.899Z"
   },
   {
    "duration": 0,
    "start_time": "2022-09-10T13:47:48.899Z"
   },
   {
    "duration": 0,
    "start_time": "2022-09-10T13:47:48.900Z"
   },
   {
    "duration": 0,
    "start_time": "2022-09-10T13:47:48.900Z"
   },
   {
    "duration": 0,
    "start_time": "2022-09-10T13:47:48.901Z"
   },
   {
    "duration": 0,
    "start_time": "2022-09-10T13:47:48.902Z"
   },
   {
    "duration": 0,
    "start_time": "2022-09-10T13:47:48.903Z"
   },
   {
    "duration": 12,
    "start_time": "2022-09-10T14:40:35.026Z"
   },
   {
    "duration": 45,
    "start_time": "2022-09-10T21:29:18.250Z"
   },
   {
    "duration": 1625,
    "start_time": "2022-09-10T21:29:28.227Z"
   },
   {
    "duration": 81,
    "start_time": "2022-09-10T21:29:29.854Z"
   },
   {
    "duration": 16,
    "start_time": "2022-09-10T21:29:29.937Z"
   },
   {
    "duration": 13,
    "start_time": "2022-09-10T21:29:29.954Z"
   },
   {
    "duration": 37,
    "start_time": "2022-09-10T21:29:29.968Z"
   },
   {
    "duration": 35,
    "start_time": "2022-09-10T21:29:30.006Z"
   },
   {
    "duration": 19,
    "start_time": "2022-09-10T21:29:30.043Z"
   },
   {
    "duration": 4,
    "start_time": "2022-09-10T21:29:30.064Z"
   },
   {
    "duration": 37,
    "start_time": "2022-09-10T21:29:30.069Z"
   },
   {
    "duration": 20,
    "start_time": "2022-09-10T21:29:30.108Z"
   },
   {
    "duration": 22,
    "start_time": "2022-09-10T21:29:30.129Z"
   },
   {
    "duration": 17,
    "start_time": "2022-09-10T21:29:30.153Z"
   },
   {
    "duration": 25,
    "start_time": "2022-09-10T21:29:30.172Z"
   },
   {
    "duration": 124,
    "start_time": "2022-09-10T21:29:30.199Z"
   },
   {
    "duration": 0,
    "start_time": "2022-09-10T21:29:30.325Z"
   },
   {
    "duration": 0,
    "start_time": "2022-09-10T21:29:30.326Z"
   },
   {
    "duration": 0,
    "start_time": "2022-09-10T21:29:30.327Z"
   },
   {
    "duration": 0,
    "start_time": "2022-09-10T21:29:30.328Z"
   },
   {
    "duration": 0,
    "start_time": "2022-09-10T21:29:30.337Z"
   },
   {
    "duration": 0,
    "start_time": "2022-09-10T21:29:30.338Z"
   },
   {
    "duration": 0,
    "start_time": "2022-09-10T21:29:30.338Z"
   },
   {
    "duration": 1,
    "start_time": "2022-09-10T21:29:30.339Z"
   },
   {
    "duration": 0,
    "start_time": "2022-09-10T21:29:30.341Z"
   },
   {
    "duration": 0,
    "start_time": "2022-09-10T21:29:30.342Z"
   },
   {
    "duration": 0,
    "start_time": "2022-09-10T21:29:30.342Z"
   },
   {
    "duration": 0,
    "start_time": "2022-09-10T21:29:30.344Z"
   },
   {
    "duration": 0,
    "start_time": "2022-09-10T21:29:30.345Z"
   },
   {
    "duration": 0,
    "start_time": "2022-09-10T21:29:30.346Z"
   },
   {
    "duration": 0,
    "start_time": "2022-09-10T21:29:30.347Z"
   },
   {
    "duration": 0,
    "start_time": "2022-09-10T21:29:30.348Z"
   },
   {
    "duration": 0,
    "start_time": "2022-09-10T21:29:30.350Z"
   },
   {
    "duration": 15,
    "start_time": "2022-09-10T21:30:20.133Z"
   },
   {
    "duration": 8,
    "start_time": "2022-09-10T21:30:34.269Z"
   },
   {
    "duration": 7,
    "start_time": "2022-09-10T21:30:34.604Z"
   },
   {
    "duration": 14,
    "start_time": "2022-09-10T21:30:35.366Z"
   },
   {
    "duration": 2574,
    "start_time": "2022-09-10T21:30:41.948Z"
   },
   {
    "duration": 41,
    "start_time": "2022-09-10T21:30:44.524Z"
   },
   {
    "duration": 15,
    "start_time": "2022-09-10T21:30:44.566Z"
   },
   {
    "duration": 12,
    "start_time": "2022-09-10T21:30:44.583Z"
   },
   {
    "duration": 44,
    "start_time": "2022-09-10T21:30:44.597Z"
   },
   {
    "duration": 7,
    "start_time": "2022-09-10T21:30:44.642Z"
   },
   {
    "duration": 14,
    "start_time": "2022-09-10T21:30:44.650Z"
   },
   {
    "duration": 3,
    "start_time": "2022-09-10T21:30:44.666Z"
   },
   {
    "duration": 20,
    "start_time": "2022-09-10T21:30:44.670Z"
   },
   {
    "duration": 8,
    "start_time": "2022-09-10T21:30:44.691Z"
   },
   {
    "duration": 36,
    "start_time": "2022-09-10T21:30:44.701Z"
   },
   {
    "duration": 123,
    "start_time": "2022-09-10T21:30:44.739Z"
   },
   {
    "duration": 0,
    "start_time": "2022-09-10T21:30:44.864Z"
   },
   {
    "duration": 0,
    "start_time": "2022-09-10T21:30:44.865Z"
   },
   {
    "duration": 0,
    "start_time": "2022-09-10T21:30:44.866Z"
   },
   {
    "duration": 0,
    "start_time": "2022-09-10T21:30:44.867Z"
   },
   {
    "duration": 0,
    "start_time": "2022-09-10T21:30:44.868Z"
   },
   {
    "duration": 0,
    "start_time": "2022-09-10T21:30:44.869Z"
   },
   {
    "duration": 0,
    "start_time": "2022-09-10T21:30:44.870Z"
   },
   {
    "duration": 0,
    "start_time": "2022-09-10T21:30:44.871Z"
   },
   {
    "duration": 0,
    "start_time": "2022-09-10T21:30:44.872Z"
   },
   {
    "duration": 0,
    "start_time": "2022-09-10T21:30:44.872Z"
   },
   {
    "duration": 0,
    "start_time": "2022-09-10T21:30:44.874Z"
   },
   {
    "duration": 0,
    "start_time": "2022-09-10T21:30:44.875Z"
   },
   {
    "duration": 0,
    "start_time": "2022-09-10T21:30:44.876Z"
   },
   {
    "duration": 0,
    "start_time": "2022-09-10T21:30:44.877Z"
   },
   {
    "duration": 0,
    "start_time": "2022-09-10T21:30:44.878Z"
   },
   {
    "duration": 0,
    "start_time": "2022-09-10T21:30:44.879Z"
   },
   {
    "duration": 0,
    "start_time": "2022-09-10T21:30:44.880Z"
   },
   {
    "duration": 20,
    "start_time": "2022-09-10T21:31:08.089Z"
   },
   {
    "duration": 14,
    "start_time": "2022-09-10T21:31:38.138Z"
   },
   {
    "duration": 21,
    "start_time": "2022-09-10T21:34:06.843Z"
   },
   {
    "duration": 17,
    "start_time": "2022-09-10T21:35:05.022Z"
   },
   {
    "duration": 18,
    "start_time": "2022-09-10T21:35:21.300Z"
   },
   {
    "duration": 15,
    "start_time": "2022-09-10T21:35:33.491Z"
   },
   {
    "duration": 1405,
    "start_time": "2022-09-10T21:36:09.928Z"
   },
   {
    "duration": 42,
    "start_time": "2022-09-10T21:36:11.334Z"
   },
   {
    "duration": 16,
    "start_time": "2022-09-10T21:36:11.377Z"
   },
   {
    "duration": 18,
    "start_time": "2022-09-10T21:36:11.395Z"
   },
   {
    "duration": 39,
    "start_time": "2022-09-10T21:36:11.415Z"
   },
   {
    "duration": 9,
    "start_time": "2022-09-10T21:36:11.456Z"
   },
   {
    "duration": 14,
    "start_time": "2022-09-10T21:36:11.467Z"
   },
   {
    "duration": 4,
    "start_time": "2022-09-10T21:36:11.482Z"
   },
   {
    "duration": 20,
    "start_time": "2022-09-10T21:36:11.487Z"
   },
   {
    "duration": 8,
    "start_time": "2022-09-10T21:36:11.508Z"
   },
   {
    "duration": 25,
    "start_time": "2022-09-10T21:36:11.517Z"
   },
   {
    "duration": 131,
    "start_time": "2022-09-10T21:36:11.544Z"
   },
   {
    "duration": 0,
    "start_time": "2022-09-10T21:36:11.676Z"
   },
   {
    "duration": 1,
    "start_time": "2022-09-10T21:36:11.677Z"
   },
   {
    "duration": 0,
    "start_time": "2022-09-10T21:36:11.679Z"
   },
   {
    "duration": 0,
    "start_time": "2022-09-10T21:36:11.680Z"
   },
   {
    "duration": 0,
    "start_time": "2022-09-10T21:36:11.681Z"
   },
   {
    "duration": 0,
    "start_time": "2022-09-10T21:36:11.682Z"
   },
   {
    "duration": 0,
    "start_time": "2022-09-10T21:36:11.683Z"
   },
   {
    "duration": 0,
    "start_time": "2022-09-10T21:36:11.684Z"
   },
   {
    "duration": 0,
    "start_time": "2022-09-10T21:36:11.685Z"
   },
   {
    "duration": 0,
    "start_time": "2022-09-10T21:36:11.686Z"
   },
   {
    "duration": 0,
    "start_time": "2022-09-10T21:36:11.687Z"
   },
   {
    "duration": 0,
    "start_time": "2022-09-10T21:36:11.688Z"
   },
   {
    "duration": 0,
    "start_time": "2022-09-10T21:36:11.689Z"
   },
   {
    "duration": 0,
    "start_time": "2022-09-10T21:36:11.690Z"
   },
   {
    "duration": 0,
    "start_time": "2022-09-10T21:36:11.691Z"
   },
   {
    "duration": 0,
    "start_time": "2022-09-10T21:36:11.692Z"
   },
   {
    "duration": 0,
    "start_time": "2022-09-10T21:36:11.693Z"
   },
   {
    "duration": 7,
    "start_time": "2022-09-10T21:36:55.460Z"
   },
   {
    "duration": 15,
    "start_time": "2022-09-10T21:38:20.617Z"
   },
   {
    "duration": 15,
    "start_time": "2022-09-10T21:38:55.907Z"
   },
   {
    "duration": 15,
    "start_time": "2022-09-10T21:39:22.714Z"
   },
   {
    "duration": 18,
    "start_time": "2022-09-10T21:40:02.090Z"
   },
   {
    "duration": 1361,
    "start_time": "2022-09-10T21:40:19.901Z"
   },
   {
    "duration": 41,
    "start_time": "2022-09-10T21:40:21.264Z"
   },
   {
    "duration": 16,
    "start_time": "2022-09-10T21:40:21.306Z"
   },
   {
    "duration": 12,
    "start_time": "2022-09-10T21:40:21.324Z"
   },
   {
    "duration": 38,
    "start_time": "2022-09-10T21:40:21.338Z"
   },
   {
    "duration": 6,
    "start_time": "2022-09-10T21:40:21.378Z"
   },
   {
    "duration": 14,
    "start_time": "2022-09-10T21:40:21.386Z"
   },
   {
    "duration": 4,
    "start_time": "2022-09-10T21:40:21.401Z"
   },
   {
    "duration": 43,
    "start_time": "2022-09-10T21:40:21.406Z"
   },
   {
    "duration": 19,
    "start_time": "2022-09-10T21:40:21.451Z"
   },
   {
    "duration": 7,
    "start_time": "2022-09-10T21:40:21.471Z"
   },
   {
    "duration": 116,
    "start_time": "2022-09-10T21:40:21.480Z"
   },
   {
    "duration": 0,
    "start_time": "2022-09-10T21:40:21.598Z"
   },
   {
    "duration": 0,
    "start_time": "2022-09-10T21:40:21.599Z"
   },
   {
    "duration": 0,
    "start_time": "2022-09-10T21:40:21.600Z"
   },
   {
    "duration": 0,
    "start_time": "2022-09-10T21:40:21.601Z"
   },
   {
    "duration": 0,
    "start_time": "2022-09-10T21:40:21.602Z"
   },
   {
    "duration": 0,
    "start_time": "2022-09-10T21:40:21.603Z"
   },
   {
    "duration": 0,
    "start_time": "2022-09-10T21:40:21.604Z"
   },
   {
    "duration": 0,
    "start_time": "2022-09-10T21:40:21.605Z"
   },
   {
    "duration": 0,
    "start_time": "2022-09-10T21:40:21.606Z"
   },
   {
    "duration": 0,
    "start_time": "2022-09-10T21:40:21.607Z"
   },
   {
    "duration": 0,
    "start_time": "2022-09-10T21:40:21.608Z"
   },
   {
    "duration": 0,
    "start_time": "2022-09-10T21:40:21.609Z"
   },
   {
    "duration": 0,
    "start_time": "2022-09-10T21:40:21.610Z"
   },
   {
    "duration": 0,
    "start_time": "2022-09-10T21:40:21.611Z"
   },
   {
    "duration": 0,
    "start_time": "2022-09-10T21:40:21.637Z"
   },
   {
    "duration": 0,
    "start_time": "2022-09-10T21:40:21.638Z"
   },
   {
    "duration": 0,
    "start_time": "2022-09-10T21:40:21.639Z"
   },
   {
    "duration": 1433,
    "start_time": "2022-09-10T21:40:38.450Z"
   },
   {
    "duration": 42,
    "start_time": "2022-09-10T21:40:39.885Z"
   },
   {
    "duration": 20,
    "start_time": "2022-09-10T21:40:39.928Z"
   },
   {
    "duration": 15,
    "start_time": "2022-09-10T21:40:39.950Z"
   },
   {
    "duration": 39,
    "start_time": "2022-09-10T21:40:39.967Z"
   },
   {
    "duration": 7,
    "start_time": "2022-09-10T21:40:40.007Z"
   },
   {
    "duration": 15,
    "start_time": "2022-09-10T21:40:40.037Z"
   },
   {
    "duration": 4,
    "start_time": "2022-09-10T21:40:40.054Z"
   },
   {
    "duration": 24,
    "start_time": "2022-09-10T21:40:40.060Z"
   },
   {
    "duration": 14,
    "start_time": "2022-09-10T21:40:40.085Z"
   },
   {
    "duration": 11,
    "start_time": "2022-09-10T21:40:40.101Z"
   },
   {
    "duration": 157,
    "start_time": "2022-09-10T21:40:40.114Z"
   },
   {
    "duration": 0,
    "start_time": "2022-09-10T21:40:40.274Z"
   },
   {
    "duration": 0,
    "start_time": "2022-09-10T21:40:40.275Z"
   },
   {
    "duration": 0,
    "start_time": "2022-09-10T21:40:40.277Z"
   },
   {
    "duration": 0,
    "start_time": "2022-09-10T21:40:40.278Z"
   },
   {
    "duration": 0,
    "start_time": "2022-09-10T21:40:40.279Z"
   },
   {
    "duration": 0,
    "start_time": "2022-09-10T21:40:40.281Z"
   },
   {
    "duration": 0,
    "start_time": "2022-09-10T21:40:40.282Z"
   },
   {
    "duration": 0,
    "start_time": "2022-09-10T21:40:40.283Z"
   },
   {
    "duration": 0,
    "start_time": "2022-09-10T21:40:40.284Z"
   },
   {
    "duration": 0,
    "start_time": "2022-09-10T21:40:40.286Z"
   },
   {
    "duration": 0,
    "start_time": "2022-09-10T21:40:40.287Z"
   },
   {
    "duration": 0,
    "start_time": "2022-09-10T21:40:40.289Z"
   },
   {
    "duration": 0,
    "start_time": "2022-09-10T21:40:40.290Z"
   },
   {
    "duration": 0,
    "start_time": "2022-09-10T21:40:40.292Z"
   },
   {
    "duration": 0,
    "start_time": "2022-09-10T21:40:40.293Z"
   },
   {
    "duration": 0,
    "start_time": "2022-09-10T21:40:40.295Z"
   },
   {
    "duration": 0,
    "start_time": "2022-09-10T21:40:40.296Z"
   },
   {
    "duration": 23,
    "start_time": "2022-09-10T21:42:14.731Z"
   },
   {
    "duration": 16,
    "start_time": "2022-09-10T21:42:28.567Z"
   },
   {
    "duration": 14,
    "start_time": "2022-09-10T21:42:36.104Z"
   },
   {
    "duration": 15,
    "start_time": "2022-09-10T21:43:24.479Z"
   },
   {
    "duration": 19,
    "start_time": "2022-09-10T21:43:28.830Z"
   },
   {
    "duration": 5,
    "start_time": "2022-09-10T21:43:40.414Z"
   },
   {
    "duration": 58,
    "start_time": "2022-09-10T21:43:51.309Z"
   },
   {
    "duration": 31,
    "start_time": "2022-09-10T21:43:56.334Z"
   },
   {
    "duration": 15,
    "start_time": "2022-09-10T21:44:36.886Z"
   },
   {
    "duration": 6,
    "start_time": "2022-09-10T21:44:43.829Z"
   },
   {
    "duration": 5,
    "start_time": "2022-09-10T21:44:49.213Z"
   },
   {
    "duration": 6,
    "start_time": "2022-09-10T21:45:32.426Z"
   },
   {
    "duration": 11,
    "start_time": "2022-09-10T21:45:32.433Z"
   },
   {
    "duration": 25,
    "start_time": "2022-09-10T21:45:32.446Z"
   },
   {
    "duration": 19,
    "start_time": "2022-09-10T21:45:32.473Z"
   },
   {
    "duration": 0,
    "start_time": "2022-09-10T21:45:32.494Z"
   },
   {
    "duration": 0,
    "start_time": "2022-09-10T21:45:32.495Z"
   },
   {
    "duration": 0,
    "start_time": "2022-09-10T21:45:32.496Z"
   },
   {
    "duration": 0,
    "start_time": "2022-09-10T21:45:32.498Z"
   },
   {
    "duration": 0,
    "start_time": "2022-09-10T21:45:32.499Z"
   },
   {
    "duration": 0,
    "start_time": "2022-09-10T21:45:32.500Z"
   },
   {
    "duration": 0,
    "start_time": "2022-09-10T21:45:32.501Z"
   },
   {
    "duration": 0,
    "start_time": "2022-09-10T21:45:32.503Z"
   },
   {
    "duration": 0,
    "start_time": "2022-09-10T21:45:32.504Z"
   },
   {
    "duration": 0,
    "start_time": "2022-09-10T21:45:32.505Z"
   },
   {
    "duration": 0,
    "start_time": "2022-09-10T21:45:32.506Z"
   },
   {
    "duration": 0,
    "start_time": "2022-09-10T21:45:32.507Z"
   },
   {
    "duration": 0,
    "start_time": "2022-09-10T21:45:32.509Z"
   },
   {
    "duration": 23,
    "start_time": "2022-09-10T21:50:05.526Z"
   },
   {
    "duration": 18,
    "start_time": "2022-09-10T21:51:01.202Z"
   },
   {
    "duration": 45,
    "start_time": "2022-09-10T21:51:19.184Z"
   },
   {
    "duration": 12,
    "start_time": "2022-09-10T21:51:25.199Z"
   },
   {
    "duration": 21,
    "start_time": "2022-09-10T21:51:45.937Z"
   },
   {
    "duration": 19,
    "start_time": "2022-09-10T21:54:42.987Z"
   },
   {
    "duration": 17,
    "start_time": "2022-09-10T21:54:57.852Z"
   },
   {
    "duration": 16,
    "start_time": "2022-09-10T21:55:22.781Z"
   },
   {
    "duration": 2,
    "start_time": "2022-09-10T22:00:14.849Z"
   },
   {
    "duration": 11,
    "start_time": "2022-09-10T22:00:27.112Z"
   },
   {
    "duration": 17,
    "start_time": "2022-09-10T22:00:42.936Z"
   },
   {
    "duration": 31,
    "start_time": "2022-09-10T22:01:02.480Z"
   },
   {
    "duration": 29,
    "start_time": "2022-09-10T22:01:35.491Z"
   },
   {
    "duration": 9,
    "start_time": "2022-09-10T22:01:38.256Z"
   },
   {
    "duration": 23,
    "start_time": "2022-09-10T22:03:47.153Z"
   },
   {
    "duration": 22,
    "start_time": "2022-09-10T22:04:00.669Z"
   },
   {
    "duration": 16,
    "start_time": "2022-09-10T22:05:33.902Z"
   },
   {
    "duration": 17,
    "start_time": "2022-09-10T22:08:11.096Z"
   },
   {
    "duration": 21,
    "start_time": "2022-09-10T22:08:23.413Z"
   },
   {
    "duration": 18,
    "start_time": "2022-09-10T22:10:26.065Z"
   },
   {
    "duration": 18,
    "start_time": "2022-09-10T22:11:38.320Z"
   },
   {
    "duration": 1517,
    "start_time": "2022-09-10T22:12:38.616Z"
   },
   {
    "duration": 44,
    "start_time": "2022-09-10T22:12:40.136Z"
   },
   {
    "duration": 16,
    "start_time": "2022-09-10T22:12:40.182Z"
   },
   {
    "duration": 22,
    "start_time": "2022-09-10T22:12:40.200Z"
   },
   {
    "duration": 55,
    "start_time": "2022-09-10T22:12:40.223Z"
   },
   {
    "duration": 6,
    "start_time": "2022-09-10T22:12:40.280Z"
   },
   {
    "duration": 24,
    "start_time": "2022-09-10T22:12:40.288Z"
   },
   {
    "duration": 4,
    "start_time": "2022-09-10T22:12:40.314Z"
   },
   {
    "duration": 32,
    "start_time": "2022-09-10T22:12:40.319Z"
   },
   {
    "duration": 7,
    "start_time": "2022-09-10T22:12:40.353Z"
   },
   {
    "duration": 6,
    "start_time": "2022-09-10T22:12:40.362Z"
   },
   {
    "duration": 14,
    "start_time": "2022-09-10T22:12:40.369Z"
   },
   {
    "duration": 5,
    "start_time": "2022-09-10T22:12:40.385Z"
   },
   {
    "duration": 8,
    "start_time": "2022-09-10T22:12:40.392Z"
   },
   {
    "duration": 10,
    "start_time": "2022-09-10T22:12:40.401Z"
   },
   {
    "duration": 25,
    "start_time": "2022-09-10T22:12:40.413Z"
   },
   {
    "duration": 139,
    "start_time": "2022-09-10T22:12:40.440Z"
   },
   {
    "duration": 0,
    "start_time": "2022-09-10T22:12:40.580Z"
   },
   {
    "duration": 0,
    "start_time": "2022-09-10T22:12:40.582Z"
   },
   {
    "duration": 0,
    "start_time": "2022-09-10T22:12:40.583Z"
   },
   {
    "duration": 0,
    "start_time": "2022-09-10T22:12:40.584Z"
   },
   {
    "duration": 0,
    "start_time": "2022-09-10T22:12:40.585Z"
   },
   {
    "duration": 0,
    "start_time": "2022-09-10T22:12:40.586Z"
   },
   {
    "duration": 0,
    "start_time": "2022-09-10T22:12:40.587Z"
   },
   {
    "duration": 0,
    "start_time": "2022-09-10T22:12:40.587Z"
   },
   {
    "duration": 0,
    "start_time": "2022-09-10T22:12:40.588Z"
   },
   {
    "duration": 0,
    "start_time": "2022-09-10T22:12:40.589Z"
   },
   {
    "duration": 0,
    "start_time": "2022-09-10T22:12:40.590Z"
   },
   {
    "duration": 0,
    "start_time": "2022-09-10T22:12:40.591Z"
   },
   {
    "duration": 0,
    "start_time": "2022-09-10T22:12:40.592Z"
   },
   {
    "duration": 29,
    "start_time": "2022-09-10T22:13:58.787Z"
   },
   {
    "duration": 27,
    "start_time": "2022-09-10T22:14:13.386Z"
   },
   {
    "duration": 6,
    "start_time": "2022-09-10T22:14:18.556Z"
   },
   {
    "duration": 26,
    "start_time": "2022-09-10T22:14:20.915Z"
   },
   {
    "duration": 26,
    "start_time": "2022-09-10T22:14:59.099Z"
   },
   {
    "duration": 26,
    "start_time": "2022-09-10T22:15:03.987Z"
   },
   {
    "duration": 13,
    "start_time": "2022-09-10T22:15:26.291Z"
   },
   {
    "duration": 12,
    "start_time": "2022-09-10T22:15:29.754Z"
   },
   {
    "duration": 12,
    "start_time": "2022-09-10T22:15:35.194Z"
   },
   {
    "duration": 3,
    "start_time": "2022-09-10T22:15:49.610Z"
   },
   {
    "duration": 1403,
    "start_time": "2022-09-10T22:15:56.582Z"
   },
   {
    "duration": 41,
    "start_time": "2022-09-10T22:15:57.986Z"
   },
   {
    "duration": 15,
    "start_time": "2022-09-10T22:15:58.029Z"
   },
   {
    "duration": 12,
    "start_time": "2022-09-10T22:15:58.046Z"
   },
   {
    "duration": 37,
    "start_time": "2022-09-10T22:15:58.061Z"
   },
   {
    "duration": 7,
    "start_time": "2022-09-10T22:15:58.099Z"
   },
   {
    "duration": 34,
    "start_time": "2022-09-10T22:15:58.108Z"
   },
   {
    "duration": 4,
    "start_time": "2022-09-10T22:15:58.144Z"
   },
   {
    "duration": 26,
    "start_time": "2022-09-10T22:15:58.149Z"
   },
   {
    "duration": 9,
    "start_time": "2022-09-10T22:15:58.177Z"
   },
   {
    "duration": 14,
    "start_time": "2022-09-10T22:15:58.188Z"
   },
   {
    "duration": 16,
    "start_time": "2022-09-10T22:15:58.203Z"
   },
   {
    "duration": 7,
    "start_time": "2022-09-10T22:15:58.221Z"
   },
   {
    "duration": 6,
    "start_time": "2022-09-10T22:15:58.236Z"
   },
   {
    "duration": 9,
    "start_time": "2022-09-10T22:15:58.244Z"
   },
   {
    "duration": 13,
    "start_time": "2022-09-10T22:15:58.255Z"
   },
   {
    "duration": 6,
    "start_time": "2022-09-10T22:15:58.270Z"
   },
   {
    "duration": 22,
    "start_time": "2022-09-10T22:15:58.277Z"
   },
   {
    "duration": 37,
    "start_time": "2022-09-10T22:15:58.301Z"
   },
   {
    "duration": 4,
    "start_time": "2022-09-10T22:15:58.340Z"
   },
   {
    "duration": 12,
    "start_time": "2022-09-10T22:15:58.346Z"
   },
   {
    "duration": 126,
    "start_time": "2022-09-10T22:15:58.360Z"
   },
   {
    "duration": 0,
    "start_time": "2022-09-10T22:15:58.488Z"
   },
   {
    "duration": 0,
    "start_time": "2022-09-10T22:15:58.489Z"
   },
   {
    "duration": 0,
    "start_time": "2022-09-10T22:15:58.491Z"
   },
   {
    "duration": 0,
    "start_time": "2022-09-10T22:15:58.492Z"
   },
   {
    "duration": 0,
    "start_time": "2022-09-10T22:15:58.492Z"
   },
   {
    "duration": 0,
    "start_time": "2022-09-10T22:15:58.493Z"
   },
   {
    "duration": 0,
    "start_time": "2022-09-10T22:15:58.495Z"
   },
   {
    "duration": 0,
    "start_time": "2022-09-10T22:15:58.496Z"
   },
   {
    "duration": 0,
    "start_time": "2022-09-10T22:15:58.496Z"
   },
   {
    "duration": 16,
    "start_time": "2022-09-10T22:16:35.433Z"
   },
   {
    "duration": 16,
    "start_time": "2022-09-10T22:17:33.021Z"
   },
   {
    "duration": 3,
    "start_time": "2022-09-10T22:21:47.906Z"
   },
   {
    "duration": 16,
    "start_time": "2022-09-10T22:21:49.237Z"
   },
   {
    "duration": 10,
    "start_time": "2022-09-10T22:37:09.385Z"
   },
   {
    "duration": 3,
    "start_time": "2022-09-10T22:37:46.722Z"
   },
   {
    "duration": 9,
    "start_time": "2022-09-10T22:38:12.625Z"
   },
   {
    "duration": 5,
    "start_time": "2022-09-10T22:38:38.938Z"
   },
   {
    "duration": 14,
    "start_time": "2022-09-10T22:39:37.407Z"
   },
   {
    "duration": 3,
    "start_time": "2022-09-10T22:39:54.232Z"
   },
   {
    "duration": 6,
    "start_time": "2022-09-10T22:40:18.920Z"
   },
   {
    "duration": 3,
    "start_time": "2022-09-10T22:40:46.950Z"
   },
   {
    "duration": 6,
    "start_time": "2022-09-10T22:40:47.654Z"
   },
   {
    "duration": 4,
    "start_time": "2022-09-10T22:43:16.404Z"
   },
   {
    "duration": 7,
    "start_time": "2022-09-10T22:43:31.747Z"
   },
   {
    "duration": 8,
    "start_time": "2022-09-10T22:43:41.852Z"
   },
   {
    "duration": 5,
    "start_time": "2022-09-10T22:44:24.083Z"
   },
   {
    "duration": 1384,
    "start_time": "2022-09-10T22:44:34.676Z"
   },
   {
    "duration": 41,
    "start_time": "2022-09-10T22:44:36.062Z"
   },
   {
    "duration": 16,
    "start_time": "2022-09-10T22:44:36.104Z"
   },
   {
    "duration": 12,
    "start_time": "2022-09-10T22:44:36.121Z"
   },
   {
    "duration": 36,
    "start_time": "2022-09-10T22:44:36.135Z"
   },
   {
    "duration": 7,
    "start_time": "2022-09-10T22:44:36.173Z"
   },
   {
    "duration": 12,
    "start_time": "2022-09-10T22:44:36.181Z"
   },
   {
    "duration": 4,
    "start_time": "2022-09-10T22:44:36.194Z"
   },
   {
    "duration": 7,
    "start_time": "2022-09-10T22:44:36.199Z"
   },
   {
    "duration": 7,
    "start_time": "2022-09-10T22:44:36.207Z"
   },
   {
    "duration": 21,
    "start_time": "2022-09-10T22:44:36.216Z"
   },
   {
    "duration": 4,
    "start_time": "2022-09-10T22:44:36.238Z"
   },
   {
    "duration": 11,
    "start_time": "2022-09-10T22:44:36.243Z"
   },
   {
    "duration": 7,
    "start_time": "2022-09-10T22:44:36.256Z"
   },
   {
    "duration": 6,
    "start_time": "2022-09-10T22:44:36.264Z"
   },
   {
    "duration": 8,
    "start_time": "2022-09-10T22:44:36.271Z"
   },
   {
    "duration": 8,
    "start_time": "2022-09-10T22:44:36.281Z"
   },
   {
    "duration": 5,
    "start_time": "2022-09-10T22:44:36.290Z"
   },
   {
    "duration": 46,
    "start_time": "2022-09-10T22:44:36.296Z"
   },
   {
    "duration": 4,
    "start_time": "2022-09-10T22:44:36.343Z"
   },
   {
    "duration": 5,
    "start_time": "2022-09-10T22:44:36.349Z"
   },
   {
    "duration": 118,
    "start_time": "2022-09-10T22:44:36.355Z"
   },
   {
    "duration": 0,
    "start_time": "2022-09-10T22:44:36.475Z"
   },
   {
    "duration": 0,
    "start_time": "2022-09-10T22:44:36.476Z"
   },
   {
    "duration": 0,
    "start_time": "2022-09-10T22:44:36.477Z"
   },
   {
    "duration": 0,
    "start_time": "2022-09-10T22:44:36.479Z"
   },
   {
    "duration": 0,
    "start_time": "2022-09-10T22:44:36.480Z"
   },
   {
    "duration": 0,
    "start_time": "2022-09-10T22:44:36.481Z"
   },
   {
    "duration": 0,
    "start_time": "2022-09-10T22:44:36.483Z"
   },
   {
    "duration": 0,
    "start_time": "2022-09-10T22:44:36.484Z"
   },
   {
    "duration": 0,
    "start_time": "2022-09-10T22:44:36.485Z"
   },
   {
    "duration": 5,
    "start_time": "2022-09-10T23:06:14.005Z"
   },
   {
    "duration": 6,
    "start_time": "2022-09-10T23:06:17.040Z"
   },
   {
    "duration": 6,
    "start_time": "2022-09-10T23:06:17.262Z"
   },
   {
    "duration": 7,
    "start_time": "2022-09-10T23:06:17.455Z"
   },
   {
    "duration": 8,
    "start_time": "2022-09-10T23:06:18.310Z"
   },
   {
    "duration": 5,
    "start_time": "2022-09-10T23:06:18.887Z"
   },
   {
    "duration": 17,
    "start_time": "2022-09-10T23:06:20.224Z"
   },
   {
    "duration": 3,
    "start_time": "2022-09-10T23:06:30.873Z"
   },
   {
    "duration": 33,
    "start_time": "2022-09-10T23:06:31.383Z"
   },
   {
    "duration": 59,
    "start_time": "2022-09-10T23:06:34.311Z"
   },
   {
    "duration": 9,
    "start_time": "2022-09-10T23:48:54.542Z"
   },
   {
    "duration": 10,
    "start_time": "2022-09-10T23:49:34.452Z"
   },
   {
    "duration": 3,
    "start_time": "2022-09-10T23:50:27.109Z"
   },
   {
    "duration": 64,
    "start_time": "2022-09-10T23:50:28.452Z"
   },
   {
    "duration": 21,
    "start_time": "2022-09-10T23:50:30.876Z"
   },
   {
    "duration": 407,
    "start_time": "2022-09-10T23:50:42.949Z"
   },
   {
    "duration": 146,
    "start_time": "2022-09-10T23:54:30.992Z"
   },
   {
    "duration": 5,
    "start_time": "2022-09-10T23:54:31.618Z"
   },
   {
    "duration": 9,
    "start_time": "2022-09-10T23:54:32.386Z"
   },
   {
    "duration": 4,
    "start_time": "2022-09-10T23:54:37.186Z"
   },
   {
    "duration": 4,
    "start_time": "2022-09-10T23:55:03.121Z"
   },
   {
    "duration": 1689,
    "start_time": "2022-09-11T15:54:44.457Z"
   }
  ],
  "kernelspec": {
   "display_name": "Python 3 (ipykernel)",
   "language": "python",
   "name": "python3"
  },
  "language_info": {
   "codemirror_mode": {
    "name": "ipython",
    "version": 3
   },
   "file_extension": ".py",
   "mimetype": "text/x-python",
   "name": "python",
   "nbconvert_exporter": "python",
   "pygments_lexer": "ipython3",
   "version": "3.9.5"
  },
  "toc": {
   "base_numbering": 1,
   "nav_menu": {},
   "number_sections": true,
   "sideBar": true,
   "skip_h1_title": true,
   "title_cell": "Table of Contents",
   "title_sidebar": "Contents",
   "toc_cell": false,
   "toc_position": {
    "height": "calc(100% - 180px)",
    "left": "10px",
    "top": "150px",
    "width": "165px"
   },
   "toc_section_display": true,
   "toc_window_display": true
  }
 },
 "nbformat": 4,
 "nbformat_minor": 2
}
