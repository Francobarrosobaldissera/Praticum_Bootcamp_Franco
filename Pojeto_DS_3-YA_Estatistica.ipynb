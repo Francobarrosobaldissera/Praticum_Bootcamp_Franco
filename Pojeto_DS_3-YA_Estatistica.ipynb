{
 "cells": [
  {
   "cell_type": "markdown",
   "metadata": {},
   "source": [
    "Este trabalho visa analisar  para a empresa de telecomunicações Megaline. TA empresa oferece aos seus cliente planos pré-pagos, Surf e Ultimate. O departamento comercial quer saber quais dos planos dão mais receita para ajustar o orçamento de publicidade.\n",
    "Você vai realizar uma primeira análise dos planos baseados em uma pequena seleção de clientes. Você terá dados de 500 clientes da Megaline: que clientes são, de onde eles são, qual plano usam, o número de chamadas que eles fizeram e mensagens que eles enviaram em 2018. O seu trabalho é analisar o comportamento dos clientes e determinar quais planos pré-pagos dão mais receita."
   ]
  },
  {
   "cell_type": "markdown",
   "metadata": {},
   "source": [
    "##  IMPORTANDO E EXPLORANDO DADOS "
   ]
  },
  {
   "cell_type": "code",
   "execution_count": 1,
   "metadata": {},
   "outputs": [],
   "source": [
    "import pandas as pd \n"
   ]
  },
  {
   "cell_type": "code",
   "execution_count": 2,
   "metadata": {},
   "outputs": [],
   "source": [
    "import scipy.stats  as spt "
   ]
  },
  {
   "cell_type": "code",
   "execution_count": 3,
   "metadata": {},
   "outputs": [],
   "source": [
    "df_calls= pd.read_csv('/datasets/megaline_calls.csv')\n",
    "df_internet= pd.read_csv('/datasets/megaline_internet.csv')\n",
    "df_messages= pd.read_csv('/datasets/megaline_messages.csv')\n",
    "df_plans= pd.read_csv('/datasets/megaline_plans.csv')\n",
    "df_users= pd.read_csv('/datasets/megaline_users.csv')\n",
    "\n",
    "\n"
   ]
  },
  {
   "cell_type": "code",
   "execution_count": 4,
   "metadata": {},
   "outputs": [],
   "source": [
    "df_geral = [[df_calls, df_internet, df_messages, df_plans,df_users  ]]"
   ]
  },
  {
   "cell_type": "markdown",
   "metadata": {},
   "source": [
    "### Calls Dataset"
   ]
  },
  {
   "cell_type": "code",
   "execution_count": 5,
   "metadata": {
    "scrolled": true
   },
   "outputs": [
    {
     "data": {
      "text/html": [
       "<div>\n",
       "<style scoped>\n",
       "    .dataframe tbody tr th:only-of-type {\n",
       "        vertical-align: middle;\n",
       "    }\n",
       "\n",
       "    .dataframe tbody tr th {\n",
       "        vertical-align: top;\n",
       "    }\n",
       "\n",
       "    .dataframe thead th {\n",
       "        text-align: right;\n",
       "    }\n",
       "</style>\n",
       "<table border=\"1\" class=\"dataframe\">\n",
       "  <thead>\n",
       "    <tr style=\"text-align: right;\">\n",
       "      <th></th>\n",
       "      <th>id</th>\n",
       "      <th>user_id</th>\n",
       "      <th>call_date</th>\n",
       "      <th>duration</th>\n",
       "    </tr>\n",
       "  </thead>\n",
       "  <tbody>\n",
       "    <tr>\n",
       "      <th>0</th>\n",
       "      <td>1000_93</td>\n",
       "      <td>1000</td>\n",
       "      <td>2018-12-27</td>\n",
       "      <td>8.52</td>\n",
       "    </tr>\n",
       "    <tr>\n",
       "      <th>1</th>\n",
       "      <td>1000_145</td>\n",
       "      <td>1000</td>\n",
       "      <td>2018-12-27</td>\n",
       "      <td>13.66</td>\n",
       "    </tr>\n",
       "    <tr>\n",
       "      <th>2</th>\n",
       "      <td>1000_247</td>\n",
       "      <td>1000</td>\n",
       "      <td>2018-12-27</td>\n",
       "      <td>14.48</td>\n",
       "    </tr>\n",
       "    <tr>\n",
       "      <th>3</th>\n",
       "      <td>1000_309</td>\n",
       "      <td>1000</td>\n",
       "      <td>2018-12-28</td>\n",
       "      <td>5.76</td>\n",
       "    </tr>\n",
       "    <tr>\n",
       "      <th>4</th>\n",
       "      <td>1000_380</td>\n",
       "      <td>1000</td>\n",
       "      <td>2018-12-30</td>\n",
       "      <td>4.22</td>\n",
       "    </tr>\n",
       "  </tbody>\n",
       "</table>\n",
       "</div>"
      ],
      "text/plain": [
       "         id  user_id   call_date  duration\n",
       "0   1000_93     1000  2018-12-27      8.52\n",
       "1  1000_145     1000  2018-12-27     13.66\n",
       "2  1000_247     1000  2018-12-27     14.48\n",
       "3  1000_309     1000  2018-12-28      5.76\n",
       "4  1000_380     1000  2018-12-30      4.22"
      ]
     },
     "execution_count": 5,
     "metadata": {},
     "output_type": "execute_result"
    }
   ],
   "source": [
    "df_calls.head(5)\n"
   ]
  },
  {
   "cell_type": "code",
   "execution_count": 6,
   "metadata": {
    "scrolled": true
   },
   "outputs": [
    {
     "name": "stdout",
     "output_type": "stream",
     "text": [
      "<class 'pandas.core.frame.DataFrame'>\n",
      "RangeIndex: 137735 entries, 0 to 137734\n",
      "Data columns (total 4 columns):\n",
      " #   Column     Non-Null Count   Dtype  \n",
      "---  ------     --------------   -----  \n",
      " 0   id         137735 non-null  object \n",
      " 1   user_id    137735 non-null  int64  \n",
      " 2   call_date  137735 non-null  object \n",
      " 3   duration   137735 non-null  float64\n",
      "dtypes: float64(1), int64(1), object(2)\n",
      "memory usage: 4.2+ MB\n"
     ]
    }
   ],
   "source": [
    "df_calls.info()\n"
   ]
  },
  {
   "cell_type": "code",
   "execution_count": 7,
   "metadata": {
    "scrolled": true
   },
   "outputs": [
    {
     "data": {
      "text/html": [
       "<div>\n",
       "<style scoped>\n",
       "    .dataframe tbody tr th:only-of-type {\n",
       "        vertical-align: middle;\n",
       "    }\n",
       "\n",
       "    .dataframe tbody tr th {\n",
       "        vertical-align: top;\n",
       "    }\n",
       "\n",
       "    .dataframe thead th {\n",
       "        text-align: right;\n",
       "    }\n",
       "</style>\n",
       "<table border=\"1\" class=\"dataframe\">\n",
       "  <thead>\n",
       "    <tr style=\"text-align: right;\">\n",
       "      <th></th>\n",
       "      <th>user_id</th>\n",
       "      <th>duration</th>\n",
       "    </tr>\n",
       "  </thead>\n",
       "  <tbody>\n",
       "    <tr>\n",
       "      <th>count</th>\n",
       "      <td>137735.000000</td>\n",
       "      <td>137735.000000</td>\n",
       "    </tr>\n",
       "    <tr>\n",
       "      <th>mean</th>\n",
       "      <td>1247.658046</td>\n",
       "      <td>6.745927</td>\n",
       "    </tr>\n",
       "    <tr>\n",
       "      <th>std</th>\n",
       "      <td>139.416268</td>\n",
       "      <td>5.839241</td>\n",
       "    </tr>\n",
       "    <tr>\n",
       "      <th>min</th>\n",
       "      <td>1000.000000</td>\n",
       "      <td>0.000000</td>\n",
       "    </tr>\n",
       "    <tr>\n",
       "      <th>25%</th>\n",
       "      <td>1128.000000</td>\n",
       "      <td>1.290000</td>\n",
       "    </tr>\n",
       "    <tr>\n",
       "      <th>50%</th>\n",
       "      <td>1247.000000</td>\n",
       "      <td>5.980000</td>\n",
       "    </tr>\n",
       "    <tr>\n",
       "      <th>75%</th>\n",
       "      <td>1365.000000</td>\n",
       "      <td>10.690000</td>\n",
       "    </tr>\n",
       "    <tr>\n",
       "      <th>max</th>\n",
       "      <td>1499.000000</td>\n",
       "      <td>37.600000</td>\n",
       "    </tr>\n",
       "  </tbody>\n",
       "</table>\n",
       "</div>"
      ],
      "text/plain": [
       "             user_id       duration\n",
       "count  137735.000000  137735.000000\n",
       "mean     1247.658046       6.745927\n",
       "std       139.416268       5.839241\n",
       "min      1000.000000       0.000000\n",
       "25%      1128.000000       1.290000\n",
       "50%      1247.000000       5.980000\n",
       "75%      1365.000000      10.690000\n",
       "max      1499.000000      37.600000"
      ]
     },
     "execution_count": 7,
     "metadata": {},
     "output_type": "execute_result"
    }
   ],
   "source": [
    "df_calls.describe()\n"
   ]
  },
  {
   "cell_type": "code",
   "execution_count": 8,
   "metadata": {
    "scrolled": true
   },
   "outputs": [
    {
     "data": {
      "text/plain": [
       "id           0\n",
       "user_id      0\n",
       "call_date    0\n",
       "duration     0\n",
       "dtype: int64"
      ]
     },
     "execution_count": 8,
     "metadata": {},
     "output_type": "execute_result"
    }
   ],
   "source": [
    "df_calls.isnull().sum()\n"
   ]
  },
  {
   "cell_type": "code",
   "execution_count": 9,
   "metadata": {
    "scrolled": false
   },
   "outputs": [
    {
     "data": {
      "text/plain": [
       "0"
      ]
     },
     "execution_count": 9,
     "metadata": {},
     "output_type": "execute_result"
    }
   ],
   "source": [
    "df_calls.duplicated().sum()"
   ]
  },
  {
   "cell_type": "code",
   "execution_count": 10,
   "metadata": {},
   "outputs": [
    {
     "data": {
      "text/plain": [
       "0         12\n",
       "1         12\n",
       "2         12\n",
       "3         12\n",
       "4         12\n",
       "          ..\n",
       "137730    11\n",
       "137731    10\n",
       "137732     9\n",
       "137733    10\n",
       "137734    12\n",
       "Name: month, Length: 137735, dtype: int64"
      ]
     },
     "execution_count": 10,
     "metadata": {},
     "output_type": "execute_result"
    }
   ],
   "source": [
    "df_calls['month'] = pd.DatetimeIndex(df_calls['call_date']).month\n",
    "df_calls['month']\n"
   ]
  },
  {
   "cell_type": "code",
   "execution_count": 11,
   "metadata": {
    "scrolled": true
   },
   "outputs": [
    {
     "data": {
      "text/plain": [
       "0          1000_93\n",
       "1         1000_145\n",
       "2         1000_247\n",
       "3         1000_309\n",
       "4         1000_380\n",
       "            ...   \n",
       "137730    1499_199\n",
       "137731    1499_200\n",
       "137732    1499_201\n",
       "137733    1499_202\n",
       "137734    1499_203\n",
       "Name: id, Length: 137735, dtype: object"
      ]
     },
     "execution_count": 11,
     "metadata": {},
     "output_type": "execute_result"
    }
   ],
   "source": [
    "df_calls['id_num']= df_calls['id'].astype(float)\n",
    "df_calls['id']"
   ]
  },
  {
   "cell_type": "code",
   "execution_count": 12,
   "metadata": {},
   "outputs": [],
   "source": [
    "df_calls['duration']= df_calls['duration'].round()  "
   ]
  },
  {
   "cell_type": "code",
   "execution_count": 13,
   "metadata": {
    "scrolled": true
   },
   "outputs": [
    {
     "data": {
      "text/plain": [
       "<AxesSubplot:>"
      ]
     },
     "execution_count": 13,
     "metadata": {},
     "output_type": "execute_result"
    },
    {
     "data": {
      "image/png": "[encoded data removed]",
      "text/plain": [
       "<Figure size 432x288 with 1 Axes>"
      ]
     },
     "metadata": {
      "needs_background": "light"
     },
     "output_type": "display_data"
    }
   ],
   "source": [
    "df_calls['month'].hist(bins=(12))"
   ]
  },
  {
   "cell_type": "code",
   "execution_count": 14,
   "metadata": {
    "scrolled": false
   },
   "outputs": [
    {
     "data": {
      "text/plain": [
       "<AxesSubplot:>"
      ]
     },
     "execution_count": 14,
     "metadata": {},
     "output_type": "execute_result"
    },
    {
     "data": {
      "image/png": "[encoded data removed]",
      "text/plain": [
       "<Figure size 432x288 with 1 Axes>"
      ]
     },
     "metadata": {
      "needs_background": "light"
     },
     "output_type": "display_data"
    }
   ],
   "source": [
    "df_calls.boxplot(column='duration')"
   ]
  },
  {
   "cell_type": "markdown",
   "metadata": {},
   "source": [
    "#### Observações sobre o dataset"
   ]
  },
  {
   "cell_type": "markdown",
   "metadata": {},
   "source": [
    " - A coluna com datas estão no formato Y-M-D, sendo assim se faaz necessário uma transformação para possibilitar uma analise do comportamento dos usuários por mês.\n",
    " - Transformação de algumas colunas para o type 'float'"
   ]
  },
  {
   "cell_type": "markdown",
   "metadata": {},
   "source": [
    "#### Agrupando os dados por usuário"
   ]
  },
  {
   "cell_type": "markdown",
   "metadata": {},
   "source": [
    "   - Para facilitar uma análise do comportamento dos usuários por mês, podemos utilizar a função pivot_table para agrupar as chamados por usuário/mês.\n",
    "   - Esta estapa também pode ser repetida nos demais datasets."
   ]
  },
  {
   "cell_type": "code",
   "execution_count": 15,
   "metadata": {},
   "outputs": [],
   "source": [
    "calls_pivot = df_calls.pivot_table(index = ['user_id', 'month'], values = 'duration', aggfunc = ['sum','count'])\n"
   ]
  },
  {
   "cell_type": "code",
   "execution_count": 16,
   "metadata": {},
   "outputs": [
    {
     "data": {
      "text/html": [
       "<div>\n",
       "<style scoped>\n",
       "    .dataframe tbody tr th:only-of-type {\n",
       "        vertical-align: middle;\n",
       "    }\n",
       "\n",
       "    .dataframe tbody tr th {\n",
       "        vertical-align: top;\n",
       "    }\n",
       "\n",
       "    .dataframe thead th {\n",
       "        text-align: right;\n",
       "    }\n",
       "</style>\n",
       "<table border=\"1\" class=\"dataframe\">\n",
       "  <thead>\n",
       "    <tr style=\"text-align: right;\">\n",
       "      <th></th>\n",
       "      <th></th>\n",
       "      <th>minutes_used</th>\n",
       "      <th>calls_made</th>\n",
       "    </tr>\n",
       "    <tr>\n",
       "      <th>user_id</th>\n",
       "      <th>month</th>\n",
       "      <th></th>\n",
       "      <th></th>\n",
       "    </tr>\n",
       "  </thead>\n",
       "  <tbody>\n",
       "    <tr>\n",
       "      <th>1000</th>\n",
       "      <th>12</th>\n",
       "      <td>117.0</td>\n",
       "      <td>16</td>\n",
       "    </tr>\n",
       "    <tr>\n",
       "      <th rowspan=\"4\" valign=\"top\">1001</th>\n",
       "      <th>8</th>\n",
       "      <td>173.0</td>\n",
       "      <td>27</td>\n",
       "    </tr>\n",
       "    <tr>\n",
       "      <th>9</th>\n",
       "      <td>297.0</td>\n",
       "      <td>49</td>\n",
       "    </tr>\n",
       "    <tr>\n",
       "      <th>10</th>\n",
       "      <td>374.0</td>\n",
       "      <td>65</td>\n",
       "    </tr>\n",
       "    <tr>\n",
       "      <th>11</th>\n",
       "      <td>404.0</td>\n",
       "      <td>64</td>\n",
       "    </tr>\n",
       "  </tbody>\n",
       "</table>\n",
       "</div>"
      ],
      "text/plain": [
       "               minutes_used  calls_made\n",
       "user_id month                          \n",
       "1000    12            117.0          16\n",
       "1001    8             173.0          27\n",
       "        9             297.0          49\n",
       "        10            374.0          65\n",
       "        11            404.0          64"
      ]
     },
     "execution_count": 16,
     "metadata": {},
     "output_type": "execute_result"
    }
   ],
   "source": [
    "calls_pivot.columns = ['minutes_used', 'calls_made']\n",
    "calls_pivot.head()"
   ]
  },
  {
   "cell_type": "markdown",
   "metadata": {},
   "source": [
    "   ### Messages Dataset"
   ]
  },
  {
   "cell_type": "code",
   "execution_count": 17,
   "metadata": {
    "scrolled": true
   },
   "outputs": [
    {
     "name": "stdout",
     "output_type": "stream",
     "text": [
      "<class 'pandas.core.frame.DataFrame'>\n",
      "RangeIndex: 76051 entries, 0 to 76050\n",
      "Data columns (total 3 columns):\n",
      " #   Column        Non-Null Count  Dtype \n",
      "---  ------        --------------  ----- \n",
      " 0   id            76051 non-null  object\n",
      " 1   user_id       76051 non-null  int64 \n",
      " 2   message_date  76051 non-null  object\n",
      "dtypes: int64(1), object(2)\n",
      "memory usage: 1.7+ MB\n"
     ]
    }
   ],
   "source": [
    "df_messages.info()\n"
   ]
  },
  {
   "cell_type": "code",
   "execution_count": 18,
   "metadata": {
    "scrolled": false
   },
   "outputs": [
    {
     "data": {
      "text/html": [
       "<div>\n",
       "<style scoped>\n",
       "    .dataframe tbody tr th:only-of-type {\n",
       "        vertical-align: middle;\n",
       "    }\n",
       "\n",
       "    .dataframe tbody tr th {\n",
       "        vertical-align: top;\n",
       "    }\n",
       "\n",
       "    .dataframe thead th {\n",
       "        text-align: right;\n",
       "    }\n",
       "</style>\n",
       "<table border=\"1\" class=\"dataframe\">\n",
       "  <thead>\n",
       "    <tr style=\"text-align: right;\">\n",
       "      <th></th>\n",
       "      <th>id</th>\n",
       "      <th>user_id</th>\n",
       "      <th>message_date</th>\n",
       "    </tr>\n",
       "  </thead>\n",
       "  <tbody>\n",
       "    <tr>\n",
       "      <th>0</th>\n",
       "      <td>1000_125</td>\n",
       "      <td>1000</td>\n",
       "      <td>2018-12-27</td>\n",
       "    </tr>\n",
       "    <tr>\n",
       "      <th>1</th>\n",
       "      <td>1000_160</td>\n",
       "      <td>1000</td>\n",
       "      <td>2018-12-31</td>\n",
       "    </tr>\n",
       "    <tr>\n",
       "      <th>2</th>\n",
       "      <td>1000_223</td>\n",
       "      <td>1000</td>\n",
       "      <td>2018-12-31</td>\n",
       "    </tr>\n",
       "  </tbody>\n",
       "</table>\n",
       "</div>"
      ],
      "text/plain": [
       "         id  user_id message_date\n",
       "0  1000_125     1000   2018-12-27\n",
       "1  1000_160     1000   2018-12-31\n",
       "2  1000_223     1000   2018-12-31"
      ]
     },
     "execution_count": 18,
     "metadata": {},
     "output_type": "execute_result"
    }
   ],
   "source": [
    "df_messages.head(3)\n"
   ]
  },
  {
   "cell_type": "code",
   "execution_count": 19,
   "metadata": {},
   "outputs": [
    {
     "data": {
      "text/plain": [
       "id              0\n",
       "user_id         0\n",
       "message_date    0\n",
       "dtype: int64"
      ]
     },
     "execution_count": 19,
     "metadata": {},
     "output_type": "execute_result"
    }
   ],
   "source": [
    "df_messages.isnull().sum()\n"
   ]
  },
  {
   "cell_type": "code",
   "execution_count": 20,
   "metadata": {},
   "outputs": [
    {
     "data": {
      "text/plain": [
       "0"
      ]
     },
     "execution_count": 20,
     "metadata": {},
     "output_type": "execute_result"
    }
   ],
   "source": [
    "df_messages.duplicated().sum()"
   ]
  },
  {
   "cell_type": "code",
   "execution_count": 21,
   "metadata": {
    "scrolled": true
   },
   "outputs": [],
   "source": [
    "df_messages['month'] = pd.DatetimeIndex(df_messages['message_date']).month\n"
   ]
  },
  {
   "cell_type": "code",
   "execution_count": 22,
   "metadata": {
    "scrolled": false
   },
   "outputs": [],
   "source": [
    "messag_pivo= df_messages.pivot_table(index=['user_id','month' ], values='id', aggfunc='count')\n"
   ]
  },
  {
   "cell_type": "code",
   "execution_count": 23,
   "metadata": {},
   "outputs": [],
   "source": [
    " messag_pivo.columns= ['messages_made']"
   ]
  },
  {
   "cell_type": "code",
   "execution_count": 24,
   "metadata": {
    "scrolled": false
   },
   "outputs": [
    {
     "data": {
      "text/html": [
       "<div>\n",
       "<style scoped>\n",
       "    .dataframe tbody tr th:only-of-type {\n",
       "        vertical-align: middle;\n",
       "    }\n",
       "\n",
       "    .dataframe tbody tr th {\n",
       "        vertical-align: top;\n",
       "    }\n",
       "\n",
       "    .dataframe thead th {\n",
       "        text-align: right;\n",
       "    }\n",
       "</style>\n",
       "<table border=\"1\" class=\"dataframe\">\n",
       "  <thead>\n",
       "    <tr style=\"text-align: right;\">\n",
       "      <th></th>\n",
       "      <th></th>\n",
       "      <th>messages_made</th>\n",
       "    </tr>\n",
       "    <tr>\n",
       "      <th>user_id</th>\n",
       "      <th>month</th>\n",
       "      <th></th>\n",
       "    </tr>\n",
       "  </thead>\n",
       "  <tbody>\n",
       "    <tr>\n",
       "      <th>1000</th>\n",
       "      <th>12</th>\n",
       "      <td>11</td>\n",
       "    </tr>\n",
       "    <tr>\n",
       "      <th rowspan=\"2\" valign=\"top\">1001</th>\n",
       "      <th>8</th>\n",
       "      <td>30</td>\n",
       "    </tr>\n",
       "    <tr>\n",
       "      <th>9</th>\n",
       "      <td>44</td>\n",
       "    </tr>\n",
       "  </tbody>\n",
       "</table>\n",
       "</div>"
      ],
      "text/plain": [
       "               messages_made\n",
       "user_id month               \n",
       "1000    12                11\n",
       "1001    8                 30\n",
       "        9                 44"
      ]
     },
     "execution_count": 24,
     "metadata": {},
     "output_type": "execute_result"
    }
   ],
   "source": [
    "messag_pivo.head(3)"
   ]
  },
  {
   "cell_type": "markdown",
   "metadata": {},
   "source": [
    "   ### Users Dataset"
   ]
  },
  {
   "cell_type": "code",
   "execution_count": 25,
   "metadata": {
    "scrolled": true
   },
   "outputs": [
    {
     "data": {
      "text/html": [
       "<div>\n",
       "<style scoped>\n",
       "    .dataframe tbody tr th:only-of-type {\n",
       "        vertical-align: middle;\n",
       "    }\n",
       "\n",
       "    .dataframe tbody tr th {\n",
       "        vertical-align: top;\n",
       "    }\n",
       "\n",
       "    .dataframe thead th {\n",
       "        text-align: right;\n",
       "    }\n",
       "</style>\n",
       "<table border=\"1\" class=\"dataframe\">\n",
       "  <thead>\n",
       "    <tr style=\"text-align: right;\">\n",
       "      <th></th>\n",
       "      <th>user_id</th>\n",
       "      <th>first_name</th>\n",
       "      <th>last_name</th>\n",
       "      <th>age</th>\n",
       "      <th>city</th>\n",
       "      <th>reg_date</th>\n",
       "      <th>plan</th>\n",
       "      <th>churn_date</th>\n",
       "    </tr>\n",
       "  </thead>\n",
       "  <tbody>\n",
       "    <tr>\n",
       "      <th>0</th>\n",
       "      <td>1000</td>\n",
       "      <td>Anamaria</td>\n",
       "      <td>Bauer</td>\n",
       "      <td>45</td>\n",
       "      <td>Atlanta-Sandy Springs-Roswell, GA MSA</td>\n",
       "      <td>2018-12-24</td>\n",
       "      <td>ultimate</td>\n",
       "      <td>NaN</td>\n",
       "    </tr>\n",
       "    <tr>\n",
       "      <th>1</th>\n",
       "      <td>1001</td>\n",
       "      <td>Mickey</td>\n",
       "      <td>Wilkerson</td>\n",
       "      <td>28</td>\n",
       "      <td>Seattle-Tacoma-Bellevue, WA MSA</td>\n",
       "      <td>2018-08-13</td>\n",
       "      <td>surf</td>\n",
       "      <td>NaN</td>\n",
       "    </tr>\n",
       "    <tr>\n",
       "      <th>2</th>\n",
       "      <td>1002</td>\n",
       "      <td>Carlee</td>\n",
       "      <td>Hoffman</td>\n",
       "      <td>36</td>\n",
       "      <td>Las Vegas-Henderson-Paradise, NV MSA</td>\n",
       "      <td>2018-10-21</td>\n",
       "      <td>surf</td>\n",
       "      <td>NaN</td>\n",
       "    </tr>\n",
       "    <tr>\n",
       "      <th>3</th>\n",
       "      <td>1003</td>\n",
       "      <td>Reynaldo</td>\n",
       "      <td>Jenkins</td>\n",
       "      <td>52</td>\n",
       "      <td>Tulsa, OK MSA</td>\n",
       "      <td>2018-01-28</td>\n",
       "      <td>surf</td>\n",
       "      <td>NaN</td>\n",
       "    </tr>\n",
       "    <tr>\n",
       "      <th>4</th>\n",
       "      <td>1004</td>\n",
       "      <td>Leonila</td>\n",
       "      <td>Thompson</td>\n",
       "      <td>40</td>\n",
       "      <td>Seattle-Tacoma-Bellevue, WA MSA</td>\n",
       "      <td>2018-05-23</td>\n",
       "      <td>surf</td>\n",
       "      <td>NaN</td>\n",
       "    </tr>\n",
       "  </tbody>\n",
       "</table>\n",
       "</div>"
      ],
      "text/plain": [
       "   user_id first_name  last_name  age                                   city  \\\n",
       "0     1000   Anamaria      Bauer   45  Atlanta-Sandy Springs-Roswell, GA MSA   \n",
       "1     1001     Mickey  Wilkerson   28        Seattle-Tacoma-Bellevue, WA MSA   \n",
       "2     1002     Carlee    Hoffman   36   Las Vegas-Henderson-Paradise, NV MSA   \n",
       "3     1003   Reynaldo    Jenkins   52                          Tulsa, OK MSA   \n",
       "4     1004    Leonila   Thompson   40        Seattle-Tacoma-Bellevue, WA MSA   \n",
       "\n",
       "     reg_date      plan churn_date  \n",
       "0  2018-12-24  ultimate        NaN  \n",
       "1  2018-08-13      surf        NaN  \n",
       "2  2018-10-21      surf        NaN  \n",
       "3  2018-01-28      surf        NaN  \n",
       "4  2018-05-23      surf        NaN  "
      ]
     },
     "execution_count": 25,
     "metadata": {},
     "output_type": "execute_result"
    }
   ],
   "source": [
    "df_users.head(5)"
   ]
  },
  {
   "cell_type": "code",
   "execution_count": 26,
   "metadata": {},
   "outputs": [
    {
     "name": "stdout",
     "output_type": "stream",
     "text": [
      "<class 'pandas.core.frame.DataFrame'>\n",
      "RangeIndex: 500 entries, 0 to 499\n",
      "Data columns (total 8 columns):\n",
      " #   Column      Non-Null Count  Dtype \n",
      "---  ------      --------------  ----- \n",
      " 0   user_id     500 non-null    int64 \n",
      " 1   first_name  500 non-null    object\n",
      " 2   last_name   500 non-null    object\n",
      " 3   age         500 non-null    int64 \n",
      " 4   city        500 non-null    object\n",
      " 5   reg_date    500 non-null    object\n",
      " 6   plan        500 non-null    object\n",
      " 7   churn_date  34 non-null     object\n",
      "dtypes: int64(2), object(6)\n",
      "memory usage: 31.4+ KB\n"
     ]
    }
   ],
   "source": [
    "df_users.info()"
   ]
  },
  {
   "cell_type": "code",
   "execution_count": 27,
   "metadata": {
    "scrolled": true
   },
   "outputs": [
    {
     "data": {
      "text/plain": [
       "user_id         0\n",
       "first_name      0\n",
       "last_name       0\n",
       "age             0\n",
       "city            0\n",
       "reg_date        0\n",
       "plan            0\n",
       "churn_date    466\n",
       "dtype: int64"
      ]
     },
     "execution_count": 27,
     "metadata": {},
     "output_type": "execute_result"
    }
   ],
   "source": [
    "df_users.isnull().sum()"
   ]
  },
  {
   "cell_type": "code",
   "execution_count": 28,
   "metadata": {},
   "outputs": [
    {
     "data": {
      "text/html": [
       "<div>\n",
       "<style scoped>\n",
       "    .dataframe tbody tr th:only-of-type {\n",
       "        vertical-align: middle;\n",
       "    }\n",
       "\n",
       "    .dataframe tbody tr th {\n",
       "        vertical-align: top;\n",
       "    }\n",
       "\n",
       "    .dataframe thead th {\n",
       "        text-align: right;\n",
       "    }\n",
       "</style>\n",
       "<table border=\"1\" class=\"dataframe\">\n",
       "  <thead>\n",
       "    <tr style=\"text-align: right;\">\n",
       "      <th></th>\n",
       "      <th>user_id</th>\n",
       "      <th>age</th>\n",
       "    </tr>\n",
       "  </thead>\n",
       "  <tbody>\n",
       "    <tr>\n",
       "      <th>count</th>\n",
       "      <td>500.000000</td>\n",
       "      <td>500.000000</td>\n",
       "    </tr>\n",
       "    <tr>\n",
       "      <th>mean</th>\n",
       "      <td>1249.500000</td>\n",
       "      <td>45.486000</td>\n",
       "    </tr>\n",
       "    <tr>\n",
       "      <th>std</th>\n",
       "      <td>144.481833</td>\n",
       "      <td>16.972269</td>\n",
       "    </tr>\n",
       "    <tr>\n",
       "      <th>min</th>\n",
       "      <td>1000.000000</td>\n",
       "      <td>18.000000</td>\n",
       "    </tr>\n",
       "    <tr>\n",
       "      <th>25%</th>\n",
       "      <td>1124.750000</td>\n",
       "      <td>30.000000</td>\n",
       "    </tr>\n",
       "    <tr>\n",
       "      <th>50%</th>\n",
       "      <td>1249.500000</td>\n",
       "      <td>46.000000</td>\n",
       "    </tr>\n",
       "    <tr>\n",
       "      <th>75%</th>\n",
       "      <td>1374.250000</td>\n",
       "      <td>61.000000</td>\n",
       "    </tr>\n",
       "    <tr>\n",
       "      <th>max</th>\n",
       "      <td>1499.000000</td>\n",
       "      <td>75.000000</td>\n",
       "    </tr>\n",
       "  </tbody>\n",
       "</table>\n",
       "</div>"
      ],
      "text/plain": [
       "           user_id         age\n",
       "count   500.000000  500.000000\n",
       "mean   1249.500000   45.486000\n",
       "std     144.481833   16.972269\n",
       "min    1000.000000   18.000000\n",
       "25%    1124.750000   30.000000\n",
       "50%    1249.500000   46.000000\n",
       "75%    1374.250000   61.000000\n",
       "max    1499.000000   75.000000"
      ]
     },
     "execution_count": 28,
     "metadata": {},
     "output_type": "execute_result"
    }
   ],
   "source": [
    "df_users.describe()"
   ]
  },
  {
   "cell_type": "code",
   "execution_count": 29,
   "metadata": {},
   "outputs": [
    {
     "data": {
      "text/plain": [
       "0"
      ]
     },
     "execution_count": 29,
     "metadata": {},
     "output_type": "execute_result"
    }
   ],
   "source": [
    "df_users.duplicated().sum()"
   ]
  },
  {
   "cell_type": "code",
   "execution_count": 30,
   "metadata": {},
   "outputs": [],
   "source": [
    "df_users['month'] = pd.DatetimeIndex(df_users['reg_date']).month\n"
   ]
  },
  {
   "cell_type": "code",
   "execution_count": 31,
   "metadata": {
    "scrolled": true
   },
   "outputs": [
    {
     "data": {
      "text/html": [
       "<div>\n",
       "<style scoped>\n",
       "    .dataframe tbody tr th:only-of-type {\n",
       "        vertical-align: middle;\n",
       "    }\n",
       "\n",
       "    .dataframe tbody tr th {\n",
       "        vertical-align: top;\n",
       "    }\n",
       "\n",
       "    .dataframe thead th {\n",
       "        text-align: right;\n",
       "    }\n",
       "</style>\n",
       "<table border=\"1\" class=\"dataframe\">\n",
       "  <thead>\n",
       "    <tr style=\"text-align: right;\">\n",
       "      <th></th>\n",
       "      <th></th>\n",
       "      <th></th>\n",
       "      <th>month</th>\n",
       "    </tr>\n",
       "    <tr>\n",
       "      <th>user_id</th>\n",
       "      <th>plan</th>\n",
       "      <th>city</th>\n",
       "      <th></th>\n",
       "    </tr>\n",
       "  </thead>\n",
       "  <tbody>\n",
       "    <tr>\n",
       "      <th>1000</th>\n",
       "      <th>ultimate</th>\n",
       "      <th>Atlanta-Sandy Springs-Roswell, GA MSA</th>\n",
       "      <td>12</td>\n",
       "    </tr>\n",
       "    <tr>\n",
       "      <th>1001</th>\n",
       "      <th>surf</th>\n",
       "      <th>Seattle-Tacoma-Bellevue, WA MSA</th>\n",
       "      <td>8</td>\n",
       "    </tr>\n",
       "    <tr>\n",
       "      <th>1002</th>\n",
       "      <th>surf</th>\n",
       "      <th>Las Vegas-Henderson-Paradise, NV MSA</th>\n",
       "      <td>10</td>\n",
       "    </tr>\n",
       "    <tr>\n",
       "      <th>1003</th>\n",
       "      <th>surf</th>\n",
       "      <th>Tulsa, OK MSA</th>\n",
       "      <td>1</td>\n",
       "    </tr>\n",
       "    <tr>\n",
       "      <th>1004</th>\n",
       "      <th>surf</th>\n",
       "      <th>Seattle-Tacoma-Bellevue, WA MSA</th>\n",
       "      <td>5</td>\n",
       "    </tr>\n",
       "    <tr>\n",
       "      <th>...</th>\n",
       "      <th>...</th>\n",
       "      <th>...</th>\n",
       "      <td>...</td>\n",
       "    </tr>\n",
       "    <tr>\n",
       "      <th>1495</th>\n",
       "      <th>surf</th>\n",
       "      <th>New York-Newark-Jersey City, NY-NJ-PA MSA</th>\n",
       "      <td>9</td>\n",
       "    </tr>\n",
       "    <tr>\n",
       "      <th>1496</th>\n",
       "      <th>surf</th>\n",
       "      <th>New Orleans-Metairie, LA MSA</th>\n",
       "      <td>2</td>\n",
       "    </tr>\n",
       "    <tr>\n",
       "      <th>1497</th>\n",
       "      <th>ultimate</th>\n",
       "      <th>Los Angeles-Long Beach-Anaheim, CA MSA</th>\n",
       "      <td>12</td>\n",
       "    </tr>\n",
       "    <tr>\n",
       "      <th>1498</th>\n",
       "      <th>surf</th>\n",
       "      <th>New York-Newark-Jersey City, NY-NJ-PA MSA</th>\n",
       "      <td>2</td>\n",
       "    </tr>\n",
       "    <tr>\n",
       "      <th>1499</th>\n",
       "      <th>surf</th>\n",
       "      <th>Orlando-Kissimmee-Sanford, FL MSA</th>\n",
       "      <td>5</td>\n",
       "    </tr>\n",
       "  </tbody>\n",
       "</table>\n",
       "<p>500 rows × 1 columns</p>\n",
       "</div>"
      ],
      "text/plain": [
       "                                                            month\n",
       "user_id plan     city                                            \n",
       "1000    ultimate Atlanta-Sandy Springs-Roswell, GA MSA         12\n",
       "1001    surf     Seattle-Tacoma-Bellevue, WA MSA                8\n",
       "1002    surf     Las Vegas-Henderson-Paradise, NV MSA          10\n",
       "1003    surf     Tulsa, OK MSA                                  1\n",
       "1004    surf     Seattle-Tacoma-Bellevue, WA MSA                5\n",
       "...                                                           ...\n",
       "1495    surf     New York-Newark-Jersey City, NY-NJ-PA MSA      9\n",
       "1496    surf     New Orleans-Metairie, LA MSA                   2\n",
       "1497    ultimate Los Angeles-Long Beach-Anaheim, CA MSA        12\n",
       "1498    surf     New York-Newark-Jersey City, NY-NJ-PA MSA      2\n",
       "1499    surf     Orlando-Kissimmee-Sanford, FL MSA              5\n",
       "\n",
       "[500 rows x 1 columns]"
      ]
     },
     "execution_count": 31,
     "metadata": {},
     "output_type": "execute_result"
    }
   ],
   "source": [
    "user_pivo= df_users.pivot_table(index=['user_id' , 'plan', 'city' ],values='month', aggfunc='sum')\n",
    "user_pivo"
   ]
  },
  {
   "cell_type": "code",
   "execution_count": 32,
   "metadata": {},
   "outputs": [],
   "source": [
    " user_pivo.columns= ['month']"
   ]
  },
  {
   "cell_type": "markdown",
   "metadata": {},
   "source": [
    "#### Observações:"
   ]
  },
  {
   "cell_type": "markdown",
   "metadata": {},
   "source": [
    "  - A coluna 'churn_date' tem quase 90% de valores NaN. porém esta coluna não traz dados de grande relevância para as analises"
   ]
  },
  {
   "cell_type": "markdown",
   "metadata": {},
   "source": [
    "   ### Internet Dataset"
   ]
  },
  {
   "cell_type": "code",
   "execution_count": null,
   "metadata": {},
   "outputs": [],
   "source": []
  },
  {
   "cell_type": "code",
   "execution_count": 33,
   "metadata": {
    "scrolled": false
   },
   "outputs": [
    {
     "data": {
      "text/html": [
       "<div>\n",
       "<style scoped>\n",
       "    .dataframe tbody tr th:only-of-type {\n",
       "        vertical-align: middle;\n",
       "    }\n",
       "\n",
       "    .dataframe tbody tr th {\n",
       "        vertical-align: top;\n",
       "    }\n",
       "\n",
       "    .dataframe thead th {\n",
       "        text-align: right;\n",
       "    }\n",
       "</style>\n",
       "<table border=\"1\" class=\"dataframe\">\n",
       "  <thead>\n",
       "    <tr style=\"text-align: right;\">\n",
       "      <th></th>\n",
       "      <th>id</th>\n",
       "      <th>user_id</th>\n",
       "      <th>session_date</th>\n",
       "      <th>mb_used</th>\n",
       "    </tr>\n",
       "  </thead>\n",
       "  <tbody>\n",
       "    <tr>\n",
       "      <th>0</th>\n",
       "      <td>1000_13</td>\n",
       "      <td>1000</td>\n",
       "      <td>2018-12-29</td>\n",
       "      <td>89.86</td>\n",
       "    </tr>\n",
       "    <tr>\n",
       "      <th>1</th>\n",
       "      <td>1000_204</td>\n",
       "      <td>1000</td>\n",
       "      <td>2018-12-31</td>\n",
       "      <td>0.00</td>\n",
       "    </tr>\n",
       "    <tr>\n",
       "      <th>2</th>\n",
       "      <td>1000_379</td>\n",
       "      <td>1000</td>\n",
       "      <td>2018-12-28</td>\n",
       "      <td>660.40</td>\n",
       "    </tr>\n",
       "  </tbody>\n",
       "</table>\n",
       "</div>"
      ],
      "text/plain": [
       "         id  user_id session_date  mb_used\n",
       "0   1000_13     1000   2018-12-29    89.86\n",
       "1  1000_204     1000   2018-12-31     0.00\n",
       "2  1000_379     1000   2018-12-28   660.40"
      ]
     },
     "execution_count": 33,
     "metadata": {},
     "output_type": "execute_result"
    }
   ],
   "source": [
    "df_internet.head(3)\n"
   ]
  },
  {
   "cell_type": "code",
   "execution_count": 34,
   "metadata": {
    "scrolled": true
   },
   "outputs": [
    {
     "name": "stdout",
     "output_type": "stream",
     "text": [
      "<class 'pandas.core.frame.DataFrame'>\n",
      "RangeIndex: 104825 entries, 0 to 104824\n",
      "Data columns (total 4 columns):\n",
      " #   Column        Non-Null Count   Dtype  \n",
      "---  ------        --------------   -----  \n",
      " 0   id            104825 non-null  object \n",
      " 1   user_id       104825 non-null  int64  \n",
      " 2   session_date  104825 non-null  object \n",
      " 3   mb_used       104825 non-null  float64\n",
      "dtypes: float64(1), int64(1), object(2)\n",
      "memory usage: 3.2+ MB\n"
     ]
    }
   ],
   "source": [
    "df_internet.info()\n"
   ]
  },
  {
   "cell_type": "code",
   "execution_count": 35,
   "metadata": {
    "scrolled": true
   },
   "outputs": [
    {
     "data": {
      "text/html": [
       "<div>\n",
       "<style scoped>\n",
       "    .dataframe tbody tr th:only-of-type {\n",
       "        vertical-align: middle;\n",
       "    }\n",
       "\n",
       "    .dataframe tbody tr th {\n",
       "        vertical-align: top;\n",
       "    }\n",
       "\n",
       "    .dataframe thead th {\n",
       "        text-align: right;\n",
       "    }\n",
       "</style>\n",
       "<table border=\"1\" class=\"dataframe\">\n",
       "  <thead>\n",
       "    <tr style=\"text-align: right;\">\n",
       "      <th></th>\n",
       "      <th>user_id</th>\n",
       "      <th>mb_used</th>\n",
       "    </tr>\n",
       "  </thead>\n",
       "  <tbody>\n",
       "    <tr>\n",
       "      <th>count</th>\n",
       "      <td>104825.000000</td>\n",
       "      <td>104825.000000</td>\n",
       "    </tr>\n",
       "    <tr>\n",
       "      <th>mean</th>\n",
       "      <td>1242.496361</td>\n",
       "      <td>366.713701</td>\n",
       "    </tr>\n",
       "    <tr>\n",
       "      <th>std</th>\n",
       "      <td>142.053913</td>\n",
       "      <td>277.170542</td>\n",
       "    </tr>\n",
       "    <tr>\n",
       "      <th>min</th>\n",
       "      <td>1000.000000</td>\n",
       "      <td>0.000000</td>\n",
       "    </tr>\n",
       "    <tr>\n",
       "      <th>25%</th>\n",
       "      <td>1122.000000</td>\n",
       "      <td>136.080000</td>\n",
       "    </tr>\n",
       "    <tr>\n",
       "      <th>50%</th>\n",
       "      <td>1236.000000</td>\n",
       "      <td>343.980000</td>\n",
       "    </tr>\n",
       "    <tr>\n",
       "      <th>75%</th>\n",
       "      <td>1367.000000</td>\n",
       "      <td>554.610000</td>\n",
       "    </tr>\n",
       "    <tr>\n",
       "      <th>max</th>\n",
       "      <td>1499.000000</td>\n",
       "      <td>1693.470000</td>\n",
       "    </tr>\n",
       "  </tbody>\n",
       "</table>\n",
       "</div>"
      ],
      "text/plain": [
       "             user_id        mb_used\n",
       "count  104825.000000  104825.000000\n",
       "mean     1242.496361     366.713701\n",
       "std       142.053913     277.170542\n",
       "min      1000.000000       0.000000\n",
       "25%      1122.000000     136.080000\n",
       "50%      1236.000000     343.980000\n",
       "75%      1367.000000     554.610000\n",
       "max      1499.000000    1693.470000"
      ]
     },
     "execution_count": 35,
     "metadata": {},
     "output_type": "execute_result"
    }
   ],
   "source": [
    "df_internet.describe()\n"
   ]
  },
  {
   "cell_type": "code",
   "execution_count": 36,
   "metadata": {},
   "outputs": [],
   "source": [
    "df_internet['month'] = pd.DatetimeIndex(df_internet['session_date']).month\n"
   ]
  },
  {
   "cell_type": "code",
   "execution_count": 37,
   "metadata": {
    "scrolled": true
   },
   "outputs": [
    {
     "data": {
      "text/plain": [
       "id              0\n",
       "user_id         0\n",
       "session_date    0\n",
       "mb_used         0\n",
       "month           0\n",
       "dtype: int64"
      ]
     },
     "execution_count": 37,
     "metadata": {},
     "output_type": "execute_result"
    }
   ],
   "source": [
    "df_internet.isnull().sum()\n"
   ]
  },
  {
   "cell_type": "code",
   "execution_count": 38,
   "metadata": {},
   "outputs": [],
   "source": [
    "df_internet['gb_used']= df_internet['mb_used'] / 1024\n"
   ]
  },
  {
   "cell_type": "code",
   "execution_count": 39,
   "metadata": {},
   "outputs": [],
   "source": [
    "data_use= df_internet.pivot_table(index=['user_id', 'month'], values='gb_used', aggfunc='count')\n",
    "data_use.columns=['internet_used_gb']"
   ]
  },
  {
   "cell_type": "code",
   "execution_count": 40,
   "metadata": {},
   "outputs": [
    {
     "data": {
      "text/html": [
       "<div>\n",
       "<style scoped>\n",
       "    .dataframe tbody tr th:only-of-type {\n",
       "        vertical-align: middle;\n",
       "    }\n",
       "\n",
       "    .dataframe tbody tr th {\n",
       "        vertical-align: top;\n",
       "    }\n",
       "\n",
       "    .dataframe thead th {\n",
       "        text-align: right;\n",
       "    }\n",
       "</style>\n",
       "<table border=\"1\" class=\"dataframe\">\n",
       "  <thead>\n",
       "    <tr style=\"text-align: right;\">\n",
       "      <th></th>\n",
       "      <th></th>\n",
       "      <th>internet_used_gb</th>\n",
       "    </tr>\n",
       "    <tr>\n",
       "      <th>user_id</th>\n",
       "      <th>month</th>\n",
       "      <th></th>\n",
       "    </tr>\n",
       "  </thead>\n",
       "  <tbody>\n",
       "    <tr>\n",
       "      <th>1000</th>\n",
       "      <th>12</th>\n",
       "      <td>5</td>\n",
       "    </tr>\n",
       "    <tr>\n",
       "      <th rowspan=\"4\" valign=\"top\">1001</th>\n",
       "      <th>8</th>\n",
       "      <td>25</td>\n",
       "    </tr>\n",
       "    <tr>\n",
       "      <th>9</th>\n",
       "      <td>53</td>\n",
       "    </tr>\n",
       "    <tr>\n",
       "      <th>10</th>\n",
       "      <td>56</td>\n",
       "    </tr>\n",
       "    <tr>\n",
       "      <th>11</th>\n",
       "      <td>51</td>\n",
       "    </tr>\n",
       "    <tr>\n",
       "      <th>...</th>\n",
       "      <th>...</th>\n",
       "      <td>...</td>\n",
       "    </tr>\n",
       "    <tr>\n",
       "      <th>1498</th>\n",
       "      <th>12</th>\n",
       "      <td>65</td>\n",
       "    </tr>\n",
       "    <tr>\n",
       "      <th rowspan=\"4\" valign=\"top\">1499</th>\n",
       "      <th>9</th>\n",
       "      <td>45</td>\n",
       "    </tr>\n",
       "    <tr>\n",
       "      <th>10</th>\n",
       "      <td>61</td>\n",
       "    </tr>\n",
       "    <tr>\n",
       "      <th>11</th>\n",
       "      <td>49</td>\n",
       "    </tr>\n",
       "    <tr>\n",
       "      <th>12</th>\n",
       "      <td>65</td>\n",
       "    </tr>\n",
       "  </tbody>\n",
       "</table>\n",
       "<p>2277 rows × 1 columns</p>\n",
       "</div>"
      ],
      "text/plain": [
       "               internet_used_gb\n",
       "user_id month                  \n",
       "1000    12                    5\n",
       "1001    8                    25\n",
       "        9                    53\n",
       "        10                   56\n",
       "        11                   51\n",
       "...                         ...\n",
       "1498    12                   65\n",
       "1499    9                    45\n",
       "        10                   61\n",
       "        11                   49\n",
       "        12                   65\n",
       "\n",
       "[2277 rows x 1 columns]"
      ]
     },
     "execution_count": 40,
     "metadata": {},
     "output_type": "execute_result"
    }
   ],
   "source": [
    "data_use"
   ]
  },
  {
   "cell_type": "code",
   "execution_count": 41,
   "metadata": {
    "scrolled": true
   },
   "outputs": [
    {
     "data": {
      "text/plain": [
       "0         0.087754\n",
       "1         0.000000\n",
       "2         0.644922\n",
       "3         0.264639\n",
       "4         0.859590\n",
       "            ...   \n",
       "104820    0.212949\n",
       "104821    0.297578\n",
       "104822    0.285889\n",
       "104823    0.000000\n",
       "104824    0.740537\n",
       "Name: gb_used, Length: 104825, dtype: float64"
      ]
     },
     "execution_count": 41,
     "metadata": {},
     "output_type": "execute_result"
    }
   ],
   "source": [
    "df_internet['gb_used']"
   ]
  },
  {
   "cell_type": "markdown",
   "metadata": {},
   "source": [
    "  -  Algumas modificações nos dados: \n",
    "        - mb_used convertido para Gb. \n",
    "        - Extração do Mês em session_date\n",
    "      "
   ]
  },
  {
   "cell_type": "markdown",
   "metadata": {},
   "source": [
    "   ### Plans Dataset"
   ]
  },
  {
   "cell_type": "code",
   "execution_count": 42,
   "metadata": {
    "scrolled": true
   },
   "outputs": [
    {
     "data": {
      "text/html": [
       "<div>\n",
       "<style scoped>\n",
       "    .dataframe tbody tr th:only-of-type {\n",
       "        vertical-align: middle;\n",
       "    }\n",
       "\n",
       "    .dataframe tbody tr th {\n",
       "        vertical-align: top;\n",
       "    }\n",
       "\n",
       "    .dataframe thead th {\n",
       "        text-align: right;\n",
       "    }\n",
       "</style>\n",
       "<table border=\"1\" class=\"dataframe\">\n",
       "  <thead>\n",
       "    <tr style=\"text-align: right;\">\n",
       "      <th></th>\n",
       "      <th>messages_included</th>\n",
       "      <th>mb_per_month_included</th>\n",
       "      <th>minutes_included</th>\n",
       "      <th>usd_monthly_pay</th>\n",
       "      <th>usd_per_gb</th>\n",
       "      <th>usd_per_message</th>\n",
       "      <th>usd_per_minute</th>\n",
       "      <th>plan_name</th>\n",
       "    </tr>\n",
       "  </thead>\n",
       "  <tbody>\n",
       "    <tr>\n",
       "      <th>0</th>\n",
       "      <td>50</td>\n",
       "      <td>15360</td>\n",
       "      <td>500</td>\n",
       "      <td>20</td>\n",
       "      <td>10</td>\n",
       "      <td>0.03</td>\n",
       "      <td>0.03</td>\n",
       "      <td>surf</td>\n",
       "    </tr>\n",
       "    <tr>\n",
       "      <th>1</th>\n",
       "      <td>1000</td>\n",
       "      <td>30720</td>\n",
       "      <td>3000</td>\n",
       "      <td>70</td>\n",
       "      <td>7</td>\n",
       "      <td>0.01</td>\n",
       "      <td>0.01</td>\n",
       "      <td>ultimate</td>\n",
       "    </tr>\n",
       "  </tbody>\n",
       "</table>\n",
       "</div>"
      ],
      "text/plain": [
       "   messages_included  mb_per_month_included  minutes_included  \\\n",
       "0                 50                  15360               500   \n",
       "1               1000                  30720              3000   \n",
       "\n",
       "   usd_monthly_pay  usd_per_gb  usd_per_message  usd_per_minute plan_name  \n",
       "0               20          10             0.03            0.03      surf  \n",
       "1               70           7             0.01            0.01  ultimate  "
      ]
     },
     "execution_count": 42,
     "metadata": {},
     "output_type": "execute_result"
    }
   ],
   "source": [
    "df_plans.head(3)\n"
   ]
  },
  {
   "cell_type": "code",
   "execution_count": 43,
   "metadata": {},
   "outputs": [],
   "source": [
    "plan_surf= df_plans.query('plan_name == \"surf\"')\n"
   ]
  },
  {
   "cell_type": "code",
   "execution_count": 44,
   "metadata": {
    "scrolled": true
   },
   "outputs": [
    {
     "name": "stdout",
     "output_type": "stream",
     "text": [
      "<class 'pandas.core.frame.DataFrame'>\n",
      "RangeIndex: 2 entries, 0 to 1\n",
      "Data columns (total 8 columns):\n",
      " #   Column                 Non-Null Count  Dtype  \n",
      "---  ------                 --------------  -----  \n",
      " 0   messages_included      2 non-null      int64  \n",
      " 1   mb_per_month_included  2 non-null      int64  \n",
      " 2   minutes_included       2 non-null      int64  \n",
      " 3   usd_monthly_pay        2 non-null      int64  \n",
      " 4   usd_per_gb             2 non-null      int64  \n",
      " 5   usd_per_message        2 non-null      float64\n",
      " 6   usd_per_minute         2 non-null      float64\n",
      " 7   plan_name              2 non-null      object \n",
      "dtypes: float64(2), int64(5), object(1)\n",
      "memory usage: 256.0+ bytes\n"
     ]
    }
   ],
   "source": [
    "df_plans.info()"
   ]
  },
  {
   "cell_type": "code",
   "execution_count": 45,
   "metadata": {},
   "outputs": [
    {
     "data": {
      "text/html": [
       "<div>\n",
       "<style scoped>\n",
       "    .dataframe tbody tr th:only-of-type {\n",
       "        vertical-align: middle;\n",
       "    }\n",
       "\n",
       "    .dataframe tbody tr th {\n",
       "        vertical-align: top;\n",
       "    }\n",
       "\n",
       "    .dataframe thead th {\n",
       "        text-align: right;\n",
       "    }\n",
       "</style>\n",
       "<table border=\"1\" class=\"dataframe\">\n",
       "  <thead>\n",
       "    <tr style=\"text-align: right;\">\n",
       "      <th></th>\n",
       "      <th>messages_included</th>\n",
       "      <th>mb_per_month_included</th>\n",
       "      <th>minutes_included</th>\n",
       "      <th>usd_monthly_pay</th>\n",
       "      <th>usd_per_gb</th>\n",
       "      <th>usd_per_message</th>\n",
       "      <th>usd_per_minute</th>\n",
       "    </tr>\n",
       "  </thead>\n",
       "  <tbody>\n",
       "    <tr>\n",
       "      <th>count</th>\n",
       "      <td>2.000000</td>\n",
       "      <td>2.000000</td>\n",
       "      <td>2.000000</td>\n",
       "      <td>2.000000</td>\n",
       "      <td>2.00000</td>\n",
       "      <td>2.000000</td>\n",
       "      <td>2.000000</td>\n",
       "    </tr>\n",
       "    <tr>\n",
       "      <th>mean</th>\n",
       "      <td>525.000000</td>\n",
       "      <td>23040.000000</td>\n",
       "      <td>1750.000000</td>\n",
       "      <td>45.000000</td>\n",
       "      <td>8.50000</td>\n",
       "      <td>0.020000</td>\n",
       "      <td>0.020000</td>\n",
       "    </tr>\n",
       "    <tr>\n",
       "      <th>std</th>\n",
       "      <td>671.751442</td>\n",
       "      <td>10861.160159</td>\n",
       "      <td>1767.766953</td>\n",
       "      <td>35.355339</td>\n",
       "      <td>2.12132</td>\n",
       "      <td>0.014142</td>\n",
       "      <td>0.014142</td>\n",
       "    </tr>\n",
       "    <tr>\n",
       "      <th>min</th>\n",
       "      <td>50.000000</td>\n",
       "      <td>15360.000000</td>\n",
       "      <td>500.000000</td>\n",
       "      <td>20.000000</td>\n",
       "      <td>7.00000</td>\n",
       "      <td>0.010000</td>\n",
       "      <td>0.010000</td>\n",
       "    </tr>\n",
       "    <tr>\n",
       "      <th>25%</th>\n",
       "      <td>287.500000</td>\n",
       "      <td>19200.000000</td>\n",
       "      <td>1125.000000</td>\n",
       "      <td>32.500000</td>\n",
       "      <td>7.75000</td>\n",
       "      <td>0.015000</td>\n",
       "      <td>0.015000</td>\n",
       "    </tr>\n",
       "    <tr>\n",
       "      <th>50%</th>\n",
       "      <td>525.000000</td>\n",
       "      <td>23040.000000</td>\n",
       "      <td>1750.000000</td>\n",
       "      <td>45.000000</td>\n",
       "      <td>8.50000</td>\n",
       "      <td>0.020000</td>\n",
       "      <td>0.020000</td>\n",
       "    </tr>\n",
       "    <tr>\n",
       "      <th>75%</th>\n",
       "      <td>762.500000</td>\n",
       "      <td>26880.000000</td>\n",
       "      <td>2375.000000</td>\n",
       "      <td>57.500000</td>\n",
       "      <td>9.25000</td>\n",
       "      <td>0.025000</td>\n",
       "      <td>0.025000</td>\n",
       "    </tr>\n",
       "    <tr>\n",
       "      <th>max</th>\n",
       "      <td>1000.000000</td>\n",
       "      <td>30720.000000</td>\n",
       "      <td>3000.000000</td>\n",
       "      <td>70.000000</td>\n",
       "      <td>10.00000</td>\n",
       "      <td>0.030000</td>\n",
       "      <td>0.030000</td>\n",
       "    </tr>\n",
       "  </tbody>\n",
       "</table>\n",
       "</div>"
      ],
      "text/plain": [
       "       messages_included  mb_per_month_included  minutes_included  \\\n",
       "count           2.000000               2.000000          2.000000   \n",
       "mean          525.000000           23040.000000       1750.000000   \n",
       "std           671.751442           10861.160159       1767.766953   \n",
       "min            50.000000           15360.000000        500.000000   \n",
       "25%           287.500000           19200.000000       1125.000000   \n",
       "50%           525.000000           23040.000000       1750.000000   \n",
       "75%           762.500000           26880.000000       2375.000000   \n",
       "max          1000.000000           30720.000000       3000.000000   \n",
       "\n",
       "       usd_monthly_pay  usd_per_gb  usd_per_message  usd_per_minute  \n",
       "count         2.000000     2.00000         2.000000        2.000000  \n",
       "mean         45.000000     8.50000         0.020000        0.020000  \n",
       "std          35.355339     2.12132         0.014142        0.014142  \n",
       "min          20.000000     7.00000         0.010000        0.010000  \n",
       "25%          32.500000     7.75000         0.015000        0.015000  \n",
       "50%          45.000000     8.50000         0.020000        0.020000  \n",
       "75%          57.500000     9.25000         0.025000        0.025000  \n",
       "max          70.000000    10.00000         0.030000        0.030000  "
      ]
     },
     "execution_count": 45,
     "metadata": {},
     "output_type": "execute_result"
    }
   ],
   "source": [
    "df_plans.describe()"
   ]
  },
  {
   "cell_type": "code",
   "execution_count": 46,
   "metadata": {
    "scrolled": false
   },
   "outputs": [
    {
     "data": {
      "text/plain": [
       "messages_included        0\n",
       "mb_per_month_included    0\n",
       "minutes_included         0\n",
       "usd_monthly_pay          0\n",
       "usd_per_gb               0\n",
       "usd_per_message          0\n",
       "usd_per_minute           0\n",
       "plan_name                0\n",
       "dtype: int64"
      ]
     },
     "execution_count": 46,
     "metadata": {},
     "output_type": "execute_result"
    }
   ],
   "source": [
    "df_plans.isnull().sum()\n"
   ]
  },
  {
   "cell_type": "code",
   "execution_count": 47,
   "metadata": {
    "scrolled": false
   },
   "outputs": [
    {
     "data": {
      "text/plain": [
       "0    15.0\n",
       "1    30.0\n",
       "Name: GB, dtype: float64"
      ]
     },
     "execution_count": 47,
     "metadata": {},
     "output_type": "execute_result"
    }
   ],
   "source": [
    "df_plans['GB']= df_plans['mb_per_month_included'] / 1024\n",
    "df_plans['GB']"
   ]
  },
  {
   "cell_type": "markdown",
   "metadata": {},
   "source": [
    "### Aplicando merge para agrupar as tabelas"
   ]
  },
  {
   "cell_type": "markdown",
   "metadata": {},
   "source": [
    " - Como os dados estão em datasets separados, podemos usar a função .merge para facilitar as análises de comportamento amplo dos usuários. "
   ]
  },
  {
   "cell_type": "code",
   "execution_count": 48,
   "metadata": {
    "scrolled": true
   },
   "outputs": [
    {
     "data": {
      "text/html": [
       "<div>\n",
       "<style scoped>\n",
       "    .dataframe tbody tr th:only-of-type {\n",
       "        vertical-align: middle;\n",
       "    }\n",
       "\n",
       "    .dataframe tbody tr th {\n",
       "        vertical-align: top;\n",
       "    }\n",
       "\n",
       "    .dataframe thead th {\n",
       "        text-align: right;\n",
       "    }\n",
       "</style>\n",
       "<table border=\"1\" class=\"dataframe\">\n",
       "  <thead>\n",
       "    <tr style=\"text-align: right;\">\n",
       "      <th></th>\n",
       "      <th></th>\n",
       "      <th>minutes_used</th>\n",
       "      <th>calls_made</th>\n",
       "    </tr>\n",
       "    <tr>\n",
       "      <th>user_id</th>\n",
       "      <th>month</th>\n",
       "      <th></th>\n",
       "      <th></th>\n",
       "    </tr>\n",
       "  </thead>\n",
       "  <tbody>\n",
       "    <tr>\n",
       "      <th>1000</th>\n",
       "      <th>12</th>\n",
       "      <td>117.0</td>\n",
       "      <td>16</td>\n",
       "    </tr>\n",
       "    <tr>\n",
       "      <th rowspan=\"4\" valign=\"top\">1001</th>\n",
       "      <th>8</th>\n",
       "      <td>173.0</td>\n",
       "      <td>27</td>\n",
       "    </tr>\n",
       "    <tr>\n",
       "      <th>9</th>\n",
       "      <td>297.0</td>\n",
       "      <td>49</td>\n",
       "    </tr>\n",
       "    <tr>\n",
       "      <th>10</th>\n",
       "      <td>374.0</td>\n",
       "      <td>65</td>\n",
       "    </tr>\n",
       "    <tr>\n",
       "      <th>11</th>\n",
       "      <td>404.0</td>\n",
       "      <td>64</td>\n",
       "    </tr>\n",
       "    <tr>\n",
       "      <th>...</th>\n",
       "      <th>...</th>\n",
       "      <td>...</td>\n",
       "      <td>...</td>\n",
       "    </tr>\n",
       "    <tr>\n",
       "      <th>1498</th>\n",
       "      <th>12</th>\n",
       "      <td>326.0</td>\n",
       "      <td>39</td>\n",
       "    </tr>\n",
       "    <tr>\n",
       "      <th rowspan=\"4\" valign=\"top\">1499</th>\n",
       "      <th>9</th>\n",
       "      <td>328.0</td>\n",
       "      <td>41</td>\n",
       "    </tr>\n",
       "    <tr>\n",
       "      <th>10</th>\n",
       "      <td>361.0</td>\n",
       "      <td>53</td>\n",
       "    </tr>\n",
       "    <tr>\n",
       "      <th>11</th>\n",
       "      <td>287.0</td>\n",
       "      <td>45</td>\n",
       "    </tr>\n",
       "    <tr>\n",
       "      <th>12</th>\n",
       "      <td>463.0</td>\n",
       "      <td>65</td>\n",
       "    </tr>\n",
       "  </tbody>\n",
       "</table>\n",
       "<p>2258 rows × 2 columns</p>\n",
       "</div>"
      ],
      "text/plain": [
       "               minutes_used  calls_made\n",
       "user_id month                          \n",
       "1000    12            117.0          16\n",
       "1001    8             173.0          27\n",
       "        9             297.0          49\n",
       "        10            374.0          65\n",
       "        11            404.0          64\n",
       "...                     ...         ...\n",
       "1498    12            326.0          39\n",
       "1499    9             328.0          41\n",
       "        10            361.0          53\n",
       "        11            287.0          45\n",
       "        12            463.0          65\n",
       "\n",
       "[2258 rows x 2 columns]"
      ]
     },
     "execution_count": 48,
     "metadata": {},
     "output_type": "execute_result"
    }
   ],
   "source": [
    "calls_pivot"
   ]
  },
  {
   "cell_type": "code",
   "execution_count": 49,
   "metadata": {},
   "outputs": [],
   "source": [
    "call_e_msgs= calls_pivot.merge(messag_pivo, on=['user_id', 'month'], how='outer')"
   ]
  },
  {
   "cell_type": "code",
   "execution_count": 50,
   "metadata": {
    "scrolled": false
   },
   "outputs": [
    {
     "data": {
      "text/html": [
       "<div>\n",
       "<style scoped>\n",
       "    .dataframe tbody tr th:only-of-type {\n",
       "        vertical-align: middle;\n",
       "    }\n",
       "\n",
       "    .dataframe tbody tr th {\n",
       "        vertical-align: top;\n",
       "    }\n",
       "\n",
       "    .dataframe thead th {\n",
       "        text-align: right;\n",
       "    }\n",
       "</style>\n",
       "<table border=\"1\" class=\"dataframe\">\n",
       "  <thead>\n",
       "    <tr style=\"text-align: right;\">\n",
       "      <th></th>\n",
       "      <th></th>\n",
       "      <th>minutes_used</th>\n",
       "      <th>calls_made</th>\n",
       "      <th>messages_made</th>\n",
       "      <th>internet_used_gb</th>\n",
       "    </tr>\n",
       "    <tr>\n",
       "      <th>user_id</th>\n",
       "      <th>month</th>\n",
       "      <th></th>\n",
       "      <th></th>\n",
       "      <th></th>\n",
       "      <th></th>\n",
       "    </tr>\n",
       "  </thead>\n",
       "  <tbody>\n",
       "    <tr>\n",
       "      <th>1000</th>\n",
       "      <th>12</th>\n",
       "      <td>117.0</td>\n",
       "      <td>16.0</td>\n",
       "      <td>11.0</td>\n",
       "      <td>5.0</td>\n",
       "    </tr>\n",
       "    <tr>\n",
       "      <th rowspan=\"4\" valign=\"top\">1001</th>\n",
       "      <th>8</th>\n",
       "      <td>173.0</td>\n",
       "      <td>27.0</td>\n",
       "      <td>30.0</td>\n",
       "      <td>25.0</td>\n",
       "    </tr>\n",
       "    <tr>\n",
       "      <th>9</th>\n",
       "      <td>297.0</td>\n",
       "      <td>49.0</td>\n",
       "      <td>44.0</td>\n",
       "      <td>53.0</td>\n",
       "    </tr>\n",
       "    <tr>\n",
       "      <th>10</th>\n",
       "      <td>374.0</td>\n",
       "      <td>65.0</td>\n",
       "      <td>53.0</td>\n",
       "      <td>56.0</td>\n",
       "    </tr>\n",
       "    <tr>\n",
       "      <th>11</th>\n",
       "      <td>404.0</td>\n",
       "      <td>64.0</td>\n",
       "      <td>36.0</td>\n",
       "      <td>51.0</td>\n",
       "    </tr>\n",
       "  </tbody>\n",
       "</table>\n",
       "</div>"
      ],
      "text/plain": [
       "               minutes_used  calls_made  messages_made  internet_used_gb\n",
       "user_id month                                                           \n",
       "1000    12            117.0        16.0           11.0               5.0\n",
       "1001    8             173.0        27.0           30.0              25.0\n",
       "        9             297.0        49.0           44.0              53.0\n",
       "        10            374.0        65.0           53.0              56.0\n",
       "        11            404.0        64.0           36.0              51.0"
      ]
     },
     "execution_count": 50,
     "metadata": {},
     "output_type": "execute_result"
    }
   ],
   "source": [
    "usage_tabl=call_e_msgs.merge(data_use, on=['user_id', 'month'], how='outer') \n",
    "usage_tabl.head(5)"
   ]
  },
  {
   "cell_type": "code",
   "execution_count": 51,
   "metadata": {},
   "outputs": [
    {
     "data": {
      "text/html": [
       "<div>\n",
       "<style scoped>\n",
       "    .dataframe tbody tr th:only-of-type {\n",
       "        vertical-align: middle;\n",
       "    }\n",
       "\n",
       "    .dataframe tbody tr th {\n",
       "        vertical-align: top;\n",
       "    }\n",
       "\n",
       "    .dataframe thead th {\n",
       "        text-align: right;\n",
       "    }\n",
       "</style>\n",
       "<table border=\"1\" class=\"dataframe\">\n",
       "  <thead>\n",
       "    <tr style=\"text-align: right;\">\n",
       "      <th></th>\n",
       "      <th></th>\n",
       "      <th></th>\n",
       "      <th>month</th>\n",
       "    </tr>\n",
       "    <tr>\n",
       "      <th>user_id</th>\n",
       "      <th>plan</th>\n",
       "      <th>city</th>\n",
       "      <th></th>\n",
       "    </tr>\n",
       "  </thead>\n",
       "  <tbody>\n",
       "    <tr>\n",
       "      <th>1000</th>\n",
       "      <th>ultimate</th>\n",
       "      <th>Atlanta-Sandy Springs-Roswell, GA MSA</th>\n",
       "      <td>12</td>\n",
       "    </tr>\n",
       "    <tr>\n",
       "      <th>1001</th>\n",
       "      <th>surf</th>\n",
       "      <th>Seattle-Tacoma-Bellevue, WA MSA</th>\n",
       "      <td>8</td>\n",
       "    </tr>\n",
       "    <tr>\n",
       "      <th>1002</th>\n",
       "      <th>surf</th>\n",
       "      <th>Las Vegas-Henderson-Paradise, NV MSA</th>\n",
       "      <td>10</td>\n",
       "    </tr>\n",
       "    <tr>\n",
       "      <th>1003</th>\n",
       "      <th>surf</th>\n",
       "      <th>Tulsa, OK MSA</th>\n",
       "      <td>1</td>\n",
       "    </tr>\n",
       "    <tr>\n",
       "      <th>1004</th>\n",
       "      <th>surf</th>\n",
       "      <th>Seattle-Tacoma-Bellevue, WA MSA</th>\n",
       "      <td>5</td>\n",
       "    </tr>\n",
       "    <tr>\n",
       "      <th>...</th>\n",
       "      <th>...</th>\n",
       "      <th>...</th>\n",
       "      <td>...</td>\n",
       "    </tr>\n",
       "    <tr>\n",
       "      <th>1495</th>\n",
       "      <th>surf</th>\n",
       "      <th>New York-Newark-Jersey City, NY-NJ-PA MSA</th>\n",
       "      <td>9</td>\n",
       "    </tr>\n",
       "    <tr>\n",
       "      <th>1496</th>\n",
       "      <th>surf</th>\n",
       "      <th>New Orleans-Metairie, LA MSA</th>\n",
       "      <td>2</td>\n",
       "    </tr>\n",
       "    <tr>\n",
       "      <th>1497</th>\n",
       "      <th>ultimate</th>\n",
       "      <th>Los Angeles-Long Beach-Anaheim, CA MSA</th>\n",
       "      <td>12</td>\n",
       "    </tr>\n",
       "    <tr>\n",
       "      <th>1498</th>\n",
       "      <th>surf</th>\n",
       "      <th>New York-Newark-Jersey City, NY-NJ-PA MSA</th>\n",
       "      <td>2</td>\n",
       "    </tr>\n",
       "    <tr>\n",
       "      <th>1499</th>\n",
       "      <th>surf</th>\n",
       "      <th>Orlando-Kissimmee-Sanford, FL MSA</th>\n",
       "      <td>5</td>\n",
       "    </tr>\n",
       "  </tbody>\n",
       "</table>\n",
       "<p>500 rows × 1 columns</p>\n",
       "</div>"
      ],
      "text/plain": [
       "                                                            month\n",
       "user_id plan     city                                            \n",
       "1000    ultimate Atlanta-Sandy Springs-Roswell, GA MSA         12\n",
       "1001    surf     Seattle-Tacoma-Bellevue, WA MSA                8\n",
       "1002    surf     Las Vegas-Henderson-Paradise, NV MSA          10\n",
       "1003    surf     Tulsa, OK MSA                                  1\n",
       "1004    surf     Seattle-Tacoma-Bellevue, WA MSA                5\n",
       "...                                                           ...\n",
       "1495    surf     New York-Newark-Jersey City, NY-NJ-PA MSA      9\n",
       "1496    surf     New Orleans-Metairie, LA MSA                   2\n",
       "1497    ultimate Los Angeles-Long Beach-Anaheim, CA MSA        12\n",
       "1498    surf     New York-Newark-Jersey City, NY-NJ-PA MSA      2\n",
       "1499    surf     Orlando-Kissimmee-Sanford, FL MSA              5\n",
       "\n",
       "[500 rows x 1 columns]"
      ]
     },
     "execution_count": 51,
     "metadata": {},
     "output_type": "execute_result"
    }
   ],
   "source": [
    "user_pivo"
   ]
  },
  {
   "cell_type": "code",
   "execution_count": 52,
   "metadata": {
    "scrolled": true
   },
   "outputs": [
    {
     "data": {
      "text/html": [
       "<div>\n",
       "<style scoped>\n",
       "    .dataframe tbody tr th:only-of-type {\n",
       "        vertical-align: middle;\n",
       "    }\n",
       "\n",
       "    .dataframe tbody tr th {\n",
       "        vertical-align: top;\n",
       "    }\n",
       "\n",
       "    .dataframe thead th {\n",
       "        text-align: right;\n",
       "    }\n",
       "</style>\n",
       "<table border=\"1\" class=\"dataframe\">\n",
       "  <thead>\n",
       "    <tr style=\"text-align: right;\">\n",
       "      <th></th>\n",
       "      <th>user_id</th>\n",
       "      <th>plan</th>\n",
       "      <th>city</th>\n",
       "    </tr>\n",
       "  </thead>\n",
       "  <tbody>\n",
       "    <tr>\n",
       "      <th>0</th>\n",
       "      <td>1000</td>\n",
       "      <td>ultimate</td>\n",
       "      <td>Atlanta-Sandy Springs-Roswell, GA MSA</td>\n",
       "    </tr>\n",
       "    <tr>\n",
       "      <th>1</th>\n",
       "      <td>1001</td>\n",
       "      <td>surf</td>\n",
       "      <td>Seattle-Tacoma-Bellevue, WA MSA</td>\n",
       "    </tr>\n",
       "    <tr>\n",
       "      <th>2</th>\n",
       "      <td>1002</td>\n",
       "      <td>surf</td>\n",
       "      <td>Las Vegas-Henderson-Paradise, NV MSA</td>\n",
       "    </tr>\n",
       "    <tr>\n",
       "      <th>3</th>\n",
       "      <td>1003</td>\n",
       "      <td>surf</td>\n",
       "      <td>Tulsa, OK MSA</td>\n",
       "    </tr>\n",
       "    <tr>\n",
       "      <th>4</th>\n",
       "      <td>1004</td>\n",
       "      <td>surf</td>\n",
       "      <td>Seattle-Tacoma-Bellevue, WA MSA</td>\n",
       "    </tr>\n",
       "    <tr>\n",
       "      <th>...</th>\n",
       "      <td>...</td>\n",
       "      <td>...</td>\n",
       "      <td>...</td>\n",
       "    </tr>\n",
       "    <tr>\n",
       "      <th>495</th>\n",
       "      <td>1495</td>\n",
       "      <td>surf</td>\n",
       "      <td>New York-Newark-Jersey City, NY-NJ-PA MSA</td>\n",
       "    </tr>\n",
       "    <tr>\n",
       "      <th>496</th>\n",
       "      <td>1496</td>\n",
       "      <td>surf</td>\n",
       "      <td>New Orleans-Metairie, LA MSA</td>\n",
       "    </tr>\n",
       "    <tr>\n",
       "      <th>497</th>\n",
       "      <td>1497</td>\n",
       "      <td>ultimate</td>\n",
       "      <td>Los Angeles-Long Beach-Anaheim, CA MSA</td>\n",
       "    </tr>\n",
       "    <tr>\n",
       "      <th>498</th>\n",
       "      <td>1498</td>\n",
       "      <td>surf</td>\n",
       "      <td>New York-Newark-Jersey City, NY-NJ-PA MSA</td>\n",
       "    </tr>\n",
       "    <tr>\n",
       "      <th>499</th>\n",
       "      <td>1499</td>\n",
       "      <td>surf</td>\n",
       "      <td>Orlando-Kissimmee-Sanford, FL MSA</td>\n",
       "    </tr>\n",
       "  </tbody>\n",
       "</table>\n",
       "<p>500 rows × 3 columns</p>\n",
       "</div>"
      ],
      "text/plain": [
       "     user_id      plan                                       city\n",
       "0       1000  ultimate      Atlanta-Sandy Springs-Roswell, GA MSA\n",
       "1       1001      surf            Seattle-Tacoma-Bellevue, WA MSA\n",
       "2       1002      surf       Las Vegas-Henderson-Paradise, NV MSA\n",
       "3       1003      surf                              Tulsa, OK MSA\n",
       "4       1004      surf            Seattle-Tacoma-Bellevue, WA MSA\n",
       "..       ...       ...                                        ...\n",
       "495     1495      surf  New York-Newark-Jersey City, NY-NJ-PA MSA\n",
       "496     1496      surf               New Orleans-Metairie, LA MSA\n",
       "497     1497  ultimate     Los Angeles-Long Beach-Anaheim, CA MSA\n",
       "498     1498      surf  New York-Newark-Jersey City, NY-NJ-PA MSA\n",
       "499     1499      surf          Orlando-Kissimmee-Sanford, FL MSA\n",
       "\n",
       "[500 rows x 3 columns]"
      ]
     },
     "execution_count": 52,
     "metadata": {},
     "output_type": "execute_result"
    }
   ],
   "source": [
    "plano= df_users[['user_id', 'plan', 'city']]\n",
    "plano"
   ]
  },
  {
   "cell_type": "code",
   "execution_count": 53,
   "metadata": {
    "scrolled": true
   },
   "outputs": [],
   "source": [
    "usage_tabl_planos=plano.merge(usage_tabl, on=['user_id'], how='outer') \n"
   ]
  },
  {
   "cell_type": "code",
   "execution_count": 54,
   "metadata": {},
   "outputs": [
    {
     "data": {
      "text/html": [
       "<div>\n",
       "<style scoped>\n",
       "    .dataframe tbody tr th:only-of-type {\n",
       "        vertical-align: middle;\n",
       "    }\n",
       "\n",
       "    .dataframe tbody tr th {\n",
       "        vertical-align: top;\n",
       "    }\n",
       "\n",
       "    .dataframe thead th {\n",
       "        text-align: right;\n",
       "    }\n",
       "</style>\n",
       "<table border=\"1\" class=\"dataframe\">\n",
       "  <thead>\n",
       "    <tr style=\"text-align: right;\">\n",
       "      <th></th>\n",
       "      <th></th>\n",
       "      <th>minutes_used</th>\n",
       "      <th>calls_made</th>\n",
       "      <th>messages_made</th>\n",
       "      <th>internet_used_gb</th>\n",
       "    </tr>\n",
       "    <tr>\n",
       "      <th>user_id</th>\n",
       "      <th>month</th>\n",
       "      <th></th>\n",
       "      <th></th>\n",
       "      <th></th>\n",
       "      <th></th>\n",
       "    </tr>\n",
       "  </thead>\n",
       "  <tbody>\n",
       "    <tr>\n",
       "      <th>1000</th>\n",
       "      <th>12</th>\n",
       "      <td>117.0</td>\n",
       "      <td>16.0</td>\n",
       "      <td>11.0</td>\n",
       "      <td>5.0</td>\n",
       "    </tr>\n",
       "    <tr>\n",
       "      <th rowspan=\"4\" valign=\"top\">1001</th>\n",
       "      <th>8</th>\n",
       "      <td>173.0</td>\n",
       "      <td>27.0</td>\n",
       "      <td>30.0</td>\n",
       "      <td>25.0</td>\n",
       "    </tr>\n",
       "    <tr>\n",
       "      <th>9</th>\n",
       "      <td>297.0</td>\n",
       "      <td>49.0</td>\n",
       "      <td>44.0</td>\n",
       "      <td>53.0</td>\n",
       "    </tr>\n",
       "    <tr>\n",
       "      <th>10</th>\n",
       "      <td>374.0</td>\n",
       "      <td>65.0</td>\n",
       "      <td>53.0</td>\n",
       "      <td>56.0</td>\n",
       "    </tr>\n",
       "    <tr>\n",
       "      <th>11</th>\n",
       "      <td>404.0</td>\n",
       "      <td>64.0</td>\n",
       "      <td>36.0</td>\n",
       "      <td>51.0</td>\n",
       "    </tr>\n",
       "    <tr>\n",
       "      <th>...</th>\n",
       "      <th>...</th>\n",
       "      <td>...</td>\n",
       "      <td>...</td>\n",
       "      <td>...</td>\n",
       "      <td>...</td>\n",
       "    </tr>\n",
       "    <tr>\n",
       "      <th>1349</th>\n",
       "      <th>12</th>\n",
       "      <td>NaN</td>\n",
       "      <td>NaN</td>\n",
       "      <td>61.0</td>\n",
       "      <td>27.0</td>\n",
       "    </tr>\n",
       "    <tr>\n",
       "      <th>1361</th>\n",
       "      <th>5</th>\n",
       "      <td>NaN</td>\n",
       "      <td>NaN</td>\n",
       "      <td>2.0</td>\n",
       "      <td>9.0</td>\n",
       "    </tr>\n",
       "    <tr>\n",
       "      <th>1482</th>\n",
       "      <th>10</th>\n",
       "      <td>NaN</td>\n",
       "      <td>NaN</td>\n",
       "      <td>2.0</td>\n",
       "      <td>NaN</td>\n",
       "    </tr>\n",
       "    <tr>\n",
       "      <th>1108</th>\n",
       "      <th>12</th>\n",
       "      <td>NaN</td>\n",
       "      <td>NaN</td>\n",
       "      <td>NaN</td>\n",
       "      <td>2.0</td>\n",
       "    </tr>\n",
       "    <tr>\n",
       "      <th>1311</th>\n",
       "      <th>6</th>\n",
       "      <td>NaN</td>\n",
       "      <td>NaN</td>\n",
       "      <td>NaN</td>\n",
       "      <td>9.0</td>\n",
       "    </tr>\n",
       "  </tbody>\n",
       "</table>\n",
       "<p>2293 rows × 4 columns</p>\n",
       "</div>"
      ],
      "text/plain": [
       "               minutes_used  calls_made  messages_made  internet_used_gb\n",
       "user_id month                                                           \n",
       "1000    12            117.0        16.0           11.0               5.0\n",
       "1001    8             173.0        27.0           30.0              25.0\n",
       "        9             297.0        49.0           44.0              53.0\n",
       "        10            374.0        65.0           53.0              56.0\n",
       "        11            404.0        64.0           36.0              51.0\n",
       "...                     ...         ...            ...               ...\n",
       "1349    12              NaN         NaN           61.0              27.0\n",
       "1361    5               NaN         NaN            2.0               9.0\n",
       "1482    10              NaN         NaN            2.0               NaN\n",
       "1108    12              NaN         NaN            NaN               2.0\n",
       "1311    6               NaN         NaN            NaN               9.0\n",
       "\n",
       "[2293 rows x 4 columns]"
      ]
     },
     "execution_count": 54,
     "metadata": {},
     "output_type": "execute_result"
    }
   ],
   "source": [
    "usage_tabl"
   ]
  },
  {
   "cell_type": "code",
   "execution_count": 55,
   "metadata": {
    "scrolled": false
   },
   "outputs": [
    {
     "data": {
      "text/html": [
       "<div>\n",
       "<style scoped>\n",
       "    .dataframe tbody tr th:only-of-type {\n",
       "        vertical-align: middle;\n",
       "    }\n",
       "\n",
       "    .dataframe tbody tr th {\n",
       "        vertical-align: top;\n",
       "    }\n",
       "\n",
       "    .dataframe thead th {\n",
       "        text-align: right;\n",
       "    }\n",
       "</style>\n",
       "<table border=\"1\" class=\"dataframe\">\n",
       "  <thead>\n",
       "    <tr style=\"text-align: right;\">\n",
       "      <th></th>\n",
       "      <th>user_id</th>\n",
       "      <th>plan</th>\n",
       "      <th>city</th>\n",
       "      <th>minutes_used</th>\n",
       "      <th>calls_made</th>\n",
       "      <th>messages_made</th>\n",
       "      <th>internet_used_gb</th>\n",
       "    </tr>\n",
       "  </thead>\n",
       "  <tbody>\n",
       "    <tr>\n",
       "      <th>0</th>\n",
       "      <td>1000</td>\n",
       "      <td>ultimate</td>\n",
       "      <td>Atlanta-Sandy Springs-Roswell, GA MSA</td>\n",
       "      <td>117.0</td>\n",
       "      <td>16.0</td>\n",
       "      <td>11.0</td>\n",
       "      <td>5.0</td>\n",
       "    </tr>\n",
       "    <tr>\n",
       "      <th>1</th>\n",
       "      <td>1001</td>\n",
       "      <td>surf</td>\n",
       "      <td>Seattle-Tacoma-Bellevue, WA MSA</td>\n",
       "      <td>173.0</td>\n",
       "      <td>27.0</td>\n",
       "      <td>30.0</td>\n",
       "      <td>25.0</td>\n",
       "    </tr>\n",
       "    <tr>\n",
       "      <th>2</th>\n",
       "      <td>1001</td>\n",
       "      <td>surf</td>\n",
       "      <td>Seattle-Tacoma-Bellevue, WA MSA</td>\n",
       "      <td>297.0</td>\n",
       "      <td>49.0</td>\n",
       "      <td>44.0</td>\n",
       "      <td>53.0</td>\n",
       "    </tr>\n",
       "    <tr>\n",
       "      <th>3</th>\n",
       "      <td>1001</td>\n",
       "      <td>surf</td>\n",
       "      <td>Seattle-Tacoma-Bellevue, WA MSA</td>\n",
       "      <td>374.0</td>\n",
       "      <td>65.0</td>\n",
       "      <td>53.0</td>\n",
       "      <td>56.0</td>\n",
       "    </tr>\n",
       "    <tr>\n",
       "      <th>4</th>\n",
       "      <td>1001</td>\n",
       "      <td>surf</td>\n",
       "      <td>Seattle-Tacoma-Bellevue, WA MSA</td>\n",
       "      <td>404.0</td>\n",
       "      <td>64.0</td>\n",
       "      <td>36.0</td>\n",
       "      <td>51.0</td>\n",
       "    </tr>\n",
       "    <tr>\n",
       "      <th>...</th>\n",
       "      <td>...</td>\n",
       "      <td>...</td>\n",
       "      <td>...</td>\n",
       "      <td>...</td>\n",
       "      <td>...</td>\n",
       "      <td>...</td>\n",
       "      <td>...</td>\n",
       "    </tr>\n",
       "    <tr>\n",
       "      <th>2298</th>\n",
       "      <td>1498</td>\n",
       "      <td>surf</td>\n",
       "      <td>New York-Newark-Jersey City, NY-NJ-PA MSA</td>\n",
       "      <td>326.0</td>\n",
       "      <td>39.0</td>\n",
       "      <td>NaN</td>\n",
       "      <td>65.0</td>\n",
       "    </tr>\n",
       "    <tr>\n",
       "      <th>2299</th>\n",
       "      <td>1499</td>\n",
       "      <td>surf</td>\n",
       "      <td>Orlando-Kissimmee-Sanford, FL MSA</td>\n",
       "      <td>328.0</td>\n",
       "      <td>41.0</td>\n",
       "      <td>NaN</td>\n",
       "      <td>45.0</td>\n",
       "    </tr>\n",
       "    <tr>\n",
       "      <th>2300</th>\n",
       "      <td>1499</td>\n",
       "      <td>surf</td>\n",
       "      <td>Orlando-Kissimmee-Sanford, FL MSA</td>\n",
       "      <td>361.0</td>\n",
       "      <td>53.0</td>\n",
       "      <td>NaN</td>\n",
       "      <td>61.0</td>\n",
       "    </tr>\n",
       "    <tr>\n",
       "      <th>2301</th>\n",
       "      <td>1499</td>\n",
       "      <td>surf</td>\n",
       "      <td>Orlando-Kissimmee-Sanford, FL MSA</td>\n",
       "      <td>287.0</td>\n",
       "      <td>45.0</td>\n",
       "      <td>NaN</td>\n",
       "      <td>49.0</td>\n",
       "    </tr>\n",
       "    <tr>\n",
       "      <th>2302</th>\n",
       "      <td>1499</td>\n",
       "      <td>surf</td>\n",
       "      <td>Orlando-Kissimmee-Sanford, FL MSA</td>\n",
       "      <td>463.0</td>\n",
       "      <td>65.0</td>\n",
       "      <td>NaN</td>\n",
       "      <td>65.0</td>\n",
       "    </tr>\n",
       "  </tbody>\n",
       "</table>\n",
       "<p>2303 rows × 7 columns</p>\n",
       "</div>"
      ],
      "text/plain": [
       "      user_id      plan                                       city  \\\n",
       "0        1000  ultimate      Atlanta-Sandy Springs-Roswell, GA MSA   \n",
       "1        1001      surf            Seattle-Tacoma-Bellevue, WA MSA   \n",
       "2        1001      surf            Seattle-Tacoma-Bellevue, WA MSA   \n",
       "3        1001      surf            Seattle-Tacoma-Bellevue, WA MSA   \n",
       "4        1001      surf            Seattle-Tacoma-Bellevue, WA MSA   \n",
       "...       ...       ...                                        ...   \n",
       "2298     1498      surf  New York-Newark-Jersey City, NY-NJ-PA MSA   \n",
       "2299     1499      surf          Orlando-Kissimmee-Sanford, FL MSA   \n",
       "2300     1499      surf          Orlando-Kissimmee-Sanford, FL MSA   \n",
       "2301     1499      surf          Orlando-Kissimmee-Sanford, FL MSA   \n",
       "2302     1499      surf          Orlando-Kissimmee-Sanford, FL MSA   \n",
       "\n",
       "      minutes_used  calls_made  messages_made  internet_used_gb  \n",
       "0            117.0        16.0           11.0               5.0  \n",
       "1            173.0        27.0           30.0              25.0  \n",
       "2            297.0        49.0           44.0              53.0  \n",
       "3            374.0        65.0           53.0              56.0  \n",
       "4            404.0        64.0           36.0              51.0  \n",
       "...            ...         ...            ...               ...  \n",
       "2298         326.0        39.0            NaN              65.0  \n",
       "2299         328.0        41.0            NaN              45.0  \n",
       "2300         361.0        53.0            NaN              61.0  \n",
       "2301         287.0        45.0            NaN              49.0  \n",
       "2302         463.0        65.0            NaN              65.0  \n",
       "\n",
       "[2303 rows x 7 columns]"
      ]
     },
     "execution_count": 55,
     "metadata": {},
     "output_type": "execute_result"
    }
   ],
   "source": [
    "usage_tabl_planos"
   ]
  },
  {
   "cell_type": "markdown",
   "metadata": {},
   "source": [
    "### Cálculando month_revenue"
   ]
  },
  {
   "cell_type": "markdown",
   "metadata": {},
   "source": [
    "#### Aplicando Funções para encontrar a receita mensal para cada usuário"
   ]
  },
  {
   "cell_type": "markdown",
   "metadata": {},
   "source": [
    "   *Para obtermos uma receita mensal para cada usuário podemos utilizar uma função que acha o valor excedente de cada coluna (call, msg, txt), para então multiplicarmos pelos valores dos planos adicione o preço mensal.*  \n",
    "\n"
   ]
  },
  {
   "cell_type": "markdown",
   "metadata": {},
   "source": [
    "##### Receita de calls"
   ]
  },
  {
   "cell_type": "code",
   "execution_count": 56,
   "metadata": {},
   "outputs": [],
   "source": [
    "def chargeable_calls(row):\n",
    "    plan = row['plan']\n",
    "    minutes_used  = row['minutes_used']\n",
    "    \n",
    "    if plan == 'surf':\n",
    "        if minutes_used > 500:\n",
    "            chargeable = minutes_used - 500\n",
    "        else:\n",
    "            chargeable = 0\n",
    "    if plan == 'ultimate':\n",
    "        if minutes_used > 3000:\n",
    "            chargeable = minutes_used - 3000\n",
    "        else:\n",
    "            chargeable = 0\n",
    "    return chargeable"
   ]
  },
  {
   "cell_type": "code",
   "execution_count": 57,
   "metadata": {
    "scrolled": true
   },
   "outputs": [
    {
     "data": {
      "text/html": [
       "<div>\n",
       "<style scoped>\n",
       "    .dataframe tbody tr th:only-of-type {\n",
       "        vertical-align: middle;\n",
       "    }\n",
       "\n",
       "    .dataframe tbody tr th {\n",
       "        vertical-align: top;\n",
       "    }\n",
       "\n",
       "    .dataframe thead th {\n",
       "        text-align: right;\n",
       "    }\n",
       "</style>\n",
       "<table border=\"1\" class=\"dataframe\">\n",
       "  <thead>\n",
       "    <tr style=\"text-align: right;\">\n",
       "      <th></th>\n",
       "      <th></th>\n",
       "      <th></th>\n",
       "      <th>month</th>\n",
       "    </tr>\n",
       "    <tr>\n",
       "      <th>user_id</th>\n",
       "      <th>plan</th>\n",
       "      <th>city</th>\n",
       "      <th></th>\n",
       "    </tr>\n",
       "  </thead>\n",
       "  <tbody>\n",
       "    <tr>\n",
       "      <th>1000</th>\n",
       "      <th>ultimate</th>\n",
       "      <th>Atlanta-Sandy Springs-Roswell, GA MSA</th>\n",
       "      <td>12</td>\n",
       "    </tr>\n",
       "    <tr>\n",
       "      <th>1001</th>\n",
       "      <th>surf</th>\n",
       "      <th>Seattle-Tacoma-Bellevue, WA MSA</th>\n",
       "      <td>8</td>\n",
       "    </tr>\n",
       "    <tr>\n",
       "      <th>1002</th>\n",
       "      <th>surf</th>\n",
       "      <th>Las Vegas-Henderson-Paradise, NV MSA</th>\n",
       "      <td>10</td>\n",
       "    </tr>\n",
       "    <tr>\n",
       "      <th>1003</th>\n",
       "      <th>surf</th>\n",
       "      <th>Tulsa, OK MSA</th>\n",
       "      <td>1</td>\n",
       "    </tr>\n",
       "    <tr>\n",
       "      <th>1004</th>\n",
       "      <th>surf</th>\n",
       "      <th>Seattle-Tacoma-Bellevue, WA MSA</th>\n",
       "      <td>5</td>\n",
       "    </tr>\n",
       "    <tr>\n",
       "      <th>...</th>\n",
       "      <th>...</th>\n",
       "      <th>...</th>\n",
       "      <td>...</td>\n",
       "    </tr>\n",
       "    <tr>\n",
       "      <th>1495</th>\n",
       "      <th>surf</th>\n",
       "      <th>New York-Newark-Jersey City, NY-NJ-PA MSA</th>\n",
       "      <td>9</td>\n",
       "    </tr>\n",
       "    <tr>\n",
       "      <th>1496</th>\n",
       "      <th>surf</th>\n",
       "      <th>New Orleans-Metairie, LA MSA</th>\n",
       "      <td>2</td>\n",
       "    </tr>\n",
       "    <tr>\n",
       "      <th>1497</th>\n",
       "      <th>ultimate</th>\n",
       "      <th>Los Angeles-Long Beach-Anaheim, CA MSA</th>\n",
       "      <td>12</td>\n",
       "    </tr>\n",
       "    <tr>\n",
       "      <th>1498</th>\n",
       "      <th>surf</th>\n",
       "      <th>New York-Newark-Jersey City, NY-NJ-PA MSA</th>\n",
       "      <td>2</td>\n",
       "    </tr>\n",
       "    <tr>\n",
       "      <th>1499</th>\n",
       "      <th>surf</th>\n",
       "      <th>Orlando-Kissimmee-Sanford, FL MSA</th>\n",
       "      <td>5</td>\n",
       "    </tr>\n",
       "  </tbody>\n",
       "</table>\n",
       "<p>500 rows × 1 columns</p>\n",
       "</div>"
      ],
      "text/plain": [
       "                                                            month\n",
       "user_id plan     city                                            \n",
       "1000    ultimate Atlanta-Sandy Springs-Roswell, GA MSA         12\n",
       "1001    surf     Seattle-Tacoma-Bellevue, WA MSA                8\n",
       "1002    surf     Las Vegas-Henderson-Paradise, NV MSA          10\n",
       "1003    surf     Tulsa, OK MSA                                  1\n",
       "1004    surf     Seattle-Tacoma-Bellevue, WA MSA                5\n",
       "...                                                           ...\n",
       "1495    surf     New York-Newark-Jersey City, NY-NJ-PA MSA      9\n",
       "1496    surf     New Orleans-Metairie, LA MSA                   2\n",
       "1497    ultimate Los Angeles-Long Beach-Anaheim, CA MSA        12\n",
       "1498    surf     New York-Newark-Jersey City, NY-NJ-PA MSA      2\n",
       "1499    surf     Orlando-Kissimmee-Sanford, FL MSA              5\n",
       "\n",
       "[500 rows x 1 columns]"
      ]
     },
     "execution_count": 57,
     "metadata": {},
     "output_type": "execute_result"
    }
   ],
   "source": [
    "user_pivo"
   ]
  },
  {
   "cell_type": "code",
   "execution_count": 58,
   "metadata": {
    "scrolled": true
   },
   "outputs": [
    {
     "data": {
      "text/html": [
       "<div>\n",
       "<style scoped>\n",
       "    .dataframe tbody tr th:only-of-type {\n",
       "        vertical-align: middle;\n",
       "    }\n",
       "\n",
       "    .dataframe tbody tr th {\n",
       "        vertical-align: top;\n",
       "    }\n",
       "\n",
       "    .dataframe thead th {\n",
       "        text-align: right;\n",
       "    }\n",
       "</style>\n",
       "<table border=\"1\" class=\"dataframe\">\n",
       "  <thead>\n",
       "    <tr style=\"text-align: right;\">\n",
       "      <th></th>\n",
       "      <th>user_id</th>\n",
       "      <th>plan</th>\n",
       "      <th>city</th>\n",
       "      <th>minutes_used</th>\n",
       "      <th>calls_made</th>\n",
       "      <th>messages_made</th>\n",
       "      <th>internet_used_gb</th>\n",
       "    </tr>\n",
       "  </thead>\n",
       "  <tbody>\n",
       "    <tr>\n",
       "      <th>0</th>\n",
       "      <td>1000</td>\n",
       "      <td>ultimate</td>\n",
       "      <td>Atlanta-Sandy Springs-Roswell, GA MSA</td>\n",
       "      <td>117.0</td>\n",
       "      <td>16.0</td>\n",
       "      <td>11.0</td>\n",
       "      <td>5.0</td>\n",
       "    </tr>\n",
       "    <tr>\n",
       "      <th>1</th>\n",
       "      <td>1001</td>\n",
       "      <td>surf</td>\n",
       "      <td>Seattle-Tacoma-Bellevue, WA MSA</td>\n",
       "      <td>173.0</td>\n",
       "      <td>27.0</td>\n",
       "      <td>30.0</td>\n",
       "      <td>25.0</td>\n",
       "    </tr>\n",
       "    <tr>\n",
       "      <th>2</th>\n",
       "      <td>1001</td>\n",
       "      <td>surf</td>\n",
       "      <td>Seattle-Tacoma-Bellevue, WA MSA</td>\n",
       "      <td>297.0</td>\n",
       "      <td>49.0</td>\n",
       "      <td>44.0</td>\n",
       "      <td>53.0</td>\n",
       "    </tr>\n",
       "    <tr>\n",
       "      <th>3</th>\n",
       "      <td>1001</td>\n",
       "      <td>surf</td>\n",
       "      <td>Seattle-Tacoma-Bellevue, WA MSA</td>\n",
       "      <td>374.0</td>\n",
       "      <td>65.0</td>\n",
       "      <td>53.0</td>\n",
       "      <td>56.0</td>\n",
       "    </tr>\n",
       "    <tr>\n",
       "      <th>4</th>\n",
       "      <td>1001</td>\n",
       "      <td>surf</td>\n",
       "      <td>Seattle-Tacoma-Bellevue, WA MSA</td>\n",
       "      <td>404.0</td>\n",
       "      <td>64.0</td>\n",
       "      <td>36.0</td>\n",
       "      <td>51.0</td>\n",
       "    </tr>\n",
       "    <tr>\n",
       "      <th>...</th>\n",
       "      <td>...</td>\n",
       "      <td>...</td>\n",
       "      <td>...</td>\n",
       "      <td>...</td>\n",
       "      <td>...</td>\n",
       "      <td>...</td>\n",
       "      <td>...</td>\n",
       "    </tr>\n",
       "    <tr>\n",
       "      <th>2298</th>\n",
       "      <td>1498</td>\n",
       "      <td>surf</td>\n",
       "      <td>New York-Newark-Jersey City, NY-NJ-PA MSA</td>\n",
       "      <td>326.0</td>\n",
       "      <td>39.0</td>\n",
       "      <td>NaN</td>\n",
       "      <td>65.0</td>\n",
       "    </tr>\n",
       "    <tr>\n",
       "      <th>2299</th>\n",
       "      <td>1499</td>\n",
       "      <td>surf</td>\n",
       "      <td>Orlando-Kissimmee-Sanford, FL MSA</td>\n",
       "      <td>328.0</td>\n",
       "      <td>41.0</td>\n",
       "      <td>NaN</td>\n",
       "      <td>45.0</td>\n",
       "    </tr>\n",
       "    <tr>\n",
       "      <th>2300</th>\n",
       "      <td>1499</td>\n",
       "      <td>surf</td>\n",
       "      <td>Orlando-Kissimmee-Sanford, FL MSA</td>\n",
       "      <td>361.0</td>\n",
       "      <td>53.0</td>\n",
       "      <td>NaN</td>\n",
       "      <td>61.0</td>\n",
       "    </tr>\n",
       "    <tr>\n",
       "      <th>2301</th>\n",
       "      <td>1499</td>\n",
       "      <td>surf</td>\n",
       "      <td>Orlando-Kissimmee-Sanford, FL MSA</td>\n",
       "      <td>287.0</td>\n",
       "      <td>45.0</td>\n",
       "      <td>NaN</td>\n",
       "      <td>49.0</td>\n",
       "    </tr>\n",
       "    <tr>\n",
       "      <th>2302</th>\n",
       "      <td>1499</td>\n",
       "      <td>surf</td>\n",
       "      <td>Orlando-Kissimmee-Sanford, FL MSA</td>\n",
       "      <td>463.0</td>\n",
       "      <td>65.0</td>\n",
       "      <td>NaN</td>\n",
       "      <td>65.0</td>\n",
       "    </tr>\n",
       "  </tbody>\n",
       "</table>\n",
       "<p>2303 rows × 7 columns</p>\n",
       "</div>"
      ],
      "text/plain": [
       "      user_id      plan                                       city  \\\n",
       "0        1000  ultimate      Atlanta-Sandy Springs-Roswell, GA MSA   \n",
       "1        1001      surf            Seattle-Tacoma-Bellevue, WA MSA   \n",
       "2        1001      surf            Seattle-Tacoma-Bellevue, WA MSA   \n",
       "3        1001      surf            Seattle-Tacoma-Bellevue, WA MSA   \n",
       "4        1001      surf            Seattle-Tacoma-Bellevue, WA MSA   \n",
       "...       ...       ...                                        ...   \n",
       "2298     1498      surf  New York-Newark-Jersey City, NY-NJ-PA MSA   \n",
       "2299     1499      surf          Orlando-Kissimmee-Sanford, FL MSA   \n",
       "2300     1499      surf          Orlando-Kissimmee-Sanford, FL MSA   \n",
       "2301     1499      surf          Orlando-Kissimmee-Sanford, FL MSA   \n",
       "2302     1499      surf          Orlando-Kissimmee-Sanford, FL MSA   \n",
       "\n",
       "      minutes_used  calls_made  messages_made  internet_used_gb  \n",
       "0            117.0        16.0           11.0               5.0  \n",
       "1            173.0        27.0           30.0              25.0  \n",
       "2            297.0        49.0           44.0              53.0  \n",
       "3            374.0        65.0           53.0              56.0  \n",
       "4            404.0        64.0           36.0              51.0  \n",
       "...            ...         ...            ...               ...  \n",
       "2298         326.0        39.0            NaN              65.0  \n",
       "2299         328.0        41.0            NaN              45.0  \n",
       "2300         361.0        53.0            NaN              61.0  \n",
       "2301         287.0        45.0            NaN              49.0  \n",
       "2302         463.0        65.0            NaN              65.0  \n",
       "\n",
       "[2303 rows x 7 columns]"
      ]
     },
     "execution_count": 58,
     "metadata": {},
     "output_type": "execute_result"
    }
   ],
   "source": [
    "usage_tabl_planos"
   ]
  },
  {
   "cell_type": "code",
   "execution_count": 59,
   "metadata": {},
   "outputs": [],
   "source": [
    "usage_tabl_planos['charg_calls'] =  usage_tabl_planos.apply(chargeable_calls, axis=1)"
   ]
  },
  {
   "cell_type": "code",
   "execution_count": 60,
   "metadata": {},
   "outputs": [
    {
     "data": {
      "text/html": [
       "<div>\n",
       "<style scoped>\n",
       "    .dataframe tbody tr th:only-of-type {\n",
       "        vertical-align: middle;\n",
       "    }\n",
       "\n",
       "    .dataframe tbody tr th {\n",
       "        vertical-align: top;\n",
       "    }\n",
       "\n",
       "    .dataframe thead th {\n",
       "        text-align: right;\n",
       "    }\n",
       "</style>\n",
       "<table border=\"1\" class=\"dataframe\">\n",
       "  <thead>\n",
       "    <tr style=\"text-align: right;\">\n",
       "      <th></th>\n",
       "      <th>user_id</th>\n",
       "      <th>plan</th>\n",
       "      <th>city</th>\n",
       "      <th>minutes_used</th>\n",
       "      <th>calls_made</th>\n",
       "      <th>messages_made</th>\n",
       "      <th>internet_used_gb</th>\n",
       "      <th>charg_calls</th>\n",
       "    </tr>\n",
       "  </thead>\n",
       "  <tbody>\n",
       "    <tr>\n",
       "      <th>0</th>\n",
       "      <td>1000</td>\n",
       "      <td>ultimate</td>\n",
       "      <td>Atlanta-Sandy Springs-Roswell, GA MSA</td>\n",
       "      <td>117.0</td>\n",
       "      <td>16.0</td>\n",
       "      <td>11.0</td>\n",
       "      <td>5.0</td>\n",
       "      <td>0.0</td>\n",
       "    </tr>\n",
       "    <tr>\n",
       "      <th>1</th>\n",
       "      <td>1001</td>\n",
       "      <td>surf</td>\n",
       "      <td>Seattle-Tacoma-Bellevue, WA MSA</td>\n",
       "      <td>173.0</td>\n",
       "      <td>27.0</td>\n",
       "      <td>30.0</td>\n",
       "      <td>25.0</td>\n",
       "      <td>0.0</td>\n",
       "    </tr>\n",
       "    <tr>\n",
       "      <th>2</th>\n",
       "      <td>1001</td>\n",
       "      <td>surf</td>\n",
       "      <td>Seattle-Tacoma-Bellevue, WA MSA</td>\n",
       "      <td>297.0</td>\n",
       "      <td>49.0</td>\n",
       "      <td>44.0</td>\n",
       "      <td>53.0</td>\n",
       "      <td>0.0</td>\n",
       "    </tr>\n",
       "    <tr>\n",
       "      <th>3</th>\n",
       "      <td>1001</td>\n",
       "      <td>surf</td>\n",
       "      <td>Seattle-Tacoma-Bellevue, WA MSA</td>\n",
       "      <td>374.0</td>\n",
       "      <td>65.0</td>\n",
       "      <td>53.0</td>\n",
       "      <td>56.0</td>\n",
       "      <td>0.0</td>\n",
       "    </tr>\n",
       "    <tr>\n",
       "      <th>4</th>\n",
       "      <td>1001</td>\n",
       "      <td>surf</td>\n",
       "      <td>Seattle-Tacoma-Bellevue, WA MSA</td>\n",
       "      <td>404.0</td>\n",
       "      <td>64.0</td>\n",
       "      <td>36.0</td>\n",
       "      <td>51.0</td>\n",
       "      <td>0.0</td>\n",
       "    </tr>\n",
       "  </tbody>\n",
       "</table>\n",
       "</div>"
      ],
      "text/plain": [
       "   user_id      plan                                   city  minutes_used  \\\n",
       "0     1000  ultimate  Atlanta-Sandy Springs-Roswell, GA MSA         117.0   \n",
       "1     1001      surf        Seattle-Tacoma-Bellevue, WA MSA         173.0   \n",
       "2     1001      surf        Seattle-Tacoma-Bellevue, WA MSA         297.0   \n",
       "3     1001      surf        Seattle-Tacoma-Bellevue, WA MSA         374.0   \n",
       "4     1001      surf        Seattle-Tacoma-Bellevue, WA MSA         404.0   \n",
       "\n",
       "   calls_made  messages_made  internet_used_gb  charg_calls  \n",
       "0        16.0           11.0               5.0          0.0  \n",
       "1        27.0           30.0              25.0          0.0  \n",
       "2        49.0           44.0              53.0          0.0  \n",
       "3        65.0           53.0              56.0          0.0  \n",
       "4        64.0           36.0              51.0          0.0  "
      ]
     },
     "execution_count": 60,
     "metadata": {},
     "output_type": "execute_result"
    }
   ],
   "source": [
    "usage_tabl_planos.head()"
   ]
  },
  {
   "cell_type": "code",
   "execution_count": 61,
   "metadata": {},
   "outputs": [],
   "source": [
    "receita_tot_calls= (usage_tabl_planos['charg_calls'] * 0.03 )+ 20 \n"
   ]
  },
  {
   "cell_type": "code",
   "execution_count": 62,
   "metadata": {},
   "outputs": [
    {
     "data": {
      "text/html": [
       "<div>\n",
       "<style scoped>\n",
       "    .dataframe tbody tr th:only-of-type {\n",
       "        vertical-align: middle;\n",
       "    }\n",
       "\n",
       "    .dataframe tbody tr th {\n",
       "        vertical-align: top;\n",
       "    }\n",
       "\n",
       "    .dataframe thead th {\n",
       "        text-align: right;\n",
       "    }\n",
       "</style>\n",
       "<table border=\"1\" class=\"dataframe\">\n",
       "  <thead>\n",
       "    <tr style=\"text-align: right;\">\n",
       "      <th></th>\n",
       "      <th>messages_included</th>\n",
       "      <th>mb_per_month_included</th>\n",
       "      <th>minutes_included</th>\n",
       "      <th>usd_monthly_pay</th>\n",
       "      <th>usd_per_gb</th>\n",
       "      <th>usd_per_message</th>\n",
       "      <th>usd_per_minute</th>\n",
       "      <th>plan_name</th>\n",
       "      <th>GB</th>\n",
       "    </tr>\n",
       "  </thead>\n",
       "  <tbody>\n",
       "    <tr>\n",
       "      <th>0</th>\n",
       "      <td>50</td>\n",
       "      <td>15360</td>\n",
       "      <td>500</td>\n",
       "      <td>20</td>\n",
       "      <td>10</td>\n",
       "      <td>0.03</td>\n",
       "      <td>0.03</td>\n",
       "      <td>surf</td>\n",
       "      <td>15.0</td>\n",
       "    </tr>\n",
       "    <tr>\n",
       "      <th>1</th>\n",
       "      <td>1000</td>\n",
       "      <td>30720</td>\n",
       "      <td>3000</td>\n",
       "      <td>70</td>\n",
       "      <td>7</td>\n",
       "      <td>0.01</td>\n",
       "      <td>0.01</td>\n",
       "      <td>ultimate</td>\n",
       "      <td>30.0</td>\n",
       "    </tr>\n",
       "  </tbody>\n",
       "</table>\n",
       "</div>"
      ],
      "text/plain": [
       "   messages_included  mb_per_month_included  minutes_included  \\\n",
       "0                 50                  15360               500   \n",
       "1               1000                  30720              3000   \n",
       "\n",
       "   usd_monthly_pay  usd_per_gb  usd_per_message  usd_per_minute plan_name  \\\n",
       "0               20          10             0.03            0.03      surf   \n",
       "1               70           7             0.01            0.01  ultimate   \n",
       "\n",
       "     GB  \n",
       "0  15.0  \n",
       "1  30.0  "
      ]
     },
     "execution_count": 62,
     "metadata": {},
     "output_type": "execute_result"
    }
   ],
   "source": [
    "df_plans"
   ]
  },
  {
   "cell_type": "markdown",
   "metadata": {},
   "source": [
    "##### Receita de text"
   ]
  },
  {
   "cell_type": "code",
   "execution_count": 63,
   "metadata": {},
   "outputs": [],
   "source": [
    "def chargeable_txt(row):\n",
    "    plan = row['plan']\n",
    "    messages_made = row['messages_made']\n",
    "    \n",
    "    if plan == 'surf':\n",
    "        if messages_made > 50:\n",
    "            chargeable = messages_made - 50\n",
    "        else:\n",
    "            chargeable = 0\n",
    "    if plan == 'ultimate':\n",
    "        if messages_made > 1000:\n",
    "            chargeable = messages_made - 1000\n",
    "        else:\n",
    "            chargeable = 0\n",
    "    return chargeable"
   ]
  },
  {
   "cell_type": "code",
   "execution_count": 64,
   "metadata": {
    "scrolled": true
   },
   "outputs": [],
   "source": [
    "usage_tabl_planos['charg_text'] =  usage_tabl_planos.apply(chargeable_txt, axis=1)"
   ]
  },
  {
   "cell_type": "code",
   "execution_count": 65,
   "metadata": {},
   "outputs": [],
   "source": [
    "receita_tot_txt= (usage_tabl_planos['charg_text'] * 0.03 ) + 20 "
   ]
  },
  {
   "cell_type": "code",
   "execution_count": 66,
   "metadata": {
    "scrolled": false
   },
   "outputs": [
    {
     "data": {
      "text/plain": [
       "count    2303.000000\n",
       "mean        4.789839\n",
       "std        16.417795\n",
       "min         0.000000\n",
       "25%         0.000000\n",
       "50%         0.000000\n",
       "75%         0.000000\n",
       "max       216.000000\n",
       "Name: charg_text, dtype: float64"
      ]
     },
     "execution_count": 66,
     "metadata": {},
     "output_type": "execute_result"
    }
   ],
   "source": [
    "usage_tabl_planos['charg_text'].describe()"
   ]
  },
  {
   "cell_type": "markdown",
   "metadata": {},
   "source": [
    "##### Receita de data\n"
   ]
  },
  {
   "cell_type": "code",
   "execution_count": 67,
   "metadata": {},
   "outputs": [],
   "source": [
    "def chargeable_data(row):\n",
    "    plan = row['plan']\n",
    "    data_used = row['internet_used_gb']\n",
    "    \n",
    "    if plan == 'surf':\n",
    "        if data_used > 1.5:\n",
    "            chargeable = data_used - 1.5\n",
    "        else:\n",
    "            chargeable = 0\n",
    "    if plan == 'ultimate':\n",
    "        if data_used > 3:\n",
    "            chargeable = data_used - 3\n",
    "        else:\n",
    "            chargeable = 0\n",
    "    return chargeable"
   ]
  },
  {
   "cell_type": "code",
   "execution_count": 68,
   "metadata": {},
   "outputs": [],
   "source": [
    "usage_tabl_planos['charg_data'] =  usage_tabl_planos.apply(chargeable_data, axis=1)"
   ]
  },
  {
   "cell_type": "code",
   "execution_count": 69,
   "metadata": {
    "scrolled": true
   },
   "outputs": [
    {
     "data": {
      "text/html": [
       "<div>\n",
       "<style scoped>\n",
       "    .dataframe tbody tr th:only-of-type {\n",
       "        vertical-align: middle;\n",
       "    }\n",
       "\n",
       "    .dataframe tbody tr th {\n",
       "        vertical-align: top;\n",
       "    }\n",
       "\n",
       "    .dataframe thead th {\n",
       "        text-align: right;\n",
       "    }\n",
       "</style>\n",
       "<table border=\"1\" class=\"dataframe\">\n",
       "  <thead>\n",
       "    <tr style=\"text-align: right;\">\n",
       "      <th></th>\n",
       "      <th>user_id</th>\n",
       "      <th>plan</th>\n",
       "      <th>city</th>\n",
       "      <th>minutes_used</th>\n",
       "      <th>calls_made</th>\n",
       "      <th>messages_made</th>\n",
       "      <th>internet_used_gb</th>\n",
       "      <th>charg_calls</th>\n",
       "      <th>charg_text</th>\n",
       "      <th>charg_data</th>\n",
       "    </tr>\n",
       "  </thead>\n",
       "  <tbody>\n",
       "    <tr>\n",
       "      <th>0</th>\n",
       "      <td>1000</td>\n",
       "      <td>ultimate</td>\n",
       "      <td>Atlanta-Sandy Springs-Roswell, GA MSA</td>\n",
       "      <td>117.0</td>\n",
       "      <td>16.0</td>\n",
       "      <td>11.0</td>\n",
       "      <td>5.0</td>\n",
       "      <td>0.0</td>\n",
       "      <td>0.0</td>\n",
       "      <td>2.0</td>\n",
       "    </tr>\n",
       "    <tr>\n",
       "      <th>1</th>\n",
       "      <td>1001</td>\n",
       "      <td>surf</td>\n",
       "      <td>Seattle-Tacoma-Bellevue, WA MSA</td>\n",
       "      <td>173.0</td>\n",
       "      <td>27.0</td>\n",
       "      <td>30.0</td>\n",
       "      <td>25.0</td>\n",
       "      <td>0.0</td>\n",
       "      <td>0.0</td>\n",
       "      <td>23.5</td>\n",
       "    </tr>\n",
       "    <tr>\n",
       "      <th>2</th>\n",
       "      <td>1001</td>\n",
       "      <td>surf</td>\n",
       "      <td>Seattle-Tacoma-Bellevue, WA MSA</td>\n",
       "      <td>297.0</td>\n",
       "      <td>49.0</td>\n",
       "      <td>44.0</td>\n",
       "      <td>53.0</td>\n",
       "      <td>0.0</td>\n",
       "      <td>0.0</td>\n",
       "      <td>51.5</td>\n",
       "    </tr>\n",
       "    <tr>\n",
       "      <th>3</th>\n",
       "      <td>1001</td>\n",
       "      <td>surf</td>\n",
       "      <td>Seattle-Tacoma-Bellevue, WA MSA</td>\n",
       "      <td>374.0</td>\n",
       "      <td>65.0</td>\n",
       "      <td>53.0</td>\n",
       "      <td>56.0</td>\n",
       "      <td>0.0</td>\n",
       "      <td>3.0</td>\n",
       "      <td>54.5</td>\n",
       "    </tr>\n",
       "    <tr>\n",
       "      <th>4</th>\n",
       "      <td>1001</td>\n",
       "      <td>surf</td>\n",
       "      <td>Seattle-Tacoma-Bellevue, WA MSA</td>\n",
       "      <td>404.0</td>\n",
       "      <td>64.0</td>\n",
       "      <td>36.0</td>\n",
       "      <td>51.0</td>\n",
       "      <td>0.0</td>\n",
       "      <td>0.0</td>\n",
       "      <td>49.5</td>\n",
       "    </tr>\n",
       "    <tr>\n",
       "      <th>5</th>\n",
       "      <td>1001</td>\n",
       "      <td>surf</td>\n",
       "      <td>Seattle-Tacoma-Bellevue, WA MSA</td>\n",
       "      <td>394.0</td>\n",
       "      <td>56.0</td>\n",
       "      <td>44.0</td>\n",
       "      <td>60.0</td>\n",
       "      <td>0.0</td>\n",
       "      <td>0.0</td>\n",
       "      <td>58.5</td>\n",
       "    </tr>\n",
       "    <tr>\n",
       "      <th>6</th>\n",
       "      <td>1002</td>\n",
       "      <td>surf</td>\n",
       "      <td>Las Vegas-Henderson-Paradise, NV MSA</td>\n",
       "      <td>53.0</td>\n",
       "      <td>11.0</td>\n",
       "      <td>15.0</td>\n",
       "      <td>21.0</td>\n",
       "      <td>0.0</td>\n",
       "      <td>0.0</td>\n",
       "      <td>19.5</td>\n",
       "    </tr>\n",
       "    <tr>\n",
       "      <th>7</th>\n",
       "      <td>1002</td>\n",
       "      <td>surf</td>\n",
       "      <td>Las Vegas-Henderson-Paradise, NV MSA</td>\n",
       "      <td>359.0</td>\n",
       "      <td>55.0</td>\n",
       "      <td>32.0</td>\n",
       "      <td>52.0</td>\n",
       "      <td>0.0</td>\n",
       "      <td>0.0</td>\n",
       "      <td>50.5</td>\n",
       "    </tr>\n",
       "    <tr>\n",
       "      <th>8</th>\n",
       "      <td>1002</td>\n",
       "      <td>surf</td>\n",
       "      <td>Las Vegas-Henderson-Paradise, NV MSA</td>\n",
       "      <td>362.0</td>\n",
       "      <td>47.0</td>\n",
       "      <td>41.0</td>\n",
       "      <td>51.0</td>\n",
       "      <td>0.0</td>\n",
       "      <td>0.0</td>\n",
       "      <td>49.5</td>\n",
       "    </tr>\n",
       "    <tr>\n",
       "      <th>9</th>\n",
       "      <td>1003</td>\n",
       "      <td>surf</td>\n",
       "      <td>Tulsa, OK MSA</td>\n",
       "      <td>1040.0</td>\n",
       "      <td>149.0</td>\n",
       "      <td>50.0</td>\n",
       "      <td>52.0</td>\n",
       "      <td>540.0</td>\n",
       "      <td>0.0</td>\n",
       "      <td>50.5</td>\n",
       "    </tr>\n",
       "  </tbody>\n",
       "</table>\n",
       "</div>"
      ],
      "text/plain": [
       "   user_id      plan                                   city  minutes_used  \\\n",
       "0     1000  ultimate  Atlanta-Sandy Springs-Roswell, GA MSA         117.0   \n",
       "1     1001      surf        Seattle-Tacoma-Bellevue, WA MSA         173.0   \n",
       "2     1001      surf        Seattle-Tacoma-Bellevue, WA MSA         297.0   \n",
       "3     1001      surf        Seattle-Tacoma-Bellevue, WA MSA         374.0   \n",
       "4     1001      surf        Seattle-Tacoma-Bellevue, WA MSA         404.0   \n",
       "5     1001      surf        Seattle-Tacoma-Bellevue, WA MSA         394.0   \n",
       "6     1002      surf   Las Vegas-Henderson-Paradise, NV MSA          53.0   \n",
       "7     1002      surf   Las Vegas-Henderson-Paradise, NV MSA         359.0   \n",
       "8     1002      surf   Las Vegas-Henderson-Paradise, NV MSA         362.0   \n",
       "9     1003      surf                          Tulsa, OK MSA        1040.0   \n",
       "\n",
       "   calls_made  messages_made  internet_used_gb  charg_calls  charg_text  \\\n",
       "0        16.0           11.0               5.0          0.0         0.0   \n",
       "1        27.0           30.0              25.0          0.0         0.0   \n",
       "2        49.0           44.0              53.0          0.0         0.0   \n",
       "3        65.0           53.0              56.0          0.0         3.0   \n",
       "4        64.0           36.0              51.0          0.0         0.0   \n",
       "5        56.0           44.0              60.0          0.0         0.0   \n",
       "6        11.0           15.0              21.0          0.0         0.0   \n",
       "7        55.0           32.0              52.0          0.0         0.0   \n",
       "8        47.0           41.0              51.0          0.0         0.0   \n",
       "9       149.0           50.0              52.0        540.0         0.0   \n",
       "\n",
       "   charg_data  \n",
       "0         2.0  \n",
       "1        23.5  \n",
       "2        51.5  \n",
       "3        54.5  \n",
       "4        49.5  \n",
       "5        58.5  \n",
       "6        19.5  \n",
       "7        50.5  \n",
       "8        49.5  \n",
       "9        50.5  "
      ]
     },
     "execution_count": 69,
     "metadata": {},
     "output_type": "execute_result"
    }
   ],
   "source": [
    "usage_tabl_planos.head(10)"
   ]
  },
  {
   "cell_type": "markdown",
   "metadata": {},
   "source": [
    "##### Receita de data\n"
   ]
  },
  {
   "cell_type": "markdown",
   "metadata": {},
   "source": [
    "  - Cálculando a receita total de cada usuário :"
   ]
  },
  {
   "cell_type": "code",
   "execution_count": 70,
   "metadata": {},
   "outputs": [],
   "source": [
    "sf_chr= 20\n",
    "sf_min= 500\n",
    "sf_msg = 50\n",
    "sf_dt= 15\n",
    "sf_call_chg= 0.03\n",
    "sf_msg_chg=  0.03\n",
    "sf_dt_chg= 10\n",
    "\n",
    "ul_mn_chg= 70\n",
    "ul_mn_min= 3000\n",
    "ul_mn_msg= 1000\n",
    "ul_mn_dt= 30\n",
    "ul_call_chg=  0.01\n",
    "ul_msg_chg = 0.01\n",
    "ul_dt_chg=  7\n"
   ]
  },
  {
   "cell_type": "code",
   "execution_count": 71,
   "metadata": {},
   "outputs": [],
   "source": [
    "def mont_revn (row):\n",
    "    plan = row['plan']\n",
    "    charg_calls = row['charg_calls']\n",
    "    charg_text = row['charg_text']\n",
    "    charg_data = row['charg_data']\n",
    "    \n",
    "    if plan == 'surf':\n",
    "        revenue = sf_chr + ((charg_calls * sf_call_chg) + (charg_text * sf_msg_chg ) + (charg_data * sf_dt_chg))\n",
    "    else: \n",
    "        revenue = ul_mn_chg + ((charg_calls* ul_call_chg) + (charg_text * ul_msg_chg ) + (charg_data * ul_dt_chg))\n",
    "    return revenue                    \n",
    "    \n",
    "    "
   ]
  },
  {
   "cell_type": "code",
   "execution_count": 72,
   "metadata": {},
   "outputs": [],
   "source": [
    "usage_tabl_planos['mont_revenue'] =  usage_tabl_planos.apply(mont_revn, axis=1)\n"
   ]
  },
  {
   "cell_type": "markdown",
   "metadata": {},
   "source": [
    "##  Analisando os dados\n"
   ]
  },
  {
   "cell_type": "markdown",
   "metadata": {},
   "source": [
    "###  Plotando as analises para as 3 classes (call, text e data)\n"
   ]
  },
  {
   "cell_type": "markdown",
   "metadata": {},
   "source": [
    "   *Para comparar a distribuição dos dados entre os 2 planos podemos plotar gráficos na forma de histogramas de frequência, já que estamos lidando com variáveis discretas.*  "
   ]
  },
  {
   "cell_type": "code",
   "execution_count": 73,
   "metadata": {},
   "outputs": [],
   "source": [
    "import matplotlib.pyplot as plt\n",
    "import numpy as np"
   ]
  },
  {
   "cell_type": "code",
   "execution_count": 74,
   "metadata": {
    "scrolled": true
   },
   "outputs": [
    {
     "data": {
      "image/png": "[encoded data removed]",
      "text/plain": [
       "<Figure size 432x288 with 1 Axes>"
      ]
     },
     "metadata": {
      "needs_background": "light"
     },
     "output_type": "display_data"
    },
    {
     "data": {
      "image/png": "[encoded data removed]",
      "text/plain": [
       "<Figure size 432x288 with 1 Axes>"
      ]
     },
     "metadata": {
      "needs_background": "light"
     },
     "output_type": "display_data"
    },
    {
     "data": {
      "image/png": "[encoded data removed]",
      "text/plain": [
       "<Figure size 432x288 with 1 Axes>"
      ]
     },
     "metadata": {
      "needs_background": "light"
     },
     "output_type": "display_data"
    }
   ],
   "source": [
    "variables = ['minutes_used', 'messages_made', 'internet_used_gb']\n",
    "plans = ['surf', 'ultimate']\n",
    "\n",
    "for col in variables:\n",
    "    for tariff in plans:\n",
    "        usage_tabl_planos[usage_tabl_planos['plan'] == tariff][col].plot(kind = 'hist', bins = 100)\n",
    "    plt.title(col)\n",
    "    plt.legend(plans)\n",
    "    plt.show()"
   ]
  },
  {
   "cell_type": "markdown",
   "metadata": {},
   "source": [
    "####  Gráfico de minutos\n"
   ]
  },
  {
   "cell_type": "markdown",
   "metadata": {},
   "source": [
    "   - O gráfico de minutos mostra uma distribuição normal, levemente assimétrica para a direita (positiva). \n",
    "     - Os 2 planos tem uma distribuição parecida\n",
    "     - Usuários de surf tem uma maior concentração em torno da média, que tem um pico acentuado\n",
    "     - Usuários de ultimate apresentam mais valores nos limite a direita \n",
    "     - No plano ultimate existem mais valores atípicos > 800 minutos."
   ]
  },
  {
   "cell_type": "markdown",
   "metadata": {},
   "source": [
    "####  Gráfico de mensagens:\n"
   ]
  },
  {
   "cell_type": "markdown",
   "metadata": {},
   "source": [
    "   - Distribuição assimétrica positiva, para a direita, acentuada em surf.\n",
    "     - Usuários de surf tem uma maior concentração dos dados entre 0 e 50 msgs, ja os de ultimate vai até 100 msg a distribuição que é um pouco maior. \n",
    "     "
   ]
  },
  {
   "cell_type": "markdown",
   "metadata": {},
   "source": [
    "####  Gráfico de data:\n"
   ]
  },
  {
   "cell_type": "markdown",
   "metadata": {},
   "source": [
    "   -  distribuição normal, levemente assimétrica para a esquerda (negativa), pouca densidade de frequência dos dados > de 80gb.\n",
    "     - Ambos gráficos tem uma distribuição parecida\n",
    "     - Usuários de surf tem uma maior concentração em torno da média, que tem um pico acentuado, grande concentração de densidade dos dados entre 40 e 70gb. \n",
    "     - Alguns outliers nos limites a direita"
   ]
  },
  {
   "cell_type": "markdown",
   "metadata": {},
   "source": [
    "###  Analisando as chamadas 'calls'\n"
   ]
  },
  {
   "cell_type": "code",
   "execution_count": 75,
   "metadata": {
    "scrolled": false
   },
   "outputs": [],
   "source": [
    "tab_final_surf= usage_tabl_planos.query('plan == \"surf\"')"
   ]
  },
  {
   "cell_type": "code",
   "execution_count": 76,
   "metadata": {},
   "outputs": [],
   "source": [
    "tab_final_prime= usage_tabl_planos.query('plan == \"surf\"')"
   ]
  },
  {
   "cell_type": "code",
   "execution_count": 77,
   "metadata": {},
   "outputs": [
    {
     "data": {
      "text/plain": [
       "count    1545.000000\n",
       "mean      411.974757\n",
       "std       216.677329\n",
       "min         0.000000\n",
       "25%       262.000000\n",
       "50%       406.000000\n",
       "75%       546.000000\n",
       "max      1433.000000\n",
       "Name: minutes_used, dtype: float64"
      ]
     },
     "execution_count": 77,
     "metadata": {},
     "output_type": "execute_result"
    }
   ],
   "source": [
    "tab_final_surf['minutes_used'].describe()"
   ]
  },
  {
   "cell_type": "code",
   "execution_count": 78,
   "metadata": {},
   "outputs": [],
   "source": [
    "vari = np.var(tab_final_surf['minutes_used'])"
   ]
  },
  {
   "cell_type": "code",
   "execution_count": 79,
   "metadata": {
    "scrolled": true
   },
   "outputs": [
    {
     "data": {
      "text/plain": [
       "216.6071952468525"
      ]
     },
     "execution_count": 79,
     "metadata": {},
     "output_type": "execute_result"
    }
   ],
   "source": [
    "standard_deviation = np.std(tab_final_surf['minutes_used'])\n",
    "standard_deviation"
   ]
  },
  {
   "cell_type": "code",
   "execution_count": 80,
   "metadata": {},
   "outputs": [],
   "source": [
    "tab_final_ultimate= usage_tabl_planos.query('plan == \"ultimate\"')"
   ]
  },
  {
   "cell_type": "code",
   "execution_count": 81,
   "metadata": {},
   "outputs": [
    {
     "data": {
      "text/plain": [
       "count     713.000000\n",
       "mean      410.103787\n",
       "std       224.646615\n",
       "min         0.000000\n",
       "25%       248.000000\n",
       "50%       401.000000\n",
       "75%       536.000000\n",
       "max      1297.000000\n",
       "Name: minutes_used, dtype: float64"
      ]
     },
     "execution_count": 81,
     "metadata": {},
     "output_type": "execute_result"
    }
   ],
   "source": [
    "tab_final_ultimate['minutes_used'].describe()"
   ]
  },
  {
   "cell_type": "code",
   "execution_count": 82,
   "metadata": {},
   "outputs": [
    {
     "data": {
      "text/plain": [
       "50395.32162661374"
      ]
     },
     "execution_count": 82,
     "metadata": {},
     "output_type": "execute_result"
    }
   ],
   "source": [
    "np.var(tab_final_ultimate['minutes_used'])"
   ]
  },
  {
   "cell_type": "code",
   "execution_count": 83,
   "metadata": {
    "scrolled": false
   },
   "outputs": [
    {
     "data": {
      "text/plain": [
       "224.48902339894872"
      ]
     },
     "execution_count": 83,
     "metadata": {},
     "output_type": "execute_result"
    }
   ],
   "source": [
    "np.std(tab_final_ultimate['minutes_used'])\n"
   ]
  },
  {
   "cell_type": "markdown",
   "metadata": {},
   "source": [
    "  - Ao se comparar o uso dos minutos para usuários de ambos planos, podemos observar que ultimate tem uma concentração mais elevada de valores acima de 400 minutos. Também esxiste uma distribuição maior de usuários nso limites superiores (de 800 a 1200)   \n",
    " - variação positiva a esquerda, o que coincide com um valor maior da variancia que do plano surf e um devio padrão mais elevado.   "
   ]
  },
  {
   "cell_type": "markdown",
   "metadata": {},
   "source": [
    "###  Analisando o dataset messages\n"
   ]
  },
  {
   "cell_type": "code",
   "execution_count": 84,
   "metadata": {},
   "outputs": [
    {
     "data": {
      "text/plain": [
       "count    1222.000000\n",
       "mean       40.109656\n",
       "std        33.035500\n",
       "min         1.000000\n",
       "25%        16.000000\n",
       "50%        32.000000\n",
       "75%        54.000000\n",
       "max       266.000000\n",
       "Name: messages_made, dtype: float64"
      ]
     },
     "execution_count": 84,
     "metadata": {},
     "output_type": "execute_result"
    }
   ],
   "source": [
    "tab_final_surf['messages_made'].describe()"
   ]
  },
  {
   "cell_type": "code",
   "execution_count": 85,
   "metadata": {},
   "outputs": [],
   "source": [
    "vari = np.var(tab_final_surf['messages_made'])"
   ]
  },
  {
   "cell_type": "code",
   "execution_count": 86,
   "metadata": {
    "scrolled": true
   },
   "outputs": [
    {
     "data": {
      "text/plain": [
       "33.02197981070137"
      ]
     },
     "execution_count": 86,
     "metadata": {},
     "output_type": "execute_result"
    }
   ],
   "source": [
    "standard_deviation = np.std(tab_final_surf['messages_made'])\n",
    "standard_deviation"
   ]
  },
  {
   "cell_type": "markdown",
   "metadata": {},
   "source": [
    "ultimate"
   ]
  },
  {
   "cell_type": "code",
   "execution_count": 87,
   "metadata": {},
   "outputs": [
    {
     "data": {
      "text/plain": [
       "count    584.000000\n",
       "mean      46.296233\n",
       "std       32.942118\n",
       "min        1.000000\n",
       "25%       21.000000\n",
       "50%       41.000000\n",
       "75%       66.000000\n",
       "max      166.000000\n",
       "Name: messages_made, dtype: float64"
      ]
     },
     "execution_count": 87,
     "metadata": {},
     "output_type": "execute_result"
    }
   ],
   "source": [
    "tab_final_ultimate['messages_made'].describe()"
   ]
  },
  {
   "cell_type": "code",
   "execution_count": 88,
   "metadata": {},
   "outputs": [],
   "source": [
    "vari = np.var(tab_final_ultimate['messages_made'])"
   ]
  },
  {
   "cell_type": "code",
   "execution_count": 89,
   "metadata": {
    "scrolled": true
   },
   "outputs": [
    {
     "data": {
      "text/plain": [
       "32.91390158148425"
      ]
     },
     "execution_count": 89,
     "metadata": {},
     "output_type": "execute_result"
    }
   ],
   "source": [
    "standard_deviation = np.std(tab_final_ultimate['messages_made'])\n",
    "standard_deviation"
   ]
  },
  {
   "cell_type": "markdown",
   "metadata": {},
   "source": [
    "   - Como a distribuição não é normal, é assimétrica com desvio padrão > à média ."
   ]
  },
  {
   "cell_type": "markdown",
   "metadata": {},
   "source": [
    "###  Analisando o dataset data\n"
   ]
  },
  {
   "cell_type": "markdown",
   "metadata": {},
   "source": [
    "   - desvio padrão < à média"
   ]
  },
  {
   "cell_type": "code",
   "execution_count": 90,
   "metadata": {},
   "outputs": [
    {
     "data": {
      "text/plain": [
       "count    1558.000000\n",
       "mean       45.947368\n",
       "std        19.723127\n",
       "min         1.000000\n",
       "25%        35.000000\n",
       "50%        48.000000\n",
       "75%        59.000000\n",
       "max       138.000000\n",
       "Name: internet_used_gb, dtype: float64"
      ]
     },
     "execution_count": 90,
     "metadata": {},
     "output_type": "execute_result"
    }
   ],
   "source": [
    "tab_final_surf['internet_used_gb'].describe()"
   ]
  },
  {
   "cell_type": "code",
   "execution_count": 91,
   "metadata": {},
   "outputs": [
    {
     "data": {
      "text/plain": [
       "388.7520437808256"
      ]
     },
     "execution_count": 91,
     "metadata": {},
     "output_type": "execute_result"
    }
   ],
   "source": [
    " np.var(tab_final_surf['internet_used_gb'])"
   ]
  },
  {
   "cell_type": "code",
   "execution_count": 92,
   "metadata": {
    "scrolled": true
   },
   "outputs": [
    {
     "data": {
      "text/plain": [
       "19.716795981619974"
      ]
     },
     "execution_count": 92,
     "metadata": {},
     "output_type": "execute_result"
    }
   ],
   "source": [
    "standard_deviation = np.std(tab_final_surf['internet_used_gb'])\n",
    "standard_deviation"
   ]
  },
  {
   "cell_type": "code",
   "execution_count": 93,
   "metadata": {},
   "outputs": [
    {
     "data": {
      "text/plain": [
       "count    719.000000\n",
       "mean      46.229485\n",
       "std       18.281120\n",
       "min        1.000000\n",
       "25%       36.000000\n",
       "50%       49.000000\n",
       "75%       58.000000\n",
       "max      111.000000\n",
       "Name: internet_used_gb, dtype: float64"
      ]
     },
     "execution_count": 93,
     "metadata": {},
     "output_type": "execute_result"
    }
   ],
   "source": [
    "tab_final_ultimate['internet_used_gb'].describe()"
   ]
  },
  {
   "cell_type": "code",
   "execution_count": 94,
   "metadata": {},
   "outputs": [
    {
     "data": {
      "text/plain": [
       "333.7345409034724"
      ]
     },
     "execution_count": 94,
     "metadata": {},
     "output_type": "execute_result"
    }
   ],
   "source": [
    " np.var(tab_final_ultimate['internet_used_gb'])"
   ]
  },
  {
   "cell_type": "code",
   "execution_count": 95,
   "metadata": {
    "scrolled": true
   },
   "outputs": [
    {
     "data": {
      "text/plain": [
       "18.268402801106408"
      ]
     },
     "execution_count": 95,
     "metadata": {},
     "output_type": "execute_result"
    }
   ],
   "source": [
    "standard_deviation = np.std(tab_final_ultimate['internet_used_gb'])\n",
    "standard_deviation"
   ]
  },
  {
   "cell_type": "markdown",
   "metadata": {},
   "source": [
    "*Coincide com observado nos gráficos* "
   ]
  },
  {
   "cell_type": "code",
   "execution_count": 96,
   "metadata": {
    "scrolled": true
   },
   "outputs": [
    {
     "ename": "NameError",
     "evalue": "name 'ultim_user' is not defined",
     "output_type": "error",
     "traceback": [
      "\u001b[0;31m---------------------------------------------------------------------------\u001b[0m",
      "\u001b[0;31mNameError\u001b[0m                                 Traceback (most recent call last)",
      "\u001b[0;32m/tmp/ipykernel_88/94536693.py\u001b[0m in \u001b[0;36m<module>\u001b[0;34m\u001b[0m\n\u001b[0;32m----> 1\u001b[0;31m \u001b[0multim_user\u001b[0m\u001b[0;34m[\u001b[0m\u001b[0;34m'mont_revenue'\u001b[0m\u001b[0;34m]\u001b[0m\u001b[0;34m.\u001b[0m\u001b[0mplot\u001b[0m\u001b[0;34m.\u001b[0m\u001b[0mbox\u001b[0m\u001b[0;34m(\u001b[0m\u001b[0;34m)\u001b[0m\u001b[0;34m\u001b[0m\u001b[0;34m\u001b[0m\u001b[0m\n\u001b[0m",
      "\u001b[0;31mNameError\u001b[0m: name 'ultim_user' is not defined"
     ]
    }
   ],
   "source": [
    "ultim_user['mont_revenue'].plot.box()"
   ]
  },
  {
   "cell_type": "code",
   "execution_count": null,
   "metadata": {
    "scrolled": true
   },
   "outputs": [],
   "source": [
    "surf_users['mont_revenue'].plot.box()"
   ]
  },
  {
   "cell_type": "markdown",
   "metadata": {},
   "source": [
    "Os valores dos quartis superiores de surf são maiores, além disso o valor da média também é superior."
   ]
  },
  {
   "cell_type": "markdown",
   "metadata": {},
   "source": [
    "##  Teste as hipóteses\n"
   ]
  },
  {
   "cell_type": "markdown",
   "metadata": {},
   "source": [
    "     Os gráficos gerados permitiram observações interessantes, porém podemos buscar por outros tipos de \"comportamento\" dos usuários nos dados. \n",
    "  ### *Hipótese 1: - A receita média dos usuários da área de NY-NJ é diferente dos usuários de outras regiões.*\n"
   ]
  },
  {
   "cell_type": "markdown",
   "metadata": {},
   "source": [
    "A receita média dos usuários da área de NY-NJ é diferente dos usuários de outras regiões.\n"
   ]
  },
  {
   "cell_type": "code",
   "execution_count": 106,
   "metadata": {},
   "outputs": [],
   "source": [
    "usage_tabl_planos['ny_nj'] = usage_tabl_planos['city'].str.contains('NY-NJ')"
   ]
  },
  {
   "cell_type": "code",
   "execution_count": 107,
   "metadata": {
    "scrolled": true
   },
   "outputs": [
    {
     "data": {
      "text/plain": [
       "False    1925\n",
       "True      378\n",
       "Name: ny_nj, dtype: int64"
      ]
     },
     "execution_count": 107,
     "metadata": {},
     "output_type": "execute_result"
    }
   ],
   "source": [
    "usage_tabl_planos['ny_nj'].value_counts() "
   ]
  },
  {
   "cell_type": "code",
   "execution_count": 108,
   "metadata": {},
   "outputs": [],
   "source": [
    "other_users = usage_tabl_planos.query('ny_nj == False')\n"
   ]
  },
  {
   "cell_type": "code",
   "execution_count": 109,
   "metadata": {},
   "outputs": [],
   "source": [
    "nynj_users  = usage_tabl_planos.query('ny_nj == True')\n"
   ]
  },
  {
   "cell_type": "code",
   "execution_count": 110,
   "metadata": {},
   "outputs": [],
   "source": [
    "import seaborn as sns\n"
   ]
  },
  {
   "cell_type": "code",
   "execution_count": 111,
   "metadata": {
    "scrolled": false
   },
   "outputs": [],
   "source": [
    "result= spt.ttest_ind(nynj_users['mont_revenue'], other_users['mont_revenue'], equal_var=False)"
   ]
  },
  {
   "cell_type": "code",
   "execution_count": 112,
   "metadata": {},
   "outputs": [
    {
     "name": "stdout",
     "output_type": "stream",
     "text": [
      "p-value:  0.008973347079608972\n",
      "We reject the null hypothesis\n"
     ]
    }
   ],
   "source": [
    "alpha= 5\n",
    "print('p-value: ', result.pvalue)\n",
    "\n",
    "if result.pvalue < alpha:\n",
    "    print(\"We reject the null hypothesis\")\n",
    "else:\n",
    "    print(\"We can't reject the null hypothesis\") "
   ]
  },
  {
   "cell_type": "markdown",
   "metadata": {},
   "source": [
    "  - *De acordo com o teste feito o valor de p-value é baixo (0.008) e nos permite rejeitar a hipótese nula. \n",
    "  Sendo assim a afirmativa de receita  dos usuários de NY-NJ ser diferente dos de outras regiões pode ser considerada verdadeira.* "
   ]
  },
  {
   "cell_type": "markdown",
   "metadata": {},
   "source": [
    "  ### *Hipótese 2: - receita média dos usuários dos planos Ultimate e Surf são diferentes.*\n"
   ]
  },
  {
   "cell_type": "code",
   "execution_count": 128,
   "metadata": {
    "scrolled": false
   },
   "outputs": [
    {
     "data": {
      "text/html": [
       "<div>\n",
       "<style scoped>\n",
       "    .dataframe tbody tr th:only-of-type {\n",
       "        vertical-align: middle;\n",
       "    }\n",
       "\n",
       "    .dataframe tbody tr th {\n",
       "        vertical-align: top;\n",
       "    }\n",
       "\n",
       "    .dataframe thead th {\n",
       "        text-align: right;\n",
       "    }\n",
       "</style>\n",
       "<table border=\"1\" class=\"dataframe\">\n",
       "  <thead>\n",
       "    <tr style=\"text-align: right;\">\n",
       "      <th></th>\n",
       "      <th>user_id</th>\n",
       "      <th>plan</th>\n",
       "      <th>city</th>\n",
       "      <th>minutes_used</th>\n",
       "      <th>calls_made</th>\n",
       "      <th>messages_made</th>\n",
       "      <th>internet_used_gb</th>\n",
       "      <th>charg_calls</th>\n",
       "      <th>charg_text</th>\n",
       "      <th>charg_data</th>\n",
       "      <th>mont_revenue</th>\n",
       "      <th>ny_nj</th>\n",
       "      <th>revn_med_surf</th>\n",
       "    </tr>\n",
       "  </thead>\n",
       "  <tbody>\n",
       "    <tr>\n",
       "      <th>0</th>\n",
       "      <td>1000</td>\n",
       "      <td>ultimate</td>\n",
       "      <td>Atlanta-Sandy Springs-Roswell, GA MSA</td>\n",
       "      <td>117.0</td>\n",
       "      <td>16.0</td>\n",
       "      <td>11.0</td>\n",
       "      <td>5.0</td>\n",
       "      <td>0.0</td>\n",
       "      <td>0.0</td>\n",
       "      <td>2.0</td>\n",
       "      <td>84.0</td>\n",
       "      <td>False</td>\n",
       "      <td>False</td>\n",
       "    </tr>\n",
       "  </tbody>\n",
       "</table>\n",
       "</div>"
      ],
      "text/plain": [
       "   user_id      plan                                   city  minutes_used  \\\n",
       "0     1000  ultimate  Atlanta-Sandy Springs-Roswell, GA MSA         117.0   \n",
       "\n",
       "   calls_made  messages_made  internet_used_gb  charg_calls  charg_text  \\\n",
       "0        16.0           11.0               5.0          0.0         0.0   \n",
       "\n",
       "   charg_data  mont_revenue  ny_nj  revn_med_surf  \n",
       "0         2.0          84.0  False          False  "
      ]
     },
     "execution_count": 128,
     "metadata": {},
     "output_type": "execute_result"
    }
   ],
   "source": [
    " usage_tabl_planos.head(1)"
   ]
  },
  {
   "cell_type": "code",
   "execution_count": 129,
   "metadata": {},
   "outputs": [],
   "source": [
    "usage_tabl_planos['revn_med_surf'] = usage_tabl_planos['plan'].str.contains('surf')"
   ]
  },
  {
   "cell_type": "code",
   "execution_count": 130,
   "metadata": {
    "scrolled": false
   },
   "outputs": [
    {
     "data": {
      "text/plain": [
       "True     1579\n",
       "False     724\n",
       "Name: revn_med_surf, dtype: int64"
      ]
     },
     "execution_count": 130,
     "metadata": {},
     "output_type": "execute_result"
    }
   ],
   "source": [
    "usage_tabl_planos['revn_med_surf'].value_counts()"
   ]
  },
  {
   "cell_type": "markdown",
   "metadata": {},
   "source": [
    "surf_users = usage_tabl_planos.query( 'plan == \"surf\"')\n"
   ]
  },
  {
   "cell_type": "code",
   "execution_count": 131,
   "metadata": {},
   "outputs": [],
   "source": [
    "ultim_user = usage_tabl_planos.query('revn_med_surf == False')\n"
   ]
  },
  {
   "cell_type": "code",
   "execution_count": 132,
   "metadata": {},
   "outputs": [],
   "source": [
    "surf_users = usage_tabl_planos.query( 'revn_med_surf == True')\n"
   ]
  },
  {
   "cell_type": "code",
   "execution_count": 133,
   "metadata": {
    "scrolled": true
   },
   "outputs": [],
   "source": [
    "result_plans= spt.ttest_ind(surf_users['mont_revenue'], ultim_user['mont_revenue'], equal_var=False)"
   ]
  },
  {
   "cell_type": "code",
   "execution_count": 134,
   "metadata": {},
   "outputs": [
    {
     "name": "stdout",
     "output_type": "stream",
     "text": [
      "p-value:  5.101106521390077e-36\n",
      "We reject the null hypothesis\n"
     ]
    }
   ],
   "source": [
    "alpha= 5\n",
    "print('p-value: ', result_plans.pvalue)\n",
    "\n",
    "if result_plans.pvalue < alpha:\n",
    "    print(\"We reject the null hypothesis\")\n",
    "else:\n",
    "    print(\"We can't reject the null hypothesis\") "
   ]
  },
  {
   "cell_type": "code",
   "execution_count": 135,
   "metadata": {
    "scrolled": false
   },
   "outputs": [
    {
     "data": {
      "text/plain": [
       "Ttest_indResult(statistic=12.774173965289636, pvalue=5.101106521390077e-36)"
      ]
     },
     "execution_count": 135,
     "metadata": {},
     "output_type": "execute_result"
    }
   ],
   "source": [
    "result_plans"
   ]
  },
  {
   "cell_type": "markdown",
   "metadata": {},
   "source": [
    "  - *De acordo com o teste feito o valor de p-value é baixo (0.008) e nos permite rejeitar a hipótese nula. Sendo assim a afirmativa de receita  dos usuários dos planos surf e ultimate serem diferentes pode ser considerada verdadeira.* "
   ]
  },
  {
   "cell_type": "code",
   "execution_count": 136,
   "metadata": {
    "scrolled": true
   },
   "outputs": [
    {
     "data": {
      "text/plain": [
       "count    1579.000000\n",
       "mean      460.263116\n",
       "std       202.663015\n",
       "min        20.000000\n",
       "25%       345.060000\n",
       "50%       485.000000\n",
       "75%       595.000000\n",
       "max      1388.210000\n",
       "Name: mont_revenue, dtype: float64"
      ]
     },
     "execution_count": 136,
     "metadata": {},
     "output_type": "execute_result"
    }
   ],
   "source": [
    "surf_users['mont_revenue'].describe()"
   ]
  },
  {
   "cell_type": "code",
   "execution_count": 137,
   "metadata": {},
   "outputs": [
    {
     "data": {
      "text/plain": [
       "count    724.000000\n",
       "mean     370.584254\n",
       "std      129.807283\n",
       "min       70.000000\n",
       "25%      294.000000\n",
       "50%      385.000000\n",
       "75%      449.750000\n",
       "max      826.000000\n",
       "Name: mont_revenue, dtype: float64"
      ]
     },
     "execution_count": 137,
     "metadata": {},
     "output_type": "execute_result"
    }
   ],
   "source": [
    "ultim_user['mont_revenue'].describe()"
   ]
  },
  {
   "cell_type": "markdown",
   "metadata": {},
   "source": [
    "##  Conclusão\n"
   ]
  },
  {
   "cell_type": "markdown",
   "metadata": {},
   "source": [
    "*De a cordo com os dados analisados sobre o comportamento dos usuários podes afirmar o seguinte:* \n",
    "      \n",
    "   -  A receita média dos usuários de NY-NJ são diferentes dos das demais regiões.\n",
    "   -  A receita média dos usuários dos planos surf e ultimate são diferentes.\n",
    "   - O Plano 'surf' é o mais lucrativo ja que a média mensal dos usuários é maior (460), bem como o quartil superiro que representa uma maior concentração de usuário com uma renda mensal entre 600 a 1000. "
   ]
  }
 ],
 "metadata": {
  "ExecuteTimeLog": [
   {
    "duration": 78,
    "start_time": "2022-07-13T00:37:42.093Z"
   },
   {
    "duration": 384,
    "start_time": "2022-07-13T00:45:34.649Z"
   },
   {
    "duration": 607,
    "start_time": "2022-07-13T00:49:33.112Z"
   },
   {
    "duration": 334,
    "start_time": "2022-07-13T00:49:54.779Z"
   },
   {
    "duration": 14,
    "start_time": "2022-07-13T00:50:17.957Z"
   },
   {
    "duration": 20,
    "start_time": "2022-07-13T00:50:28.163Z"
   },
   {
    "duration": 28,
    "start_time": "2022-07-13T00:50:50.749Z"
   },
   {
    "duration": 22,
    "start_time": "2022-07-13T00:51:33.148Z"
   },
   {
    "duration": 22,
    "start_time": "2022-07-13T00:55:28.795Z"
   },
   {
    "duration": 31,
    "start_time": "2022-07-13T00:55:35.204Z"
   },
   {
    "duration": 17,
    "start_time": "2022-07-13T00:55:44.723Z"
   },
   {
    "duration": 16,
    "start_time": "2022-07-13T00:55:51.825Z"
   },
   {
    "duration": 16,
    "start_time": "2022-07-13T00:56:01.137Z"
   },
   {
    "duration": 14,
    "start_time": "2022-07-13T00:56:05.537Z"
   },
   {
    "duration": 29,
    "start_time": "2022-07-13T00:57:21.459Z"
   },
   {
    "duration": 27,
    "start_time": "2022-07-13T00:57:50.248Z"
   },
   {
    "duration": 24,
    "start_time": "2022-07-13T00:57:56.458Z"
   },
   {
    "duration": 15,
    "start_time": "2022-07-13T00:58:02.447Z"
   },
   {
    "duration": 11,
    "start_time": "2022-07-13T00:58:57.209Z"
   },
   {
    "duration": 7,
    "start_time": "2022-07-13T01:05:40.894Z"
   },
   {
    "duration": 46,
    "start_time": "2022-07-13T11:10:36.978Z"
   },
   {
    "duration": 51,
    "start_time": "2022-07-13T11:10:55.015Z"
   },
   {
    "duration": 342,
    "start_time": "2022-07-13T11:11:08.965Z"
   },
   {
    "duration": 511,
    "start_time": "2022-07-13T11:11:09.309Z"
   },
   {
    "duration": 34,
    "start_time": "2022-07-13T11:11:09.821Z"
   },
   {
    "duration": 27,
    "start_time": "2022-07-13T11:11:09.857Z"
   },
   {
    "duration": 9,
    "start_time": "2022-07-13T11:11:09.885Z"
   },
   {
    "duration": 51,
    "start_time": "2022-07-13T11:11:09.896Z"
   },
   {
    "duration": 46,
    "start_time": "2022-07-13T11:11:09.949Z"
   },
   {
    "duration": 52,
    "start_time": "2022-07-13T11:11:09.997Z"
   },
   {
    "duration": 0,
    "start_time": "2022-07-13T11:11:10.050Z"
   },
   {
    "duration": 403,
    "start_time": "2022-07-15T19:04:21.901Z"
   },
   {
    "duration": 911,
    "start_time": "2022-07-15T19:04:22.306Z"
   },
   {
    "duration": 36,
    "start_time": "2022-07-15T19:04:23.218Z"
   },
   {
    "duration": 31,
    "start_time": "2022-07-15T19:04:23.255Z"
   },
   {
    "duration": 10,
    "start_time": "2022-07-15T19:04:23.288Z"
   },
   {
    "duration": 51,
    "start_time": "2022-07-15T19:04:23.300Z"
   },
   {
    "duration": 52,
    "start_time": "2022-07-15T19:04:23.352Z"
   },
   {
    "duration": 52,
    "start_time": "2022-07-15T19:04:23.407Z"
   },
   {
    "duration": 0,
    "start_time": "2022-07-15T19:04:23.462Z"
   },
   {
    "duration": 7,
    "start_time": "2022-07-15T19:04:33.928Z"
   },
   {
    "duration": 51,
    "start_time": "2022-07-15T19:04:40.939Z"
   },
   {
    "duration": 72,
    "start_time": "2022-07-15T19:06:13.488Z"
   },
   {
    "duration": 2,
    "start_time": "2022-07-15T19:06:17.929Z"
   },
   {
    "duration": 8,
    "start_time": "2022-07-15T19:06:18.839Z"
   },
   {
    "duration": 7,
    "start_time": "2022-07-15T19:06:33.707Z"
   },
   {
    "duration": 8,
    "start_time": "2022-07-15T19:06:57.777Z"
   },
   {
    "duration": 7,
    "start_time": "2022-07-15T19:07:00.643Z"
   },
   {
    "duration": 3,
    "start_time": "2022-07-15T19:07:22.608Z"
   },
   {
    "duration": 8,
    "start_time": "2022-07-15T19:07:23.322Z"
   },
   {
    "duration": 23,
    "start_time": "2022-07-15T19:09:29.751Z"
   },
   {
    "duration": 11,
    "start_time": "2022-07-15T19:09:58.673Z"
   },
   {
    "duration": 8,
    "start_time": "2022-07-15T19:10:32.845Z"
   },
   {
    "duration": 8,
    "start_time": "2022-07-15T19:10:33.623Z"
   },
   {
    "duration": 10,
    "start_time": "2022-07-15T19:11:03.368Z"
   },
   {
    "duration": 10,
    "start_time": "2022-07-15T19:11:05.151Z"
   },
   {
    "duration": 10,
    "start_time": "2022-07-15T19:12:38.958Z"
   },
   {
    "duration": 33,
    "start_time": "2022-07-15T19:23:48.338Z"
   },
   {
    "duration": 14,
    "start_time": "2022-07-15T19:24:04.199Z"
   },
   {
    "duration": 53,
    "start_time": "2022-07-15T19:24:04.413Z"
   },
   {
    "duration": 7,
    "start_time": "2022-07-15T19:24:30.542Z"
   },
   {
    "duration": 7,
    "start_time": "2022-07-15T19:24:45.757Z"
   },
   {
    "duration": 16,
    "start_time": "2022-07-15T19:24:56.149Z"
   },
   {
    "duration": 52,
    "start_time": "2022-07-15T19:25:06.645Z"
   },
   {
    "duration": 43,
    "start_time": "2022-07-15T20:39:04.047Z"
   },
   {
    "duration": 3,
    "start_time": "2022-07-15T20:39:11.528Z"
   },
   {
    "duration": 3,
    "start_time": "2022-07-15T20:39:13.505Z"
   },
   {
    "duration": 4,
    "start_time": "2022-07-15T20:39:24.928Z"
   },
   {
    "duration": 726,
    "start_time": "2022-07-15T20:39:32.931Z"
   },
   {
    "duration": 735,
    "start_time": "2022-07-15T20:39:41.002Z"
   },
   {
    "duration": 720,
    "start_time": "2022-07-15T20:44:03.108Z"
   },
   {
    "duration": 727,
    "start_time": "2022-07-15T20:44:18.381Z"
   },
   {
    "duration": 904,
    "start_time": "2022-07-15T20:44:52.405Z"
   },
   {
    "duration": 768,
    "start_time": "2022-07-15T20:44:56.071Z"
   },
   {
    "duration": 427,
    "start_time": "2022-07-15T20:45:06.547Z"
   },
   {
    "duration": 322,
    "start_time": "2022-07-15T20:45:06.977Z"
   },
   {
    "duration": 3,
    "start_time": "2022-07-15T20:45:07.301Z"
   },
   {
    "duration": 42,
    "start_time": "2022-07-15T20:45:07.306Z"
   },
   {
    "duration": 30,
    "start_time": "2022-07-15T20:45:07.351Z"
   },
   {
    "duration": 12,
    "start_time": "2022-07-15T20:45:07.383Z"
   },
   {
    "duration": 22,
    "start_time": "2022-07-15T20:45:07.396Z"
   },
   {
    "duration": 22,
    "start_time": "2022-07-15T20:45:07.419Z"
   },
   {
    "duration": 24,
    "start_time": "2022-07-15T20:45:07.443Z"
   },
   {
    "duration": 19,
    "start_time": "2022-07-15T20:45:07.469Z"
   },
   {
    "duration": 28,
    "start_time": "2022-07-15T20:45:07.490Z"
   },
   {
    "duration": 26,
    "start_time": "2022-07-15T20:45:07.520Z"
   },
   {
    "duration": 19,
    "start_time": "2022-07-15T20:45:07.548Z"
   },
   {
    "duration": 6,
    "start_time": "2022-07-15T20:45:07.570Z"
   },
   {
    "duration": 11,
    "start_time": "2022-07-15T20:45:07.578Z"
   },
   {
    "duration": 66,
    "start_time": "2022-07-15T20:45:07.591Z"
   },
   {
    "duration": 6,
    "start_time": "2022-07-15T20:45:07.659Z"
   },
   {
    "duration": 811,
    "start_time": "2022-07-15T20:45:07.666Z"
   },
   {
    "duration": 48,
    "start_time": "2022-07-15T20:46:25.898Z"
   },
   {
    "duration": 65,
    "start_time": "2022-07-15T20:46:38.545Z"
   },
   {
    "duration": 717,
    "start_time": "2022-07-15T20:46:42.289Z"
   },
   {
    "duration": 690,
    "start_time": "2022-07-15T20:46:51.618Z"
   },
   {
    "duration": 451,
    "start_time": "2022-07-15T20:47:09.706Z"
   },
   {
    "duration": 326,
    "start_time": "2022-07-15T20:47:10.159Z"
   },
   {
    "duration": 3,
    "start_time": "2022-07-15T20:47:10.486Z"
   },
   {
    "duration": 38,
    "start_time": "2022-07-15T20:47:10.491Z"
   },
   {
    "duration": 32,
    "start_time": "2022-07-15T20:47:10.532Z"
   },
   {
    "duration": 12,
    "start_time": "2022-07-15T20:47:10.566Z"
   },
   {
    "duration": 16,
    "start_time": "2022-07-15T20:47:10.580Z"
   },
   {
    "duration": 11,
    "start_time": "2022-07-15T20:47:10.597Z"
   },
   {
    "duration": 12,
    "start_time": "2022-07-15T20:47:10.610Z"
   },
   {
    "duration": 30,
    "start_time": "2022-07-15T20:47:10.624Z"
   },
   {
    "duration": 16,
    "start_time": "2022-07-15T20:47:10.657Z"
   },
   {
    "duration": 32,
    "start_time": "2022-07-15T20:47:10.676Z"
   },
   {
    "duration": 36,
    "start_time": "2022-07-15T20:47:10.710Z"
   },
   {
    "duration": 6,
    "start_time": "2022-07-15T20:47:10.749Z"
   },
   {
    "duration": 18,
    "start_time": "2022-07-15T20:47:10.756Z"
   },
   {
    "duration": 54,
    "start_time": "2022-07-15T20:47:10.775Z"
   },
   {
    "duration": 19,
    "start_time": "2022-07-15T20:47:10.831Z"
   },
   {
    "duration": 786,
    "start_time": "2022-07-15T20:47:10.852Z"
   },
   {
    "duration": 788,
    "start_time": "2022-07-15T20:47:15.874Z"
   },
   {
    "duration": 706,
    "start_time": "2022-07-15T20:47:39.560Z"
   },
   {
    "duration": 714,
    "start_time": "2022-07-15T20:51:32.033Z"
   },
   {
    "duration": 901,
    "start_time": "2022-07-15T20:51:36.940Z"
   },
   {
    "duration": 755,
    "start_time": "2022-07-15T20:51:45.444Z"
   },
   {
    "duration": 828,
    "start_time": "2022-07-15T21:04:00.612Z"
   },
   {
    "duration": 799,
    "start_time": "2022-07-15T21:04:14.820Z"
   },
   {
    "duration": 756,
    "start_time": "2022-07-15T21:04:35.373Z"
   },
   {
    "duration": 831,
    "start_time": "2022-07-15T21:07:44.987Z"
   },
   {
    "duration": 4,
    "start_time": "2022-07-15T21:08:19.307Z"
   },
   {
    "duration": 806,
    "start_time": "2022-07-15T21:08:55.227Z"
   },
   {
    "duration": 392,
    "start_time": "2022-07-15T21:09:09.766Z"
   },
   {
    "duration": 316,
    "start_time": "2022-07-15T21:09:10.160Z"
   },
   {
    "duration": 3,
    "start_time": "2022-07-15T21:09:10.478Z"
   },
   {
    "duration": 48,
    "start_time": "2022-07-15T21:09:10.482Z"
   },
   {
    "duration": 29,
    "start_time": "2022-07-15T21:09:10.532Z"
   },
   {
    "duration": 12,
    "start_time": "2022-07-15T21:09:10.563Z"
   },
   {
    "duration": 11,
    "start_time": "2022-07-15T21:09:10.576Z"
   },
   {
    "duration": 10,
    "start_time": "2022-07-15T21:09:10.588Z"
   },
   {
    "duration": 10,
    "start_time": "2022-07-15T21:09:10.600Z"
   },
   {
    "duration": 12,
    "start_time": "2022-07-15T21:09:10.612Z"
   },
   {
    "duration": 26,
    "start_time": "2022-07-15T21:09:10.626Z"
   },
   {
    "duration": 18,
    "start_time": "2022-07-15T21:09:10.653Z"
   },
   {
    "duration": 13,
    "start_time": "2022-07-15T21:09:10.673Z"
   },
   {
    "duration": 5,
    "start_time": "2022-07-15T21:09:10.689Z"
   },
   {
    "duration": 9,
    "start_time": "2022-07-15T21:09:10.696Z"
   },
   {
    "duration": 79,
    "start_time": "2022-07-15T21:09:10.706Z"
   },
   {
    "duration": 6,
    "start_time": "2022-07-15T21:09:10.787Z"
   },
   {
    "duration": 894,
    "start_time": "2022-07-15T21:09:10.794Z"
   },
   {
    "duration": 0,
    "start_time": "2022-07-15T21:09:11.690Z"
   },
   {
    "duration": 940,
    "start_time": "2022-07-15T21:10:07.429Z"
   },
   {
    "duration": 737,
    "start_time": "2022-07-15T21:13:59.235Z"
   },
   {
    "duration": 936,
    "start_time": "2022-07-15T21:14:12.961Z"
   },
   {
    "duration": 753,
    "start_time": "2022-07-15T21:14:18.154Z"
   },
   {
    "duration": 10,
    "start_time": "2022-07-15T21:20:13.261Z"
   },
   {
    "duration": 10,
    "start_time": "2022-07-15T21:29:08.014Z"
   },
   {
    "duration": 4,
    "start_time": "2022-07-15T21:32:33.533Z"
   },
   {
    "duration": 7,
    "start_time": "2022-07-15T21:32:40.653Z"
   },
   {
    "duration": 5,
    "start_time": "2022-07-15T21:33:15.884Z"
   },
   {
    "duration": 72,
    "start_time": "2022-07-16T19:44:06.532Z"
   },
   {
    "duration": 409,
    "start_time": "2022-07-16T19:44:16.381Z"
   },
   {
    "duration": 1147,
    "start_time": "2022-07-16T19:44:16.792Z"
   },
   {
    "duration": 4,
    "start_time": "2022-07-16T19:44:17.941Z"
   },
   {
    "duration": 69,
    "start_time": "2022-07-16T19:44:17.948Z"
   },
   {
    "duration": 42,
    "start_time": "2022-07-16T19:44:18.020Z"
   },
   {
    "duration": 15,
    "start_time": "2022-07-16T19:44:18.064Z"
   },
   {
    "duration": 23,
    "start_time": "2022-07-16T19:44:18.081Z"
   },
   {
    "duration": 19,
    "start_time": "2022-07-16T19:44:18.107Z"
   },
   {
    "duration": 33,
    "start_time": "2022-07-16T19:44:18.128Z"
   },
   {
    "duration": 22,
    "start_time": "2022-07-16T19:44:18.164Z"
   },
   {
    "duration": 45,
    "start_time": "2022-07-16T19:44:18.188Z"
   },
   {
    "duration": 15,
    "start_time": "2022-07-16T19:44:18.235Z"
   },
   {
    "duration": 19,
    "start_time": "2022-07-16T19:44:18.252Z"
   },
   {
    "duration": 33,
    "start_time": "2022-07-16T19:44:18.274Z"
   },
   {
    "duration": 21,
    "start_time": "2022-07-16T19:44:18.309Z"
   },
   {
    "duration": 17,
    "start_time": "2022-07-16T19:44:18.333Z"
   },
   {
    "duration": 9,
    "start_time": "2022-07-16T19:44:18.352Z"
   },
   {
    "duration": 71,
    "start_time": "2022-07-16T19:44:18.362Z"
   },
   {
    "duration": 8,
    "start_time": "2022-07-16T19:44:18.435Z"
   },
   {
    "duration": 23,
    "start_time": "2022-07-16T19:44:18.445Z"
   },
   {
    "duration": 876,
    "start_time": "2022-07-16T19:44:18.470Z"
   },
   {
    "duration": 9,
    "start_time": "2022-07-16T19:44:58.128Z"
   },
   {
    "duration": 7,
    "start_time": "2022-07-16T19:45:07.039Z"
   },
   {
    "duration": 37,
    "start_time": "2022-07-16T19:59:59.427Z"
   },
   {
    "duration": 34,
    "start_time": "2022-07-16T20:00:01.289Z"
   },
   {
    "duration": 17,
    "start_time": "2022-07-16T20:32:39.553Z"
   },
   {
    "duration": 17,
    "start_time": "2022-07-16T20:33:06.571Z"
   },
   {
    "duration": 45,
    "start_time": "2022-07-16T20:33:38.083Z"
   },
   {
    "duration": 14,
    "start_time": "2022-07-16T20:47:08.411Z"
   },
   {
    "duration": 3,
    "start_time": "2022-07-16T20:48:19.498Z"
   },
   {
    "duration": 18,
    "start_time": "2022-07-16T20:52:12.650Z"
   },
   {
    "duration": 13,
    "start_time": "2022-07-16T20:59:56.369Z"
   },
   {
    "duration": 17,
    "start_time": "2022-07-16T21:00:18.174Z"
   },
   {
    "duration": 32,
    "start_time": "2022-07-16T21:00:27.515Z"
   },
   {
    "duration": 7,
    "start_time": "2022-07-16T21:37:47.582Z"
   },
   {
    "duration": 11,
    "start_time": "2022-07-16T21:37:51.769Z"
   },
   {
    "duration": 25,
    "start_time": "2022-07-16T21:38:18.446Z"
   },
   {
    "duration": 15,
    "start_time": "2022-07-16T21:38:22.526Z"
   },
   {
    "duration": 14,
    "start_time": "2022-07-16T21:46:15.665Z"
   },
   {
    "duration": 25,
    "start_time": "2022-07-16T21:46:21.073Z"
   },
   {
    "duration": 17,
    "start_time": "2022-07-16T21:46:32.920Z"
   },
   {
    "duration": 4996,
    "start_time": "2022-07-16T21:46:45.289Z"
   },
   {
    "duration": 12,
    "start_time": "2022-07-16T21:46:56.097Z"
   },
   {
    "duration": 12,
    "start_time": "2022-07-16T21:47:09.081Z"
   },
   {
    "duration": 6,
    "start_time": "2022-07-16T21:47:18.874Z"
   },
   {
    "duration": 14,
    "start_time": "2022-07-16T21:50:29.442Z"
   },
   {
    "duration": 49,
    "start_time": "2022-07-16T21:50:49.312Z"
   },
   {
    "duration": 27,
    "start_time": "2022-07-16T21:50:59.942Z"
   },
   {
    "duration": 26,
    "start_time": "2022-07-16T21:51:20.642Z"
   },
   {
    "duration": 16,
    "start_time": "2022-07-16T21:51:28.119Z"
   },
   {
    "duration": 419,
    "start_time": "2022-07-16T21:51:34.943Z"
   },
   {
    "duration": 541,
    "start_time": "2022-07-16T21:51:35.363Z"
   },
   {
    "duration": 3,
    "start_time": "2022-07-16T21:51:35.905Z"
   },
   {
    "duration": 25,
    "start_time": "2022-07-16T21:51:35.909Z"
   },
   {
    "duration": 68,
    "start_time": "2022-07-16T21:51:35.936Z"
   },
   {
    "duration": 21,
    "start_time": "2022-07-16T21:51:36.005Z"
   },
   {
    "duration": 48,
    "start_time": "2022-07-16T21:51:36.027Z"
   },
   {
    "duration": 15,
    "start_time": "2022-07-16T21:51:36.077Z"
   },
   {
    "duration": 59,
    "start_time": "2022-07-16T21:51:36.093Z"
   },
   {
    "duration": 12,
    "start_time": "2022-07-16T21:51:36.158Z"
   },
   {
    "duration": 26,
    "start_time": "2022-07-16T21:51:36.172Z"
   },
   {
    "duration": 16,
    "start_time": "2022-07-16T21:51:36.200Z"
   },
   {
    "duration": 43,
    "start_time": "2022-07-16T21:51:36.217Z"
   },
   {
    "duration": 21,
    "start_time": "2022-07-16T21:51:36.263Z"
   },
   {
    "duration": 16,
    "start_time": "2022-07-16T21:51:36.285Z"
   },
   {
    "duration": 15,
    "start_time": "2022-07-16T21:51:36.303Z"
   },
   {
    "duration": 25,
    "start_time": "2022-07-16T21:51:36.320Z"
   },
   {
    "duration": 43,
    "start_time": "2022-07-16T21:51:36.347Z"
   },
   {
    "duration": 8,
    "start_time": "2022-07-16T21:51:36.392Z"
   },
   {
    "duration": 11,
    "start_time": "2022-07-16T21:51:36.401Z"
   },
   {
    "duration": 55,
    "start_time": "2022-07-16T21:51:36.414Z"
   },
   {
    "duration": 22,
    "start_time": "2022-07-16T21:51:36.473Z"
   },
   {
    "duration": 22,
    "start_time": "2022-07-16T21:51:36.496Z"
   },
   {
    "duration": 571,
    "start_time": "2022-07-16T21:55:51.954Z"
   },
   {
    "duration": 253,
    "start_time": "2022-07-16T21:56:10.548Z"
   },
   {
    "duration": 62,
    "start_time": "2022-07-16T21:56:21.203Z"
   },
   {
    "duration": 173,
    "start_time": "2022-07-16T21:56:32.469Z"
   },
   {
    "duration": 131,
    "start_time": "2022-07-16T21:56:39.682Z"
   },
   {
    "duration": 189,
    "start_time": "2022-07-16T21:56:48.366Z"
   },
   {
    "duration": 155,
    "start_time": "2022-07-16T21:56:57.209Z"
   },
   {
    "duration": 144,
    "start_time": "2022-07-16T21:57:11.329Z"
   },
   {
    "duration": 17,
    "start_time": "2022-07-16T22:01:10.544Z"
   },
   {
    "duration": 15,
    "start_time": "2022-07-16T22:01:34.141Z"
   },
   {
    "duration": 8,
    "start_time": "2022-07-16T22:05:13.201Z"
   },
   {
    "duration": 273,
    "start_time": "2022-07-16T22:05:30.060Z"
   },
   {
    "duration": 11,
    "start_time": "2022-07-16T22:06:24.073Z"
   },
   {
    "duration": 388,
    "start_time": "2022-07-16T22:06:28.367Z"
   },
   {
    "duration": 104,
    "start_time": "2022-07-16T22:07:31.366Z"
   },
   {
    "duration": 189,
    "start_time": "2022-07-16T22:07:53.599Z"
   },
   {
    "duration": 73,
    "start_time": "2022-07-16T22:08:26.431Z"
   },
   {
    "duration": 47,
    "start_time": "2022-07-16T22:08:36.374Z"
   },
   {
    "duration": 101,
    "start_time": "2022-07-16T22:08:46.772Z"
   },
   {
    "duration": 308,
    "start_time": "2022-07-16T22:09:03.709Z"
   },
   {
    "duration": 188,
    "start_time": "2022-07-16T22:11:01.732Z"
   },
   {
    "duration": 252,
    "start_time": "2022-07-16T22:11:19.308Z"
   },
   {
    "duration": 204,
    "start_time": "2022-07-16T22:11:37.554Z"
   },
   {
    "duration": 363,
    "start_time": "2022-07-16T22:17:20.708Z"
   },
   {
    "duration": 296,
    "start_time": "2022-07-16T22:17:21.073Z"
   },
   {
    "duration": 3,
    "start_time": "2022-07-16T22:17:21.370Z"
   },
   {
    "duration": 18,
    "start_time": "2022-07-16T22:17:21.374Z"
   },
   {
    "duration": 38,
    "start_time": "2022-07-16T22:17:21.394Z"
   },
   {
    "duration": 22,
    "start_time": "2022-07-16T22:17:21.433Z"
   },
   {
    "duration": 38,
    "start_time": "2022-07-16T22:17:21.456Z"
   },
   {
    "duration": 16,
    "start_time": "2022-07-16T22:17:21.496Z"
   },
   {
    "duration": 72,
    "start_time": "2022-07-16T22:17:21.514Z"
   },
   {
    "duration": 342,
    "start_time": "2022-07-16T22:17:21.588Z"
   },
   {
    "duration": 175,
    "start_time": "2022-07-16T22:17:21.932Z"
   },
   {
    "duration": 192,
    "start_time": "2022-07-16T22:17:22.109Z"
   },
   {
    "duration": 179,
    "start_time": "2022-07-16T22:17:22.303Z"
   },
   {
    "duration": 52,
    "start_time": "2022-07-16T22:17:22.485Z"
   },
   {
    "duration": 0,
    "start_time": "2022-07-16T22:17:22.539Z"
   },
   {
    "duration": 0,
    "start_time": "2022-07-16T22:17:22.540Z"
   },
   {
    "duration": 0,
    "start_time": "2022-07-16T22:17:22.541Z"
   },
   {
    "duration": 0,
    "start_time": "2022-07-16T22:17:22.543Z"
   },
   {
    "duration": 0,
    "start_time": "2022-07-16T22:17:22.544Z"
   },
   {
    "duration": 0,
    "start_time": "2022-07-16T22:17:22.545Z"
   },
   {
    "duration": 0,
    "start_time": "2022-07-16T22:17:22.545Z"
   },
   {
    "duration": 0,
    "start_time": "2022-07-16T22:17:22.546Z"
   },
   {
    "duration": 0,
    "start_time": "2022-07-16T22:17:22.548Z"
   },
   {
    "duration": 0,
    "start_time": "2022-07-16T22:17:22.548Z"
   },
   {
    "duration": 0,
    "start_time": "2022-07-16T22:17:22.549Z"
   },
   {
    "duration": 0,
    "start_time": "2022-07-16T22:17:22.550Z"
   },
   {
    "duration": 0,
    "start_time": "2022-07-16T22:17:22.551Z"
   },
   {
    "duration": 144,
    "start_time": "2022-07-16T22:17:52.633Z"
   },
   {
    "duration": 201,
    "start_time": "2022-07-16T22:18:49.230Z"
   },
   {
    "duration": 5,
    "start_time": "2022-07-16T22:19:31.391Z"
   },
   {
    "duration": 65,
    "start_time": "2022-07-16T22:19:46.912Z"
   },
   {
    "duration": 8,
    "start_time": "2022-07-16T22:20:01.160Z"
   },
   {
    "duration": 8,
    "start_time": "2022-07-16T22:20:06.558Z"
   },
   {
    "duration": 11,
    "start_time": "2022-07-16T22:20:13.886Z"
   },
   {
    "duration": 8,
    "start_time": "2022-07-16T22:20:17.733Z"
   },
   {
    "duration": 6,
    "start_time": "2022-07-16T22:20:22.349Z"
   },
   {
    "duration": 48,
    "start_time": "2022-07-16T22:27:38.431Z"
   },
   {
    "duration": 47,
    "start_time": "2022-07-16T22:27:56.263Z"
   },
   {
    "duration": 63,
    "start_time": "2022-07-16T22:28:07.504Z"
   },
   {
    "duration": 46,
    "start_time": "2022-07-16T22:39:42.726Z"
   },
   {
    "duration": 7,
    "start_time": "2022-07-16T22:39:46.861Z"
   },
   {
    "duration": 12,
    "start_time": "2022-07-16T22:40:01.391Z"
   },
   {
    "duration": 21,
    "start_time": "2022-07-16T22:41:02.686Z"
   },
   {
    "duration": 22,
    "start_time": "2022-07-16T22:41:10.693Z"
   },
   {
    "duration": 123,
    "start_time": "2022-07-16T22:41:38.493Z"
   },
   {
    "duration": 403,
    "start_time": "2022-07-16T22:41:50.947Z"
   },
   {
    "duration": 306,
    "start_time": "2022-07-16T22:41:51.352Z"
   },
   {
    "duration": 3,
    "start_time": "2022-07-16T22:41:51.659Z"
   },
   {
    "duration": 17,
    "start_time": "2022-07-16T22:41:51.663Z"
   },
   {
    "duration": 34,
    "start_time": "2022-07-16T22:41:51.682Z"
   },
   {
    "duration": 28,
    "start_time": "2022-07-16T22:41:51.717Z"
   },
   {
    "duration": 33,
    "start_time": "2022-07-16T22:41:51.747Z"
   },
   {
    "duration": 15,
    "start_time": "2022-07-16T22:41:51.782Z"
   },
   {
    "duration": 72,
    "start_time": "2022-07-16T22:41:51.799Z"
   },
   {
    "duration": 22,
    "start_time": "2022-07-16T22:41:51.873Z"
   },
   {
    "duration": 333,
    "start_time": "2022-07-16T22:41:51.897Z"
   },
   {
    "duration": 144,
    "start_time": "2022-07-16T22:41:52.231Z"
   },
   {
    "duration": 192,
    "start_time": "2022-07-16T22:41:52.377Z"
   },
   {
    "duration": 184,
    "start_time": "2022-07-16T22:41:52.572Z"
   },
   {
    "duration": 47,
    "start_time": "2022-07-16T22:41:52.757Z"
   },
   {
    "duration": 0,
    "start_time": "2022-07-16T22:41:52.805Z"
   },
   {
    "duration": 0,
    "start_time": "2022-07-16T22:41:52.807Z"
   },
   {
    "duration": 0,
    "start_time": "2022-07-16T22:41:52.808Z"
   },
   {
    "duration": 0,
    "start_time": "2022-07-16T22:41:52.809Z"
   },
   {
    "duration": 0,
    "start_time": "2022-07-16T22:41:52.809Z"
   },
   {
    "duration": 0,
    "start_time": "2022-07-16T22:41:52.811Z"
   },
   {
    "duration": 0,
    "start_time": "2022-07-16T22:41:52.812Z"
   },
   {
    "duration": 0,
    "start_time": "2022-07-16T22:41:52.814Z"
   },
   {
    "duration": 0,
    "start_time": "2022-07-16T22:41:52.816Z"
   },
   {
    "duration": 0,
    "start_time": "2022-07-16T22:41:52.817Z"
   },
   {
    "duration": 0,
    "start_time": "2022-07-16T22:41:52.818Z"
   },
   {
    "duration": 0,
    "start_time": "2022-07-16T22:41:52.819Z"
   },
   {
    "duration": 0,
    "start_time": "2022-07-16T22:41:52.821Z"
   },
   {
    "duration": 0,
    "start_time": "2022-07-16T22:41:52.822Z"
   },
   {
    "duration": 12,
    "start_time": "2022-07-16T22:43:33.436Z"
   },
   {
    "duration": 4,
    "start_time": "2022-07-16T22:44:33.234Z"
   },
   {
    "duration": 11,
    "start_time": "2022-07-16T22:44:34.434Z"
   },
   {
    "duration": 138,
    "start_time": "2022-07-16T22:44:37.578Z"
   },
   {
    "duration": 74,
    "start_time": "2022-07-16T22:44:56.995Z"
   },
   {
    "duration": 47,
    "start_time": "2022-07-16T22:45:04.426Z"
   },
   {
    "duration": 143,
    "start_time": "2022-07-16T22:45:13.753Z"
   },
   {
    "duration": 123,
    "start_time": "2022-07-16T22:45:26.266Z"
   },
   {
    "duration": 13,
    "start_time": "2022-07-16T22:46:31.783Z"
   },
   {
    "duration": 143,
    "start_time": "2022-07-16T22:47:18.872Z"
   },
   {
    "duration": 188,
    "start_time": "2022-07-16T22:47:37.511Z"
   },
   {
    "duration": 32,
    "start_time": "2022-07-16T22:47:58.848Z"
   },
   {
    "duration": 145,
    "start_time": "2022-07-16T22:48:03.655Z"
   },
   {
    "duration": 91,
    "start_time": "2022-07-16T22:50:29.117Z"
   },
   {
    "duration": 135,
    "start_time": "2022-07-16T22:51:10.517Z"
   },
   {
    "duration": 15,
    "start_time": "2022-07-16T22:52:58.878Z"
   },
   {
    "duration": 29,
    "start_time": "2022-07-16T22:52:58.896Z"
   },
   {
    "duration": 29,
    "start_time": "2022-07-16T22:52:58.930Z"
   },
   {
    "duration": 14,
    "start_time": "2022-07-16T22:52:58.962Z"
   },
   {
    "duration": 17,
    "start_time": "2022-07-16T22:52:58.980Z"
   },
   {
    "duration": 30,
    "start_time": "2022-07-16T22:52:58.999Z"
   },
   {
    "duration": 35,
    "start_time": "2022-07-16T22:52:59.031Z"
   },
   {
    "duration": 31,
    "start_time": "2022-07-16T22:52:59.068Z"
   },
   {
    "duration": 16,
    "start_time": "2022-07-16T22:52:59.101Z"
   },
   {
    "duration": 17,
    "start_time": "2022-07-16T22:52:59.119Z"
   },
   {
    "duration": 32,
    "start_time": "2022-07-16T22:52:59.137Z"
   },
   {
    "duration": 6,
    "start_time": "2022-07-16T22:52:59.171Z"
   },
   {
    "duration": 12,
    "start_time": "2022-07-16T22:52:59.178Z"
   },
   {
    "duration": 11,
    "start_time": "2022-07-16T22:55:35.250Z"
   },
   {
    "duration": 10,
    "start_time": "2022-07-16T23:38:56.944Z"
   },
   {
    "duration": 16,
    "start_time": "2022-07-16T23:39:03.456Z"
   },
   {
    "duration": 9,
    "start_time": "2022-07-16T23:43:11.111Z"
   },
   {
    "duration": 17,
    "start_time": "2022-07-16T23:44:11.311Z"
   },
   {
    "duration": 355,
    "start_time": "2022-07-16T23:44:20.680Z"
   },
   {
    "duration": 307,
    "start_time": "2022-07-16T23:44:21.036Z"
   },
   {
    "duration": 3,
    "start_time": "2022-07-16T23:44:21.345Z"
   },
   {
    "duration": 18,
    "start_time": "2022-07-16T23:44:21.349Z"
   },
   {
    "duration": 35,
    "start_time": "2022-07-16T23:44:21.369Z"
   },
   {
    "duration": 20,
    "start_time": "2022-07-16T23:44:21.406Z"
   },
   {
    "duration": 55,
    "start_time": "2022-07-16T23:44:21.427Z"
   },
   {
    "duration": 24,
    "start_time": "2022-07-16T23:44:21.485Z"
   },
   {
    "duration": 75,
    "start_time": "2022-07-16T23:44:21.511Z"
   },
   {
    "duration": 17,
    "start_time": "2022-07-16T23:44:21.588Z"
   },
   {
    "duration": 18,
    "start_time": "2022-07-16T23:44:21.606Z"
   },
   {
    "duration": 378,
    "start_time": "2022-07-16T23:44:21.626Z"
   },
   {
    "duration": 152,
    "start_time": "2022-07-16T23:44:22.006Z"
   },
   {
    "duration": 222,
    "start_time": "2022-07-16T23:44:22.162Z"
   },
   {
    "duration": 196,
    "start_time": "2022-07-16T23:44:22.386Z"
   },
   {
    "duration": 30,
    "start_time": "2022-07-16T23:44:22.583Z"
   },
   {
    "duration": 10,
    "start_time": "2022-07-16T23:44:22.614Z"
   },
   {
    "duration": 27,
    "start_time": "2022-07-16T23:44:22.625Z"
   },
   {
    "duration": 16,
    "start_time": "2022-07-16T23:44:22.654Z"
   },
   {
    "duration": 6,
    "start_time": "2022-07-16T23:44:22.672Z"
   },
   {
    "duration": 12,
    "start_time": "2022-07-16T23:44:22.680Z"
   },
   {
    "duration": 886,
    "start_time": "2022-07-16T23:44:22.693Z"
   },
   {
    "duration": 0,
    "start_time": "2022-07-16T23:44:23.582Z"
   },
   {
    "duration": 0,
    "start_time": "2022-07-16T23:44:23.583Z"
   },
   {
    "duration": 1,
    "start_time": "2022-07-16T23:44:23.584Z"
   },
   {
    "duration": 0,
    "start_time": "2022-07-16T23:44:23.586Z"
   },
   {
    "duration": 0,
    "start_time": "2022-07-16T23:44:23.587Z"
   },
   {
    "duration": 0,
    "start_time": "2022-07-16T23:44:23.588Z"
   },
   {
    "duration": 0,
    "start_time": "2022-07-16T23:44:23.589Z"
   },
   {
    "duration": 0,
    "start_time": "2022-07-16T23:44:23.590Z"
   },
   {
    "duration": 21,
    "start_time": "2022-07-16T23:45:54.169Z"
   },
   {
    "duration": 136,
    "start_time": "2022-07-16T23:46:27.781Z"
   },
   {
    "duration": 20,
    "start_time": "2022-07-16T23:47:04.622Z"
   },
   {
    "duration": 12,
    "start_time": "2022-07-16T23:47:12.053Z"
   },
   {
    "duration": 23,
    "start_time": "2022-07-16T23:47:23.459Z"
   },
   {
    "duration": 210,
    "start_time": "2022-07-16T23:47:27.669Z"
   },
   {
    "duration": 13,
    "start_time": "2022-07-16T23:54:06.331Z"
   },
   {
    "duration": 18,
    "start_time": "2022-07-16T23:54:06.756Z"
   },
   {
    "duration": 53,
    "start_time": "2022-07-18T00:01:13.254Z"
   },
   {
    "duration": 417,
    "start_time": "2022-07-18T00:01:22.027Z"
   },
   {
    "duration": 729,
    "start_time": "2022-07-18T00:01:22.446Z"
   },
   {
    "duration": 3,
    "start_time": "2022-07-18T00:01:23.177Z"
   },
   {
    "duration": 18,
    "start_time": "2022-07-18T00:01:23.182Z"
   },
   {
    "duration": 34,
    "start_time": "2022-07-18T00:01:23.202Z"
   },
   {
    "duration": 19,
    "start_time": "2022-07-18T00:01:23.238Z"
   },
   {
    "duration": 33,
    "start_time": "2022-07-18T00:01:23.259Z"
   },
   {
    "duration": 15,
    "start_time": "2022-07-18T00:01:23.293Z"
   },
   {
    "duration": 75,
    "start_time": "2022-07-18T00:01:23.309Z"
   },
   {
    "duration": 20,
    "start_time": "2022-07-18T00:01:23.386Z"
   },
   {
    "duration": 16,
    "start_time": "2022-07-18T00:01:23.407Z"
   },
   {
    "duration": 1315,
    "start_time": "2022-07-18T00:01:23.425Z"
   },
   {
    "duration": 0,
    "start_time": "2022-07-18T00:01:24.742Z"
   },
   {
    "duration": 0,
    "start_time": "2022-07-18T00:01:24.743Z"
   },
   {
    "duration": 0,
    "start_time": "2022-07-18T00:01:24.744Z"
   },
   {
    "duration": 0,
    "start_time": "2022-07-18T00:01:24.745Z"
   },
   {
    "duration": 0,
    "start_time": "2022-07-18T00:01:24.747Z"
   },
   {
    "duration": 0,
    "start_time": "2022-07-18T00:01:24.748Z"
   },
   {
    "duration": 0,
    "start_time": "2022-07-18T00:01:24.749Z"
   },
   {
    "duration": 0,
    "start_time": "2022-07-18T00:01:24.750Z"
   },
   {
    "duration": 0,
    "start_time": "2022-07-18T00:01:24.750Z"
   },
   {
    "duration": 0,
    "start_time": "2022-07-18T00:01:24.751Z"
   },
   {
    "duration": 0,
    "start_time": "2022-07-18T00:01:24.752Z"
   },
   {
    "duration": 0,
    "start_time": "2022-07-18T00:01:24.754Z"
   },
   {
    "duration": 0,
    "start_time": "2022-07-18T00:01:24.755Z"
   },
   {
    "duration": 0,
    "start_time": "2022-07-18T00:01:24.756Z"
   },
   {
    "duration": 0,
    "start_time": "2022-07-18T00:01:24.757Z"
   },
   {
    "duration": 0,
    "start_time": "2022-07-18T00:01:24.758Z"
   },
   {
    "duration": 0,
    "start_time": "2022-07-18T00:01:24.759Z"
   },
   {
    "duration": 0,
    "start_time": "2022-07-18T00:01:24.759Z"
   },
   {
    "duration": 0,
    "start_time": "2022-07-18T00:01:24.760Z"
   },
   {
    "duration": 0,
    "start_time": "2022-07-18T00:01:24.761Z"
   },
   {
    "duration": 0,
    "start_time": "2022-07-18T00:01:24.762Z"
   },
   {
    "duration": 9,
    "start_time": "2022-07-18T00:25:33.506Z"
   },
   {
    "duration": 30,
    "start_time": "2022-07-18T00:35:06.611Z"
   },
   {
    "duration": 364,
    "start_time": "2022-07-18T00:41:13.893Z"
   },
   {
    "duration": 294,
    "start_time": "2022-07-18T00:41:14.259Z"
   },
   {
    "duration": 2,
    "start_time": "2022-07-18T00:41:14.555Z"
   },
   {
    "duration": 44,
    "start_time": "2022-07-18T00:41:14.559Z"
   },
   {
    "duration": 10,
    "start_time": "2022-07-18T00:41:14.605Z"
   },
   {
    "duration": 38,
    "start_time": "2022-07-18T00:41:14.617Z"
   },
   {
    "duration": 36,
    "start_time": "2022-07-18T00:41:14.656Z"
   },
   {
    "duration": 14,
    "start_time": "2022-07-18T00:41:14.693Z"
   },
   {
    "duration": 70,
    "start_time": "2022-07-18T00:41:14.709Z"
   },
   {
    "duration": 19,
    "start_time": "2022-07-18T00:41:14.782Z"
   },
   {
    "duration": 12,
    "start_time": "2022-07-18T00:41:14.802Z"
   },
   {
    "duration": 547,
    "start_time": "2022-07-18T00:41:14.816Z"
   },
   {
    "duration": 187,
    "start_time": "2022-07-18T00:41:15.365Z"
   },
   {
    "duration": 161,
    "start_time": "2022-07-18T00:41:15.554Z"
   },
   {
    "duration": 41,
    "start_time": "2022-07-18T00:41:15.717Z"
   },
   {
    "duration": 19,
    "start_time": "2022-07-18T00:41:15.760Z"
   },
   {
    "duration": 159,
    "start_time": "2022-07-18T00:41:15.781Z"
   },
   {
    "duration": 13,
    "start_time": "2022-07-18T00:41:15.942Z"
   },
   {
    "duration": 11,
    "start_time": "2022-07-18T00:41:15.956Z"
   },
   {
    "duration": 82,
    "start_time": "2022-07-18T00:41:15.969Z"
   },
   {
    "duration": 0,
    "start_time": "2022-07-18T00:41:16.054Z"
   },
   {
    "duration": 0,
    "start_time": "2022-07-18T00:41:16.055Z"
   },
   {
    "duration": 0,
    "start_time": "2022-07-18T00:41:16.057Z"
   },
   {
    "duration": 0,
    "start_time": "2022-07-18T00:41:16.058Z"
   },
   {
    "duration": 0,
    "start_time": "2022-07-18T00:41:16.059Z"
   },
   {
    "duration": 0,
    "start_time": "2022-07-18T00:41:16.061Z"
   },
   {
    "duration": 0,
    "start_time": "2022-07-18T00:41:16.062Z"
   },
   {
    "duration": 0,
    "start_time": "2022-07-18T00:41:16.064Z"
   },
   {
    "duration": 0,
    "start_time": "2022-07-18T00:41:16.065Z"
   },
   {
    "duration": 0,
    "start_time": "2022-07-18T00:41:16.066Z"
   },
   {
    "duration": 1,
    "start_time": "2022-07-18T00:41:16.067Z"
   },
   {
    "duration": 0,
    "start_time": "2022-07-18T00:41:16.068Z"
   },
   {
    "duration": 168,
    "start_time": "2022-07-18T00:45:40.177Z"
   },
   {
    "duration": 20,
    "start_time": "2022-07-18T00:45:44.317Z"
   },
   {
    "duration": 139,
    "start_time": "2022-07-18T00:45:44.955Z"
   },
   {
    "duration": 45,
    "start_time": "2022-07-18T00:46:40.715Z"
   },
   {
    "duration": 52,
    "start_time": "2022-07-18T00:48:50.571Z"
   },
   {
    "duration": 35,
    "start_time": "2022-07-18T00:49:26.051Z"
   },
   {
    "duration": 361,
    "start_time": "2022-07-18T00:49:57.168Z"
   },
   {
    "duration": 271,
    "start_time": "2022-07-18T00:49:57.531Z"
   },
   {
    "duration": 2,
    "start_time": "2022-07-18T00:49:57.804Z"
   },
   {
    "duration": 39,
    "start_time": "2022-07-18T00:49:57.808Z"
   },
   {
    "duration": 9,
    "start_time": "2022-07-18T00:49:57.848Z"
   },
   {
    "duration": 16,
    "start_time": "2022-07-18T00:49:57.859Z"
   },
   {
    "duration": 29,
    "start_time": "2022-07-18T00:49:57.876Z"
   },
   {
    "duration": 12,
    "start_time": "2022-07-18T00:49:57.906Z"
   },
   {
    "duration": 64,
    "start_time": "2022-07-18T00:49:57.919Z"
   },
   {
    "duration": 18,
    "start_time": "2022-07-18T00:49:57.985Z"
   },
   {
    "duration": 11,
    "start_time": "2022-07-18T00:49:58.004Z"
   },
   {
    "duration": 351,
    "start_time": "2022-07-18T00:49:58.017Z"
   },
   {
    "duration": 166,
    "start_time": "2022-07-18T00:49:58.369Z"
   },
   {
    "duration": 164,
    "start_time": "2022-07-18T00:49:58.536Z"
   },
   {
    "duration": 29,
    "start_time": "2022-07-18T00:49:58.701Z"
   },
   {
    "duration": 32,
    "start_time": "2022-07-18T00:49:58.731Z"
   },
   {
    "duration": 143,
    "start_time": "2022-07-18T00:49:58.764Z"
   },
   {
    "duration": 11,
    "start_time": "2022-07-18T00:49:58.908Z"
   },
   {
    "duration": 12,
    "start_time": "2022-07-18T00:49:58.920Z"
   },
   {
    "duration": 26,
    "start_time": "2022-07-18T00:49:58.933Z"
   },
   {
    "duration": 6,
    "start_time": "2022-07-18T00:49:58.960Z"
   },
   {
    "duration": 11,
    "start_time": "2022-07-18T00:49:58.967Z"
   },
   {
    "duration": 1355,
    "start_time": "2022-07-18T00:49:58.979Z"
   },
   {
    "duration": 0,
    "start_time": "2022-07-18T00:50:00.336Z"
   },
   {
    "duration": 0,
    "start_time": "2022-07-18T00:50:00.337Z"
   },
   {
    "duration": 0,
    "start_time": "2022-07-18T00:50:00.340Z"
   },
   {
    "duration": 0,
    "start_time": "2022-07-18T00:50:00.342Z"
   },
   {
    "duration": 0,
    "start_time": "2022-07-18T00:50:00.343Z"
   },
   {
    "duration": 0,
    "start_time": "2022-07-18T00:50:00.344Z"
   },
   {
    "duration": 0,
    "start_time": "2022-07-18T00:50:00.345Z"
   },
   {
    "duration": 0,
    "start_time": "2022-07-18T00:50:00.346Z"
   },
   {
    "duration": 1101,
    "start_time": "2022-07-18T01:07:39.458Z"
   },
   {
    "duration": 18,
    "start_time": "2022-07-18T01:08:19.738Z"
   },
   {
    "duration": 22,
    "start_time": "2022-07-18T01:08:25.888Z"
   },
   {
    "duration": 71,
    "start_time": "2022-07-19T01:54:08.261Z"
   },
   {
    "duration": 466,
    "start_time": "2022-07-19T01:54:14.014Z"
   },
   {
    "duration": 899,
    "start_time": "2022-07-19T01:54:14.482Z"
   },
   {
    "duration": 3,
    "start_time": "2022-07-19T01:54:15.384Z"
   },
   {
    "duration": 52,
    "start_time": "2022-07-19T01:54:15.389Z"
   },
   {
    "duration": 11,
    "start_time": "2022-07-19T01:54:15.443Z"
   },
   {
    "duration": 19,
    "start_time": "2022-07-19T01:54:15.456Z"
   },
   {
    "duration": 60,
    "start_time": "2022-07-19T01:54:15.477Z"
   },
   {
    "duration": 17,
    "start_time": "2022-07-19T01:54:15.538Z"
   },
   {
    "duration": 52,
    "start_time": "2022-07-19T01:54:15.557Z"
   },
   {
    "duration": 28,
    "start_time": "2022-07-19T01:54:15.626Z"
   },
   {
    "duration": 13,
    "start_time": "2022-07-19T01:54:15.656Z"
   },
   {
    "duration": 664,
    "start_time": "2022-07-19T01:54:15.671Z"
   },
   {
    "duration": 263,
    "start_time": "2022-07-19T01:54:16.342Z"
   },
   {
    "duration": 209,
    "start_time": "2022-07-19T01:54:16.608Z"
   },
   {
    "duration": 37,
    "start_time": "2022-07-19T01:54:16.828Z"
   },
   {
    "duration": 27,
    "start_time": "2022-07-19T01:54:16.867Z"
   },
   {
    "duration": 245,
    "start_time": "2022-07-19T01:54:16.896Z"
   },
   {
    "duration": 14,
    "start_time": "2022-07-19T01:54:17.143Z"
   },
   {
    "duration": 15,
    "start_time": "2022-07-19T01:54:17.159Z"
   },
   {
    "duration": 25,
    "start_time": "2022-07-19T01:54:17.176Z"
   },
   {
    "duration": 23,
    "start_time": "2022-07-19T01:54:17.203Z"
   },
   {
    "duration": 37,
    "start_time": "2022-07-19T01:54:17.235Z"
   },
   {
    "duration": 33,
    "start_time": "2022-07-19T01:54:17.275Z"
   },
   {
    "duration": 20,
    "start_time": "2022-07-19T01:54:17.310Z"
   },
   {
    "duration": 22,
    "start_time": "2022-07-19T01:54:17.337Z"
   },
   {
    "duration": 102,
    "start_time": "2022-07-19T01:54:17.361Z"
   },
   {
    "duration": 22,
    "start_time": "2022-07-19T01:54:17.465Z"
   },
   {
    "duration": 10,
    "start_time": "2022-07-19T01:54:17.492Z"
   },
   {
    "duration": 46,
    "start_time": "2022-07-19T01:54:17.504Z"
   },
   {
    "duration": 34,
    "start_time": "2022-07-19T01:54:17.552Z"
   },
   {
    "duration": 6,
    "start_time": "2022-07-19T01:54:17.588Z"
   },
   {
    "duration": 16,
    "start_time": "2022-07-19T01:54:17.595Z"
   },
   {
    "duration": 23,
    "start_time": "2022-07-19T01:54:27.333Z"
   },
   {
    "duration": 1012,
    "start_time": "2022-07-19T01:55:04.300Z"
   },
   {
    "duration": 1238,
    "start_time": "2022-07-19T01:55:15.125Z"
   },
   {
    "duration": 7,
    "start_time": "2022-07-19T01:55:27.067Z"
   },
   {
    "duration": 1174,
    "start_time": "2022-07-19T01:55:27.883Z"
   },
   {
    "duration": 32,
    "start_time": "2022-07-19T01:59:28.981Z"
   },
   {
    "duration": 20,
    "start_time": "2022-07-19T01:59:34.206Z"
   },
   {
    "duration": 30,
    "start_time": "2022-07-19T01:59:59.521Z"
   },
   {
    "duration": 48,
    "start_time": "2022-07-19T11:45:56.964Z"
   },
   {
    "duration": 408,
    "start_time": "2022-07-19T11:46:05.463Z"
   },
   {
    "duration": 923,
    "start_time": "2022-07-19T11:46:05.873Z"
   },
   {
    "duration": 3,
    "start_time": "2022-07-19T11:46:06.798Z"
   },
   {
    "duration": 46,
    "start_time": "2022-07-19T11:46:06.803Z"
   },
   {
    "duration": 13,
    "start_time": "2022-07-19T11:46:06.851Z"
   },
   {
    "duration": 23,
    "start_time": "2022-07-19T11:46:06.865Z"
   },
   {
    "duration": 33,
    "start_time": "2022-07-19T11:46:06.890Z"
   },
   {
    "duration": 25,
    "start_time": "2022-07-19T11:46:06.946Z"
   },
   {
    "duration": 52,
    "start_time": "2022-07-19T11:46:06.973Z"
   },
   {
    "duration": 45,
    "start_time": "2022-07-19T11:46:07.026Z"
   },
   {
    "duration": 14,
    "start_time": "2022-07-19T11:46:07.073Z"
   },
   {
    "duration": 546,
    "start_time": "2022-07-19T11:46:07.088Z"
   },
   {
    "duration": 197,
    "start_time": "2022-07-19T11:46:07.636Z"
   },
   {
    "duration": 186,
    "start_time": "2022-07-19T11:46:07.846Z"
   },
   {
    "duration": 48,
    "start_time": "2022-07-19T11:46:08.033Z"
   },
   {
    "duration": 19,
    "start_time": "2022-07-19T11:46:08.083Z"
   },
   {
    "duration": 178,
    "start_time": "2022-07-19T11:46:08.104Z"
   },
   {
    "duration": 12,
    "start_time": "2022-07-19T11:46:08.283Z"
   },
   {
    "duration": 13,
    "start_time": "2022-07-19T11:46:08.296Z"
   },
   {
    "duration": 39,
    "start_time": "2022-07-19T11:46:08.311Z"
   },
   {
    "duration": 15,
    "start_time": "2022-07-19T11:46:08.352Z"
   },
   {
    "duration": 23,
    "start_time": "2022-07-19T11:46:08.369Z"
   },
   {
    "duration": 26,
    "start_time": "2022-07-19T11:46:08.394Z"
   },
   {
    "duration": 27,
    "start_time": "2022-07-19T11:46:08.422Z"
   },
   {
    "duration": 14,
    "start_time": "2022-07-19T11:46:08.450Z"
   },
   {
    "duration": 44,
    "start_time": "2022-07-19T11:46:08.465Z"
   },
   {
    "duration": 88,
    "start_time": "2022-07-19T11:46:08.510Z"
   },
   {
    "duration": 28,
    "start_time": "2022-07-19T11:46:08.600Z"
   },
   {
    "duration": 29,
    "start_time": "2022-07-19T11:46:08.630Z"
   },
   {
    "duration": 15,
    "start_time": "2022-07-19T11:46:08.664Z"
   },
   {
    "duration": 82,
    "start_time": "2022-07-19T11:46:08.681Z"
   },
   {
    "duration": 0,
    "start_time": "2022-07-19T11:46:08.765Z"
   },
   {
    "duration": 0,
    "start_time": "2022-07-19T11:46:08.766Z"
   },
   {
    "duration": 0,
    "start_time": "2022-07-19T11:46:08.767Z"
   },
   {
    "duration": 0,
    "start_time": "2022-07-19T11:46:08.768Z"
   },
   {
    "duration": 14,
    "start_time": "2022-07-19T11:47:59.069Z"
   },
   {
    "duration": 11,
    "start_time": "2022-07-19T11:48:03.475Z"
   },
   {
    "duration": 11,
    "start_time": "2022-07-19T11:48:08.715Z"
   },
   {
    "duration": 5,
    "start_time": "2022-07-19T11:48:15.379Z"
   },
   {
    "duration": 46,
    "start_time": "2022-07-21T12:08:40.346Z"
   },
   {
    "duration": 357,
    "start_time": "2022-07-21T12:08:48.140Z"
   },
   {
    "duration": 1214,
    "start_time": "2022-07-21T12:08:48.500Z"
   },
   {
    "duration": 3,
    "start_time": "2022-07-21T12:08:49.716Z"
   },
   {
    "duration": 52,
    "start_time": "2022-07-21T12:08:49.721Z"
   },
   {
    "duration": 10,
    "start_time": "2022-07-21T12:08:49.775Z"
   },
   {
    "duration": 28,
    "start_time": "2022-07-21T12:08:49.786Z"
   },
   {
    "duration": 39,
    "start_time": "2022-07-21T12:08:49.816Z"
   },
   {
    "duration": 14,
    "start_time": "2022-07-21T12:08:49.856Z"
   },
   {
    "duration": 75,
    "start_time": "2022-07-21T12:08:49.873Z"
   },
   {
    "duration": 34,
    "start_time": "2022-07-21T12:08:49.950Z"
   },
   {
    "duration": 20,
    "start_time": "2022-07-21T12:08:49.986Z"
   },
   {
    "duration": 19,
    "start_time": "2022-07-21T12:08:50.008Z"
   },
   {
    "duration": 578,
    "start_time": "2022-07-21T12:08:50.029Z"
   },
   {
    "duration": 195,
    "start_time": "2022-07-21T12:08:50.611Z"
   },
   {
    "duration": 182,
    "start_time": "2022-07-21T12:08:50.808Z"
   },
   {
    "duration": 37,
    "start_time": "2022-07-21T12:08:50.992Z"
   },
   {
    "duration": 20,
    "start_time": "2022-07-21T12:08:51.031Z"
   },
   {
    "duration": 181,
    "start_time": "2022-07-21T12:08:51.053Z"
   },
   {
    "duration": 81,
    "start_time": "2022-07-21T12:08:51.236Z"
   },
   {
    "duration": 0,
    "start_time": "2022-07-21T12:08:51.318Z"
   },
   {
    "duration": 0,
    "start_time": "2022-07-21T12:08:51.319Z"
   },
   {
    "duration": 0,
    "start_time": "2022-07-21T12:08:51.320Z"
   },
   {
    "duration": 0,
    "start_time": "2022-07-21T12:08:51.322Z"
   },
   {
    "duration": 0,
    "start_time": "2022-07-21T12:08:51.323Z"
   },
   {
    "duration": 0,
    "start_time": "2022-07-21T12:08:51.324Z"
   },
   {
    "duration": 0,
    "start_time": "2022-07-21T12:08:51.325Z"
   },
   {
    "duration": 0,
    "start_time": "2022-07-21T12:08:51.326Z"
   },
   {
    "duration": 0,
    "start_time": "2022-07-21T12:08:51.327Z"
   },
   {
    "duration": 0,
    "start_time": "2022-07-21T12:08:51.328Z"
   },
   {
    "duration": 0,
    "start_time": "2022-07-21T12:08:51.329Z"
   },
   {
    "duration": 0,
    "start_time": "2022-07-21T12:08:51.330Z"
   },
   {
    "duration": 0,
    "start_time": "2022-07-21T12:08:51.330Z"
   },
   {
    "duration": 0,
    "start_time": "2022-07-21T12:08:51.331Z"
   },
   {
    "duration": 0,
    "start_time": "2022-07-21T12:08:51.333Z"
   },
   {
    "duration": 0,
    "start_time": "2022-07-21T12:08:51.334Z"
   },
   {
    "duration": 0,
    "start_time": "2022-07-21T12:08:51.335Z"
   },
   {
    "duration": 3,
    "start_time": "2022-07-21T12:10:06.330Z"
   },
   {
    "duration": 389,
    "start_time": "2022-07-21T12:10:13.127Z"
   },
   {
    "duration": 314,
    "start_time": "2022-07-21T12:10:13.519Z"
   },
   {
    "duration": 3,
    "start_time": "2022-07-21T12:10:13.835Z"
   },
   {
    "duration": 77,
    "start_time": "2022-07-21T12:10:13.841Z"
   },
   {
    "duration": 16,
    "start_time": "2022-07-21T12:10:13.920Z"
   },
   {
    "duration": 45,
    "start_time": "2022-07-21T12:10:13.938Z"
   },
   {
    "duration": 51,
    "start_time": "2022-07-21T12:10:13.985Z"
   },
   {
    "duration": 24,
    "start_time": "2022-07-21T12:10:14.038Z"
   },
   {
    "duration": 80,
    "start_time": "2022-07-21T12:10:14.064Z"
   },
   {
    "duration": 19,
    "start_time": "2022-07-21T12:10:14.148Z"
   },
   {
    "duration": 21,
    "start_time": "2022-07-21T12:10:14.169Z"
   },
   {
    "duration": 144,
    "start_time": "2022-07-21T12:10:14.191Z"
   },
   {
    "duration": 0,
    "start_time": "2022-07-21T12:10:14.337Z"
   },
   {
    "duration": 0,
    "start_time": "2022-07-21T12:10:14.339Z"
   },
   {
    "duration": 0,
    "start_time": "2022-07-21T12:10:14.340Z"
   },
   {
    "duration": 0,
    "start_time": "2022-07-21T12:10:14.341Z"
   },
   {
    "duration": 0,
    "start_time": "2022-07-21T12:10:14.342Z"
   },
   {
    "duration": 0,
    "start_time": "2022-07-21T12:10:14.343Z"
   },
   {
    "duration": 0,
    "start_time": "2022-07-21T12:10:14.344Z"
   },
   {
    "duration": 0,
    "start_time": "2022-07-21T12:10:14.346Z"
   },
   {
    "duration": 0,
    "start_time": "2022-07-21T12:10:14.347Z"
   },
   {
    "duration": 0,
    "start_time": "2022-07-21T12:10:14.348Z"
   },
   {
    "duration": 0,
    "start_time": "2022-07-21T12:10:14.349Z"
   },
   {
    "duration": 0,
    "start_time": "2022-07-21T12:10:14.350Z"
   },
   {
    "duration": 0,
    "start_time": "2022-07-21T12:10:14.351Z"
   },
   {
    "duration": 0,
    "start_time": "2022-07-21T12:10:14.352Z"
   },
   {
    "duration": 0,
    "start_time": "2022-07-21T12:10:14.353Z"
   },
   {
    "duration": 0,
    "start_time": "2022-07-21T12:10:14.354Z"
   },
   {
    "duration": 0,
    "start_time": "2022-07-21T12:10:14.355Z"
   },
   {
    "duration": 0,
    "start_time": "2022-07-21T12:10:14.356Z"
   },
   {
    "duration": 0,
    "start_time": "2022-07-21T12:10:14.357Z"
   },
   {
    "duration": 0,
    "start_time": "2022-07-21T12:10:14.359Z"
   },
   {
    "duration": 0,
    "start_time": "2022-07-21T12:10:14.360Z"
   },
   {
    "duration": 0,
    "start_time": "2022-07-21T12:10:14.361Z"
   },
   {
    "duration": 0,
    "start_time": "2022-07-21T12:10:14.362Z"
   },
   {
    "duration": 9,
    "start_time": "2022-07-21T12:10:41.422Z"
   },
   {
    "duration": 10,
    "start_time": "2022-07-21T12:10:51.229Z"
   },
   {
    "duration": 10,
    "start_time": "2022-07-21T12:11:28.709Z"
   },
   {
    "duration": 406,
    "start_time": "2022-07-21T12:11:34.787Z"
   },
   {
    "duration": 355,
    "start_time": "2022-07-21T12:11:35.195Z"
   },
   {
    "duration": 4,
    "start_time": "2022-07-21T12:11:35.552Z"
   },
   {
    "duration": 52,
    "start_time": "2022-07-21T12:11:35.557Z"
   },
   {
    "duration": 10,
    "start_time": "2022-07-21T12:11:35.611Z"
   },
   {
    "duration": 39,
    "start_time": "2022-07-21T12:11:35.622Z"
   },
   {
    "duration": 32,
    "start_time": "2022-07-21T12:11:35.662Z"
   },
   {
    "duration": 13,
    "start_time": "2022-07-21T12:11:35.696Z"
   },
   {
    "duration": 48,
    "start_time": "2022-07-21T12:11:35.710Z"
   },
   {
    "duration": 20,
    "start_time": "2022-07-21T12:11:35.760Z"
   },
   {
    "duration": 21,
    "start_time": "2022-07-21T12:11:35.782Z"
   },
   {
    "duration": 13,
    "start_time": "2022-07-21T12:11:35.805Z"
   },
   {
    "duration": 374,
    "start_time": "2022-07-21T12:11:35.819Z"
   },
   {
    "duration": 198,
    "start_time": "2022-07-21T12:11:36.196Z"
   },
   {
    "duration": 174,
    "start_time": "2022-07-21T12:11:36.396Z"
   },
   {
    "duration": 40,
    "start_time": "2022-07-21T12:11:36.572Z"
   },
   {
    "duration": 20,
    "start_time": "2022-07-21T12:11:36.614Z"
   },
   {
    "duration": 172,
    "start_time": "2022-07-21T12:11:36.635Z"
   },
   {
    "duration": 10,
    "start_time": "2022-07-21T12:11:36.809Z"
   },
   {
    "duration": 14,
    "start_time": "2022-07-21T12:11:36.822Z"
   },
   {
    "duration": 15,
    "start_time": "2022-07-21T12:11:36.837Z"
   },
   {
    "duration": 7,
    "start_time": "2022-07-21T12:11:36.854Z"
   },
   {
    "duration": 46,
    "start_time": "2022-07-21T12:11:36.863Z"
   },
   {
    "duration": 27,
    "start_time": "2022-07-21T12:11:36.910Z"
   },
   {
    "duration": 10,
    "start_time": "2022-07-21T12:11:36.938Z"
   },
   {
    "duration": 13,
    "start_time": "2022-07-21T12:11:36.950Z"
   },
   {
    "duration": 44,
    "start_time": "2022-07-21T12:11:36.964Z"
   },
   {
    "duration": 13,
    "start_time": "2022-07-21T12:11:37.010Z"
   },
   {
    "duration": 25,
    "start_time": "2022-07-21T12:11:37.024Z"
   },
   {
    "duration": 9,
    "start_time": "2022-07-21T12:11:37.050Z"
   },
   {
    "duration": 47,
    "start_time": "2022-07-21T12:11:37.060Z"
   },
   {
    "duration": 0,
    "start_time": "2022-07-21T12:11:37.109Z"
   },
   {
    "duration": 0,
    "start_time": "2022-07-21T12:11:37.110Z"
   },
   {
    "duration": 0,
    "start_time": "2022-07-21T12:11:37.111Z"
   },
   {
    "duration": 0,
    "start_time": "2022-07-21T12:11:37.112Z"
   },
   {
    "duration": 79,
    "start_time": "2022-07-21T12:12:41.929Z"
   },
   {
    "duration": 43,
    "start_time": "2022-07-21T12:12:59.640Z"
   },
   {
    "duration": 67,
    "start_time": "2022-07-21T12:13:10.264Z"
   },
   {
    "duration": 4,
    "start_time": "2022-07-21T12:13:50.607Z"
   },
   {
    "duration": 42,
    "start_time": "2022-07-21T12:13:54.316Z"
   },
   {
    "duration": 8,
    "start_time": "2022-07-21T12:13:56.695Z"
   },
   {
    "duration": 52,
    "start_time": "2022-07-21T15:46:40.290Z"
   },
   {
    "duration": 424,
    "start_time": "2022-07-21T15:46:48.145Z"
   },
   {
    "duration": 855,
    "start_time": "2022-07-21T15:46:48.571Z"
   },
   {
    "duration": 3,
    "start_time": "2022-07-21T15:46:49.427Z"
   },
   {
    "duration": 48,
    "start_time": "2022-07-21T15:46:49.432Z"
   },
   {
    "duration": 11,
    "start_time": "2022-07-21T15:46:49.481Z"
   },
   {
    "duration": 33,
    "start_time": "2022-07-21T15:46:49.494Z"
   },
   {
    "duration": 32,
    "start_time": "2022-07-21T15:46:49.529Z"
   },
   {
    "duration": 14,
    "start_time": "2022-07-21T15:46:49.563Z"
   },
   {
    "duration": 74,
    "start_time": "2022-07-21T15:46:49.579Z"
   },
   {
    "duration": 21,
    "start_time": "2022-07-21T15:46:49.656Z"
   },
   {
    "duration": 6,
    "start_time": "2022-07-21T15:46:49.679Z"
   },
   {
    "duration": 15,
    "start_time": "2022-07-21T15:46:49.687Z"
   },
   {
    "duration": 537,
    "start_time": "2022-07-21T15:46:49.723Z"
   },
   {
    "duration": 199,
    "start_time": "2022-07-21T15:46:50.262Z"
   },
   {
    "duration": 187,
    "start_time": "2022-07-21T15:46:50.463Z"
   },
   {
    "duration": 35,
    "start_time": "2022-07-21T15:46:50.652Z"
   },
   {
    "duration": 36,
    "start_time": "2022-07-21T15:46:50.688Z"
   },
   {
    "duration": 165,
    "start_time": "2022-07-21T15:46:50.726Z"
   },
   {
    "duration": 49,
    "start_time": "2022-07-21T15:46:50.893Z"
   },
   {
    "duration": 9,
    "start_time": "2022-07-21T15:46:50.944Z"
   },
   {
    "duration": 22,
    "start_time": "2022-07-21T15:46:50.955Z"
   },
   {
    "duration": 15,
    "start_time": "2022-07-21T15:46:50.979Z"
   },
   {
    "duration": 32,
    "start_time": "2022-07-21T15:46:50.995Z"
   },
   {
    "duration": 6,
    "start_time": "2022-07-21T15:46:51.029Z"
   },
   {
    "duration": 23,
    "start_time": "2022-07-21T15:46:51.037Z"
   },
   {
    "duration": 101,
    "start_time": "2022-07-21T15:46:51.062Z"
   },
   {
    "duration": 9,
    "start_time": "2022-07-21T15:46:51.165Z"
   },
   {
    "duration": 10,
    "start_time": "2022-07-21T15:46:51.177Z"
   },
   {
    "duration": 53,
    "start_time": "2022-07-21T15:46:51.188Z"
   },
   {
    "duration": 15,
    "start_time": "2022-07-21T15:46:51.243Z"
   },
   {
    "duration": 26,
    "start_time": "2022-07-21T15:46:51.260Z"
   },
   {
    "duration": 9,
    "start_time": "2022-07-21T15:46:51.287Z"
   },
   {
    "duration": 42,
    "start_time": "2022-07-21T15:46:51.324Z"
   },
   {
    "duration": 0,
    "start_time": "2022-07-21T15:46:51.368Z"
   },
   {
    "duration": 0,
    "start_time": "2022-07-21T15:46:51.370Z"
   },
   {
    "duration": 0,
    "start_time": "2022-07-21T15:46:51.371Z"
   },
   {
    "duration": 0,
    "start_time": "2022-07-21T15:46:51.372Z"
   },
   {
    "duration": 21,
    "start_time": "2022-07-21T15:47:20.841Z"
   },
   {
    "duration": 4,
    "start_time": "2022-07-21T15:48:14.656Z"
   },
   {
    "duration": 90,
    "start_time": "2022-07-21T15:48:23.137Z"
   },
   {
    "duration": 22,
    "start_time": "2022-07-21T15:48:26.745Z"
   },
   {
    "duration": 3,
    "start_time": "2022-07-21T15:48:28.576Z"
   },
   {
    "duration": 11,
    "start_time": "2022-07-21T15:48:36.633Z"
   },
   {
    "duration": 10,
    "start_time": "2022-07-21T15:48:47.416Z"
   },
   {
    "duration": 7,
    "start_time": "2022-07-21T15:48:52.065Z"
   },
   {
    "duration": 24,
    "start_time": "2022-07-21T15:57:09.054Z"
   },
   {
    "duration": 34,
    "start_time": "2022-07-21T16:22:56.791Z"
   },
   {
    "duration": 36,
    "start_time": "2022-07-21T16:24:25.383Z"
   },
   {
    "duration": 35,
    "start_time": "2022-07-21T16:24:27.446Z"
   },
   {
    "duration": 25,
    "start_time": "2022-07-21T16:24:48.094Z"
   },
   {
    "duration": 12,
    "start_time": "2022-07-21T16:24:53.069Z"
   },
   {
    "duration": 47,
    "start_time": "2022-07-26T23:13:34.120Z"
   },
   {
    "duration": 383,
    "start_time": "2022-07-26T23:13:42.986Z"
   },
   {
    "duration": 835,
    "start_time": "2022-07-26T23:13:43.371Z"
   },
   {
    "duration": 4,
    "start_time": "2022-07-26T23:13:44.207Z"
   },
   {
    "duration": 47,
    "start_time": "2022-07-26T23:13:44.212Z"
   },
   {
    "duration": 12,
    "start_time": "2022-07-26T23:13:44.261Z"
   },
   {
    "duration": 24,
    "start_time": "2022-07-26T23:13:44.274Z"
   },
   {
    "duration": 52,
    "start_time": "2022-07-26T23:13:44.300Z"
   },
   {
    "duration": 16,
    "start_time": "2022-07-26T23:13:44.354Z"
   },
   {
    "duration": 71,
    "start_time": "2022-07-26T23:13:44.372Z"
   },
   {
    "duration": 21,
    "start_time": "2022-07-26T23:13:44.445Z"
   },
   {
    "duration": 5,
    "start_time": "2022-07-26T23:13:44.468Z"
   },
   {
    "duration": 11,
    "start_time": "2022-07-26T23:13:44.475Z"
   },
   {
    "duration": 573,
    "start_time": "2022-07-26T23:13:44.488Z"
   },
   {
    "duration": 197,
    "start_time": "2022-07-26T23:13:45.064Z"
   },
   {
    "duration": 190,
    "start_time": "2022-07-26T23:13:45.263Z"
   },
   {
    "duration": 34,
    "start_time": "2022-07-26T23:13:45.455Z"
   },
   {
    "duration": 37,
    "start_time": "2022-07-26T23:13:45.490Z"
   },
   {
    "duration": 153,
    "start_time": "2022-07-26T23:13:45.528Z"
   },
   {
    "duration": 51,
    "start_time": "2022-07-26T23:13:45.683Z"
   },
   {
    "duration": 9,
    "start_time": "2022-07-26T23:13:45.736Z"
   },
   {
    "duration": 86,
    "start_time": "2022-07-26T23:13:45.747Z"
   },
   {
    "duration": 0,
    "start_time": "2022-07-26T23:13:45.835Z"
   },
   {
    "duration": 0,
    "start_time": "2022-07-26T23:13:45.837Z"
   },
   {
    "duration": 0,
    "start_time": "2022-07-26T23:13:45.839Z"
   },
   {
    "duration": 0,
    "start_time": "2022-07-26T23:13:45.840Z"
   },
   {
    "duration": 0,
    "start_time": "2022-07-26T23:13:45.841Z"
   },
   {
    "duration": 0,
    "start_time": "2022-07-26T23:13:45.842Z"
   },
   {
    "duration": 0,
    "start_time": "2022-07-26T23:13:45.844Z"
   },
   {
    "duration": 0,
    "start_time": "2022-07-26T23:13:45.845Z"
   },
   {
    "duration": 0,
    "start_time": "2022-07-26T23:13:45.847Z"
   },
   {
    "duration": 0,
    "start_time": "2022-07-26T23:13:45.849Z"
   },
   {
    "duration": 0,
    "start_time": "2022-07-26T23:13:45.850Z"
   },
   {
    "duration": 0,
    "start_time": "2022-07-26T23:13:45.852Z"
   },
   {
    "duration": 0,
    "start_time": "2022-07-26T23:13:45.853Z"
   },
   {
    "duration": 0,
    "start_time": "2022-07-26T23:13:45.959Z"
   },
   {
    "duration": 0,
    "start_time": "2022-07-26T23:13:45.960Z"
   },
   {
    "duration": 0,
    "start_time": "2022-07-26T23:13:45.962Z"
   },
   {
    "duration": 0,
    "start_time": "2022-07-26T23:13:45.963Z"
   },
   {
    "duration": 0,
    "start_time": "2022-07-26T23:13:45.964Z"
   },
   {
    "duration": 0,
    "start_time": "2022-07-26T23:13:45.965Z"
   },
   {
    "duration": 0,
    "start_time": "2022-07-26T23:13:45.966Z"
   },
   {
    "duration": 0,
    "start_time": "2022-07-26T23:13:45.967Z"
   },
   {
    "duration": 7,
    "start_time": "2022-07-26T23:17:28.276Z"
   },
   {
    "duration": 0,
    "start_time": "2022-07-26T23:17:28.285Z"
   },
   {
    "duration": 0,
    "start_time": "2022-07-26T23:17:28.286Z"
   },
   {
    "duration": 0,
    "start_time": "2022-07-26T23:17:28.287Z"
   },
   {
    "duration": 0,
    "start_time": "2022-07-26T23:17:28.288Z"
   },
   {
    "duration": 0,
    "start_time": "2022-07-26T23:17:28.290Z"
   },
   {
    "duration": 0,
    "start_time": "2022-07-26T23:17:28.291Z"
   },
   {
    "duration": 0,
    "start_time": "2022-07-26T23:17:28.292Z"
   },
   {
    "duration": 10,
    "start_time": "2022-07-26T23:17:28.294Z"
   },
   {
    "duration": 1,
    "start_time": "2022-07-26T23:17:28.305Z"
   },
   {
    "duration": 0,
    "start_time": "2022-07-26T23:17:28.307Z"
   },
   {
    "duration": 0,
    "start_time": "2022-07-26T23:17:28.308Z"
   },
   {
    "duration": 0,
    "start_time": "2022-07-26T23:17:28.310Z"
   },
   {
    "duration": 0,
    "start_time": "2022-07-26T23:17:28.311Z"
   },
   {
    "duration": 0,
    "start_time": "2022-07-26T23:17:28.313Z"
   },
   {
    "duration": 0,
    "start_time": "2022-07-26T23:17:28.314Z"
   },
   {
    "duration": 0,
    "start_time": "2022-07-26T23:17:28.315Z"
   },
   {
    "duration": 0,
    "start_time": "2022-07-26T23:17:28.317Z"
   },
   {
    "duration": 0,
    "start_time": "2022-07-26T23:17:28.318Z"
   },
   {
    "duration": 0,
    "start_time": "2022-07-26T23:17:28.323Z"
   },
   {
    "duration": 0,
    "start_time": "2022-07-26T23:17:28.324Z"
   },
   {
    "duration": 0,
    "start_time": "2022-07-26T23:17:28.325Z"
   },
   {
    "duration": 12,
    "start_time": "2022-07-26T23:17:38.140Z"
   },
   {
    "duration": 13,
    "start_time": "2022-07-26T23:17:38.154Z"
   },
   {
    "duration": 22,
    "start_time": "2022-07-26T23:17:38.169Z"
   },
   {
    "duration": 7,
    "start_time": "2022-07-26T23:17:38.192Z"
   },
   {
    "duration": 30,
    "start_time": "2022-07-26T23:17:38.201Z"
   },
   {
    "duration": 20,
    "start_time": "2022-07-26T23:17:38.233Z"
   },
   {
    "duration": 2,
    "start_time": "2022-07-26T23:17:38.255Z"
   },
   {
    "duration": 11,
    "start_time": "2022-07-26T23:17:38.259Z"
   },
   {
    "duration": 16,
    "start_time": "2022-07-26T23:17:38.271Z"
   },
   {
    "duration": 11,
    "start_time": "2022-07-26T23:17:38.289Z"
   },
   {
    "duration": 47,
    "start_time": "2022-07-26T23:17:38.302Z"
   },
   {
    "duration": 16,
    "start_time": "2022-07-26T23:17:38.350Z"
   },
   {
    "duration": 9,
    "start_time": "2022-07-26T23:17:38.368Z"
   },
   {
    "duration": 0,
    "start_time": "2022-07-26T23:17:38.379Z"
   },
   {
    "duration": 0,
    "start_time": "2022-07-26T23:17:38.380Z"
   },
   {
    "duration": 0,
    "start_time": "2022-07-26T23:17:38.381Z"
   },
   {
    "duration": 0,
    "start_time": "2022-07-26T23:17:38.382Z"
   },
   {
    "duration": 0,
    "start_time": "2022-07-26T23:17:38.384Z"
   },
   {
    "duration": 0,
    "start_time": "2022-07-26T23:17:38.385Z"
   },
   {
    "duration": 0,
    "start_time": "2022-07-26T23:17:38.386Z"
   },
   {
    "duration": 0,
    "start_time": "2022-07-26T23:17:38.387Z"
   },
   {
    "duration": 219,
    "start_time": "2022-07-26T23:18:27.989Z"
   },
   {
    "duration": 13,
    "start_time": "2022-07-26T23:18:30.229Z"
   },
   {
    "duration": 11,
    "start_time": "2022-07-26T23:18:32.108Z"
   },
   {
    "duration": 9,
    "start_time": "2022-07-26T23:18:41.932Z"
   },
   {
    "duration": 52,
    "start_time": "2022-07-26T23:18:41.943Z"
   },
   {
    "duration": 0,
    "start_time": "2022-07-26T23:18:41.997Z"
   },
   {
    "duration": 0,
    "start_time": "2022-07-26T23:18:41.998Z"
   },
   {
    "duration": 0,
    "start_time": "2022-07-26T23:18:42.000Z"
   },
   {
    "duration": 0,
    "start_time": "2022-07-26T23:18:42.001Z"
   },
   {
    "duration": 6,
    "start_time": "2022-07-26T23:18:50.060Z"
   },
   {
    "duration": 12,
    "start_time": "2022-07-26T23:18:56.395Z"
   },
   {
    "duration": 27,
    "start_time": "2022-07-26T23:18:56.595Z"
   },
   {
    "duration": 6,
    "start_time": "2022-07-26T23:18:56.771Z"
   },
   {
    "duration": 8,
    "start_time": "2022-07-26T23:18:57.171Z"
   },
   {
    "duration": 16,
    "start_time": "2022-07-26T23:19:26.779Z"
   },
   {
    "duration": 12,
    "start_time": "2022-07-26T23:19:36.899Z"
   },
   {
    "duration": 12,
    "start_time": "2022-07-26T23:20:25.538Z"
   },
   {
    "duration": 374,
    "start_time": "2022-07-26T23:20:38.066Z"
   },
   {
    "duration": 308,
    "start_time": "2022-07-26T23:20:38.443Z"
   },
   {
    "duration": 3,
    "start_time": "2022-07-26T23:20:38.753Z"
   },
   {
    "duration": 49,
    "start_time": "2022-07-26T23:20:38.757Z"
   },
   {
    "duration": 11,
    "start_time": "2022-07-26T23:20:38.808Z"
   },
   {
    "duration": 22,
    "start_time": "2022-07-26T23:20:38.821Z"
   },
   {
    "duration": 35,
    "start_time": "2022-07-26T23:20:38.845Z"
   },
   {
    "duration": 16,
    "start_time": "2022-07-26T23:20:38.882Z"
   },
   {
    "duration": 72,
    "start_time": "2022-07-26T23:20:38.900Z"
   },
   {
    "duration": 22,
    "start_time": "2022-07-26T23:20:38.974Z"
   },
   {
    "duration": 26,
    "start_time": "2022-07-26T23:20:38.998Z"
   },
   {
    "duration": 14,
    "start_time": "2022-07-26T23:20:39.025Z"
   },
   {
    "duration": 357,
    "start_time": "2022-07-26T23:20:39.041Z"
   },
   {
    "duration": 190,
    "start_time": "2022-07-26T23:20:39.402Z"
   },
   {
    "duration": 180,
    "start_time": "2022-07-26T23:20:39.594Z"
   },
   {
    "duration": 31,
    "start_time": "2022-07-26T23:20:39.776Z"
   },
   {
    "duration": 31,
    "start_time": "2022-07-26T23:20:39.809Z"
   },
   {
    "duration": 156,
    "start_time": "2022-07-26T23:20:39.842Z"
   },
   {
    "duration": 51,
    "start_time": "2022-07-26T23:20:40.000Z"
   },
   {
    "duration": 8,
    "start_time": "2022-07-26T23:20:40.053Z"
   },
   {
    "duration": 13,
    "start_time": "2022-07-26T23:20:40.063Z"
   },
   {
    "duration": 10,
    "start_time": "2022-07-26T23:20:40.078Z"
   },
   {
    "duration": 34,
    "start_time": "2022-07-26T23:20:40.090Z"
   },
   {
    "duration": 7,
    "start_time": "2022-07-26T23:20:40.126Z"
   },
   {
    "duration": 22,
    "start_time": "2022-07-26T23:20:40.134Z"
   },
   {
    "duration": 19,
    "start_time": "2022-07-26T23:20:40.158Z"
   },
   {
    "duration": 3,
    "start_time": "2022-07-26T23:20:40.179Z"
   },
   {
    "duration": 10,
    "start_time": "2022-07-26T23:20:40.184Z"
   },
   {
    "duration": 32,
    "start_time": "2022-07-26T23:20:40.196Z"
   },
   {
    "duration": 12,
    "start_time": "2022-07-26T23:20:40.230Z"
   },
   {
    "duration": 30,
    "start_time": "2022-07-26T23:20:40.244Z"
   },
   {
    "duration": 13,
    "start_time": "2022-07-26T23:20:40.275Z"
   },
   {
    "duration": 241,
    "start_time": "2022-07-26T23:20:40.290Z"
   },
   {
    "duration": 13,
    "start_time": "2022-07-26T23:20:40.533Z"
   },
   {
    "duration": 11,
    "start_time": "2022-07-26T23:20:40.548Z"
   },
   {
    "duration": 11,
    "start_time": "2022-07-26T23:20:40.560Z"
   },
   {
    "duration": 8,
    "start_time": "2022-07-26T23:20:40.572Z"
   },
   {
    "duration": 13,
    "start_time": "2022-07-26T23:20:40.581Z"
   },
   {
    "duration": 52,
    "start_time": "2022-07-26T23:20:40.596Z"
   },
   {
    "duration": 6,
    "start_time": "2022-07-26T23:20:40.650Z"
   },
   {
    "duration": 8,
    "start_time": "2022-07-26T23:20:40.659Z"
   },
   {
    "duration": 92,
    "start_time": "2022-07-26T23:20:40.669Z"
   },
   {
    "duration": 12,
    "start_time": "2022-07-26T23:20:51.133Z"
   },
   {
    "duration": 14,
    "start_time": "2022-07-26T23:21:04.069Z"
   },
   {
    "duration": 7,
    "start_time": "2022-07-26T23:21:09.518Z"
   },
   {
    "duration": 13,
    "start_time": "2022-07-26T23:21:19.181Z"
   },
   {
    "duration": 27,
    "start_time": "2022-07-26T23:22:56.020Z"
   },
   {
    "duration": 13,
    "start_time": "2022-07-26T23:22:57.499Z"
   },
   {
    "duration": 421,
    "start_time": "2022-07-26T23:23:18.903Z"
   },
   {
    "duration": 309,
    "start_time": "2022-07-26T23:23:19.325Z"
   },
   {
    "duration": 3,
    "start_time": "2022-07-26T23:23:19.635Z"
   },
   {
    "duration": 53,
    "start_time": "2022-07-26T23:23:19.639Z"
   },
   {
    "duration": 9,
    "start_time": "2022-07-26T23:23:19.694Z"
   },
   {
    "duration": 21,
    "start_time": "2022-07-26T23:23:19.705Z"
   },
   {
    "duration": 33,
    "start_time": "2022-07-26T23:23:19.728Z"
   },
   {
    "duration": 15,
    "start_time": "2022-07-26T23:23:19.763Z"
   },
   {
    "duration": 65,
    "start_time": "2022-07-26T23:23:19.780Z"
   },
   {
    "duration": 21,
    "start_time": "2022-07-26T23:23:19.847Z"
   },
   {
    "duration": 7,
    "start_time": "2022-07-26T23:23:19.870Z"
   },
   {
    "duration": 16,
    "start_time": "2022-07-26T23:23:19.879Z"
   },
   {
    "duration": 394,
    "start_time": "2022-07-26T23:23:19.896Z"
   },
   {
    "duration": 198,
    "start_time": "2022-07-26T23:23:20.293Z"
   },
   {
    "duration": 183,
    "start_time": "2022-07-26T23:23:20.492Z"
   },
   {
    "duration": 32,
    "start_time": "2022-07-26T23:23:20.677Z"
   },
   {
    "duration": 32,
    "start_time": "2022-07-26T23:23:20.710Z"
   },
   {
    "duration": 150,
    "start_time": "2022-07-26T23:23:20.743Z"
   },
   {
    "duration": 47,
    "start_time": "2022-07-26T23:23:20.894Z"
   },
   {
    "duration": 8,
    "start_time": "2022-07-26T23:23:20.943Z"
   },
   {
    "duration": 12,
    "start_time": "2022-07-26T23:23:20.953Z"
   },
   {
    "duration": 11,
    "start_time": "2022-07-26T23:23:20.967Z"
   },
   {
    "duration": 22,
    "start_time": "2022-07-26T23:23:20.979Z"
   },
   {
    "duration": 22,
    "start_time": "2022-07-26T23:23:21.002Z"
   },
   {
    "duration": 21,
    "start_time": "2022-07-26T23:23:21.026Z"
   },
   {
    "duration": 88,
    "start_time": "2022-07-26T23:23:21.049Z"
   },
   {
    "duration": 0,
    "start_time": "2022-07-26T23:23:21.139Z"
   },
   {
    "duration": 0,
    "start_time": "2022-07-26T23:23:21.140Z"
   },
   {
    "duration": 0,
    "start_time": "2022-07-26T23:23:21.141Z"
   },
   {
    "duration": 0,
    "start_time": "2022-07-26T23:23:21.142Z"
   },
   {
    "duration": 0,
    "start_time": "2022-07-26T23:23:21.143Z"
   },
   {
    "duration": 0,
    "start_time": "2022-07-26T23:23:21.144Z"
   },
   {
    "duration": 0,
    "start_time": "2022-07-26T23:23:21.145Z"
   },
   {
    "duration": 0,
    "start_time": "2022-07-26T23:23:21.146Z"
   },
   {
    "duration": 0,
    "start_time": "2022-07-26T23:23:21.147Z"
   },
   {
    "duration": 0,
    "start_time": "2022-07-26T23:23:21.148Z"
   },
   {
    "duration": 0,
    "start_time": "2022-07-26T23:23:21.149Z"
   },
   {
    "duration": 0,
    "start_time": "2022-07-26T23:23:21.150Z"
   },
   {
    "duration": 0,
    "start_time": "2022-07-26T23:23:21.151Z"
   },
   {
    "duration": 0,
    "start_time": "2022-07-26T23:23:21.152Z"
   },
   {
    "duration": 0,
    "start_time": "2022-07-26T23:23:21.153Z"
   },
   {
    "duration": 0,
    "start_time": "2022-07-26T23:23:21.154Z"
   },
   {
    "duration": 0,
    "start_time": "2022-07-26T23:23:21.155Z"
   },
   {
    "duration": 0,
    "start_time": "2022-07-26T23:23:21.156Z"
   },
   {
    "duration": 22,
    "start_time": "2022-07-26T23:23:37.428Z"
   },
   {
    "duration": 3,
    "start_time": "2022-07-26T23:23:40.043Z"
   },
   {
    "duration": 7,
    "start_time": "2022-07-26T23:23:41.364Z"
   },
   {
    "duration": 15,
    "start_time": "2022-07-26T23:23:45.182Z"
   },
   {
    "duration": 8,
    "start_time": "2022-07-26T23:23:45.324Z"
   },
   {
    "duration": 26,
    "start_time": "2022-07-26T23:23:45.353Z"
   },
   {
    "duration": 16,
    "start_time": "2022-07-26T23:23:45.386Z"
   },
   {
    "duration": 16,
    "start_time": "2022-07-26T23:23:45.416Z"
   },
   {
    "duration": 13,
    "start_time": "2022-07-26T23:23:45.449Z"
   },
   {
    "duration": 7,
    "start_time": "2022-07-26T23:23:45.480Z"
   },
   {
    "duration": 9,
    "start_time": "2022-07-26T23:23:45.573Z"
   },
   {
    "duration": 7,
    "start_time": "2022-07-26T23:23:45.619Z"
   },
   {
    "duration": 10,
    "start_time": "2022-07-26T23:23:45.682Z"
   },
   {
    "duration": 26,
    "start_time": "2022-07-26T23:23:45.713Z"
   },
   {
    "duration": 5,
    "start_time": "2022-07-26T23:23:45.746Z"
   },
   {
    "duration": 6,
    "start_time": "2022-07-26T23:23:45.775Z"
   },
   {
    "duration": 12,
    "start_time": "2022-07-26T23:23:45.805Z"
   },
   {
    "duration": 8,
    "start_time": "2022-07-26T23:23:45.836Z"
   },
   {
    "duration": 11,
    "start_time": "2022-07-26T23:23:45.885Z"
   },
   {
    "duration": 14,
    "start_time": "2022-07-26T23:23:59.949Z"
   },
   {
    "duration": 277,
    "start_time": "2022-07-26T23:24:30.028Z"
   },
   {
    "duration": 15,
    "start_time": "2022-07-26T23:24:37.388Z"
   },
   {
    "duration": 12,
    "start_time": "2022-07-26T23:24:53.259Z"
   },
   {
    "duration": 15,
    "start_time": "2022-07-26T23:24:59.755Z"
   },
   {
    "duration": 367,
    "start_time": "2022-07-26T23:25:20.065Z"
   },
   {
    "duration": 321,
    "start_time": "2022-07-26T23:25:20.435Z"
   },
   {
    "duration": 3,
    "start_time": "2022-07-26T23:25:20.758Z"
   },
   {
    "duration": 47,
    "start_time": "2022-07-26T23:25:20.762Z"
   },
   {
    "duration": 11,
    "start_time": "2022-07-26T23:25:20.811Z"
   },
   {
    "duration": 31,
    "start_time": "2022-07-26T23:25:20.823Z"
   },
   {
    "duration": 34,
    "start_time": "2022-07-26T23:25:20.856Z"
   },
   {
    "duration": 15,
    "start_time": "2022-07-26T23:25:20.892Z"
   },
   {
    "duration": 59,
    "start_time": "2022-07-26T23:25:20.909Z"
   },
   {
    "duration": 20,
    "start_time": "2022-07-26T23:25:20.970Z"
   },
   {
    "duration": 7,
    "start_time": "2022-07-26T23:25:20.992Z"
   },
   {
    "duration": 29,
    "start_time": "2022-07-26T23:25:21.000Z"
   },
   {
    "duration": 352,
    "start_time": "2022-07-26T23:25:21.031Z"
   },
   {
    "duration": 194,
    "start_time": "2022-07-26T23:25:21.386Z"
   },
   {
    "duration": 186,
    "start_time": "2022-07-26T23:25:21.581Z"
   },
   {
    "duration": 32,
    "start_time": "2022-07-26T23:25:21.769Z"
   },
   {
    "duration": 32,
    "start_time": "2022-07-26T23:25:21.803Z"
   },
   {
    "duration": 158,
    "start_time": "2022-07-26T23:25:21.836Z"
   },
   {
    "duration": 50,
    "start_time": "2022-07-26T23:25:21.996Z"
   },
   {
    "duration": 8,
    "start_time": "2022-07-26T23:25:22.047Z"
   },
   {
    "duration": 13,
    "start_time": "2022-07-26T23:25:22.057Z"
   },
   {
    "duration": 11,
    "start_time": "2022-07-26T23:25:22.071Z"
   },
   {
    "duration": 17,
    "start_time": "2022-07-26T23:25:22.084Z"
   },
   {
    "duration": 25,
    "start_time": "2022-07-26T23:25:22.103Z"
   },
   {
    "duration": 20,
    "start_time": "2022-07-26T23:25:22.130Z"
   },
   {
    "duration": 20,
    "start_time": "2022-07-26T23:25:22.152Z"
   },
   {
    "duration": 3,
    "start_time": "2022-07-26T23:25:22.174Z"
   },
   {
    "duration": 14,
    "start_time": "2022-07-26T23:25:22.178Z"
   },
   {
    "duration": 32,
    "start_time": "2022-07-26T23:25:22.193Z"
   },
   {
    "duration": 11,
    "start_time": "2022-07-26T23:25:22.227Z"
   },
   {
    "duration": 30,
    "start_time": "2022-07-26T23:25:22.239Z"
   },
   {
    "duration": 13,
    "start_time": "2022-07-26T23:25:22.271Z"
   },
   {
    "duration": 44,
    "start_time": "2022-07-26T23:25:22.286Z"
   },
   {
    "duration": 10,
    "start_time": "2022-07-26T23:25:22.332Z"
   },
   {
    "duration": 13,
    "start_time": "2022-07-26T23:25:22.344Z"
   },
   {
    "duration": 8,
    "start_time": "2022-07-26T23:25:22.359Z"
   },
   {
    "duration": 12,
    "start_time": "2022-07-26T23:25:22.368Z"
   },
   {
    "duration": 43,
    "start_time": "2022-07-26T23:25:22.382Z"
   },
   {
    "duration": 6,
    "start_time": "2022-07-26T23:25:22.427Z"
   },
   {
    "duration": 9,
    "start_time": "2022-07-26T23:25:22.435Z"
   },
   {
    "duration": 13,
    "start_time": "2022-07-26T23:25:22.447Z"
   },
   {
    "duration": 97,
    "start_time": "2022-07-26T23:25:22.462Z"
   },
   {
    "duration": 0,
    "start_time": "2022-07-26T23:25:22.561Z"
   },
   {
    "duration": 276,
    "start_time": "2022-07-27T00:23:45.680Z"
   },
   {
    "duration": 188,
    "start_time": "2022-07-27T00:23:51.263Z"
   },
   {
    "duration": 9,
    "start_time": "2022-07-27T00:23:58.416Z"
   },
   {
    "duration": 35,
    "start_time": "2022-07-27T00:25:25.116Z"
   },
   {
    "duration": 34,
    "start_time": "2022-07-27T00:25:39.580Z"
   },
   {
    "duration": 23,
    "start_time": "2022-07-27T00:25:48.900Z"
   },
   {
    "duration": 43,
    "start_time": "2022-07-27T00:25:56.525Z"
   },
   {
    "duration": 8,
    "start_time": "2022-07-27T00:26:00.852Z"
   },
   {
    "duration": 389,
    "start_time": "2022-07-27T00:26:10.834Z"
   },
   {
    "duration": 298,
    "start_time": "2022-07-27T00:26:11.225Z"
   },
   {
    "duration": 2,
    "start_time": "2022-07-27T00:26:11.525Z"
   },
   {
    "duration": 50,
    "start_time": "2022-07-27T00:26:11.542Z"
   },
   {
    "duration": 10,
    "start_time": "2022-07-27T00:26:11.594Z"
   },
   {
    "duration": 25,
    "start_time": "2022-07-27T00:26:11.606Z"
   },
   {
    "duration": 34,
    "start_time": "2022-07-27T00:26:11.632Z"
   },
   {
    "duration": 16,
    "start_time": "2022-07-27T00:26:11.667Z"
   },
   {
    "duration": 72,
    "start_time": "2022-07-27T00:26:11.684Z"
   },
   {
    "duration": 20,
    "start_time": "2022-07-27T00:26:11.758Z"
   },
   {
    "duration": 9,
    "start_time": "2022-07-27T00:26:11.780Z"
   },
   {
    "duration": 17,
    "start_time": "2022-07-27T00:26:11.791Z"
   },
   {
    "duration": 771,
    "start_time": "2022-07-27T00:26:11.810Z"
   },
   {
    "duration": 0,
    "start_time": "2022-07-27T00:26:12.584Z"
   },
   {
    "duration": 0,
    "start_time": "2022-07-27T00:26:12.585Z"
   },
   {
    "duration": 0,
    "start_time": "2022-07-27T00:26:12.587Z"
   },
   {
    "duration": 0,
    "start_time": "2022-07-27T00:26:12.588Z"
   },
   {
    "duration": 0,
    "start_time": "2022-07-27T00:26:12.589Z"
   },
   {
    "duration": 0,
    "start_time": "2022-07-27T00:26:12.590Z"
   },
   {
    "duration": 0,
    "start_time": "2022-07-27T00:26:12.591Z"
   },
   {
    "duration": 0,
    "start_time": "2022-07-27T00:26:12.592Z"
   },
   {
    "duration": 0,
    "start_time": "2022-07-27T00:26:12.593Z"
   },
   {
    "duration": 0,
    "start_time": "2022-07-27T00:26:12.594Z"
   },
   {
    "duration": 0,
    "start_time": "2022-07-27T00:26:12.595Z"
   },
   {
    "duration": 0,
    "start_time": "2022-07-27T00:26:12.596Z"
   },
   {
    "duration": 0,
    "start_time": "2022-07-27T00:26:12.597Z"
   },
   {
    "duration": 0,
    "start_time": "2022-07-27T00:26:12.598Z"
   },
   {
    "duration": 0,
    "start_time": "2022-07-27T00:26:12.598Z"
   },
   {
    "duration": 0,
    "start_time": "2022-07-27T00:26:12.600Z"
   },
   {
    "duration": 0,
    "start_time": "2022-07-27T00:26:12.600Z"
   },
   {
    "duration": 0,
    "start_time": "2022-07-27T00:26:12.601Z"
   },
   {
    "duration": 0,
    "start_time": "2022-07-27T00:26:12.602Z"
   },
   {
    "duration": 0,
    "start_time": "2022-07-27T00:26:12.603Z"
   },
   {
    "duration": 0,
    "start_time": "2022-07-27T00:26:12.604Z"
   },
   {
    "duration": 0,
    "start_time": "2022-07-27T00:26:12.605Z"
   },
   {
    "duration": 0,
    "start_time": "2022-07-27T00:26:12.606Z"
   },
   {
    "duration": 0,
    "start_time": "2022-07-27T00:26:12.607Z"
   },
   {
    "duration": 0,
    "start_time": "2022-07-27T00:26:12.608Z"
   },
   {
    "duration": 0,
    "start_time": "2022-07-27T00:26:12.609Z"
   },
   {
    "duration": 0,
    "start_time": "2022-07-27T00:26:12.611Z"
   },
   {
    "duration": 0,
    "start_time": "2022-07-27T00:26:12.612Z"
   },
   {
    "duration": 0,
    "start_time": "2022-07-27T00:26:12.613Z"
   },
   {
    "duration": 0,
    "start_time": "2022-07-27T00:26:12.614Z"
   },
   {
    "duration": 363,
    "start_time": "2022-07-27T00:26:46.589Z"
   },
   {
    "duration": 176,
    "start_time": "2022-07-27T00:26:54.086Z"
   },
   {
    "duration": 147,
    "start_time": "2022-07-27T00:27:03.199Z"
   },
   {
    "duration": 199,
    "start_time": "2022-07-27T00:27:03.348Z"
   },
   {
    "duration": 190,
    "start_time": "2022-07-27T00:27:03.549Z"
   },
   {
    "duration": 35,
    "start_time": "2022-07-27T00:27:03.741Z"
   },
   {
    "duration": 93,
    "start_time": "2022-07-27T00:27:03.778Z"
   },
   {
    "duration": 192,
    "start_time": "2022-07-27T00:27:03.872Z"
   },
   {
    "duration": 41,
    "start_time": "2022-07-27T00:27:04.066Z"
   },
   {
    "duration": 17,
    "start_time": "2022-07-27T00:27:04.109Z"
   },
   {
    "duration": 12,
    "start_time": "2022-07-27T00:27:04.128Z"
   },
   {
    "duration": 12,
    "start_time": "2022-07-27T00:27:04.142Z"
   },
   {
    "duration": 18,
    "start_time": "2022-07-27T00:27:04.156Z"
   },
   {
    "duration": 7,
    "start_time": "2022-07-27T00:27:04.176Z"
   },
   {
    "duration": 47,
    "start_time": "2022-07-27T00:27:04.185Z"
   },
   {
    "duration": 20,
    "start_time": "2022-07-27T00:27:04.236Z"
   },
   {
    "duration": 4,
    "start_time": "2022-07-27T00:27:04.258Z"
   },
   {
    "duration": 12,
    "start_time": "2022-07-27T00:27:04.263Z"
   },
   {
    "duration": 13,
    "start_time": "2022-07-27T00:27:04.276Z"
   },
   {
    "duration": 35,
    "start_time": "2022-07-27T00:27:04.290Z"
   },
   {
    "duration": 27,
    "start_time": "2022-07-27T00:27:04.327Z"
   },
   {
    "duration": 13,
    "start_time": "2022-07-27T00:27:04.356Z"
   },
   {
    "duration": 34,
    "start_time": "2022-07-27T00:27:04.371Z"
   },
   {
    "duration": 23,
    "start_time": "2022-07-27T00:27:04.407Z"
   },
   {
    "duration": 9,
    "start_time": "2022-07-27T00:27:04.432Z"
   },
   {
    "duration": 16,
    "start_time": "2022-07-27T00:27:04.442Z"
   },
   {
    "duration": 21,
    "start_time": "2022-07-27T00:27:04.460Z"
   },
   {
    "duration": 47,
    "start_time": "2022-07-27T00:27:04.483Z"
   },
   {
    "duration": 7,
    "start_time": "2022-07-27T00:27:04.531Z"
   },
   {
    "duration": 13,
    "start_time": "2022-07-27T00:27:04.540Z"
   },
   {
    "duration": 29,
    "start_time": "2022-07-27T00:27:04.555Z"
   },
   {
    "duration": 35,
    "start_time": "2022-07-27T00:27:04.586Z"
   },
   {
    "duration": 20,
    "start_time": "2022-07-27T00:27:04.623Z"
   },
   {
    "duration": 15,
    "start_time": "2022-07-27T00:29:00.461Z"
   },
   {
    "duration": 9,
    "start_time": "2022-07-27T00:29:04.460Z"
   },
   {
    "duration": 7,
    "start_time": "2022-07-27T00:29:09.076Z"
   },
   {
    "duration": 7,
    "start_time": "2022-07-27T00:29:12.836Z"
   },
   {
    "duration": 10,
    "start_time": "2022-07-27T00:30:14.283Z"
   },
   {
    "duration": 22,
    "start_time": "2022-07-27T00:30:19.899Z"
   },
   {
    "duration": 17,
    "start_time": "2022-07-27T00:30:29.932Z"
   },
   {
    "duration": 50,
    "start_time": "2022-07-27T00:37:31.895Z"
   },
   {
    "duration": 11,
    "start_time": "2022-07-27T00:37:57.190Z"
   },
   {
    "duration": 8,
    "start_time": "2022-07-27T00:39:22.325Z"
   },
   {
    "duration": 11,
    "start_time": "2022-07-27T00:39:43.692Z"
   },
   {
    "duration": 15,
    "start_time": "2022-07-27T00:39:57.861Z"
   },
   {
    "duration": 10,
    "start_time": "2022-07-27T00:40:07.957Z"
   },
   {
    "duration": 426,
    "start_time": "2022-07-27T00:40:14.505Z"
   },
   {
    "duration": 311,
    "start_time": "2022-07-27T00:40:14.933Z"
   },
   {
    "duration": 3,
    "start_time": "2022-07-27T00:40:15.245Z"
   },
   {
    "duration": 44,
    "start_time": "2022-07-27T00:40:15.250Z"
   },
   {
    "duration": 10,
    "start_time": "2022-07-27T00:40:15.296Z"
   },
   {
    "duration": 20,
    "start_time": "2022-07-27T00:40:15.308Z"
   },
   {
    "duration": 35,
    "start_time": "2022-07-27T00:40:15.329Z"
   },
   {
    "duration": 15,
    "start_time": "2022-07-27T00:40:15.365Z"
   },
   {
    "duration": 73,
    "start_time": "2022-07-27T00:40:15.382Z"
   },
   {
    "duration": 20,
    "start_time": "2022-07-27T00:40:15.457Z"
   },
   {
    "duration": 5,
    "start_time": "2022-07-27T00:40:15.478Z"
   },
   {
    "duration": 13,
    "start_time": "2022-07-27T00:40:15.485Z"
   },
   {
    "duration": 379,
    "start_time": "2022-07-27T00:40:15.499Z"
   },
   {
    "duration": 193,
    "start_time": "2022-07-27T00:40:15.881Z"
   },
   {
    "duration": 181,
    "start_time": "2022-07-27T00:40:16.076Z"
   },
   {
    "duration": 32,
    "start_time": "2022-07-27T00:40:16.259Z"
   },
   {
    "duration": 32,
    "start_time": "2022-07-27T00:40:16.293Z"
   },
   {
    "duration": 163,
    "start_time": "2022-07-27T00:40:16.327Z"
   },
   {
    "duration": 49,
    "start_time": "2022-07-27T00:40:16.492Z"
   },
   {
    "duration": 8,
    "start_time": "2022-07-27T00:40:16.543Z"
   },
   {
    "duration": 14,
    "start_time": "2022-07-27T00:40:16.552Z"
   },
   {
    "duration": 13,
    "start_time": "2022-07-27T00:40:16.568Z"
   },
   {
    "duration": 17,
    "start_time": "2022-07-27T00:40:16.582Z"
   },
   {
    "duration": 23,
    "start_time": "2022-07-27T00:40:16.601Z"
   },
   {
    "duration": 21,
    "start_time": "2022-07-27T00:40:16.626Z"
   },
   {
    "duration": 21,
    "start_time": "2022-07-27T00:40:16.648Z"
   },
   {
    "duration": 3,
    "start_time": "2022-07-27T00:40:16.671Z"
   },
   {
    "duration": 15,
    "start_time": "2022-07-27T00:40:16.675Z"
   },
   {
    "duration": 32,
    "start_time": "2022-07-27T00:40:16.692Z"
   },
   {
    "duration": 8,
    "start_time": "2022-07-27T00:40:16.726Z"
   },
   {
    "duration": 28,
    "start_time": "2022-07-27T00:40:16.736Z"
   },
   {
    "duration": 15,
    "start_time": "2022-07-27T00:40:16.766Z"
   },
   {
    "duration": 46,
    "start_time": "2022-07-27T00:40:16.783Z"
   },
   {
    "duration": 13,
    "start_time": "2022-07-27T00:40:16.831Z"
   },
   {
    "duration": 9,
    "start_time": "2022-07-27T00:40:16.846Z"
   },
   {
    "duration": 9,
    "start_time": "2022-07-27T00:40:16.857Z"
   },
   {
    "duration": 13,
    "start_time": "2022-07-27T00:40:16.868Z"
   },
   {
    "duration": 46,
    "start_time": "2022-07-27T00:40:16.883Z"
   },
   {
    "duration": 5,
    "start_time": "2022-07-27T00:40:16.931Z"
   },
   {
    "duration": 9,
    "start_time": "2022-07-27T00:40:16.938Z"
   },
   {
    "duration": 16,
    "start_time": "2022-07-27T00:40:16.950Z"
   },
   {
    "duration": 11,
    "start_time": "2022-07-27T00:40:16.968Z"
   },
   {
    "duration": 14,
    "start_time": "2022-07-27T00:40:16.980Z"
   },
   {
    "duration": 42,
    "start_time": "2022-07-27T00:40:16.995Z"
   },
   {
    "duration": 91,
    "start_time": "2022-07-27T00:40:17.039Z"
   },
   {
    "duration": 0,
    "start_time": "2022-07-27T00:40:17.132Z"
   },
   {
    "duration": 0,
    "start_time": "2022-07-27T00:40:17.133Z"
   },
   {
    "duration": 15,
    "start_time": "2022-07-27T00:40:47.374Z"
   },
   {
    "duration": 12,
    "start_time": "2022-07-27T00:45:30.009Z"
   },
   {
    "duration": 4,
    "start_time": "2022-07-27T00:45:39.794Z"
   },
   {
    "duration": 17,
    "start_time": "2022-07-27T00:45:48.130Z"
   },
   {
    "duration": 4,
    "start_time": "2022-07-27T00:51:56.389Z"
   },
   {
    "duration": 20,
    "start_time": "2022-07-27T00:51:56.750Z"
   },
   {
    "duration": 10,
    "start_time": "2022-07-27T00:52:12.845Z"
   },
   {
    "duration": 10,
    "start_time": "2022-07-27T00:52:45.604Z"
   },
   {
    "duration": 16,
    "start_time": "2022-07-27T00:52:59.019Z"
   },
   {
    "duration": 19,
    "start_time": "2022-07-27T00:55:05.650Z"
   },
   {
    "duration": 59,
    "start_time": "2022-07-27T00:56:26.539Z"
   },
   {
    "duration": 16,
    "start_time": "2022-07-27T00:56:35.778Z"
   },
   {
    "duration": 17,
    "start_time": "2022-07-27T00:56:57.433Z"
   },
   {
    "duration": 19,
    "start_time": "2022-07-27T01:00:55.647Z"
   },
   {
    "duration": 19,
    "start_time": "2022-07-27T01:01:10.014Z"
   },
   {
    "duration": 20,
    "start_time": "2022-07-27T01:01:28.359Z"
   },
   {
    "duration": 21,
    "start_time": "2022-07-27T01:01:42.934Z"
   },
   {
    "duration": 10,
    "start_time": "2022-07-27T01:02:02.750Z"
   },
   {
    "duration": 10,
    "start_time": "2022-07-27T01:02:25.574Z"
   },
   {
    "duration": 17,
    "start_time": "2022-07-27T01:03:04.893Z"
   },
   {
    "duration": 11,
    "start_time": "2022-07-27T01:03:43.877Z"
   },
   {
    "duration": 1112,
    "start_time": "2022-07-27T01:04:02.677Z"
   },
   {
    "duration": 417,
    "start_time": "2022-07-27T01:04:11.788Z"
   },
   {
    "duration": 314,
    "start_time": "2022-07-27T01:04:12.208Z"
   },
   {
    "duration": 3,
    "start_time": "2022-07-27T01:04:12.524Z"
   },
   {
    "duration": 54,
    "start_time": "2022-07-27T01:04:12.528Z"
   },
   {
    "duration": 11,
    "start_time": "2022-07-27T01:04:12.584Z"
   },
   {
    "duration": 32,
    "start_time": "2022-07-27T01:04:12.596Z"
   },
   {
    "duration": 34,
    "start_time": "2022-07-27T01:04:12.630Z"
   },
   {
    "duration": 17,
    "start_time": "2022-07-27T01:04:12.667Z"
   },
   {
    "duration": 78,
    "start_time": "2022-07-27T01:04:12.685Z"
   },
   {
    "duration": 20,
    "start_time": "2022-07-27T01:04:12.765Z"
   },
   {
    "duration": 8,
    "start_time": "2022-07-27T01:04:12.787Z"
   },
   {
    "duration": 28,
    "start_time": "2022-07-27T01:04:12.796Z"
   },
   {
    "duration": 379,
    "start_time": "2022-07-27T01:04:12.826Z"
   },
   {
    "duration": 215,
    "start_time": "2022-07-27T01:04:13.209Z"
   },
   {
    "duration": 192,
    "start_time": "2022-07-27T01:04:13.426Z"
   },
   {
    "duration": 35,
    "start_time": "2022-07-27T01:04:13.624Z"
   },
   {
    "duration": 22,
    "start_time": "2022-07-27T01:04:13.661Z"
   },
   {
    "duration": 167,
    "start_time": "2022-07-27T01:04:13.684Z"
   },
   {
    "duration": 42,
    "start_time": "2022-07-27T01:04:13.853Z"
   },
   {
    "duration": 8,
    "start_time": "2022-07-27T01:04:13.897Z"
   },
   {
    "duration": 29,
    "start_time": "2022-07-27T01:04:13.906Z"
   },
   {
    "duration": 7,
    "start_time": "2022-07-27T01:04:13.937Z"
   },
   {
    "duration": 22,
    "start_time": "2022-07-27T01:04:13.945Z"
   },
   {
    "duration": 20,
    "start_time": "2022-07-27T01:04:13.968Z"
   },
   {
    "duration": 2,
    "start_time": "2022-07-27T01:04:13.990Z"
   },
   {
    "duration": 31,
    "start_time": "2022-07-27T01:04:13.994Z"
   },
   {
    "duration": 14,
    "start_time": "2022-07-27T01:04:14.027Z"
   },
   {
    "duration": 8,
    "start_time": "2022-07-27T01:04:14.043Z"
   },
   {
    "duration": 26,
    "start_time": "2022-07-27T01:04:14.053Z"
   },
   {
    "duration": 8,
    "start_time": "2022-07-27T01:04:14.080Z"
   },
   {
    "duration": 46,
    "start_time": "2022-07-27T01:04:14.089Z"
   },
   {
    "duration": 14,
    "start_time": "2022-07-27T01:04:14.137Z"
   },
   {
    "duration": 23,
    "start_time": "2022-07-27T01:04:14.153Z"
   },
   {
    "duration": 10,
    "start_time": "2022-07-27T01:04:14.178Z"
   },
   {
    "duration": 12,
    "start_time": "2022-07-27T01:04:14.190Z"
   },
   {
    "duration": 6,
    "start_time": "2022-07-27T01:04:14.224Z"
   },
   {
    "duration": 14,
    "start_time": "2022-07-27T01:04:14.231Z"
   },
   {
    "duration": 26,
    "start_time": "2022-07-27T01:04:14.247Z"
   },
   {
    "duration": 7,
    "start_time": "2022-07-27T01:04:14.274Z"
   },
   {
    "duration": 8,
    "start_time": "2022-07-27T01:04:14.282Z"
   },
   {
    "duration": 33,
    "start_time": "2022-07-27T01:04:14.294Z"
   },
   {
    "duration": 9,
    "start_time": "2022-07-27T01:04:14.329Z"
   },
   {
    "duration": 16,
    "start_time": "2022-07-27T01:04:14.340Z"
   },
   {
    "duration": 23,
    "start_time": "2022-07-27T01:04:14.357Z"
   },
   {
    "duration": 8,
    "start_time": "2022-07-27T01:04:14.382Z"
   },
   {
    "duration": 38,
    "start_time": "2022-07-27T01:04:14.392Z"
   },
   {
    "duration": 917,
    "start_time": "2022-07-27T01:04:14.431Z"
   },
   {
    "duration": 0,
    "start_time": "2022-07-27T01:04:15.350Z"
   },
   {
    "duration": 0,
    "start_time": "2022-07-27T01:04:15.351Z"
   },
   {
    "duration": 1001,
    "start_time": "2022-07-27T01:04:22.668Z"
   },
   {
    "duration": 180,
    "start_time": "2022-07-27T01:06:26.091Z"
   },
   {
    "duration": 196,
    "start_time": "2022-07-27T01:06:27.851Z"
   },
   {
    "duration": 171,
    "start_time": "2022-07-27T01:06:41.427Z"
   },
   {
    "duration": 220,
    "start_time": "2022-07-27T01:06:45.964Z"
   },
   {
    "duration": 9,
    "start_time": "2022-07-27T01:06:48.018Z"
   },
   {
    "duration": 17,
    "start_time": "2022-07-27T01:06:55.370Z"
   },
   {
    "duration": 3,
    "start_time": "2022-07-27T01:06:56.306Z"
   },
   {
    "duration": 7,
    "start_time": "2022-07-27T01:06:58.899Z"
   },
   {
    "duration": 71,
    "start_time": "2022-07-27T01:07:06.355Z"
   },
   {
    "duration": 16,
    "start_time": "2022-07-27T01:07:41.435Z"
   },
   {
    "duration": 28,
    "start_time": "2022-07-27T01:07:53.402Z"
   },
   {
    "duration": 24,
    "start_time": "2022-07-27T01:08:23.674Z"
   },
   {
    "duration": 29,
    "start_time": "2022-07-27T01:08:42.627Z"
   },
   {
    "duration": 19,
    "start_time": "2022-07-27T01:09:46.849Z"
   },
   {
    "duration": 62,
    "start_time": "2022-07-27T01:09:54.705Z"
   },
   {
    "duration": 75,
    "start_time": "2022-07-27T01:10:11.728Z"
   },
   {
    "duration": 11,
    "start_time": "2022-07-27T01:10:58.113Z"
   },
   {
    "duration": 378,
    "start_time": "2022-07-27T01:11:08.257Z"
   },
   {
    "duration": 311,
    "start_time": "2022-07-27T01:11:08.637Z"
   },
   {
    "duration": 3,
    "start_time": "2022-07-27T01:11:08.949Z"
   },
   {
    "duration": 47,
    "start_time": "2022-07-27T01:11:08.953Z"
   },
   {
    "duration": 10,
    "start_time": "2022-07-27T01:11:09.003Z"
   },
   {
    "duration": 24,
    "start_time": "2022-07-27T01:11:09.015Z"
   },
   {
    "duration": 34,
    "start_time": "2022-07-27T01:11:09.041Z"
   },
   {
    "duration": 16,
    "start_time": "2022-07-27T01:11:09.076Z"
   },
   {
    "duration": 75,
    "start_time": "2022-07-27T01:11:09.093Z"
   },
   {
    "duration": 21,
    "start_time": "2022-07-27T01:11:09.170Z"
   },
   {
    "duration": 8,
    "start_time": "2022-07-27T01:11:09.193Z"
   },
   {
    "duration": 28,
    "start_time": "2022-07-27T01:11:09.202Z"
   },
   {
    "duration": 351,
    "start_time": "2022-07-27T01:11:09.232Z"
   },
   {
    "duration": 198,
    "start_time": "2022-07-27T01:11:09.587Z"
   },
   {
    "duration": 189,
    "start_time": "2022-07-27T01:11:09.788Z"
   },
   {
    "duration": 48,
    "start_time": "2022-07-27T01:11:09.979Z"
   },
   {
    "duration": 25,
    "start_time": "2022-07-27T01:11:10.029Z"
   },
   {
    "duration": 173,
    "start_time": "2022-07-27T01:11:10.055Z"
   },
   {
    "duration": 43,
    "start_time": "2022-07-27T01:11:10.230Z"
   },
   {
    "duration": 9,
    "start_time": "2022-07-27T01:11:10.275Z"
   },
   {
    "duration": 41,
    "start_time": "2022-07-27T01:11:10.286Z"
   },
   {
    "duration": 8,
    "start_time": "2022-07-27T01:11:10.329Z"
   },
   {
    "duration": 26,
    "start_time": "2022-07-27T01:11:10.338Z"
   },
   {
    "duration": 20,
    "start_time": "2022-07-27T01:11:10.366Z"
   },
   {
    "duration": 3,
    "start_time": "2022-07-27T01:11:10.387Z"
   },
   {
    "duration": 35,
    "start_time": "2022-07-27T01:11:10.392Z"
   },
   {
    "duration": 16,
    "start_time": "2022-07-27T01:11:10.429Z"
   },
   {
    "duration": 8,
    "start_time": "2022-07-27T01:11:10.447Z"
   },
   {
    "duration": 87,
    "start_time": "2022-07-27T01:11:10.457Z"
   },
   {
    "duration": 8,
    "start_time": "2022-07-27T01:11:10.545Z"
   },
   {
    "duration": 31,
    "start_time": "2022-07-27T01:11:10.555Z"
   },
   {
    "duration": 15,
    "start_time": "2022-07-27T01:11:10.587Z"
   },
   {
    "duration": 39,
    "start_time": "2022-07-27T01:11:10.604Z"
   },
   {
    "duration": 11,
    "start_time": "2022-07-27T01:11:10.645Z"
   },
   {
    "duration": 13,
    "start_time": "2022-07-27T01:11:10.658Z"
   },
   {
    "duration": 8,
    "start_time": "2022-07-27T01:11:10.673Z"
   },
   {
    "duration": 13,
    "start_time": "2022-07-27T01:11:10.682Z"
   },
   {
    "duration": 47,
    "start_time": "2022-07-27T01:11:10.696Z"
   },
   {
    "duration": 6,
    "start_time": "2022-07-27T01:11:10.745Z"
   },
   {
    "duration": 8,
    "start_time": "2022-07-27T01:11:10.753Z"
   },
   {
    "duration": 14,
    "start_time": "2022-07-27T01:11:10.765Z"
   },
   {
    "duration": 11,
    "start_time": "2022-07-27T01:11:10.780Z"
   },
   {
    "duration": 41,
    "start_time": "2022-07-27T01:11:10.793Z"
   },
   {
    "duration": 19,
    "start_time": "2022-07-27T01:11:10.836Z"
   },
   {
    "duration": 12,
    "start_time": "2022-07-27T01:11:10.856Z"
   },
   {
    "duration": 18,
    "start_time": "2022-07-27T01:11:10.870Z"
   },
   {
    "duration": 1203,
    "start_time": "2022-07-27T01:11:10.889Z"
   },
   {
    "duration": 0,
    "start_time": "2022-07-27T01:11:12.094Z"
   },
   {
    "duration": 0,
    "start_time": "2022-07-27T01:11:12.095Z"
   },
   {
    "duration": 16,
    "start_time": "2022-07-27T01:11:34.744Z"
   },
   {
    "duration": 8,
    "start_time": "2022-07-27T01:11:50.305Z"
   },
   {
    "duration": 15,
    "start_time": "2022-07-27T01:12:01.112Z"
   },
   {
    "duration": 840,
    "start_time": "2022-07-27T01:12:45.991Z"
   },
   {
    "duration": 18,
    "start_time": "2022-07-27T01:12:54.257Z"
   },
   {
    "duration": 15,
    "start_time": "2022-07-27T01:13:17.183Z"
   },
   {
    "duration": 11,
    "start_time": "2022-07-27T01:14:00.151Z"
   },
   {
    "duration": 8,
    "start_time": "2022-07-27T01:14:10.151Z"
   },
   {
    "duration": 3,
    "start_time": "2022-07-27T01:14:16.095Z"
   },
   {
    "duration": 11,
    "start_time": "2022-07-27T01:14:22.374Z"
   },
   {
    "duration": 11,
    "start_time": "2022-07-27T01:14:33.535Z"
   },
   {
    "duration": 8,
    "start_time": "2022-07-27T01:14:56.574Z"
   },
   {
    "duration": 15,
    "start_time": "2022-07-27T01:15:04.231Z"
   },
   {
    "duration": 4,
    "start_time": "2022-07-27T11:53:04.002Z"
   },
   {
    "duration": 5,
    "start_time": "2022-07-27T11:53:09.777Z"
   },
   {
    "duration": 694,
    "start_time": "2022-07-27T11:55:48.776Z"
   },
   {
    "duration": 29,
    "start_time": "2022-07-27T11:59:45.205Z"
   },
   {
    "duration": 26,
    "start_time": "2022-07-27T12:00:02.085Z"
   },
   {
    "duration": 18,
    "start_time": "2022-07-27T12:00:06.302Z"
   },
   {
    "duration": 25,
    "start_time": "2022-07-27T12:00:15.574Z"
   },
   {
    "duration": 25,
    "start_time": "2022-07-27T12:07:25.984Z"
   },
   {
    "duration": 9,
    "start_time": "2022-07-27T12:22:15.566Z"
   },
   {
    "duration": 18,
    "start_time": "2022-07-27T12:38:58.421Z"
   },
   {
    "duration": 13,
    "start_time": "2022-07-27T12:39:03.870Z"
   },
   {
    "duration": 3,
    "start_time": "2022-07-27T12:41:53.018Z"
   },
   {
    "duration": 6,
    "start_time": "2022-07-27T12:42:04.545Z"
   },
   {
    "duration": 6,
    "start_time": "2022-07-27T12:42:13.088Z"
   },
   {
    "duration": 3,
    "start_time": "2022-07-27T12:42:19.475Z"
   },
   {
    "duration": 6,
    "start_time": "2022-07-27T12:42:23.861Z"
   },
   {
    "duration": 6,
    "start_time": "2022-07-27T12:42:31.000Z"
   },
   {
    "duration": 3,
    "start_time": "2022-07-27T12:42:49.175Z"
   },
   {
    "duration": 6,
    "start_time": "2022-07-27T12:42:50.232Z"
   },
   {
    "duration": 4,
    "start_time": "2022-07-27T12:44:55.127Z"
   },
   {
    "duration": 6,
    "start_time": "2022-07-27T12:44:55.750Z"
   },
   {
    "duration": 5,
    "start_time": "2022-07-27T12:45:10.086Z"
   },
   {
    "duration": 8,
    "start_time": "2022-07-27T12:45:10.993Z"
   },
   {
    "duration": 6,
    "start_time": "2022-07-27T12:45:30.645Z"
   },
   {
    "duration": 6,
    "start_time": "2022-07-27T12:45:31.229Z"
   },
   {
    "duration": 8,
    "start_time": "2022-07-27T12:45:37.494Z"
   },
   {
    "duration": 4,
    "start_time": "2022-07-27T12:45:50.669Z"
   },
   {
    "duration": 4,
    "start_time": "2022-07-27T12:45:55.830Z"
   },
   {
    "duration": 7,
    "start_time": "2022-07-27T12:46:03.085Z"
   },
   {
    "duration": 3,
    "start_time": "2022-07-27T12:46:25.286Z"
   },
   {
    "duration": 7,
    "start_time": "2022-07-27T12:46:32.972Z"
   },
   {
    "duration": 452,
    "start_time": "2022-07-27T12:46:52.408Z"
   },
   {
    "duration": 314,
    "start_time": "2022-07-27T12:46:52.862Z"
   },
   {
    "duration": 3,
    "start_time": "2022-07-27T12:46:53.177Z"
   },
   {
    "duration": 48,
    "start_time": "2022-07-27T12:46:53.182Z"
   },
   {
    "duration": 12,
    "start_time": "2022-07-27T12:46:53.232Z"
   },
   {
    "duration": 23,
    "start_time": "2022-07-27T12:46:53.245Z"
   },
   {
    "duration": 55,
    "start_time": "2022-07-27T12:46:53.270Z"
   },
   {
    "duration": 17,
    "start_time": "2022-07-27T12:46:53.326Z"
   },
   {
    "duration": 49,
    "start_time": "2022-07-27T12:46:53.344Z"
   },
   {
    "duration": 37,
    "start_time": "2022-07-27T12:46:53.394Z"
   },
   {
    "duration": 8,
    "start_time": "2022-07-27T12:46:53.433Z"
   },
   {
    "duration": 18,
    "start_time": "2022-07-27T12:46:53.443Z"
   },
   {
    "duration": 401,
    "start_time": "2022-07-27T12:46:53.462Z"
   },
   {
    "duration": 203,
    "start_time": "2022-07-27T12:46:53.866Z"
   },
   {
    "duration": 190,
    "start_time": "2022-07-27T12:46:54.070Z"
   },
   {
    "duration": 36,
    "start_time": "2022-07-27T12:46:54.262Z"
   },
   {
    "duration": 44,
    "start_time": "2022-07-27T12:46:54.300Z"
   },
   {
    "duration": 172,
    "start_time": "2022-07-27T12:46:54.347Z"
   },
   {
    "duration": 60,
    "start_time": "2022-07-27T12:46:54.524Z"
   },
   {
    "duration": 9,
    "start_time": "2022-07-27T12:46:54.586Z"
   },
   {
    "duration": 41,
    "start_time": "2022-07-27T12:46:54.597Z"
   },
   {
    "duration": 9,
    "start_time": "2022-07-27T12:46:54.640Z"
   },
   {
    "duration": 38,
    "start_time": "2022-07-27T12:46:54.651Z"
   },
   {
    "duration": 39,
    "start_time": "2022-07-27T12:46:54.691Z"
   },
   {
    "duration": 3,
    "start_time": "2022-07-27T12:46:54.731Z"
   },
   {
    "duration": 11,
    "start_time": "2022-07-27T12:46:54.736Z"
   },
   {
    "duration": 14,
    "start_time": "2022-07-27T12:46:54.749Z"
   },
   {
    "duration": 7,
    "start_time": "2022-07-27T12:46:54.764Z"
   },
   {
    "duration": 103,
    "start_time": "2022-07-27T12:46:54.773Z"
   },
   {
    "duration": 8,
    "start_time": "2022-07-27T12:46:54.878Z"
   },
   {
    "duration": 45,
    "start_time": "2022-07-27T12:46:54.888Z"
   },
   {
    "duration": 15,
    "start_time": "2022-07-27T12:46:54.935Z"
   },
   {
    "duration": 22,
    "start_time": "2022-07-27T12:46:54.952Z"
   },
   {
    "duration": 10,
    "start_time": "2022-07-27T12:46:54.975Z"
   },
   {
    "duration": 17,
    "start_time": "2022-07-27T12:46:54.987Z"
   },
   {
    "duration": 13,
    "start_time": "2022-07-27T12:46:55.024Z"
   },
   {
    "duration": 17,
    "start_time": "2022-07-27T12:46:55.039Z"
   },
   {
    "duration": 42,
    "start_time": "2022-07-27T12:46:55.058Z"
   },
   {
    "duration": 15,
    "start_time": "2022-07-27T12:46:55.102Z"
   },
   {
    "duration": 14,
    "start_time": "2022-07-27T12:46:55.119Z"
   },
   {
    "duration": 17,
    "start_time": "2022-07-27T12:46:55.137Z"
   },
   {
    "duration": 12,
    "start_time": "2022-07-27T12:46:55.156Z"
   },
   {
    "duration": 15,
    "start_time": "2022-07-27T12:46:55.169Z"
   },
   {
    "duration": 14,
    "start_time": "2022-07-27T12:46:55.186Z"
   },
   {
    "duration": 34,
    "start_time": "2022-07-27T12:46:55.201Z"
   },
   {
    "duration": 10,
    "start_time": "2022-07-27T12:46:55.237Z"
   },
   {
    "duration": 12,
    "start_time": "2022-07-27T12:46:55.249Z"
   },
   {
    "duration": 16,
    "start_time": "2022-07-27T12:46:55.262Z"
   },
   {
    "duration": 9,
    "start_time": "2022-07-27T12:46:55.279Z"
   },
   {
    "duration": 39,
    "start_time": "2022-07-27T12:46:55.289Z"
   },
   {
    "duration": 31,
    "start_time": "2022-07-27T12:46:55.330Z"
   },
   {
    "duration": 13,
    "start_time": "2022-07-27T12:46:55.362Z"
   },
   {
    "duration": 14,
    "start_time": "2022-07-27T12:46:55.377Z"
   },
   {
    "duration": 6,
    "start_time": "2022-07-27T12:46:55.393Z"
   },
   {
    "duration": 48,
    "start_time": "2022-07-27T12:46:55.401Z"
   },
   {
    "duration": 25,
    "start_time": "2022-07-27T12:46:55.451Z"
   },
   {
    "duration": 25,
    "start_time": "2022-07-27T12:48:32.045Z"
   },
   {
    "duration": 18,
    "start_time": "2022-07-27T12:48:35.773Z"
   },
   {
    "duration": 6,
    "start_time": "2022-07-27T12:49:19.965Z"
   },
   {
    "duration": 8,
    "start_time": "2022-07-27T12:49:27.108Z"
   },
   {
    "duration": 3,
    "start_time": "2022-07-27T12:50:34.988Z"
   },
   {
    "duration": 78,
    "start_time": "2022-07-27T13:02:00.038Z"
   },
   {
    "duration": 4,
    "start_time": "2022-07-27T13:03:00.041Z"
   },
   {
    "duration": 6,
    "start_time": "2022-07-27T13:03:06.918Z"
   },
   {
    "duration": 6,
    "start_time": "2022-07-27T13:03:12.358Z"
   },
   {
    "duration": 19,
    "start_time": "2022-07-27T14:19:14.977Z"
   },
   {
    "duration": 3,
    "start_time": "2022-07-27T14:20:16.665Z"
   },
   {
    "duration": 30,
    "start_time": "2022-07-27T14:20:17.405Z"
   },
   {
    "duration": 10,
    "start_time": "2022-07-27T14:20:18.553Z"
   },
   {
    "duration": 7,
    "start_time": "2022-07-27T14:20:40.842Z"
   },
   {
    "duration": 9,
    "start_time": "2022-07-27T14:20:49.577Z"
   },
   {
    "duration": 26,
    "start_time": "2022-07-27T14:22:24.990Z"
   },
   {
    "duration": 9,
    "start_time": "2022-07-27T14:22:25.343Z"
   },
   {
    "duration": 6,
    "start_time": "2022-07-27T14:22:39.335Z"
   },
   {
    "duration": 3,
    "start_time": "2022-07-27T14:24:58.453Z"
   },
   {
    "duration": 26,
    "start_time": "2022-07-27T14:25:06.304Z"
   },
   {
    "duration": 20,
    "start_time": "2022-07-27T14:25:07.174Z"
   },
   {
    "duration": 28,
    "start_time": "2022-07-27T14:25:17.757Z"
   },
   {
    "duration": 368,
    "start_time": "2022-07-27T14:27:32.276Z"
   },
   {
    "duration": 304,
    "start_time": "2022-07-27T14:27:32.646Z"
   },
   {
    "duration": 2,
    "start_time": "2022-07-27T14:27:32.952Z"
   },
   {
    "duration": 48,
    "start_time": "2022-07-27T14:27:32.956Z"
   },
   {
    "duration": 11,
    "start_time": "2022-07-27T14:27:33.006Z"
   },
   {
    "duration": 22,
    "start_time": "2022-07-27T14:27:33.018Z"
   },
   {
    "duration": 36,
    "start_time": "2022-07-27T14:27:33.042Z"
   },
   {
    "duration": 17,
    "start_time": "2022-07-27T14:27:33.079Z"
   },
   {
    "duration": 74,
    "start_time": "2022-07-27T14:27:33.098Z"
   },
   {
    "duration": 23,
    "start_time": "2022-07-27T14:27:33.174Z"
   },
   {
    "duration": 8,
    "start_time": "2022-07-27T14:27:33.199Z"
   },
   {
    "duration": 33,
    "start_time": "2022-07-27T14:27:33.208Z"
   },
   {
    "duration": 367,
    "start_time": "2022-07-27T14:27:33.243Z"
   },
   {
    "duration": 219,
    "start_time": "2022-07-27T14:27:33.613Z"
   },
   {
    "duration": 190,
    "start_time": "2022-07-27T14:27:33.834Z"
   },
   {
    "duration": 33,
    "start_time": "2022-07-27T14:27:34.025Z"
   },
   {
    "duration": 21,
    "start_time": "2022-07-27T14:27:34.060Z"
   },
   {
    "duration": 179,
    "start_time": "2022-07-27T14:27:34.082Z"
   },
   {
    "duration": 39,
    "start_time": "2022-07-27T14:27:34.263Z"
   },
   {
    "duration": 22,
    "start_time": "2022-07-27T14:27:34.303Z"
   },
   {
    "duration": 19,
    "start_time": "2022-07-27T14:27:34.327Z"
   },
   {
    "duration": 9,
    "start_time": "2022-07-27T14:27:34.348Z"
   },
   {
    "duration": 24,
    "start_time": "2022-07-27T14:27:34.358Z"
   },
   {
    "duration": 44,
    "start_time": "2022-07-27T14:27:34.384Z"
   },
   {
    "duration": 3,
    "start_time": "2022-07-27T14:27:34.430Z"
   },
   {
    "duration": 16,
    "start_time": "2022-07-27T14:27:34.434Z"
   },
   {
    "duration": 22,
    "start_time": "2022-07-27T14:27:34.452Z"
   },
   {
    "duration": 7,
    "start_time": "2022-07-27T14:27:34.476Z"
   },
   {
    "duration": 93,
    "start_time": "2022-07-27T14:27:34.485Z"
   },
   {
    "duration": 8,
    "start_time": "2022-07-27T14:27:34.580Z"
   },
   {
    "duration": 45,
    "start_time": "2022-07-27T14:27:34.590Z"
   },
   {
    "duration": 16,
    "start_time": "2022-07-27T14:27:34.638Z"
   },
   {
    "duration": 22,
    "start_time": "2022-07-27T14:27:34.656Z"
   },
   {
    "duration": 13,
    "start_time": "2022-07-27T14:27:34.680Z"
   },
   {
    "duration": 31,
    "start_time": "2022-07-27T14:27:34.695Z"
   },
   {
    "duration": 9,
    "start_time": "2022-07-27T14:27:34.728Z"
   },
   {
    "duration": 15,
    "start_time": "2022-07-27T14:27:34.738Z"
   },
   {
    "duration": 32,
    "start_time": "2022-07-27T14:27:34.755Z"
   },
   {
    "duration": 14,
    "start_time": "2022-07-27T14:27:34.788Z"
   },
   {
    "duration": 21,
    "start_time": "2022-07-27T14:27:34.804Z"
   },
   {
    "duration": 12,
    "start_time": "2022-07-27T14:27:34.830Z"
   },
   {
    "duration": 16,
    "start_time": "2022-07-27T14:27:34.844Z"
   },
   {
    "duration": 15,
    "start_time": "2022-07-27T14:27:34.861Z"
   },
   {
    "duration": 16,
    "start_time": "2022-07-27T14:27:34.878Z"
   },
   {
    "duration": 47,
    "start_time": "2022-07-27T14:27:34.895Z"
   },
   {
    "duration": 17,
    "start_time": "2022-07-27T14:27:34.945Z"
   },
   {
    "duration": 11,
    "start_time": "2022-07-27T14:27:34.964Z"
   },
   {
    "duration": 22,
    "start_time": "2022-07-27T14:27:34.976Z"
   },
   {
    "duration": 11,
    "start_time": "2022-07-27T14:27:35.000Z"
   },
   {
    "duration": 30,
    "start_time": "2022-07-27T14:27:35.024Z"
   },
   {
    "duration": 13,
    "start_time": "2022-07-27T14:27:35.056Z"
   },
   {
    "duration": 12,
    "start_time": "2022-07-27T14:27:35.070Z"
   },
   {
    "duration": 20,
    "start_time": "2022-07-27T14:27:35.084Z"
   },
   {
    "duration": 9,
    "start_time": "2022-07-27T14:27:35.105Z"
   },
   {
    "duration": 26,
    "start_time": "2022-07-27T14:27:35.124Z"
   },
   {
    "duration": 8,
    "start_time": "2022-07-27T14:27:35.152Z"
   },
   {
    "duration": 7,
    "start_time": "2022-07-27T14:27:35.162Z"
   },
   {
    "duration": 12,
    "start_time": "2022-07-27T14:27:35.170Z"
   },
   {
    "duration": 50,
    "start_time": "2022-07-27T14:27:35.184Z"
   },
   {
    "duration": 29,
    "start_time": "2022-07-27T14:27:35.236Z"
   },
   {
    "duration": 22,
    "start_time": "2022-07-27T14:27:48.687Z"
   },
   {
    "duration": 16,
    "start_time": "2022-07-27T14:27:56.567Z"
   },
   {
    "duration": 4,
    "start_time": "2022-07-27T14:30:55.542Z"
   },
   {
    "duration": 24,
    "start_time": "2022-07-27T14:30:56.114Z"
   },
   {
    "duration": 11,
    "start_time": "2022-07-27T14:30:57.378Z"
   },
   {
    "duration": 17,
    "start_time": "2022-07-27T14:31:08.731Z"
   },
   {
    "duration": 6,
    "start_time": "2022-07-27T14:33:17.444Z"
   },
   {
    "duration": 78,
    "start_time": "2022-07-27T14:33:17.923Z"
   },
   {
    "duration": 3,
    "start_time": "2022-07-27T14:34:19.153Z"
   },
   {
    "duration": 24,
    "start_time": "2022-07-27T14:34:19.842Z"
   },
   {
    "duration": 8,
    "start_time": "2022-07-27T14:34:21.009Z"
   },
   {
    "duration": 19,
    "start_time": "2022-07-27T14:34:31.457Z"
   },
   {
    "duration": 4,
    "start_time": "2022-07-27T14:37:22.502Z"
   },
   {
    "duration": 15,
    "start_time": "2022-07-27T14:37:23.087Z"
   },
   {
    "duration": 4,
    "start_time": "2022-07-27T14:38:33.878Z"
   },
   {
    "duration": 25,
    "start_time": "2022-07-27T14:38:35.758Z"
   },
   {
    "duration": 15,
    "start_time": "2022-07-27T14:38:39.214Z"
   },
   {
    "duration": 5,
    "start_time": "2022-07-27T14:42:50.154Z"
   },
   {
    "duration": 5,
    "start_time": "2022-07-27T14:42:58.707Z"
   },
   {
    "duration": 20,
    "start_time": "2022-07-27T14:43:19.099Z"
   },
   {
    "duration": 19,
    "start_time": "2022-07-27T14:43:23.114Z"
   },
   {
    "duration": 11,
    "start_time": "2022-07-27T14:43:23.810Z"
   },
   {
    "duration": 19,
    "start_time": "2022-07-27T14:43:26.882Z"
   },
   {
    "duration": 14,
    "start_time": "2022-07-27T14:43:27.362Z"
   },
   {
    "duration": 11,
    "start_time": "2022-07-27T14:43:30.793Z"
   },
   {
    "duration": 23,
    "start_time": "2022-07-27T14:44:04.804Z"
   },
   {
    "duration": 12,
    "start_time": "2022-07-27T14:44:05.634Z"
   },
   {
    "duration": 433,
    "start_time": "2022-07-27T14:45:05.017Z"
   },
   {
    "duration": 322,
    "start_time": "2022-07-27T14:45:05.452Z"
   },
   {
    "duration": 3,
    "start_time": "2022-07-27T14:45:05.776Z"
   },
   {
    "duration": 52,
    "start_time": "2022-07-27T14:45:05.781Z"
   },
   {
    "duration": 11,
    "start_time": "2022-07-27T14:45:05.835Z"
   },
   {
    "duration": 38,
    "start_time": "2022-07-27T14:45:05.848Z"
   },
   {
    "duration": 39,
    "start_time": "2022-07-27T14:45:05.888Z"
   },
   {
    "duration": 17,
    "start_time": "2022-07-27T14:45:05.928Z"
   },
   {
    "duration": 64,
    "start_time": "2022-07-27T14:45:05.947Z"
   },
   {
    "duration": 30,
    "start_time": "2022-07-27T14:45:06.013Z"
   },
   {
    "duration": 13,
    "start_time": "2022-07-27T14:45:06.045Z"
   },
   {
    "duration": 25,
    "start_time": "2022-07-27T14:45:06.060Z"
   },
   {
    "duration": 404,
    "start_time": "2022-07-27T14:45:06.087Z"
   },
   {
    "duration": 204,
    "start_time": "2022-07-27T14:45:06.496Z"
   },
   {
    "duration": 197,
    "start_time": "2022-07-27T14:45:06.702Z"
   },
   {
    "duration": 47,
    "start_time": "2022-07-27T14:45:06.901Z"
   },
   {
    "duration": 23,
    "start_time": "2022-07-27T14:45:06.950Z"
   },
   {
    "duration": 174,
    "start_time": "2022-07-27T14:45:06.974Z"
   },
   {
    "duration": 45,
    "start_time": "2022-07-27T14:45:07.150Z"
   },
   {
    "duration": 8,
    "start_time": "2022-07-27T14:45:07.197Z"
   },
   {
    "duration": 39,
    "start_time": "2022-07-27T14:45:07.207Z"
   },
   {
    "duration": 12,
    "start_time": "2022-07-27T14:45:07.249Z"
   },
   {
    "duration": 32,
    "start_time": "2022-07-27T14:45:07.263Z"
   },
   {
    "duration": 48,
    "start_time": "2022-07-27T14:45:07.297Z"
   },
   {
    "duration": 4,
    "start_time": "2022-07-27T14:45:07.347Z"
   },
   {
    "duration": 18,
    "start_time": "2022-07-27T14:45:07.353Z"
   },
   {
    "duration": 20,
    "start_time": "2022-07-27T14:45:07.374Z"
   },
   {
    "duration": 14,
    "start_time": "2022-07-27T14:45:07.396Z"
   },
   {
    "duration": 113,
    "start_time": "2022-07-27T14:45:07.412Z"
   },
   {
    "duration": 9,
    "start_time": "2022-07-27T14:45:07.527Z"
   },
   {
    "duration": 30,
    "start_time": "2022-07-27T14:45:07.539Z"
   },
   {
    "duration": 15,
    "start_time": "2022-07-27T14:45:07.571Z"
   },
   {
    "duration": 5,
    "start_time": "2022-07-27T14:45:07.588Z"
   },
   {
    "duration": 23,
    "start_time": "2022-07-27T14:45:07.624Z"
   },
   {
    "duration": 13,
    "start_time": "2022-07-27T14:45:07.649Z"
   },
   {
    "duration": 9,
    "start_time": "2022-07-27T14:45:07.664Z"
   },
   {
    "duration": 8,
    "start_time": "2022-07-27T14:45:07.675Z"
   },
   {
    "duration": 46,
    "start_time": "2022-07-27T14:45:07.684Z"
   },
   {
    "duration": 30,
    "start_time": "2022-07-27T14:45:07.733Z"
   },
   {
    "duration": 6,
    "start_time": "2022-07-27T14:45:07.765Z"
   },
   {
    "duration": 6,
    "start_time": "2022-07-27T14:45:07.775Z"
   },
   {
    "duration": 16,
    "start_time": "2022-07-27T14:45:07.782Z"
   },
   {
    "duration": 31,
    "start_time": "2022-07-27T14:45:07.800Z"
   },
   {
    "duration": 15,
    "start_time": "2022-07-27T14:45:07.833Z"
   },
   {
    "duration": 20,
    "start_time": "2022-07-27T14:45:07.850Z"
   },
   {
    "duration": 17,
    "start_time": "2022-07-27T14:45:07.871Z"
   },
   {
    "duration": 39,
    "start_time": "2022-07-27T14:45:07.890Z"
   },
   {
    "duration": 13,
    "start_time": "2022-07-27T14:45:07.931Z"
   },
   {
    "duration": 22,
    "start_time": "2022-07-27T14:45:07.946Z"
   },
   {
    "duration": 21,
    "start_time": "2022-07-27T14:45:07.969Z"
   },
   {
    "duration": 30,
    "start_time": "2022-07-27T14:45:07.992Z"
   },
   {
    "duration": 12,
    "start_time": "2022-07-27T14:45:08.024Z"
   },
   {
    "duration": 7,
    "start_time": "2022-07-27T14:45:08.038Z"
   },
   {
    "duration": 13,
    "start_time": "2022-07-27T14:45:08.046Z"
   },
   {
    "duration": 6,
    "start_time": "2022-07-27T14:45:08.061Z"
   },
   {
    "duration": 39,
    "start_time": "2022-07-27T14:45:08.069Z"
   },
   {
    "duration": 16,
    "start_time": "2022-07-27T14:45:08.110Z"
   },
   {
    "duration": 9,
    "start_time": "2022-07-27T14:45:08.127Z"
   },
   {
    "duration": 13,
    "start_time": "2022-07-27T14:45:08.138Z"
   },
   {
    "duration": 908,
    "start_time": "2022-07-27T14:45:08.153Z"
   },
   {
    "duration": 0,
    "start_time": "2022-07-27T14:45:09.063Z"
   },
   {
    "duration": 6,
    "start_time": "2022-07-27T14:46:01.164Z"
   },
   {
    "duration": 281,
    "start_time": "2022-07-27T14:46:26.682Z"
   },
   {
    "duration": 20,
    "start_time": "2022-07-27T14:46:35.746Z"
   },
   {
    "duration": 16,
    "start_time": "2022-07-27T14:47:00.315Z"
   },
   {
    "duration": 435,
    "start_time": "2022-07-27T14:47:24.908Z"
   },
   {
    "duration": 315,
    "start_time": "2022-07-27T14:47:25.344Z"
   },
   {
    "duration": 2,
    "start_time": "2022-07-27T14:47:25.661Z"
   },
   {
    "duration": 61,
    "start_time": "2022-07-27T14:47:25.665Z"
   },
   {
    "duration": 11,
    "start_time": "2022-07-27T14:47:25.727Z"
   },
   {
    "duration": 23,
    "start_time": "2022-07-27T14:47:25.739Z"
   },
   {
    "duration": 35,
    "start_time": "2022-07-27T14:47:25.764Z"
   },
   {
    "duration": 35,
    "start_time": "2022-07-27T14:47:25.800Z"
   },
   {
    "duration": 52,
    "start_time": "2022-07-27T14:47:25.837Z"
   },
   {
    "duration": 32,
    "start_time": "2022-07-27T14:47:25.892Z"
   },
   {
    "duration": 4,
    "start_time": "2022-07-27T14:47:25.926Z"
   },
   {
    "duration": 12,
    "start_time": "2022-07-27T14:47:25.931Z"
   },
   {
    "duration": 360,
    "start_time": "2022-07-27T14:47:25.945Z"
   },
   {
    "duration": 207,
    "start_time": "2022-07-27T14:47:26.306Z"
   },
   {
    "duration": 193,
    "start_time": "2022-07-27T14:47:26.515Z"
   },
   {
    "duration": 46,
    "start_time": "2022-07-27T14:47:26.710Z"
   },
   {
    "duration": 19,
    "start_time": "2022-07-27T14:47:26.758Z"
   },
   {
    "duration": 182,
    "start_time": "2022-07-27T14:47:26.778Z"
   },
   {
    "duration": 39,
    "start_time": "2022-07-27T14:47:26.962Z"
   },
   {
    "duration": 9,
    "start_time": "2022-07-27T14:47:27.002Z"
   },
   {
    "duration": 17,
    "start_time": "2022-07-27T14:47:27.024Z"
   },
   {
    "duration": 7,
    "start_time": "2022-07-27T14:47:27.043Z"
   },
   {
    "duration": 24,
    "start_time": "2022-07-27T14:47:27.052Z"
   },
   {
    "duration": 50,
    "start_time": "2022-07-27T14:47:27.078Z"
   },
   {
    "duration": 3,
    "start_time": "2022-07-27T14:47:27.130Z"
   },
   {
    "duration": 11,
    "start_time": "2022-07-27T14:47:27.134Z"
   },
   {
    "duration": 16,
    "start_time": "2022-07-27T14:47:27.146Z"
   },
   {
    "duration": 8,
    "start_time": "2022-07-27T14:47:27.166Z"
   },
   {
    "duration": 126,
    "start_time": "2022-07-27T14:47:27.176Z"
   },
   {
    "duration": 8,
    "start_time": "2022-07-27T14:47:27.304Z"
   },
   {
    "duration": 53,
    "start_time": "2022-07-27T14:47:27.314Z"
   },
   {
    "duration": 20,
    "start_time": "2022-07-27T14:47:27.369Z"
   },
   {
    "duration": 7,
    "start_time": "2022-07-27T14:47:27.391Z"
   },
   {
    "duration": 31,
    "start_time": "2022-07-27T14:47:27.401Z"
   },
   {
    "duration": 15,
    "start_time": "2022-07-27T14:47:27.434Z"
   },
   {
    "duration": 20,
    "start_time": "2022-07-27T14:47:27.451Z"
   },
   {
    "duration": 19,
    "start_time": "2022-07-27T14:47:27.473Z"
   },
   {
    "duration": 15,
    "start_time": "2022-07-27T14:47:27.495Z"
   },
   {
    "duration": 49,
    "start_time": "2022-07-27T14:47:27.512Z"
   },
   {
    "duration": 8,
    "start_time": "2022-07-27T14:47:27.563Z"
   },
   {
    "duration": 14,
    "start_time": "2022-07-27T14:47:27.572Z"
   },
   {
    "duration": 14,
    "start_time": "2022-07-27T14:47:27.588Z"
   },
   {
    "duration": 8,
    "start_time": "2022-07-27T14:47:27.623Z"
   },
   {
    "duration": 15,
    "start_time": "2022-07-27T14:47:27.633Z"
   },
   {
    "duration": 22,
    "start_time": "2022-07-27T14:47:27.650Z"
   },
   {
    "duration": 16,
    "start_time": "2022-07-27T14:47:27.674Z"
   },
   {
    "duration": 35,
    "start_time": "2022-07-27T14:47:27.692Z"
   },
   {
    "duration": 8,
    "start_time": "2022-07-27T14:47:27.729Z"
   },
   {
    "duration": 17,
    "start_time": "2022-07-27T14:47:27.739Z"
   },
   {
    "duration": 13,
    "start_time": "2022-07-27T14:47:27.758Z"
   },
   {
    "duration": 28,
    "start_time": "2022-07-27T14:47:27.773Z"
   },
   {
    "duration": 23,
    "start_time": "2022-07-27T14:47:27.802Z"
   },
   {
    "duration": 8,
    "start_time": "2022-07-27T14:47:27.826Z"
   },
   {
    "duration": 19,
    "start_time": "2022-07-27T14:47:27.835Z"
   },
   {
    "duration": 7,
    "start_time": "2022-07-27T14:47:27.856Z"
   },
   {
    "duration": 30,
    "start_time": "2022-07-27T14:47:27.865Z"
   },
   {
    "duration": 7,
    "start_time": "2022-07-27T14:47:27.896Z"
   },
   {
    "duration": 3,
    "start_time": "2022-07-27T14:47:27.905Z"
   },
   {
    "duration": 7,
    "start_time": "2022-07-27T14:47:27.909Z"
   },
   {
    "duration": 1005,
    "start_time": "2022-07-27T14:47:27.924Z"
   },
   {
    "duration": 0,
    "start_time": "2022-07-27T14:47:28.930Z"
   },
   {
    "duration": 3,
    "start_time": "2022-07-27T14:48:18.968Z"
   },
   {
    "duration": 25,
    "start_time": "2022-07-27T14:48:19.846Z"
   },
   {
    "duration": 17,
    "start_time": "2022-07-27T14:48:23.790Z"
   },
   {
    "duration": 12,
    "start_time": "2022-07-27T14:50:11.133Z"
   },
   {
    "duration": 10,
    "start_time": "2022-07-27T14:50:21.749Z"
   },
   {
    "duration": 19,
    "start_time": "2022-07-27T14:50:22.309Z"
   },
   {
    "duration": 9,
    "start_time": "2022-07-27T14:50:30.820Z"
   },
   {
    "duration": 18,
    "start_time": "2022-07-27T14:50:31.615Z"
   },
   {
    "duration": 4,
    "start_time": "2022-07-27T14:50:35.459Z"
   },
   {
    "duration": 16,
    "start_time": "2022-07-27T14:50:35.629Z"
   },
   {
    "duration": 11,
    "start_time": "2022-07-27T14:50:35.820Z"
   },
   {
    "duration": 797,
    "start_time": "2022-07-27T14:50:36.011Z"
   },
   {
    "duration": 10,
    "start_time": "2022-07-27T14:50:37.229Z"
   },
   {
    "duration": 3,
    "start_time": "2022-07-27T14:50:37.828Z"
   },
   {
    "duration": 13,
    "start_time": "2022-07-27T14:50:38.075Z"
   },
   {
    "duration": 757,
    "start_time": "2022-07-27T14:50:38.284Z"
   },
   {
    "duration": 0,
    "start_time": "2022-07-27T14:50:39.043Z"
   },
   {
    "duration": 3,
    "start_time": "2022-07-27T14:50:39.211Z"
   },
   {
    "duration": 14,
    "start_time": "2022-07-27T14:50:39.444Z"
   },
   {
    "duration": 14,
    "start_time": "2022-07-27T14:50:39.645Z"
   },
   {
    "duration": 389,
    "start_time": "2022-07-27T14:51:17.852Z"
   },
   {
    "duration": 313,
    "start_time": "2022-07-27T14:51:18.243Z"
   },
   {
    "duration": 3,
    "start_time": "2022-07-27T14:51:18.557Z"
   },
   {
    "duration": 50,
    "start_time": "2022-07-27T14:51:18.562Z"
   },
   {
    "duration": 9,
    "start_time": "2022-07-27T14:51:18.614Z"
   },
   {
    "duration": 26,
    "start_time": "2022-07-27T14:51:18.625Z"
   },
   {
    "duration": 34,
    "start_time": "2022-07-27T14:51:18.653Z"
   },
   {
    "duration": 16,
    "start_time": "2022-07-27T14:51:18.688Z"
   },
   {
    "duration": 64,
    "start_time": "2022-07-27T14:51:18.705Z"
   },
   {
    "duration": 21,
    "start_time": "2022-07-27T14:51:18.771Z"
   },
   {
    "duration": 10,
    "start_time": "2022-07-27T14:51:18.794Z"
   },
   {
    "duration": 22,
    "start_time": "2022-07-27T14:51:18.806Z"
   },
   {
    "duration": 356,
    "start_time": "2022-07-27T14:51:18.830Z"
   },
   {
    "duration": 190,
    "start_time": "2022-07-27T14:51:19.188Z"
   },
   {
    "duration": 179,
    "start_time": "2022-07-27T14:51:19.379Z"
   },
   {
    "duration": 31,
    "start_time": "2022-07-27T14:51:19.560Z"
   },
   {
    "duration": 35,
    "start_time": "2022-07-27T14:51:19.592Z"
   },
   {
    "duration": 149,
    "start_time": "2022-07-27T14:51:19.628Z"
   },
   {
    "duration": 46,
    "start_time": "2022-07-27T14:51:19.778Z"
   },
   {
    "duration": 8,
    "start_time": "2022-07-27T14:51:19.825Z"
   },
   {
    "duration": 18,
    "start_time": "2022-07-27T14:51:19.835Z"
   },
   {
    "duration": 27,
    "start_time": "2022-07-27T14:51:19.855Z"
   },
   {
    "duration": 21,
    "start_time": "2022-07-27T14:51:19.884Z"
   },
   {
    "duration": 25,
    "start_time": "2022-07-27T14:51:19.907Z"
   },
   {
    "duration": 2,
    "start_time": "2022-07-27T14:51:19.934Z"
   },
   {
    "duration": 14,
    "start_time": "2022-07-27T14:51:19.938Z"
   },
   {
    "duration": 15,
    "start_time": "2022-07-27T14:51:19.954Z"
   },
   {
    "duration": 8,
    "start_time": "2022-07-27T14:51:19.972Z"
   },
   {
    "duration": 83,
    "start_time": "2022-07-27T14:51:19.981Z"
   },
   {
    "duration": 7,
    "start_time": "2022-07-27T14:51:20.066Z"
   },
   {
    "duration": 31,
    "start_time": "2022-07-27T14:51:20.074Z"
   },
   {
    "duration": 25,
    "start_time": "2022-07-27T14:51:20.107Z"
   },
   {
    "duration": 6,
    "start_time": "2022-07-27T14:51:20.134Z"
   },
   {
    "duration": 22,
    "start_time": "2022-07-27T14:51:20.142Z"
   },
   {
    "duration": 10,
    "start_time": "2022-07-27T14:51:20.166Z"
   },
   {
    "duration": 13,
    "start_time": "2022-07-27T14:51:20.177Z"
   },
   {
    "duration": 10,
    "start_time": "2022-07-27T14:51:20.192Z"
   },
   {
    "duration": 31,
    "start_time": "2022-07-27T14:51:20.204Z"
   },
   {
    "duration": 32,
    "start_time": "2022-07-27T14:51:20.236Z"
   },
   {
    "duration": 6,
    "start_time": "2022-07-27T14:51:20.270Z"
   },
   {
    "duration": 8,
    "start_time": "2022-07-27T14:51:20.277Z"
   },
   {
    "duration": 16,
    "start_time": "2022-07-27T14:51:20.286Z"
   },
   {
    "duration": 29,
    "start_time": "2022-07-27T14:51:20.303Z"
   },
   {
    "duration": 19,
    "start_time": "2022-07-27T14:51:20.333Z"
   },
   {
    "duration": 23,
    "start_time": "2022-07-27T14:51:20.354Z"
   },
   {
    "duration": 17,
    "start_time": "2022-07-27T14:51:20.379Z"
   },
   {
    "duration": 29,
    "start_time": "2022-07-27T14:51:20.398Z"
   },
   {
    "duration": 28,
    "start_time": "2022-07-27T14:51:20.429Z"
   },
   {
    "duration": 21,
    "start_time": "2022-07-27T14:51:20.459Z"
   },
   {
    "duration": 7,
    "start_time": "2022-07-27T14:51:20.482Z"
   },
   {
    "duration": 76,
    "start_time": "2022-07-27T14:51:20.491Z"
   },
   {
    "duration": 0,
    "start_time": "2022-07-27T14:51:20.569Z"
   },
   {
    "duration": 0,
    "start_time": "2022-07-27T14:51:20.570Z"
   },
   {
    "duration": 0,
    "start_time": "2022-07-27T14:51:20.572Z"
   },
   {
    "duration": 0,
    "start_time": "2022-07-27T14:51:20.574Z"
   },
   {
    "duration": 0,
    "start_time": "2022-07-27T14:51:20.575Z"
   },
   {
    "duration": 0,
    "start_time": "2022-07-27T14:51:20.576Z"
   },
   {
    "duration": 0,
    "start_time": "2022-07-27T14:51:20.578Z"
   },
   {
    "duration": 0,
    "start_time": "2022-07-27T14:51:20.579Z"
   },
   {
    "duration": 0,
    "start_time": "2022-07-27T14:51:20.581Z"
   },
   {
    "duration": 12,
    "start_time": "2022-07-27T14:52:18.849Z"
   },
   {
    "duration": 15,
    "start_time": "2022-07-27T14:52:19.522Z"
   },
   {
    "duration": 15,
    "start_time": "2022-07-27T14:52:20.509Z"
   },
   {
    "duration": 12,
    "start_time": "2022-07-27T14:52:23.521Z"
   },
   {
    "duration": 13,
    "start_time": "2022-07-27T14:52:48.945Z"
   },
   {
    "duration": 22,
    "start_time": "2022-07-27T14:52:53.607Z"
   },
   {
    "duration": 8,
    "start_time": "2022-07-27T14:52:54.281Z"
   },
   {
    "duration": 16,
    "start_time": "2022-07-27T14:52:55.249Z"
   },
   {
    "duration": 4,
    "start_time": "2022-07-27T14:52:57.281Z"
   },
   {
    "duration": 14,
    "start_time": "2022-07-27T14:52:58.353Z"
   },
   {
    "duration": 15,
    "start_time": "2022-07-27T14:53:30.746Z"
   },
   {
    "duration": 412,
    "start_time": "2022-07-27T14:54:38.344Z"
   },
   {
    "duration": 315,
    "start_time": "2022-07-27T14:54:38.757Z"
   },
   {
    "duration": 3,
    "start_time": "2022-07-27T14:54:39.073Z"
   },
   {
    "duration": 58,
    "start_time": "2022-07-27T14:54:39.078Z"
   },
   {
    "duration": 11,
    "start_time": "2022-07-27T14:54:39.137Z"
   },
   {
    "duration": 42,
    "start_time": "2022-07-27T14:54:39.149Z"
   },
   {
    "duration": 34,
    "start_time": "2022-07-27T14:54:39.193Z"
   },
   {
    "duration": 16,
    "start_time": "2022-07-27T14:54:39.228Z"
   },
   {
    "duration": 51,
    "start_time": "2022-07-27T14:54:39.246Z"
   },
   {
    "duration": 21,
    "start_time": "2022-07-27T14:54:39.323Z"
   },
   {
    "duration": 18,
    "start_time": "2022-07-27T14:54:39.346Z"
   },
   {
    "duration": 23,
    "start_time": "2022-07-27T14:54:39.366Z"
   },
   {
    "duration": 363,
    "start_time": "2022-07-27T14:54:39.390Z"
   },
   {
    "duration": 196,
    "start_time": "2022-07-27T14:54:39.755Z"
   },
   {
    "duration": 204,
    "start_time": "2022-07-27T14:54:39.953Z"
   },
   {
    "duration": 31,
    "start_time": "2022-07-27T14:54:40.158Z"
   },
   {
    "duration": 34,
    "start_time": "2022-07-27T14:54:40.190Z"
   },
   {
    "duration": 160,
    "start_time": "2022-07-27T14:54:40.226Z"
   },
   {
    "duration": 46,
    "start_time": "2022-07-27T14:54:40.387Z"
   },
   {
    "duration": 10,
    "start_time": "2022-07-27T14:54:40.435Z"
   },
   {
    "duration": 21,
    "start_time": "2022-07-27T14:54:40.446Z"
   },
   {
    "duration": 8,
    "start_time": "2022-07-27T14:54:40.469Z"
   },
   {
    "duration": 30,
    "start_time": "2022-07-27T14:54:40.479Z"
   },
   {
    "duration": 32,
    "start_time": "2022-07-27T14:54:40.511Z"
   },
   {
    "duration": 3,
    "start_time": "2022-07-27T14:54:40.545Z"
   },
   {
    "duration": 17,
    "start_time": "2022-07-27T14:54:40.550Z"
   },
   {
    "duration": 12,
    "start_time": "2022-07-27T14:54:40.569Z"
   },
   {
    "duration": 4,
    "start_time": "2022-07-27T14:54:40.585Z"
   },
   {
    "duration": 94,
    "start_time": "2022-07-27T14:54:40.591Z"
   },
   {
    "duration": 7,
    "start_time": "2022-07-27T14:54:40.687Z"
   },
   {
    "duration": 38,
    "start_time": "2022-07-27T14:54:40.696Z"
   },
   {
    "duration": 15,
    "start_time": "2022-07-27T14:54:40.736Z"
   },
   {
    "duration": 8,
    "start_time": "2022-07-27T14:54:40.753Z"
   },
   {
    "duration": 23,
    "start_time": "2022-07-27T14:54:40.763Z"
   },
   {
    "duration": 11,
    "start_time": "2022-07-27T14:54:40.788Z"
   },
   {
    "duration": 32,
    "start_time": "2022-07-27T14:54:40.800Z"
   },
   {
    "duration": 24,
    "start_time": "2022-07-27T14:54:40.834Z"
   },
   {
    "duration": 28,
    "start_time": "2022-07-27T14:54:40.861Z"
   },
   {
    "duration": 31,
    "start_time": "2022-07-27T14:54:40.891Z"
   },
   {
    "duration": 13,
    "start_time": "2022-07-27T14:54:40.923Z"
   },
   {
    "duration": 9,
    "start_time": "2022-07-27T14:54:40.938Z"
   },
   {
    "duration": 19,
    "start_time": "2022-07-27T14:54:40.949Z"
   },
   {
    "duration": 15,
    "start_time": "2022-07-27T14:54:40.970Z"
   },
   {
    "duration": 15,
    "start_time": "2022-07-27T14:54:40.986Z"
   },
   {
    "duration": 31,
    "start_time": "2022-07-27T14:54:41.002Z"
   },
   {
    "duration": 18,
    "start_time": "2022-07-27T14:54:41.034Z"
   },
   {
    "duration": 12,
    "start_time": "2022-07-27T14:54:41.054Z"
   },
   {
    "duration": 13,
    "start_time": "2022-07-27T14:54:41.068Z"
   },
   {
    "duration": 43,
    "start_time": "2022-07-27T14:54:41.082Z"
   },
   {
    "duration": 8,
    "start_time": "2022-07-27T14:54:41.127Z"
   },
   {
    "duration": 26,
    "start_time": "2022-07-27T14:54:41.137Z"
   },
   {
    "duration": 86,
    "start_time": "2022-07-27T14:54:41.165Z"
   },
   {
    "duration": 0,
    "start_time": "2022-07-27T14:54:41.253Z"
   },
   {
    "duration": 0,
    "start_time": "2022-07-27T14:54:41.254Z"
   },
   {
    "duration": 0,
    "start_time": "2022-07-27T14:54:41.255Z"
   },
   {
    "duration": 0,
    "start_time": "2022-07-27T14:54:41.256Z"
   },
   {
    "duration": 0,
    "start_time": "2022-07-27T14:54:41.257Z"
   },
   {
    "duration": 0,
    "start_time": "2022-07-27T14:54:41.258Z"
   },
   {
    "duration": 0,
    "start_time": "2022-07-27T14:54:41.259Z"
   },
   {
    "duration": 0,
    "start_time": "2022-07-27T14:54:41.260Z"
   },
   {
    "duration": 0,
    "start_time": "2022-07-27T14:54:41.261Z"
   },
   {
    "duration": 8,
    "start_time": "2022-07-27T14:57:24.793Z"
   },
   {
    "duration": 18,
    "start_time": "2022-07-27T14:57:26.336Z"
   },
   {
    "duration": 4,
    "start_time": "2022-07-27T14:57:43.011Z"
   },
   {
    "duration": 19,
    "start_time": "2022-07-27T14:57:44.016Z"
   },
   {
    "duration": 28,
    "start_time": "2022-07-27T14:57:45.065Z"
   },
   {
    "duration": 12,
    "start_time": "2022-07-27T14:57:46.097Z"
   },
   {
    "duration": 4,
    "start_time": "2022-07-27T14:58:01.119Z"
   },
   {
    "duration": 17,
    "start_time": "2022-07-27T14:58:01.857Z"
   },
   {
    "duration": 5,
    "start_time": "2022-07-27T14:58:02.312Z"
   },
   {
    "duration": 37,
    "start_time": "2022-07-27T14:58:02.495Z"
   },
   {
    "duration": 4,
    "start_time": "2022-07-27T14:58:02.655Z"
   },
   {
    "duration": 3,
    "start_time": "2022-07-27T14:58:03.210Z"
   },
   {
    "duration": 32,
    "start_time": "2022-07-27T14:58:03.235Z"
   },
   {
    "duration": 17,
    "start_time": "2022-07-27T14:58:03.270Z"
   },
   {
    "duration": 26,
    "start_time": "2022-07-27T14:58:56.927Z"
   },
   {
    "duration": 18,
    "start_time": "2022-07-27T14:58:57.495Z"
   },
   {
    "duration": 16,
    "start_time": "2022-07-27T15:40:29.172Z"
   },
   {
    "duration": 28,
    "start_time": "2022-07-27T15:40:38.172Z"
   },
   {
    "duration": 414,
    "start_time": "2022-07-27T15:41:10.229Z"
   },
   {
    "duration": 309,
    "start_time": "2022-07-27T15:41:10.645Z"
   },
   {
    "duration": 3,
    "start_time": "2022-07-27T15:41:10.955Z"
   },
   {
    "duration": 46,
    "start_time": "2022-07-27T15:41:10.960Z"
   },
   {
    "duration": 12,
    "start_time": "2022-07-27T15:41:11.008Z"
   },
   {
    "duration": 22,
    "start_time": "2022-07-27T15:41:11.022Z"
   },
   {
    "duration": 37,
    "start_time": "2022-07-27T15:41:11.045Z"
   },
   {
    "duration": 16,
    "start_time": "2022-07-27T15:41:11.084Z"
   },
   {
    "duration": 78,
    "start_time": "2022-07-27T15:41:11.102Z"
   },
   {
    "duration": 21,
    "start_time": "2022-07-27T15:41:11.182Z"
   },
   {
    "duration": 19,
    "start_time": "2022-07-27T15:41:11.205Z"
   },
   {
    "duration": 12,
    "start_time": "2022-07-27T15:41:11.226Z"
   },
   {
    "duration": 394,
    "start_time": "2022-07-27T15:41:11.240Z"
   },
   {
    "duration": 204,
    "start_time": "2022-07-27T15:41:11.638Z"
   },
   {
    "duration": 192,
    "start_time": "2022-07-27T15:41:11.845Z"
   },
   {
    "duration": 35,
    "start_time": "2022-07-27T15:41:12.039Z"
   },
   {
    "duration": 23,
    "start_time": "2022-07-27T15:41:12.076Z"
   },
   {
    "duration": 183,
    "start_time": "2022-07-27T15:41:12.101Z"
   },
   {
    "duration": 62,
    "start_time": "2022-07-27T15:41:12.286Z"
   },
   {
    "duration": 9,
    "start_time": "2022-07-27T15:41:12.350Z"
   },
   {
    "duration": 19,
    "start_time": "2022-07-27T15:41:12.360Z"
   },
   {
    "duration": 7,
    "start_time": "2022-07-27T15:41:12.381Z"
   },
   {
    "duration": 40,
    "start_time": "2022-07-27T15:41:12.390Z"
   },
   {
    "duration": 21,
    "start_time": "2022-07-27T15:41:12.432Z"
   },
   {
    "duration": 3,
    "start_time": "2022-07-27T15:41:12.455Z"
   },
   {
    "duration": 10,
    "start_time": "2022-07-27T15:41:12.460Z"
   },
   {
    "duration": 12,
    "start_time": "2022-07-27T15:41:12.472Z"
   },
   {
    "duration": 8,
    "start_time": "2022-07-27T15:41:12.486Z"
   },
   {
    "duration": 54,
    "start_time": "2022-07-27T15:41:12.496Z"
   },
   {
    "duration": 8,
    "start_time": "2022-07-27T15:41:12.552Z"
   },
   {
    "duration": 31,
    "start_time": "2022-07-27T15:41:12.562Z"
   },
   {
    "duration": 30,
    "start_time": "2022-07-27T15:41:12.595Z"
   },
   {
    "duration": 4,
    "start_time": "2022-07-27T15:41:12.626Z"
   },
   {
    "duration": 26,
    "start_time": "2022-07-27T15:41:12.632Z"
   },
   {
    "duration": 11,
    "start_time": "2022-07-27T15:41:12.660Z"
   },
   {
    "duration": 11,
    "start_time": "2022-07-27T15:41:12.672Z"
   },
   {
    "duration": 7,
    "start_time": "2022-07-27T15:41:12.685Z"
   },
   {
    "duration": 36,
    "start_time": "2022-07-27T15:41:12.694Z"
   },
   {
    "duration": 34,
    "start_time": "2022-07-27T15:41:12.731Z"
   },
   {
    "duration": 6,
    "start_time": "2022-07-27T15:41:12.767Z"
   },
   {
    "duration": 22,
    "start_time": "2022-07-27T15:41:12.777Z"
   },
   {
    "duration": 14,
    "start_time": "2022-07-27T15:41:12.801Z"
   },
   {
    "duration": 10,
    "start_time": "2022-07-27T15:41:12.824Z"
   },
   {
    "duration": 19,
    "start_time": "2022-07-27T15:41:12.835Z"
   },
   {
    "duration": 17,
    "start_time": "2022-07-27T15:41:12.856Z"
   },
   {
    "duration": 13,
    "start_time": "2022-07-27T15:41:12.875Z"
   },
   {
    "duration": 39,
    "start_time": "2022-07-27T15:41:12.889Z"
   },
   {
    "duration": 18,
    "start_time": "2022-07-27T15:41:12.930Z"
   },
   {
    "duration": 5,
    "start_time": "2022-07-27T15:41:12.950Z"
   },
   {
    "duration": 28,
    "start_time": "2022-07-27T15:41:12.956Z"
   },
   {
    "duration": 30,
    "start_time": "2022-07-27T15:41:12.986Z"
   },
   {
    "duration": 12,
    "start_time": "2022-07-27T15:41:13.023Z"
   },
   {
    "duration": 20,
    "start_time": "2022-07-27T15:41:13.037Z"
   },
   {
    "duration": 17,
    "start_time": "2022-07-27T15:41:13.058Z"
   },
   {
    "duration": 6,
    "start_time": "2022-07-27T15:41:13.076Z"
   },
   {
    "duration": 28,
    "start_time": "2022-07-27T15:41:13.083Z"
   },
   {
    "duration": 4,
    "start_time": "2022-07-27T15:41:13.113Z"
   },
   {
    "duration": 24,
    "start_time": "2022-07-27T15:41:13.118Z"
   },
   {
    "duration": 32,
    "start_time": "2022-07-27T15:41:13.144Z"
   },
   {
    "duration": 16,
    "start_time": "2022-07-27T15:41:13.177Z"
   },
   {
    "duration": 436,
    "start_time": "2022-07-27T15:42:13.098Z"
   },
   {
    "duration": 300,
    "start_time": "2022-07-27T15:42:13.536Z"
   },
   {
    "duration": 3,
    "start_time": "2022-07-27T15:42:13.838Z"
   },
   {
    "duration": 50,
    "start_time": "2022-07-27T15:42:13.843Z"
   },
   {
    "duration": 10,
    "start_time": "2022-07-27T15:42:13.894Z"
   },
   {
    "duration": 20,
    "start_time": "2022-07-27T15:42:13.905Z"
   },
   {
    "duration": 34,
    "start_time": "2022-07-27T15:42:13.927Z"
   },
   {
    "duration": 17,
    "start_time": "2022-07-27T15:42:13.962Z"
   },
   {
    "duration": 74,
    "start_time": "2022-07-27T15:42:13.980Z"
   },
   {
    "duration": 21,
    "start_time": "2022-07-27T15:42:14.056Z"
   },
   {
    "duration": 9,
    "start_time": "2022-07-27T15:42:14.078Z"
   },
   {
    "duration": 15,
    "start_time": "2022-07-27T15:42:14.088Z"
   },
   {
    "duration": 376,
    "start_time": "2022-07-27T15:42:14.105Z"
   },
   {
    "duration": 218,
    "start_time": "2022-07-27T15:42:14.483Z"
   },
   {
    "duration": 184,
    "start_time": "2022-07-27T15:42:14.703Z"
   },
   {
    "duration": 41,
    "start_time": "2022-07-27T15:42:14.889Z"
   },
   {
    "duration": 21,
    "start_time": "2022-07-27T15:42:14.931Z"
   },
   {
    "duration": 164,
    "start_time": "2022-07-27T15:42:14.954Z"
   },
   {
    "duration": 39,
    "start_time": "2022-07-27T15:42:15.123Z"
   },
   {
    "duration": 8,
    "start_time": "2022-07-27T15:42:15.164Z"
   },
   {
    "duration": 29,
    "start_time": "2022-07-27T15:42:15.174Z"
   },
   {
    "duration": 9,
    "start_time": "2022-07-27T15:42:15.205Z"
   },
   {
    "duration": 26,
    "start_time": "2022-07-27T15:42:15.216Z"
   },
   {
    "duration": 20,
    "start_time": "2022-07-27T15:42:15.244Z"
   },
   {
    "duration": 4,
    "start_time": "2022-07-27T15:42:15.265Z"
   },
   {
    "duration": 16,
    "start_time": "2022-07-27T15:42:15.270Z"
   },
   {
    "duration": 15,
    "start_time": "2022-07-27T15:42:15.288Z"
   },
   {
    "duration": 20,
    "start_time": "2022-07-27T15:42:15.307Z"
   },
   {
    "duration": 29,
    "start_time": "2022-07-27T15:42:15.328Z"
   },
   {
    "duration": 7,
    "start_time": "2022-07-27T15:42:15.359Z"
   },
   {
    "duration": 31,
    "start_time": "2022-07-27T15:42:15.368Z"
   },
   {
    "duration": 30,
    "start_time": "2022-07-27T15:42:15.401Z"
   },
   {
    "duration": 6,
    "start_time": "2022-07-27T15:42:15.432Z"
   },
   {
    "duration": 23,
    "start_time": "2022-07-27T15:42:15.439Z"
   },
   {
    "duration": 11,
    "start_time": "2022-07-27T15:42:15.464Z"
   },
   {
    "duration": 10,
    "start_time": "2022-07-27T15:42:15.476Z"
   },
   {
    "duration": 13,
    "start_time": "2022-07-27T15:42:15.487Z"
   },
   {
    "duration": 31,
    "start_time": "2022-07-27T15:42:15.501Z"
   },
   {
    "duration": 29,
    "start_time": "2022-07-27T15:42:15.534Z"
   },
   {
    "duration": 6,
    "start_time": "2022-07-27T15:42:15.564Z"
   },
   {
    "duration": 12,
    "start_time": "2022-07-27T15:42:15.571Z"
   },
   {
    "duration": 13,
    "start_time": "2022-07-27T15:42:15.585Z"
   },
   {
    "duration": 31,
    "start_time": "2022-07-27T15:42:15.600Z"
   },
   {
    "duration": 15,
    "start_time": "2022-07-27T15:42:15.633Z"
   },
   {
    "duration": 16,
    "start_time": "2022-07-27T15:42:15.649Z"
   },
   {
    "duration": 11,
    "start_time": "2022-07-27T15:42:15.666Z"
   },
   {
    "duration": 10,
    "start_time": "2022-07-27T15:42:15.679Z"
   },
   {
    "duration": 48,
    "start_time": "2022-07-27T15:42:15.690Z"
   },
   {
    "duration": 4,
    "start_time": "2022-07-27T15:42:15.740Z"
   },
   {
    "duration": 23,
    "start_time": "2022-07-27T15:42:15.746Z"
   },
   {
    "duration": 27,
    "start_time": "2022-07-27T15:42:15.771Z"
   },
   {
    "duration": 29,
    "start_time": "2022-07-27T15:42:15.799Z"
   },
   {
    "duration": 5,
    "start_time": "2022-07-27T15:42:15.830Z"
   },
   {
    "duration": 13,
    "start_time": "2022-07-27T15:42:15.836Z"
   },
   {
    "duration": 5,
    "start_time": "2022-07-27T15:42:15.850Z"
   },
   {
    "duration": 28,
    "start_time": "2022-07-27T15:42:15.857Z"
   },
   {
    "duration": 3,
    "start_time": "2022-07-27T15:42:15.887Z"
   },
   {
    "duration": 10,
    "start_time": "2022-07-27T15:42:15.891Z"
   },
   {
    "duration": 45,
    "start_time": "2022-07-27T15:42:15.902Z"
   },
   {
    "duration": 25,
    "start_time": "2022-07-27T15:42:15.949Z"
   },
   {
    "duration": 222,
    "start_time": "2022-07-27T15:42:40.238Z"
   },
   {
    "duration": 264,
    "start_time": "2022-07-27T15:42:41.641Z"
   },
   {
    "duration": 8,
    "start_time": "2022-07-27T15:42:43.039Z"
   },
   {
    "duration": 18,
    "start_time": "2022-07-27T15:42:48.339Z"
   },
   {
    "duration": 3,
    "start_time": "2022-07-27T15:42:48.686Z"
   },
   {
    "duration": 7,
    "start_time": "2022-07-27T15:42:50.598Z"
   },
   {
    "duration": 30,
    "start_time": "2022-07-27T15:43:57.236Z"
   },
   {
    "duration": 30,
    "start_time": "2022-07-27T15:44:32.428Z"
   },
   {
    "duration": 8,
    "start_time": "2022-07-27T15:44:32.983Z"
   },
   {
    "duration": 26,
    "start_time": "2022-07-27T15:44:33.036Z"
   },
   {
    "duration": 15,
    "start_time": "2022-07-27T15:44:33.064Z"
   },
   {
    "duration": 10,
    "start_time": "2022-07-27T15:44:33.080Z"
   },
   {
    "duration": 15,
    "start_time": "2022-07-27T15:44:33.128Z"
   },
   {
    "duration": 10,
    "start_time": "2022-07-27T15:44:33.157Z"
   },
   {
    "duration": 10,
    "start_time": "2022-07-27T15:44:33.253Z"
   },
   {
    "duration": 5,
    "start_time": "2022-07-27T15:44:33.283Z"
   },
   {
    "duration": 10,
    "start_time": "2022-07-27T15:44:33.323Z"
   },
   {
    "duration": 28,
    "start_time": "2022-07-27T15:44:33.348Z"
   },
   {
    "duration": 5,
    "start_time": "2022-07-27T15:44:33.381Z"
   },
   {
    "duration": 5,
    "start_time": "2022-07-27T15:44:33.432Z"
   },
   {
    "duration": 13,
    "start_time": "2022-07-27T15:44:33.488Z"
   },
   {
    "duration": 8,
    "start_time": "2022-07-27T15:44:33.540Z"
   },
   {
    "duration": 15,
    "start_time": "2022-07-27T15:44:33.559Z"
   },
   {
    "duration": 17,
    "start_time": "2022-07-27T15:44:33.632Z"
   },
   {
    "duration": 12,
    "start_time": "2022-07-27T15:44:33.670Z"
   },
   {
    "duration": 7,
    "start_time": "2022-07-27T15:44:33.736Z"
   },
   {
    "duration": 21,
    "start_time": "2022-07-27T15:44:33.744Z"
   },
   {
    "duration": 3,
    "start_time": "2022-07-27T15:44:33.805Z"
   },
   {
    "duration": 18,
    "start_time": "2022-07-27T15:44:33.864Z"
   },
   {
    "duration": 37,
    "start_time": "2022-07-27T15:44:33.890Z"
   },
   {
    "duration": 16,
    "start_time": "2022-07-27T15:44:33.942Z"
   },
   {
    "duration": 9,
    "start_time": "2022-07-27T15:44:33.960Z"
   },
   {
    "duration": 10,
    "start_time": "2022-07-27T15:44:33.978Z"
   },
   {
    "duration": 5,
    "start_time": "2022-07-27T15:44:34.042Z"
   },
   {
    "duration": 27,
    "start_time": "2022-07-27T15:44:34.078Z"
   },
   {
    "duration": 4,
    "start_time": "2022-07-27T15:44:34.130Z"
   },
   {
    "duration": 4,
    "start_time": "2022-07-27T15:44:34.172Z"
   },
   {
    "duration": 25,
    "start_time": "2022-07-27T15:44:34.235Z"
   },
   {
    "duration": 16,
    "start_time": "2022-07-27T15:44:34.262Z"
   },
   {
    "duration": 11,
    "start_time": "2022-07-27T15:45:13.932Z"
   },
   {
    "duration": 9,
    "start_time": "2022-07-27T15:45:15.349Z"
   },
   {
    "duration": 16,
    "start_time": "2022-07-27T15:45:15.981Z"
   },
   {
    "duration": 3,
    "start_time": "2022-07-27T15:45:17.780Z"
   },
   {
    "duration": 15,
    "start_time": "2022-07-27T15:45:17.988Z"
   },
   {
    "duration": 25,
    "start_time": "2022-07-27T15:45:18.164Z"
   },
   {
    "duration": 13,
    "start_time": "2022-07-27T15:45:18.342Z"
   },
   {
    "duration": 3,
    "start_time": "2022-07-27T15:45:18.528Z"
   },
   {
    "duration": 9,
    "start_time": "2022-07-27T15:45:18.668Z"
   },
   {
    "duration": 3,
    "start_time": "2022-07-27T15:45:19.036Z"
   },
   {
    "duration": 23,
    "start_time": "2022-07-27T15:45:19.196Z"
   },
   {
    "duration": 4,
    "start_time": "2022-07-27T15:45:19.389Z"
   },
   {
    "duration": 4,
    "start_time": "2022-07-27T15:45:20.290Z"
   },
   {
    "duration": 28,
    "start_time": "2022-07-27T15:45:20.336Z"
   },
   {
    "duration": 22,
    "start_time": "2022-07-27T15:45:20.369Z"
   },
   {
    "duration": 12,
    "start_time": "2022-07-27T15:45:49.040Z"
   },
   {
    "duration": 7,
    "start_time": "2022-07-27T15:45:50.142Z"
   },
   {
    "duration": 17,
    "start_time": "2022-07-27T15:45:50.639Z"
   },
   {
    "duration": 4,
    "start_time": "2022-07-27T15:45:50.740Z"
   },
   {
    "duration": 18,
    "start_time": "2022-07-27T15:45:50.767Z"
   },
   {
    "duration": 24,
    "start_time": "2022-07-27T15:45:50.826Z"
   },
   {
    "duration": 11,
    "start_time": "2022-07-27T15:45:50.852Z"
   },
   {
    "duration": 3,
    "start_time": "2022-07-27T15:45:50.874Z"
   },
   {
    "duration": 10,
    "start_time": "2022-07-27T15:45:50.936Z"
   },
   {
    "duration": 3,
    "start_time": "2022-07-27T15:45:50.971Z"
   },
   {
    "duration": 25,
    "start_time": "2022-07-27T15:45:51.036Z"
   },
   {
    "duration": 4,
    "start_time": "2022-07-27T15:45:51.063Z"
   },
   {
    "duration": 4,
    "start_time": "2022-07-27T15:45:51.134Z"
   },
   {
    "duration": 24,
    "start_time": "2022-07-27T15:45:51.147Z"
   },
   {
    "duration": 16,
    "start_time": "2022-07-27T15:45:51.184Z"
   },
   {
    "duration": 8,
    "start_time": "2022-07-27T15:47:34.936Z"
   },
   {
    "duration": 17,
    "start_time": "2022-07-27T15:47:36.172Z"
   },
   {
    "duration": 3,
    "start_time": "2022-07-27T15:47:43.394Z"
   },
   {
    "duration": 23,
    "start_time": "2022-07-27T15:47:43.955Z"
   },
   {
    "duration": 18,
    "start_time": "2022-07-27T15:47:44.140Z"
   },
   {
    "duration": 11,
    "start_time": "2022-07-27T15:47:44.274Z"
   },
   {
    "duration": 845,
    "start_time": "2022-07-27T15:47:44.848Z"
   },
   {
    "duration": 0,
    "start_time": "2022-07-27T15:47:45.696Z"
   },
   {
    "duration": 0,
    "start_time": "2022-07-27T15:47:45.697Z"
   },
   {
    "duration": 0,
    "start_time": "2022-07-27T15:47:45.698Z"
   },
   {
    "duration": 0,
    "start_time": "2022-07-27T15:47:45.700Z"
   },
   {
    "duration": 4,
    "start_time": "2022-07-27T15:47:45.882Z"
   },
   {
    "duration": 19,
    "start_time": "2022-07-27T15:47:46.032Z"
   },
   {
    "duration": 14,
    "start_time": "2022-07-27T15:47:46.153Z"
   },
   {
    "duration": 13,
    "start_time": "2022-07-27T15:47:48.794Z"
   },
   {
    "duration": 13,
    "start_time": "2022-07-27T15:49:10.827Z"
   },
   {
    "duration": 13,
    "start_time": "2022-07-27T15:49:12.189Z"
   },
   {
    "duration": 17,
    "start_time": "2022-07-27T15:49:12.527Z"
   },
   {
    "duration": 412,
    "start_time": "2022-07-27T15:49:18.690Z"
   },
   {
    "duration": 312,
    "start_time": "2022-07-27T15:49:19.104Z"
   },
   {
    "duration": 3,
    "start_time": "2022-07-27T15:49:19.418Z"
   },
   {
    "duration": 56,
    "start_time": "2022-07-27T15:49:19.422Z"
   },
   {
    "duration": 10,
    "start_time": "2022-07-27T15:49:19.479Z"
   },
   {
    "duration": 22,
    "start_time": "2022-07-27T15:49:19.491Z"
   },
   {
    "duration": 48,
    "start_time": "2022-07-27T15:49:19.515Z"
   },
   {
    "duration": 15,
    "start_time": "2022-07-27T15:49:19.564Z"
   },
   {
    "duration": 83,
    "start_time": "2022-07-27T15:49:19.581Z"
   },
   {
    "duration": 21,
    "start_time": "2022-07-27T15:49:19.667Z"
   },
   {
    "duration": 5,
    "start_time": "2022-07-27T15:49:19.690Z"
   },
   {
    "duration": 28,
    "start_time": "2022-07-27T15:49:19.697Z"
   },
   {
    "duration": 375,
    "start_time": "2022-07-27T15:49:19.728Z"
   },
   {
    "duration": 242,
    "start_time": "2022-07-27T15:49:20.105Z"
   },
   {
    "duration": 201,
    "start_time": "2022-07-27T15:49:20.349Z"
   },
   {
    "duration": 31,
    "start_time": "2022-07-27T15:49:20.552Z"
   },
   {
    "duration": 18,
    "start_time": "2022-07-27T15:49:20.585Z"
   },
   {
    "duration": 162,
    "start_time": "2022-07-27T15:49:20.605Z"
   },
   {
    "duration": 37,
    "start_time": "2022-07-27T15:49:20.768Z"
   },
   {
    "duration": 21,
    "start_time": "2022-07-27T15:49:20.807Z"
   },
   {
    "duration": 34,
    "start_time": "2022-07-27T15:49:20.829Z"
   },
   {
    "duration": 7,
    "start_time": "2022-07-27T15:49:20.865Z"
   },
   {
    "duration": 24,
    "start_time": "2022-07-27T15:49:20.874Z"
   },
   {
    "duration": 26,
    "start_time": "2022-07-27T15:49:20.900Z"
   },
   {
    "duration": 3,
    "start_time": "2022-07-27T15:49:20.928Z"
   },
   {
    "duration": 15,
    "start_time": "2022-07-27T15:49:20.933Z"
   },
   {
    "duration": 14,
    "start_time": "2022-07-27T15:49:20.950Z"
   },
   {
    "duration": 4,
    "start_time": "2022-07-27T15:49:20.967Z"
   },
   {
    "duration": 31,
    "start_time": "2022-07-27T15:49:20.972Z"
   },
   {
    "duration": 10,
    "start_time": "2022-07-27T15:49:21.024Z"
   },
   {
    "duration": 39,
    "start_time": "2022-07-27T15:49:21.036Z"
   },
   {
    "duration": 14,
    "start_time": "2022-07-27T15:49:21.077Z"
   },
   {
    "duration": 5,
    "start_time": "2022-07-27T15:49:21.093Z"
   },
   {
    "duration": 37,
    "start_time": "2022-07-27T15:49:21.100Z"
   },
   {
    "duration": 12,
    "start_time": "2022-07-27T15:49:21.138Z"
   },
   {
    "duration": 13,
    "start_time": "2022-07-27T15:49:21.151Z"
   },
   {
    "duration": 9,
    "start_time": "2022-07-27T15:49:21.166Z"
   },
   {
    "duration": 12,
    "start_time": "2022-07-27T15:49:21.176Z"
   },
   {
    "duration": 45,
    "start_time": "2022-07-27T15:49:21.190Z"
   },
   {
    "duration": 8,
    "start_time": "2022-07-27T15:49:21.237Z"
   },
   {
    "duration": 13,
    "start_time": "2022-07-27T15:49:21.246Z"
   },
   {
    "duration": 13,
    "start_time": "2022-07-27T15:49:21.261Z"
   },
   {
    "duration": 10,
    "start_time": "2022-07-27T15:49:21.276Z"
   },
   {
    "duration": 14,
    "start_time": "2022-07-27T15:49:21.287Z"
   },
   {
    "duration": 25,
    "start_time": "2022-07-27T15:49:21.323Z"
   },
   {
    "duration": 11,
    "start_time": "2022-07-27T15:49:21.350Z"
   },
   {
    "duration": 100,
    "start_time": "2022-07-27T15:49:21.363Z"
   },
   {
    "duration": 0,
    "start_time": "2022-07-27T15:49:21.464Z"
   },
   {
    "duration": 0,
    "start_time": "2022-07-27T15:49:21.465Z"
   },
   {
    "duration": 0,
    "start_time": "2022-07-27T15:49:21.466Z"
   },
   {
    "duration": 0,
    "start_time": "2022-07-27T15:49:21.468Z"
   },
   {
    "duration": 0,
    "start_time": "2022-07-27T15:49:21.469Z"
   },
   {
    "duration": 0,
    "start_time": "2022-07-27T15:49:21.470Z"
   },
   {
    "duration": 0,
    "start_time": "2022-07-27T15:49:21.471Z"
   },
   {
    "duration": 0,
    "start_time": "2022-07-27T15:49:21.472Z"
   },
   {
    "duration": 0,
    "start_time": "2022-07-27T15:49:21.473Z"
   },
   {
    "duration": 0,
    "start_time": "2022-07-27T15:49:21.474Z"
   },
   {
    "duration": 0,
    "start_time": "2022-07-27T15:49:21.475Z"
   },
   {
    "duration": 0,
    "start_time": "2022-07-27T15:49:21.476Z"
   },
   {
    "duration": 0,
    "start_time": "2022-07-27T15:49:21.476Z"
   },
   {
    "duration": 23,
    "start_time": "2022-07-27T15:51:55.626Z"
   },
   {
    "duration": 423,
    "start_time": "2022-07-27T15:52:09.126Z"
   },
   {
    "duration": 314,
    "start_time": "2022-07-27T15:52:09.551Z"
   },
   {
    "duration": 3,
    "start_time": "2022-07-27T15:52:09.866Z"
   },
   {
    "duration": 47,
    "start_time": "2022-07-27T15:52:09.870Z"
   },
   {
    "duration": 11,
    "start_time": "2022-07-27T15:52:09.919Z"
   },
   {
    "duration": 22,
    "start_time": "2022-07-27T15:52:09.931Z"
   },
   {
    "duration": 35,
    "start_time": "2022-07-27T15:52:09.955Z"
   },
   {
    "duration": 38,
    "start_time": "2022-07-27T15:52:09.992Z"
   },
   {
    "duration": 56,
    "start_time": "2022-07-27T15:52:10.033Z"
   },
   {
    "duration": 37,
    "start_time": "2022-07-27T15:52:10.091Z"
   },
   {
    "duration": 5,
    "start_time": "2022-07-27T15:52:10.130Z"
   },
   {
    "duration": 17,
    "start_time": "2022-07-27T15:52:10.137Z"
   },
   {
    "duration": 404,
    "start_time": "2022-07-27T15:52:10.156Z"
   },
   {
    "duration": 207,
    "start_time": "2022-07-27T15:52:10.565Z"
   },
   {
    "duration": 187,
    "start_time": "2022-07-27T15:52:10.774Z"
   },
   {
    "duration": 34,
    "start_time": "2022-07-27T15:52:10.963Z"
   },
   {
    "duration": 34,
    "start_time": "2022-07-27T15:52:10.999Z"
   },
   {
    "duration": 173,
    "start_time": "2022-07-27T15:52:11.035Z"
   },
   {
    "duration": 46,
    "start_time": "2022-07-27T15:52:11.210Z"
   },
   {
    "duration": 8,
    "start_time": "2022-07-27T15:52:11.258Z"
   },
   {
    "duration": 16,
    "start_time": "2022-07-27T15:52:11.268Z"
   },
   {
    "duration": 8,
    "start_time": "2022-07-27T15:52:11.285Z"
   },
   {
    "duration": 49,
    "start_time": "2022-07-27T15:52:11.294Z"
   },
   {
    "duration": 21,
    "start_time": "2022-07-27T15:52:11.345Z"
   },
   {
    "duration": 2,
    "start_time": "2022-07-27T15:52:11.368Z"
   },
   {
    "duration": 12,
    "start_time": "2022-07-27T15:52:11.372Z"
   },
   {
    "duration": 15,
    "start_time": "2022-07-27T15:52:11.386Z"
   },
   {
    "duration": 21,
    "start_time": "2022-07-27T15:52:11.403Z"
   },
   {
    "duration": 25,
    "start_time": "2022-07-27T15:52:11.425Z"
   },
   {
    "duration": 9,
    "start_time": "2022-07-27T15:52:11.451Z"
   },
   {
    "duration": 39,
    "start_time": "2022-07-27T15:52:11.462Z"
   },
   {
    "duration": 33,
    "start_time": "2022-07-27T15:52:11.503Z"
   },
   {
    "duration": 4,
    "start_time": "2022-07-27T15:52:11.538Z"
   },
   {
    "duration": 23,
    "start_time": "2022-07-27T15:52:11.544Z"
   },
   {
    "duration": 11,
    "start_time": "2022-07-27T15:52:11.569Z"
   },
   {
    "duration": 9,
    "start_time": "2022-07-27T15:52:11.581Z"
   },
   {
    "duration": 35,
    "start_time": "2022-07-27T15:52:11.592Z"
   },
   {
    "duration": 10,
    "start_time": "2022-07-27T15:52:11.629Z"
   },
   {
    "duration": 31,
    "start_time": "2022-07-27T15:52:11.641Z"
   },
   {
    "duration": 11,
    "start_time": "2022-07-27T15:52:11.674Z"
   },
   {
    "duration": 8,
    "start_time": "2022-07-27T15:52:11.689Z"
   },
   {
    "duration": 13,
    "start_time": "2022-07-27T15:52:11.725Z"
   },
   {
    "duration": 10,
    "start_time": "2022-07-27T15:52:11.740Z"
   },
   {
    "duration": 17,
    "start_time": "2022-07-27T15:52:11.752Z"
   },
   {
    "duration": 17,
    "start_time": "2022-07-27T15:52:11.770Z"
   },
   {
    "duration": 44,
    "start_time": "2022-07-27T15:52:11.789Z"
   },
   {
    "duration": 91,
    "start_time": "2022-07-27T15:52:11.834Z"
   },
   {
    "duration": 0,
    "start_time": "2022-07-27T15:52:11.926Z"
   },
   {
    "duration": 0,
    "start_time": "2022-07-27T15:52:11.927Z"
   },
   {
    "duration": 0,
    "start_time": "2022-07-27T15:52:11.928Z"
   },
   {
    "duration": 0,
    "start_time": "2022-07-27T15:52:11.929Z"
   },
   {
    "duration": 0,
    "start_time": "2022-07-27T15:52:11.930Z"
   },
   {
    "duration": 0,
    "start_time": "2022-07-27T15:52:11.931Z"
   },
   {
    "duration": 0,
    "start_time": "2022-07-27T15:52:11.932Z"
   },
   {
    "duration": 0,
    "start_time": "2022-07-27T15:52:11.933Z"
   },
   {
    "duration": 0,
    "start_time": "2022-07-27T15:52:11.934Z"
   },
   {
    "duration": 0,
    "start_time": "2022-07-27T15:52:11.935Z"
   },
   {
    "duration": 0,
    "start_time": "2022-07-27T15:52:11.936Z"
   },
   {
    "duration": 0,
    "start_time": "2022-07-27T15:52:11.937Z"
   },
   {
    "duration": 0,
    "start_time": "2022-07-27T15:52:11.938Z"
   },
   {
    "duration": 424,
    "start_time": "2022-07-27T15:57:11.326Z"
   },
   {
    "duration": 316,
    "start_time": "2022-07-27T15:57:11.752Z"
   },
   {
    "duration": 2,
    "start_time": "2022-07-27T15:57:12.070Z"
   },
   {
    "duration": 47,
    "start_time": "2022-07-27T15:57:12.073Z"
   },
   {
    "duration": 10,
    "start_time": "2022-07-27T15:57:12.122Z"
   },
   {
    "duration": 20,
    "start_time": "2022-07-27T15:57:12.133Z"
   },
   {
    "duration": 34,
    "start_time": "2022-07-27T15:57:12.154Z"
   },
   {
    "duration": 35,
    "start_time": "2022-07-27T15:57:12.190Z"
   },
   {
    "duration": 49,
    "start_time": "2022-07-27T15:57:12.226Z"
   },
   {
    "duration": 22,
    "start_time": "2022-07-27T15:57:12.277Z"
   },
   {
    "duration": 25,
    "start_time": "2022-07-27T15:57:12.300Z"
   },
   {
    "duration": 14,
    "start_time": "2022-07-27T15:57:12.327Z"
   },
   {
    "duration": 362,
    "start_time": "2022-07-27T15:57:12.343Z"
   },
   {
    "duration": 187,
    "start_time": "2022-07-27T15:57:12.707Z"
   },
   {
    "duration": 193,
    "start_time": "2022-07-27T15:57:12.895Z"
   },
   {
    "duration": 38,
    "start_time": "2022-07-27T15:57:13.090Z"
   },
   {
    "duration": 67,
    "start_time": "2022-07-27T15:57:13.130Z"
   },
   {
    "duration": 0,
    "start_time": "2022-07-27T15:57:13.199Z"
   },
   {
    "duration": 0,
    "start_time": "2022-07-27T15:57:13.200Z"
   },
   {
    "duration": 0,
    "start_time": "2022-07-27T15:57:13.202Z"
   },
   {
    "duration": 0,
    "start_time": "2022-07-27T15:57:13.203Z"
   },
   {
    "duration": 0,
    "start_time": "2022-07-27T15:57:13.204Z"
   },
   {
    "duration": 0,
    "start_time": "2022-07-27T15:57:13.224Z"
   },
   {
    "duration": 0,
    "start_time": "2022-07-27T15:57:13.225Z"
   },
   {
    "duration": 0,
    "start_time": "2022-07-27T15:57:13.226Z"
   },
   {
    "duration": 0,
    "start_time": "2022-07-27T15:57:13.227Z"
   },
   {
    "duration": 0,
    "start_time": "2022-07-27T15:57:13.228Z"
   },
   {
    "duration": 0,
    "start_time": "2022-07-27T15:57:13.229Z"
   },
   {
    "duration": 0,
    "start_time": "2022-07-27T15:57:13.230Z"
   },
   {
    "duration": 0,
    "start_time": "2022-07-27T15:57:13.231Z"
   },
   {
    "duration": 0,
    "start_time": "2022-07-27T15:57:13.232Z"
   },
   {
    "duration": 0,
    "start_time": "2022-07-27T15:57:13.233Z"
   },
   {
    "duration": 0,
    "start_time": "2022-07-27T15:57:13.234Z"
   },
   {
    "duration": 0,
    "start_time": "2022-07-27T15:57:13.235Z"
   },
   {
    "duration": 0,
    "start_time": "2022-07-27T15:57:13.236Z"
   },
   {
    "duration": 0,
    "start_time": "2022-07-27T15:57:13.237Z"
   },
   {
    "duration": 0,
    "start_time": "2022-07-27T15:57:13.238Z"
   },
   {
    "duration": 0,
    "start_time": "2022-07-27T15:57:13.239Z"
   },
   {
    "duration": 0,
    "start_time": "2022-07-27T15:57:13.239Z"
   },
   {
    "duration": 0,
    "start_time": "2022-07-27T15:57:13.240Z"
   },
   {
    "duration": 0,
    "start_time": "2022-07-27T15:57:13.241Z"
   },
   {
    "duration": 0,
    "start_time": "2022-07-27T15:57:13.242Z"
   },
   {
    "duration": 0,
    "start_time": "2022-07-27T15:57:13.243Z"
   },
   {
    "duration": 0,
    "start_time": "2022-07-27T15:57:13.244Z"
   },
   {
    "duration": 0,
    "start_time": "2022-07-27T15:57:13.245Z"
   },
   {
    "duration": 0,
    "start_time": "2022-07-27T15:57:13.246Z"
   },
   {
    "duration": 0,
    "start_time": "2022-07-27T15:57:13.247Z"
   },
   {
    "duration": 0,
    "start_time": "2022-07-27T15:57:13.248Z"
   },
   {
    "duration": 0,
    "start_time": "2022-07-27T15:57:13.249Z"
   },
   {
    "duration": 0,
    "start_time": "2022-07-27T15:57:13.250Z"
   },
   {
    "duration": 0,
    "start_time": "2022-07-27T15:57:13.251Z"
   },
   {
    "duration": 0,
    "start_time": "2022-07-27T15:57:13.251Z"
   },
   {
    "duration": 0,
    "start_time": "2022-07-27T15:57:13.252Z"
   },
   {
    "duration": 0,
    "start_time": "2022-07-27T15:57:13.253Z"
   },
   {
    "duration": 0,
    "start_time": "2022-07-27T15:57:13.254Z"
   },
   {
    "duration": 0,
    "start_time": "2022-07-27T15:57:13.255Z"
   },
   {
    "duration": 0,
    "start_time": "2022-07-27T15:57:13.257Z"
   },
   {
    "duration": 0,
    "start_time": "2022-07-27T15:57:13.258Z"
   },
   {
    "duration": 0,
    "start_time": "2022-07-27T15:57:13.259Z"
   },
   {
    "duration": 0,
    "start_time": "2022-07-27T15:57:13.260Z"
   },
   {
    "duration": 0,
    "start_time": "2022-07-27T15:57:13.261Z"
   },
   {
    "duration": 0,
    "start_time": "2022-07-27T15:57:13.262Z"
   },
   {
    "duration": 0,
    "start_time": "2022-07-27T15:57:13.324Z"
   },
   {
    "duration": 0,
    "start_time": "2022-07-27T15:57:13.325Z"
   },
   {
    "duration": 419,
    "start_time": "2022-07-27T15:58:09.427Z"
   },
   {
    "duration": 319,
    "start_time": "2022-07-27T15:58:09.848Z"
   },
   {
    "duration": 4,
    "start_time": "2022-07-27T15:58:10.168Z"
   },
   {
    "duration": 50,
    "start_time": "2022-07-27T15:58:10.174Z"
   },
   {
    "duration": 11,
    "start_time": "2022-07-27T15:58:10.226Z"
   },
   {
    "duration": 21,
    "start_time": "2022-07-27T15:58:10.238Z"
   },
   {
    "duration": 34,
    "start_time": "2022-07-27T15:58:10.261Z"
   },
   {
    "duration": 42,
    "start_time": "2022-07-27T15:58:10.297Z"
   },
   {
    "duration": 55,
    "start_time": "2022-07-27T15:58:10.341Z"
   },
   {
    "duration": 31,
    "start_time": "2022-07-27T15:58:10.398Z"
   },
   {
    "duration": 6,
    "start_time": "2022-07-27T15:58:10.431Z"
   },
   {
    "duration": 14,
    "start_time": "2022-07-27T15:58:10.438Z"
   },
   {
    "duration": 381,
    "start_time": "2022-07-27T15:58:10.454Z"
   },
   {
    "duration": 201,
    "start_time": "2022-07-27T15:58:10.838Z"
   },
   {
    "duration": 188,
    "start_time": "2022-07-27T15:58:11.040Z"
   },
   {
    "duration": 46,
    "start_time": "2022-07-27T15:58:11.229Z"
   },
   {
    "duration": 9,
    "start_time": "2022-07-27T15:58:11.277Z"
   },
   {
    "duration": 38,
    "start_time": "2022-07-27T15:58:11.289Z"
   },
   {
    "duration": 8,
    "start_time": "2022-07-27T15:58:11.329Z"
   },
   {
    "duration": 25,
    "start_time": "2022-07-27T15:58:11.339Z"
   },
   {
    "duration": 23,
    "start_time": "2022-07-27T15:58:11.366Z"
   },
   {
    "duration": 3,
    "start_time": "2022-07-27T15:58:11.391Z"
   },
   {
    "duration": 9,
    "start_time": "2022-07-27T15:58:11.424Z"
   },
   {
    "duration": 16,
    "start_time": "2022-07-27T15:58:11.434Z"
   },
   {
    "duration": 13,
    "start_time": "2022-07-27T15:58:11.451Z"
   },
   {
    "duration": 34,
    "start_time": "2022-07-27T15:58:11.466Z"
   },
   {
    "duration": 7,
    "start_time": "2022-07-27T15:58:11.502Z"
   },
   {
    "duration": 34,
    "start_time": "2022-07-27T15:58:11.511Z"
   },
   {
    "duration": 14,
    "start_time": "2022-07-27T15:58:11.546Z"
   },
   {
    "duration": 9,
    "start_time": "2022-07-27T15:58:11.561Z"
   },
   {
    "duration": 36,
    "start_time": "2022-07-27T15:58:11.571Z"
   },
   {
    "duration": 32,
    "start_time": "2022-07-27T15:58:11.609Z"
   },
   {
    "duration": 12,
    "start_time": "2022-07-27T15:58:11.642Z"
   },
   {
    "duration": 10,
    "start_time": "2022-07-27T15:58:11.656Z"
   },
   {
    "duration": 8,
    "start_time": "2022-07-27T15:58:11.667Z"
   },
   {
    "duration": 10,
    "start_time": "2022-07-27T15:58:11.677Z"
   },
   {
    "duration": 10,
    "start_time": "2022-07-27T15:58:11.689Z"
   },
   {
    "duration": 11,
    "start_time": "2022-07-27T15:58:11.723Z"
   },
   {
    "duration": 29,
    "start_time": "2022-07-27T15:58:11.736Z"
   },
   {
    "duration": 6,
    "start_time": "2022-07-27T15:58:11.766Z"
   },
   {
    "duration": 8,
    "start_time": "2022-07-27T15:58:11.775Z"
   },
   {
    "duration": 39,
    "start_time": "2022-07-27T15:58:11.785Z"
   },
   {
    "duration": 10,
    "start_time": "2022-07-27T15:58:11.826Z"
   },
   {
    "duration": 20,
    "start_time": "2022-07-27T15:58:11.837Z"
   },
   {
    "duration": 20,
    "start_time": "2022-07-27T15:58:11.859Z"
   },
   {
    "duration": 15,
    "start_time": "2022-07-27T15:58:11.880Z"
   },
   {
    "duration": 33,
    "start_time": "2022-07-27T15:58:11.896Z"
   },
   {
    "duration": 77,
    "start_time": "2022-07-27T15:58:11.930Z"
   },
   {
    "duration": 0,
    "start_time": "2022-07-27T15:58:12.009Z"
   },
   {
    "duration": 0,
    "start_time": "2022-07-27T15:58:12.010Z"
   },
   {
    "duration": 0,
    "start_time": "2022-07-27T15:58:12.011Z"
   },
   {
    "duration": 0,
    "start_time": "2022-07-27T15:58:12.024Z"
   },
   {
    "duration": 0,
    "start_time": "2022-07-27T15:58:12.025Z"
   },
   {
    "duration": 0,
    "start_time": "2022-07-27T15:58:12.026Z"
   },
   {
    "duration": 0,
    "start_time": "2022-07-27T15:58:12.028Z"
   },
   {
    "duration": 0,
    "start_time": "2022-07-27T15:58:12.029Z"
   },
   {
    "duration": 0,
    "start_time": "2022-07-27T15:58:12.030Z"
   },
   {
    "duration": 0,
    "start_time": "2022-07-27T15:58:12.031Z"
   },
   {
    "duration": 0,
    "start_time": "2022-07-27T15:58:12.032Z"
   },
   {
    "duration": 0,
    "start_time": "2022-07-27T15:58:12.033Z"
   },
   {
    "duration": 0,
    "start_time": "2022-07-27T15:58:12.034Z"
   },
   {
    "duration": 0,
    "start_time": "2022-07-27T15:58:12.035Z"
   },
   {
    "duration": 6,
    "start_time": "2022-07-27T16:00:07.418Z"
   },
   {
    "duration": 6,
    "start_time": "2022-07-27T16:00:19.824Z"
   },
   {
    "duration": 9,
    "start_time": "2022-07-27T16:01:17.985Z"
   },
   {
    "duration": 8,
    "start_time": "2022-07-27T16:01:20.581Z"
   },
   {
    "duration": 10,
    "start_time": "2022-07-27T16:01:22.836Z"
   },
   {
    "duration": 15,
    "start_time": "2022-07-27T16:01:26.185Z"
   },
   {
    "duration": 11,
    "start_time": "2022-07-27T16:01:33.290Z"
   },
   {
    "duration": 12,
    "start_time": "2022-07-27T16:03:39.849Z"
   },
   {
    "duration": 20,
    "start_time": "2022-07-27T16:04:09.520Z"
   },
   {
    "duration": 11,
    "start_time": "2022-07-27T16:04:20.465Z"
   },
   {
    "duration": 16,
    "start_time": "2022-07-27T16:04:21.641Z"
   },
   {
    "duration": 4,
    "start_time": "2022-07-27T16:04:26.122Z"
   },
   {
    "duration": 18,
    "start_time": "2022-07-27T16:04:26.626Z"
   },
   {
    "duration": 26,
    "start_time": "2022-07-27T16:04:26.656Z"
   },
   {
    "duration": 13,
    "start_time": "2022-07-27T16:04:26.696Z"
   },
   {
    "duration": 3,
    "start_time": "2022-07-27T16:04:26.731Z"
   },
   {
    "duration": 10,
    "start_time": "2022-07-27T16:04:26.763Z"
   },
   {
    "duration": 6,
    "start_time": "2022-07-27T16:04:26.824Z"
   },
   {
    "duration": 44,
    "start_time": "2022-07-27T16:04:26.843Z"
   },
   {
    "duration": 6,
    "start_time": "2022-07-27T16:04:26.931Z"
   },
   {
    "duration": 9,
    "start_time": "2022-07-27T16:04:26.947Z"
   },
   {
    "duration": 4,
    "start_time": "2022-07-27T16:04:27.025Z"
   },
   {
    "duration": 31,
    "start_time": "2022-07-27T16:04:27.031Z"
   },
   {
    "duration": 18,
    "start_time": "2022-07-27T16:04:27.064Z"
   },
   {
    "duration": 17,
    "start_time": "2022-07-27T16:05:29.422Z"
   },
   {
    "duration": 23,
    "start_time": "2022-07-27T16:13:10.456Z"
   },
   {
    "duration": 405,
    "start_time": "2022-07-27T16:14:58.542Z"
   },
   {
    "duration": 313,
    "start_time": "2022-07-27T16:14:58.950Z"
   },
   {
    "duration": 3,
    "start_time": "2022-07-27T16:14:59.264Z"
   },
   {
    "duration": 45,
    "start_time": "2022-07-27T16:14:59.269Z"
   },
   {
    "duration": 11,
    "start_time": "2022-07-27T16:14:59.316Z"
   },
   {
    "duration": 24,
    "start_time": "2022-07-27T16:14:59.329Z"
   },
   {
    "duration": 36,
    "start_time": "2022-07-27T16:14:59.355Z"
   },
   {
    "duration": 46,
    "start_time": "2022-07-27T16:14:59.393Z"
   },
   {
    "duration": 48,
    "start_time": "2022-07-27T16:14:59.441Z"
   },
   {
    "duration": 36,
    "start_time": "2022-07-27T16:14:59.492Z"
   },
   {
    "duration": 4,
    "start_time": "2022-07-27T16:14:59.530Z"
   },
   {
    "duration": 19,
    "start_time": "2022-07-27T16:14:59.535Z"
   },
   {
    "duration": 381,
    "start_time": "2022-07-27T16:14:59.556Z"
   },
   {
    "duration": 211,
    "start_time": "2022-07-27T16:14:59.938Z"
   },
   {
    "duration": 198,
    "start_time": "2022-07-27T16:15:00.151Z"
   },
   {
    "duration": 48,
    "start_time": "2022-07-27T16:15:00.351Z"
   },
   {
    "duration": 24,
    "start_time": "2022-07-27T16:15:00.401Z"
   },
   {
    "duration": 22,
    "start_time": "2022-07-27T16:15:00.427Z"
   },
   {
    "duration": 9,
    "start_time": "2022-07-27T16:15:00.451Z"
   },
   {
    "duration": 31,
    "start_time": "2022-07-27T16:15:00.462Z"
   },
   {
    "duration": 36,
    "start_time": "2022-07-27T16:15:00.495Z"
   },
   {
    "duration": 3,
    "start_time": "2022-07-27T16:15:00.533Z"
   },
   {
    "duration": 16,
    "start_time": "2022-07-27T16:15:00.538Z"
   },
   {
    "duration": 20,
    "start_time": "2022-07-27T16:15:00.556Z"
   },
   {
    "duration": 12,
    "start_time": "2022-07-27T16:15:00.578Z"
   },
   {
    "duration": 35,
    "start_time": "2022-07-27T16:15:00.591Z"
   },
   {
    "duration": 8,
    "start_time": "2022-07-27T16:15:00.628Z"
   },
   {
    "duration": 34,
    "start_time": "2022-07-27T16:15:00.640Z"
   },
   {
    "duration": 14,
    "start_time": "2022-07-27T16:15:00.676Z"
   },
   {
    "duration": 19,
    "start_time": "2022-07-27T16:15:00.691Z"
   },
   {
    "duration": 32,
    "start_time": "2022-07-27T16:15:00.711Z"
   },
   {
    "duration": 38,
    "start_time": "2022-07-27T16:15:00.745Z"
   },
   {
    "duration": 11,
    "start_time": "2022-07-27T16:15:00.785Z"
   },
   {
    "duration": 9,
    "start_time": "2022-07-27T16:15:00.798Z"
   },
   {
    "duration": 14,
    "start_time": "2022-07-27T16:15:00.809Z"
   },
   {
    "duration": 29,
    "start_time": "2022-07-27T16:15:00.825Z"
   },
   {
    "duration": 15,
    "start_time": "2022-07-27T16:15:00.856Z"
   },
   {
    "duration": 23,
    "start_time": "2022-07-27T16:15:00.873Z"
   },
   {
    "duration": 42,
    "start_time": "2022-07-27T16:15:00.898Z"
   },
   {
    "duration": 37,
    "start_time": "2022-07-27T16:15:00.942Z"
   },
   {
    "duration": 37,
    "start_time": "2022-07-27T16:15:00.980Z"
   },
   {
    "duration": 39,
    "start_time": "2022-07-27T16:15:01.019Z"
   },
   {
    "duration": 18,
    "start_time": "2022-07-27T16:15:01.059Z"
   },
   {
    "duration": 19,
    "start_time": "2022-07-27T16:15:01.079Z"
   },
   {
    "duration": 45,
    "start_time": "2022-07-27T16:15:01.100Z"
   },
   {
    "duration": 16,
    "start_time": "2022-07-27T16:15:01.147Z"
   },
   {
    "duration": 24,
    "start_time": "2022-07-27T16:15:01.165Z"
   },
   {
    "duration": 19,
    "start_time": "2022-07-27T16:15:01.191Z"
   },
   {
    "duration": 55,
    "start_time": "2022-07-27T16:15:01.212Z"
   },
   {
    "duration": 46,
    "start_time": "2022-07-27T16:15:01.269Z"
   },
   {
    "duration": 50,
    "start_time": "2022-07-27T16:15:01.316Z"
   },
   {
    "duration": 40,
    "start_time": "2022-07-27T16:15:01.368Z"
   },
   {
    "duration": 17,
    "start_time": "2022-07-27T16:15:01.409Z"
   },
   {
    "duration": 14,
    "start_time": "2022-07-27T16:15:01.428Z"
   },
   {
    "duration": 20,
    "start_time": "2022-07-27T16:15:01.444Z"
   },
   {
    "duration": 29,
    "start_time": "2022-07-27T16:15:01.466Z"
   },
   {
    "duration": 56,
    "start_time": "2022-07-27T16:15:01.496Z"
   },
   {
    "duration": 7,
    "start_time": "2022-07-27T16:15:01.554Z"
   },
   {
    "duration": 37,
    "start_time": "2022-07-27T16:15:01.562Z"
   },
   {
    "duration": 9,
    "start_time": "2022-07-27T16:15:01.601Z"
   },
   {
    "duration": 55,
    "start_time": "2022-07-27T16:15:01.612Z"
   },
   {
    "duration": 41,
    "start_time": "2022-07-27T16:15:01.669Z"
   },
   {
    "duration": 73,
    "start_time": "2022-07-27T16:15:27.019Z"
   },
   {
    "duration": 11,
    "start_time": "2022-07-27T16:17:00.553Z"
   },
   {
    "duration": 430,
    "start_time": "2022-07-27T16:17:23.706Z"
   },
   {
    "duration": 311,
    "start_time": "2022-07-27T16:17:24.138Z"
   },
   {
    "duration": 3,
    "start_time": "2022-07-27T16:17:24.451Z"
   },
   {
    "duration": 52,
    "start_time": "2022-07-27T16:17:24.455Z"
   },
   {
    "duration": 14,
    "start_time": "2022-07-27T16:17:24.510Z"
   },
   {
    "duration": 26,
    "start_time": "2022-07-27T16:17:24.526Z"
   },
   {
    "duration": 38,
    "start_time": "2022-07-27T16:17:24.555Z"
   },
   {
    "duration": 44,
    "start_time": "2022-07-27T16:17:24.595Z"
   },
   {
    "duration": 89,
    "start_time": "2022-07-27T16:17:24.641Z"
   },
   {
    "duration": 23,
    "start_time": "2022-07-27T16:17:24.732Z"
   },
   {
    "duration": 11,
    "start_time": "2022-07-27T16:17:24.757Z"
   },
   {
    "duration": 12,
    "start_time": "2022-07-27T16:17:24.770Z"
   },
   {
    "duration": 400,
    "start_time": "2022-07-27T16:17:24.784Z"
   },
   {
    "duration": 202,
    "start_time": "2022-07-27T16:17:25.188Z"
   },
   {
    "duration": 198,
    "start_time": "2022-07-27T16:17:25.391Z"
   },
   {
    "duration": 59,
    "start_time": "2022-07-27T16:17:25.592Z"
   },
   {
    "duration": 10,
    "start_time": "2022-07-27T16:17:25.653Z"
   },
   {
    "duration": 23,
    "start_time": "2022-07-27T16:17:25.665Z"
   },
   {
    "duration": 8,
    "start_time": "2022-07-27T16:17:25.690Z"
   },
   {
    "duration": 40,
    "start_time": "2022-07-27T16:17:25.700Z"
   },
   {
    "duration": 22,
    "start_time": "2022-07-27T16:17:25.742Z"
   },
   {
    "duration": 4,
    "start_time": "2022-07-27T16:17:25.766Z"
   },
   {
    "duration": 17,
    "start_time": "2022-07-27T16:17:25.772Z"
   },
   {
    "duration": 12,
    "start_time": "2022-07-27T16:17:25.791Z"
   },
   {
    "duration": 4,
    "start_time": "2022-07-27T16:17:25.823Z"
   },
   {
    "duration": 26,
    "start_time": "2022-07-27T16:17:25.829Z"
   },
   {
    "duration": 9,
    "start_time": "2022-07-27T16:17:25.857Z"
   },
   {
    "duration": 33,
    "start_time": "2022-07-27T16:17:25.867Z"
   },
   {
    "duration": 36,
    "start_time": "2022-07-27T16:17:25.902Z"
   },
   {
    "duration": 6,
    "start_time": "2022-07-27T16:17:25.940Z"
   },
   {
    "duration": 18,
    "start_time": "2022-07-27T16:17:25.947Z"
   },
   {
    "duration": 23,
    "start_time": "2022-07-27T16:17:25.966Z"
   },
   {
    "duration": 10,
    "start_time": "2022-07-27T16:17:25.991Z"
   },
   {
    "duration": 27,
    "start_time": "2022-07-27T16:17:26.003Z"
   },
   {
    "duration": 8,
    "start_time": "2022-07-27T16:17:26.032Z"
   },
   {
    "duration": 15,
    "start_time": "2022-07-27T16:17:26.041Z"
   },
   {
    "duration": 8,
    "start_time": "2022-07-27T16:17:26.057Z"
   },
   {
    "duration": 16,
    "start_time": "2022-07-27T16:17:26.066Z"
   },
   {
    "duration": 46,
    "start_time": "2022-07-27T16:17:26.084Z"
   },
   {
    "duration": 6,
    "start_time": "2022-07-27T16:17:26.132Z"
   },
   {
    "duration": 7,
    "start_time": "2022-07-27T16:17:26.141Z"
   },
   {
    "duration": 18,
    "start_time": "2022-07-27T16:17:26.150Z"
   },
   {
    "duration": 10,
    "start_time": "2022-07-27T16:17:26.170Z"
   },
   {
    "duration": 14,
    "start_time": "2022-07-27T16:17:26.182Z"
   },
   {
    "duration": 22,
    "start_time": "2022-07-27T16:17:26.224Z"
   },
   {
    "duration": 14,
    "start_time": "2022-07-27T16:17:26.248Z"
   },
   {
    "duration": 95,
    "start_time": "2022-07-27T16:17:26.264Z"
   },
   {
    "duration": 0,
    "start_time": "2022-07-27T16:17:26.361Z"
   },
   {
    "duration": 0,
    "start_time": "2022-07-27T16:17:26.362Z"
   },
   {
    "duration": 0,
    "start_time": "2022-07-27T16:17:26.363Z"
   },
   {
    "duration": 0,
    "start_time": "2022-07-27T16:17:26.364Z"
   },
   {
    "duration": 0,
    "start_time": "2022-07-27T16:17:26.365Z"
   },
   {
    "duration": 0,
    "start_time": "2022-07-27T16:17:26.366Z"
   },
   {
    "duration": 0,
    "start_time": "2022-07-27T16:17:26.367Z"
   },
   {
    "duration": 0,
    "start_time": "2022-07-27T16:17:26.368Z"
   },
   {
    "duration": 0,
    "start_time": "2022-07-27T16:17:26.369Z"
   },
   {
    "duration": 0,
    "start_time": "2022-07-27T16:17:26.371Z"
   },
   {
    "duration": 0,
    "start_time": "2022-07-27T16:17:26.372Z"
   },
   {
    "duration": 0,
    "start_time": "2022-07-27T16:17:26.374Z"
   },
   {
    "duration": 0,
    "start_time": "2022-07-27T16:17:26.375Z"
   },
   {
    "duration": 0,
    "start_time": "2022-07-27T16:17:26.376Z"
   },
   {
    "duration": 0,
    "start_time": "2022-07-27T16:17:26.378Z"
   },
   {
    "duration": 11,
    "start_time": "2022-07-27T16:17:47.549Z"
   },
   {
    "duration": 11,
    "start_time": "2022-07-27T16:17:55.525Z"
   },
   {
    "duration": 7,
    "start_time": "2022-07-27T16:18:02.284Z"
   },
   {
    "duration": 15,
    "start_time": "2022-07-27T16:18:07.819Z"
   },
   {
    "duration": 15,
    "start_time": "2022-07-27T16:18:26.124Z"
   },
   {
    "duration": 3,
    "start_time": "2022-07-27T16:19:21.068Z"
   },
   {
    "duration": 12,
    "start_time": "2022-07-27T16:19:26.955Z"
   },
   {
    "duration": 21,
    "start_time": "2022-07-27T16:19:46.587Z"
   },
   {
    "duration": 4,
    "start_time": "2022-07-27T16:19:52.474Z"
   },
   {
    "duration": 16,
    "start_time": "2022-07-27T16:19:54.621Z"
   },
   {
    "duration": 3,
    "start_time": "2022-07-27T16:20:24.946Z"
   },
   {
    "duration": 12,
    "start_time": "2022-07-27T16:20:26.058Z"
   },
   {
    "duration": 14,
    "start_time": "2022-07-27T16:20:31.875Z"
   },
   {
    "duration": 21,
    "start_time": "2022-07-27T16:20:51.721Z"
   },
   {
    "duration": 22,
    "start_time": "2022-07-27T16:20:55.410Z"
   },
   {
    "duration": 424,
    "start_time": "2022-07-27T16:21:06.726Z"
   },
   {
    "duration": 363,
    "start_time": "2022-07-27T16:21:07.153Z"
   },
   {
    "duration": 2,
    "start_time": "2022-07-27T16:21:07.518Z"
   },
   {
    "duration": 46,
    "start_time": "2022-07-27T16:21:07.522Z"
   },
   {
    "duration": 10,
    "start_time": "2022-07-27T16:21:07.570Z"
   },
   {
    "duration": 21,
    "start_time": "2022-07-27T16:21:07.581Z"
   },
   {
    "duration": 52,
    "start_time": "2022-07-27T16:21:07.604Z"
   },
   {
    "duration": 16,
    "start_time": "2022-07-27T16:21:07.658Z"
   },
   {
    "duration": 67,
    "start_time": "2022-07-27T16:21:07.675Z"
   },
   {
    "duration": 21,
    "start_time": "2022-07-27T16:21:07.744Z"
   },
   {
    "duration": 6,
    "start_time": "2022-07-27T16:21:07.766Z"
   },
   {
    "duration": 14,
    "start_time": "2022-07-27T16:21:07.774Z"
   },
   {
    "duration": 371,
    "start_time": "2022-07-27T16:21:07.789Z"
   },
   {
    "duration": 213,
    "start_time": "2022-07-27T16:21:08.164Z"
   },
   {
    "duration": 182,
    "start_time": "2022-07-27T16:21:08.379Z"
   },
   {
    "duration": 44,
    "start_time": "2022-07-27T16:21:08.563Z"
   },
   {
    "duration": 20,
    "start_time": "2022-07-27T16:21:08.609Z"
   },
   {
    "duration": 17,
    "start_time": "2022-07-27T16:21:08.631Z"
   },
   {
    "duration": 7,
    "start_time": "2022-07-27T16:21:08.650Z"
   },
   {
    "duration": 23,
    "start_time": "2022-07-27T16:21:08.659Z"
   },
   {
    "duration": 48,
    "start_time": "2022-07-27T16:21:08.683Z"
   },
   {
    "duration": 3,
    "start_time": "2022-07-27T16:21:08.733Z"
   },
   {
    "duration": 10,
    "start_time": "2022-07-27T16:21:08.737Z"
   },
   {
    "duration": 16,
    "start_time": "2022-07-27T16:21:08.749Z"
   },
   {
    "duration": 6,
    "start_time": "2022-07-27T16:21:08.767Z"
   },
   {
    "duration": 24,
    "start_time": "2022-07-27T16:21:08.775Z"
   },
   {
    "duration": 9,
    "start_time": "2022-07-27T16:21:08.824Z"
   },
   {
    "duration": 40,
    "start_time": "2022-07-27T16:21:08.834Z"
   },
   {
    "duration": 16,
    "start_time": "2022-07-27T16:21:08.875Z"
   },
   {
    "duration": 4,
    "start_time": "2022-07-27T16:21:08.893Z"
   },
   {
    "duration": 36,
    "start_time": "2022-07-27T16:21:08.898Z"
   },
   {
    "duration": 27,
    "start_time": "2022-07-27T16:21:08.936Z"
   },
   {
    "duration": 12,
    "start_time": "2022-07-27T16:21:08.965Z"
   },
   {
    "duration": 8,
    "start_time": "2022-07-27T16:21:08.978Z"
   },
   {
    "duration": 6,
    "start_time": "2022-07-27T16:21:08.988Z"
   },
   {
    "duration": 35,
    "start_time": "2022-07-27T16:21:08.995Z"
   },
   {
    "duration": 7,
    "start_time": "2022-07-27T16:21:09.032Z"
   },
   {
    "duration": 21,
    "start_time": "2022-07-27T16:21:09.041Z"
   },
   {
    "duration": 33,
    "start_time": "2022-07-27T16:21:09.064Z"
   },
   {
    "duration": 6,
    "start_time": "2022-07-27T16:21:09.099Z"
   },
   {
    "duration": 22,
    "start_time": "2022-07-27T16:21:09.109Z"
   },
   {
    "duration": 18,
    "start_time": "2022-07-27T16:21:09.132Z"
   },
   {
    "duration": 11,
    "start_time": "2022-07-27T16:21:09.152Z"
   },
   {
    "duration": 16,
    "start_time": "2022-07-27T16:21:09.164Z"
   },
   {
    "duration": 15,
    "start_time": "2022-07-27T16:21:09.181Z"
   },
   {
    "duration": 32,
    "start_time": "2022-07-27T16:21:09.197Z"
   },
   {
    "duration": 73,
    "start_time": "2022-07-27T16:21:09.230Z"
   },
   {
    "duration": 0,
    "start_time": "2022-07-27T16:21:09.304Z"
   },
   {
    "duration": 0,
    "start_time": "2022-07-27T16:21:09.305Z"
   },
   {
    "duration": 0,
    "start_time": "2022-07-27T16:21:09.306Z"
   },
   {
    "duration": 0,
    "start_time": "2022-07-27T16:21:09.307Z"
   },
   {
    "duration": 0,
    "start_time": "2022-07-27T16:21:09.324Z"
   },
   {
    "duration": 0,
    "start_time": "2022-07-27T16:21:09.325Z"
   },
   {
    "duration": 0,
    "start_time": "2022-07-27T16:21:09.326Z"
   },
   {
    "duration": 0,
    "start_time": "2022-07-27T16:21:09.327Z"
   },
   {
    "duration": 0,
    "start_time": "2022-07-27T16:21:09.328Z"
   },
   {
    "duration": 0,
    "start_time": "2022-07-27T16:21:09.329Z"
   },
   {
    "duration": 0,
    "start_time": "2022-07-27T16:21:09.330Z"
   },
   {
    "duration": 0,
    "start_time": "2022-07-27T16:21:09.330Z"
   },
   {
    "duration": 0,
    "start_time": "2022-07-27T16:21:09.331Z"
   },
   {
    "duration": 0,
    "start_time": "2022-07-27T16:21:09.332Z"
   },
   {
    "duration": 0,
    "start_time": "2022-07-27T16:21:09.333Z"
   },
   {
    "duration": 12,
    "start_time": "2022-07-27T16:22:45.252Z"
   },
   {
    "duration": 7,
    "start_time": "2022-07-27T16:22:51.120Z"
   },
   {
    "duration": 16,
    "start_time": "2022-07-27T16:22:52.124Z"
   },
   {
    "duration": 12,
    "start_time": "2022-07-27T16:23:01.444Z"
   },
   {
    "duration": 8,
    "start_time": "2022-07-27T16:23:02.817Z"
   },
   {
    "duration": 18,
    "start_time": "2022-07-27T16:23:03.667Z"
   },
   {
    "duration": 9,
    "start_time": "2022-07-27T16:23:24.940Z"
   },
   {
    "duration": 17,
    "start_time": "2022-07-27T16:23:25.884Z"
   },
   {
    "duration": 4,
    "start_time": "2022-07-27T16:23:41.026Z"
   },
   {
    "duration": 17,
    "start_time": "2022-07-27T16:23:41.618Z"
   },
   {
    "duration": 18,
    "start_time": "2022-07-27T16:23:41.963Z"
   },
   {
    "duration": 11,
    "start_time": "2022-07-27T16:23:42.932Z"
   },
   {
    "duration": 813,
    "start_time": "2022-07-27T16:23:43.436Z"
   },
   {
    "duration": 0,
    "start_time": "2022-07-27T16:23:44.251Z"
   },
   {
    "duration": 5,
    "start_time": "2022-07-27T16:23:44.763Z"
   },
   {
    "duration": 419,
    "start_time": "2022-07-27T16:24:04.829Z"
   },
   {
    "duration": 298,
    "start_time": "2022-07-27T16:24:05.250Z"
   },
   {
    "duration": 4,
    "start_time": "2022-07-27T16:24:05.550Z"
   },
   {
    "duration": 54,
    "start_time": "2022-07-27T16:24:05.555Z"
   },
   {
    "duration": 11,
    "start_time": "2022-07-27T16:24:05.612Z"
   },
   {
    "duration": 26,
    "start_time": "2022-07-27T16:24:05.626Z"
   },
   {
    "duration": 38,
    "start_time": "2022-07-27T16:24:05.654Z"
   },
   {
    "duration": 40,
    "start_time": "2022-07-27T16:24:05.694Z"
   },
   {
    "duration": 58,
    "start_time": "2022-07-27T16:24:05.736Z"
   },
   {
    "duration": 41,
    "start_time": "2022-07-27T16:24:05.796Z"
   },
   {
    "duration": 11,
    "start_time": "2022-07-27T16:24:05.838Z"
   },
   {
    "duration": 13,
    "start_time": "2022-07-27T16:24:05.851Z"
   },
   {
    "duration": 363,
    "start_time": "2022-07-27T16:24:05.865Z"
   },
   {
    "duration": 199,
    "start_time": "2022-07-27T16:24:06.231Z"
   },
   {
    "duration": 179,
    "start_time": "2022-07-27T16:24:06.432Z"
   },
   {
    "duration": 50,
    "start_time": "2022-07-27T16:24:06.613Z"
   },
   {
    "duration": 9,
    "start_time": "2022-07-27T16:24:06.665Z"
   },
   {
    "duration": 19,
    "start_time": "2022-07-27T16:24:06.675Z"
   },
   {
    "duration": 8,
    "start_time": "2022-07-27T16:24:06.695Z"
   },
   {
    "duration": 24,
    "start_time": "2022-07-27T16:24:06.724Z"
   },
   {
    "duration": 34,
    "start_time": "2022-07-27T16:24:06.749Z"
   },
   {
    "duration": 3,
    "start_time": "2022-07-27T16:24:06.785Z"
   },
   {
    "duration": 11,
    "start_time": "2022-07-27T16:24:06.790Z"
   },
   {
    "duration": 22,
    "start_time": "2022-07-27T16:24:06.803Z"
   },
   {
    "duration": 5,
    "start_time": "2022-07-27T16:24:06.826Z"
   },
   {
    "duration": 26,
    "start_time": "2022-07-27T16:24:06.833Z"
   },
   {
    "duration": 8,
    "start_time": "2022-07-27T16:24:06.861Z"
   },
   {
    "duration": 48,
    "start_time": "2022-07-27T16:24:06.871Z"
   },
   {
    "duration": 14,
    "start_time": "2022-07-27T16:24:06.920Z"
   },
   {
    "duration": 4,
    "start_time": "2022-07-27T16:24:06.935Z"
   },
   {
    "duration": 17,
    "start_time": "2022-07-27T16:24:06.940Z"
   },
   {
    "duration": 25,
    "start_time": "2022-07-27T16:24:06.959Z"
   },
   {
    "duration": 13,
    "start_time": "2022-07-27T16:24:06.985Z"
   },
   {
    "duration": 30,
    "start_time": "2022-07-27T16:24:06.999Z"
   },
   {
    "duration": 9,
    "start_time": "2022-07-27T16:24:07.030Z"
   },
   {
    "duration": 14,
    "start_time": "2022-07-27T16:24:07.041Z"
   },
   {
    "duration": 10,
    "start_time": "2022-07-27T16:24:07.057Z"
   },
   {
    "duration": 15,
    "start_time": "2022-07-27T16:24:07.068Z"
   },
   {
    "duration": 50,
    "start_time": "2022-07-27T16:24:07.085Z"
   },
   {
    "duration": 8,
    "start_time": "2022-07-27T16:24:07.137Z"
   },
   {
    "duration": 24,
    "start_time": "2022-07-27T16:24:07.149Z"
   },
   {
    "duration": 33,
    "start_time": "2022-07-27T16:24:07.175Z"
   },
   {
    "duration": 17,
    "start_time": "2022-07-27T16:24:07.210Z"
   },
   {
    "duration": 30,
    "start_time": "2022-07-27T16:24:07.229Z"
   },
   {
    "duration": 27,
    "start_time": "2022-07-27T16:24:07.261Z"
   },
   {
    "duration": 17,
    "start_time": "2022-07-27T16:24:07.290Z"
   },
   {
    "duration": 22,
    "start_time": "2022-07-27T16:24:07.323Z"
   },
   {
    "duration": 18,
    "start_time": "2022-07-27T16:24:07.347Z"
   },
   {
    "duration": 26,
    "start_time": "2022-07-27T16:24:07.367Z"
   },
   {
    "duration": 11,
    "start_time": "2022-07-27T16:24:07.394Z"
   },
   {
    "duration": 39,
    "start_time": "2022-07-27T16:24:07.407Z"
   },
   {
    "duration": 88,
    "start_time": "2022-07-27T16:24:07.448Z"
   },
   {
    "duration": 0,
    "start_time": "2022-07-27T16:24:07.538Z"
   },
   {
    "duration": 0,
    "start_time": "2022-07-27T16:24:07.539Z"
   },
   {
    "duration": 0,
    "start_time": "2022-07-27T16:24:07.540Z"
   },
   {
    "duration": 0,
    "start_time": "2022-07-27T16:24:07.541Z"
   },
   {
    "duration": 0,
    "start_time": "2022-07-27T16:24:07.542Z"
   },
   {
    "duration": 0,
    "start_time": "2022-07-27T16:24:07.543Z"
   },
   {
    "duration": 0,
    "start_time": "2022-07-27T16:24:07.545Z"
   },
   {
    "duration": 0,
    "start_time": "2022-07-27T16:24:07.545Z"
   },
   {
    "duration": 0,
    "start_time": "2022-07-27T16:24:07.547Z"
   },
   {
    "duration": 0,
    "start_time": "2022-07-27T16:24:07.547Z"
   },
   {
    "duration": 11,
    "start_time": "2022-07-27T16:25:17.343Z"
   },
   {
    "duration": 9,
    "start_time": "2022-07-27T16:25:23.981Z"
   },
   {
    "duration": 8,
    "start_time": "2022-07-27T16:25:45.216Z"
   },
   {
    "duration": 8,
    "start_time": "2022-07-27T16:25:48.853Z"
   },
   {
    "duration": 15,
    "start_time": "2022-07-27T16:26:05.119Z"
   },
   {
    "duration": 6,
    "start_time": "2022-07-27T16:26:37.278Z"
   },
   {
    "duration": 13,
    "start_time": "2022-07-27T16:26:39.181Z"
   },
   {
    "duration": 18,
    "start_time": "2022-07-27T16:27:44.830Z"
   },
   {
    "duration": 9,
    "start_time": "2022-07-27T16:27:52.724Z"
   },
   {
    "duration": 18,
    "start_time": "2022-07-27T16:27:53.446Z"
   },
   {
    "duration": 9,
    "start_time": "2022-07-27T16:28:04.731Z"
   },
   {
    "duration": 25,
    "start_time": "2022-07-27T16:28:05.725Z"
   },
   {
    "duration": 4,
    "start_time": "2022-07-27T16:28:08.428Z"
   },
   {
    "duration": 14,
    "start_time": "2022-07-27T16:28:11.694Z"
   },
   {
    "duration": 8,
    "start_time": "2022-07-27T16:28:32.364Z"
   },
   {
    "duration": 19,
    "start_time": "2022-07-27T16:28:32.741Z"
   },
   {
    "duration": 5,
    "start_time": "2022-07-27T16:28:35.319Z"
   },
   {
    "duration": 21,
    "start_time": "2022-07-27T16:28:35.845Z"
   },
   {
    "duration": 412,
    "start_time": "2022-07-27T16:28:43.987Z"
   },
   {
    "duration": 369,
    "start_time": "2022-07-27T16:28:44.401Z"
   },
   {
    "duration": 3,
    "start_time": "2022-07-27T16:28:44.772Z"
   },
   {
    "duration": 48,
    "start_time": "2022-07-27T16:28:44.776Z"
   },
   {
    "duration": 14,
    "start_time": "2022-07-27T16:28:44.827Z"
   },
   {
    "duration": 27,
    "start_time": "2022-07-27T16:28:44.842Z"
   },
   {
    "duration": 68,
    "start_time": "2022-07-27T16:28:44.871Z"
   },
   {
    "duration": 23,
    "start_time": "2022-07-27T16:28:44.942Z"
   },
   {
    "duration": 82,
    "start_time": "2022-07-27T16:28:44.967Z"
   },
   {
    "duration": 26,
    "start_time": "2022-07-27T16:28:45.050Z"
   },
   {
    "duration": 10,
    "start_time": "2022-07-27T16:28:45.078Z"
   },
   {
    "duration": 34,
    "start_time": "2022-07-27T16:28:45.090Z"
   },
   {
    "duration": 432,
    "start_time": "2022-07-27T16:28:45.126Z"
   },
   {
    "duration": 221,
    "start_time": "2022-07-27T16:28:45.561Z"
   },
   {
    "duration": 187,
    "start_time": "2022-07-27T16:28:45.783Z"
   },
   {
    "duration": 60,
    "start_time": "2022-07-27T16:28:45.972Z"
   },
   {
    "duration": 9,
    "start_time": "2022-07-27T16:28:46.034Z"
   },
   {
    "duration": 26,
    "start_time": "2022-07-27T16:28:46.045Z"
   },
   {
    "duration": 8,
    "start_time": "2022-07-27T16:28:46.073Z"
   },
   {
    "duration": 47,
    "start_time": "2022-07-27T16:28:46.083Z"
   },
   {
    "duration": 20,
    "start_time": "2022-07-27T16:28:46.132Z"
   },
   {
    "duration": 3,
    "start_time": "2022-07-27T16:28:46.154Z"
   },
   {
    "duration": 10,
    "start_time": "2022-07-27T16:28:46.158Z"
   },
   {
    "duration": 17,
    "start_time": "2022-07-27T16:28:46.170Z"
   },
   {
    "duration": 7,
    "start_time": "2022-07-27T16:28:46.189Z"
   },
   {
    "duration": 28,
    "start_time": "2022-07-27T16:28:46.223Z"
   },
   {
    "duration": 8,
    "start_time": "2022-07-27T16:28:46.253Z"
   },
   {
    "duration": 31,
    "start_time": "2022-07-27T16:28:46.263Z"
   },
   {
    "duration": 33,
    "start_time": "2022-07-27T16:28:46.295Z"
   },
   {
    "duration": 6,
    "start_time": "2022-07-27T16:28:46.330Z"
   },
   {
    "duration": 22,
    "start_time": "2022-07-27T16:28:46.337Z"
   },
   {
    "duration": 28,
    "start_time": "2022-07-27T16:28:46.361Z"
   },
   {
    "duration": 37,
    "start_time": "2022-07-27T16:28:46.391Z"
   },
   {
    "duration": 5,
    "start_time": "2022-07-27T16:28:46.430Z"
   },
   {
    "duration": 9,
    "start_time": "2022-07-27T16:28:46.437Z"
   },
   {
    "duration": 14,
    "start_time": "2022-07-27T16:28:46.447Z"
   },
   {
    "duration": 7,
    "start_time": "2022-07-27T16:28:46.463Z"
   },
   {
    "duration": 14,
    "start_time": "2022-07-27T16:28:46.471Z"
   },
   {
    "duration": 56,
    "start_time": "2022-07-27T16:28:46.487Z"
   },
   {
    "duration": 6,
    "start_time": "2022-07-27T16:28:46.544Z"
   },
   {
    "duration": 5,
    "start_time": "2022-07-27T16:28:46.554Z"
   },
   {
    "duration": 19,
    "start_time": "2022-07-27T16:28:46.561Z"
   },
   {
    "duration": 9,
    "start_time": "2022-07-27T16:28:46.582Z"
   },
   {
    "duration": 43,
    "start_time": "2022-07-27T16:28:46.593Z"
   },
   {
    "duration": 15,
    "start_time": "2022-07-27T16:28:46.638Z"
   },
   {
    "duration": 14,
    "start_time": "2022-07-27T16:28:46.655Z"
   },
   {
    "duration": 16,
    "start_time": "2022-07-27T16:28:46.671Z"
   },
   {
    "duration": 40,
    "start_time": "2022-07-27T16:28:46.689Z"
   },
   {
    "duration": 18,
    "start_time": "2022-07-27T16:28:46.731Z"
   },
   {
    "duration": 8,
    "start_time": "2022-07-27T16:28:46.751Z"
   },
   {
    "duration": 84,
    "start_time": "2022-07-27T16:28:46.760Z"
   },
   {
    "duration": 0,
    "start_time": "2022-07-27T16:28:46.845Z"
   },
   {
    "duration": 0,
    "start_time": "2022-07-27T16:28:46.847Z"
   },
   {
    "duration": 0,
    "start_time": "2022-07-27T16:28:46.848Z"
   },
   {
    "duration": 0,
    "start_time": "2022-07-27T16:28:46.849Z"
   },
   {
    "duration": 0,
    "start_time": "2022-07-27T16:28:46.850Z"
   },
   {
    "duration": 0,
    "start_time": "2022-07-27T16:28:46.851Z"
   },
   {
    "duration": 0,
    "start_time": "2022-07-27T16:28:46.852Z"
   },
   {
    "duration": 0,
    "start_time": "2022-07-27T16:28:46.853Z"
   },
   {
    "duration": 0,
    "start_time": "2022-07-27T16:28:46.854Z"
   },
   {
    "duration": 0,
    "start_time": "2022-07-27T16:28:46.855Z"
   },
   {
    "duration": 18,
    "start_time": "2022-07-27T16:29:46.223Z"
   },
   {
    "duration": 18,
    "start_time": "2022-07-27T16:29:48.949Z"
   },
   {
    "duration": 4,
    "start_time": "2022-07-27T16:30:26.846Z"
   },
   {
    "duration": 25,
    "start_time": "2022-07-27T16:30:28.019Z"
   },
   {
    "duration": 9,
    "start_time": "2022-07-27T16:30:36.182Z"
   },
   {
    "duration": 400,
    "start_time": "2022-07-27T16:31:17.755Z"
   },
   {
    "duration": 317,
    "start_time": "2022-07-27T16:31:18.158Z"
   },
   {
    "duration": 3,
    "start_time": "2022-07-27T16:31:18.477Z"
   },
   {
    "duration": 48,
    "start_time": "2022-07-27T16:31:18.482Z"
   },
   {
    "duration": 10,
    "start_time": "2022-07-27T16:31:18.532Z"
   },
   {
    "duration": 39,
    "start_time": "2022-07-27T16:31:18.543Z"
   },
   {
    "duration": 50,
    "start_time": "2022-07-27T16:31:18.584Z"
   },
   {
    "duration": 18,
    "start_time": "2022-07-27T16:31:18.636Z"
   },
   {
    "duration": 76,
    "start_time": "2022-07-27T16:31:18.656Z"
   },
   {
    "duration": 26,
    "start_time": "2022-07-27T16:31:18.735Z"
   },
   {
    "duration": 29,
    "start_time": "2022-07-27T16:31:18.762Z"
   },
   {
    "duration": 20,
    "start_time": "2022-07-27T16:31:18.793Z"
   },
   {
    "duration": 372,
    "start_time": "2022-07-27T16:31:18.815Z"
   },
   {
    "duration": 234,
    "start_time": "2022-07-27T16:31:19.190Z"
   },
   {
    "duration": 185,
    "start_time": "2022-07-27T16:31:19.426Z"
   },
   {
    "duration": 48,
    "start_time": "2022-07-27T16:31:19.625Z"
   },
   {
    "duration": 10,
    "start_time": "2022-07-27T16:31:19.675Z"
   },
   {
    "duration": 35,
    "start_time": "2022-07-27T16:31:19.686Z"
   },
   {
    "duration": 18,
    "start_time": "2022-07-27T16:31:19.724Z"
   },
   {
    "duration": 42,
    "start_time": "2022-07-27T16:31:19.744Z"
   },
   {
    "duration": 37,
    "start_time": "2022-07-27T16:31:19.788Z"
   },
   {
    "duration": 10,
    "start_time": "2022-07-27T16:31:19.827Z"
   },
   {
    "duration": 19,
    "start_time": "2022-07-27T16:31:19.838Z"
   },
   {
    "duration": 29,
    "start_time": "2022-07-27T16:31:19.859Z"
   },
   {
    "duration": 42,
    "start_time": "2022-07-27T16:31:19.890Z"
   },
   {
    "duration": 29,
    "start_time": "2022-07-27T16:31:19.933Z"
   },
   {
    "duration": 15,
    "start_time": "2022-07-27T16:31:19.965Z"
   },
   {
    "duration": 45,
    "start_time": "2022-07-27T16:31:19.985Z"
   },
   {
    "duration": 20,
    "start_time": "2022-07-27T16:31:20.032Z"
   },
   {
    "duration": 10,
    "start_time": "2022-07-27T16:31:20.054Z"
   },
   {
    "duration": 37,
    "start_time": "2022-07-27T16:31:20.066Z"
   },
   {
    "duration": 30,
    "start_time": "2022-07-27T16:31:20.105Z"
   },
   {
    "duration": 12,
    "start_time": "2022-07-27T16:31:20.137Z"
   },
   {
    "duration": 40,
    "start_time": "2022-07-27T16:31:20.151Z"
   },
   {
    "duration": 27,
    "start_time": "2022-07-27T16:31:20.193Z"
   },
   {
    "duration": 21,
    "start_time": "2022-07-27T16:31:20.221Z"
   },
   {
    "duration": 28,
    "start_time": "2022-07-27T16:31:20.244Z"
   },
   {
    "duration": 17,
    "start_time": "2022-07-27T16:31:20.274Z"
   },
   {
    "duration": 44,
    "start_time": "2022-07-27T16:31:20.294Z"
   },
   {
    "duration": 11,
    "start_time": "2022-07-27T16:31:20.341Z"
   },
   {
    "duration": 42,
    "start_time": "2022-07-27T16:31:20.354Z"
   },
   {
    "duration": 21,
    "start_time": "2022-07-27T16:31:20.398Z"
   },
   {
    "duration": 26,
    "start_time": "2022-07-27T16:31:20.420Z"
   },
   {
    "duration": 26,
    "start_time": "2022-07-27T16:31:20.448Z"
   },
   {
    "duration": 31,
    "start_time": "2022-07-27T16:31:20.476Z"
   },
   {
    "duration": 15,
    "start_time": "2022-07-27T16:31:20.509Z"
   },
   {
    "duration": 25,
    "start_time": "2022-07-27T16:31:20.525Z"
   },
   {
    "duration": 35,
    "start_time": "2022-07-27T16:31:20.553Z"
   },
   {
    "duration": 21,
    "start_time": "2022-07-27T16:31:20.590Z"
   },
   {
    "duration": 23,
    "start_time": "2022-07-27T16:31:20.613Z"
   },
   {
    "duration": 98,
    "start_time": "2022-07-27T16:31:20.637Z"
   },
   {
    "duration": 0,
    "start_time": "2022-07-27T16:31:20.737Z"
   },
   {
    "duration": 0,
    "start_time": "2022-07-27T16:31:20.738Z"
   },
   {
    "duration": 0,
    "start_time": "2022-07-27T16:31:20.739Z"
   },
   {
    "duration": 0,
    "start_time": "2022-07-27T16:31:20.740Z"
   },
   {
    "duration": 0,
    "start_time": "2022-07-27T16:31:20.741Z"
   },
   {
    "duration": 0,
    "start_time": "2022-07-27T16:31:20.742Z"
   },
   {
    "duration": 0,
    "start_time": "2022-07-27T16:31:20.743Z"
   },
   {
    "duration": 0,
    "start_time": "2022-07-27T16:31:20.744Z"
   },
   {
    "duration": 0,
    "start_time": "2022-07-27T16:31:20.745Z"
   },
   {
    "duration": 0,
    "start_time": "2022-07-27T16:31:20.747Z"
   },
   {
    "duration": 13,
    "start_time": "2022-07-27T16:32:14.639Z"
   },
   {
    "duration": 826,
    "start_time": "2022-07-27T16:32:30.439Z"
   },
   {
    "duration": 965,
    "start_time": "2022-07-27T16:32:38.445Z"
   },
   {
    "duration": 19,
    "start_time": "2022-07-27T16:32:43.358Z"
   },
   {
    "duration": 16,
    "start_time": "2022-07-27T16:33:25.014Z"
   },
   {
    "duration": 9,
    "start_time": "2022-07-27T16:33:31.726Z"
   },
   {
    "duration": 23,
    "start_time": "2022-07-27T16:33:32.277Z"
   },
   {
    "duration": 4,
    "start_time": "2022-07-27T16:33:35.325Z"
   },
   {
    "duration": 25,
    "start_time": "2022-07-27T16:33:35.780Z"
   },
   {
    "duration": 12,
    "start_time": "2022-07-27T16:33:36.829Z"
   },
   {
    "duration": 4,
    "start_time": "2022-07-27T16:33:40.914Z"
   },
   {
    "duration": 10,
    "start_time": "2022-07-27T16:33:43.117Z"
   },
   {
    "duration": 3,
    "start_time": "2022-07-27T16:33:46.515Z"
   },
   {
    "duration": 32,
    "start_time": "2022-07-27T16:33:47.253Z"
   },
   {
    "duration": 3,
    "start_time": "2022-07-27T16:33:47.615Z"
   },
   {
    "duration": 8,
    "start_time": "2022-07-27T16:33:49.013Z"
   },
   {
    "duration": 3,
    "start_time": "2022-07-27T16:33:49.925Z"
   },
   {
    "duration": 26,
    "start_time": "2022-07-27T16:33:50.411Z"
   },
   {
    "duration": 17,
    "start_time": "2022-07-27T16:33:50.916Z"
   },
   {
    "duration": 11,
    "start_time": "2022-07-27T16:35:01.151Z"
   },
   {
    "duration": 10,
    "start_time": "2022-07-27T16:35:06.141Z"
   },
   {
    "duration": 9,
    "start_time": "2022-07-27T16:35:34.340Z"
   },
   {
    "duration": 7,
    "start_time": "2022-07-27T16:35:39.332Z"
   },
   {
    "duration": 8,
    "start_time": "2022-07-27T16:35:43.955Z"
   },
   {
    "duration": 15,
    "start_time": "2022-07-27T16:36:18.652Z"
   },
   {
    "duration": 16,
    "start_time": "2022-07-27T16:36:24.303Z"
   },
   {
    "duration": 16,
    "start_time": "2022-07-27T16:36:33.948Z"
   },
   {
    "duration": 13,
    "start_time": "2022-07-27T16:36:49.821Z"
   },
   {
    "duration": 9,
    "start_time": "2022-07-27T16:36:57.749Z"
   },
   {
    "duration": 8,
    "start_time": "2022-07-27T16:36:58.714Z"
   },
   {
    "duration": 10,
    "start_time": "2022-07-27T16:38:26.331Z"
   },
   {
    "duration": 199,
    "start_time": "2022-07-27T17:11:41.094Z"
   },
   {
    "duration": 11,
    "start_time": "2022-07-27T17:17:06.756Z"
   },
   {
    "duration": 189,
    "start_time": "2022-07-27T17:17:15.227Z"
   },
   {
    "duration": 13,
    "start_time": "2022-07-27T17:17:40.740Z"
   },
   {
    "duration": 10,
    "start_time": "2022-07-27T17:18:06.708Z"
   },
   {
    "duration": 9,
    "start_time": "2022-07-27T17:18:07.940Z"
   },
   {
    "duration": 11,
    "start_time": "2022-07-27T17:18:35.492Z"
   },
   {
    "duration": 13,
    "start_time": "2022-07-27T17:18:36.458Z"
   },
   {
    "duration": 11,
    "start_time": "2022-07-27T17:18:52.851Z"
   },
   {
    "duration": 12,
    "start_time": "2022-07-27T17:18:53.451Z"
   },
   {
    "duration": 17,
    "start_time": "2022-07-27T17:19:12.785Z"
   },
   {
    "duration": 15,
    "start_time": "2022-07-27T17:19:13.666Z"
   },
   {
    "duration": 9,
    "start_time": "2022-07-27T17:20:16.729Z"
   },
   {
    "duration": 8,
    "start_time": "2022-07-27T17:20:21.448Z"
   },
   {
    "duration": 11,
    "start_time": "2022-07-27T17:20:41.105Z"
   },
   {
    "duration": 16,
    "start_time": "2022-07-27T17:20:43.210Z"
   },
   {
    "duration": 137,
    "start_time": "2022-07-27T17:21:21.560Z"
   },
   {
    "duration": 135,
    "start_time": "2022-07-27T17:22:20.047Z"
   },
   {
    "duration": 11,
    "start_time": "2022-07-27T17:23:26.142Z"
   },
   {
    "duration": 9,
    "start_time": "2022-07-27T17:23:45.374Z"
   },
   {
    "duration": 27,
    "start_time": "2022-07-27T17:25:20.790Z"
   },
   {
    "duration": 7,
    "start_time": "2022-07-27T17:25:27.103Z"
   },
   {
    "duration": 19,
    "start_time": "2022-07-27T17:25:32.733Z"
   },
   {
    "duration": 148,
    "start_time": "2022-07-27T17:26:01.733Z"
   },
   {
    "duration": 144,
    "start_time": "2022-07-27T17:31:23.993Z"
   },
   {
    "duration": 15,
    "start_time": "2022-07-27T17:31:48.442Z"
   },
   {
    "duration": 9,
    "start_time": "2022-07-27T17:32:01.025Z"
   },
   {
    "duration": 7,
    "start_time": "2022-07-27T17:32:07.120Z"
   },
   {
    "duration": 65,
    "start_time": "2022-07-27T17:32:16.361Z"
   },
   {
    "duration": 131,
    "start_time": "2022-07-27T17:32:21.672Z"
   },
   {
    "duration": 6,
    "start_time": "2022-07-27T17:32:55.025Z"
   },
   {
    "duration": 135,
    "start_time": "2022-07-27T17:33:09.971Z"
   },
   {
    "duration": 2,
    "start_time": "2022-07-27T18:17:41.740Z"
   },
   {
    "duration": 33,
    "start_time": "2022-07-27T18:21:11.257Z"
   },
   {
    "duration": 8,
    "start_time": "2022-07-27T18:21:25.305Z"
   },
   {
    "duration": 3,
    "start_time": "2022-07-27T18:34:23.792Z"
   },
   {
    "duration": 5,
    "start_time": "2022-07-27T18:35:12.914Z"
   },
   {
    "duration": 4,
    "start_time": "2022-07-27T18:36:59.182Z"
   },
   {
    "duration": 7,
    "start_time": "2022-07-27T18:37:06.430Z"
   },
   {
    "duration": 3,
    "start_time": "2022-07-27T18:37:39.590Z"
   },
   {
    "duration": 2,
    "start_time": "2022-07-27T18:37:54.611Z"
   },
   {
    "duration": 4,
    "start_time": "2022-07-27T18:38:01.158Z"
   },
   {
    "duration": 6,
    "start_time": "2022-07-27T18:40:29.283Z"
   },
   {
    "duration": 6,
    "start_time": "2022-07-27T19:03:50.475Z"
   },
   {
    "duration": 134,
    "start_time": "2022-07-27T19:03:51.676Z"
   },
   {
    "duration": 9,
    "start_time": "2022-07-27T19:08:40.271Z"
   },
   {
    "duration": 4,
    "start_time": "2022-07-27T19:09:16.951Z"
   },
   {
    "duration": 6,
    "start_time": "2022-07-27T19:09:25.047Z"
   },
   {
    "duration": 5,
    "start_time": "2022-07-27T19:10:08.463Z"
   },
   {
    "duration": 173,
    "start_time": "2022-07-27T19:32:07.262Z"
   },
   {
    "duration": 135,
    "start_time": "2022-07-27T20:20:52.910Z"
   },
   {
    "duration": 9,
    "start_time": "2022-07-27T20:20:53.086Z"
   },
   {
    "duration": 3,
    "start_time": "2022-07-27T20:20:53.254Z"
   },
   {
    "duration": 16,
    "start_time": "2022-07-27T20:20:53.398Z"
   },
   {
    "duration": 131,
    "start_time": "2022-07-27T20:27:43.658Z"
   },
   {
    "duration": 8,
    "start_time": "2022-07-27T20:27:43.834Z"
   },
   {
    "duration": 4,
    "start_time": "2022-07-27T20:27:44.002Z"
   },
   {
    "duration": 5,
    "start_time": "2022-07-27T20:27:44.186Z"
   },
   {
    "duration": 21,
    "start_time": "2022-07-27T22:11:06.944Z"
   },
   {
    "duration": 201,
    "start_time": "2022-07-27T22:11:41.848Z"
   },
   {
    "duration": 9,
    "start_time": "2022-07-27T22:11:46.374Z"
   },
   {
    "duration": 3,
    "start_time": "2022-07-27T22:11:55.336Z"
   },
   {
    "duration": 6,
    "start_time": "2022-07-27T22:43:17.409Z"
   },
   {
    "duration": 4,
    "start_time": "2022-07-27T22:43:26.017Z"
   },
   {
    "duration": 145,
    "start_time": "2022-07-27T22:44:04.904Z"
   },
   {
    "duration": 9,
    "start_time": "2022-07-27T22:44:11.640Z"
   },
   {
    "duration": 4,
    "start_time": "2022-07-27T22:44:15.584Z"
   },
   {
    "duration": 5,
    "start_time": "2022-07-27T22:44:19.879Z"
   },
   {
    "duration": 4,
    "start_time": "2022-07-27T22:45:18.585Z"
   },
   {
    "duration": 21,
    "start_time": "2022-07-27T22:45:22.320Z"
   },
   {
    "duration": 7,
    "start_time": "2022-07-27T22:45:38.783Z"
   },
   {
    "duration": 6,
    "start_time": "2022-07-27T22:45:53.751Z"
   },
   {
    "duration": 21,
    "start_time": "2022-07-27T22:47:34.671Z"
   },
   {
    "duration": 48,
    "start_time": "2022-07-28T11:28:21.937Z"
   },
   {
    "duration": 6,
    "start_time": "2022-07-28T11:28:32.302Z"
   },
   {
    "duration": 444,
    "start_time": "2022-07-28T11:28:43.725Z"
   },
   {
    "duration": 830,
    "start_time": "2022-07-28T11:28:44.170Z"
   },
   {
    "duration": 2,
    "start_time": "2022-07-28T11:28:45.002Z"
   },
   {
    "duration": 48,
    "start_time": "2022-07-28T11:28:45.007Z"
   },
   {
    "duration": 12,
    "start_time": "2022-07-28T11:28:45.057Z"
   },
   {
    "duration": 20,
    "start_time": "2022-07-28T11:28:45.071Z"
   },
   {
    "duration": 54,
    "start_time": "2022-07-28T11:28:45.093Z"
   },
   {
    "duration": 16,
    "start_time": "2022-07-28T11:28:45.149Z"
   },
   {
    "duration": 67,
    "start_time": "2022-07-28T11:28:45.167Z"
   },
   {
    "duration": 24,
    "start_time": "2022-07-28T11:28:45.238Z"
   },
   {
    "duration": 9,
    "start_time": "2022-07-28T11:28:45.263Z"
   },
   {
    "duration": 15,
    "start_time": "2022-07-28T11:28:45.273Z"
   },
   {
    "duration": 562,
    "start_time": "2022-07-28T11:28:45.289Z"
   },
   {
    "duration": 192,
    "start_time": "2022-07-28T11:28:45.853Z"
   },
   {
    "duration": 190,
    "start_time": "2022-07-28T11:28:46.046Z"
   },
   {
    "duration": 43,
    "start_time": "2022-07-28T11:28:46.238Z"
   },
   {
    "duration": 10,
    "start_time": "2022-07-28T11:28:46.282Z"
   },
   {
    "duration": 17,
    "start_time": "2022-07-28T11:28:46.294Z"
   },
   {
    "duration": 7,
    "start_time": "2022-07-28T11:28:46.334Z"
   },
   {
    "duration": 24,
    "start_time": "2022-07-28T11:28:46.343Z"
   },
   {
    "duration": 19,
    "start_time": "2022-07-28T11:28:46.369Z"
   },
   {
    "duration": 3,
    "start_time": "2022-07-28T11:28:46.390Z"
   },
   {
    "duration": 12,
    "start_time": "2022-07-28T11:28:46.394Z"
   },
   {
    "duration": 30,
    "start_time": "2022-07-28T11:28:46.408Z"
   },
   {
    "duration": 9,
    "start_time": "2022-07-28T11:28:46.439Z"
   },
   {
    "duration": 29,
    "start_time": "2022-07-28T11:28:46.450Z"
   },
   {
    "duration": 3,
    "start_time": "2022-07-28T11:28:46.480Z"
   },
   {
    "duration": 23,
    "start_time": "2022-07-28T11:28:46.487Z"
   },
   {
    "duration": 10,
    "start_time": "2022-07-28T11:28:46.512Z"
   },
   {
    "duration": 27,
    "start_time": "2022-07-28T11:28:46.534Z"
   },
   {
    "duration": 23,
    "start_time": "2022-07-28T11:28:46.563Z"
   },
   {
    "duration": 4,
    "start_time": "2022-07-28T11:28:46.588Z"
   },
   {
    "duration": 18,
    "start_time": "2022-07-28T11:28:46.594Z"
   },
   {
    "duration": 38,
    "start_time": "2022-07-28T11:28:46.614Z"
   },
   {
    "duration": 13,
    "start_time": "2022-07-28T11:28:46.655Z"
   },
   {
    "duration": 12,
    "start_time": "2022-07-28T11:28:46.670Z"
   },
   {
    "duration": 11,
    "start_time": "2022-07-28T11:28:46.684Z"
   },
   {
    "duration": 12,
    "start_time": "2022-07-28T11:28:46.697Z"
   },
   {
    "duration": 23,
    "start_time": "2022-07-28T11:28:46.711Z"
   },
   {
    "duration": 13,
    "start_time": "2022-07-28T11:28:46.736Z"
   },
   {
    "duration": 34,
    "start_time": "2022-07-28T11:28:46.751Z"
   },
   {
    "duration": 10,
    "start_time": "2022-07-28T11:28:46.787Z"
   },
   {
    "duration": 11,
    "start_time": "2022-07-28T11:28:46.798Z"
   },
   {
    "duration": 28,
    "start_time": "2022-07-28T11:28:46.811Z"
   },
   {
    "duration": 12,
    "start_time": "2022-07-28T11:28:46.841Z"
   },
   {
    "duration": 15,
    "start_time": "2022-07-28T11:28:46.854Z"
   },
   {
    "duration": 11,
    "start_time": "2022-07-28T11:28:46.871Z"
   },
   {
    "duration": 14,
    "start_time": "2022-07-28T11:28:46.884Z"
   },
   {
    "duration": 40,
    "start_time": "2022-07-28T11:28:46.901Z"
   },
   {
    "duration": 23,
    "start_time": "2022-07-28T11:28:46.943Z"
   },
   {
    "duration": 5,
    "start_time": "2022-07-28T11:28:46.968Z"
   },
   {
    "duration": 21,
    "start_time": "2022-07-28T11:28:46.974Z"
   },
   {
    "duration": 44,
    "start_time": "2022-07-28T11:28:46.997Z"
   },
   {
    "duration": 27,
    "start_time": "2022-07-28T11:28:47.043Z"
   },
   {
    "duration": 12,
    "start_time": "2022-07-28T11:28:47.071Z"
   },
   {
    "duration": 6,
    "start_time": "2022-07-28T11:28:47.085Z"
   },
   {
    "duration": 13,
    "start_time": "2022-07-28T11:28:47.093Z"
   },
   {
    "duration": 4,
    "start_time": "2022-07-28T11:28:47.133Z"
   },
   {
    "duration": 36,
    "start_time": "2022-07-28T11:28:47.139Z"
   },
   {
    "duration": 4,
    "start_time": "2022-07-28T11:28:47.177Z"
   },
   {
    "duration": 11,
    "start_time": "2022-07-28T11:28:47.183Z"
   },
   {
    "duration": 3,
    "start_time": "2022-07-28T11:28:47.197Z"
   },
   {
    "duration": 52,
    "start_time": "2022-07-28T11:28:47.202Z"
   },
   {
    "duration": 15,
    "start_time": "2022-07-28T11:28:47.255Z"
   },
   {
    "duration": 9,
    "start_time": "2022-07-28T11:28:47.272Z"
   },
   {
    "duration": 204,
    "start_time": "2022-07-28T11:28:47.282Z"
   },
   {
    "duration": 6,
    "start_time": "2022-07-28T11:28:47.488Z"
   },
   {
    "duration": 5,
    "start_time": "2022-07-28T11:28:47.496Z"
   },
   {
    "duration": 11,
    "start_time": "2022-07-28T11:28:47.502Z"
   },
   {
    "duration": 20,
    "start_time": "2022-07-28T11:28:47.515Z"
   },
   {
    "duration": 10,
    "start_time": "2022-07-28T11:28:47.537Z"
   },
   {
    "duration": 10,
    "start_time": "2022-07-28T11:28:47.549Z"
   },
   {
    "duration": 143,
    "start_time": "2022-07-28T11:28:47.561Z"
   },
   {
    "duration": 8,
    "start_time": "2022-07-28T11:28:47.705Z"
   },
   {
    "duration": 19,
    "start_time": "2022-07-28T11:28:47.715Z"
   },
   {
    "duration": 7,
    "start_time": "2022-07-28T11:28:47.736Z"
   },
   {
    "duration": 124,
    "start_time": "2022-07-28T11:28:47.745Z"
   },
   {
    "duration": 9,
    "start_time": "2022-07-28T11:28:47.871Z"
   },
   {
    "duration": 4,
    "start_time": "2022-07-28T11:28:47.882Z"
   },
   {
    "duration": 17,
    "start_time": "2022-07-28T11:28:47.888Z"
   },
   {
    "duration": 85,
    "start_time": "2022-07-28T11:28:47.906Z"
   },
   {
    "duration": 0,
    "start_time": "2022-07-28T11:28:47.993Z"
   },
   {
    "duration": 0,
    "start_time": "2022-07-28T11:28:47.994Z"
   },
   {
    "duration": 0,
    "start_time": "2022-07-28T11:28:47.995Z"
   },
   {
    "duration": 0,
    "start_time": "2022-07-28T11:28:47.996Z"
   },
   {
    "duration": 0,
    "start_time": "2022-07-28T11:28:47.998Z"
   },
   {
    "duration": 0,
    "start_time": "2022-07-28T11:28:47.999Z"
   },
   {
    "duration": 0,
    "start_time": "2022-07-28T11:28:48.000Z"
   },
   {
    "duration": 0,
    "start_time": "2022-07-28T11:28:48.001Z"
   },
   {
    "duration": 0,
    "start_time": "2022-07-28T11:28:48.002Z"
   },
   {
    "duration": 0,
    "start_time": "2022-07-28T11:28:48.003Z"
   },
   {
    "duration": 0,
    "start_time": "2022-07-28T11:28:48.004Z"
   },
   {
    "duration": 0,
    "start_time": "2022-07-28T11:28:48.033Z"
   },
   {
    "duration": 0,
    "start_time": "2022-07-28T11:28:48.034Z"
   },
   {
    "duration": 0,
    "start_time": "2022-07-28T11:28:48.035Z"
   },
   {
    "duration": 0,
    "start_time": "2022-07-28T11:28:48.036Z"
   },
   {
    "duration": 148,
    "start_time": "2022-07-28T11:29:01.624Z"
   },
   {
    "duration": 7,
    "start_time": "2022-07-28T11:29:01.774Z"
   },
   {
    "duration": 42,
    "start_time": "2022-07-28T11:29:01.783Z"
   },
   {
    "duration": 22,
    "start_time": "2022-07-28T11:29:01.827Z"
   },
   {
    "duration": 170,
    "start_time": "2022-07-28T11:29:01.851Z"
   },
   {
    "duration": 12,
    "start_time": "2022-07-28T11:29:02.023Z"
   },
   {
    "duration": 31,
    "start_time": "2022-07-28T11:29:02.037Z"
   },
   {
    "duration": 6,
    "start_time": "2022-07-28T11:29:02.070Z"
   },
   {
    "duration": 140,
    "start_time": "2022-07-28T11:29:02.078Z"
   },
   {
    "duration": 18,
    "start_time": "2022-07-28T11:29:02.221Z"
   },
   {
    "duration": 6,
    "start_time": "2022-07-28T11:29:02.241Z"
   },
   {
    "duration": 9,
    "start_time": "2022-07-28T11:29:02.249Z"
   },
   {
    "duration": 30,
    "start_time": "2022-07-28T11:29:02.260Z"
   },
   {
    "duration": 10,
    "start_time": "2022-07-28T11:29:02.292Z"
   },
   {
    "duration": 10,
    "start_time": "2022-07-28T11:29:02.304Z"
   },
   {
    "duration": 13,
    "start_time": "2022-07-28T11:29:09.993Z"
   },
   {
    "duration": 7,
    "start_time": "2022-07-28T11:29:56.457Z"
   },
   {
    "duration": 6,
    "start_time": "2022-07-28T11:30:03.471Z"
   },
   {
    "duration": 32,
    "start_time": "2022-07-28T11:30:09.183Z"
   },
   {
    "duration": 9,
    "start_time": "2022-07-28T11:30:32.351Z"
   },
   {
    "duration": 5,
    "start_time": "2022-07-28T11:30:40.229Z"
   },
   {
    "duration": 7,
    "start_time": "2022-07-28T11:31:26.390Z"
   },
   {
    "duration": 7,
    "start_time": "2022-07-28T11:31:33.710Z"
   },
   {
    "duration": 4,
    "start_time": "2022-07-28T11:31:40.038Z"
   },
   {
    "duration": 7,
    "start_time": "2022-07-28T11:31:46.024Z"
   },
   {
    "duration": 12,
    "start_time": "2022-07-28T11:32:00.133Z"
   },
   {
    "duration": 8,
    "start_time": "2022-07-28T11:32:04.627Z"
   },
   {
    "duration": 9,
    "start_time": "2022-07-28T11:33:53.857Z"
   },
   {
    "duration": 6,
    "start_time": "2022-07-28T11:34:01.124Z"
   },
   {
    "duration": 6,
    "start_time": "2022-07-28T11:34:15.828Z"
   },
   {
    "duration": 5,
    "start_time": "2022-07-28T11:34:22.235Z"
   },
   {
    "duration": 6,
    "start_time": "2022-07-28T11:34:36.035Z"
   },
   {
    "duration": 9,
    "start_time": "2022-07-28T11:36:34.062Z"
   },
   {
    "duration": 545,
    "start_time": "2022-07-28T18:25:51.883Z"
   },
   {
    "duration": 3,
    "start_time": "2022-07-28T18:26:06.481Z"
   },
   {
    "duration": 3,
    "start_time": "2022-07-28T18:26:11.008Z"
   },
   {
    "duration": 36,
    "start_time": "2022-07-28T18:26:13.546Z"
   },
   {
    "duration": 8,
    "start_time": "2022-07-28T18:26:16.954Z"
   },
   {
    "duration": 10,
    "start_time": "2022-07-28T18:26:25.040Z"
   },
   {
    "duration": 9,
    "start_time": "2022-07-28T18:32:52.076Z"
   },
   {
    "duration": 2,
    "start_time": "2022-07-28T18:33:06.195Z"
   },
   {
    "duration": 10,
    "start_time": "2022-07-28T18:33:27.340Z"
   },
   {
    "duration": 8,
    "start_time": "2022-07-28T18:34:13.843Z"
   },
   {
    "duration": 9,
    "start_time": "2022-07-28T18:37:28.529Z"
   },
   {
    "duration": 5,
    "start_time": "2022-07-28T18:37:33.833Z"
   },
   {
    "duration": 5,
    "start_time": "2022-07-28T18:37:34.176Z"
   },
   {
    "duration": 3,
    "start_time": "2022-07-28T18:37:34.681Z"
   },
   {
    "duration": 3,
    "start_time": "2022-07-28T18:37:34.920Z"
   },
   {
    "duration": 750,
    "start_time": "2022-07-28T18:37:35.274Z"
   },
   {
    "duration": 359,
    "start_time": "2022-07-28T22:37:19.399Z"
   },
   {
    "duration": 873,
    "start_time": "2022-07-28T22:37:19.760Z"
   },
   {
    "duration": 3,
    "start_time": "2022-07-28T22:37:20.634Z"
   },
   {
    "duration": 75,
    "start_time": "2022-07-28T22:37:20.639Z"
   },
   {
    "duration": 19,
    "start_time": "2022-07-28T22:37:20.715Z"
   },
   {
    "duration": 25,
    "start_time": "2022-07-28T22:37:20.735Z"
   },
   {
    "duration": 58,
    "start_time": "2022-07-28T22:37:20.762Z"
   },
   {
    "duration": 12,
    "start_time": "2022-07-28T22:37:20.821Z"
   },
   {
    "duration": 64,
    "start_time": "2022-07-28T22:37:20.834Z"
   },
   {
    "duration": 17,
    "start_time": "2022-07-28T22:37:20.900Z"
   },
   {
    "duration": 17,
    "start_time": "2022-07-28T22:37:20.919Z"
   },
   {
    "duration": 54,
    "start_time": "2022-07-28T22:37:20.937Z"
   },
   {
    "duration": 551,
    "start_time": "2022-07-28T22:37:20.992Z"
   },
   {
    "duration": 195,
    "start_time": "2022-07-28T22:37:21.551Z"
   },
   {
    "duration": 167,
    "start_time": "2022-07-28T22:37:21.753Z"
   },
   {
    "duration": 44,
    "start_time": "2022-07-28T22:37:21.921Z"
   },
   {
    "duration": 10,
    "start_time": "2022-07-28T22:37:21.967Z"
   },
   {
    "duration": 22,
    "start_time": "2022-07-28T22:37:21.979Z"
   },
   {
    "duration": 11,
    "start_time": "2022-07-28T22:37:22.002Z"
   },
   {
    "duration": 29,
    "start_time": "2022-07-28T22:37:22.015Z"
   },
   {
    "duration": 24,
    "start_time": "2022-07-28T22:37:22.046Z"
   },
   {
    "duration": 19,
    "start_time": "2022-07-28T22:37:22.072Z"
   },
   {
    "duration": 20,
    "start_time": "2022-07-28T22:37:22.093Z"
   },
   {
    "duration": 13,
    "start_time": "2022-07-28T22:37:22.115Z"
   },
   {
    "duration": 49,
    "start_time": "2022-07-28T22:37:22.129Z"
   },
   {
    "duration": 29,
    "start_time": "2022-07-28T22:37:22.180Z"
   },
   {
    "duration": 7,
    "start_time": "2022-07-28T22:37:22.210Z"
   },
   {
    "duration": 22,
    "start_time": "2022-07-28T22:37:22.220Z"
   },
   {
    "duration": 37,
    "start_time": "2022-07-28T22:37:22.244Z"
   },
   {
    "duration": 33,
    "start_time": "2022-07-28T22:37:22.283Z"
   },
   {
    "duration": 13,
    "start_time": "2022-07-28T22:37:22.317Z"
   },
   {
    "duration": 5,
    "start_time": "2022-07-28T22:37:22.331Z"
   },
   {
    "duration": 30,
    "start_time": "2022-07-28T22:37:22.337Z"
   },
   {
    "duration": 37,
    "start_time": "2022-07-28T22:37:22.370Z"
   },
   {
    "duration": 9,
    "start_time": "2022-07-28T22:37:22.408Z"
   },
   {
    "duration": 14,
    "start_time": "2022-07-28T22:37:22.419Z"
   },
   {
    "duration": 16,
    "start_time": "2022-07-28T22:37:22.435Z"
   },
   {
    "duration": 54,
    "start_time": "2022-07-28T22:37:22.452Z"
   },
   {
    "duration": 9,
    "start_time": "2022-07-28T22:37:22.508Z"
   },
   {
    "duration": 26,
    "start_time": "2022-07-28T22:37:22.518Z"
   },
   {
    "duration": 61,
    "start_time": "2022-07-28T22:37:22.546Z"
   },
   {
    "duration": 9,
    "start_time": "2022-07-28T22:37:22.608Z"
   },
   {
    "duration": 25,
    "start_time": "2022-07-28T22:37:22.618Z"
   },
   {
    "duration": 40,
    "start_time": "2022-07-28T22:37:22.644Z"
   },
   {
    "duration": 21,
    "start_time": "2022-07-28T22:37:22.685Z"
   },
   {
    "duration": 28,
    "start_time": "2022-07-28T22:37:22.707Z"
   },
   {
    "duration": 11,
    "start_time": "2022-07-28T22:37:22.737Z"
   },
   {
    "duration": 36,
    "start_time": "2022-07-28T22:37:22.749Z"
   },
   {
    "duration": 12,
    "start_time": "2022-07-28T22:37:22.786Z"
   },
   {
    "duration": 28,
    "start_time": "2022-07-28T22:37:22.800Z"
   },
   {
    "duration": 14,
    "start_time": "2022-07-28T22:37:22.829Z"
   },
   {
    "duration": 49,
    "start_time": "2022-07-28T22:37:22.844Z"
   },
   {
    "duration": 31,
    "start_time": "2022-07-28T22:37:22.894Z"
   },
   {
    "duration": 37,
    "start_time": "2022-07-28T22:37:22.926Z"
   },
   {
    "duration": 13,
    "start_time": "2022-07-28T22:37:22.965Z"
   },
   {
    "duration": 15,
    "start_time": "2022-07-28T22:37:22.980Z"
   },
   {
    "duration": 22,
    "start_time": "2022-07-28T22:37:22.997Z"
   },
   {
    "duration": 15,
    "start_time": "2022-07-28T22:37:23.021Z"
   },
   {
    "duration": 35,
    "start_time": "2022-07-28T22:37:23.037Z"
   },
   {
    "duration": 17,
    "start_time": "2022-07-28T22:37:23.074Z"
   },
   {
    "duration": 9,
    "start_time": "2022-07-28T22:37:23.092Z"
   },
   {
    "duration": 3,
    "start_time": "2022-07-28T22:37:23.102Z"
   },
   {
    "duration": 33,
    "start_time": "2022-07-28T22:37:23.106Z"
   },
   {
    "duration": 14,
    "start_time": "2022-07-28T22:37:23.140Z"
   },
   {
    "duration": 33,
    "start_time": "2022-07-28T22:37:23.156Z"
   },
   {
    "duration": 195,
    "start_time": "2022-07-28T22:37:23.191Z"
   },
   {
    "duration": 5,
    "start_time": "2022-07-28T22:37:23.388Z"
   },
   {
    "duration": 5,
    "start_time": "2022-07-28T22:37:23.394Z"
   },
   {
    "duration": 8,
    "start_time": "2022-07-28T22:37:23.401Z"
   },
   {
    "duration": 3,
    "start_time": "2022-07-28T22:37:23.411Z"
   },
   {
    "duration": 5,
    "start_time": "2022-07-28T22:37:23.416Z"
   },
   {
    "duration": 6,
    "start_time": "2022-07-28T22:37:23.423Z"
   },
   {
    "duration": 138,
    "start_time": "2022-07-28T22:37:23.466Z"
   },
   {
    "duration": 7,
    "start_time": "2022-07-28T22:37:23.606Z"
   },
   {
    "duration": 8,
    "start_time": "2022-07-28T22:37:23.614Z"
   },
   {
    "duration": 5,
    "start_time": "2022-07-28T22:37:23.623Z"
   },
   {
    "duration": 125,
    "start_time": "2022-07-28T22:37:23.629Z"
   },
   {
    "duration": 10,
    "start_time": "2022-07-28T22:37:23.756Z"
   },
   {
    "duration": 5,
    "start_time": "2022-07-28T22:37:23.768Z"
   },
   {
    "duration": 21,
    "start_time": "2022-07-28T22:37:23.778Z"
   },
   {
    "duration": 125,
    "start_time": "2022-07-28T22:37:23.801Z"
   },
   {
    "duration": 7,
    "start_time": "2022-07-28T22:37:23.930Z"
   },
   {
    "duration": 5,
    "start_time": "2022-07-28T22:37:23.938Z"
   },
   {
    "duration": 14,
    "start_time": "2022-07-28T22:37:23.952Z"
   },
   {
    "duration": 128,
    "start_time": "2022-07-28T22:37:23.967Z"
   },
   {
    "duration": 7,
    "start_time": "2022-07-28T22:37:24.096Z"
   },
   {
    "duration": 5,
    "start_time": "2022-07-28T22:37:24.105Z"
   },
   {
    "duration": 5,
    "start_time": "2022-07-28T22:37:24.111Z"
   },
   {
    "duration": 139,
    "start_time": "2022-07-28T22:37:24.117Z"
   },
   {
    "duration": 8,
    "start_time": "2022-07-28T22:37:24.258Z"
   },
   {
    "duration": 19,
    "start_time": "2022-07-28T22:37:24.268Z"
   },
   {
    "duration": 5,
    "start_time": "2022-07-28T22:37:24.288Z"
   },
   {
    "duration": 16,
    "start_time": "2022-07-28T22:37:24.294Z"
   },
   {
    "duration": 9,
    "start_time": "2022-07-28T22:37:24.312Z"
   },
   {
    "duration": 6,
    "start_time": "2022-07-28T22:37:24.322Z"
   },
   {
    "duration": 5,
    "start_time": "2022-07-28T22:37:24.329Z"
   },
   {
    "duration": 23,
    "start_time": "2022-07-28T22:37:24.336Z"
   },
   {
    "duration": 14,
    "start_time": "2022-07-28T22:37:24.361Z"
   },
   {
    "duration": 12,
    "start_time": "2022-07-28T22:37:24.377Z"
   },
   {
    "duration": 500,
    "start_time": "2022-07-28T22:37:24.390Z"
   },
   {
    "duration": 2,
    "start_time": "2022-07-28T22:37:24.892Z"
   },
   {
    "duration": 4,
    "start_time": "2022-07-28T22:37:24.896Z"
   },
   {
    "duration": 10,
    "start_time": "2022-07-28T22:37:49.079Z"
   },
   {
    "duration": 8,
    "start_time": "2022-07-28T22:37:49.874Z"
   },
   {
    "duration": 19,
    "start_time": "2022-07-28T22:37:50.247Z"
   },
   {
    "duration": 6,
    "start_time": "2022-07-28T22:38:00.109Z"
   },
   {
    "duration": 24,
    "start_time": "2022-07-28T22:38:00.597Z"
   },
   {
    "duration": 94,
    "start_time": "2022-07-28T22:38:07.769Z"
   },
   {
    "duration": 18,
    "start_time": "2022-07-28T22:38:08.694Z"
   },
   {
    "duration": 7,
    "start_time": "2022-07-28T22:38:13.917Z"
   },
   {
    "duration": 17,
    "start_time": "2022-07-28T22:38:15.999Z"
   },
   {
    "duration": 7,
    "start_time": "2022-07-28T22:39:29.445Z"
   },
   {
    "duration": 14,
    "start_time": "2022-07-28T22:39:30.133Z"
   },
   {
    "duration": 17,
    "start_time": "2022-07-28T22:39:41.196Z"
   },
   {
    "duration": 7,
    "start_time": "2022-07-28T22:39:47.084Z"
   },
   {
    "duration": 22,
    "start_time": "2022-07-28T22:39:48.757Z"
   },
   {
    "duration": 9,
    "start_time": "2022-07-28T22:39:55.299Z"
   },
   {
    "duration": 15,
    "start_time": "2022-07-28T22:39:55.701Z"
   },
   {
    "duration": 8,
    "start_time": "2022-07-28T22:40:00.524Z"
   },
   {
    "duration": 14,
    "start_time": "2022-07-28T22:40:01.907Z"
   },
   {
    "duration": 21,
    "start_time": "2022-07-28T22:40:21.339Z"
   },
   {
    "duration": 7,
    "start_time": "2022-07-28T22:41:08.918Z"
   },
   {
    "duration": 14,
    "start_time": "2022-07-28T22:41:10.419Z"
   },
   {
    "duration": 14,
    "start_time": "2022-07-28T22:41:22.204Z"
   },
   {
    "duration": 16,
    "start_time": "2022-07-28T22:41:25.083Z"
   },
   {
    "duration": 187,
    "start_time": "2022-07-28T22:45:04.776Z"
   },
   {
    "duration": 165,
    "start_time": "2022-07-28T22:49:55.302Z"
   },
   {
    "duration": 8,
    "start_time": "2022-07-29T22:01:29.123Z"
   },
   {
    "duration": 444,
    "start_time": "2022-07-31T13:48:59.753Z"
   },
   {
    "duration": 847,
    "start_time": "2022-07-31T13:49:00.199Z"
   },
   {
    "duration": 3,
    "start_time": "2022-07-31T13:49:01.048Z"
   },
   {
    "duration": 58,
    "start_time": "2022-07-31T13:49:01.054Z"
   },
   {
    "duration": 15,
    "start_time": "2022-07-31T13:49:01.114Z"
   },
   {
    "duration": 24,
    "start_time": "2022-07-31T13:49:01.131Z"
   },
   {
    "duration": 41,
    "start_time": "2022-07-31T13:49:01.158Z"
   },
   {
    "duration": 30,
    "start_time": "2022-07-31T13:49:01.201Z"
   },
   {
    "duration": 48,
    "start_time": "2022-07-31T13:49:01.233Z"
   },
   {
    "duration": 40,
    "start_time": "2022-07-31T13:49:01.284Z"
   },
   {
    "duration": 4,
    "start_time": "2022-07-31T13:49:01.326Z"
   },
   {
    "duration": 15,
    "start_time": "2022-07-31T13:49:01.332Z"
   },
   {
    "duration": 568,
    "start_time": "2022-07-31T13:49:01.348Z"
   },
   {
    "duration": 210,
    "start_time": "2022-07-31T13:49:01.923Z"
   },
   {
    "duration": 189,
    "start_time": "2022-07-31T13:49:02.135Z"
   },
   {
    "duration": 44,
    "start_time": "2022-07-31T13:49:02.327Z"
   },
   {
    "duration": 9,
    "start_time": "2022-07-31T13:49:02.372Z"
   },
   {
    "duration": 40,
    "start_time": "2022-07-31T13:49:02.383Z"
   },
   {
    "duration": 9,
    "start_time": "2022-07-31T13:49:02.425Z"
   },
   {
    "duration": 24,
    "start_time": "2022-07-31T13:49:02.436Z"
   },
   {
    "duration": 21,
    "start_time": "2022-07-31T13:49:02.462Z"
   },
   {
    "duration": 3,
    "start_time": "2022-07-31T13:49:02.486Z"
   },
   {
    "duration": 33,
    "start_time": "2022-07-31T13:49:02.491Z"
   },
   {
    "duration": 11,
    "start_time": "2022-07-31T13:49:02.526Z"
   },
   {
    "duration": 7,
    "start_time": "2022-07-31T13:49:02.539Z"
   },
   {
    "duration": 21,
    "start_time": "2022-07-31T13:49:02.548Z"
   },
   {
    "duration": 4,
    "start_time": "2022-07-31T13:49:02.571Z"
   },
   {
    "duration": 47,
    "start_time": "2022-07-31T13:49:02.580Z"
   },
   {
    "duration": 15,
    "start_time": "2022-07-31T13:49:02.629Z"
   },
   {
    "duration": 46,
    "start_time": "2022-07-31T13:49:02.646Z"
   },
   {
    "duration": 30,
    "start_time": "2022-07-31T13:49:02.693Z"
   },
   {
    "duration": 5,
    "start_time": "2022-07-31T13:49:02.726Z"
   },
   {
    "duration": 27,
    "start_time": "2022-07-31T13:49:02.733Z"
   },
   {
    "duration": 33,
    "start_time": "2022-07-31T13:49:02.762Z"
   },
   {
    "duration": 12,
    "start_time": "2022-07-31T13:49:02.797Z"
   },
   {
    "duration": 19,
    "start_time": "2022-07-31T13:49:02.811Z"
   },
   {
    "duration": 8,
    "start_time": "2022-07-31T13:49:02.832Z"
   },
   {
    "duration": 20,
    "start_time": "2022-07-31T13:49:02.842Z"
   },
   {
    "duration": 9,
    "start_time": "2022-07-31T13:49:02.864Z"
   },
   {
    "duration": 16,
    "start_time": "2022-07-31T13:49:02.875Z"
   },
   {
    "duration": 53,
    "start_time": "2022-07-31T13:49:02.893Z"
   },
   {
    "duration": 8,
    "start_time": "2022-07-31T13:49:02.948Z"
   },
   {
    "duration": 11,
    "start_time": "2022-07-31T13:49:02.958Z"
   },
   {
    "duration": 24,
    "start_time": "2022-07-31T13:49:02.970Z"
   },
   {
    "duration": 27,
    "start_time": "2022-07-31T13:49:02.996Z"
   },
   {
    "duration": 19,
    "start_time": "2022-07-31T13:49:03.025Z"
   },
   {
    "duration": 14,
    "start_time": "2022-07-31T13:49:03.045Z"
   },
   {
    "duration": 18,
    "start_time": "2022-07-31T13:49:03.061Z"
   },
   {
    "duration": 10,
    "start_time": "2022-07-31T13:49:03.081Z"
   },
   {
    "duration": 40,
    "start_time": "2022-07-31T13:49:03.093Z"
   },
   {
    "duration": 23,
    "start_time": "2022-07-31T13:49:03.135Z"
   },
   {
    "duration": 10,
    "start_time": "2022-07-31T13:49:03.160Z"
   },
   {
    "duration": 14,
    "start_time": "2022-07-31T13:49:03.172Z"
   },
   {
    "duration": 37,
    "start_time": "2022-07-31T13:49:03.189Z"
   },
   {
    "duration": 33,
    "start_time": "2022-07-31T13:49:03.228Z"
   },
   {
    "duration": 14,
    "start_time": "2022-07-31T13:49:03.263Z"
   },
   {
    "duration": 8,
    "start_time": "2022-07-31T13:49:03.280Z"
   },
   {
    "duration": 35,
    "start_time": "2022-07-31T13:49:03.290Z"
   },
   {
    "duration": 8,
    "start_time": "2022-07-31T13:49:03.327Z"
   },
   {
    "duration": 37,
    "start_time": "2022-07-31T13:49:03.336Z"
   },
   {
    "duration": 3,
    "start_time": "2022-07-31T13:49:03.375Z"
   },
   {
    "duration": 13,
    "start_time": "2022-07-31T13:49:03.381Z"
   },
   {
    "duration": 6,
    "start_time": "2022-07-31T13:49:03.396Z"
   },
   {
    "duration": 44,
    "start_time": "2022-07-31T13:49:03.404Z"
   },
   {
    "duration": 19,
    "start_time": "2022-07-31T13:49:03.450Z"
   },
   {
    "duration": 7,
    "start_time": "2022-07-31T13:49:03.470Z"
   },
   {
    "duration": 77,
    "start_time": "2022-07-31T13:49:03.479Z"
   },
   {
    "duration": 0,
    "start_time": "2022-07-31T13:49:03.558Z"
   },
   {
    "duration": 0,
    "start_time": "2022-07-31T13:49:03.560Z"
   },
   {
    "duration": 0,
    "start_time": "2022-07-31T13:49:03.561Z"
   },
   {
    "duration": 0,
    "start_time": "2022-07-31T13:49:03.562Z"
   },
   {
    "duration": 0,
    "start_time": "2022-07-31T13:49:03.563Z"
   },
   {
    "duration": 0,
    "start_time": "2022-07-31T13:49:03.565Z"
   },
   {
    "duration": 0,
    "start_time": "2022-07-31T13:49:03.566Z"
   },
   {
    "duration": 0,
    "start_time": "2022-07-31T13:49:03.567Z"
   },
   {
    "duration": 0,
    "start_time": "2022-07-31T13:49:03.568Z"
   },
   {
    "duration": 0,
    "start_time": "2022-07-31T13:49:03.569Z"
   },
   {
    "duration": 0,
    "start_time": "2022-07-31T13:49:03.571Z"
   },
   {
    "duration": 0,
    "start_time": "2022-07-31T13:49:03.572Z"
   },
   {
    "duration": 0,
    "start_time": "2022-07-31T13:49:03.573Z"
   },
   {
    "duration": 0,
    "start_time": "2022-07-31T13:49:03.574Z"
   },
   {
    "duration": 0,
    "start_time": "2022-07-31T13:49:03.575Z"
   },
   {
    "duration": 0,
    "start_time": "2022-07-31T13:49:03.576Z"
   },
   {
    "duration": 0,
    "start_time": "2022-07-31T13:49:03.577Z"
   },
   {
    "duration": 0,
    "start_time": "2022-07-31T13:49:03.578Z"
   },
   {
    "duration": 0,
    "start_time": "2022-07-31T13:49:03.579Z"
   },
   {
    "duration": 0,
    "start_time": "2022-07-31T13:49:03.580Z"
   },
   {
    "duration": 0,
    "start_time": "2022-07-31T13:49:03.581Z"
   },
   {
    "duration": 0,
    "start_time": "2022-07-31T13:49:03.582Z"
   },
   {
    "duration": 0,
    "start_time": "2022-07-31T13:49:03.583Z"
   },
   {
    "duration": 0,
    "start_time": "2022-07-31T13:49:03.584Z"
   },
   {
    "duration": 0,
    "start_time": "2022-07-31T13:49:03.585Z"
   },
   {
    "duration": 0,
    "start_time": "2022-07-31T13:49:03.586Z"
   },
   {
    "duration": 0,
    "start_time": "2022-07-31T13:49:03.587Z"
   },
   {
    "duration": 0,
    "start_time": "2022-07-31T13:49:03.588Z"
   },
   {
    "duration": 0,
    "start_time": "2022-07-31T13:49:03.589Z"
   },
   {
    "duration": 0,
    "start_time": "2022-07-31T13:49:03.590Z"
   },
   {
    "duration": 0,
    "start_time": "2022-07-31T13:49:03.591Z"
   },
   {
    "duration": 0,
    "start_time": "2022-07-31T13:49:03.592Z"
   },
   {
    "duration": 0,
    "start_time": "2022-07-31T13:49:03.593Z"
   },
   {
    "duration": 0,
    "start_time": "2022-07-31T13:49:03.594Z"
   },
   {
    "duration": 1,
    "start_time": "2022-07-31T13:49:03.595Z"
   },
   {
    "duration": 0,
    "start_time": "2022-07-31T13:49:03.596Z"
   },
   {
    "duration": 0,
    "start_time": "2022-07-31T13:49:03.624Z"
   },
   {
    "duration": 0,
    "start_time": "2022-07-31T13:49:03.625Z"
   },
   {
    "duration": 77,
    "start_time": "2022-07-31T14:02:59.396Z"
   },
   {
    "duration": 61,
    "start_time": "2022-07-31T14:03:30.943Z"
   },
   {
    "duration": 49,
    "start_time": "2022-07-31T14:03:38.566Z"
   },
   {
    "duration": 494,
    "start_time": "2022-07-31T14:03:54.697Z"
   },
   {
    "duration": 336,
    "start_time": "2022-07-31T14:03:55.193Z"
   },
   {
    "duration": 4,
    "start_time": "2022-07-31T14:03:55.531Z"
   },
   {
    "duration": 52,
    "start_time": "2022-07-31T14:03:55.537Z"
   },
   {
    "duration": 11,
    "start_time": "2022-07-31T14:03:55.592Z"
   },
   {
    "duration": 34,
    "start_time": "2022-07-31T14:03:55.605Z"
   },
   {
    "duration": 34,
    "start_time": "2022-07-31T14:03:55.641Z"
   },
   {
    "duration": 16,
    "start_time": "2022-07-31T14:03:55.677Z"
   },
   {
    "duration": 83,
    "start_time": "2022-07-31T14:03:55.695Z"
   },
   {
    "duration": 46,
    "start_time": "2022-07-31T14:03:55.782Z"
   },
   {
    "duration": 13,
    "start_time": "2022-07-31T14:03:55.830Z"
   },
   {
    "duration": 14,
    "start_time": "2022-07-31T14:03:55.845Z"
   },
   {
    "duration": 403,
    "start_time": "2022-07-31T14:03:55.862Z"
   },
   {
    "duration": 218,
    "start_time": "2022-07-31T14:03:56.267Z"
   },
   {
    "duration": 226,
    "start_time": "2022-07-31T14:03:56.487Z"
   },
   {
    "duration": 61,
    "start_time": "2022-07-31T14:03:56.716Z"
   },
   {
    "duration": 10,
    "start_time": "2022-07-31T14:03:56.779Z"
   },
   {
    "duration": 37,
    "start_time": "2022-07-31T14:03:56.791Z"
   },
   {
    "duration": 7,
    "start_time": "2022-07-31T14:03:56.830Z"
   },
   {
    "duration": 28,
    "start_time": "2022-07-31T14:03:56.839Z"
   },
   {
    "duration": 21,
    "start_time": "2022-07-31T14:03:56.869Z"
   },
   {
    "duration": 3,
    "start_time": "2022-07-31T14:03:56.892Z"
   },
   {
    "duration": 14,
    "start_time": "2022-07-31T14:03:56.923Z"
   },
   {
    "duration": 17,
    "start_time": "2022-07-31T14:03:56.940Z"
   },
   {
    "duration": 11,
    "start_time": "2022-07-31T14:03:56.959Z"
   },
   {
    "duration": 29,
    "start_time": "2022-07-31T14:03:56.972Z"
   },
   {
    "duration": 22,
    "start_time": "2022-07-31T14:03:57.003Z"
   },
   {
    "duration": 17,
    "start_time": "2022-07-31T14:03:57.030Z"
   },
   {
    "duration": 13,
    "start_time": "2022-07-31T14:03:57.049Z"
   },
   {
    "duration": 30,
    "start_time": "2022-07-31T14:03:57.064Z"
   },
   {
    "duration": 35,
    "start_time": "2022-07-31T14:03:57.097Z"
   },
   {
    "duration": 4,
    "start_time": "2022-07-31T14:03:57.134Z"
   },
   {
    "duration": 19,
    "start_time": "2022-07-31T14:03:57.139Z"
   },
   {
    "duration": 25,
    "start_time": "2022-07-31T14:03:57.160Z"
   },
   {
    "duration": 40,
    "start_time": "2022-07-31T14:03:57.187Z"
   },
   {
    "duration": 7,
    "start_time": "2022-07-31T14:03:57.230Z"
   },
   {
    "duration": 9,
    "start_time": "2022-07-31T14:03:57.240Z"
   },
   {
    "duration": 16,
    "start_time": "2022-07-31T14:03:57.250Z"
   },
   {
    "duration": 9,
    "start_time": "2022-07-31T14:03:57.268Z"
   },
   {
    "duration": 48,
    "start_time": "2022-07-31T14:03:57.280Z"
   },
   {
    "duration": 43,
    "start_time": "2022-07-31T14:03:57.330Z"
   },
   {
    "duration": 7,
    "start_time": "2022-07-31T14:03:57.375Z"
   },
   {
    "duration": 12,
    "start_time": "2022-07-31T14:03:57.383Z"
   },
   {
    "duration": 36,
    "start_time": "2022-07-31T14:03:57.398Z"
   },
   {
    "duration": 16,
    "start_time": "2022-07-31T14:03:57.436Z"
   },
   {
    "duration": 24,
    "start_time": "2022-07-31T14:03:57.454Z"
   },
   {
    "duration": 43,
    "start_time": "2022-07-31T14:03:57.481Z"
   },
   {
    "duration": 11,
    "start_time": "2022-07-31T14:03:57.526Z"
   },
   {
    "duration": 9,
    "start_time": "2022-07-31T14:03:57.540Z"
   },
   {
    "duration": 19,
    "start_time": "2022-07-31T14:03:57.551Z"
   },
   {
    "duration": 52,
    "start_time": "2022-07-31T14:03:57.573Z"
   },
   {
    "duration": 4,
    "start_time": "2022-07-31T14:03:57.627Z"
   },
   {
    "duration": 19,
    "start_time": "2022-07-31T14:03:57.633Z"
   },
   {
    "duration": 20,
    "start_time": "2022-07-31T14:03:57.654Z"
   },
   {
    "duration": 52,
    "start_time": "2022-07-31T14:03:57.675Z"
   },
   {
    "duration": 13,
    "start_time": "2022-07-31T14:03:57.729Z"
   },
   {
    "duration": 5,
    "start_time": "2022-07-31T14:03:57.745Z"
   },
   {
    "duration": 16,
    "start_time": "2022-07-31T14:03:57.752Z"
   },
   {
    "duration": 7,
    "start_time": "2022-07-31T14:03:57.770Z"
   },
   {
    "duration": 49,
    "start_time": "2022-07-31T14:03:57.778Z"
   },
   {
    "duration": 4,
    "start_time": "2022-07-31T14:03:57.829Z"
   },
   {
    "duration": 14,
    "start_time": "2022-07-31T14:03:57.835Z"
   },
   {
    "duration": 4,
    "start_time": "2022-07-31T14:03:57.851Z"
   },
   {
    "duration": 31,
    "start_time": "2022-07-31T14:03:57.857Z"
   },
   {
    "duration": 44,
    "start_time": "2022-07-31T14:03:57.890Z"
   },
   {
    "duration": 6,
    "start_time": "2022-07-31T14:03:57.936Z"
   },
   {
    "duration": 51,
    "start_time": "2022-07-31T14:03:57.944Z"
   },
   {
    "duration": 0,
    "start_time": "2022-07-31T14:03:57.998Z"
   },
   {
    "duration": 0,
    "start_time": "2022-07-31T14:03:57.999Z"
   },
   {
    "duration": 0,
    "start_time": "2022-07-31T14:03:58.001Z"
   },
   {
    "duration": 0,
    "start_time": "2022-07-31T14:03:58.002Z"
   },
   {
    "duration": 0,
    "start_time": "2022-07-31T14:03:58.004Z"
   },
   {
    "duration": 0,
    "start_time": "2022-07-31T14:03:58.006Z"
   },
   {
    "duration": 0,
    "start_time": "2022-07-31T14:03:58.007Z"
   },
   {
    "duration": 0,
    "start_time": "2022-07-31T14:03:58.008Z"
   },
   {
    "duration": 0,
    "start_time": "2022-07-31T14:03:58.009Z"
   },
   {
    "duration": 0,
    "start_time": "2022-07-31T14:03:58.010Z"
   },
   {
    "duration": 0,
    "start_time": "2022-07-31T14:03:58.012Z"
   },
   {
    "duration": 0,
    "start_time": "2022-07-31T14:03:58.014Z"
   },
   {
    "duration": 0,
    "start_time": "2022-07-31T14:03:58.015Z"
   },
   {
    "duration": 0,
    "start_time": "2022-07-31T14:03:58.017Z"
   },
   {
    "duration": 0,
    "start_time": "2022-07-31T14:03:58.018Z"
   },
   {
    "duration": 0,
    "start_time": "2022-07-31T14:03:58.019Z"
   },
   {
    "duration": 0,
    "start_time": "2022-07-31T14:03:58.020Z"
   },
   {
    "duration": 0,
    "start_time": "2022-07-31T14:03:58.023Z"
   },
   {
    "duration": 0,
    "start_time": "2022-07-31T14:03:58.024Z"
   },
   {
    "duration": 0,
    "start_time": "2022-07-31T14:03:58.026Z"
   },
   {
    "duration": 0,
    "start_time": "2022-07-31T14:03:58.028Z"
   },
   {
    "duration": 0,
    "start_time": "2022-07-31T14:03:58.030Z"
   },
   {
    "duration": 0,
    "start_time": "2022-07-31T14:03:58.031Z"
   },
   {
    "duration": 0,
    "start_time": "2022-07-31T14:03:58.032Z"
   },
   {
    "duration": 0,
    "start_time": "2022-07-31T14:03:58.033Z"
   },
   {
    "duration": 0,
    "start_time": "2022-07-31T14:03:58.034Z"
   },
   {
    "duration": 0,
    "start_time": "2022-07-31T14:03:58.036Z"
   },
   {
    "duration": 0,
    "start_time": "2022-07-31T14:03:58.037Z"
   },
   {
    "duration": 0,
    "start_time": "2022-07-31T14:03:58.038Z"
   },
   {
    "duration": 0,
    "start_time": "2022-07-31T14:03:58.040Z"
   },
   {
    "duration": 0,
    "start_time": "2022-07-31T14:03:58.041Z"
   },
   {
    "duration": 0,
    "start_time": "2022-07-31T14:03:58.042Z"
   },
   {
    "duration": 0,
    "start_time": "2022-07-31T14:03:58.044Z"
   },
   {
    "duration": 0,
    "start_time": "2022-07-31T14:03:58.046Z"
   },
   {
    "duration": 0,
    "start_time": "2022-07-31T14:03:58.048Z"
   },
   {
    "duration": 0,
    "start_time": "2022-07-31T14:03:58.049Z"
   },
   {
    "duration": 0,
    "start_time": "2022-07-31T14:03:58.051Z"
   },
   {
    "duration": 0,
    "start_time": "2022-07-31T14:03:58.053Z"
   },
   {
    "duration": 51,
    "start_time": "2022-07-31T14:06:22.952Z"
   },
   {
    "duration": 65,
    "start_time": "2022-07-31T14:06:55.066Z"
   },
   {
    "duration": 50,
    "start_time": "2022-07-31T14:07:58.474Z"
   },
   {
    "duration": 69,
    "start_time": "2022-07-31T14:08:33.512Z"
   },
   {
    "duration": 65,
    "start_time": "2022-07-31T14:09:10.193Z"
   },
   {
    "duration": 5,
    "start_time": "2022-07-31T14:09:15.344Z"
   },
   {
    "duration": 55,
    "start_time": "2022-07-31T14:10:17.529Z"
   },
   {
    "duration": 55,
    "start_time": "2022-07-31T14:10:23.863Z"
   },
   {
    "duration": 57,
    "start_time": "2022-07-31T14:14:09.612Z"
   },
   {
    "duration": 53,
    "start_time": "2022-07-31T14:16:28.843Z"
   },
   {
    "duration": 461,
    "start_time": "2022-07-31T14:16:38.955Z"
   },
   {
    "duration": 313,
    "start_time": "2022-07-31T14:16:39.418Z"
   },
   {
    "duration": 3,
    "start_time": "2022-07-31T14:16:39.733Z"
   },
   {
    "duration": 64,
    "start_time": "2022-07-31T14:16:39.739Z"
   },
   {
    "duration": 12,
    "start_time": "2022-07-31T14:16:39.806Z"
   },
   {
    "duration": 43,
    "start_time": "2022-07-31T14:16:39.820Z"
   },
   {
    "duration": 35,
    "start_time": "2022-07-31T14:16:39.865Z"
   },
   {
    "duration": 16,
    "start_time": "2022-07-31T14:16:39.901Z"
   },
   {
    "duration": 58,
    "start_time": "2022-07-31T14:16:39.918Z"
   },
   {
    "duration": 22,
    "start_time": "2022-07-31T14:16:39.979Z"
   },
   {
    "duration": 23,
    "start_time": "2022-07-31T14:16:40.003Z"
   },
   {
    "duration": 37,
    "start_time": "2022-07-31T14:16:40.028Z"
   },
   {
    "duration": 380,
    "start_time": "2022-07-31T14:16:40.067Z"
   },
   {
    "duration": 204,
    "start_time": "2022-07-31T14:16:40.449Z"
   },
   {
    "duration": 190,
    "start_time": "2022-07-31T14:16:40.655Z"
   },
   {
    "duration": 44,
    "start_time": "2022-07-31T14:16:40.846Z"
   },
   {
    "duration": 8,
    "start_time": "2022-07-31T14:16:40.892Z"
   },
   {
    "duration": 47,
    "start_time": "2022-07-31T14:16:40.902Z"
   },
   {
    "duration": 21,
    "start_time": "2022-07-31T14:16:40.951Z"
   },
   {
    "duration": 31,
    "start_time": "2022-07-31T14:16:40.974Z"
   },
   {
    "duration": 38,
    "start_time": "2022-07-31T14:16:41.007Z"
   },
   {
    "duration": 20,
    "start_time": "2022-07-31T14:16:41.048Z"
   },
   {
    "duration": 24,
    "start_time": "2022-07-31T14:16:41.069Z"
   },
   {
    "duration": 22,
    "start_time": "2022-07-31T14:16:41.095Z"
   },
   {
    "duration": 32,
    "start_time": "2022-07-31T14:16:41.118Z"
   },
   {
    "duration": 38,
    "start_time": "2022-07-31T14:16:41.152Z"
   },
   {
    "duration": 4,
    "start_time": "2022-07-31T14:16:41.192Z"
   },
   {
    "duration": 30,
    "start_time": "2022-07-31T14:16:41.201Z"
   },
   {
    "duration": 28,
    "start_time": "2022-07-31T14:16:41.233Z"
   },
   {
    "duration": 57,
    "start_time": "2022-07-31T14:16:41.264Z"
   },
   {
    "duration": 37,
    "start_time": "2022-07-31T14:16:41.323Z"
   },
   {
    "duration": 33,
    "start_time": "2022-07-31T14:16:41.362Z"
   },
   {
    "duration": 30,
    "start_time": "2022-07-31T14:16:41.397Z"
   },
   {
    "duration": 41,
    "start_time": "2022-07-31T14:16:41.428Z"
   },
   {
    "duration": 12,
    "start_time": "2022-07-31T14:16:41.472Z"
   },
   {
    "duration": 20,
    "start_time": "2022-07-31T14:16:41.486Z"
   },
   {
    "duration": 38,
    "start_time": "2022-07-31T14:16:41.508Z"
   },
   {
    "duration": 37,
    "start_time": "2022-07-31T14:16:41.547Z"
   },
   {
    "duration": 13,
    "start_time": "2022-07-31T14:16:41.586Z"
   },
   {
    "duration": 35,
    "start_time": "2022-07-31T14:16:41.601Z"
   },
   {
    "duration": 45,
    "start_time": "2022-07-31T14:16:41.638Z"
   },
   {
    "duration": 31,
    "start_time": "2022-07-31T14:16:41.684Z"
   },
   {
    "duration": 16,
    "start_time": "2022-07-31T14:16:41.716Z"
   },
   {
    "duration": 41,
    "start_time": "2022-07-31T14:16:41.734Z"
   },
   {
    "duration": 17,
    "start_time": "2022-07-31T14:16:41.777Z"
   },
   {
    "duration": 25,
    "start_time": "2022-07-31T14:16:41.795Z"
   },
   {
    "duration": 14,
    "start_time": "2022-07-31T14:16:41.822Z"
   },
   {
    "duration": 32,
    "start_time": "2022-07-31T14:16:41.838Z"
   },
   {
    "duration": 27,
    "start_time": "2022-07-31T14:16:41.872Z"
   },
   {
    "duration": 27,
    "start_time": "2022-07-31T14:16:41.901Z"
   },
   {
    "duration": 34,
    "start_time": "2022-07-31T14:16:41.930Z"
   },
   {
    "duration": 20,
    "start_time": "2022-07-31T14:16:41.965Z"
   },
   {
    "duration": 15,
    "start_time": "2022-07-31T14:16:41.987Z"
   },
   {
    "duration": 17,
    "start_time": "2022-07-31T14:16:42.004Z"
   },
   {
    "duration": 29,
    "start_time": "2022-07-31T14:16:42.022Z"
   },
   {
    "duration": 14,
    "start_time": "2022-07-31T14:16:42.052Z"
   },
   {
    "duration": 5,
    "start_time": "2022-07-31T14:16:42.070Z"
   },
   {
    "duration": 14,
    "start_time": "2022-07-31T14:16:42.077Z"
   },
   {
    "duration": 30,
    "start_time": "2022-07-31T14:16:42.093Z"
   },
   {
    "duration": 27,
    "start_time": "2022-07-31T14:16:42.125Z"
   },
   {
    "duration": 3,
    "start_time": "2022-07-31T14:16:42.154Z"
   },
   {
    "duration": 10,
    "start_time": "2022-07-31T14:16:42.159Z"
   },
   {
    "duration": 4,
    "start_time": "2022-07-31T14:16:42.172Z"
   },
   {
    "duration": 59,
    "start_time": "2022-07-31T14:16:42.178Z"
   },
   {
    "duration": 17,
    "start_time": "2022-07-31T14:16:42.239Z"
   },
   {
    "duration": 5,
    "start_time": "2022-07-31T14:16:42.258Z"
   },
   {
    "duration": 5,
    "start_time": "2022-07-31T14:16:42.265Z"
   },
   {
    "duration": 63,
    "start_time": "2022-07-31T14:16:42.272Z"
   },
   {
    "duration": 6,
    "start_time": "2022-07-31T14:16:42.337Z"
   },
   {
    "duration": 200,
    "start_time": "2022-07-31T14:16:42.345Z"
   },
   {
    "duration": 6,
    "start_time": "2022-07-31T14:16:42.547Z"
   },
   {
    "duration": 8,
    "start_time": "2022-07-31T14:16:42.554Z"
   },
   {
    "duration": 15,
    "start_time": "2022-07-31T14:16:42.563Z"
   },
   {
    "duration": 6,
    "start_time": "2022-07-31T14:16:42.580Z"
   },
   {
    "duration": 8,
    "start_time": "2022-07-31T14:16:42.588Z"
   },
   {
    "duration": 5,
    "start_time": "2022-07-31T14:16:42.598Z"
   },
   {
    "duration": 278,
    "start_time": "2022-07-31T14:16:42.605Z"
   },
   {
    "duration": 9,
    "start_time": "2022-07-31T14:16:42.886Z"
   },
   {
    "duration": 4,
    "start_time": "2022-07-31T14:16:42.898Z"
   },
   {
    "duration": 6,
    "start_time": "2022-07-31T14:16:42.923Z"
   },
   {
    "duration": 171,
    "start_time": "2022-07-31T14:16:42.931Z"
   },
   {
    "duration": 16,
    "start_time": "2022-07-31T14:16:43.109Z"
   },
   {
    "duration": 4,
    "start_time": "2022-07-31T14:16:43.127Z"
   },
   {
    "duration": 9,
    "start_time": "2022-07-31T14:16:43.132Z"
   },
   {
    "duration": 160,
    "start_time": "2022-07-31T14:16:43.142Z"
   },
   {
    "duration": 20,
    "start_time": "2022-07-31T14:16:43.304Z"
   },
   {
    "duration": 3,
    "start_time": "2022-07-31T14:16:43.326Z"
   },
   {
    "duration": 7,
    "start_time": "2022-07-31T14:16:43.331Z"
   },
   {
    "duration": 157,
    "start_time": "2022-07-31T14:16:43.340Z"
   },
   {
    "duration": 9,
    "start_time": "2022-07-31T14:16:43.499Z"
   },
   {
    "duration": 15,
    "start_time": "2022-07-31T14:16:43.510Z"
   },
   {
    "duration": 7,
    "start_time": "2022-07-31T14:16:43.526Z"
   },
   {
    "duration": 165,
    "start_time": "2022-07-31T14:16:43.535Z"
   },
   {
    "duration": 9,
    "start_time": "2022-07-31T14:16:43.702Z"
   },
   {
    "duration": 5,
    "start_time": "2022-07-31T14:16:43.724Z"
   },
   {
    "duration": 8,
    "start_time": "2022-07-31T14:16:43.730Z"
   },
   {
    "duration": 24,
    "start_time": "2022-07-31T14:16:43.740Z"
   },
   {
    "duration": 10,
    "start_time": "2022-07-31T14:16:43.766Z"
   },
   {
    "duration": 9,
    "start_time": "2022-07-31T14:16:43.778Z"
   },
   {
    "duration": 7,
    "start_time": "2022-07-31T14:16:43.788Z"
   },
   {
    "duration": 29,
    "start_time": "2022-07-31T14:16:43.797Z"
   },
   {
    "duration": 7,
    "start_time": "2022-07-31T14:16:43.828Z"
   },
   {
    "duration": 20,
    "start_time": "2022-07-31T14:16:43.838Z"
   },
   {
    "duration": 543,
    "start_time": "2022-07-31T14:16:43.861Z"
   },
   {
    "duration": 3,
    "start_time": "2022-07-31T14:16:44.406Z"
   },
   {
    "duration": 20,
    "start_time": "2022-07-31T14:16:44.411Z"
   },
   {
    "duration": 6,
    "start_time": "2022-07-31T14:17:50.857Z"
   },
   {
    "duration": 3,
    "start_time": "2022-07-31T14:19:32.415Z"
   },
   {
    "duration": 110,
    "start_time": "2022-07-31T14:21:34.352Z"
   },
   {
    "duration": 4,
    "start_time": "2022-07-31T14:21:54.997Z"
   },
   {
    "duration": 10,
    "start_time": "2022-07-31T14:21:56.173Z"
   },
   {
    "duration": 10,
    "start_time": "2022-07-31T14:22:03.581Z"
   },
   {
    "duration": 413,
    "start_time": "2022-07-31T14:24:53.320Z"
   },
   {
    "duration": 401,
    "start_time": "2022-07-31T14:25:31.914Z"
   },
   {
    "duration": 511,
    "start_time": "2022-07-31T14:25:58.918Z"
   },
   {
    "duration": 13,
    "start_time": "2022-07-31T14:28:00.066Z"
   },
   {
    "duration": 13,
    "start_time": "2022-07-31T14:28:03.266Z"
   },
   {
    "duration": 487,
    "start_time": "2022-07-31T14:28:27.262Z"
   },
   {
    "duration": 388,
    "start_time": "2022-07-31T14:28:39.784Z"
   },
   {
    "duration": 489,
    "start_time": "2022-07-31T14:29:15.685Z"
   },
   {
    "duration": 484,
    "start_time": "2022-07-31T14:29:16.176Z"
   },
   {
    "duration": 317,
    "start_time": "2022-07-31T14:29:16.662Z"
   },
   {
    "duration": 4,
    "start_time": "2022-07-31T14:29:16.981Z"
   },
   {
    "duration": 75,
    "start_time": "2022-07-31T14:29:16.987Z"
   },
   {
    "duration": 15,
    "start_time": "2022-07-31T14:29:17.065Z"
   },
   {
    "duration": 21,
    "start_time": "2022-07-31T14:29:17.082Z"
   },
   {
    "duration": 52,
    "start_time": "2022-07-31T14:29:17.105Z"
   },
   {
    "duration": 15,
    "start_time": "2022-07-31T14:29:17.159Z"
   },
   {
    "duration": 75,
    "start_time": "2022-07-31T14:29:17.177Z"
   },
   {
    "duration": 22,
    "start_time": "2022-07-31T14:29:17.253Z"
   },
   {
    "duration": 5,
    "start_time": "2022-07-31T14:29:17.277Z"
   },
   {
    "duration": 13,
    "start_time": "2022-07-31T14:29:17.284Z"
   },
   {
    "duration": 446,
    "start_time": "2022-07-31T14:29:17.299Z"
   },
   {
    "duration": 211,
    "start_time": "2022-07-31T14:29:17.746Z"
   },
   {
    "duration": 198,
    "start_time": "2022-07-31T14:29:17.959Z"
   },
   {
    "duration": 48,
    "start_time": "2022-07-31T14:29:18.159Z"
   },
   {
    "duration": 16,
    "start_time": "2022-07-31T14:29:18.209Z"
   },
   {
    "duration": 16,
    "start_time": "2022-07-31T14:29:18.227Z"
   },
   {
    "duration": 7,
    "start_time": "2022-07-31T14:29:18.245Z"
   },
   {
    "duration": 23,
    "start_time": "2022-07-31T14:29:18.254Z"
   },
   {
    "duration": 52,
    "start_time": "2022-07-31T14:29:18.278Z"
   },
   {
    "duration": 3,
    "start_time": "2022-07-31T14:29:18.332Z"
   },
   {
    "duration": 12,
    "start_time": "2022-07-31T14:29:18.336Z"
   },
   {
    "duration": 11,
    "start_time": "2022-07-31T14:29:18.349Z"
   },
   {
    "duration": 6,
    "start_time": "2022-07-31T14:29:18.361Z"
   },
   {
    "duration": 24,
    "start_time": "2022-07-31T14:29:18.369Z"
   },
   {
    "duration": 8,
    "start_time": "2022-07-31T14:29:18.397Z"
   },
   {
    "duration": 18,
    "start_time": "2022-07-31T14:29:18.424Z"
   },
   {
    "duration": 10,
    "start_time": "2022-07-31T14:29:18.443Z"
   },
   {
    "duration": 31,
    "start_time": "2022-07-31T14:29:18.454Z"
   },
   {
    "duration": 40,
    "start_time": "2022-07-31T14:29:18.487Z"
   },
   {
    "duration": 5,
    "start_time": "2022-07-31T14:29:18.529Z"
   },
   {
    "duration": 18,
    "start_time": "2022-07-31T14:29:18.536Z"
   },
   {
    "duration": 42,
    "start_time": "2022-07-31T14:29:18.556Z"
   },
   {
    "duration": 23,
    "start_time": "2022-07-31T14:29:18.603Z"
   },
   {
    "duration": 10,
    "start_time": "2022-07-31T14:29:18.628Z"
   },
   {
    "duration": 12,
    "start_time": "2022-07-31T14:29:18.640Z"
   },
   {
    "duration": 16,
    "start_time": "2022-07-31T14:29:18.654Z"
   },
   {
    "duration": 6,
    "start_time": "2022-07-31T14:29:18.673Z"
   },
   {
    "duration": 15,
    "start_time": "2022-07-31T14:29:18.681Z"
   },
   {
    "duration": 34,
    "start_time": "2022-07-31T14:29:18.723Z"
   },
   {
    "duration": 8,
    "start_time": "2022-07-31T14:29:18.759Z"
   },
   {
    "duration": 10,
    "start_time": "2022-07-31T14:29:18.769Z"
   },
   {
    "duration": 43,
    "start_time": "2022-07-31T14:29:18.781Z"
   },
   {
    "duration": 13,
    "start_time": "2022-07-31T14:29:18.826Z"
   },
   {
    "duration": 29,
    "start_time": "2022-07-31T14:29:18.841Z"
   },
   {
    "duration": 19,
    "start_time": "2022-07-31T14:29:18.872Z"
   },
   {
    "duration": 39,
    "start_time": "2022-07-31T14:29:18.893Z"
   },
   {
    "duration": 11,
    "start_time": "2022-07-31T14:29:18.934Z"
   },
   {
    "duration": 24,
    "start_time": "2022-07-31T14:29:18.947Z"
   },
   {
    "duration": 23,
    "start_time": "2022-07-31T14:29:18.973Z"
   },
   {
    "duration": 27,
    "start_time": "2022-07-31T14:29:18.998Z"
   },
   {
    "duration": 28,
    "start_time": "2022-07-31T14:29:19.027Z"
   },
   {
    "duration": 24,
    "start_time": "2022-07-31T14:29:19.057Z"
   },
   {
    "duration": 49,
    "start_time": "2022-07-31T14:29:19.083Z"
   },
   {
    "duration": 15,
    "start_time": "2022-07-31T14:29:19.135Z"
   },
   {
    "duration": 8,
    "start_time": "2022-07-31T14:29:19.153Z"
   },
   {
    "duration": 20,
    "start_time": "2022-07-31T14:29:19.164Z"
   },
   {
    "duration": 6,
    "start_time": "2022-07-31T14:29:19.186Z"
   },
   {
    "duration": 45,
    "start_time": "2022-07-31T14:29:19.194Z"
   },
   {
    "duration": 4,
    "start_time": "2022-07-31T14:29:19.241Z"
   },
   {
    "duration": 26,
    "start_time": "2022-07-31T14:29:19.247Z"
   },
   {
    "duration": 4,
    "start_time": "2022-07-31T14:29:19.275Z"
   },
   {
    "duration": 30,
    "start_time": "2022-07-31T14:29:19.281Z"
   },
   {
    "duration": 20,
    "start_time": "2022-07-31T14:29:19.312Z"
   },
   {
    "duration": 7,
    "start_time": "2022-07-31T14:29:19.333Z"
   },
   {
    "duration": 6,
    "start_time": "2022-07-31T14:29:19.342Z"
   },
   {
    "duration": 39,
    "start_time": "2022-07-31T14:29:19.350Z"
   },
   {
    "duration": 6,
    "start_time": "2022-07-31T14:29:19.391Z"
   },
   {
    "duration": 206,
    "start_time": "2022-07-31T14:29:19.424Z"
   },
   {
    "duration": 6,
    "start_time": "2022-07-31T14:29:19.632Z"
   },
   {
    "duration": 6,
    "start_time": "2022-07-31T14:29:19.640Z"
   },
   {
    "duration": 11,
    "start_time": "2022-07-31T14:29:19.648Z"
   },
   {
    "duration": 6,
    "start_time": "2022-07-31T14:29:19.661Z"
   },
   {
    "duration": 20,
    "start_time": "2022-07-31T14:29:19.668Z"
   },
   {
    "duration": 7,
    "start_time": "2022-07-31T14:29:19.690Z"
   },
   {
    "duration": 216,
    "start_time": "2022-07-31T14:29:19.699Z"
   },
   {
    "duration": 13,
    "start_time": "2022-07-31T14:29:19.917Z"
   },
   {
    "duration": 10,
    "start_time": "2022-07-31T14:29:19.931Z"
   },
   {
    "duration": 7,
    "start_time": "2022-07-31T14:29:19.943Z"
   },
   {
    "duration": 176,
    "start_time": "2022-07-31T14:29:19.956Z"
   },
   {
    "duration": 9,
    "start_time": "2022-07-31T14:29:20.134Z"
   },
   {
    "duration": 4,
    "start_time": "2022-07-31T14:29:20.146Z"
   },
   {
    "duration": 20,
    "start_time": "2022-07-31T14:29:20.152Z"
   },
   {
    "duration": 157,
    "start_time": "2022-07-31T14:29:20.182Z"
   },
   {
    "duration": 9,
    "start_time": "2022-07-31T14:29:20.341Z"
   },
   {
    "duration": 4,
    "start_time": "2022-07-31T14:29:20.351Z"
   },
   {
    "duration": 10,
    "start_time": "2022-07-31T14:29:20.357Z"
   },
   {
    "duration": 164,
    "start_time": "2022-07-31T14:29:20.369Z"
   },
   {
    "duration": 10,
    "start_time": "2022-07-31T14:29:20.535Z"
   },
   {
    "duration": 7,
    "start_time": "2022-07-31T14:29:20.547Z"
   },
   {
    "duration": 6,
    "start_time": "2022-07-31T14:29:20.556Z"
   },
   {
    "duration": 178,
    "start_time": "2022-07-31T14:29:20.564Z"
   },
   {
    "duration": 10,
    "start_time": "2022-07-31T14:29:20.744Z"
   },
   {
    "duration": 6,
    "start_time": "2022-07-31T14:29:20.756Z"
   },
   {
    "duration": 7,
    "start_time": "2022-07-31T14:29:20.763Z"
   },
   {
    "duration": 9,
    "start_time": "2022-07-31T14:29:20.772Z"
   },
   {
    "duration": 14,
    "start_time": "2022-07-31T14:29:20.782Z"
   },
   {
    "duration": 26,
    "start_time": "2022-07-31T14:29:20.798Z"
   },
   {
    "duration": 11,
    "start_time": "2022-07-31T14:29:20.825Z"
   },
   {
    "duration": 10,
    "start_time": "2022-07-31T14:29:20.837Z"
   },
   {
    "duration": 11,
    "start_time": "2022-07-31T14:29:20.848Z"
   },
   {
    "duration": 155,
    "start_time": "2022-07-31T14:29:20.860Z"
   },
   {
    "duration": 8,
    "start_time": "2022-07-31T14:29:21.017Z"
   },
   {
    "duration": 32,
    "start_time": "2022-07-31T14:29:21.027Z"
   },
   {
    "duration": 601,
    "start_time": "2022-07-31T14:29:21.061Z"
   },
   {
    "duration": 955,
    "start_time": "2022-07-31T14:29:59.631Z"
   },
   {
    "duration": 555,
    "start_time": "2022-07-31T14:30:36.696Z"
   },
   {
    "duration": 18,
    "start_time": "2022-07-31T14:31:29.006Z"
   },
   {
    "duration": 3,
    "start_time": "2022-07-31T14:33:28.493Z"
   },
   {
    "duration": 1537,
    "start_time": "2022-07-31T14:33:29.965Z"
   },
   {
    "duration": 2,
    "start_time": "2022-07-31T14:36:13.332Z"
   },
   {
    "duration": 52,
    "start_time": "2022-07-31T21:10:23.672Z"
   },
   {
    "duration": 457,
    "start_time": "2022-07-31T21:10:32.967Z"
   },
   {
    "duration": 445,
    "start_time": "2022-07-31T21:10:33.426Z"
   },
   {
    "duration": 1261,
    "start_time": "2022-07-31T21:10:33.874Z"
   },
   {
    "duration": 2,
    "start_time": "2022-07-31T21:10:35.137Z"
   },
   {
    "duration": 50,
    "start_time": "2022-07-31T21:10:35.141Z"
   },
   {
    "duration": 11,
    "start_time": "2022-07-31T21:10:35.192Z"
   },
   {
    "duration": 22,
    "start_time": "2022-07-31T21:10:35.205Z"
   },
   {
    "duration": 34,
    "start_time": "2022-07-31T21:10:35.229Z"
   },
   {
    "duration": 37,
    "start_time": "2022-07-31T21:10:35.265Z"
   },
   {
    "duration": 48,
    "start_time": "2022-07-31T21:10:35.305Z"
   },
   {
    "duration": 23,
    "start_time": "2022-07-31T21:10:35.354Z"
   },
   {
    "duration": 4,
    "start_time": "2022-07-31T21:10:35.397Z"
   },
   {
    "duration": 17,
    "start_time": "2022-07-31T21:10:35.403Z"
   },
   {
    "duration": 567,
    "start_time": "2022-07-31T21:10:35.422Z"
   },
   {
    "duration": 209,
    "start_time": "2022-07-31T21:10:35.991Z"
   },
   {
    "duration": 181,
    "start_time": "2022-07-31T21:10:36.201Z"
   },
   {
    "duration": 56,
    "start_time": "2022-07-31T21:10:36.383Z"
   },
   {
    "duration": 8,
    "start_time": "2022-07-31T21:10:36.441Z"
   },
   {
    "duration": 21,
    "start_time": "2022-07-31T21:10:36.450Z"
   },
   {
    "duration": 28,
    "start_time": "2022-07-31T21:10:36.473Z"
   },
   {
    "duration": 19,
    "start_time": "2022-07-31T21:10:36.503Z"
   },
   {
    "duration": 19,
    "start_time": "2022-07-31T21:10:36.523Z"
   },
   {
    "duration": 3,
    "start_time": "2022-07-31T21:10:36.544Z"
   },
   {
    "duration": 15,
    "start_time": "2022-07-31T21:10:36.548Z"
   },
   {
    "duration": 37,
    "start_time": "2022-07-31T21:10:36.565Z"
   },
   {
    "duration": 7,
    "start_time": "2022-07-31T21:10:36.604Z"
   },
   {
    "duration": 23,
    "start_time": "2022-07-31T21:10:36.613Z"
   },
   {
    "duration": 2,
    "start_time": "2022-07-31T21:10:36.642Z"
   },
   {
    "duration": 25,
    "start_time": "2022-07-31T21:10:36.646Z"
   },
   {
    "duration": 26,
    "start_time": "2022-07-31T21:10:36.672Z"
   },
   {
    "duration": 27,
    "start_time": "2022-07-31T21:10:36.700Z"
   },
   {
    "duration": 22,
    "start_time": "2022-07-31T21:10:36.729Z"
   },
   {
    "duration": 5,
    "start_time": "2022-07-31T21:10:36.753Z"
   },
   {
    "duration": 16,
    "start_time": "2022-07-31T21:10:36.759Z"
   },
   {
    "duration": 34,
    "start_time": "2022-07-31T21:10:36.777Z"
   },
   {
    "duration": 12,
    "start_time": "2022-07-31T21:10:36.813Z"
   },
   {
    "duration": 9,
    "start_time": "2022-07-31T21:10:36.826Z"
   },
   {
    "duration": 8,
    "start_time": "2022-07-31T21:10:36.837Z"
   },
   {
    "duration": 13,
    "start_time": "2022-07-31T21:10:36.846Z"
   },
   {
    "duration": 7,
    "start_time": "2022-07-31T21:10:36.860Z"
   },
   {
    "duration": 35,
    "start_time": "2022-07-31T21:10:36.869Z"
   },
   {
    "duration": 27,
    "start_time": "2022-07-31T21:10:36.906Z"
   },
   {
    "duration": 6,
    "start_time": "2022-07-31T21:10:36.934Z"
   },
   {
    "duration": 9,
    "start_time": "2022-07-31T21:10:36.941Z"
   },
   {
    "duration": 14,
    "start_time": "2022-07-31T21:10:36.952Z"
   },
   {
    "duration": 38,
    "start_time": "2022-07-31T21:10:36.968Z"
   },
   {
    "duration": 16,
    "start_time": "2022-07-31T21:10:37.008Z"
   },
   {
    "duration": 13,
    "start_time": "2022-07-31T21:10:37.026Z"
   },
   {
    "duration": 12,
    "start_time": "2022-07-31T21:10:37.041Z"
   },
   {
    "duration": 8,
    "start_time": "2022-07-31T21:10:37.055Z"
   },
   {
    "duration": 49,
    "start_time": "2022-07-31T21:10:37.065Z"
   },
   {
    "duration": 19,
    "start_time": "2022-07-31T21:10:37.116Z"
   },
   {
    "duration": 9,
    "start_time": "2022-07-31T21:10:37.136Z"
   },
   {
    "duration": 19,
    "start_time": "2022-07-31T21:10:37.147Z"
   },
   {
    "duration": 33,
    "start_time": "2022-07-31T21:10:37.168Z"
   },
   {
    "duration": 39,
    "start_time": "2022-07-31T21:10:37.203Z"
   },
   {
    "duration": 11,
    "start_time": "2022-07-31T21:10:37.243Z"
   },
   {
    "duration": 5,
    "start_time": "2022-07-31T21:10:37.256Z"
   },
   {
    "duration": 11,
    "start_time": "2022-07-31T21:10:37.262Z"
   },
   {
    "duration": 24,
    "start_time": "2022-07-31T21:10:37.275Z"
   },
   {
    "duration": 28,
    "start_time": "2022-07-31T21:10:37.301Z"
   },
   {
    "duration": 3,
    "start_time": "2022-07-31T21:10:37.331Z"
   },
   {
    "duration": 13,
    "start_time": "2022-07-31T21:10:37.336Z"
   },
   {
    "duration": 4,
    "start_time": "2022-07-31T21:10:37.350Z"
   },
   {
    "duration": 49,
    "start_time": "2022-07-31T21:10:37.355Z"
   },
   {
    "duration": 15,
    "start_time": "2022-07-31T21:10:37.405Z"
   },
   {
    "duration": 4,
    "start_time": "2022-07-31T21:10:37.421Z"
   },
   {
    "duration": 4,
    "start_time": "2022-07-31T21:10:37.427Z"
   },
   {
    "duration": 67,
    "start_time": "2022-07-31T21:10:37.432Z"
   },
   {
    "duration": 3,
    "start_time": "2022-07-31T21:10:37.501Z"
   },
   {
    "duration": 1313,
    "start_time": "2022-07-31T21:10:37.505Z"
   },
   {
    "duration": 6,
    "start_time": "2022-07-31T21:10:38.820Z"
   },
   {
    "duration": 9,
    "start_time": "2022-07-31T21:10:38.827Z"
   },
   {
    "duration": 10,
    "start_time": "2022-07-31T21:10:38.838Z"
   },
   {
    "duration": 6,
    "start_time": "2022-07-31T21:10:38.851Z"
   },
   {
    "duration": 9,
    "start_time": "2022-07-31T21:10:38.858Z"
   },
   {
    "duration": 30,
    "start_time": "2022-07-31T21:10:38.869Z"
   },
   {
    "duration": 168,
    "start_time": "2022-07-31T21:10:38.901Z"
   },
   {
    "duration": 8,
    "start_time": "2022-07-31T21:10:39.072Z"
   },
   {
    "duration": 18,
    "start_time": "2022-07-31T21:10:39.082Z"
   },
   {
    "duration": 6,
    "start_time": "2022-07-31T21:10:39.101Z"
   },
   {
    "duration": 140,
    "start_time": "2022-07-31T21:10:39.113Z"
   },
   {
    "duration": 7,
    "start_time": "2022-07-31T21:10:39.254Z"
   },
   {
    "duration": 3,
    "start_time": "2022-07-31T21:10:39.263Z"
   },
   {
    "duration": 8,
    "start_time": "2022-07-31T21:10:39.267Z"
   },
   {
    "duration": 137,
    "start_time": "2022-07-31T21:10:39.297Z"
   },
   {
    "duration": 8,
    "start_time": "2022-07-31T21:10:39.436Z"
   },
   {
    "duration": 7,
    "start_time": "2022-07-31T21:10:39.446Z"
   },
   {
    "duration": 6,
    "start_time": "2022-07-31T21:10:39.454Z"
   },
   {
    "duration": 138,
    "start_time": "2022-07-31T21:10:39.462Z"
   },
   {
    "duration": 9,
    "start_time": "2022-07-31T21:10:39.601Z"
   },
   {
    "duration": 4,
    "start_time": "2022-07-31T21:10:39.612Z"
   },
   {
    "duration": 11,
    "start_time": "2022-07-31T21:10:39.618Z"
   },
   {
    "duration": 148,
    "start_time": "2022-07-31T21:10:39.631Z"
   },
   {
    "duration": 17,
    "start_time": "2022-07-31T21:10:39.781Z"
   },
   {
    "duration": 4,
    "start_time": "2022-07-31T21:10:39.800Z"
   },
   {
    "duration": 5,
    "start_time": "2022-07-31T21:10:39.806Z"
   },
   {
    "duration": 5,
    "start_time": "2022-07-31T21:10:39.813Z"
   },
   {
    "duration": 7,
    "start_time": "2022-07-31T21:10:39.819Z"
   },
   {
    "duration": 8,
    "start_time": "2022-07-31T21:10:39.828Z"
   },
   {
    "duration": 8,
    "start_time": "2022-07-31T21:10:39.837Z"
   },
   {
    "duration": 13,
    "start_time": "2022-07-31T21:10:39.847Z"
   },
   {
    "duration": 39,
    "start_time": "2022-07-31T21:10:39.862Z"
   },
   {
    "duration": 61,
    "start_time": "2022-07-31T21:10:39.903Z"
   },
   {
    "duration": 4,
    "start_time": "2022-07-31T21:10:39.965Z"
   },
   {
    "duration": 28,
    "start_time": "2022-07-31T21:10:39.971Z"
   },
   {
    "duration": 3,
    "start_time": "2022-07-31T21:10:40.000Z"
   },
   {
    "duration": 1278,
    "start_time": "2022-07-31T21:10:40.004Z"
   },
   {
    "duration": 34,
    "start_time": "2022-07-31T21:12:42.235Z"
   },
   {
    "duration": 19,
    "start_time": "2022-07-31T21:21:44.446Z"
   },
   {
    "duration": 10,
    "start_time": "2022-07-31T21:21:55.127Z"
   },
   {
    "duration": 4,
    "start_time": "2022-07-31T21:22:06.867Z"
   },
   {
    "duration": 23,
    "start_time": "2022-07-31T21:22:11.699Z"
   },
   {
    "duration": 6,
    "start_time": "2022-07-31T21:22:32.593Z"
   },
   {
    "duration": 6,
    "start_time": "2022-07-31T21:23:34.010Z"
   },
   {
    "duration": 266,
    "start_time": "2022-07-31T21:24:03.080Z"
   },
   {
    "duration": 17,
    "start_time": "2022-07-31T21:24:38.578Z"
   },
   {
    "duration": 19,
    "start_time": "2022-07-31T21:25:30.654Z"
   },
   {
    "duration": 10,
    "start_time": "2022-07-31T21:25:40.784Z"
   },
   {
    "duration": 3,
    "start_time": "2022-07-31T21:25:52.463Z"
   },
   {
    "duration": 10,
    "start_time": "2022-07-31T21:28:16.055Z"
   },
   {
    "duration": 17,
    "start_time": "2022-07-31T21:29:36.302Z"
   },
   {
    "duration": 33,
    "start_time": "2022-07-31T21:30:06.821Z"
   },
   {
    "duration": 2,
    "start_time": "2022-07-31T22:11:12.333Z"
   },
   {
    "duration": 3,
    "start_time": "2022-07-31T22:11:49.323Z"
   },
   {
    "duration": 107,
    "start_time": "2022-08-01T00:33:08.450Z"
   },
   {
    "duration": 8,
    "start_time": "2022-08-01T00:33:19.625Z"
   },
   {
    "duration": 9,
    "start_time": "2022-08-01T00:33:24.034Z"
   },
   {
    "duration": 4,
    "start_time": "2022-08-01T00:34:32.097Z"
   },
   {
    "duration": 23,
    "start_time": "2022-08-01T00:40:55.299Z"
   },
   {
    "duration": 5,
    "start_time": "2022-08-01T00:41:41.377Z"
   },
   {
    "duration": 4,
    "start_time": "2022-08-01T00:42:23.941Z"
   },
   {
    "duration": 5,
    "start_time": "2022-08-01T00:42:31.907Z"
   },
   {
    "duration": 5,
    "start_time": "2022-08-01T00:42:42.058Z"
   },
   {
    "duration": 4,
    "start_time": "2022-08-01T00:43:07.058Z"
   },
   {
    "duration": 6,
    "start_time": "2022-08-01T00:43:08.746Z"
   },
   {
    "duration": 6,
    "start_time": "2022-08-01T00:43:18.842Z"
   },
   {
    "duration": 29,
    "start_time": "2022-08-01T00:44:27.602Z"
   },
   {
    "duration": 26,
    "start_time": "2022-08-01T00:44:29.378Z"
   },
   {
    "duration": 26,
    "start_time": "2022-08-01T00:44:30.082Z"
   },
   {
    "duration": 45,
    "start_time": "2022-08-01T00:44:57.402Z"
   },
   {
    "duration": 25,
    "start_time": "2022-08-01T00:45:00.545Z"
   },
   {
    "duration": 12,
    "start_time": "2022-08-01T00:45:44.665Z"
   },
   {
    "duration": 29,
    "start_time": "2022-08-01T00:45:49.248Z"
   },
   {
    "duration": 509,
    "start_time": "2022-08-01T00:46:04.092Z"
   },
   {
    "duration": 417,
    "start_time": "2022-08-01T00:46:04.603Z"
   },
   {
    "duration": 300,
    "start_time": "2022-08-01T00:46:05.021Z"
   },
   {
    "duration": 2,
    "start_time": "2022-08-01T00:46:05.324Z"
   },
   {
    "duration": 24,
    "start_time": "2022-08-01T00:46:05.327Z"
   },
   {
    "duration": 19,
    "start_time": "2022-08-01T00:46:05.353Z"
   },
   {
    "duration": 29,
    "start_time": "2022-08-01T00:46:05.373Z"
   },
   {
    "duration": 14,
    "start_time": "2022-08-01T00:46:05.404Z"
   },
   {
    "duration": 46,
    "start_time": "2022-08-01T00:46:05.419Z"
   },
   {
    "duration": 46,
    "start_time": "2022-08-01T00:46:05.468Z"
   },
   {
    "duration": 22,
    "start_time": "2022-08-01T00:46:05.516Z"
   },
   {
    "duration": 6,
    "start_time": "2022-08-01T00:46:05.540Z"
   },
   {
    "duration": 388,
    "start_time": "2022-08-01T00:46:05.548Z"
   },
   {
    "duration": 201,
    "start_time": "2022-08-01T00:46:05.938Z"
   },
   {
    "duration": 43,
    "start_time": "2022-08-01T00:46:06.141Z"
   },
   {
    "duration": 18,
    "start_time": "2022-08-01T00:46:06.186Z"
   },
   {
    "duration": 17,
    "start_time": "2022-08-01T00:46:06.206Z"
   },
   {
    "duration": 8,
    "start_time": "2022-08-01T00:46:06.224Z"
   },
   {
    "duration": 11,
    "start_time": "2022-08-01T00:46:06.234Z"
   },
   {
    "duration": 21,
    "start_time": "2022-08-01T00:46:06.246Z"
   },
   {
    "duration": 18,
    "start_time": "2022-08-01T00:46:06.298Z"
   },
   {
    "duration": 24,
    "start_time": "2022-08-01T00:46:06.318Z"
   },
   {
    "duration": 4,
    "start_time": "2022-08-01T00:46:06.344Z"
   },
   {
    "duration": 9,
    "start_time": "2022-08-01T00:46:06.349Z"
   },
   {
    "duration": 10,
    "start_time": "2022-08-01T00:46:06.360Z"
   },
   {
    "duration": 10,
    "start_time": "2022-08-01T00:46:06.397Z"
   },
   {
    "duration": 7,
    "start_time": "2022-08-01T00:46:06.410Z"
   },
   {
    "duration": 13,
    "start_time": "2022-08-01T00:46:06.422Z"
   },
   {
    "duration": 7,
    "start_time": "2022-08-01T00:46:06.436Z"
   },
   {
    "duration": 6,
    "start_time": "2022-08-01T00:46:06.444Z"
   },
   {
    "duration": 55,
    "start_time": "2022-08-01T00:46:06.452Z"
   },
   {
    "duration": 3,
    "start_time": "2022-08-01T00:46:06.509Z"
   },
   {
    "duration": 15,
    "start_time": "2022-08-01T00:46:06.514Z"
   },
   {
    "duration": 34,
    "start_time": "2022-08-01T00:46:06.530Z"
   },
   {
    "duration": 19,
    "start_time": "2022-08-01T00:46:06.566Z"
   },
   {
    "duration": 30,
    "start_time": "2022-08-01T00:46:06.587Z"
   },
   {
    "duration": 12,
    "start_time": "2022-08-01T00:46:06.618Z"
   },
   {
    "duration": 7,
    "start_time": "2022-08-01T00:46:06.631Z"
   },
   {
    "duration": 22,
    "start_time": "2022-08-01T00:46:06.639Z"
   },
   {
    "duration": 11,
    "start_time": "2022-08-01T00:46:06.662Z"
   },
   {
    "duration": 28,
    "start_time": "2022-08-01T00:46:06.675Z"
   },
   {
    "duration": 21,
    "start_time": "2022-08-01T00:46:06.705Z"
   },
   {
    "duration": 12,
    "start_time": "2022-08-01T00:46:06.727Z"
   },
   {
    "duration": 13,
    "start_time": "2022-08-01T00:46:06.741Z"
   },
   {
    "duration": 29,
    "start_time": "2022-08-01T00:46:06.756Z"
   },
   {
    "duration": 14,
    "start_time": "2022-08-01T00:46:06.787Z"
   },
   {
    "duration": 15,
    "start_time": "2022-08-01T00:46:06.803Z"
   },
   {
    "duration": 20,
    "start_time": "2022-08-01T00:46:06.820Z"
   },
   {
    "duration": 9,
    "start_time": "2022-08-01T00:46:06.842Z"
   },
   {
    "duration": 15,
    "start_time": "2022-08-01T00:46:06.852Z"
   },
   {
    "duration": 12,
    "start_time": "2022-08-01T00:46:06.868Z"
   },
   {
    "duration": 11,
    "start_time": "2022-08-01T00:46:06.898Z"
   },
   {
    "duration": 6,
    "start_time": "2022-08-01T00:46:06.911Z"
   },
   {
    "duration": 19,
    "start_time": "2022-08-01T00:46:06.919Z"
   },
   {
    "duration": 14,
    "start_time": "2022-08-01T00:46:06.940Z"
   },
   {
    "duration": 4,
    "start_time": "2022-08-01T00:46:06.956Z"
   },
   {
    "duration": 48,
    "start_time": "2022-08-01T00:46:06.962Z"
   },
   {
    "duration": 19,
    "start_time": "2022-08-01T00:46:07.013Z"
   },
   {
    "duration": 29,
    "start_time": "2022-08-01T00:46:07.033Z"
   },
   {
    "duration": 11,
    "start_time": "2022-08-01T00:46:07.063Z"
   },
   {
    "duration": 23,
    "start_time": "2022-08-01T00:46:07.076Z"
   },
   {
    "duration": 15,
    "start_time": "2022-08-01T00:46:07.101Z"
   },
   {
    "duration": 16,
    "start_time": "2022-08-01T00:46:07.117Z"
   },
   {
    "duration": 30,
    "start_time": "2022-08-01T00:46:07.135Z"
   },
   {
    "duration": 3,
    "start_time": "2022-08-01T00:46:07.167Z"
   },
   {
    "duration": 11,
    "start_time": "2022-08-01T00:46:07.171Z"
   },
   {
    "duration": 4,
    "start_time": "2022-08-01T00:46:07.184Z"
   },
   {
    "duration": 25,
    "start_time": "2022-08-01T00:46:07.198Z"
   },
   {
    "duration": 13,
    "start_time": "2022-08-01T00:46:07.225Z"
   },
   {
    "duration": 8,
    "start_time": "2022-08-01T00:46:07.240Z"
   },
   {
    "duration": 5,
    "start_time": "2022-08-01T00:46:07.249Z"
   },
   {
    "duration": 55,
    "start_time": "2022-08-01T00:46:07.256Z"
   },
   {
    "duration": 3,
    "start_time": "2022-08-01T00:46:07.313Z"
   },
   {
    "duration": 1260,
    "start_time": "2022-08-01T00:46:07.317Z"
   },
   {
    "duration": 6,
    "start_time": "2022-08-01T00:46:08.579Z"
   },
   {
    "duration": 14,
    "start_time": "2022-08-01T00:46:08.587Z"
   },
   {
    "duration": 10,
    "start_time": "2022-08-01T00:46:08.602Z"
   },
   {
    "duration": 3,
    "start_time": "2022-08-01T00:46:08.614Z"
   },
   {
    "duration": 7,
    "start_time": "2022-08-01T00:46:08.618Z"
   },
   {
    "duration": 9,
    "start_time": "2022-08-01T00:46:08.626Z"
   },
   {
    "duration": 12,
    "start_time": "2022-08-01T00:46:08.636Z"
   },
   {
    "duration": 6,
    "start_time": "2022-08-01T00:46:08.653Z"
   },
   {
    "duration": 6,
    "start_time": "2022-08-01T00:46:08.660Z"
   },
   {
    "duration": 35,
    "start_time": "2022-08-01T00:46:08.668Z"
   },
   {
    "duration": 4,
    "start_time": "2022-08-01T00:46:08.705Z"
   },
   {
    "duration": 13,
    "start_time": "2022-08-01T00:46:08.711Z"
   },
   {
    "duration": 13,
    "start_time": "2022-08-01T00:46:08.726Z"
   },
   {
    "duration": 11,
    "start_time": "2022-08-01T00:46:08.741Z"
   },
   {
    "duration": 15,
    "start_time": "2022-08-01T00:46:08.753Z"
   },
   {
    "duration": 20,
    "start_time": "2022-08-01T00:46:08.769Z"
   },
   {
    "duration": 18,
    "start_time": "2022-08-01T00:46:08.791Z"
   },
   {
    "duration": 13,
    "start_time": "2022-08-01T00:46:08.810Z"
   },
   {
    "duration": 20,
    "start_time": "2022-08-01T00:46:08.825Z"
   },
   {
    "duration": 8,
    "start_time": "2022-08-01T00:46:08.846Z"
   },
   {
    "duration": 11,
    "start_time": "2022-08-01T00:46:08.855Z"
   },
   {
    "duration": 44,
    "start_time": "2022-08-01T00:46:08.867Z"
   },
   {
    "duration": 0,
    "start_time": "2022-08-01T00:46:08.912Z"
   },
   {
    "duration": 0,
    "start_time": "2022-08-01T00:46:08.913Z"
   },
   {
    "duration": 0,
    "start_time": "2022-08-01T00:46:08.914Z"
   },
   {
    "duration": 0,
    "start_time": "2022-08-01T00:46:08.915Z"
   },
   {
    "duration": 0,
    "start_time": "2022-08-01T00:46:08.916Z"
   },
   {
    "duration": 0,
    "start_time": "2022-08-01T00:46:08.918Z"
   },
   {
    "duration": 0,
    "start_time": "2022-08-01T00:46:08.919Z"
   },
   {
    "duration": 0,
    "start_time": "2022-08-01T00:46:08.920Z"
   },
   {
    "duration": 0,
    "start_time": "2022-08-01T00:46:08.921Z"
   },
   {
    "duration": 0,
    "start_time": "2022-08-01T00:46:08.922Z"
   },
   {
    "duration": 0,
    "start_time": "2022-08-01T00:46:08.923Z"
   },
   {
    "duration": 0,
    "start_time": "2022-08-01T00:46:08.924Z"
   },
   {
    "duration": 0,
    "start_time": "2022-08-01T00:46:08.924Z"
   },
   {
    "duration": 0,
    "start_time": "2022-08-01T00:46:08.926Z"
   },
   {
    "duration": 0,
    "start_time": "2022-08-01T00:46:08.927Z"
   },
   {
    "duration": 5,
    "start_time": "2022-08-01T00:46:20.697Z"
   },
   {
    "duration": 17,
    "start_time": "2022-08-01T00:46:20.704Z"
   },
   {
    "duration": 15,
    "start_time": "2022-08-01T00:46:20.722Z"
   },
   {
    "duration": 21,
    "start_time": "2022-08-01T00:46:20.739Z"
   },
   {
    "duration": 57,
    "start_time": "2022-08-01T00:46:20.761Z"
   },
   {
    "duration": 112,
    "start_time": "2022-08-01T00:46:20.820Z"
   },
   {
    "duration": 0,
    "start_time": "2022-08-01T00:46:20.934Z"
   },
   {
    "duration": 0,
    "start_time": "2022-08-01T00:46:20.936Z"
   },
   {
    "duration": 0,
    "start_time": "2022-08-01T00:46:20.938Z"
   },
   {
    "duration": 0,
    "start_time": "2022-08-01T00:46:20.939Z"
   },
   {
    "duration": 0,
    "start_time": "2022-08-01T00:46:20.941Z"
   },
   {
    "duration": 0,
    "start_time": "2022-08-01T00:46:20.943Z"
   },
   {
    "duration": 0,
    "start_time": "2022-08-01T00:46:20.944Z"
   },
   {
    "duration": 0,
    "start_time": "2022-08-01T00:46:20.946Z"
   },
   {
    "duration": 0,
    "start_time": "2022-08-01T00:46:20.947Z"
   },
   {
    "duration": 418,
    "start_time": "2022-08-01T00:47:01.963Z"
   },
   {
    "duration": 437,
    "start_time": "2022-08-01T00:47:02.383Z"
   },
   {
    "duration": 298,
    "start_time": "2022-08-01T00:47:02.822Z"
   },
   {
    "duration": 2,
    "start_time": "2022-08-01T00:47:03.122Z"
   },
   {
    "duration": 37,
    "start_time": "2022-08-01T00:47:03.127Z"
   },
   {
    "duration": 20,
    "start_time": "2022-08-01T00:47:03.166Z"
   },
   {
    "duration": 24,
    "start_time": "2022-08-01T00:47:03.188Z"
   },
   {
    "duration": 16,
    "start_time": "2022-08-01T00:47:03.213Z"
   },
   {
    "duration": 44,
    "start_time": "2022-08-01T00:47:03.231Z"
   },
   {
    "duration": 51,
    "start_time": "2022-08-01T00:47:03.277Z"
   },
   {
    "duration": 22,
    "start_time": "2022-08-01T00:47:03.330Z"
   },
   {
    "duration": 5,
    "start_time": "2022-08-01T00:47:03.353Z"
   },
   {
    "duration": 422,
    "start_time": "2022-08-01T00:47:03.360Z"
   },
   {
    "duration": 216,
    "start_time": "2022-08-01T00:47:03.786Z"
   },
   {
    "duration": 42,
    "start_time": "2022-08-01T00:47:04.004Z"
   },
   {
    "duration": 9,
    "start_time": "2022-08-01T00:47:04.048Z"
   },
   {
    "duration": 18,
    "start_time": "2022-08-01T00:47:04.059Z"
   },
   {
    "duration": 8,
    "start_time": "2022-08-01T00:47:04.098Z"
   },
   {
    "duration": 14,
    "start_time": "2022-08-01T00:47:04.108Z"
   },
   {
    "duration": 22,
    "start_time": "2022-08-01T00:47:04.123Z"
   },
   {
    "duration": 17,
    "start_time": "2022-08-01T00:47:04.146Z"
   },
   {
    "duration": 44,
    "start_time": "2022-08-01T00:47:04.165Z"
   },
   {
    "duration": 3,
    "start_time": "2022-08-01T00:47:04.211Z"
   },
   {
    "duration": 11,
    "start_time": "2022-08-01T00:47:04.215Z"
   },
   {
    "duration": 11,
    "start_time": "2022-08-01T00:47:04.227Z"
   },
   {
    "duration": 17,
    "start_time": "2022-08-01T00:47:04.240Z"
   },
   {
    "duration": 15,
    "start_time": "2022-08-01T00:47:04.259Z"
   },
   {
    "duration": 22,
    "start_time": "2022-08-01T00:47:04.275Z"
   },
   {
    "duration": 5,
    "start_time": "2022-08-01T00:47:04.299Z"
   },
   {
    "duration": 3,
    "start_time": "2022-08-01T00:47:04.306Z"
   },
   {
    "duration": 24,
    "start_time": "2022-08-01T00:47:04.311Z"
   },
   {
    "duration": 3,
    "start_time": "2022-08-01T00:47:04.337Z"
   },
   {
    "duration": 16,
    "start_time": "2022-08-01T00:47:04.341Z"
   },
   {
    "duration": 50,
    "start_time": "2022-08-01T00:47:04.359Z"
   },
   {
    "duration": 25,
    "start_time": "2022-08-01T00:47:04.411Z"
   },
   {
    "duration": 33,
    "start_time": "2022-08-01T00:47:04.439Z"
   },
   {
    "duration": 31,
    "start_time": "2022-08-01T00:47:04.474Z"
   },
   {
    "duration": 5,
    "start_time": "2022-08-01T00:47:04.508Z"
   },
   {
    "duration": 28,
    "start_time": "2022-08-01T00:47:04.515Z"
   },
   {
    "duration": 12,
    "start_time": "2022-08-01T00:47:04.545Z"
   },
   {
    "duration": 6,
    "start_time": "2022-08-01T00:47:04.562Z"
   },
   {
    "duration": 9,
    "start_time": "2022-08-01T00:47:04.598Z"
   },
   {
    "duration": 7,
    "start_time": "2022-08-01T00:47:04.609Z"
   },
   {
    "duration": 11,
    "start_time": "2022-08-01T00:47:04.618Z"
   },
   {
    "duration": 23,
    "start_time": "2022-08-01T00:47:04.631Z"
   },
   {
    "duration": 6,
    "start_time": "2022-08-01T00:47:04.655Z"
   },
   {
    "duration": 64,
    "start_time": "2022-08-01T00:47:04.662Z"
   },
   {
    "duration": 20,
    "start_time": "2022-08-01T00:47:04.728Z"
   },
   {
    "duration": 10,
    "start_time": "2022-08-01T00:47:04.749Z"
   },
   {
    "duration": 15,
    "start_time": "2022-08-01T00:47:04.760Z"
   },
   {
    "duration": 13,
    "start_time": "2022-08-01T00:47:04.777Z"
   },
   {
    "duration": 17,
    "start_time": "2022-08-01T00:47:04.792Z"
   },
   {
    "duration": 6,
    "start_time": "2022-08-01T00:47:04.811Z"
   },
   {
    "duration": 18,
    "start_time": "2022-08-01T00:47:04.818Z"
   },
   {
    "duration": 13,
    "start_time": "2022-08-01T00:47:04.838Z"
   },
   {
    "duration": 4,
    "start_time": "2022-08-01T00:47:04.853Z"
   },
   {
    "duration": 41,
    "start_time": "2022-08-01T00:47:04.858Z"
   },
   {
    "duration": 21,
    "start_time": "2022-08-01T00:47:04.900Z"
   },
   {
    "duration": 30,
    "start_time": "2022-08-01T00:47:04.923Z"
   },
   {
    "duration": 12,
    "start_time": "2022-08-01T00:47:04.954Z"
   },
   {
    "duration": 8,
    "start_time": "2022-08-01T00:47:04.967Z"
   },
   {
    "duration": 26,
    "start_time": "2022-08-01T00:47:04.976Z"
   },
   {
    "duration": 18,
    "start_time": "2022-08-01T00:47:05.004Z"
   },
   {
    "duration": 29,
    "start_time": "2022-08-01T00:47:05.023Z"
   },
   {
    "duration": 3,
    "start_time": "2022-08-01T00:47:05.054Z"
   },
   {
    "duration": 10,
    "start_time": "2022-08-01T00:47:05.059Z"
   },
   {
    "duration": 5,
    "start_time": "2022-08-01T00:47:05.070Z"
   },
   {
    "duration": 44,
    "start_time": "2022-08-01T00:47:05.076Z"
   },
   {
    "duration": 17,
    "start_time": "2022-08-01T00:47:05.121Z"
   },
   {
    "duration": 7,
    "start_time": "2022-08-01T00:47:05.140Z"
   },
   {
    "duration": 6,
    "start_time": "2022-08-01T00:47:05.149Z"
   },
   {
    "duration": 52,
    "start_time": "2022-08-01T00:47:05.156Z"
   },
   {
    "duration": 3,
    "start_time": "2022-08-01T00:47:05.210Z"
   },
   {
    "duration": 1256,
    "start_time": "2022-08-01T00:47:05.215Z"
   },
   {
    "duration": 5,
    "start_time": "2022-08-01T00:47:06.473Z"
   },
   {
    "duration": 25,
    "start_time": "2022-08-01T00:47:06.480Z"
   },
   {
    "duration": 13,
    "start_time": "2022-08-01T00:47:06.506Z"
   },
   {
    "duration": 8,
    "start_time": "2022-08-01T00:47:06.520Z"
   },
   {
    "duration": 12,
    "start_time": "2022-08-01T00:47:06.529Z"
   },
   {
    "duration": 15,
    "start_time": "2022-08-01T00:47:06.543Z"
   },
   {
    "duration": 15,
    "start_time": "2022-08-01T00:47:06.559Z"
   },
   {
    "duration": 10,
    "start_time": "2022-08-01T00:47:06.576Z"
   },
   {
    "duration": 6,
    "start_time": "2022-08-01T00:47:06.587Z"
   },
   {
    "duration": 11,
    "start_time": "2022-08-01T00:47:06.595Z"
   },
   {
    "duration": 13,
    "start_time": "2022-08-01T00:47:06.608Z"
   },
   {
    "duration": 6,
    "start_time": "2022-08-01T00:47:06.622Z"
   },
   {
    "duration": 8,
    "start_time": "2022-08-01T00:47:06.629Z"
   },
   {
    "duration": 3,
    "start_time": "2022-08-01T00:47:06.639Z"
   },
   {
    "duration": 11,
    "start_time": "2022-08-01T00:47:06.643Z"
   },
   {
    "duration": 9,
    "start_time": "2022-08-01T00:47:06.656Z"
   },
   {
    "duration": 7,
    "start_time": "2022-08-01T00:47:06.666Z"
   },
   {
    "duration": 8,
    "start_time": "2022-08-01T00:47:06.675Z"
   },
   {
    "duration": 15,
    "start_time": "2022-08-01T00:47:06.684Z"
   },
   {
    "duration": 5,
    "start_time": "2022-08-01T00:47:06.701Z"
   },
   {
    "duration": 7,
    "start_time": "2022-08-01T00:47:06.708Z"
   },
   {
    "duration": 7,
    "start_time": "2022-08-01T00:47:06.716Z"
   },
   {
    "duration": 12,
    "start_time": "2022-08-01T00:47:06.724Z"
   },
   {
    "duration": 11,
    "start_time": "2022-08-01T00:47:06.738Z"
   },
   {
    "duration": 6,
    "start_time": "2022-08-01T00:47:06.751Z"
   },
   {
    "duration": 75,
    "start_time": "2022-08-01T00:47:06.758Z"
   },
   {
    "duration": 118,
    "start_time": "2022-08-01T00:47:06.834Z"
   },
   {
    "duration": 0,
    "start_time": "2022-08-01T00:47:06.954Z"
   },
   {
    "duration": 0,
    "start_time": "2022-08-01T00:47:06.956Z"
   },
   {
    "duration": 0,
    "start_time": "2022-08-01T00:47:06.957Z"
   },
   {
    "duration": 0,
    "start_time": "2022-08-01T00:47:06.959Z"
   },
   {
    "duration": 0,
    "start_time": "2022-08-01T00:47:06.961Z"
   },
   {
    "duration": 0,
    "start_time": "2022-08-01T00:47:06.962Z"
   },
   {
    "duration": 0,
    "start_time": "2022-08-01T00:47:06.963Z"
   },
   {
    "duration": 0,
    "start_time": "2022-08-01T00:47:06.965Z"
   },
   {
    "duration": 0,
    "start_time": "2022-08-01T00:47:06.967Z"
   },
   {
    "duration": 5,
    "start_time": "2022-08-01T00:48:31.591Z"
   },
   {
    "duration": 5,
    "start_time": "2022-08-01T00:48:32.277Z"
   },
   {
    "duration": 2,
    "start_time": "2022-08-01T00:48:33.077Z"
   },
   {
    "duration": 4,
    "start_time": "2022-08-01T00:48:33.708Z"
   },
   {
    "duration": 4,
    "start_time": "2022-08-01T00:48:34.637Z"
   },
   {
    "duration": 12,
    "start_time": "2022-08-01T00:48:36.731Z"
   },
   {
    "duration": 4,
    "start_time": "2022-08-01T00:48:37.822Z"
   },
   {
    "duration": 6,
    "start_time": "2022-08-01T00:48:38.052Z"
   },
   {
    "duration": 28,
    "start_time": "2022-08-01T00:48:38.286Z"
   },
   {
    "duration": 26,
    "start_time": "2022-08-01T00:48:38.501Z"
   },
   {
    "duration": 3,
    "start_time": "2022-08-01T00:48:38.684Z"
   },
   {
    "duration": 4,
    "start_time": "2022-08-01T00:48:38.868Z"
   },
   {
    "duration": 4,
    "start_time": "2022-08-01T00:48:39.044Z"
   },
   {
    "duration": 18,
    "start_time": "2022-08-01T00:49:21.333Z"
   },
   {
    "duration": 12,
    "start_time": "2022-08-01T00:49:27.845Z"
   },
   {
    "duration": 25,
    "start_time": "2022-08-01T00:49:59.829Z"
   },
   {
    "duration": 22,
    "start_time": "2022-08-01T00:50:14.109Z"
   },
   {
    "duration": 48,
    "start_time": "2022-08-01T00:50:24.415Z"
   },
   {
    "duration": 25,
    "start_time": "2022-08-01T00:50:30.387Z"
   },
   {
    "duration": 440,
    "start_time": "2022-08-01T15:01:42.672Z"
   },
   {
    "duration": 445,
    "start_time": "2022-08-01T15:01:43.113Z"
   },
   {
    "duration": 1363,
    "start_time": "2022-08-01T15:01:43.560Z"
   },
   {
    "duration": 3,
    "start_time": "2022-08-01T15:01:44.926Z"
   },
   {
    "duration": 26,
    "start_time": "2022-08-01T15:01:44.931Z"
   },
   {
    "duration": 31,
    "start_time": "2022-08-01T15:01:44.959Z"
   },
   {
    "duration": 34,
    "start_time": "2022-08-01T15:01:44.993Z"
   },
   {
    "duration": 25,
    "start_time": "2022-08-01T15:01:45.029Z"
   },
   {
    "duration": 59,
    "start_time": "2022-08-01T15:01:45.056Z"
   },
   {
    "duration": 34,
    "start_time": "2022-08-01T15:01:45.119Z"
   },
   {
    "duration": 52,
    "start_time": "2022-08-01T15:01:45.155Z"
   },
   {
    "duration": 7,
    "start_time": "2022-08-01T15:01:45.209Z"
   },
   {
    "duration": 572,
    "start_time": "2022-08-01T15:01:45.218Z"
   },
   {
    "duration": 209,
    "start_time": "2022-08-01T15:01:45.797Z"
   },
   {
    "duration": 45,
    "start_time": "2022-08-01T15:01:46.007Z"
   },
   {
    "duration": 10,
    "start_time": "2022-08-01T15:01:46.054Z"
   },
   {
    "duration": 46,
    "start_time": "2022-08-01T15:01:46.066Z"
   },
   {
    "duration": 9,
    "start_time": "2022-08-01T15:01:46.114Z"
   },
   {
    "duration": 18,
    "start_time": "2022-08-01T15:01:46.124Z"
   },
   {
    "duration": 26,
    "start_time": "2022-08-01T15:01:46.144Z"
   },
   {
    "duration": 31,
    "start_time": "2022-08-01T15:01:46.172Z"
   },
   {
    "duration": 19,
    "start_time": "2022-08-01T15:01:46.205Z"
   },
   {
    "duration": 3,
    "start_time": "2022-08-01T15:01:46.226Z"
   },
   {
    "duration": 11,
    "start_time": "2022-08-01T15:01:46.230Z"
   },
   {
    "duration": 15,
    "start_time": "2022-08-01T15:01:46.243Z"
   },
   {
    "duration": 45,
    "start_time": "2022-08-01T15:01:46.260Z"
   },
   {
    "duration": 7,
    "start_time": "2022-08-01T15:01:46.306Z"
   },
   {
    "duration": 17,
    "start_time": "2022-08-01T15:01:46.318Z"
   },
   {
    "duration": 6,
    "start_time": "2022-08-01T15:01:46.337Z"
   },
   {
    "duration": 7,
    "start_time": "2022-08-01T15:01:46.345Z"
   },
   {
    "duration": 49,
    "start_time": "2022-08-01T15:01:46.354Z"
   },
   {
    "duration": 4,
    "start_time": "2022-08-01T15:01:46.404Z"
   },
   {
    "duration": 12,
    "start_time": "2022-08-01T15:01:46.409Z"
   },
   {
    "duration": 21,
    "start_time": "2022-08-01T15:01:46.422Z"
   },
   {
    "duration": 21,
    "start_time": "2022-08-01T15:01:46.444Z"
   },
   {
    "duration": 47,
    "start_time": "2022-08-01T15:01:46.467Z"
   },
   {
    "duration": 14,
    "start_time": "2022-08-01T15:01:46.516Z"
   },
   {
    "duration": 8,
    "start_time": "2022-08-01T15:01:46.531Z"
   },
   {
    "duration": 39,
    "start_time": "2022-08-01T15:01:46.541Z"
   },
   {
    "duration": 18,
    "start_time": "2022-08-01T15:01:46.582Z"
   },
   {
    "duration": 11,
    "start_time": "2022-08-01T15:01:46.602Z"
   },
   {
    "duration": 12,
    "start_time": "2022-08-01T15:01:46.615Z"
   },
   {
    "duration": 7,
    "start_time": "2022-08-01T15:01:46.629Z"
   },
   {
    "duration": 11,
    "start_time": "2022-08-01T15:01:46.638Z"
   },
   {
    "duration": 48,
    "start_time": "2022-08-01T15:01:46.652Z"
   },
   {
    "duration": 6,
    "start_time": "2022-08-01T15:01:46.702Z"
   },
   {
    "duration": 15,
    "start_time": "2022-08-01T15:01:46.710Z"
   },
   {
    "duration": 15,
    "start_time": "2022-08-01T15:01:46.726Z"
   },
   {
    "duration": 16,
    "start_time": "2022-08-01T15:01:46.743Z"
   },
   {
    "duration": 38,
    "start_time": "2022-08-01T15:01:46.760Z"
   },
   {
    "duration": 17,
    "start_time": "2022-08-01T15:01:46.799Z"
   },
   {
    "duration": 15,
    "start_time": "2022-08-01T15:01:46.818Z"
   },
   {
    "duration": 7,
    "start_time": "2022-08-01T15:01:46.835Z"
   },
   {
    "duration": 23,
    "start_time": "2022-08-01T15:01:46.844Z"
   },
   {
    "duration": 22,
    "start_time": "2022-08-01T15:01:46.899Z"
   },
   {
    "duration": 12,
    "start_time": "2022-08-01T15:01:46.922Z"
   },
   {
    "duration": 14,
    "start_time": "2022-08-01T15:01:46.942Z"
   },
   {
    "duration": 17,
    "start_time": "2022-08-01T15:01:46.958Z"
   },
   {
    "duration": 28,
    "start_time": "2022-08-01T15:01:46.998Z"
   },
   {
    "duration": 11,
    "start_time": "2022-08-01T15:01:47.027Z"
   },
   {
    "duration": 5,
    "start_time": "2022-08-01T15:01:47.040Z"
   },
   {
    "duration": 12,
    "start_time": "2022-08-01T15:01:47.047Z"
   },
   {
    "duration": 4,
    "start_time": "2022-08-01T15:01:47.061Z"
   },
   {
    "duration": 55,
    "start_time": "2022-08-01T15:01:47.067Z"
   },
   {
    "duration": 4,
    "start_time": "2022-08-01T15:01:47.124Z"
   },
   {
    "duration": 16,
    "start_time": "2022-08-01T15:01:47.129Z"
   },
   {
    "duration": 12,
    "start_time": "2022-08-01T15:01:47.147Z"
   },
   {
    "duration": 42,
    "start_time": "2022-08-01T15:01:47.162Z"
   },
   {
    "duration": 23,
    "start_time": "2022-08-01T15:01:47.206Z"
   },
   {
    "duration": 10,
    "start_time": "2022-08-01T15:01:47.231Z"
   },
   {
    "duration": 5,
    "start_time": "2022-08-01T15:01:47.243Z"
   },
   {
    "duration": 57,
    "start_time": "2022-08-01T15:01:47.249Z"
   },
   {
    "duration": 3,
    "start_time": "2022-08-01T15:01:47.307Z"
   },
   {
    "duration": 1335,
    "start_time": "2022-08-01T15:01:47.312Z"
   },
   {
    "duration": 5,
    "start_time": "2022-08-01T15:01:48.649Z"
   },
   {
    "duration": 10,
    "start_time": "2022-08-01T15:01:48.656Z"
   },
   {
    "duration": 12,
    "start_time": "2022-08-01T15:01:48.668Z"
   },
   {
    "duration": 18,
    "start_time": "2022-08-01T15:01:48.681Z"
   },
   {
    "duration": 8,
    "start_time": "2022-08-01T15:01:48.701Z"
   },
   {
    "duration": 11,
    "start_time": "2022-08-01T15:01:48.710Z"
   },
   {
    "duration": 14,
    "start_time": "2022-08-01T15:01:48.723Z"
   },
   {
    "duration": 6,
    "start_time": "2022-08-01T15:01:48.745Z"
   },
   {
    "duration": 14,
    "start_time": "2022-08-01T15:01:48.752Z"
   },
   {
    "duration": 31,
    "start_time": "2022-08-01T15:01:48.768Z"
   },
   {
    "duration": 3,
    "start_time": "2022-08-01T15:01:48.801Z"
   },
   {
    "duration": 9,
    "start_time": "2022-08-01T15:01:48.806Z"
   },
   {
    "duration": 12,
    "start_time": "2022-08-01T15:01:48.818Z"
   },
   {
    "duration": 3,
    "start_time": "2022-08-01T15:01:48.832Z"
   },
   {
    "duration": 10,
    "start_time": "2022-08-01T15:01:48.837Z"
   },
   {
    "duration": 12,
    "start_time": "2022-08-01T15:01:48.848Z"
   },
   {
    "duration": 17,
    "start_time": "2022-08-01T15:01:48.862Z"
   },
   {
    "duration": 13,
    "start_time": "2022-08-01T15:01:48.898Z"
   },
   {
    "duration": 14,
    "start_time": "2022-08-01T15:01:48.913Z"
   },
   {
    "duration": 15,
    "start_time": "2022-08-01T15:01:48.928Z"
   },
   {
    "duration": 5,
    "start_time": "2022-08-01T15:01:48.945Z"
   },
   {
    "duration": 6,
    "start_time": "2022-08-01T15:01:48.952Z"
   },
   {
    "duration": 14,
    "start_time": "2022-08-01T15:01:48.959Z"
   },
   {
    "duration": 24,
    "start_time": "2022-08-01T15:01:48.975Z"
   },
   {
    "duration": 10,
    "start_time": "2022-08-01T15:01:49.001Z"
   },
   {
    "duration": 70,
    "start_time": "2022-08-01T15:01:49.013Z"
   },
   {
    "duration": 4,
    "start_time": "2022-08-01T15:01:49.085Z"
   },
   {
    "duration": 14,
    "start_time": "2022-08-01T15:01:49.091Z"
   },
   {
    "duration": 25,
    "start_time": "2022-08-01T15:01:49.107Z"
   },
   {
    "duration": 11,
    "start_time": "2022-08-01T15:01:49.133Z"
   },
   {
    "duration": 13,
    "start_time": "2022-08-01T15:01:49.145Z"
   },
   {
    "duration": 132,
    "start_time": "2022-08-01T15:01:49.160Z"
   },
   {
    "duration": 0,
    "start_time": "2022-08-01T15:01:49.294Z"
   },
   {
    "duration": 0,
    "start_time": "2022-08-01T15:01:49.296Z"
   },
   {
    "duration": 0,
    "start_time": "2022-08-01T15:01:49.298Z"
   },
   {
    "duration": 0,
    "start_time": "2022-08-01T15:01:49.299Z"
   },
   {
    "duration": 31,
    "start_time": "2022-08-01T15:03:02.198Z"
   },
   {
    "duration": 26,
    "start_time": "2022-08-01T15:03:17.922Z"
   },
   {
    "duration": 27,
    "start_time": "2022-08-01T15:03:31.711Z"
   },
   {
    "duration": 32,
    "start_time": "2022-08-01T15:03:46.395Z"
   },
   {
    "duration": 28,
    "start_time": "2022-08-01T15:03:58.019Z"
   },
   {
    "duration": 63,
    "start_time": "2022-08-01T15:04:06.987Z"
   },
   {
    "duration": 28,
    "start_time": "2022-08-01T15:05:51.456Z"
   },
   {
    "duration": 5,
    "start_time": "2022-08-01T15:10:16.279Z"
   },
   {
    "duration": 21,
    "start_time": "2022-08-01T15:10:21.557Z"
   },
   {
    "duration": 1315,
    "start_time": "2022-08-01T15:11:02.485Z"
   },
   {
    "duration": 82,
    "start_time": "2022-08-01T15:11:14.430Z"
   },
   {
    "duration": 28,
    "start_time": "2022-08-01T15:11:17.723Z"
   },
   {
    "duration": 25,
    "start_time": "2022-08-01T15:11:24.644Z"
   },
   {
    "duration": 24,
    "start_time": "2022-08-01T15:11:29.844Z"
   },
   {
    "duration": 116,
    "start_time": "2022-08-01T15:11:51.156Z"
   },
   {
    "duration": 100,
    "start_time": "2022-08-01T15:12:08.075Z"
   },
   {
    "duration": 118,
    "start_time": "2022-08-01T15:12:14.202Z"
   },
   {
    "duration": 900,
    "start_time": "2022-08-01T15:15:29.072Z"
   },
   {
    "duration": 24,
    "start_time": "2022-08-01T15:15:39.545Z"
   },
   {
    "duration": 27,
    "start_time": "2022-08-01T15:16:03.817Z"
   },
   {
    "duration": 12,
    "start_time": "2022-08-01T15:16:24.185Z"
   },
   {
    "duration": 771,
    "start_time": "2022-08-01T15:16:47.856Z"
   },
   {
    "duration": 1321,
    "start_time": "2022-08-01T15:16:56.296Z"
   },
   {
    "duration": 57,
    "start_time": "2022-08-01T15:17:03.567Z"
   },
   {
    "duration": 24,
    "start_time": "2022-08-01T15:17:10.911Z"
   },
   {
    "duration": 26,
    "start_time": "2022-08-01T15:18:21.192Z"
   },
   {
    "duration": 59,
    "start_time": "2022-08-01T15:18:31.214Z"
   },
   {
    "duration": 883,
    "start_time": "2022-08-01T15:18:36.814Z"
   },
   {
    "duration": 971,
    "start_time": "2022-08-01T15:21:26.005Z"
   },
   {
    "duration": 22,
    "start_time": "2022-08-01T15:21:39.565Z"
   },
   {
    "duration": 6,
    "start_time": "2022-08-01T15:22:09.988Z"
   },
   {
    "duration": 31,
    "start_time": "2022-08-01T15:22:14.459Z"
   },
   {
    "duration": 27,
    "start_time": "2022-08-01T15:22:54.499Z"
   },
   {
    "duration": 5,
    "start_time": "2022-08-01T15:23:05.171Z"
   },
   {
    "duration": 5,
    "start_time": "2022-08-01T15:23:07.594Z"
   },
   {
    "duration": 5,
    "start_time": "2022-08-01T15:23:45.329Z"
   },
   {
    "duration": 4,
    "start_time": "2022-08-01T15:24:53.122Z"
   },
   {
    "duration": 6,
    "start_time": "2022-08-01T15:24:59.097Z"
   },
   {
    "duration": 15,
    "start_time": "2022-08-01T15:25:01.617Z"
   },
   {
    "duration": 13,
    "start_time": "2022-08-01T15:25:04.233Z"
   },
   {
    "duration": 7,
    "start_time": "2022-08-01T15:26:24.728Z"
   },
   {
    "duration": 4,
    "start_time": "2022-08-01T15:41:22.725Z"
   },
   {
    "duration": 4,
    "start_time": "2022-08-01T15:41:24.236Z"
   },
   {
    "duration": 4,
    "start_time": "2022-08-01T15:41:50.669Z"
   },
   {
    "duration": 5,
    "start_time": "2022-08-01T15:42:00.148Z"
   },
   {
    "duration": 4,
    "start_time": "2022-08-01T15:42:02.387Z"
   },
   {
    "duration": 3,
    "start_time": "2022-08-01T15:42:17.581Z"
   },
   {
    "duration": 3,
    "start_time": "2022-08-01T15:42:42.812Z"
   },
   {
    "duration": 4,
    "start_time": "2022-08-01T15:42:55.420Z"
   },
   {
    "duration": 461,
    "start_time": "2022-08-01T16:10:14.992Z"
   },
   {
    "duration": 447,
    "start_time": "2022-08-01T16:10:15.456Z"
   },
   {
    "duration": 300,
    "start_time": "2022-08-01T16:10:15.904Z"
   },
   {
    "duration": 3,
    "start_time": "2022-08-01T16:10:16.206Z"
   },
   {
    "duration": 19,
    "start_time": "2022-08-01T16:10:16.210Z"
   },
   {
    "duration": 19,
    "start_time": "2022-08-01T16:10:16.230Z"
   },
   {
    "duration": 23,
    "start_time": "2022-08-01T16:10:16.251Z"
   },
   {
    "duration": 35,
    "start_time": "2022-08-01T16:10:16.276Z"
   },
   {
    "duration": 51,
    "start_time": "2022-08-01T16:10:16.313Z"
   },
   {
    "duration": 44,
    "start_time": "2022-08-01T16:10:16.367Z"
   },
   {
    "duration": 21,
    "start_time": "2022-08-01T16:10:16.413Z"
   },
   {
    "duration": 15,
    "start_time": "2022-08-01T16:10:16.436Z"
   },
   {
    "duration": 379,
    "start_time": "2022-08-01T16:10:16.453Z"
   },
   {
    "duration": 199,
    "start_time": "2022-08-01T16:10:16.834Z"
   },
   {
    "duration": 43,
    "start_time": "2022-08-01T16:10:17.035Z"
   },
   {
    "duration": 18,
    "start_time": "2022-08-01T16:10:17.080Z"
   },
   {
    "duration": 15,
    "start_time": "2022-08-01T16:10:17.100Z"
   },
   {
    "duration": 10,
    "start_time": "2022-08-01T16:10:17.117Z"
   },
   {
    "duration": 12,
    "start_time": "2022-08-01T16:10:17.129Z"
   },
   {
    "duration": 23,
    "start_time": "2022-08-01T16:10:17.142Z"
   },
   {
    "duration": 19,
    "start_time": "2022-08-01T16:10:17.198Z"
   },
   {
    "duration": 19,
    "start_time": "2022-08-01T16:10:17.220Z"
   },
   {
    "duration": 3,
    "start_time": "2022-08-01T16:10:17.241Z"
   },
   {
    "duration": 11,
    "start_time": "2022-08-01T16:10:17.246Z"
   },
   {
    "duration": 39,
    "start_time": "2022-08-01T16:10:17.259Z"
   },
   {
    "duration": 11,
    "start_time": "2022-08-01T16:10:17.300Z"
   },
   {
    "duration": 9,
    "start_time": "2022-08-01T16:10:17.312Z"
   },
   {
    "duration": 12,
    "start_time": "2022-08-01T16:10:17.325Z"
   },
   {
    "duration": 11,
    "start_time": "2022-08-01T16:10:17.339Z"
   },
   {
    "duration": 5,
    "start_time": "2022-08-01T16:10:17.352Z"
   },
   {
    "duration": 57,
    "start_time": "2022-08-01T16:10:17.359Z"
   },
   {
    "duration": 3,
    "start_time": "2022-08-01T16:10:17.418Z"
   },
   {
    "duration": 13,
    "start_time": "2022-08-01T16:10:17.423Z"
   },
   {
    "duration": 28,
    "start_time": "2022-08-01T16:10:17.438Z"
   },
   {
    "duration": 42,
    "start_time": "2022-08-01T16:10:17.468Z"
   },
   {
    "duration": 30,
    "start_time": "2022-08-01T16:10:17.512Z"
   },
   {
    "duration": 13,
    "start_time": "2022-08-01T16:10:17.543Z"
   },
   {
    "duration": 21,
    "start_time": "2022-08-01T16:10:17.557Z"
   },
   {
    "duration": 30,
    "start_time": "2022-08-01T16:10:17.579Z"
   },
   {
    "duration": 11,
    "start_time": "2022-08-01T16:10:17.611Z"
   },
   {
    "duration": 7,
    "start_time": "2022-08-01T16:10:17.623Z"
   },
   {
    "duration": 10,
    "start_time": "2022-08-01T16:10:17.632Z"
   },
   {
    "duration": 7,
    "start_time": "2022-08-01T16:10:17.644Z"
   },
   {
    "duration": 15,
    "start_time": "2022-08-01T16:10:17.652Z"
   },
   {
    "duration": 48,
    "start_time": "2022-08-01T16:10:17.669Z"
   },
   {
    "duration": 6,
    "start_time": "2022-08-01T16:10:17.718Z"
   },
   {
    "duration": 8,
    "start_time": "2022-08-01T16:10:17.725Z"
   },
   {
    "duration": 19,
    "start_time": "2022-08-01T16:10:17.734Z"
   },
   {
    "duration": 10,
    "start_time": "2022-08-01T16:10:17.755Z"
   },
   {
    "duration": 41,
    "start_time": "2022-08-01T16:10:17.767Z"
   },
   {
    "duration": 12,
    "start_time": "2022-08-01T16:10:17.810Z"
   },
   {
    "duration": 13,
    "start_time": "2022-08-01T16:10:17.823Z"
   },
   {
    "duration": 8,
    "start_time": "2022-08-01T16:10:17.837Z"
   },
   {
    "duration": 16,
    "start_time": "2022-08-01T16:10:17.846Z"
   },
   {
    "duration": 42,
    "start_time": "2022-08-01T16:10:17.863Z"
   },
   {
    "duration": 8,
    "start_time": "2022-08-01T16:10:17.907Z"
   },
   {
    "duration": 15,
    "start_time": "2022-08-01T16:10:17.916Z"
   },
   {
    "duration": 18,
    "start_time": "2022-08-01T16:10:17.933Z"
   },
   {
    "duration": 28,
    "start_time": "2022-08-01T16:10:17.953Z"
   },
   {
    "duration": 21,
    "start_time": "2022-08-01T16:10:17.982Z"
   },
   {
    "duration": 5,
    "start_time": "2022-08-01T16:10:18.004Z"
   },
   {
    "duration": 22,
    "start_time": "2022-08-01T16:10:18.011Z"
   },
   {
    "duration": 5,
    "start_time": "2022-08-01T16:10:18.035Z"
   },
   {
    "duration": 31,
    "start_time": "2022-08-01T16:10:18.042Z"
   },
   {
    "duration": 23,
    "start_time": "2022-08-01T16:10:18.075Z"
   },
   {
    "duration": 8,
    "start_time": "2022-08-01T16:10:18.099Z"
   },
   {
    "duration": 7,
    "start_time": "2022-08-01T16:10:18.109Z"
   },
   {
    "duration": 28,
    "start_time": "2022-08-01T16:10:18.118Z"
   },
   {
    "duration": 16,
    "start_time": "2022-08-01T16:10:18.147Z"
   },
   {
    "duration": 33,
    "start_time": "2022-08-01T16:10:18.165Z"
   },
   {
    "duration": 4,
    "start_time": "2022-08-01T16:10:18.200Z"
   },
   {
    "duration": 40,
    "start_time": "2022-08-01T16:10:18.206Z"
   },
   {
    "duration": 2,
    "start_time": "2022-08-01T16:10:18.248Z"
   },
   {
    "duration": 1344,
    "start_time": "2022-08-01T16:10:18.252Z"
   },
   {
    "duration": 6,
    "start_time": "2022-08-01T16:10:19.597Z"
   },
   {
    "duration": 10,
    "start_time": "2022-08-01T16:10:19.604Z"
   },
   {
    "duration": 11,
    "start_time": "2022-08-01T16:10:19.616Z"
   },
   {
    "duration": 5,
    "start_time": "2022-08-01T16:10:19.629Z"
   },
   {
    "duration": 9,
    "start_time": "2022-08-01T16:10:19.635Z"
   },
   {
    "duration": 10,
    "start_time": "2022-08-01T16:10:19.647Z"
   },
   {
    "duration": 16,
    "start_time": "2022-08-01T16:10:19.659Z"
   },
   {
    "duration": 19,
    "start_time": "2022-08-01T16:10:19.681Z"
   },
   {
    "duration": 5,
    "start_time": "2022-08-01T16:10:19.703Z"
   },
   {
    "duration": 9,
    "start_time": "2022-08-01T16:10:19.709Z"
   },
   {
    "duration": 8,
    "start_time": "2022-08-01T16:10:19.719Z"
   },
   {
    "duration": 14,
    "start_time": "2022-08-01T16:10:19.728Z"
   },
   {
    "duration": 14,
    "start_time": "2022-08-01T16:10:19.744Z"
   },
   {
    "duration": 8,
    "start_time": "2022-08-01T16:10:19.760Z"
   },
   {
    "duration": 7,
    "start_time": "2022-08-01T16:10:19.769Z"
   },
   {
    "duration": 20,
    "start_time": "2022-08-01T16:10:19.778Z"
   },
   {
    "duration": 4,
    "start_time": "2022-08-01T16:10:19.800Z"
   },
   {
    "duration": 6,
    "start_time": "2022-08-01T16:10:19.805Z"
   },
   {
    "duration": 8,
    "start_time": "2022-08-01T16:10:19.813Z"
   },
   {
    "duration": 5,
    "start_time": "2022-08-01T16:10:19.823Z"
   },
   {
    "duration": 8,
    "start_time": "2022-08-01T16:10:19.830Z"
   },
   {
    "duration": 7,
    "start_time": "2022-08-01T16:10:19.839Z"
   },
   {
    "duration": 8,
    "start_time": "2022-08-01T16:10:19.847Z"
   },
   {
    "duration": 7,
    "start_time": "2022-08-01T16:10:19.856Z"
   },
   {
    "duration": 36,
    "start_time": "2022-08-01T16:10:19.864Z"
   },
   {
    "duration": 56,
    "start_time": "2022-08-01T16:10:19.902Z"
   },
   {
    "duration": 4,
    "start_time": "2022-08-01T16:10:19.960Z"
   },
   {
    "duration": 10,
    "start_time": "2022-08-01T16:10:19.965Z"
   },
   {
    "duration": 26,
    "start_time": "2022-08-01T16:10:19.976Z"
   },
   {
    "duration": 7,
    "start_time": "2022-08-01T16:10:20.005Z"
   },
   {
    "duration": 13,
    "start_time": "2022-08-01T16:10:20.014Z"
   },
   {
    "duration": 33,
    "start_time": "2022-08-01T16:10:20.029Z"
   },
   {
    "duration": 14,
    "start_time": "2022-08-01T16:10:20.064Z"
   },
   {
    "duration": 114,
    "start_time": "2022-08-01T16:10:20.079Z"
   },
   {
    "duration": 0,
    "start_time": "2022-08-01T16:10:20.195Z"
   },
   {
    "duration": 0,
    "start_time": "2022-08-01T16:10:20.196Z"
   },
   {
    "duration": 396,
    "start_time": "2022-08-01T16:11:32.456Z"
   },
   {
    "duration": 462,
    "start_time": "2022-08-01T16:11:32.854Z"
   },
   {
    "duration": 362,
    "start_time": "2022-08-01T16:11:33.317Z"
   },
   {
    "duration": 3,
    "start_time": "2022-08-01T16:11:33.682Z"
   },
   {
    "duration": 33,
    "start_time": "2022-08-01T16:11:33.687Z"
   },
   {
    "duration": 21,
    "start_time": "2022-08-01T16:11:33.722Z"
   },
   {
    "duration": 28,
    "start_time": "2022-08-01T16:11:33.745Z"
   },
   {
    "duration": 40,
    "start_time": "2022-08-01T16:11:33.775Z"
   },
   {
    "duration": 64,
    "start_time": "2022-08-01T16:11:33.816Z"
   },
   {
    "duration": 34,
    "start_time": "2022-08-01T16:11:33.884Z"
   },
   {
    "duration": 20,
    "start_time": "2022-08-01T16:11:33.920Z"
   },
   {
    "duration": 6,
    "start_time": "2022-08-01T16:11:33.942Z"
   },
   {
    "duration": 406,
    "start_time": "2022-08-01T16:11:33.950Z"
   },
   {
    "duration": 282,
    "start_time": "2022-08-01T16:11:34.358Z"
   },
   {
    "duration": 62,
    "start_time": "2022-08-01T16:11:34.643Z"
   },
   {
    "duration": 16,
    "start_time": "2022-08-01T16:11:34.707Z"
   },
   {
    "duration": 25,
    "start_time": "2022-08-01T16:11:34.726Z"
   },
   {
    "duration": 6,
    "start_time": "2022-08-01T16:11:34.753Z"
   },
   {
    "duration": 13,
    "start_time": "2022-08-01T16:11:34.761Z"
   },
   {
    "duration": 44,
    "start_time": "2022-08-01T16:11:34.776Z"
   },
   {
    "duration": 19,
    "start_time": "2022-08-01T16:11:34.821Z"
   },
   {
    "duration": 21,
    "start_time": "2022-08-01T16:11:34.842Z"
   },
   {
    "duration": 8,
    "start_time": "2022-08-01T16:11:34.865Z"
   },
   {
    "duration": 34,
    "start_time": "2022-08-01T16:11:34.875Z"
   },
   {
    "duration": 12,
    "start_time": "2022-08-01T16:11:34.912Z"
   },
   {
    "duration": 18,
    "start_time": "2022-08-01T16:11:34.926Z"
   },
   {
    "duration": 9,
    "start_time": "2022-08-01T16:11:34.946Z"
   },
   {
    "duration": 16,
    "start_time": "2022-08-01T16:11:34.959Z"
   },
   {
    "duration": 10,
    "start_time": "2022-08-01T16:11:34.998Z"
   },
   {
    "duration": 8,
    "start_time": "2022-08-01T16:11:35.010Z"
   },
   {
    "duration": 24,
    "start_time": "2022-08-01T16:11:35.020Z"
   },
   {
    "duration": 16,
    "start_time": "2022-08-01T16:11:35.046Z"
   },
   {
    "duration": 20,
    "start_time": "2022-08-01T16:11:35.065Z"
   },
   {
    "duration": 31,
    "start_time": "2022-08-01T16:11:35.088Z"
   },
   {
    "duration": 28,
    "start_time": "2022-08-01T16:11:35.121Z"
   },
   {
    "duration": 57,
    "start_time": "2022-08-01T16:11:35.151Z"
   },
   {
    "duration": 15,
    "start_time": "2022-08-01T16:11:35.210Z"
   },
   {
    "duration": 6,
    "start_time": "2022-08-01T16:11:35.227Z"
   },
   {
    "duration": 25,
    "start_time": "2022-08-01T16:11:35.234Z"
   },
   {
    "duration": 11,
    "start_time": "2022-08-01T16:11:35.260Z"
   },
   {
    "duration": 5,
    "start_time": "2022-08-01T16:11:35.298Z"
   },
   {
    "duration": 15,
    "start_time": "2022-08-01T16:11:35.305Z"
   },
   {
    "duration": 11,
    "start_time": "2022-08-01T16:11:35.321Z"
   },
   {
    "duration": 21,
    "start_time": "2022-08-01T16:11:35.334Z"
   },
   {
    "duration": 53,
    "start_time": "2022-08-01T16:11:35.357Z"
   },
   {
    "duration": 7,
    "start_time": "2022-08-01T16:11:35.412Z"
   },
   {
    "duration": 8,
    "start_time": "2022-08-01T16:11:35.421Z"
   },
   {
    "duration": 19,
    "start_time": "2022-08-01T16:11:35.431Z"
   },
   {
    "duration": 20,
    "start_time": "2022-08-01T16:11:35.452Z"
   },
   {
    "duration": 22,
    "start_time": "2022-08-01T16:11:35.498Z"
   },
   {
    "duration": 16,
    "start_time": "2022-08-01T16:11:35.522Z"
   },
   {
    "duration": 26,
    "start_time": "2022-08-01T16:11:35.539Z"
   },
   {
    "duration": 18,
    "start_time": "2022-08-01T16:11:35.567Z"
   },
   {
    "duration": 35,
    "start_time": "2022-08-01T16:11:35.587Z"
   },
   {
    "duration": 30,
    "start_time": "2022-08-01T16:11:35.623Z"
   },
   {
    "duration": 4,
    "start_time": "2022-08-01T16:11:35.655Z"
   },
   {
    "duration": 25,
    "start_time": "2022-08-01T16:11:35.661Z"
   },
   {
    "duration": 20,
    "start_time": "2022-08-01T16:11:35.688Z"
   },
   {
    "duration": 39,
    "start_time": "2022-08-01T16:11:35.710Z"
   },
   {
    "duration": 13,
    "start_time": "2022-08-01T16:11:35.751Z"
   },
   {
    "duration": 12,
    "start_time": "2022-08-01T16:11:35.765Z"
   },
   {
    "duration": 18,
    "start_time": "2022-08-01T16:11:35.779Z"
   },
   {
    "duration": 16,
    "start_time": "2022-08-01T16:11:35.799Z"
   },
   {
    "duration": 36,
    "start_time": "2022-08-01T16:11:35.817Z"
   },
   {
    "duration": 3,
    "start_time": "2022-08-01T16:11:35.855Z"
   },
   {
    "duration": 23,
    "start_time": "2022-08-01T16:11:35.860Z"
   },
   {
    "duration": 9,
    "start_time": "2022-08-01T16:11:35.885Z"
   },
   {
    "duration": 40,
    "start_time": "2022-08-01T16:11:35.895Z"
   },
   {
    "duration": 15,
    "start_time": "2022-08-01T16:11:35.937Z"
   },
   {
    "duration": 11,
    "start_time": "2022-08-01T16:11:35.953Z"
   },
   {
    "duration": 28,
    "start_time": "2022-08-01T16:11:35.966Z"
   },
   {
    "duration": 43,
    "start_time": "2022-08-01T16:11:35.995Z"
   },
   {
    "duration": 2,
    "start_time": "2022-08-01T16:11:36.040Z"
   },
   {
    "duration": 1405,
    "start_time": "2022-08-01T16:11:36.044Z"
   },
   {
    "duration": 8,
    "start_time": "2022-08-01T16:11:37.451Z"
   },
   {
    "duration": 14,
    "start_time": "2022-08-01T16:11:37.460Z"
   },
   {
    "duration": 21,
    "start_time": "2022-08-01T16:11:37.476Z"
   },
   {
    "duration": 10,
    "start_time": "2022-08-01T16:11:37.499Z"
   },
   {
    "duration": 14,
    "start_time": "2022-08-01T16:11:37.511Z"
   },
   {
    "duration": 11,
    "start_time": "2022-08-01T16:11:37.526Z"
   },
   {
    "duration": 16,
    "start_time": "2022-08-01T16:11:37.538Z"
   },
   {
    "duration": 4,
    "start_time": "2022-08-01T16:11:37.561Z"
   },
   {
    "duration": 6,
    "start_time": "2022-08-01T16:11:37.567Z"
   },
   {
    "duration": 24,
    "start_time": "2022-08-01T16:11:37.575Z"
   },
   {
    "duration": 4,
    "start_time": "2022-08-01T16:11:37.600Z"
   },
   {
    "duration": 20,
    "start_time": "2022-08-01T16:11:37.606Z"
   },
   {
    "duration": 10,
    "start_time": "2022-08-01T16:11:37.628Z"
   },
   {
    "duration": 19,
    "start_time": "2022-08-01T16:11:37.639Z"
   },
   {
    "duration": 6,
    "start_time": "2022-08-01T16:11:37.660Z"
   },
   {
    "duration": 20,
    "start_time": "2022-08-01T16:11:37.668Z"
   },
   {
    "duration": 11,
    "start_time": "2022-08-01T16:11:37.690Z"
   },
   {
    "duration": 10,
    "start_time": "2022-08-01T16:11:37.703Z"
   },
   {
    "duration": 25,
    "start_time": "2022-08-01T16:11:37.714Z"
   },
   {
    "duration": 30,
    "start_time": "2022-08-01T16:11:37.743Z"
   },
   {
    "duration": 8,
    "start_time": "2022-08-01T16:11:37.776Z"
   },
   {
    "duration": 10,
    "start_time": "2022-08-01T16:11:37.785Z"
   },
   {
    "duration": 15,
    "start_time": "2022-08-01T16:11:37.797Z"
   },
   {
    "duration": 11,
    "start_time": "2022-08-01T16:11:37.814Z"
   },
   {
    "duration": 7,
    "start_time": "2022-08-01T16:11:37.827Z"
   },
   {
    "duration": 64,
    "start_time": "2022-08-01T16:11:37.837Z"
   },
   {
    "duration": 4,
    "start_time": "2022-08-01T16:11:37.902Z"
   },
   {
    "duration": 6,
    "start_time": "2022-08-01T16:11:37.908Z"
   },
   {
    "duration": 17,
    "start_time": "2022-08-01T16:11:37.916Z"
   },
   {
    "duration": 11,
    "start_time": "2022-08-01T16:11:37.934Z"
   },
   {
    "duration": 9,
    "start_time": "2022-08-01T16:11:37.947Z"
   },
   {
    "duration": 42,
    "start_time": "2022-08-01T16:11:37.957Z"
   },
   {
    "duration": 6,
    "start_time": "2022-08-01T16:11:38.001Z"
   },
   {
    "duration": 155,
    "start_time": "2022-08-01T16:11:38.008Z"
   },
   {
    "duration": 0,
    "start_time": "2022-08-01T16:11:38.164Z"
   },
   {
    "duration": 0,
    "start_time": "2022-08-01T16:11:38.165Z"
   },
   {
    "duration": 5,
    "start_time": "2022-08-01T16:12:39.415Z"
   },
   {
    "duration": 9,
    "start_time": "2022-08-01T16:12:40.726Z"
   },
   {
    "duration": 6,
    "start_time": "2022-08-01T16:12:48.382Z"
   },
   {
    "duration": 5,
    "start_time": "2022-08-01T16:12:48.710Z"
   },
   {
    "duration": 4,
    "start_time": "2022-08-01T16:12:49.115Z"
   },
   {
    "duration": 4,
    "start_time": "2022-08-01T16:12:50.599Z"
   },
   {
    "duration": 3,
    "start_time": "2022-08-01T16:12:51.607Z"
   },
   {
    "duration": 23,
    "start_time": "2022-08-01T16:13:40.638Z"
   },
   {
    "duration": 5,
    "start_time": "2022-08-01T16:13:50.167Z"
   },
   {
    "duration": 10,
    "start_time": "2022-08-01T16:13:57.078Z"
   },
   {
    "duration": 28,
    "start_time": "2022-08-01T16:14:06.702Z"
   },
   {
    "duration": 3,
    "start_time": "2022-08-01T16:14:07.662Z"
   },
   {
    "duration": 5,
    "start_time": "2022-08-01T16:14:08.901Z"
   },
   {
    "duration": 3,
    "start_time": "2022-08-01T16:14:09.678Z"
   },
   {
    "duration": 5,
    "start_time": "2022-08-01T16:14:16.669Z"
   },
   {
    "duration": 4,
    "start_time": "2022-08-01T16:14:21.486Z"
   },
   {
    "duration": 5,
    "start_time": "2022-08-01T16:14:22.853Z"
   },
   {
    "duration": 4,
    "start_time": "2022-08-01T16:14:33.006Z"
   },
   {
    "duration": 4,
    "start_time": "2022-08-01T16:14:34.869Z"
   },
   {
    "duration": 6,
    "start_time": "2022-08-01T16:17:05.379Z"
   },
   {
    "duration": 3,
    "start_time": "2022-08-01T16:19:58.882Z"
   },
   {
    "duration": 3,
    "start_time": "2022-08-01T16:20:05.610Z"
   },
   {
    "duration": 6,
    "start_time": "2022-08-01T16:43:17.971Z"
   },
   {
    "duration": 32,
    "start_time": "2022-08-01T16:44:18.585Z"
   },
   {
    "duration": 8,
    "start_time": "2022-08-01T16:44:29.001Z"
   },
   {
    "duration": 8,
    "start_time": "2022-08-01T16:44:47.513Z"
   },
   {
    "duration": 27,
    "start_time": "2022-08-01T16:45:35.785Z"
   },
   {
    "duration": 12,
    "start_time": "2022-08-01T16:46:08.233Z"
   },
   {
    "duration": 124,
    "start_time": "2022-08-01T16:47:18.664Z"
   },
   {
    "duration": 150,
    "start_time": "2022-08-01T16:47:34.432Z"
   },
   {
    "duration": 112,
    "start_time": "2022-08-01T16:48:29.832Z"
   },
   {
    "duration": 140,
    "start_time": "2022-08-01T16:48:48.520Z"
   },
   {
    "duration": 5,
    "start_time": "2022-08-01T16:48:56.199Z"
   },
   {
    "duration": 105,
    "start_time": "2022-08-01T16:49:29.079Z"
   },
   {
    "duration": 8,
    "start_time": "2022-08-01T16:50:02.074Z"
   },
   {
    "duration": 102,
    "start_time": "2022-08-01T16:50:10.382Z"
   },
   {
    "duration": 50,
    "start_time": "2022-08-01T16:54:46.252Z"
   },
   {
    "duration": 334,
    "start_time": "2022-08-01T20:52:28.795Z"
   },
   {
    "duration": 437,
    "start_time": "2022-08-01T20:52:29.131Z"
   },
   {
    "duration": 698,
    "start_time": "2022-08-01T20:52:29.570Z"
   },
   {
    "duration": 2,
    "start_time": "2022-08-01T20:52:30.270Z"
   },
   {
    "duration": 18,
    "start_time": "2022-08-01T20:52:30.274Z"
   },
   {
    "duration": 16,
    "start_time": "2022-08-01T20:52:30.293Z"
   },
   {
    "duration": 22,
    "start_time": "2022-08-01T20:52:30.310Z"
   },
   {
    "duration": 30,
    "start_time": "2022-08-01T20:52:30.333Z"
   },
   {
    "duration": 45,
    "start_time": "2022-08-01T20:52:30.365Z"
   },
   {
    "duration": 59,
    "start_time": "2022-08-01T20:52:30.412Z"
   },
   {
    "duration": 19,
    "start_time": "2022-08-01T20:52:30.472Z"
   },
   {
    "duration": 5,
    "start_time": "2022-08-01T20:52:30.493Z"
   },
   {
    "duration": 605,
    "start_time": "2022-08-01T20:52:30.499Z"
   },
   {
    "duration": 183,
    "start_time": "2022-08-01T20:52:31.107Z"
   },
   {
    "duration": 38,
    "start_time": "2022-08-01T20:52:31.292Z"
   },
   {
    "duration": 21,
    "start_time": "2022-08-01T20:52:31.332Z"
   },
   {
    "duration": 18,
    "start_time": "2022-08-01T20:52:31.354Z"
   },
   {
    "duration": 6,
    "start_time": "2022-08-01T20:52:31.374Z"
   },
   {
    "duration": 12,
    "start_time": "2022-08-01T20:52:31.382Z"
   },
   {
    "duration": 21,
    "start_time": "2022-08-01T20:52:31.395Z"
   },
   {
    "duration": 37,
    "start_time": "2022-08-01T20:52:31.417Z"
   },
   {
    "duration": 17,
    "start_time": "2022-08-01T20:52:31.455Z"
   },
   {
    "duration": 2,
    "start_time": "2022-08-01T20:52:31.474Z"
   },
   {
    "duration": 9,
    "start_time": "2022-08-01T20:52:31.478Z"
   },
   {
    "duration": 11,
    "start_time": "2022-08-01T20:52:31.488Z"
   },
   {
    "duration": 12,
    "start_time": "2022-08-01T20:52:31.501Z"
   },
   {
    "duration": 5,
    "start_time": "2022-08-01T20:52:31.515Z"
   },
   {
    "duration": 39,
    "start_time": "2022-08-01T20:52:31.521Z"
   },
   {
    "duration": 4,
    "start_time": "2022-08-01T20:52:31.562Z"
   },
   {
    "duration": 13,
    "start_time": "2022-08-01T20:52:31.568Z"
   },
   {
    "duration": 22,
    "start_time": "2022-08-01T20:52:31.582Z"
   },
   {
    "duration": 2,
    "start_time": "2022-08-01T20:52:31.606Z"
   },
   {
    "duration": 24,
    "start_time": "2022-08-01T20:52:31.610Z"
   },
   {
    "duration": 25,
    "start_time": "2022-08-01T20:52:31.636Z"
   },
   {
    "duration": 18,
    "start_time": "2022-08-01T20:52:31.662Z"
   },
   {
    "duration": 25,
    "start_time": "2022-08-01T20:52:31.682Z"
   },
   {
    "duration": 11,
    "start_time": "2022-08-01T20:52:31.709Z"
   },
   {
    "duration": 7,
    "start_time": "2022-08-01T20:52:31.721Z"
   },
   {
    "duration": 37,
    "start_time": "2022-08-01T20:52:31.729Z"
   },
   {
    "duration": 11,
    "start_time": "2022-08-01T20:52:31.767Z"
   },
   {
    "duration": 12,
    "start_time": "2022-08-01T20:52:31.782Z"
   },
   {
    "duration": 24,
    "start_time": "2022-08-01T20:52:31.795Z"
   },
   {
    "duration": 12,
    "start_time": "2022-08-01T20:52:31.821Z"
   },
   {
    "duration": 23,
    "start_time": "2022-08-01T20:52:31.835Z"
   },
   {
    "duration": 29,
    "start_time": "2022-08-01T20:52:31.859Z"
   },
   {
    "duration": 9,
    "start_time": "2022-08-01T20:52:31.890Z"
   },
   {
    "duration": 9,
    "start_time": "2022-08-01T20:52:31.900Z"
   },
   {
    "duration": 14,
    "start_time": "2022-08-01T20:52:31.911Z"
   },
   {
    "duration": 8,
    "start_time": "2022-08-01T20:52:31.952Z"
   },
   {
    "duration": 14,
    "start_time": "2022-08-01T20:52:31.962Z"
   },
   {
    "duration": 12,
    "start_time": "2022-08-01T20:52:31.977Z"
   },
   {
    "duration": 16,
    "start_time": "2022-08-01T20:52:31.990Z"
   },
   {
    "duration": 13,
    "start_time": "2022-08-01T20:52:32.008Z"
   },
   {
    "duration": 43,
    "start_time": "2022-08-01T20:52:32.022Z"
   },
   {
    "duration": 15,
    "start_time": "2022-08-01T20:52:32.066Z"
   },
   {
    "duration": 9,
    "start_time": "2022-08-01T20:52:32.082Z"
   },
   {
    "duration": 18,
    "start_time": "2022-08-01T20:52:32.093Z"
   },
   {
    "duration": 40,
    "start_time": "2022-08-01T20:52:32.113Z"
   },
   {
    "duration": 32,
    "start_time": "2022-08-01T20:52:32.154Z"
   },
   {
    "duration": 11,
    "start_time": "2022-08-01T20:52:32.188Z"
   },
   {
    "duration": 11,
    "start_time": "2022-08-01T20:52:32.200Z"
   },
   {
    "duration": 22,
    "start_time": "2022-08-01T20:52:32.212Z"
   },
   {
    "duration": 11,
    "start_time": "2022-08-01T20:52:32.236Z"
   },
   {
    "duration": 27,
    "start_time": "2022-08-01T20:52:32.248Z"
   },
   {
    "duration": 3,
    "start_time": "2022-08-01T20:52:32.276Z"
   },
   {
    "duration": 15,
    "start_time": "2022-08-01T20:52:32.280Z"
   },
   {
    "duration": 6,
    "start_time": "2022-08-01T20:52:32.297Z"
   },
   {
    "duration": 56,
    "start_time": "2022-08-01T20:52:32.304Z"
   },
   {
    "duration": 28,
    "start_time": "2022-08-01T20:52:32.363Z"
   },
   {
    "duration": 4,
    "start_time": "2022-08-01T20:52:32.393Z"
   },
   {
    "duration": 7,
    "start_time": "2022-08-01T20:52:32.398Z"
   },
   {
    "duration": 54,
    "start_time": "2022-08-01T20:52:32.407Z"
   },
   {
    "duration": 3,
    "start_time": "2022-08-01T20:52:32.462Z"
   },
   {
    "duration": 1261,
    "start_time": "2022-08-01T20:52:32.466Z"
   },
   {
    "duration": 5,
    "start_time": "2022-08-01T20:52:33.729Z"
   },
   {
    "duration": 18,
    "start_time": "2022-08-01T20:52:33.735Z"
   },
   {
    "duration": 7,
    "start_time": "2022-08-01T20:52:33.754Z"
   },
   {
    "duration": 2,
    "start_time": "2022-08-01T20:52:33.762Z"
   },
   {
    "duration": 5,
    "start_time": "2022-08-01T20:52:33.766Z"
   },
   {
    "duration": 6,
    "start_time": "2022-08-01T20:52:33.773Z"
   },
   {
    "duration": 12,
    "start_time": "2022-08-01T20:52:33.780Z"
   },
   {
    "duration": 5,
    "start_time": "2022-08-01T20:52:33.794Z"
   },
   {
    "duration": 8,
    "start_time": "2022-08-01T20:52:33.800Z"
   },
   {
    "duration": 44,
    "start_time": "2022-08-01T20:52:33.809Z"
   },
   {
    "duration": 3,
    "start_time": "2022-08-01T20:52:33.855Z"
   },
   {
    "duration": 7,
    "start_time": "2022-08-01T20:52:33.859Z"
   },
   {
    "duration": 8,
    "start_time": "2022-08-01T20:52:33.867Z"
   },
   {
    "duration": 2,
    "start_time": "2022-08-01T20:52:33.877Z"
   },
   {
    "duration": 6,
    "start_time": "2022-08-01T20:52:33.881Z"
   },
   {
    "duration": 9,
    "start_time": "2022-08-01T20:52:33.890Z"
   },
   {
    "duration": 6,
    "start_time": "2022-08-01T20:52:33.901Z"
   },
   {
    "duration": 6,
    "start_time": "2022-08-01T20:52:33.908Z"
   },
   {
    "duration": 40,
    "start_time": "2022-08-01T20:52:33.916Z"
   },
   {
    "duration": 6,
    "start_time": "2022-08-01T20:52:33.957Z"
   },
   {
    "duration": 6,
    "start_time": "2022-08-01T20:52:33.964Z"
   },
   {
    "duration": 98,
    "start_time": "2022-08-01T20:52:33.971Z"
   },
   {
    "duration": 0,
    "start_time": "2022-08-01T20:52:34.070Z"
   },
   {
    "duration": 0,
    "start_time": "2022-08-01T20:52:34.071Z"
   },
   {
    "duration": 0,
    "start_time": "2022-08-01T20:52:34.072Z"
   },
   {
    "duration": 0,
    "start_time": "2022-08-01T20:52:34.074Z"
   },
   {
    "duration": 0,
    "start_time": "2022-08-01T20:52:34.074Z"
   },
   {
    "duration": 9,
    "start_time": "2022-08-01T20:52:39.358Z"
   },
   {
    "duration": 5,
    "start_time": "2022-08-01T20:52:48.120Z"
   },
   {
    "duration": 6,
    "start_time": "2022-08-01T20:52:48.520Z"
   },
   {
    "duration": 5,
    "start_time": "2022-08-01T20:52:48.875Z"
   },
   {
    "duration": 5,
    "start_time": "2022-08-01T20:52:49.424Z"
   },
   {
    "duration": 52,
    "start_time": "2022-08-01T20:52:49.984Z"
   },
   {
    "duration": 3,
    "start_time": "2022-08-01T20:52:50.449Z"
   },
   {
    "duration": 4,
    "start_time": "2022-08-01T20:52:51.589Z"
   },
   {
    "duration": 4,
    "start_time": "2022-08-01T20:52:59.767Z"
   }
  ],
  "kernelspec": {
   "display_name": "Python 3 (ipykernel)",
   "language": "python",
   "name": "python3"
  },
  "language_info": {
   "codemirror_mode": {
    "name": "ipython",
    "version": 3
   },
   "file_extension": ".py",
   "mimetype": "text/x-python",
   "name": "python",
   "nbconvert_exporter": "python",
   "pygments_lexer": "ipython3",
   "version": "3.9.5"
  },
  "toc": {
   "base_numbering": 1,
   "nav_menu": {},
   "number_sections": true,
   "sideBar": true,
   "skip_h1_title": true,
   "title_cell": "Table of Contents",
   "title_sidebar": "Contents",
   "toc_cell": false,
   "toc_position": {},
   "toc_section_display": true,
   "toc_window_display": false
  }
 },
 "nbformat": 4,
 "nbformat_minor": 2
}
