{
 "cells": [
  {
   "cell_type": "markdown",
   "metadata": {},
   "source": [
    "## Descrição do Projeto:\n"
   ]
  },
  {
   "cell_type": "markdown",
   "metadata": {},
   "source": [
    "Estae trabalho visa realizar uma analise dos dados da empresa Zuber, uma nova empresa de compartilhamento de caronas que está sendo lançada em Chicago. Iremos buscar padrões nas informações disponíveis e procurar entender as preferências dos passageiros e o impacto de fatores externos nas corridas.\n",
    "Trabalhando com um banco de dados, iremos analisar dados de concorrentes e um teste de hipótese sobre o impacto do clima na frequência das viagens."
   ]
  },
  {
   "cell_type": "markdown",
   "metadata": {},
   "source": [
    "## Importando os dados"
   ]
  },
  {
   "cell_type": "code",
   "execution_count": 1,
   "metadata": {},
   "outputs": [],
   "source": [
    "import pandas as pd \n",
    "import scipy.stats  as spt \n",
    "import seaborn as sns\n",
    "import matplotlib as mplt\n",
    "import matplotlib.pyplot as plt\n",
    "import seaborn as sns\n",
    "import  plotly.express as px"
   ]
  },
  {
   "cell_type": "code",
   "execution_count": 2,
   "id": "838d3273",
   "metadata": {},
   "outputs": [],
   "source": [
    "trips_cnt= pd.read_csv('/datasets/project_sql_result_01.csv')\n"
   ]
  },
  {
   "cell_type": "code",
   "execution_count": 3,
   "metadata": {},
   "outputs": [],
   "source": [
    "average_trips= pd.read_csv('/datasets/project_sql_result_04.csv')"
   ]
  },
  {
   "cell_type": "markdown",
   "metadata": {},
   "source": [
    "## Analise dos datasets"
   ]
  },
  {
   "cell_type": "markdown",
   "metadata": {},
   "source": [
    "O dataset traz informaçõe relacionadas:\n",
    "   - número de corridas para cada empresa de taxi\n",
    "   -empresas de taxi da região\n",
    "   - média de corridas \n",
    "   -Bairros de destino"
   ]
  },
  {
   "cell_type": "code",
   "execution_count": 4,
   "metadata": {
    "scrolled": true
   },
   "outputs": [
    {
     "data": {
      "text/html": [
       "<div>\n",
       "<style scoped>\n",
       "    .dataframe tbody tr th:only-of-type {\n",
       "        vertical-align: middle;\n",
       "    }\n",
       "\n",
       "    .dataframe tbody tr th {\n",
       "        vertical-align: top;\n",
       "    }\n",
       "\n",
       "    .dataframe thead th {\n",
       "        text-align: right;\n",
       "    }\n",
       "</style>\n",
       "<table border=\"1\" class=\"dataframe\">\n",
       "  <thead>\n",
       "    <tr style=\"text-align: right;\">\n",
       "      <th></th>\n",
       "      <th>company_name</th>\n",
       "      <th>trips_amount</th>\n",
       "    </tr>\n",
       "  </thead>\n",
       "  <tbody>\n",
       "    <tr>\n",
       "      <th>0</th>\n",
       "      <td>Flash Cab</td>\n",
       "      <td>19558</td>\n",
       "    </tr>\n",
       "    <tr>\n",
       "      <th>1</th>\n",
       "      <td>Taxi Affiliation Services</td>\n",
       "      <td>11422</td>\n",
       "    </tr>\n",
       "    <tr>\n",
       "      <th>2</th>\n",
       "      <td>Medallion Leasing</td>\n",
       "      <td>10367</td>\n",
       "    </tr>\n",
       "    <tr>\n",
       "      <th>3</th>\n",
       "      <td>Yellow Cab</td>\n",
       "      <td>9888</td>\n",
       "    </tr>\n",
       "    <tr>\n",
       "      <th>4</th>\n",
       "      <td>Taxi Affiliation Service Yellow</td>\n",
       "      <td>9299</td>\n",
       "    </tr>\n",
       "  </tbody>\n",
       "</table>\n",
       "</div>"
      ],
      "text/plain": [
       "                      company_name  trips_amount\n",
       "0                        Flash Cab         19558\n",
       "1        Taxi Affiliation Services         11422\n",
       "2                Medallion Leasing         10367\n",
       "3                       Yellow Cab          9888\n",
       "4  Taxi Affiliation Service Yellow          9299"
      ]
     },
     "execution_count": 4,
     "metadata": {},
     "output_type": "execute_result"
    }
   ],
   "source": [
    "trips_cnt.head(5)"
   ]
  },
  {
   "cell_type": "code",
   "execution_count": 5,
   "metadata": {
    "scrolled": true
   },
   "outputs": [
    {
     "name": "stdout",
     "output_type": "stream",
     "text": [
      "<class 'pandas.core.frame.DataFrame'>\n",
      "RangeIndex: 64 entries, 0 to 63\n",
      "Data columns (total 2 columns):\n",
      " #   Column        Non-Null Count  Dtype \n",
      "---  ------        --------------  ----- \n",
      " 0   company_name  64 non-null     object\n",
      " 1   trips_amount  64 non-null     int64 \n",
      "dtypes: int64(1), object(1)\n",
      "memory usage: 1.1+ KB\n"
     ]
    }
   ],
   "source": [
    "trips_cnt.info()"
   ]
  },
  {
   "cell_type": "code",
   "execution_count": 6,
   "metadata": {
    "scrolled": true
   },
   "outputs": [],
   "source": [
    "trips_cnt['trips_amount'] = trips_cnt['trips_amount'].astype(float)"
   ]
  },
  {
   "cell_type": "markdown",
   "metadata": {},
   "source": [
    "- Afim de padronizar as tabelas, vamos trasformar trips_amount em float. "
   ]
  },
  {
   "cell_type": "code",
   "execution_count": 7,
   "metadata": {
    "scrolled": true
   },
   "outputs": [
    {
     "data": {
      "text/html": [
       "<div>\n",
       "<style scoped>\n",
       "    .dataframe tbody tr th:only-of-type {\n",
       "        vertical-align: middle;\n",
       "    }\n",
       "\n",
       "    .dataframe tbody tr th {\n",
       "        vertical-align: top;\n",
       "    }\n",
       "\n",
       "    .dataframe thead th {\n",
       "        text-align: right;\n",
       "    }\n",
       "</style>\n",
       "<table border=\"1\" class=\"dataframe\">\n",
       "  <thead>\n",
       "    <tr style=\"text-align: right;\">\n",
       "      <th></th>\n",
       "      <th>company_name</th>\n",
       "      <th>trips_amount</th>\n",
       "    </tr>\n",
       "  </thead>\n",
       "  <tbody>\n",
       "    <tr>\n",
       "      <th>0</th>\n",
       "      <td>Flash Cab</td>\n",
       "      <td>19558.0</td>\n",
       "    </tr>\n",
       "    <tr>\n",
       "      <th>1</th>\n",
       "      <td>Taxi Affiliation Services</td>\n",
       "      <td>11422.0</td>\n",
       "    </tr>\n",
       "    <tr>\n",
       "      <th>2</th>\n",
       "      <td>Medallion Leasing</td>\n",
       "      <td>10367.0</td>\n",
       "    </tr>\n",
       "    <tr>\n",
       "      <th>3</th>\n",
       "      <td>Yellow Cab</td>\n",
       "      <td>9888.0</td>\n",
       "    </tr>\n",
       "    <tr>\n",
       "      <th>4</th>\n",
       "      <td>Taxi Affiliation Service Yellow</td>\n",
       "      <td>9299.0</td>\n",
       "    </tr>\n",
       "    <tr>\n",
       "      <th>5</th>\n",
       "      <td>Chicago Carriage Cab Corp</td>\n",
       "      <td>9181.0</td>\n",
       "    </tr>\n",
       "    <tr>\n",
       "      <th>6</th>\n",
       "      <td>City Service</td>\n",
       "      <td>8448.0</td>\n",
       "    </tr>\n",
       "    <tr>\n",
       "      <th>7</th>\n",
       "      <td>Sun Taxi</td>\n",
       "      <td>7701.0</td>\n",
       "    </tr>\n",
       "    <tr>\n",
       "      <th>8</th>\n",
       "      <td>Star North Management LLC</td>\n",
       "      <td>7455.0</td>\n",
       "    </tr>\n",
       "    <tr>\n",
       "      <th>9</th>\n",
       "      <td>Blue Ribbon Taxi Association Inc.</td>\n",
       "      <td>5953.0</td>\n",
       "    </tr>\n",
       "    <tr>\n",
       "      <th>10</th>\n",
       "      <td>Choice Taxi Association</td>\n",
       "      <td>5015.0</td>\n",
       "    </tr>\n",
       "    <tr>\n",
       "      <th>11</th>\n",
       "      <td>Globe Taxi</td>\n",
       "      <td>4383.0</td>\n",
       "    </tr>\n",
       "    <tr>\n",
       "      <th>12</th>\n",
       "      <td>Dispatch Taxi Affiliation</td>\n",
       "      <td>3355.0</td>\n",
       "    </tr>\n",
       "    <tr>\n",
       "      <th>13</th>\n",
       "      <td>Nova Taxi Affiliation Llc</td>\n",
       "      <td>3175.0</td>\n",
       "    </tr>\n",
       "    <tr>\n",
       "      <th>14</th>\n",
       "      <td>Patriot Taxi Dba Peace Taxi Association</td>\n",
       "      <td>2235.0</td>\n",
       "    </tr>\n",
       "  </tbody>\n",
       "</table>\n",
       "</div>"
      ],
      "text/plain": [
       "                               company_name  trips_amount\n",
       "0                                 Flash Cab       19558.0\n",
       "1                 Taxi Affiliation Services       11422.0\n",
       "2                         Medallion Leasing       10367.0\n",
       "3                                Yellow Cab        9888.0\n",
       "4           Taxi Affiliation Service Yellow        9299.0\n",
       "5                 Chicago Carriage Cab Corp        9181.0\n",
       "6                              City Service        8448.0\n",
       "7                                  Sun Taxi        7701.0\n",
       "8                 Star North Management LLC        7455.0\n",
       "9         Blue Ribbon Taxi Association Inc.        5953.0\n",
       "10                  Choice Taxi Association        5015.0\n",
       "11                               Globe Taxi        4383.0\n",
       "12                Dispatch Taxi Affiliation        3355.0\n",
       "13                Nova Taxi Affiliation Llc        3175.0\n",
       "14  Patriot Taxi Dba Peace Taxi Association        2235.0"
      ]
     },
     "execution_count": 7,
     "metadata": {},
     "output_type": "execute_result"
    }
   ],
   "source": [
    "trips_cnt.sort_values(by= 'trips_amount', ascending= False).head(15)"
   ]
  },
  {
   "cell_type": "code",
   "execution_count": 8,
   "metadata": {},
   "outputs": [
    {
     "data": {
      "text/plain": [
       "count                   64\n",
       "unique                  64\n",
       "top       Metro Jet Taxi A\n",
       "freq                     1\n",
       "Name: company_name, dtype: object"
      ]
     },
     "execution_count": 8,
     "metadata": {},
     "output_type": "execute_result"
    }
   ],
   "source": [
    "trips_cnt['company_name'].describe()"
   ]
  },
  {
   "cell_type": "code",
   "execution_count": 9,
   "metadata": {
    "scrolled": true
   },
   "outputs": [
    {
     "data": {
      "text/plain": [
       "False    64\n",
       "dtype: int64"
      ]
     },
     "execution_count": 9,
     "metadata": {},
     "output_type": "execute_result"
    }
   ],
   "source": [
    "trips_cnt.duplicated().value_counts()"
   ]
  },
  {
   "cell_type": "code",
   "execution_count": 10,
   "metadata": {
    "scrolled": true
   },
   "outputs": [
    {
     "data": {
      "text/html": [
       "<div>\n",
       "<style scoped>\n",
       "    .dataframe tbody tr th:only-of-type {\n",
       "        vertical-align: middle;\n",
       "    }\n",
       "\n",
       "    .dataframe tbody tr th {\n",
       "        vertical-align: top;\n",
       "    }\n",
       "\n",
       "    .dataframe thead th {\n",
       "        text-align: right;\n",
       "    }\n",
       "</style>\n",
       "<table border=\"1\" class=\"dataframe\">\n",
       "  <thead>\n",
       "    <tr style=\"text-align: right;\">\n",
       "      <th></th>\n",
       "      <th>trips_amount</th>\n",
       "    </tr>\n",
       "  </thead>\n",
       "  <tbody>\n",
       "    <tr>\n",
       "      <th>count</th>\n",
       "      <td>64.000000</td>\n",
       "    </tr>\n",
       "    <tr>\n",
       "      <th>mean</th>\n",
       "      <td>2145.484375</td>\n",
       "    </tr>\n",
       "    <tr>\n",
       "      <th>std</th>\n",
       "      <td>3812.310186</td>\n",
       "    </tr>\n",
       "    <tr>\n",
       "      <th>min</th>\n",
       "      <td>2.000000</td>\n",
       "    </tr>\n",
       "    <tr>\n",
       "      <th>25%</th>\n",
       "      <td>20.750000</td>\n",
       "    </tr>\n",
       "    <tr>\n",
       "      <th>50%</th>\n",
       "      <td>178.500000</td>\n",
       "    </tr>\n",
       "    <tr>\n",
       "      <th>75%</th>\n",
       "      <td>2106.500000</td>\n",
       "    </tr>\n",
       "    <tr>\n",
       "      <th>max</th>\n",
       "      <td>19558.000000</td>\n",
       "    </tr>\n",
       "  </tbody>\n",
       "</table>\n",
       "</div>"
      ],
      "text/plain": [
       "       trips_amount\n",
       "count     64.000000\n",
       "mean    2145.484375\n",
       "std     3812.310186\n",
       "min        2.000000\n",
       "25%       20.750000\n",
       "50%      178.500000\n",
       "75%     2106.500000\n",
       "max    19558.000000"
      ]
     },
     "execution_count": 10,
     "metadata": {},
     "output_type": "execute_result"
    }
   ],
   "source": [
    "trips_cnt.describe()"
   ]
  },
  {
   "cell_type": "markdown",
   "metadata": {},
   "source": [
    "A destribuição de trips_amount não é homogênea, já que a média é bem superior a mediana, e o quartil superior (>75%) possui um valor bem acima dos demais, o que significa dizer que um número pequeno de empresas vão concentrar quantidade de corridas mais elevadas.  \n"
   ]
  },
  {
   "cell_type": "markdown",
   "metadata": {},
   "source": [
    "### Analise de average_trips"
   ]
  },
  {
   "cell_type": "code",
   "execution_count": 11,
   "metadata": {
    "scrolled": false
   },
   "outputs": [
    {
     "data": {
      "text/html": [
       "<div>\n",
       "<style scoped>\n",
       "    .dataframe tbody tr th:only-of-type {\n",
       "        vertical-align: middle;\n",
       "    }\n",
       "\n",
       "    .dataframe tbody tr th {\n",
       "        vertical-align: top;\n",
       "    }\n",
       "\n",
       "    .dataframe thead th {\n",
       "        text-align: right;\n",
       "    }\n",
       "</style>\n",
       "<table border=\"1\" class=\"dataframe\">\n",
       "  <thead>\n",
       "    <tr style=\"text-align: right;\">\n",
       "      <th></th>\n",
       "      <th>dropoff_location_name</th>\n",
       "      <th>average_trips</th>\n",
       "    </tr>\n",
       "  </thead>\n",
       "  <tbody>\n",
       "    <tr>\n",
       "      <th>0</th>\n",
       "      <td>Loop</td>\n",
       "      <td>10727.466667</td>\n",
       "    </tr>\n",
       "    <tr>\n",
       "      <th>1</th>\n",
       "      <td>River North</td>\n",
       "      <td>9523.666667</td>\n",
       "    </tr>\n",
       "    <tr>\n",
       "      <th>2</th>\n",
       "      <td>Streeterville</td>\n",
       "      <td>6664.666667</td>\n",
       "    </tr>\n",
       "    <tr>\n",
       "      <th>3</th>\n",
       "      <td>West Loop</td>\n",
       "      <td>5163.666667</td>\n",
       "    </tr>\n",
       "    <tr>\n",
       "      <th>4</th>\n",
       "      <td>O'Hare</td>\n",
       "      <td>2546.900000</td>\n",
       "    </tr>\n",
       "    <tr>\n",
       "      <th>5</th>\n",
       "      <td>Lake View</td>\n",
       "      <td>2420.966667</td>\n",
       "    </tr>\n",
       "    <tr>\n",
       "      <th>6</th>\n",
       "      <td>Grant Park</td>\n",
       "      <td>2068.533333</td>\n",
       "    </tr>\n",
       "    <tr>\n",
       "      <th>7</th>\n",
       "      <td>Museum Campus</td>\n",
       "      <td>1510.000000</td>\n",
       "    </tr>\n",
       "    <tr>\n",
       "      <th>8</th>\n",
       "      <td>Gold Coast</td>\n",
       "      <td>1364.233333</td>\n",
       "    </tr>\n",
       "    <tr>\n",
       "      <th>9</th>\n",
       "      <td>Sheffield &amp; DePaul</td>\n",
       "      <td>1259.766667</td>\n",
       "    </tr>\n",
       "  </tbody>\n",
       "</table>\n",
       "</div>"
      ],
      "text/plain": [
       "  dropoff_location_name  average_trips\n",
       "0                  Loop   10727.466667\n",
       "1           River North    9523.666667\n",
       "2         Streeterville    6664.666667\n",
       "3             West Loop    5163.666667\n",
       "4                O'Hare    2546.900000\n",
       "5             Lake View    2420.966667\n",
       "6            Grant Park    2068.533333\n",
       "7         Museum Campus    1510.000000\n",
       "8            Gold Coast    1364.233333\n",
       "9    Sheffield & DePaul    1259.766667"
      ]
     },
     "execution_count": 11,
     "metadata": {},
     "output_type": "execute_result"
    }
   ],
   "source": [
    "average_trips.sort_values(by= 'average_trips', ascending= False).head(10)"
   ]
  },
  {
   "cell_type": "markdown",
   "metadata": {},
   "source": [
    "   - Acima estão listados os 10+ destinos."
   ]
  },
  {
   "cell_type": "code",
   "execution_count": 12,
   "metadata": {
    "scrolled": true
   },
   "outputs": [
    {
     "name": "stdout",
     "output_type": "stream",
     "text": [
      "<class 'pandas.core.frame.DataFrame'>\n",
      "RangeIndex: 94 entries, 0 to 93\n",
      "Data columns (total 2 columns):\n",
      " #   Column                 Non-Null Count  Dtype  \n",
      "---  ------                 --------------  -----  \n",
      " 0   dropoff_location_name  94 non-null     object \n",
      " 1   average_trips          94 non-null     float64\n",
      "dtypes: float64(1), object(1)\n",
      "memory usage: 1.6+ KB\n"
     ]
    }
   ],
   "source": [
    "average_trips.info()"
   ]
  },
  {
   "cell_type": "code",
   "execution_count": 13,
   "metadata": {
    "scrolled": true
   },
   "outputs": [
    {
     "data": {
      "text/plain": [
       "count          94\n",
       "unique         94\n",
       "top       Ashburn\n",
       "freq            1\n",
       "Name: dropoff_location_name, dtype: object"
      ]
     },
     "execution_count": 13,
     "metadata": {},
     "output_type": "execute_result"
    }
   ],
   "source": [
    "average_trips['dropoff_location_name'].describe()"
   ]
  },
  {
   "cell_type": "code",
   "execution_count": 14,
   "metadata": {
    "scrolled": false
   },
   "outputs": [
    {
     "data": {
      "text/html": [
       "<div>\n",
       "<style scoped>\n",
       "    .dataframe tbody tr th:only-of-type {\n",
       "        vertical-align: middle;\n",
       "    }\n",
       "\n",
       "    .dataframe tbody tr th {\n",
       "        vertical-align: top;\n",
       "    }\n",
       "\n",
       "    .dataframe thead th {\n",
       "        text-align: right;\n",
       "    }\n",
       "</style>\n",
       "<table border=\"1\" class=\"dataframe\">\n",
       "  <thead>\n",
       "    <tr style=\"text-align: right;\">\n",
       "      <th></th>\n",
       "      <th>average_trips</th>\n",
       "    </tr>\n",
       "  </thead>\n",
       "  <tbody>\n",
       "    <tr>\n",
       "      <th>count</th>\n",
       "      <td>94.000000</td>\n",
       "    </tr>\n",
       "    <tr>\n",
       "      <th>mean</th>\n",
       "      <td>599.953728</td>\n",
       "    </tr>\n",
       "    <tr>\n",
       "      <th>std</th>\n",
       "      <td>1714.591098</td>\n",
       "    </tr>\n",
       "    <tr>\n",
       "      <th>min</th>\n",
       "      <td>1.800000</td>\n",
       "    </tr>\n",
       "    <tr>\n",
       "      <th>25%</th>\n",
       "      <td>14.266667</td>\n",
       "    </tr>\n",
       "    <tr>\n",
       "      <th>50%</th>\n",
       "      <td>52.016667</td>\n",
       "    </tr>\n",
       "    <tr>\n",
       "      <th>75%</th>\n",
       "      <td>298.858333</td>\n",
       "    </tr>\n",
       "    <tr>\n",
       "      <th>max</th>\n",
       "      <td>10727.466667</td>\n",
       "    </tr>\n",
       "  </tbody>\n",
       "</table>\n",
       "</div>"
      ],
      "text/plain": [
       "       average_trips\n",
       "count      94.000000\n",
       "mean      599.953728\n",
       "std      1714.591098\n",
       "min         1.800000\n",
       "25%        14.266667\n",
       "50%        52.016667\n",
       "75%       298.858333\n",
       "max     10727.466667"
      ]
     },
     "execution_count": 14,
     "metadata": {},
     "output_type": "execute_result"
    }
   ],
   "source": [
    "average_trips.describe()"
   ]
  },
  {
   "cell_type": "markdown",
   "metadata": {},
   "source": [
    "### Analise de gráficos: "
   ]
  },
  {
   "cell_type": "markdown",
   "metadata": {},
   "source": [
    "#### Analise de gráficos: empresas de táxi X número de corridas "
   ]
  },
  {
   "cell_type": "code",
   "execution_count": 15,
   "metadata": {
    "scrolled": false
   },
   "outputs": [
    {
     "data": {
      "text/plain": [
       "(0.0, 30.0)"
      ]
     },
     "execution_count": 15,
     "metadata": {},
     "output_type": "execute_result"
    },
    {
     "data": {
      "image/png": "[encoded data removed]",
      "text/plain": [
       "<Figure size 1224x360 with 1 Axes>"
      ]
     },
     "metadata": {
      "needs_background": "light"
     },
     "output_type": "display_data"
    }
   ],
   "source": [
    "trips_cnt.plot(kind='bar', figsize=(17,5), x='company_name' )\n",
    "plt.xlim( xmin= 0, xmax= 30 )\n",
    "\n"
   ]
  },
  {
   "cell_type": "markdown",
   "metadata": {},
   "source": [
    "   * A empresa Flash Cab possui um valor bem mais elevado das demais empresas.\n",
    "   *  Existe um grupo de 15 empresas com um número de corridas acima de 2500.\n",
    "   "
   ]
  },
  {
   "cell_type": "markdown",
   "metadata": {},
   "source": [
    "#### Analise de gráficos: Top 10 bairros por número de corridas "
   ]
  },
  {
   "cell_type": "code",
   "execution_count": 16,
   "metadata": {},
   "outputs": [
    {
     "data": {
      "text/plain": [
       "(0.0, 35.0)"
      ]
     },
     "execution_count": 16,
     "metadata": {},
     "output_type": "execute_result"
    },
    {
     "data": {
      "image/png": "[encoded data removed]",
      "text/plain": [
       "<Figure size 1080x504 with 1 Axes>"
      ]
     },
     "metadata": {
      "needs_background": "light"
     },
     "output_type": "display_data"
    }
   ],
   "source": [
    "average_trips.plot(kind='bar', figsize=(15,7), x ='dropoff_location_name' )\n",
    "plt.xlim( xmin= 0, xmax= 35 )\n"
   ]
  },
  {
   "cell_type": "markdown",
   "metadata": {},
   "source": [
    "    Um grupo pequeno formado por 10 bairros concentra o maior número de corridas, os bairros com valores menos expressivos tem um número de corridas < 1200. \n",
    "    Portanto vamos usar esse valor como número de corte pra selecionar os bairros com mais destinos. "
   ]
  },
  {
   "cell_type": "code",
   "execution_count": 17,
   "metadata": {},
   "outputs": [],
   "source": [
    "trips_filter= average_trips.query('average_trips > 1250')\n"
   ]
  },
  {
   "cell_type": "code",
   "execution_count": 18,
   "metadata": {},
   "outputs": [
    {
     "data": {
      "text/plain": [
       "<AxesSubplot:xlabel='Bairros de destino', ylabel='Médias de Viagem'>"
      ]
     },
     "execution_count": 18,
     "metadata": {},
     "output_type": "execute_result"
    },
    {
     "data": {
      "image/png": "[encoded data removed]",
      "text/plain": [
       "<Figure size 1080x504 with 1 Axes>"
      ]
     },
     "metadata": {
      "needs_background": "light"
     },
     "output_type": "display_data"
    }
   ],
   "source": [
    "trips_filter.plot(kind='bar', figsize=(15,7), x ='dropoff_location_name', xlabel= 'Bairros de destino', ylabel = 'Médias de Viagem'   )\n"
   ]
  },
  {
   "cell_type": "markdown",
   "metadata": {},
   "source": [
    "   * O 4 principais bairros possuem valores bem acima, > 5000, dos demais que se encontram na faixa <2000 .\n",
    "     "
   ]
  },
  {
   "cell_type": "markdown",
   "metadata": {},
   "source": [
    "## Teste de hipóteses\n"
   ]
  },
  {
   "cell_type": "markdown",
   "metadata": {},
   "source": [
    "   Nesta etapa iremos realizar um teste de hipótese, para testar as seguintes condições:\n",
    "  * A hipótese nula: \"A duração média dos passeios do Loop para o Aeroporto Internacional O'Hare são iguais nos sábados chuvosos.\" \n",
    "   * A hipótese alternativa: aonde a durção das corridas de fato mudam. \n",
    "        \n",
    "   Para efetuar os testes,  vamos primeiramente filtra a tabela pela coluna weather_conditions que contém as informações sobre o clima, em 2 variáveis com o clima Good e Bad respectivamente, de acordo com o tempo de duração de cada corrida.    \n",
    "   "
   ]
  },
  {
   "cell_type": "code",
   "execution_count": 19,
   "metadata": {
    "scrolled": true
   },
   "outputs": [
    {
     "data": {
      "text/html": [
       "<div>\n",
       "<style scoped>\n",
       "    .dataframe tbody tr th:only-of-type {\n",
       "        vertical-align: middle;\n",
       "    }\n",
       "\n",
       "    .dataframe tbody tr th {\n",
       "        vertical-align: top;\n",
       "    }\n",
       "\n",
       "    .dataframe thead th {\n",
       "        text-align: right;\n",
       "    }\n",
       "</style>\n",
       "<table border=\"1\" class=\"dataframe\">\n",
       "  <thead>\n",
       "    <tr style=\"text-align: right;\">\n",
       "      <th></th>\n",
       "      <th>start_ts</th>\n",
       "      <th>weather_conditions</th>\n",
       "      <th>duration_seconds</th>\n",
       "    </tr>\n",
       "  </thead>\n",
       "  <tbody>\n",
       "    <tr>\n",
       "      <th>0</th>\n",
       "      <td>2017-11-25 16:00:00</td>\n",
       "      <td>Good</td>\n",
       "      <td>2410.0</td>\n",
       "    </tr>\n",
       "    <tr>\n",
       "      <th>1</th>\n",
       "      <td>2017-11-25 14:00:00</td>\n",
       "      <td>Good</td>\n",
       "      <td>1920.0</td>\n",
       "    </tr>\n",
       "    <tr>\n",
       "      <th>2</th>\n",
       "      <td>2017-11-25 12:00:00</td>\n",
       "      <td>Good</td>\n",
       "      <td>1543.0</td>\n",
       "    </tr>\n",
       "  </tbody>\n",
       "</table>\n",
       "</div>"
      ],
      "text/plain": [
       "              start_ts weather_conditions  duration_seconds\n",
       "0  2017-11-25 16:00:00               Good            2410.0\n",
       "1  2017-11-25 14:00:00               Good            1920.0\n",
       "2  2017-11-25 12:00:00               Good            1543.0"
      ]
     },
     "execution_count": 19,
     "metadata": {},
     "output_type": "execute_result"
    }
   ],
   "source": [
    "trips_cnt= pd.read_csv('/datasets/project_sql_result_07.csv')\n",
    "trips_cnt.head(3)"
   ]
  },
  {
   "cell_type": "code",
   "execution_count": 20,
   "metadata": {
    "scrolled": true
   },
   "outputs": [
    {
     "data": {
      "text/plain": [
       "0      2017-11-25 16:00:00\n",
       "1      2017-11-25 14:00:00\n",
       "2      2017-11-25 12:00:00\n",
       "3      2017-11-04 10:00:00\n",
       "4      2017-11-11 07:00:00\n",
       "               ...        \n",
       "1063   2017-11-25 11:00:00\n",
       "1064   2017-11-11 10:00:00\n",
       "1065   2017-11-11 13:00:00\n",
       "1066   2017-11-11 08:00:00\n",
       "1067   2017-11-04 16:00:00\n",
       "Name: start_ts, Length: 1068, dtype: datetime64[ns]"
      ]
     },
     "execution_count": 20,
     "metadata": {},
     "output_type": "execute_result"
    }
   ],
   "source": [
    "pd.to_datetime(trips_cnt['start_ts'])"
   ]
  },
  {
   "cell_type": "code",
   "execution_count": 21,
   "metadata": {
    "scrolled": true
   },
   "outputs": [
    {
     "name": "stdout",
     "output_type": "stream",
     "text": [
      "p-value:  6.738994326108734e-12\n",
      "We reject the null hypothesis\n"
     ]
    }
   ],
   "source": [
    "\n",
    "weather_trip_B= trips_cnt.query(\"weather_conditions == 'Bad'\")\n",
    "weather_trip_G= trips_cnt.query(\"weather_conditions == 'Good'\")\n",
    "\n",
    "result_test= spt.ttest_ind(weather_trip_B['duration_seconds'] , weather_trip_G['duration_seconds']  , equal_var=False)\n",
    "\n",
    "alpha= 0.05\n",
    "print('p-value: ', result_test.pvalue)\n",
    "\n",
    "if result_test.pvalue < alpha:\n",
    "    print(\"We reject the null hypothesis\")\n",
    "else:\n",
    "    print(\"We can't reject the null hypothesis\") "
   ]
  },
  {
   "cell_type": "markdown",
   "metadata": {},
   "source": [
    " ### Conclusões"
   ]
  },
  {
   "cell_type": "markdown",
   "metadata": {},
   "source": [
    "     Os dados iniciais, após a devida etapa de pré-processamento e analise inicial, puderam fornecer analises interessantes, sobre como cada empresa de Taxi tem resultados diferentes de acordo com o comportamento dos usuários e a localização das corridas. Dentres as quais destacamos abaixo:\n",
    "   -  A empresa Flash Cab possui um valor bem mais elevado das demais empresas.\n",
    "   -  Existe um grupo de 15 empresas com um número de corridas acima de 2500.\n",
    "   - O 4 principais destinos possuem valores bem acima (> 5000), dos demais que se encontram na faixa <2000 .\n",
    "\n",
    "  Foi também realizado um teste de hipóteses,  aonde pudemos estimar que as médias da viagens ao aeroporto de fato mudam em dias de chuva.  "
   ]
  }
 ],
 "metadata": {
  "ExecuteTimeLog": [
   {
    "duration": 43,
    "start_time": "2022-08-15T01:25:29.716Z"
   },
   {
    "duration": 51,
    "start_time": "2022-08-15T01:25:32.965Z"
   },
   {
    "duration": 6,
    "start_time": "2022-08-15T01:25:33.155Z"
   },
   {
    "duration": 1326,
    "start_time": "2022-08-15T01:25:53.819Z"
   },
   {
    "duration": 78,
    "start_time": "2022-08-15T01:25:55.147Z"
   },
   {
    "duration": 10,
    "start_time": "2022-08-15T01:26:04.750Z"
   },
   {
    "duration": 27,
    "start_time": "2022-08-15T01:26:44.035Z"
   },
   {
    "duration": 31,
    "start_time": "2022-08-15T01:26:55.652Z"
   },
   {
    "duration": 7,
    "start_time": "2022-08-15T01:26:56.321Z"
   },
   {
    "duration": 1648,
    "start_time": "2022-08-15T13:31:08.449Z"
   },
   {
    "duration": 86,
    "start_time": "2022-08-15T13:31:10.100Z"
   },
   {
    "duration": 14,
    "start_time": "2022-08-15T13:31:10.189Z"
   },
   {
    "duration": 143,
    "start_time": "2022-08-15T14:19:45.637Z"
   },
   {
    "duration": 7,
    "start_time": "2022-08-15T14:19:53.467Z"
   },
   {
    "duration": 2,
    "start_time": "2022-08-15T14:22:01.401Z"
   },
   {
    "duration": 12,
    "start_time": "2022-08-15T14:23:06.488Z"
   },
   {
    "duration": 13,
    "start_time": "2022-08-15T14:23:09.438Z"
   },
   {
    "duration": 9,
    "start_time": "2022-08-15T14:23:34.471Z"
   },
   {
    "duration": 16,
    "start_time": "2022-08-15T14:23:46.399Z"
   },
   {
    "duration": 9,
    "start_time": "2022-08-15T14:24:19.503Z"
   },
   {
    "duration": 118,
    "start_time": "2022-08-15T14:24:29.452Z"
   },
   {
    "duration": 6,
    "start_time": "2022-08-15T14:24:33.879Z"
   },
   {
    "duration": 5,
    "start_time": "2022-08-15T14:24:38.383Z"
   },
   {
    "duration": 5,
    "start_time": "2022-08-15T14:24:42.176Z"
   },
   {
    "duration": 13,
    "start_time": "2022-08-15T14:24:47.807Z"
   },
   {
    "duration": 4,
    "start_time": "2022-08-15T14:24:56.150Z"
   },
   {
    "duration": 14,
    "start_time": "2022-08-15T14:25:00.533Z"
   },
   {
    "duration": 14,
    "start_time": "2022-08-15T14:25:05.238Z"
   },
   {
    "duration": 9,
    "start_time": "2022-08-15T14:25:32.966Z"
   },
   {
    "duration": 15,
    "start_time": "2022-08-15T14:25:40.637Z"
   },
   {
    "duration": 18,
    "start_time": "2022-08-15T14:25:46.042Z"
   },
   {
    "duration": 5,
    "start_time": "2022-08-15T14:25:56.903Z"
   },
   {
    "duration": 10,
    "start_time": "2022-08-15T14:26:05.895Z"
   },
   {
    "duration": 9,
    "start_time": "2022-08-15T14:26:14.981Z"
   },
   {
    "duration": 14,
    "start_time": "2022-08-15T14:26:29.545Z"
   },
   {
    "duration": 9,
    "start_time": "2022-08-15T14:27:00.359Z"
   },
   {
    "duration": 9,
    "start_time": "2022-08-15T14:28:32.962Z"
   },
   {
    "duration": 9,
    "start_time": "2022-08-15T14:28:37.988Z"
   },
   {
    "duration": 9,
    "start_time": "2022-08-15T14:29:02.853Z"
   },
   {
    "duration": 8,
    "start_time": "2022-08-15T14:29:21.396Z"
   },
   {
    "duration": 8,
    "start_time": "2022-08-15T14:29:26.955Z"
   },
   {
    "duration": 17,
    "start_time": "2022-08-15T14:37:32.850Z"
   },
   {
    "duration": 20,
    "start_time": "2022-08-15T14:37:41.104Z"
   },
   {
    "duration": 12,
    "start_time": "2022-08-15T14:37:51.865Z"
   },
   {
    "duration": 14,
    "start_time": "2022-08-15T14:37:59.343Z"
   },
   {
    "duration": 9,
    "start_time": "2022-08-15T14:38:10.537Z"
   },
   {
    "duration": 12,
    "start_time": "2022-08-15T14:38:15.740Z"
   },
   {
    "duration": 9,
    "start_time": "2022-08-15T14:38:34.567Z"
   },
   {
    "duration": 30,
    "start_time": "2022-08-15T14:38:40.331Z"
   },
   {
    "duration": 7,
    "start_time": "2022-08-15T14:38:43.743Z"
   },
   {
    "duration": 12,
    "start_time": "2022-08-15T14:38:50.407Z"
   },
   {
    "duration": 10,
    "start_time": "2022-08-15T14:38:52.663Z"
   },
   {
    "duration": 7,
    "start_time": "2022-08-15T14:39:01.454Z"
   },
   {
    "duration": 8,
    "start_time": "2022-08-15T14:41:08.693Z"
   },
   {
    "duration": 11,
    "start_time": "2022-08-15T14:41:15.894Z"
   },
   {
    "duration": 19,
    "start_time": "2022-08-15T14:41:19.551Z"
   },
   {
    "duration": 16,
    "start_time": "2022-08-15T14:41:24.469Z"
   },
   {
    "duration": 28,
    "start_time": "2022-08-15T14:41:32.440Z"
   },
   {
    "duration": 23,
    "start_time": "2022-08-15T14:41:38.949Z"
   },
   {
    "duration": 14,
    "start_time": "2022-08-15T14:41:53.439Z"
   },
   {
    "duration": 9,
    "start_time": "2022-08-15T14:41:59.560Z"
   },
   {
    "duration": 26,
    "start_time": "2022-08-15T14:42:05.134Z"
   },
   {
    "duration": 11,
    "start_time": "2022-08-15T14:42:09.589Z"
   },
   {
    "duration": 8,
    "start_time": "2022-08-15T14:42:24.276Z"
   },
   {
    "duration": 5,
    "start_time": "2022-08-15T14:42:31.597Z"
   },
   {
    "duration": 5,
    "start_time": "2022-08-15T14:42:37.269Z"
   },
   {
    "duration": 12,
    "start_time": "2022-08-15T14:42:57.838Z"
   },
   {
    "duration": 11,
    "start_time": "2022-08-15T14:43:03.741Z"
   },
   {
    "duration": 10,
    "start_time": "2022-08-15T14:43:45.173Z"
   },
   {
    "duration": 4,
    "start_time": "2022-08-15T14:43:51.148Z"
   },
   {
    "duration": 8,
    "start_time": "2022-08-15T14:43:54.137Z"
   },
   {
    "duration": 5,
    "start_time": "2022-08-15T14:44:03.637Z"
   },
   {
    "duration": 14,
    "start_time": "2022-08-15T14:44:06.404Z"
   },
   {
    "duration": 7,
    "start_time": "2022-08-15T14:44:28.307Z"
   },
   {
    "duration": 5,
    "start_time": "2022-08-15T14:44:30.988Z"
   },
   {
    "duration": 3,
    "start_time": "2022-08-15T14:44:32.956Z"
   },
   {
    "duration": 4,
    "start_time": "2022-08-15T14:44:33.642Z"
   },
   {
    "duration": 5,
    "start_time": "2022-08-15T14:44:44.457Z"
   },
   {
    "duration": 1245,
    "start_time": "2022-08-15T14:44:53.364Z"
   },
   {
    "duration": 47,
    "start_time": "2022-08-15T14:44:54.611Z"
   },
   {
    "duration": 9,
    "start_time": "2022-08-15T14:44:54.660Z"
   },
   {
    "duration": 36,
    "start_time": "2022-08-15T14:44:54.671Z"
   },
   {
    "duration": 42,
    "start_time": "2022-08-15T14:44:54.709Z"
   },
   {
    "duration": 20,
    "start_time": "2022-08-15T14:44:54.754Z"
   },
   {
    "duration": 41,
    "start_time": "2022-08-15T14:44:54.776Z"
   },
   {
    "duration": 38,
    "start_time": "2022-08-15T14:44:54.819Z"
   },
   {
    "duration": 23,
    "start_time": "2022-08-15T14:44:54.859Z"
   },
   {
    "duration": 23,
    "start_time": "2022-08-15T14:44:54.885Z"
   },
   {
    "duration": 4,
    "start_time": "2022-08-15T14:45:56.910Z"
   },
   {
    "duration": 6,
    "start_time": "2022-08-15T14:46:13.861Z"
   },
   {
    "duration": 10,
    "start_time": "2022-08-15T14:46:21.985Z"
   },
   {
    "duration": 69,
    "start_time": "2022-08-15T14:46:43.901Z"
   },
   {
    "duration": 9,
    "start_time": "2022-08-15T14:46:44.683Z"
   },
   {
    "duration": 4,
    "start_time": "2022-08-15T14:46:44.853Z"
   },
   {
    "duration": 6,
    "start_time": "2022-08-15T14:46:47.964Z"
   },
   {
    "duration": 19,
    "start_time": "2022-08-15T14:46:52.108Z"
   },
   {
    "duration": 1165,
    "start_time": "2022-08-15T18:09:46.958Z"
   },
   {
    "duration": 44,
    "start_time": "2022-08-15T18:09:48.125Z"
   },
   {
    "duration": 10,
    "start_time": "2022-08-15T18:09:48.171Z"
   },
   {
    "duration": 14,
    "start_time": "2022-08-15T18:09:48.183Z"
   },
   {
    "duration": 6,
    "start_time": "2022-08-15T18:09:48.199Z"
   },
   {
    "duration": 11,
    "start_time": "2022-08-15T18:09:48.206Z"
   },
   {
    "duration": 10,
    "start_time": "2022-08-15T18:09:48.218Z"
   },
   {
    "duration": 7,
    "start_time": "2022-08-15T18:09:48.229Z"
   },
   {
    "duration": 58,
    "start_time": "2022-08-15T18:09:48.238Z"
   },
   {
    "duration": 0,
    "start_time": "2022-08-15T18:09:48.298Z"
   },
   {
    "duration": 0,
    "start_time": "2022-08-15T18:09:48.299Z"
   },
   {
    "duration": 0,
    "start_time": "2022-08-15T18:09:48.300Z"
   },
   {
    "duration": 0,
    "start_time": "2022-08-15T18:09:48.301Z"
   },
   {
    "duration": 1135,
    "start_time": "2022-08-15T18:10:10.423Z"
   },
   {
    "duration": 42,
    "start_time": "2022-08-15T18:10:11.559Z"
   },
   {
    "duration": 12,
    "start_time": "2022-08-15T18:10:11.603Z"
   },
   {
    "duration": 21,
    "start_time": "2022-08-15T18:10:11.617Z"
   },
   {
    "duration": 6,
    "start_time": "2022-08-15T18:10:11.639Z"
   },
   {
    "duration": 10,
    "start_time": "2022-08-15T18:10:11.647Z"
   },
   {
    "duration": 9,
    "start_time": "2022-08-15T18:10:11.659Z"
   },
   {
    "duration": 8,
    "start_time": "2022-08-15T18:10:11.669Z"
   },
   {
    "duration": 14,
    "start_time": "2022-08-15T18:10:11.678Z"
   },
   {
    "duration": 18,
    "start_time": "2022-08-15T18:10:11.694Z"
   },
   {
    "duration": 9,
    "start_time": "2022-08-15T18:10:11.714Z"
   },
   {
    "duration": 19,
    "start_time": "2022-08-15T18:10:11.724Z"
   },
   {
    "duration": 159,
    "start_time": "2022-08-15T18:30:34.858Z"
   },
   {
    "duration": 95,
    "start_time": "2022-08-15T18:31:18.666Z"
   },
   {
    "duration": 9,
    "start_time": "2022-08-15T18:31:30.867Z"
   },
   {
    "duration": 9,
    "start_time": "2022-08-15T18:31:38.331Z"
   },
   {
    "duration": 6,
    "start_time": "2022-08-15T18:31:51.354Z"
   },
   {
    "duration": 9,
    "start_time": "2022-08-15T18:31:59.666Z"
   },
   {
    "duration": 11,
    "start_time": "2022-08-15T18:32:04.419Z"
   },
   {
    "duration": 10,
    "start_time": "2022-08-15T18:32:07.459Z"
   },
   {
    "duration": 6,
    "start_time": "2022-08-15T18:33:22.700Z"
   },
   {
    "duration": 7,
    "start_time": "2022-08-15T18:33:36.026Z"
   },
   {
    "duration": 8,
    "start_time": "2022-08-15T18:35:22.815Z"
   },
   {
    "duration": 781,
    "start_time": "2022-08-15T18:35:34.154Z"
   },
   {
    "duration": 930,
    "start_time": "2022-08-15T18:35:56.448Z"
   },
   {
    "duration": 819,
    "start_time": "2022-08-15T18:36:24.745Z"
   },
   {
    "duration": 210,
    "start_time": "2022-08-15T18:36:44.160Z"
   },
   {
    "duration": 878,
    "start_time": "2022-08-15T18:37:02.144Z"
   },
   {
    "duration": 906,
    "start_time": "2022-08-15T18:37:09.850Z"
   },
   {
    "duration": 832,
    "start_time": "2022-08-15T18:37:46.055Z"
   },
   {
    "duration": 5,
    "start_time": "2022-08-15T18:40:08.398Z"
   },
   {
    "duration": 14,
    "start_time": "2022-08-15T18:40:45.484Z"
   },
   {
    "duration": 109,
    "start_time": "2022-08-15T18:41:19.086Z"
   },
   {
    "duration": 42,
    "start_time": "2022-08-15T18:41:25.726Z"
   },
   {
    "duration": 796,
    "start_time": "2022-08-15T18:43:48.500Z"
   },
   {
    "duration": 57,
    "start_time": "2022-08-15T18:43:59.155Z"
   },
   {
    "duration": 891,
    "start_time": "2022-08-15T18:44:03.699Z"
   },
   {
    "duration": 765,
    "start_time": "2022-08-15T18:44:17.940Z"
   },
   {
    "duration": 817,
    "start_time": "2022-08-15T18:44:28.899Z"
   },
   {
    "duration": 436,
    "start_time": "2022-08-15T18:45:18.347Z"
   },
   {
    "duration": 361,
    "start_time": "2022-08-15T18:45:38.003Z"
   },
   {
    "duration": 355,
    "start_time": "2022-08-15T18:46:37.913Z"
   },
   {
    "duration": 507,
    "start_time": "2022-08-15T18:46:55.571Z"
   },
   {
    "duration": 8,
    "start_time": "2022-08-15T18:48:16.992Z"
   },
   {
    "duration": 477,
    "start_time": "2022-08-15T18:48:27.425Z"
   },
   {
    "duration": 1289,
    "start_time": "2022-08-15T18:48:38.847Z"
   },
   {
    "duration": 8,
    "start_time": "2022-08-15T18:50:10.608Z"
   },
   {
    "duration": 780,
    "start_time": "2022-08-15T18:50:11.799Z"
   },
   {
    "duration": 27,
    "start_time": "2022-08-15T19:03:24.752Z"
   },
   {
    "duration": 17,
    "start_time": "2022-08-15T19:03:25.382Z"
   },
   {
    "duration": 1185,
    "start_time": "2022-08-15T19:03:31.984Z"
   },
   {
    "duration": 29,
    "start_time": "2022-08-15T19:03:33.171Z"
   },
   {
    "duration": 21,
    "start_time": "2022-08-15T19:03:33.201Z"
   },
   {
    "duration": 9,
    "start_time": "2022-08-15T19:03:33.225Z"
   },
   {
    "duration": 32,
    "start_time": "2022-08-15T19:03:33.235Z"
   },
   {
    "duration": 6,
    "start_time": "2022-08-15T19:03:33.268Z"
   },
   {
    "duration": 14,
    "start_time": "2022-08-15T19:03:33.276Z"
   },
   {
    "duration": 23,
    "start_time": "2022-08-15T19:03:33.291Z"
   },
   {
    "duration": 5,
    "start_time": "2022-08-15T19:03:33.315Z"
   },
   {
    "duration": 28,
    "start_time": "2022-08-15T19:03:33.322Z"
   },
   {
    "duration": 15,
    "start_time": "2022-08-15T19:03:33.352Z"
   },
   {
    "duration": 29,
    "start_time": "2022-08-15T19:03:33.369Z"
   },
   {
    "duration": 10,
    "start_time": "2022-08-15T19:03:33.399Z"
   },
   {
    "duration": 24,
    "start_time": "2022-08-15T19:03:33.411Z"
   },
   {
    "duration": 14,
    "start_time": "2022-08-15T19:03:33.436Z"
   },
   {
    "duration": 384,
    "start_time": "2022-08-15T19:03:33.451Z"
   },
   {
    "duration": 53,
    "start_time": "2022-08-17T12:15:59.584Z"
   },
   {
    "duration": 0,
    "start_time": "2022-08-17T12:15:59.639Z"
   },
   {
    "duration": 0,
    "start_time": "2022-08-17T12:15:59.641Z"
   },
   {
    "duration": 0,
    "start_time": "2022-08-17T12:15:59.642Z"
   },
   {
    "duration": 0,
    "start_time": "2022-08-17T12:15:59.643Z"
   },
   {
    "duration": 0,
    "start_time": "2022-08-17T12:15:59.644Z"
   },
   {
    "duration": 0,
    "start_time": "2022-08-17T12:15:59.645Z"
   },
   {
    "duration": 0,
    "start_time": "2022-08-17T12:15:59.646Z"
   },
   {
    "duration": 0,
    "start_time": "2022-08-17T12:15:59.648Z"
   },
   {
    "duration": 0,
    "start_time": "2022-08-17T12:15:59.648Z"
   },
   {
    "duration": 0,
    "start_time": "2022-08-17T12:15:59.649Z"
   },
   {
    "duration": 0,
    "start_time": "2022-08-17T12:15:59.650Z"
   },
   {
    "duration": 0,
    "start_time": "2022-08-17T12:15:59.652Z"
   },
   {
    "duration": 0,
    "start_time": "2022-08-17T12:15:59.653Z"
   },
   {
    "duration": 0,
    "start_time": "2022-08-17T12:15:59.654Z"
   },
   {
    "duration": 0,
    "start_time": "2022-08-17T12:15:59.655Z"
   },
   {
    "duration": 0,
    "start_time": "2022-08-17T12:15:59.655Z"
   },
   {
    "duration": 0,
    "start_time": "2022-08-17T12:15:59.656Z"
   },
   {
    "duration": 0,
    "start_time": "2022-08-17T12:15:59.657Z"
   },
   {
    "duration": 0,
    "start_time": "2022-08-17T12:15:59.658Z"
   },
   {
    "duration": 0,
    "start_time": "2022-08-17T12:15:59.659Z"
   },
   {
    "duration": 0,
    "start_time": "2022-08-17T12:15:59.660Z"
   },
   {
    "duration": 0,
    "start_time": "2022-08-17T12:15:59.661Z"
   },
   {
    "duration": 0,
    "start_time": "2022-08-17T12:15:59.662Z"
   },
   {
    "duration": 0,
    "start_time": "2022-08-17T12:15:59.663Z"
   },
   {
    "duration": 0,
    "start_time": "2022-08-17T12:15:59.664Z"
   },
   {
    "duration": 0,
    "start_time": "2022-08-17T12:15:59.665Z"
   },
   {
    "duration": 0,
    "start_time": "2022-08-17T12:15:59.666Z"
   },
   {
    "duration": 0,
    "start_time": "2022-08-17T12:15:59.667Z"
   },
   {
    "duration": 0,
    "start_time": "2022-08-17T12:15:59.668Z"
   },
   {
    "duration": 45,
    "start_time": "2022-08-17T12:15:59.841Z"
   },
   {
    "duration": 0,
    "start_time": "2022-08-17T12:15:59.888Z"
   },
   {
    "duration": 0,
    "start_time": "2022-08-17T12:15:59.889Z"
   },
   {
    "duration": 0,
    "start_time": "2022-08-17T12:15:59.891Z"
   },
   {
    "duration": 0,
    "start_time": "2022-08-17T12:15:59.892Z"
   },
   {
    "duration": 0,
    "start_time": "2022-08-17T12:15:59.893Z"
   },
   {
    "duration": 0,
    "start_time": "2022-08-17T12:15:59.894Z"
   },
   {
    "duration": 0,
    "start_time": "2022-08-17T12:15:59.895Z"
   },
   {
    "duration": 0,
    "start_time": "2022-08-17T12:15:59.896Z"
   },
   {
    "duration": 0,
    "start_time": "2022-08-17T12:15:59.897Z"
   },
   {
    "duration": 0,
    "start_time": "2022-08-17T12:15:59.898Z"
   },
   {
    "duration": 0,
    "start_time": "2022-08-17T12:15:59.899Z"
   },
   {
    "duration": 0,
    "start_time": "2022-08-17T12:15:59.900Z"
   },
   {
    "duration": 0,
    "start_time": "2022-08-17T12:15:59.901Z"
   },
   {
    "duration": 0,
    "start_time": "2022-08-17T12:15:59.901Z"
   },
   {
    "duration": 1135,
    "start_time": "2022-08-17T13:47:49.339Z"
   },
   {
    "duration": 27,
    "start_time": "2022-08-17T13:47:50.476Z"
   },
   {
    "duration": 16,
    "start_time": "2022-08-17T13:47:50.505Z"
   },
   {
    "duration": 10,
    "start_time": "2022-08-17T13:47:50.523Z"
   },
   {
    "duration": 12,
    "start_time": "2022-08-17T13:47:50.535Z"
   },
   {
    "duration": 10,
    "start_time": "2022-08-17T13:47:50.549Z"
   },
   {
    "duration": 10,
    "start_time": "2022-08-17T13:47:50.560Z"
   },
   {
    "duration": 10,
    "start_time": "2022-08-17T13:47:50.571Z"
   },
   {
    "duration": 7,
    "start_time": "2022-08-17T13:47:50.583Z"
   },
   {
    "duration": 11,
    "start_time": "2022-08-17T13:47:50.610Z"
   },
   {
    "duration": 12,
    "start_time": "2022-08-17T13:47:50.624Z"
   },
   {
    "duration": 14,
    "start_time": "2022-08-17T13:47:50.638Z"
   },
   {
    "duration": 5,
    "start_time": "2022-08-17T13:47:50.654Z"
   },
   {
    "duration": 19,
    "start_time": "2022-08-17T13:47:50.661Z"
   },
   {
    "duration": 34,
    "start_time": "2022-08-17T13:47:50.682Z"
   },
   {
    "duration": 466,
    "start_time": "2022-08-17T13:47:50.718Z"
   },
   {
    "duration": 466,
    "start_time": "2022-08-17T13:47:51.186Z"
   },
   {
    "duration": 7,
    "start_time": "2022-08-17T13:47:51.654Z"
   },
   {
    "duration": 198,
    "start_time": "2022-08-17T13:47:51.663Z"
   },
   {
    "duration": 41,
    "start_time": "2022-08-17T13:47:51.863Z"
   },
   {
    "duration": 8,
    "start_time": "2022-08-17T13:47:51.906Z"
   },
   {
    "duration": 9,
    "start_time": "2022-08-17T13:47:51.916Z"
   },
   {
    "duration": 58,
    "start_time": "2022-08-17T13:47:51.927Z"
   },
   {
    "duration": 0,
    "start_time": "2022-08-17T13:47:51.987Z"
   },
   {
    "duration": 0,
    "start_time": "2022-08-17T13:47:51.989Z"
   },
   {
    "duration": 0,
    "start_time": "2022-08-17T13:47:51.991Z"
   },
   {
    "duration": 0,
    "start_time": "2022-08-17T13:47:51.992Z"
   },
   {
    "duration": 0,
    "start_time": "2022-08-17T13:47:51.993Z"
   },
   {
    "duration": 0,
    "start_time": "2022-08-17T13:47:51.995Z"
   },
   {
    "duration": 0,
    "start_time": "2022-08-17T13:47:51.997Z"
   },
   {
    "duration": 0,
    "start_time": "2022-08-17T13:47:51.998Z"
   },
   {
    "duration": 0,
    "start_time": "2022-08-17T13:47:51.999Z"
   },
   {
    "duration": 0,
    "start_time": "2022-08-17T13:47:52.001Z"
   },
   {
    "duration": 0,
    "start_time": "2022-08-17T13:47:52.003Z"
   },
   {
    "duration": 0,
    "start_time": "2022-08-17T13:47:52.004Z"
   },
   {
    "duration": 0,
    "start_time": "2022-08-17T13:47:52.005Z"
   },
   {
    "duration": 0,
    "start_time": "2022-08-17T13:47:52.007Z"
   },
   {
    "duration": 0,
    "start_time": "2022-08-17T13:47:52.008Z"
   },
   {
    "duration": 0,
    "start_time": "2022-08-17T13:47:52.010Z"
   },
   {
    "duration": 0,
    "start_time": "2022-08-17T13:47:52.012Z"
   },
   {
    "duration": 0,
    "start_time": "2022-08-17T13:47:52.013Z"
   },
   {
    "duration": 0,
    "start_time": "2022-08-17T13:47:52.015Z"
   },
   {
    "duration": 0,
    "start_time": "2022-08-17T13:47:52.016Z"
   },
   {
    "duration": 0,
    "start_time": "2022-08-17T13:47:52.018Z"
   },
   {
    "duration": 187,
    "start_time": "2022-08-17T13:49:24.139Z"
   },
   {
    "duration": 189,
    "start_time": "2022-08-17T13:49:51.420Z"
   },
   {
    "duration": 250,
    "start_time": "2022-08-17T13:51:04.227Z"
   },
   {
    "duration": 8,
    "start_time": "2022-08-17T21:33:52.268Z"
   },
   {
    "duration": 105,
    "start_time": "2022-08-17T21:35:34.074Z"
   },
   {
    "duration": 1130,
    "start_time": "2022-08-17T21:35:47.645Z"
   },
   {
    "duration": 27,
    "start_time": "2022-08-17T21:35:48.777Z"
   },
   {
    "duration": 14,
    "start_time": "2022-08-17T21:35:48.806Z"
   },
   {
    "duration": 9,
    "start_time": "2022-08-17T21:35:48.822Z"
   },
   {
    "duration": 9,
    "start_time": "2022-08-17T21:35:48.833Z"
   },
   {
    "duration": 5,
    "start_time": "2022-08-17T21:35:48.844Z"
   },
   {
    "duration": 9,
    "start_time": "2022-08-17T21:35:48.850Z"
   },
   {
    "duration": 8,
    "start_time": "2022-08-17T21:35:48.860Z"
   },
   {
    "duration": 26,
    "start_time": "2022-08-17T21:35:48.870Z"
   },
   {
    "duration": 11,
    "start_time": "2022-08-17T21:35:48.898Z"
   },
   {
    "duration": 14,
    "start_time": "2022-08-17T21:35:48.910Z"
   },
   {
    "duration": 16,
    "start_time": "2022-08-17T21:35:48.926Z"
   },
   {
    "duration": 15,
    "start_time": "2022-08-17T21:35:48.944Z"
   },
   {
    "duration": 6,
    "start_time": "2022-08-17T21:35:48.961Z"
   },
   {
    "duration": 10,
    "start_time": "2022-08-17T21:35:48.968Z"
   },
   {
    "duration": 12,
    "start_time": "2022-08-17T21:35:48.979Z"
   },
   {
    "duration": 431,
    "start_time": "2022-08-17T21:35:48.992Z"
   },
   {
    "duration": 458,
    "start_time": "2022-08-17T21:35:49.425Z"
   },
   {
    "duration": 5,
    "start_time": "2022-08-17T21:35:49.885Z"
   },
   {
    "duration": 202,
    "start_time": "2022-08-17T21:35:49.891Z"
   },
   {
    "duration": 41,
    "start_time": "2022-08-17T21:35:50.094Z"
   },
   {
    "duration": 6,
    "start_time": "2022-08-17T21:35:50.137Z"
   },
   {
    "duration": 9,
    "start_time": "2022-08-17T21:35:50.144Z"
   },
   {
    "duration": 108,
    "start_time": "2022-08-17T21:36:22.058Z"
   },
   {
    "duration": 9,
    "start_time": "2022-08-17T21:36:25.386Z"
   },
   {
    "duration": 1161,
    "start_time": "2022-08-17T21:36:59.532Z"
   },
   {
    "duration": 27,
    "start_time": "2022-08-17T21:37:00.695Z"
   },
   {
    "duration": 14,
    "start_time": "2022-08-17T21:37:00.724Z"
   },
   {
    "duration": 9,
    "start_time": "2022-08-17T21:37:00.740Z"
   },
   {
    "duration": 10,
    "start_time": "2022-08-17T21:37:00.751Z"
   },
   {
    "duration": 17,
    "start_time": "2022-08-17T21:37:00.763Z"
   },
   {
    "duration": 48,
    "start_time": "2022-08-17T21:37:00.781Z"
   },
   {
    "duration": 10,
    "start_time": "2022-08-17T21:37:00.830Z"
   },
   {
    "duration": 7,
    "start_time": "2022-08-17T21:37:00.842Z"
   },
   {
    "duration": 13,
    "start_time": "2022-08-17T21:37:00.850Z"
   },
   {
    "duration": 11,
    "start_time": "2022-08-17T21:37:00.864Z"
   },
   {
    "duration": 15,
    "start_time": "2022-08-17T21:37:00.876Z"
   },
   {
    "duration": 4,
    "start_time": "2022-08-17T21:37:00.893Z"
   },
   {
    "duration": 14,
    "start_time": "2022-08-17T21:37:00.900Z"
   },
   {
    "duration": 13,
    "start_time": "2022-08-17T21:37:00.916Z"
   },
   {
    "duration": 430,
    "start_time": "2022-08-17T21:37:00.930Z"
   },
   {
    "duration": 480,
    "start_time": "2022-08-17T21:37:01.362Z"
   },
   {
    "duration": 4,
    "start_time": "2022-08-17T21:37:01.844Z"
   },
   {
    "duration": 200,
    "start_time": "2022-08-17T21:37:01.850Z"
   },
   {
    "duration": 41,
    "start_time": "2022-08-17T21:37:02.051Z"
   },
   {
    "duration": 6,
    "start_time": "2022-08-17T21:37:02.094Z"
   },
   {
    "duration": 9,
    "start_time": "2022-08-17T21:37:02.101Z"
   },
   {
    "duration": 1500,
    "start_time": "2022-08-20T14:39:20.054Z"
   },
   {
    "duration": 66,
    "start_time": "2022-08-20T14:39:21.556Z"
   },
   {
    "duration": 58,
    "start_time": "2022-08-20T14:39:21.624Z"
   },
   {
    "duration": 11,
    "start_time": "2022-08-20T14:39:21.684Z"
   },
   {
    "duration": 11,
    "start_time": "2022-08-20T14:39:21.697Z"
   },
   {
    "duration": 6,
    "start_time": "2022-08-20T14:39:21.710Z"
   },
   {
    "duration": 16,
    "start_time": "2022-08-20T14:39:21.718Z"
   },
   {
    "duration": 13,
    "start_time": "2022-08-20T14:39:21.736Z"
   },
   {
    "duration": 11,
    "start_time": "2022-08-20T14:39:21.751Z"
   },
   {
    "duration": 15,
    "start_time": "2022-08-20T14:39:21.764Z"
   },
   {
    "duration": 15,
    "start_time": "2022-08-20T14:39:21.780Z"
   },
   {
    "duration": 12,
    "start_time": "2022-08-20T14:39:21.796Z"
   },
   {
    "duration": 6,
    "start_time": "2022-08-20T14:39:21.810Z"
   },
   {
    "duration": 9,
    "start_time": "2022-08-20T14:39:21.819Z"
   },
   {
    "duration": 39,
    "start_time": "2022-08-20T14:39:21.830Z"
   },
   {
    "duration": 527,
    "start_time": "2022-08-20T14:39:21.871Z"
   },
   {
    "duration": 536,
    "start_time": "2022-08-20T14:39:22.401Z"
   },
   {
    "duration": 5,
    "start_time": "2022-08-20T14:39:22.939Z"
   },
   {
    "duration": 226,
    "start_time": "2022-08-20T14:39:22.946Z"
   },
   {
    "duration": 88,
    "start_time": "2022-08-20T14:39:23.174Z"
   },
   {
    "duration": 9,
    "start_time": "2022-08-20T14:39:23.264Z"
   },
   {
    "duration": 11,
    "start_time": "2022-08-20T14:39:23.275Z"
   },
   {
    "duration": 97,
    "start_time": "2022-08-20T14:41:25.284Z"
   },
   {
    "duration": 1520,
    "start_time": "2022-08-20T14:42:10.435Z"
   },
   {
    "duration": 1253,
    "start_time": "2022-08-20T14:42:24.093Z"
   },
   {
    "duration": 89,
    "start_time": "2022-08-20T14:52:38.465Z"
   },
   {
    "duration": 68,
    "start_time": "2022-08-20T14:52:43.148Z"
   },
   {
    "duration": 1413,
    "start_time": "2022-08-28T00:17:53.999Z"
   },
   {
    "duration": 63,
    "start_time": "2022-08-28T00:17:55.414Z"
   },
   {
    "duration": 68,
    "start_time": "2022-08-28T00:17:55.479Z"
   },
   {
    "duration": 12,
    "start_time": "2022-08-28T00:17:55.550Z"
   },
   {
    "duration": 11,
    "start_time": "2022-08-28T00:17:55.564Z"
   },
   {
    "duration": 5,
    "start_time": "2022-08-28T00:17:55.577Z"
   },
   {
    "duration": 15,
    "start_time": "2022-08-28T00:17:55.584Z"
   },
   {
    "duration": 19,
    "start_time": "2022-08-28T00:17:55.603Z"
   },
   {
    "duration": 8,
    "start_time": "2022-08-28T00:17:55.623Z"
   },
   {
    "duration": 12,
    "start_time": "2022-08-28T00:17:55.634Z"
   },
   {
    "duration": 15,
    "start_time": "2022-08-28T00:17:55.647Z"
   },
   {
    "duration": 32,
    "start_time": "2022-08-28T00:17:55.664Z"
   },
   {
    "duration": 14,
    "start_time": "2022-08-28T00:17:55.697Z"
   },
   {
    "duration": 12,
    "start_time": "2022-08-28T00:17:55.712Z"
   },
   {
    "duration": 14,
    "start_time": "2022-08-28T00:17:55.726Z"
   },
   {
    "duration": 493,
    "start_time": "2022-08-28T00:17:55.741Z"
   },
   {
    "duration": 526,
    "start_time": "2022-08-28T00:17:56.236Z"
   },
   {
    "duration": 4,
    "start_time": "2022-08-28T00:17:56.764Z"
   },
   {
    "duration": 206,
    "start_time": "2022-08-28T00:17:56.770Z"
   },
   {
    "duration": 100,
    "start_time": "2022-08-28T00:17:56.978Z"
   },
   {
    "duration": 13,
    "start_time": "2022-08-28T00:17:57.080Z"
   },
   {
    "duration": 17,
    "start_time": "2022-08-28T00:17:57.097Z"
   },
   {
    "duration": 78,
    "start_time": "2022-08-28T00:19:06.201Z"
   },
   {
    "duration": 44,
    "start_time": "2022-08-31T23:29:59.374Z"
   },
   {
    "duration": 1337,
    "start_time": "2022-08-31T23:30:09.531Z"
   },
   {
    "duration": 69,
    "start_time": "2022-08-31T23:30:10.870Z"
   },
   {
    "duration": 48,
    "start_time": "2022-08-31T23:30:10.941Z"
   },
   {
    "duration": 11,
    "start_time": "2022-08-31T23:30:10.990Z"
   },
   {
    "duration": 11,
    "start_time": "2022-08-31T23:30:11.003Z"
   },
   {
    "duration": 6,
    "start_time": "2022-08-31T23:30:11.016Z"
   },
   {
    "duration": 10,
    "start_time": "2022-08-31T23:30:11.024Z"
   },
   {
    "duration": 8,
    "start_time": "2022-08-31T23:30:11.036Z"
   },
   {
    "duration": 5,
    "start_time": "2022-08-31T23:30:11.046Z"
   },
   {
    "duration": 18,
    "start_time": "2022-08-31T23:30:11.052Z"
   },
   {
    "duration": 14,
    "start_time": "2022-08-31T23:30:11.072Z"
   },
   {
    "duration": 10,
    "start_time": "2022-08-31T23:30:11.088Z"
   },
   {
    "duration": 7,
    "start_time": "2022-08-31T23:30:11.099Z"
   },
   {
    "duration": 7,
    "start_time": "2022-08-31T23:30:11.108Z"
   },
   {
    "duration": 8,
    "start_time": "2022-08-31T23:30:11.116Z"
   },
   {
    "duration": 11,
    "start_time": "2022-08-31T23:30:11.125Z"
   },
   {
    "duration": 488,
    "start_time": "2022-08-31T23:30:11.138Z"
   },
   {
    "duration": 477,
    "start_time": "2022-08-31T23:30:11.627Z"
   },
   {
    "duration": 5,
    "start_time": "2022-08-31T23:30:12.106Z"
   },
   {
    "duration": 203,
    "start_time": "2022-08-31T23:30:12.113Z"
   },
   {
    "duration": 106,
    "start_time": "2022-08-31T23:30:12.318Z"
   },
   {
    "duration": 8,
    "start_time": "2022-08-31T23:30:12.425Z"
   },
   {
    "duration": 13,
    "start_time": "2022-08-31T23:30:12.434Z"
   },
   {
    "duration": 1422,
    "start_time": "2022-09-01T02:27:18.795Z"
   },
   {
    "duration": 82,
    "start_time": "2022-09-01T02:27:20.219Z"
   },
   {
    "duration": 48,
    "start_time": "2022-09-01T02:27:20.302Z"
   },
   {
    "duration": 10,
    "start_time": "2022-09-01T02:27:20.352Z"
   },
   {
    "duration": 12,
    "start_time": "2022-09-01T02:27:20.364Z"
   },
   {
    "duration": 22,
    "start_time": "2022-09-01T02:27:20.378Z"
   },
   {
    "duration": 13,
    "start_time": "2022-09-01T02:27:20.402Z"
   },
   {
    "duration": 8,
    "start_time": "2022-09-01T02:27:20.417Z"
   },
   {
    "duration": 5,
    "start_time": "2022-09-01T02:27:20.427Z"
   },
   {
    "duration": 12,
    "start_time": "2022-09-01T02:27:20.433Z"
   },
   {
    "duration": 9,
    "start_time": "2022-09-01T02:27:20.446Z"
   },
   {
    "duration": 14,
    "start_time": "2022-09-01T02:27:20.467Z"
   },
   {
    "duration": 29,
    "start_time": "2022-09-01T02:27:20.483Z"
   },
   {
    "duration": 11,
    "start_time": "2022-09-01T02:27:20.515Z"
   },
   {
    "duration": 497,
    "start_time": "2022-09-01T02:27:20.527Z"
   },
   {
    "duration": 533,
    "start_time": "2022-09-01T02:27:21.026Z"
   },
   {
    "duration": 10,
    "start_time": "2022-09-01T02:27:21.568Z"
   },
   {
    "duration": 233,
    "start_time": "2022-09-01T02:27:21.580Z"
   },
   {
    "duration": 89,
    "start_time": "2022-09-01T02:27:21.815Z"
   },
   {
    "duration": 7,
    "start_time": "2022-09-01T02:27:21.905Z"
   },
   {
    "duration": 16,
    "start_time": "2022-09-01T02:27:21.914Z"
   },
   {
    "duration": 72,
    "start_time": "2022-09-01T02:27:50.922Z"
   }
  ],
  "kernelspec": {
   "display_name": "Python 3 (ipykernel)",
   "language": "python",
   "name": "python3"
  },
  "language_info": {
   "codemirror_mode": {
    "name": "ipython",
    "version": 3
   },
   "file_extension": ".py",
   "mimetype": "text/x-python",
   "name": "python",
   "nbconvert_exporter": "python",
   "pygments_lexer": "ipython3",
   "version": "3.9.5"
  },
  "toc": {
   "base_numbering": 1,
   "nav_menu": {},
   "number_sections": true,
   "sideBar": true,
   "skip_h1_title": true,
   "title_cell": "Table of Contents",
   "title_sidebar": "Contents",
   "toc_cell": false,
   "toc_position": {},
   "toc_section_display": true,
   "toc_window_display": false
  }
 },
 "nbformat": 4,
 "nbformat_minor": 2
}
