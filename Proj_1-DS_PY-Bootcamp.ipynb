{
 "cells": [
  {
   "cell_type": "markdown",
   "metadata": {},
   "source": [
    "# Análise do risco de inadimplência dos mutuários\n",
    "\n",
    "O projeto visa elaborar um relatório para a divisão de empréstimos de um banco, para descobrir se o estado civil de um cliente e o número de filhos têm impacto sobre se ele deixará de pagar um empréstimo. O banco já tem alguns dados sobre a capacidade de crédito dos clientes.\n",
    "\n",
    "O relatório será considerado ao criar uma **pontuação de crédito** de um cliente em potencial. A **contagem de crédito** é usada para avaliar a capacidade de um devedor em potencial de pagar seu empréstimo.\n"
   ]
  },
  {
   "cell_type": "markdown",
   "metadata": {},
   "source": [
    "## Abra o arquivo de dados e veja as informações gerais.\n",
    "\n",
    "Importando as bibliotecas e carregando os dados. "
   ]
  },
  {
   "cell_type": "code",
   "execution_count": 1,
   "metadata": {},
   "outputs": [],
   "source": [
    "import pandas as pd"
   ]
  },
  {
   "cell_type": "code",
   "execution_count": 2,
   "metadata": {},
   "outputs": [],
   "source": [
    "try:\n",
    "    df = pd.read_csv('/datasets/credit_scoring_eng.csv')\n",
    "except:\n",
    "    df= pd.read_csv('/home/franco/Documentos/Dropbox/YA PY/credit_scoring_eng.csv')\n"
   ]
  },
  {
   "cell_type": "code",
   "execution_count": 3,
   "metadata": {
    "scrolled": true
   },
   "outputs": [
    {
     "name": "stdout",
     "output_type": "stream",
     "text": [
      "<bound method DataFrame.info of        children  days_employed  dob_years            education  education_id  \\\n",
      "0             1   -8437.673028         42    bachelor's degree             0   \n",
      "1             1   -4024.803754         36  secondary education             1   \n",
      "2             0   -5623.422610         33  Secondary Education             1   \n",
      "3             3   -4124.747207         32  secondary education             1   \n",
      "4             0  340266.072047         53  secondary education             1   \n",
      "...         ...            ...        ...                  ...           ...   \n",
      "21520         1   -4529.316663         43  secondary education             1   \n",
      "21521         0  343937.404131         67  secondary education             1   \n",
      "21522         1   -2113.346888         38  secondary education             1   \n",
      "21523         3   -3112.481705         38  secondary education             1   \n",
      "21524         2   -1984.507589         40  secondary education             1   \n",
      "\n",
      "           family_status  family_status_id gender income_type  debt  \\\n",
      "0                married                 0      F    employee     0   \n",
      "1                married                 0      F    employee     0   \n",
      "2                married                 0      M    employee     0   \n",
      "3                married                 0      M    employee     0   \n",
      "4      civil partnership                 1      F     retiree     0   \n",
      "...                  ...               ...    ...         ...   ...   \n",
      "21520  civil partnership                 1      F    business     0   \n",
      "21521            married                 0      F     retiree     0   \n",
      "21522  civil partnership                 1      M    employee     1   \n",
      "21523            married                 0      M    employee     1   \n",
      "21524            married                 0      F    employee     0   \n",
      "\n",
      "       total_income                  purpose  \n",
      "0         40620.102    purchase of the house  \n",
      "1         17932.802             car purchase  \n",
      "2         23341.752    purchase of the house  \n",
      "3         42820.568  supplementary education  \n",
      "4         25378.572        to have a wedding  \n",
      "...             ...                      ...  \n",
      "21520     35966.698     housing transactions  \n",
      "21521     24959.969        purchase of a car  \n",
      "21522     14347.610                 property  \n",
      "21523     39054.888        buying my own car  \n",
      "21524     13127.587             to buy a car  \n",
      "\n",
      "[21525 rows x 12 columns]>\n"
     ]
    }
   ],
   "source": [
    "print(df.info)\n"
   ]
  },
  {
   "cell_type": "markdown",
   "metadata": {},
   "source": [
    "## Tarefa 1. Exploração de dados\n",
    "\n",
    "**Descrição dos dados**\n",
    "- `children` - o número de crianças na família\n",
    "- `days_employed` - experiência de trabalho em dias\n",
    "- `dob_years` - idade do cliente em anos\n",
    "- `education` - educação do cliente\n",
    "- `education_id` - identificador de educação\n",
    "- `family_status` - estado civil do cliente\n",
    "- `family_status_id` - identificador de estado civil\n",
    "- `gender` - gênero do cliente\n",
    "- `income_type` - tipo de emprego\n",
    "- `debt` - havia alguma dívida no pagamento do empréstimo\n",
    "- `total_income` - renda mensal\n",
    "- `purpose` - o objetivo de obter um empréstimo\n",
    "\n"
   ]
  },
  {
   "cell_type": "markdown",
   "metadata": {},
   "source": [
    " Vamos ver quantas linhas e colunas nosso conjunto de dados tem "
   ]
  },
  {
   "cell_type": "code",
   "execution_count": 4,
   "metadata": {},
   "outputs": [
    {
     "data": {
      "text/plain": [
       "(21525, 12)"
      ]
     },
     "execution_count": 4,
     "metadata": {},
     "output_type": "execute_result"
    }
   ],
   "source": [
    "(df.shape)\n",
    "\n"
   ]
  },
  {
   "cell_type": "markdown",
   "metadata": {},
   "source": [
    "- *A tabela possui uma quantidade de dados consideráveis de linhas e colunas*"
   ]
  },
  {
   "cell_type": "code",
   "execution_count": 5,
   "metadata": {
    "scrolled": false
   },
   "outputs": [
    {
     "data": {
      "text/html": [
       "<div>\n",
       "<style scoped>\n",
       "    .dataframe tbody tr th:only-of-type {\n",
       "        vertical-align: middle;\n",
       "    }\n",
       "\n",
       "    .dataframe tbody tr th {\n",
       "        vertical-align: top;\n",
       "    }\n",
       "\n",
       "    .dataframe thead th {\n",
       "        text-align: right;\n",
       "    }\n",
       "</style>\n",
       "<table border=\"1\" class=\"dataframe\">\n",
       "  <thead>\n",
       "    <tr style=\"text-align: right;\">\n",
       "      <th></th>\n",
       "      <th>children</th>\n",
       "      <th>days_employed</th>\n",
       "      <th>dob_years</th>\n",
       "      <th>education</th>\n",
       "      <th>education_id</th>\n",
       "      <th>family_status</th>\n",
       "      <th>family_status_id</th>\n",
       "      <th>gender</th>\n",
       "      <th>income_type</th>\n",
       "      <th>debt</th>\n",
       "      <th>total_income</th>\n",
       "      <th>purpose</th>\n",
       "    </tr>\n",
       "  </thead>\n",
       "  <tbody>\n",
       "    <tr>\n",
       "      <th>0</th>\n",
       "      <td>1</td>\n",
       "      <td>-8437.673028</td>\n",
       "      <td>42</td>\n",
       "      <td>bachelor's degree</td>\n",
       "      <td>0</td>\n",
       "      <td>married</td>\n",
       "      <td>0</td>\n",
       "      <td>F</td>\n",
       "      <td>employee</td>\n",
       "      <td>0</td>\n",
       "      <td>40620.102</td>\n",
       "      <td>purchase of the house</td>\n",
       "    </tr>\n",
       "    <tr>\n",
       "      <th>1</th>\n",
       "      <td>1</td>\n",
       "      <td>-4024.803754</td>\n",
       "      <td>36</td>\n",
       "      <td>secondary education</td>\n",
       "      <td>1</td>\n",
       "      <td>married</td>\n",
       "      <td>0</td>\n",
       "      <td>F</td>\n",
       "      <td>employee</td>\n",
       "      <td>0</td>\n",
       "      <td>17932.802</td>\n",
       "      <td>car purchase</td>\n",
       "    </tr>\n",
       "    <tr>\n",
       "      <th>2</th>\n",
       "      <td>0</td>\n",
       "      <td>-5623.422610</td>\n",
       "      <td>33</td>\n",
       "      <td>Secondary Education</td>\n",
       "      <td>1</td>\n",
       "      <td>married</td>\n",
       "      <td>0</td>\n",
       "      <td>M</td>\n",
       "      <td>employee</td>\n",
       "      <td>0</td>\n",
       "      <td>23341.752</td>\n",
       "      <td>purchase of the house</td>\n",
       "    </tr>\n",
       "    <tr>\n",
       "      <th>3</th>\n",
       "      <td>3</td>\n",
       "      <td>-4124.747207</td>\n",
       "      <td>32</td>\n",
       "      <td>secondary education</td>\n",
       "      <td>1</td>\n",
       "      <td>married</td>\n",
       "      <td>0</td>\n",
       "      <td>M</td>\n",
       "      <td>employee</td>\n",
       "      <td>0</td>\n",
       "      <td>42820.568</td>\n",
       "      <td>supplementary education</td>\n",
       "    </tr>\n",
       "    <tr>\n",
       "      <th>4</th>\n",
       "      <td>0</td>\n",
       "      <td>340266.072047</td>\n",
       "      <td>53</td>\n",
       "      <td>secondary education</td>\n",
       "      <td>1</td>\n",
       "      <td>civil partnership</td>\n",
       "      <td>1</td>\n",
       "      <td>F</td>\n",
       "      <td>retiree</td>\n",
       "      <td>0</td>\n",
       "      <td>25378.572</td>\n",
       "      <td>to have a wedding</td>\n",
       "    </tr>\n",
       "    <tr>\n",
       "      <th>5</th>\n",
       "      <td>0</td>\n",
       "      <td>-926.185831</td>\n",
       "      <td>27</td>\n",
       "      <td>bachelor's degree</td>\n",
       "      <td>0</td>\n",
       "      <td>civil partnership</td>\n",
       "      <td>1</td>\n",
       "      <td>M</td>\n",
       "      <td>business</td>\n",
       "      <td>0</td>\n",
       "      <td>40922.170</td>\n",
       "      <td>purchase of the house</td>\n",
       "    </tr>\n",
       "    <tr>\n",
       "      <th>6</th>\n",
       "      <td>0</td>\n",
       "      <td>-2879.202052</td>\n",
       "      <td>43</td>\n",
       "      <td>bachelor's degree</td>\n",
       "      <td>0</td>\n",
       "      <td>married</td>\n",
       "      <td>0</td>\n",
       "      <td>F</td>\n",
       "      <td>business</td>\n",
       "      <td>0</td>\n",
       "      <td>38484.156</td>\n",
       "      <td>housing transactions</td>\n",
       "    </tr>\n",
       "    <tr>\n",
       "      <th>7</th>\n",
       "      <td>0</td>\n",
       "      <td>-152.779569</td>\n",
       "      <td>50</td>\n",
       "      <td>SECONDARY EDUCATION</td>\n",
       "      <td>1</td>\n",
       "      <td>married</td>\n",
       "      <td>0</td>\n",
       "      <td>M</td>\n",
       "      <td>employee</td>\n",
       "      <td>0</td>\n",
       "      <td>21731.829</td>\n",
       "      <td>education</td>\n",
       "    </tr>\n",
       "    <tr>\n",
       "      <th>8</th>\n",
       "      <td>2</td>\n",
       "      <td>-6929.865299</td>\n",
       "      <td>35</td>\n",
       "      <td>BACHELOR'S DEGREE</td>\n",
       "      <td>0</td>\n",
       "      <td>civil partnership</td>\n",
       "      <td>1</td>\n",
       "      <td>F</td>\n",
       "      <td>employee</td>\n",
       "      <td>0</td>\n",
       "      <td>15337.093</td>\n",
       "      <td>having a wedding</td>\n",
       "    </tr>\n",
       "    <tr>\n",
       "      <th>9</th>\n",
       "      <td>0</td>\n",
       "      <td>-2188.756445</td>\n",
       "      <td>41</td>\n",
       "      <td>secondary education</td>\n",
       "      <td>1</td>\n",
       "      <td>married</td>\n",
       "      <td>0</td>\n",
       "      <td>M</td>\n",
       "      <td>employee</td>\n",
       "      <td>0</td>\n",
       "      <td>23108.150</td>\n",
       "      <td>purchase of the house for my family</td>\n",
       "    </tr>\n",
       "  </tbody>\n",
       "</table>\n",
       "</div>"
      ],
      "text/plain": [
       "   children  days_employed  dob_years            education  education_id  \\\n",
       "0         1   -8437.673028         42    bachelor's degree             0   \n",
       "1         1   -4024.803754         36  secondary education             1   \n",
       "2         0   -5623.422610         33  Secondary Education             1   \n",
       "3         3   -4124.747207         32  secondary education             1   \n",
       "4         0  340266.072047         53  secondary education             1   \n",
       "5         0    -926.185831         27    bachelor's degree             0   \n",
       "6         0   -2879.202052         43    bachelor's degree             0   \n",
       "7         0    -152.779569         50  SECONDARY EDUCATION             1   \n",
       "8         2   -6929.865299         35    BACHELOR'S DEGREE             0   \n",
       "9         0   -2188.756445         41  secondary education             1   \n",
       "\n",
       "       family_status  family_status_id gender income_type  debt  total_income  \\\n",
       "0            married                 0      F    employee     0     40620.102   \n",
       "1            married                 0      F    employee     0     17932.802   \n",
       "2            married                 0      M    employee     0     23341.752   \n",
       "3            married                 0      M    employee     0     42820.568   \n",
       "4  civil partnership                 1      F     retiree     0     25378.572   \n",
       "5  civil partnership                 1      M    business     0     40922.170   \n",
       "6            married                 0      F    business     0     38484.156   \n",
       "7            married                 0      M    employee     0     21731.829   \n",
       "8  civil partnership                 1      F    employee     0     15337.093   \n",
       "9            married                 0      M    employee     0     23108.150   \n",
       "\n",
       "                               purpose  \n",
       "0                purchase of the house  \n",
       "1                         car purchase  \n",
       "2                purchase of the house  \n",
       "3              supplementary education  \n",
       "4                    to have a wedding  \n",
       "5                purchase of the house  \n",
       "6                 housing transactions  \n",
       "7                            education  \n",
       "8                     having a wedding  \n",
       "9  purchase of the house for my family  "
      ]
     },
     "execution_count": 5,
     "metadata": {},
     "output_type": "execute_result"
    }
   ],
   "source": [
    "# vamos exibir as primeiras N linhas\n",
    "\n",
    "df.head(10)"
   ]
  },
  {
   "cell_type": "code",
   "execution_count": 6,
   "metadata": {
    "scrolled": false
   },
   "outputs": [
    {
     "name": "stdout",
     "output_type": "stream",
     "text": [
      "<class 'pandas.core.frame.DataFrame'>\n",
      "RangeIndex: 21525 entries, 0 to 21524\n",
      "Data columns (total 12 columns):\n",
      " #   Column            Non-Null Count  Dtype  \n",
      "---  ------            --------------  -----  \n",
      " 0   children          21525 non-null  int64  \n",
      " 1   days_employed     19351 non-null  float64\n",
      " 2   dob_years         21525 non-null  int64  \n",
      " 3   education         21525 non-null  object \n",
      " 4   education_id      21525 non-null  int64  \n",
      " 5   family_status     21525 non-null  object \n",
      " 6   family_status_id  21525 non-null  int64  \n",
      " 7   gender            21525 non-null  object \n",
      " 8   income_type       21525 non-null  object \n",
      " 9   debt              21525 non-null  int64  \n",
      " 10  total_income      19351 non-null  float64\n",
      " 11  purpose           21525 non-null  object \n",
      "dtypes: float64(2), int64(5), object(5)\n",
      "memory usage: 2.0+ MB\n"
     ]
    }
   ],
   "source": [
    "df.info() "
   ]
  },
  {
   "cell_type": "code",
   "execution_count": 7,
   "metadata": {},
   "outputs": [
    {
     "data": {
      "text/html": [
       "<div>\n",
       "<style scoped>\n",
       "    .dataframe tbody tr th:only-of-type {\n",
       "        vertical-align: middle;\n",
       "    }\n",
       "\n",
       "    .dataframe tbody tr th {\n",
       "        vertical-align: top;\n",
       "    }\n",
       "\n",
       "    .dataframe thead th {\n",
       "        text-align: right;\n",
       "    }\n",
       "</style>\n",
       "<table border=\"1\" class=\"dataframe\">\n",
       "  <thead>\n",
       "    <tr style=\"text-align: right;\">\n",
       "      <th></th>\n",
       "      <th>children</th>\n",
       "      <th>days_employed</th>\n",
       "      <th>dob_years</th>\n",
       "      <th>education_id</th>\n",
       "      <th>family_status_id</th>\n",
       "      <th>debt</th>\n",
       "      <th>total_income</th>\n",
       "    </tr>\n",
       "  </thead>\n",
       "  <tbody>\n",
       "    <tr>\n",
       "      <th>count</th>\n",
       "      <td>21525.000000</td>\n",
       "      <td>19351.000000</td>\n",
       "      <td>21525.000000</td>\n",
       "      <td>21525.000000</td>\n",
       "      <td>21525.000000</td>\n",
       "      <td>21525.000000</td>\n",
       "      <td>19351.000000</td>\n",
       "    </tr>\n",
       "    <tr>\n",
       "      <th>mean</th>\n",
       "      <td>0.538908</td>\n",
       "      <td>63046.497661</td>\n",
       "      <td>43.293380</td>\n",
       "      <td>0.817236</td>\n",
       "      <td>0.972544</td>\n",
       "      <td>0.080883</td>\n",
       "      <td>26787.568355</td>\n",
       "    </tr>\n",
       "    <tr>\n",
       "      <th>std</th>\n",
       "      <td>1.381587</td>\n",
       "      <td>140827.311974</td>\n",
       "      <td>12.574584</td>\n",
       "      <td>0.548138</td>\n",
       "      <td>1.420324</td>\n",
       "      <td>0.272661</td>\n",
       "      <td>16475.450632</td>\n",
       "    </tr>\n",
       "    <tr>\n",
       "      <th>min</th>\n",
       "      <td>-1.000000</td>\n",
       "      <td>-18388.949901</td>\n",
       "      <td>0.000000</td>\n",
       "      <td>0.000000</td>\n",
       "      <td>0.000000</td>\n",
       "      <td>0.000000</td>\n",
       "      <td>3306.762000</td>\n",
       "    </tr>\n",
       "    <tr>\n",
       "      <th>25%</th>\n",
       "      <td>0.000000</td>\n",
       "      <td>-2747.423625</td>\n",
       "      <td>33.000000</td>\n",
       "      <td>1.000000</td>\n",
       "      <td>0.000000</td>\n",
       "      <td>0.000000</td>\n",
       "      <td>16488.504500</td>\n",
       "    </tr>\n",
       "    <tr>\n",
       "      <th>50%</th>\n",
       "      <td>0.000000</td>\n",
       "      <td>-1203.369529</td>\n",
       "      <td>42.000000</td>\n",
       "      <td>1.000000</td>\n",
       "      <td>0.000000</td>\n",
       "      <td>0.000000</td>\n",
       "      <td>23202.870000</td>\n",
       "    </tr>\n",
       "    <tr>\n",
       "      <th>75%</th>\n",
       "      <td>1.000000</td>\n",
       "      <td>-291.095954</td>\n",
       "      <td>53.000000</td>\n",
       "      <td>1.000000</td>\n",
       "      <td>1.000000</td>\n",
       "      <td>0.000000</td>\n",
       "      <td>32549.611000</td>\n",
       "    </tr>\n",
       "    <tr>\n",
       "      <th>max</th>\n",
       "      <td>20.000000</td>\n",
       "      <td>401755.400475</td>\n",
       "      <td>75.000000</td>\n",
       "      <td>4.000000</td>\n",
       "      <td>4.000000</td>\n",
       "      <td>1.000000</td>\n",
       "      <td>362496.645000</td>\n",
       "    </tr>\n",
       "  </tbody>\n",
       "</table>\n",
       "</div>"
      ],
      "text/plain": [
       "           children  days_employed     dob_years  education_id  \\\n",
       "count  21525.000000   19351.000000  21525.000000  21525.000000   \n",
       "mean       0.538908   63046.497661     43.293380      0.817236   \n",
       "std        1.381587  140827.311974     12.574584      0.548138   \n",
       "min       -1.000000  -18388.949901      0.000000      0.000000   \n",
       "25%        0.000000   -2747.423625     33.000000      1.000000   \n",
       "50%        0.000000   -1203.369529     42.000000      1.000000   \n",
       "75%        1.000000    -291.095954     53.000000      1.000000   \n",
       "max       20.000000  401755.400475     75.000000      4.000000   \n",
       "\n",
       "       family_status_id          debt   total_income  \n",
       "count      21525.000000  21525.000000   19351.000000  \n",
       "mean           0.972544      0.080883   26787.568355  \n",
       "std            1.420324      0.272661   16475.450632  \n",
       "min            0.000000      0.000000    3306.762000  \n",
       "25%            0.000000      0.000000   16488.504500  \n",
       "50%            0.000000      0.000000   23202.870000  \n",
       "75%            1.000000      0.000000   32549.611000  \n",
       "max            4.000000      1.000000  362496.645000  "
      ]
     },
     "execution_count": 7,
     "metadata": {},
     "output_type": "execute_result"
    }
   ],
   "source": [
    "df.describe()"
   ]
  },
  {
   "cell_type": "markdown",
   "metadata": {},
   "source": [
    "   *Obs sobre os dados:*\n",
    "\n",
    "    *duplicatas óbvias (em bachelor) \n",
    "    *possiveis causa duplicatas: str Maiusculo e Minúsculo...  \n",
    "    *Purpose tem muitas variação nos valores (falta uniform.)\n",
    "    *days_employed: fora de padrão, confuso, val. negat (-)\n",
    "    *income type: transf. p/ 'str'\n",
    "    *Nan: total_incom, days_em\n",
    "    *Children não poderia ter val. negativos.\n",
    "    * valores com 0 em dob_years"
   ]
  },
  {
   "cell_type": "markdown",
   "metadata": {},
   "source": [
    "   **Invetigação dos dados Nan:**"
   ]
  },
  {
   "cell_type": "code",
   "execution_count": 8,
   "metadata": {},
   "outputs": [
    {
     "data": {
      "text/html": [
       "<div>\n",
       "<style scoped>\n",
       "    .dataframe tbody tr th:only-of-type {\n",
       "        vertical-align: middle;\n",
       "    }\n",
       "\n",
       "    .dataframe tbody tr th {\n",
       "        vertical-align: top;\n",
       "    }\n",
       "\n",
       "    .dataframe thead th {\n",
       "        text-align: right;\n",
       "    }\n",
       "</style>\n",
       "<table border=\"1\" class=\"dataframe\">\n",
       "  <thead>\n",
       "    <tr style=\"text-align: right;\">\n",
       "      <th></th>\n",
       "      <th>children</th>\n",
       "      <th>days_employed</th>\n",
       "      <th>dob_years</th>\n",
       "      <th>education</th>\n",
       "      <th>education_id</th>\n",
       "      <th>family_status</th>\n",
       "      <th>family_status_id</th>\n",
       "      <th>gender</th>\n",
       "      <th>income_type</th>\n",
       "      <th>debt</th>\n",
       "      <th>total_income</th>\n",
       "      <th>purpose</th>\n",
       "    </tr>\n",
       "  </thead>\n",
       "  <tbody>\n",
       "    <tr>\n",
       "      <th>12</th>\n",
       "      <td>0</td>\n",
       "      <td>NaN</td>\n",
       "      <td>65</td>\n",
       "      <td>secondary education</td>\n",
       "      <td>1</td>\n",
       "      <td>civil partnership</td>\n",
       "      <td>1</td>\n",
       "      <td>M</td>\n",
       "      <td>retiree</td>\n",
       "      <td>0</td>\n",
       "      <td>NaN</td>\n",
       "      <td>to have a wedding</td>\n",
       "    </tr>\n",
       "    <tr>\n",
       "      <th>26</th>\n",
       "      <td>0</td>\n",
       "      <td>NaN</td>\n",
       "      <td>41</td>\n",
       "      <td>secondary education</td>\n",
       "      <td>1</td>\n",
       "      <td>married</td>\n",
       "      <td>0</td>\n",
       "      <td>M</td>\n",
       "      <td>civil servant</td>\n",
       "      <td>0</td>\n",
       "      <td>NaN</td>\n",
       "      <td>education</td>\n",
       "    </tr>\n",
       "    <tr>\n",
       "      <th>29</th>\n",
       "      <td>0</td>\n",
       "      <td>NaN</td>\n",
       "      <td>63</td>\n",
       "      <td>secondary education</td>\n",
       "      <td>1</td>\n",
       "      <td>unmarried</td>\n",
       "      <td>4</td>\n",
       "      <td>F</td>\n",
       "      <td>retiree</td>\n",
       "      <td>0</td>\n",
       "      <td>NaN</td>\n",
       "      <td>building a real estate</td>\n",
       "    </tr>\n",
       "    <tr>\n",
       "      <th>41</th>\n",
       "      <td>0</td>\n",
       "      <td>NaN</td>\n",
       "      <td>50</td>\n",
       "      <td>secondary education</td>\n",
       "      <td>1</td>\n",
       "      <td>married</td>\n",
       "      <td>0</td>\n",
       "      <td>F</td>\n",
       "      <td>civil servant</td>\n",
       "      <td>0</td>\n",
       "      <td>NaN</td>\n",
       "      <td>second-hand car purchase</td>\n",
       "    </tr>\n",
       "    <tr>\n",
       "      <th>55</th>\n",
       "      <td>0</td>\n",
       "      <td>NaN</td>\n",
       "      <td>54</td>\n",
       "      <td>secondary education</td>\n",
       "      <td>1</td>\n",
       "      <td>civil partnership</td>\n",
       "      <td>1</td>\n",
       "      <td>F</td>\n",
       "      <td>retiree</td>\n",
       "      <td>1</td>\n",
       "      <td>NaN</td>\n",
       "      <td>to have a wedding</td>\n",
       "    </tr>\n",
       "    <tr>\n",
       "      <th>...</th>\n",
       "      <td>...</td>\n",
       "      <td>...</td>\n",
       "      <td>...</td>\n",
       "      <td>...</td>\n",
       "      <td>...</td>\n",
       "      <td>...</td>\n",
       "      <td>...</td>\n",
       "      <td>...</td>\n",
       "      <td>...</td>\n",
       "      <td>...</td>\n",
       "      <td>...</td>\n",
       "      <td>...</td>\n",
       "    </tr>\n",
       "    <tr>\n",
       "      <th>21489</th>\n",
       "      <td>2</td>\n",
       "      <td>NaN</td>\n",
       "      <td>47</td>\n",
       "      <td>Secondary Education</td>\n",
       "      <td>1</td>\n",
       "      <td>married</td>\n",
       "      <td>0</td>\n",
       "      <td>M</td>\n",
       "      <td>business</td>\n",
       "      <td>0</td>\n",
       "      <td>NaN</td>\n",
       "      <td>purchase of a car</td>\n",
       "    </tr>\n",
       "    <tr>\n",
       "      <th>21495</th>\n",
       "      <td>1</td>\n",
       "      <td>NaN</td>\n",
       "      <td>50</td>\n",
       "      <td>secondary education</td>\n",
       "      <td>1</td>\n",
       "      <td>civil partnership</td>\n",
       "      <td>1</td>\n",
       "      <td>F</td>\n",
       "      <td>employee</td>\n",
       "      <td>0</td>\n",
       "      <td>NaN</td>\n",
       "      <td>wedding ceremony</td>\n",
       "    </tr>\n",
       "    <tr>\n",
       "      <th>21497</th>\n",
       "      <td>0</td>\n",
       "      <td>NaN</td>\n",
       "      <td>48</td>\n",
       "      <td>BACHELOR'S DEGREE</td>\n",
       "      <td>0</td>\n",
       "      <td>married</td>\n",
       "      <td>0</td>\n",
       "      <td>F</td>\n",
       "      <td>business</td>\n",
       "      <td>0</td>\n",
       "      <td>NaN</td>\n",
       "      <td>building a property</td>\n",
       "    </tr>\n",
       "    <tr>\n",
       "      <th>21502</th>\n",
       "      <td>1</td>\n",
       "      <td>NaN</td>\n",
       "      <td>42</td>\n",
       "      <td>secondary education</td>\n",
       "      <td>1</td>\n",
       "      <td>married</td>\n",
       "      <td>0</td>\n",
       "      <td>F</td>\n",
       "      <td>employee</td>\n",
       "      <td>0</td>\n",
       "      <td>NaN</td>\n",
       "      <td>building a real estate</td>\n",
       "    </tr>\n",
       "    <tr>\n",
       "      <th>21510</th>\n",
       "      <td>2</td>\n",
       "      <td>NaN</td>\n",
       "      <td>28</td>\n",
       "      <td>secondary education</td>\n",
       "      <td>1</td>\n",
       "      <td>married</td>\n",
       "      <td>0</td>\n",
       "      <td>F</td>\n",
       "      <td>employee</td>\n",
       "      <td>0</td>\n",
       "      <td>NaN</td>\n",
       "      <td>car purchase</td>\n",
       "    </tr>\n",
       "  </tbody>\n",
       "</table>\n",
       "<p>2174 rows × 12 columns</p>\n",
       "</div>"
      ],
      "text/plain": [
       "       children  days_employed  dob_years            education  education_id  \\\n",
       "12            0            NaN         65  secondary education             1   \n",
       "26            0            NaN         41  secondary education             1   \n",
       "29            0            NaN         63  secondary education             1   \n",
       "41            0            NaN         50  secondary education             1   \n",
       "55            0            NaN         54  secondary education             1   \n",
       "...         ...            ...        ...                  ...           ...   \n",
       "21489         2            NaN         47  Secondary Education             1   \n",
       "21495         1            NaN         50  secondary education             1   \n",
       "21497         0            NaN         48    BACHELOR'S DEGREE             0   \n",
       "21502         1            NaN         42  secondary education             1   \n",
       "21510         2            NaN         28  secondary education             1   \n",
       "\n",
       "           family_status  family_status_id gender    income_type  debt  \\\n",
       "12     civil partnership                 1      M        retiree     0   \n",
       "26               married                 0      M  civil servant     0   \n",
       "29             unmarried                 4      F        retiree     0   \n",
       "41               married                 0      F  civil servant     0   \n",
       "55     civil partnership                 1      F        retiree     1   \n",
       "...                  ...               ...    ...            ...   ...   \n",
       "21489            married                 0      M       business     0   \n",
       "21495  civil partnership                 1      F       employee     0   \n",
       "21497            married                 0      F       business     0   \n",
       "21502            married                 0      F       employee     0   \n",
       "21510            married                 0      F       employee     0   \n",
       "\n",
       "       total_income                   purpose  \n",
       "12              NaN         to have a wedding  \n",
       "26              NaN                 education  \n",
       "29              NaN    building a real estate  \n",
       "41              NaN  second-hand car purchase  \n",
       "55              NaN         to have a wedding  \n",
       "...             ...                       ...  \n",
       "21489           NaN         purchase of a car  \n",
       "21495           NaN          wedding ceremony  \n",
       "21497           NaN       building a property  \n",
       "21502           NaN    building a real estate  \n",
       "21510           NaN              car purchase  \n",
       "\n",
       "[2174 rows x 12 columns]"
      ]
     },
     "execution_count": 8,
     "metadata": {},
     "output_type": "execute_result"
    }
   ],
   "source": [
    "df_nan=df[df['days_employed'].isnull()]\n",
    "df_nan"
   ]
  },
  {
   "cell_type": "code",
   "execution_count": 9,
   "metadata": {
    "scrolled": true
   },
   "outputs": [
    {
     "data": {
      "text/plain": [
       "children            21525\n",
       "days_employed       19351\n",
       "dob_years           21525\n",
       "education           21525\n",
       "education_id        21525\n",
       "family_status       21525\n",
       "family_status_id    21525\n",
       "gender              21525\n",
       "income_type         21525\n",
       "debt                21525\n",
       "total_income        19351\n",
       "purpose             21525\n",
       "dtype: int64"
      ]
     },
     "execution_count": 9,
     "metadata": {},
     "output_type": "execute_result"
    }
   ],
   "source": [
    "df.count()"
   ]
  },
  {
   "cell_type": "code",
   "execution_count": 10,
   "metadata": {},
   "outputs": [
    {
     "data": {
      "text/plain": [
       "children               0\n",
       "days_employed       2174\n",
       "dob_years              0\n",
       "education              0\n",
       "education_id           0\n",
       "family_status          0\n",
       "family_status_id       0\n",
       "gender                 0\n",
       "income_type            0\n",
       "debt                   0\n",
       "total_income        2174\n",
       "purpose                0\n",
       "dtype: int64"
      ]
     },
     "execution_count": 10,
     "metadata": {},
     "output_type": "execute_result"
    }
   ],
   "source": [
    "df.isnull().sum()"
   ]
  },
  {
   "cell_type": "code",
   "execution_count": 11,
   "metadata": {},
   "outputs": [
    {
     "data": {
      "text/plain": [
       "(2174, 12)"
      ]
     },
     "execution_count": 11,
     "metadata": {},
     "output_type": "execute_result"
    }
   ],
   "source": [
    "df_na_soma= df[(df['total_income'].isnull()) &(df['days_employed'].isnull())]\n",
    "df_na_soma.shape"
   ]
  },
  {
   "cell_type": "markdown",
   "metadata": {},
   "source": [
    "- Tanto a coluna  `total_income` quanto `days_employed` tem o mesmo valor de null's, possivelmente pois um dado depende do ourtro (estão relacionados). "
   ]
  },
  {
   "cell_type": "markdown",
   "metadata": {},
   "source": [
    "- ambas colunas com valores Nan tem (quase) o mesmo num. de ausentes, ja que os dads de total_income e days_employed estão relacionados*.   "
   ]
  },
  {
   "cell_type": "markdown",
   "metadata": {},
   "source": [
    "**Conclusão intermediária**\n",
    "\n",
    "[O número de linhas na tabela filtrada corresponde ao número de valores ausentes? Que conclusão podemos tirar disso?]\n"
   ]
  },
  {
   "cell_type": "code",
   "execution_count": 12,
   "metadata": {},
   "outputs": [
    {
     "data": {
      "text/plain": [
       "0.10099883855981417"
      ]
     },
     "execution_count": 12,
     "metadata": {},
     "output_type": "execute_result"
    }
   ],
   "source": [
    "len(df_nan['days_employed'])/ len(df['days_employed'])"
   ]
  },
  {
   "cell_type": "code",
   "execution_count": 13,
   "metadata": {
    "scrolled": true
   },
   "outputs": [
    {
     "name": "stdout",
     "output_type": "stream",
     "text": [
      "A porcentagem de linhas com valores ausentes é de : 10%\n"
     ]
    }
   ],
   "source": [
    "print('A porcentagem de linhas com valores ausentes é de : {:.0%}'.\n",
    "        format(df_nan.shape[0]/df.shape[0]) )"
   ]
  },
  {
   "cell_type": "markdown",
   "metadata": {},
   "source": [
    "A distribuição dos dados Nan é parecida, o que pode indicar que não teve nenhum padrao específico dos valores nulos (causa acidental é possivel)."
   ]
  },
  {
   "cell_type": "code",
   "execution_count": 14,
   "metadata": {
    "scrolled": false
   },
   "outputs": [
    {
     "data": {
      "text/plain": [
       "42413.096    0.000103\n",
       "17312.717    0.000103\n",
       "31791.384    0.000103\n",
       "14427.878    0.000052\n",
       "20837.034    0.000052\n",
       "               ...   \n",
       "27715.458    0.000052\n",
       "23834.534    0.000052\n",
       "26124.613    0.000052\n",
       "28692.182    0.000052\n",
       "41428.916    0.000052\n",
       "Name: total_income, Length: 19348, dtype: float64"
      ]
     },
     "execution_count": 14,
     "metadata": {},
     "output_type": "execute_result"
    }
   ],
   "source": [
    "df['total_income'].value_counts(normalize=True)"
   ]
  },
  {
   "cell_type": "code",
   "execution_count": 15,
   "metadata": {
    "scrolled": true
   },
   "outputs": [
    {
     "data": {
      "text/plain": [
       "-327.685916     0.000052\n",
       "-1580.622577    0.000052\n",
       "-4122.460569    0.000052\n",
       "-2828.237691    0.000052\n",
       "-2636.090517    0.000052\n",
       "                  ...   \n",
       "-7120.517564    0.000052\n",
       "-2146.884040    0.000052\n",
       "-881.454684     0.000052\n",
       "-794.666350     0.000052\n",
       "-3382.113891    0.000052\n",
       "Name: days_employed, Length: 19351, dtype: float64"
      ]
     },
     "execution_count": 15,
     "metadata": {},
     "output_type": "execute_result"
    }
   ],
   "source": [
    "df['days_employed'].value_counts(normalize=True)"
   ]
  },
  {
   "cell_type": "code",
   "execution_count": 16,
   "metadata": {
    "scrolled": true
   },
   "outputs": [
    {
     "data": {
      "text/plain": [
       "employee         0.508280\n",
       "business         0.233671\n",
       "retiree          0.189972\n",
       "civil servant    0.067617\n",
       "entrepreneur     0.000460\n",
       "Name: income_type, dtype: float64"
      ]
     },
     "execution_count": 16,
     "metadata": {},
     "output_type": "execute_result"
    }
   ],
   "source": [
    "df_nan['income_type'].value_counts(normalize=True)"
   ]
  },
  {
   "cell_type": "markdown",
   "metadata": {},
   "source": [
    "**Conclusão intermediária**\n"
   ]
  },
  {
   "cell_type": "markdown",
   "metadata": {},
   "source": [
    "- *A distribuição na tabela original e filtrada ficou muito próxima. Significa que os dados Nan são possivelmente aleatórios e podem ser substituidos por valores médios* ."
   ]
  },
  {
   "cell_type": "code",
   "execution_count": 17,
   "metadata": {},
   "outputs": [
    {
     "data": {
      "text/plain": [
       "Index(['children', 'days_employed', 'dob_years', 'education', 'education_id',\n",
       "       'family_status', 'family_status_id', 'gender', 'income_type', 'debt',\n",
       "       'total_income', 'purpose'],\n",
       "      dtype='object')"
      ]
     },
     "execution_count": 17,
     "metadata": {},
     "output_type": "execute_result"
    }
   ],
   "source": [
    "df.columns"
   ]
  },
  {
   "cell_type": "code",
   "execution_count": 18,
   "metadata": {
    "scrolled": true
   },
   "outputs": [
    {
     "data": {
      "text/html": [
       "<div>\n",
       "<style scoped>\n",
       "    .dataframe tbody tr th:only-of-type {\n",
       "        vertical-align: middle;\n",
       "    }\n",
       "\n",
       "    .dataframe tbody tr th {\n",
       "        vertical-align: top;\n",
       "    }\n",
       "\n",
       "    .dataframe thead th {\n",
       "        text-align: right;\n",
       "    }\n",
       "</style>\n",
       "<table border=\"1\" class=\"dataframe\">\n",
       "  <thead>\n",
       "    <tr style=\"text-align: right;\">\n",
       "      <th></th>\n",
       "      <th>days_employed</th>\n",
       "    </tr>\n",
       "    <tr>\n",
       "      <th>income_type</th>\n",
       "      <th></th>\n",
       "    </tr>\n",
       "  </thead>\n",
       "  <tbody>\n",
       "    <tr>\n",
       "      <th>business</th>\n",
       "      <td>4577</td>\n",
       "    </tr>\n",
       "    <tr>\n",
       "      <th>civil servant</th>\n",
       "      <td>1312</td>\n",
       "    </tr>\n",
       "    <tr>\n",
       "      <th>employee</th>\n",
       "      <td>10014</td>\n",
       "    </tr>\n",
       "    <tr>\n",
       "      <th>entrepreneur</th>\n",
       "      <td>1</td>\n",
       "    </tr>\n",
       "    <tr>\n",
       "      <th>paternity / maternity leave</th>\n",
       "      <td>1</td>\n",
       "    </tr>\n",
       "    <tr>\n",
       "      <th>retiree</th>\n",
       "      <td>3443</td>\n",
       "    </tr>\n",
       "    <tr>\n",
       "      <th>student</th>\n",
       "      <td>1</td>\n",
       "    </tr>\n",
       "    <tr>\n",
       "      <th>unemployed</th>\n",
       "      <td>2</td>\n",
       "    </tr>\n",
       "  </tbody>\n",
       "</table>\n",
       "</div>"
      ],
      "text/plain": [
       "                             days_employed\n",
       "income_type                               \n",
       "business                              4577\n",
       "civil servant                         1312\n",
       "employee                             10014\n",
       "entrepreneur                             1\n",
       "paternity / maternity leave              1\n",
       "retiree                               3443\n",
       "student                                  1\n",
       "unemployed                               2"
      ]
     },
     "execution_count": 18,
     "metadata": {},
     "output_type": "execute_result"
    }
   ],
   "source": [
    "calc_incom = df.pivot_table(index='income_type', values='days_employed', aggfunc='count')        \n",
    "calc_incom"
   ]
  },
  {
   "cell_type": "markdown",
   "metadata": {},
   "source": [
    "Já que os dados Nan são possivelmente aleatórios, estes podem ser substituidos por valores médios .\n"
   ]
  },
  {
   "cell_type": "markdown",
   "metadata": {},
   "source": [
    "*Existe um padrão nos dados Nan, que são possivelmente aleatórios e podem ser substituidos por valores médios.*\n",
    "\n",
    "*Próximos passaos de dados: \n",
    "    \n",
    "    -duplicatas óbvias (bachelor..); \n",
    "     -possiveis causa duplicatas: str Maiusculo e Minúsculo...\n",
    "      -Purpose tem muitas variação nos valores (falta uniform.) \n",
    "    -days_employed: fora de padrão, confuso, val. negat (-) \n",
    "    -income type: transf. p/ 'str' \n"
   ]
  },
  {
   "cell_type": "markdown",
   "metadata": {},
   "source": [
    "## Transformação de dados\n",
    "\n",
    "Removendo duplicatas e corrigindo informações educacionais."
   ]
  },
  {
   "cell_type": "code",
   "execution_count": 19,
   "metadata": {
    "scrolled": true
   },
   "outputs": [
    {
     "data": {
      "text/plain": [
       "array([\"bachelor's degree\", 'secondary education', 'Secondary Education',\n",
       "       'SECONDARY EDUCATION', \"BACHELOR'S DEGREE\", 'some college',\n",
       "       'primary education', \"Bachelor's Degree\", 'SOME COLLEGE',\n",
       "       'Some College', 'PRIMARY EDUCATION', 'Primary Education',\n",
       "       'Graduate Degree', 'GRADUATE DEGREE', 'graduate degree'],\n",
       "      dtype=object)"
      ]
     },
     "execution_count": 19,
     "metadata": {},
     "output_type": "execute_result"
    }
   ],
   "source": [
    "df['education'].unique()"
   ]
  },
  {
   "cell_type": "code",
   "execution_count": 20,
   "metadata": {
    "scrolled": true
   },
   "outputs": [],
   "source": [
    "df['education']=df['education'].str.lower()"
   ]
  },
  {
   "cell_type": "code",
   "execution_count": 21,
   "metadata": {},
   "outputs": [
    {
     "data": {
      "text/plain": [
       "array([\"bachelor's degree\", 'secondary education', 'some college',\n",
       "       'primary education', 'graduate degree'], dtype=object)"
      ]
     },
     "execution_count": 21,
     "metadata": {},
     "output_type": "execute_result"
    }
   ],
   "source": [
    "df['education'].unique()"
   ]
  },
  {
   "cell_type": "code",
   "execution_count": 22,
   "metadata": {},
   "outputs": [
    {
     "name": "stdout",
     "output_type": "stream",
     "text": [
      "21520\n"
     ]
    }
   ],
   "source": [
    "# Vamos aplicar várias condições para filtrar dados e observar o número de linhas na tabela filtrada.\n",
    "print(df['education'].duplicated().sum()) \n"
   ]
  },
  {
   "cell_type": "code",
   "execution_count": 23,
   "metadata": {},
   "outputs": [
    {
     "data": {
      "text/plain": [
       "71"
      ]
     },
     "execution_count": 23,
     "metadata": {},
     "output_type": "execute_result"
    }
   ],
   "source": [
    "df.duplicated().sum()"
   ]
  },
  {
   "cell_type": "code",
   "execution_count": 24,
   "metadata": {},
   "outputs": [],
   "source": [
    "df= df.drop_duplicates().reset_index(drop=True)\n"
   ]
  },
  {
   "cell_type": "code",
   "execution_count": 25,
   "metadata": {},
   "outputs": [
    {
     "data": {
      "text/plain": [
       "0"
      ]
     },
     "execution_count": 25,
     "metadata": {},
     "output_type": "execute_result"
    }
   ],
   "source": [
    "df.duplicated().sum()"
   ]
  },
  {
   "cell_type": "code",
   "execution_count": 26,
   "metadata": {
    "scrolled": false
   },
   "outputs": [
    {
     "data": {
      "text/plain": [
       " 0     14091\n",
       " 1      4808\n",
       " 2      2052\n",
       " 3       330\n",
       " 20       76\n",
       "-1        47\n",
       " 4        41\n",
       " 5         9\n",
       "Name: children, dtype: int64"
      ]
     },
     "execution_count": 26,
     "metadata": {},
     "output_type": "execute_result"
    }
   ],
   "source": [
    "# Vamos ver a distribuição de valores na coluna `children`\n",
    "df['children'].value_counts()\n"
   ]
  },
  {
   "cell_type": "markdown",
   "metadata": {},
   "source": [
    "       *Os valores são incompatíveis com as idades pretendidas, como -1 e 20, porém como se trata de um número muito pequeno de amostras (>1%), podemos considerar que foram acidentais. Como a quantidade de valores incorretos é muito baixa, os  mesmos podem ser substituidos por valores contidos nos valores '1' e '2' consecutivamente*"
   ]
  },
  {
   "cell_type": "code",
   "execution_count": 27,
   "metadata": {},
   "outputs": [],
   "source": [
    "df['children'].replace({-1:1, 20:2},inplace= True)\n"
   ]
  },
  {
   "cell_type": "code",
   "execution_count": 28,
   "metadata": {},
   "outputs": [
    {
     "data": {
      "text/plain": [
       "0    0.656801\n",
       "1    0.226298\n",
       "2    0.099189\n",
       "3    0.015382\n",
       "4    0.001911\n",
       "5    0.000420\n",
       "Name: children, dtype: float64"
      ]
     },
     "execution_count": 28,
     "metadata": {},
     "output_type": "execute_result"
    }
   ],
   "source": [
    "df['children'].value_counts(normalize=True)"
   ]
  },
  {
   "cell_type": "code",
   "execution_count": 29,
   "metadata": {},
   "outputs": [
    {
     "data": {
      "text/plain": [
       "0    14091\n",
       "1     4855\n",
       "2     2128\n",
       "3      330\n",
       "4       41\n",
       "5        9\n",
       "Name: children, dtype: int64"
      ]
     },
     "execution_count": 29,
     "metadata": {},
     "output_type": "execute_result"
    }
   ],
   "source": [
    "df['children'].value_counts()\n"
   ]
  },
  {
   "cell_type": "code",
   "execution_count": 30,
   "metadata": {
    "scrolled": true
   },
   "outputs": [
    {
     "data": {
      "text/plain": [
       "-327.685916     1\n",
       "-1580.622577    1\n",
       "-4122.460569    1\n",
       "-2828.237691    1\n",
       "-2636.090517    1\n",
       "               ..\n",
       "-7120.517564    1\n",
       "-2146.884040    1\n",
       "-881.454684     1\n",
       "-794.666350     1\n",
       "-3382.113891    1\n",
       "Name: days_employed, Length: 19351, dtype: int64"
      ]
     },
     "execution_count": 30,
     "metadata": {},
     "output_type": "execute_result"
    }
   ],
   "source": [
    "df['days_employed'].value_counts()"
   ]
  },
  {
   "cell_type": "code",
   "execution_count": 31,
   "metadata": {
    "scrolled": true
   },
   "outputs": [
    {
     "data": {
      "text/plain": [
       "count     19351.000000\n",
       "mean      63046.497661\n",
       "std      140827.311974\n",
       "min      -18388.949901\n",
       "25%       -2747.423625\n",
       "50%       -1203.369529\n",
       "75%        -291.095954\n",
       "max      401755.400475\n",
       "Name: days_employed, dtype: float64"
      ]
     },
     "execution_count": 31,
     "metadata": {},
     "output_type": "execute_result"
    }
   ],
   "source": [
    "df['days_employed'].describe()"
   ]
  },
  {
   "cell_type": "code",
   "execution_count": 32,
   "metadata": {},
   "outputs": [],
   "source": [
    "df['days_employed']=df['days_employed'].abs()"
   ]
  },
  {
   "cell_type": "code",
   "execution_count": 33,
   "metadata": {
    "scrolled": false
   },
   "outputs": [
    {
     "data": {
      "text/plain": [
       "count     19351.000000\n",
       "mean      66914.728907\n",
       "std      139030.880527\n",
       "min          24.141633\n",
       "25%         927.009265\n",
       "50%        2194.220567\n",
       "75%        5537.882441\n",
       "max      401755.400475\n",
       "Name: days_employed, dtype: float64"
      ]
     },
     "execution_count": 33,
     "metadata": {},
     "output_type": "execute_result"
    }
   ],
   "source": [
    "df['days_employed'].describe()"
   ]
  },
  {
   "cell_type": "markdown",
   "metadata": {},
   "source": [
    "    Existe um número de dados, com valores demasiadamente grandes e valores negativos. O que se trata de um possível erro  "
   ]
  },
  {
   "cell_type": "markdown",
   "metadata": {},
   "source": [
    "    Podemos substituir os valores com problemas, pela mediana dos dados com mais de 70 dias trabalhados/ano.   "
   ]
  },
  {
   "cell_type": "code",
   "execution_count": 34,
   "metadata": {},
   "outputs": [
    {
     "data": {
      "text/plain": [
       "2103"
      ]
     },
     "execution_count": 34,
     "metadata": {},
     "output_type": "execute_result"
    }
   ],
   "source": [
    "df['days_employed'].isnull().sum()"
   ]
  },
  {
   "cell_type": "code",
   "execution_count": 35,
   "metadata": {},
   "outputs": [
    {
     "data": {
      "text/plain": [
       "1630.0193809778218"
      ]
     },
     "execution_count": 35,
     "metadata": {},
     "output_type": "execute_result"
    }
   ],
   "source": [
    "df_med_days= df[df['days_employed'] <= 70*365]['days_employed'].median()\n",
    "df_med_days"
   ]
  },
  {
   "cell_type": "code",
   "execution_count": 36,
   "metadata": {},
   "outputs": [],
   "source": [
    "df.loc[df['days_employed'] > 70*365,'days_employed'] = df_med_days\n"
   ]
  },
  {
   "cell_type": "code",
   "execution_count": 37,
   "metadata": {},
   "outputs": [
    {
     "data": {
      "text/plain": [
       "0"
      ]
     },
     "execution_count": 37,
     "metadata": {},
     "output_type": "execute_result"
    }
   ],
   "source": [
    "(df['days_employed'] >=70*365).sum()\n"
   ]
  },
  {
   "cell_type": "code",
   "execution_count": 38,
   "metadata": {
    "scrolled": false
   },
   "outputs": [
    {
     "data": {
      "text/plain": [
       "count    19351.000000\n",
       "mean      2224.303043\n",
       "std       2107.307642\n",
       "min         24.141633\n",
       "25%        927.009265\n",
       "50%       1630.019381\n",
       "75%       2747.423625\n",
       "max      18388.949901\n",
       "Name: days_employed, dtype: float64"
      ]
     },
     "execution_count": 38,
     "metadata": {},
     "output_type": "execute_result"
    }
   ],
   "source": [
    "df['days_employed'].describe()"
   ]
  },
  {
   "cell_type": "code",
   "execution_count": 39,
   "metadata": {
    "scrolled": true
   },
   "outputs": [
    {
     "data": {
      "text/plain": [
       "array([ 0, 19, 20, 21, 22, 23, 24, 25, 26, 27, 28, 29, 30, 31, 32, 33, 34,\n",
       "       35, 36, 37, 38, 39, 40, 41, 42, 43, 44, 45, 46, 47, 48, 49, 50, 51,\n",
       "       52, 53, 54, 55, 56, 57, 58, 59, 60, 61, 62, 63, 64, 65, 66, 67, 68,\n",
       "       69, 70, 71, 72, 73, 74, 75])"
      ]
     },
     "execution_count": 39,
     "metadata": {},
     "output_type": "execute_result"
    }
   ],
   "source": [
    "df['dob_years'].sort_values().unique()\n"
   ]
  },
  {
   "cell_type": "code",
   "execution_count": 40,
   "metadata": {
    "scrolled": false
   },
   "outputs": [
    {
     "data": {
      "text/plain": [
       "35    0.028713\n",
       "40    0.028293\n",
       "41    0.028200\n",
       "34    0.028013\n",
       "38    0.027827\n",
       "42    0.027780\n",
       "33    0.027081\n",
       "39    0.026662\n",
       "31    0.026056\n",
       "36    0.025823\n",
       "44    0.025403\n",
       "29    0.025357\n",
       "30    0.025030\n",
       "37    0.024984\n",
       "48    0.024984\n",
       "50    0.023912\n",
       "43    0.023865\n",
       "32    0.023725\n",
       "49    0.023679\n",
       "28    0.023446\n",
       "45    0.023119\n",
       "27    0.022979\n",
       "52    0.022560\n",
       "56    0.022513\n",
       "47    0.022234\n",
       "54    0.022187\n",
       "46    0.022001\n",
       "53    0.021395\n",
       "57    0.021255\n",
       "58    0.021162\n",
       "51    0.020789\n",
       "59    0.020649\n",
       "55    0.020649\n",
       "26    0.019017\n",
       "60    0.017433\n",
       "25    0.016640\n",
       "61    0.016500\n",
       "62    0.016221\n",
       "63    0.012538\n",
       "24    0.012305\n",
       "64    0.012119\n",
       "23    0.011746\n",
       "65    0.008996\n",
       "22    0.008530\n",
       "66    0.008483\n",
       "67    0.007784\n",
       "21    0.005174\n",
       "0     0.004708\n",
       "68    0.004615\n",
       "69    0.003962\n",
       "70    0.003030\n",
       "71    0.002610\n",
       "20    0.002377\n",
       "72    0.001538\n",
       "19    0.000653\n",
       "73    0.000373\n",
       "74    0.000280\n",
       "75    0.000047\n",
       "Name: dob_years, dtype: float64"
      ]
     },
     "execution_count": 40,
     "metadata": {},
     "output_type": "execute_result"
    }
   ],
   "source": [
    "df['dob_years'].value_counts(normalize=True)"
   ]
  },
  {
   "cell_type": "markdown",
   "metadata": {},
   "source": [
    "    Valores negativos e zero são o problema da coluna. Função .abs lida com os valores negativos. "
   ]
  },
  {
   "cell_type": "code",
   "execution_count": 41,
   "metadata": {},
   "outputs": [
    {
     "data": {
      "text/plain": [
       "21454"
      ]
     },
     "execution_count": 41,
     "metadata": {},
     "output_type": "execute_result"
    }
   ],
   "source": [
    "df['dob_years'].count()\n"
   ]
  },
  {
   "cell_type": "code",
   "execution_count": 42,
   "metadata": {},
   "outputs": [],
   "source": [
    "df.drop(df[df['dob_years']== 0].index,inplace=True)\n"
   ]
  },
  {
   "cell_type": "code",
   "execution_count": 43,
   "metadata": {
    "scrolled": true
   },
   "outputs": [
    {
     "data": {
      "text/plain": [
       "0"
      ]
     },
     "execution_count": 43,
     "metadata": {},
     "output_type": "execute_result"
    }
   ],
   "source": [
    "(df['dob_years']==0).sum()\n"
   ]
  },
  {
   "cell_type": "markdown",
   "metadata": {},
   "source": [
    "[Agora vamos verificar a coluna `family_status`. Veja que tipo de valores existem e quais problemas você pode precisar resolver.]"
   ]
  },
  {
   "cell_type": "code",
   "execution_count": 44,
   "metadata": {},
   "outputs": [
    {
     "data": {
      "text/plain": [
       "married              12290\n",
       "civil partnership     4130\n",
       "unmarried             2794\n",
       "divorced              1185\n",
       "widow / widower        954\n",
       "Name: family_status, dtype: int64"
      ]
     },
     "execution_count": 44,
     "metadata": {},
     "output_type": "execute_result"
    }
   ],
   "source": [
    "df['family_status'].value_counts()\n"
   ]
  },
  {
   "cell_type": "code",
   "execution_count": 45,
   "metadata": {},
   "outputs": [
    {
     "data": {
      "text/plain": [
       "0"
      ]
     },
     "execution_count": 45,
     "metadata": {},
     "output_type": "execute_result"
    }
   ],
   "source": [
    "\n",
    "df['family_status'].isnull().sum()\n",
    "\n"
   ]
  },
  {
   "cell_type": "markdown",
   "metadata": {},
   "source": [
    "[Agora vamos verificar a coluna `gender`. Veja que tipo de valores existem e quais problemas você pode precisar resolver]"
   ]
  },
  {
   "cell_type": "code",
   "execution_count": 46,
   "metadata": {
    "scrolled": true
   },
   "outputs": [
    {
     "data": {
      "text/plain": [
       "F      14102\n",
       "M       7250\n",
       "XNA        1\n",
       "Name: gender, dtype: int64"
      ]
     },
     "execution_count": 46,
     "metadata": {},
     "output_type": "execute_result"
    }
   ],
   "source": [
    "# Vamos ver os valores na coluna\n",
    "df['gender'].value_counts()\n"
   ]
  },
  {
   "cell_type": "code",
   "execution_count": 47,
   "metadata": {},
   "outputs": [],
   "source": [
    "df.drop(df[df['gender']== 'XNA'].index,inplace=True)\n"
   ]
  },
  {
   "cell_type": "code",
   "execution_count": 48,
   "metadata": {},
   "outputs": [
    {
     "data": {
      "text/plain": [
       "F    14102\n",
       "M     7250\n",
       "Name: gender, dtype: int64"
      ]
     },
     "execution_count": 48,
     "metadata": {},
     "output_type": "execute_result"
    }
   ],
   "source": [
    "df['gender'].value_counts()\n"
   ]
  },
  {
   "cell_type": "code",
   "execution_count": 49,
   "metadata": {},
   "outputs": [
    {
     "data": {
      "text/plain": [
       "0"
      ]
     },
     "execution_count": 49,
     "metadata": {},
     "output_type": "execute_result"
    }
   ],
   "source": [
    "df['gender'].isnull().sum()\n"
   ]
  },
  {
   "cell_type": "code",
   "execution_count": 50,
   "metadata": {},
   "outputs": [
    {
     "data": {
      "text/plain": [
       "employee                       11029\n",
       "business                        5057\n",
       "retiree                         3809\n",
       "civil servant                   1451\n",
       "unemployed                         2\n",
       "entrepreneur                       2\n",
       "paternity / maternity leave        1\n",
       "student                            1\n",
       "Name: income_type, dtype: int64"
      ]
     },
     "execution_count": 50,
     "metadata": {},
     "output_type": "execute_result"
    }
   ],
   "source": [
    "# Vamos ver os valores na coluna\n",
    "df['income_type'].value_counts()\n"
   ]
  },
  {
   "cell_type": "code",
   "execution_count": 51,
   "metadata": {
    "scrolled": true
   },
   "outputs": [
    {
     "data": {
      "text/plain": [
       "21344"
      ]
     },
     "execution_count": 51,
     "metadata": {},
     "output_type": "execute_result"
    }
   ],
   "source": [
    "# Verificar duplicatas\n",
    "\n",
    "df['income_type'].duplicated().sum()\n"
   ]
  },
  {
   "cell_type": "code",
   "execution_count": 52,
   "metadata": {},
   "outputs": [],
   "source": [
    "df = df.drop_duplicates().reset_index(drop=True)"
   ]
  },
  {
   "cell_type": "code",
   "execution_count": 53,
   "metadata": {},
   "outputs": [
    {
     "data": {
      "text/plain": [
       "0"
      ]
     },
     "execution_count": 53,
     "metadata": {},
     "output_type": "execute_result"
    }
   ],
   "source": [
    "df.duplicated().sum()\n"
   ]
  },
  {
   "cell_type": "code",
   "execution_count": 54,
   "metadata": {},
   "outputs": [
    {
     "data": {
      "text/plain": [
       "(21352, 12)"
      ]
     },
     "execution_count": 54,
     "metadata": {},
     "output_type": "execute_result"
    }
   ],
   "source": [
    "df.shape"
   ]
  },
  {
   "cell_type": "markdown",
   "metadata": {},
   "source": [
    "[Descreva seu novo conjunto de dados: diga brevemente o que mudou e qual é a porcentagem das alterações, se houver.]\n"
   ]
  },
  {
   "cell_type": "markdown",
   "metadata": {},
   "source": [
    "# Trabalhando com valores ausentes"
   ]
  },
  {
   "cell_type": "markdown",
   "metadata": {},
   "source": [
    "    A coluna `education´ e 'family_status' podem ser utilizadas ja que possue uma quantidade pequena de classes"
   ]
  },
  {
   "cell_type": "code",
   "execution_count": 55,
   "metadata": {
    "scrolled": false
   },
   "outputs": [
    {
     "data": {
      "text/plain": [
       "{0: \"bachelor's degree\",\n",
       " 1: 'secondary education',\n",
       " 2: 'some college',\n",
       " 3: 'primary education'}"
      ]
     },
     "execution_count": 55,
     "metadata": {},
     "output_type": "execute_result"
    }
   ],
   "source": [
    "educ_dic= {0:\"bachelor's degree\", 1:\"secondary education\",2: \"some college\",3 :\"primary education\" } \n",
    "educ_dic"
   ]
  },
  {
   "cell_type": "code",
   "execution_count": 56,
   "metadata": {
    "scrolled": true
   },
   "outputs": [
    {
     "data": {
      "text/html": [
       "<div>\n",
       "<style scoped>\n",
       "    .dataframe tbody tr th:only-of-type {\n",
       "        vertical-align: middle;\n",
       "    }\n",
       "\n",
       "    .dataframe tbody tr th {\n",
       "        vertical-align: top;\n",
       "    }\n",
       "\n",
       "    .dataframe thead th {\n",
       "        text-align: right;\n",
       "    }\n",
       "</style>\n",
       "<table border=\"1\" class=\"dataframe\">\n",
       "  <thead>\n",
       "    <tr style=\"text-align: right;\">\n",
       "      <th></th>\n",
       "      <th>education_id</th>\n",
       "      <th>education</th>\n",
       "    </tr>\n",
       "  </thead>\n",
       "  <tbody>\n",
       "    <tr>\n",
       "      <th>0</th>\n",
       "      <td>0</td>\n",
       "      <td>bachelor's degree</td>\n",
       "    </tr>\n",
       "    <tr>\n",
       "      <th>1</th>\n",
       "      <td>1</td>\n",
       "      <td>secondary education</td>\n",
       "    </tr>\n",
       "    <tr>\n",
       "      <th>2</th>\n",
       "      <td>2</td>\n",
       "      <td>some college</td>\n",
       "    </tr>\n",
       "    <tr>\n",
       "      <th>3</th>\n",
       "      <td>3</td>\n",
       "      <td>primary education</td>\n",
       "    </tr>\n",
       "    <tr>\n",
       "      <th>4</th>\n",
       "      <td>4</td>\n",
       "      <td>graduate degree</td>\n",
       "    </tr>\n",
       "  </tbody>\n",
       "</table>\n",
       "</div>"
      ],
      "text/plain": [
       "   education_id            education\n",
       "0             0    bachelor's degree\n",
       "1             1  secondary education\n",
       "2             2         some college\n",
       "3             3    primary education\n",
       "4             4      graduate degree"
      ]
     },
     "execution_count": 56,
     "metadata": {},
     "output_type": "execute_result"
    }
   ],
   "source": [
    "education_dic = df[['education_id', 'education']]\n",
    "education_dic= education_dic.drop_duplicates().reset_index(drop=True)\n",
    "education_dic"
   ]
  },
  {
   "cell_type": "code",
   "execution_count": 57,
   "metadata": {
    "scrolled": false
   },
   "outputs": [
    {
     "data": {
      "text/html": [
       "<div>\n",
       "<style scoped>\n",
       "    .dataframe tbody tr th:only-of-type {\n",
       "        vertical-align: middle;\n",
       "    }\n",
       "\n",
       "    .dataframe tbody tr th {\n",
       "        vertical-align: top;\n",
       "    }\n",
       "\n",
       "    .dataframe thead th {\n",
       "        text-align: right;\n",
       "    }\n",
       "</style>\n",
       "<table border=\"1\" class=\"dataframe\">\n",
       "  <thead>\n",
       "    <tr style=\"text-align: right;\">\n",
       "      <th></th>\n",
       "      <th>education_id</th>\n",
       "    </tr>\n",
       "  </thead>\n",
       "  <tbody>\n",
       "    <tr>\n",
       "      <th>count</th>\n",
       "      <td>5.000000</td>\n",
       "    </tr>\n",
       "    <tr>\n",
       "      <th>mean</th>\n",
       "      <td>2.000000</td>\n",
       "    </tr>\n",
       "    <tr>\n",
       "      <th>std</th>\n",
       "      <td>1.581139</td>\n",
       "    </tr>\n",
       "    <tr>\n",
       "      <th>min</th>\n",
       "      <td>0.000000</td>\n",
       "    </tr>\n",
       "    <tr>\n",
       "      <th>25%</th>\n",
       "      <td>1.000000</td>\n",
       "    </tr>\n",
       "    <tr>\n",
       "      <th>50%</th>\n",
       "      <td>2.000000</td>\n",
       "    </tr>\n",
       "    <tr>\n",
       "      <th>75%</th>\n",
       "      <td>3.000000</td>\n",
       "    </tr>\n",
       "    <tr>\n",
       "      <th>max</th>\n",
       "      <td>4.000000</td>\n",
       "    </tr>\n",
       "  </tbody>\n",
       "</table>\n",
       "</div>"
      ],
      "text/plain": [
       "       education_id\n",
       "count      5.000000\n",
       "mean       2.000000\n",
       "std        1.581139\n",
       "min        0.000000\n",
       "25%        1.000000\n",
       "50%        2.000000\n",
       "75%        3.000000\n",
       "max        4.000000"
      ]
     },
     "execution_count": 57,
     "metadata": {},
     "output_type": "execute_result"
    }
   ],
   "source": [
    "education_dic.describe()"
   ]
  },
  {
   "cell_type": "code",
   "execution_count": 58,
   "metadata": {},
   "outputs": [],
   "source": [
    "family_dic= {0:\"married\", 1:\"civil partnership\",2: \"widow / widower\",3 :\"divorced\", 4: \"unmarried\" } \n"
   ]
  },
  {
   "cell_type": "code",
   "execution_count": 59,
   "metadata": {
    "scrolled": false
   },
   "outputs": [
    {
     "data": {
      "text/html": [
       "<div>\n",
       "<style scoped>\n",
       "    .dataframe tbody tr th:only-of-type {\n",
       "        vertical-align: middle;\n",
       "    }\n",
       "\n",
       "    .dataframe tbody tr th {\n",
       "        vertical-align: top;\n",
       "    }\n",
       "\n",
       "    .dataframe thead th {\n",
       "        text-align: right;\n",
       "    }\n",
       "</style>\n",
       "<table border=\"1\" class=\"dataframe\">\n",
       "  <thead>\n",
       "    <tr style=\"text-align: right;\">\n",
       "      <th></th>\n",
       "      <th>family_status_id</th>\n",
       "      <th>family_status</th>\n",
       "    </tr>\n",
       "  </thead>\n",
       "  <tbody>\n",
       "    <tr>\n",
       "      <th>0</th>\n",
       "      <td>0</td>\n",
       "      <td>married</td>\n",
       "    </tr>\n",
       "    <tr>\n",
       "      <th>1</th>\n",
       "      <td>1</td>\n",
       "      <td>civil partnership</td>\n",
       "    </tr>\n",
       "    <tr>\n",
       "      <th>2</th>\n",
       "      <td>2</td>\n",
       "      <td>widow / widower</td>\n",
       "    </tr>\n",
       "    <tr>\n",
       "      <th>3</th>\n",
       "      <td>3</td>\n",
       "      <td>divorced</td>\n",
       "    </tr>\n",
       "    <tr>\n",
       "      <th>4</th>\n",
       "      <td>4</td>\n",
       "      <td>unmarried</td>\n",
       "    </tr>\n",
       "  </tbody>\n",
       "</table>\n",
       "</div>"
      ],
      "text/plain": [
       "   family_status_id      family_status\n",
       "0                 0            married\n",
       "1                 1  civil partnership\n",
       "2                 2    widow / widower\n",
       "3                 3           divorced\n",
       "4                 4          unmarried"
      ]
     },
     "execution_count": 59,
     "metadata": {},
     "output_type": "execute_result"
    }
   ],
   "source": [
    "family_dic = df[['family_status_id', 'family_status']]\n",
    "family_dic= family_dic.drop_duplicates().reset_index(drop=True)\n",
    "family_dic"
   ]
  },
  {
   "cell_type": "markdown",
   "metadata": {},
   "source": [
    "### Restaurar valores ausentes em `total_income`"
   ]
  },
  {
   "cell_type": "markdown",
   "metadata": {},
   "source": [
    "    Para corrigir `dob_years`, podemos utilizar uma função que categoriza as idades, para utilizarmos posteriormente na substituição dos Nan."
   ]
  },
  {
   "cell_type": "code",
   "execution_count": 60,
   "metadata": {
    "scrolled": true
   },
   "outputs": [
    {
     "data": {
      "text/plain": [
       "count    21352.000000\n",
       "mean        43.476817\n",
       "std         12.241877\n",
       "min         19.000000\n",
       "25%         33.000000\n",
       "50%         43.000000\n",
       "75%         53.000000\n",
       "max         75.000000\n",
       "Name: dob_years, dtype: float64"
      ]
     },
     "execution_count": 60,
     "metadata": {},
     "output_type": "execute_result"
    }
   ],
   "source": [
    "df['dob_years'].describe()\n"
   ]
  },
  {
   "cell_type": "code",
   "execution_count": 61,
   "metadata": {},
   "outputs": [],
   "source": [
    "def idade_func(age):\n",
    "    if age <= 20:\n",
    "        return 'menor que 20'\n",
    "    if age <= 30:\n",
    "        return 'entre 20 e 30'\n",
    "    if age <= 50:\n",
    "        return 'entre 30 e 50'\n",
    "    return'maior que  50'  "
   ]
  },
  {
   "cell_type": "code",
   "execution_count": 62,
   "metadata": {
    "scrolled": true
   },
   "outputs": [
    {
     "name": "stdout",
     "output_type": "stream",
     "text": [
      "menor que 20\n",
      "entre 30 e 50\n"
     ]
    }
   ],
   "source": [
    "# Teste se a função funciona\n",
    "print(idade_func(5))\n",
    "print(idade_func(40))"
   ]
  },
  {
   "cell_type": "code",
   "execution_count": 63,
   "metadata": {},
   "outputs": [],
   "source": [
    "df['age_category']= df['dob_years'].apply(idade_func)\n"
   ]
  },
  {
   "cell_type": "code",
   "execution_count": 64,
   "metadata": {
    "scrolled": true
   },
   "outputs": [
    {
     "name": "stdout",
     "output_type": "stream",
     "text": [
      "<class 'pandas.core.frame.DataFrame'>\n",
      "RangeIndex: 21352 entries, 0 to 21351\n",
      "Data columns (total 13 columns):\n",
      " #   Column            Non-Null Count  Dtype  \n",
      "---  ------            --------------  -----  \n",
      " 0   children          21352 non-null  int64  \n",
      " 1   days_employed     19259 non-null  float64\n",
      " 2   dob_years         21352 non-null  int64  \n",
      " 3   education         21352 non-null  object \n",
      " 4   education_id      21352 non-null  int64  \n",
      " 5   family_status     21352 non-null  object \n",
      " 6   family_status_id  21352 non-null  int64  \n",
      " 7   gender            21352 non-null  object \n",
      " 8   income_type       21352 non-null  object \n",
      " 9   debt              21352 non-null  int64  \n",
      " 10  total_income      19259 non-null  float64\n",
      " 11  purpose           21352 non-null  object \n",
      " 12  age_category      21352 non-null  object \n",
      "dtypes: float64(2), int64(5), object(6)\n",
      "memory usage: 2.1+ MB\n"
     ]
    }
   ],
   "source": [
    "# Verificar como os valores na nova coluna\n",
    "df.info()\n"
   ]
  },
  {
   "cell_type": "code",
   "execution_count": 65,
   "metadata": {},
   "outputs": [
    {
     "data": {
      "text/plain": [
       "entre 30 e 50    10992\n",
       "maior que  50     6644\n",
       "entre 20 e 30     3651\n",
       "menor que 20        65\n",
       "Name: age_category, dtype: int64"
      ]
     },
     "execution_count": 65,
     "metadata": {},
     "output_type": "execute_result"
    }
   ],
   "source": [
    "df['age_category'].value_counts()"
   ]
  },
  {
   "cell_type": "code",
   "execution_count": 66,
   "metadata": {},
   "outputs": [
    {
     "data": {
      "text/html": [
       "<div>\n",
       "<style scoped>\n",
       "    .dataframe tbody tr th:only-of-type {\n",
       "        vertical-align: middle;\n",
       "    }\n",
       "\n",
       "    .dataframe tbody tr th {\n",
       "        vertical-align: top;\n",
       "    }\n",
       "\n",
       "    .dataframe thead th {\n",
       "        text-align: right;\n",
       "    }\n",
       "</style>\n",
       "<table border=\"1\" class=\"dataframe\">\n",
       "  <thead>\n",
       "    <tr style=\"text-align: right;\">\n",
       "      <th></th>\n",
       "      <th>children</th>\n",
       "      <th>days_employed</th>\n",
       "      <th>dob_years</th>\n",
       "      <th>education</th>\n",
       "      <th>education_id</th>\n",
       "      <th>family_status</th>\n",
       "      <th>family_status_id</th>\n",
       "      <th>gender</th>\n",
       "      <th>income_type</th>\n",
       "      <th>debt</th>\n",
       "      <th>total_income</th>\n",
       "      <th>purpose</th>\n",
       "      <th>age_category</th>\n",
       "    </tr>\n",
       "  </thead>\n",
       "  <tbody>\n",
       "    <tr>\n",
       "      <th>0</th>\n",
       "      <td>1</td>\n",
       "      <td>8437.673028</td>\n",
       "      <td>42</td>\n",
       "      <td>bachelor's degree</td>\n",
       "      <td>0</td>\n",
       "      <td>married</td>\n",
       "      <td>0</td>\n",
       "      <td>F</td>\n",
       "      <td>employee</td>\n",
       "      <td>0</td>\n",
       "      <td>40620.102</td>\n",
       "      <td>purchase of the house</td>\n",
       "      <td>entre 30 e 50</td>\n",
       "    </tr>\n",
       "    <tr>\n",
       "      <th>1</th>\n",
       "      <td>1</td>\n",
       "      <td>4024.803754</td>\n",
       "      <td>36</td>\n",
       "      <td>secondary education</td>\n",
       "      <td>1</td>\n",
       "      <td>married</td>\n",
       "      <td>0</td>\n",
       "      <td>F</td>\n",
       "      <td>employee</td>\n",
       "      <td>0</td>\n",
       "      <td>17932.802</td>\n",
       "      <td>car purchase</td>\n",
       "      <td>entre 30 e 50</td>\n",
       "    </tr>\n",
       "    <tr>\n",
       "      <th>2</th>\n",
       "      <td>0</td>\n",
       "      <td>5623.422610</td>\n",
       "      <td>33</td>\n",
       "      <td>secondary education</td>\n",
       "      <td>1</td>\n",
       "      <td>married</td>\n",
       "      <td>0</td>\n",
       "      <td>M</td>\n",
       "      <td>employee</td>\n",
       "      <td>0</td>\n",
       "      <td>23341.752</td>\n",
       "      <td>purchase of the house</td>\n",
       "      <td>entre 30 e 50</td>\n",
       "    </tr>\n",
       "    <tr>\n",
       "      <th>3</th>\n",
       "      <td>3</td>\n",
       "      <td>4124.747207</td>\n",
       "      <td>32</td>\n",
       "      <td>secondary education</td>\n",
       "      <td>1</td>\n",
       "      <td>married</td>\n",
       "      <td>0</td>\n",
       "      <td>M</td>\n",
       "      <td>employee</td>\n",
       "      <td>0</td>\n",
       "      <td>42820.568</td>\n",
       "      <td>supplementary education</td>\n",
       "      <td>entre 30 e 50</td>\n",
       "    </tr>\n",
       "    <tr>\n",
       "      <th>4</th>\n",
       "      <td>0</td>\n",
       "      <td>1630.019381</td>\n",
       "      <td>53</td>\n",
       "      <td>secondary education</td>\n",
       "      <td>1</td>\n",
       "      <td>civil partnership</td>\n",
       "      <td>1</td>\n",
       "      <td>F</td>\n",
       "      <td>retiree</td>\n",
       "      <td>0</td>\n",
       "      <td>25378.572</td>\n",
       "      <td>to have a wedding</td>\n",
       "      <td>maior que  50</td>\n",
       "    </tr>\n",
       "  </tbody>\n",
       "</table>\n",
       "</div>"
      ],
      "text/plain": [
       "   children  days_employed  dob_years            education  education_id  \\\n",
       "0         1    8437.673028         42    bachelor's degree             0   \n",
       "1         1    4024.803754         36  secondary education             1   \n",
       "2         0    5623.422610         33  secondary education             1   \n",
       "3         3    4124.747207         32  secondary education             1   \n",
       "4         0    1630.019381         53  secondary education             1   \n",
       "\n",
       "       family_status  family_status_id gender income_type  debt  total_income  \\\n",
       "0            married                 0      F    employee     0     40620.102   \n",
       "1            married                 0      F    employee     0     17932.802   \n",
       "2            married                 0      M    employee     0     23341.752   \n",
       "3            married                 0      M    employee     0     42820.568   \n",
       "4  civil partnership                 1      F     retiree     0     25378.572   \n",
       "\n",
       "                   purpose   age_category  \n",
       "0    purchase of the house  entre 30 e 50  \n",
       "1             car purchase  entre 30 e 50  \n",
       "2    purchase of the house  entre 30 e 50  \n",
       "3  supplementary education  entre 30 e 50  \n",
       "4        to have a wedding  maior que  50  "
      ]
     },
     "execution_count": 66,
     "metadata": {},
     "output_type": "execute_result"
    }
   ],
   "source": [
    "df_not_nan=df.dropna()\n",
    "df_not_nan.head(5)"
   ]
  },
  {
   "cell_type": "code",
   "execution_count": 67,
   "metadata": {
    "scrolled": true
   },
   "outputs": [
    {
     "data": {
      "text/plain": [
       "children            0\n",
       "days_employed       0\n",
       "dob_years           0\n",
       "education           0\n",
       "education_id        0\n",
       "family_status       0\n",
       "family_status_id    0\n",
       "gender              0\n",
       "income_type         0\n",
       "debt                0\n",
       "total_income        0\n",
       "purpose             0\n",
       "age_category        0\n",
       "dtype: int64"
      ]
     },
     "execution_count": 67,
     "metadata": {},
     "output_type": "execute_result"
    }
   ],
   "source": [
    "df_not_nan.isna().sum()"
   ]
  },
  {
   "cell_type": "code",
   "execution_count": 68,
   "metadata": {
    "scrolled": false
   },
   "outputs": [
    {
     "data": {
      "text/plain": [
       "income_type\n",
       "business                       1548.009883\n",
       "civil servant                  2673.404956\n",
       "employee                       1576.067689\n",
       "entrepreneur                    520.848083\n",
       "paternity / maternity leave    3296.759962\n",
       "retiree                        1630.019381\n",
       "student                         578.751554\n",
       "unemployed                     1630.019381\n",
       "Name: days_employed, dtype: float64"
      ]
     },
     "execution_count": 68,
     "metadata": {},
     "output_type": "execute_result"
    }
   ],
   "source": [
    "df_calculo_renda= df.groupby('income_type')['days_employed'].median()\n",
    "df_calculo_renda"
   ]
  },
  {
   "cell_type": "code",
   "execution_count": 69,
   "metadata": {},
   "outputs": [
    {
     "data": {
      "text/plain": [
       "income_type\n",
       "business                       2112.744402\n",
       "civil servant                  3388.508552\n",
       "employee                       2328.603723\n",
       "entrepreneur                    520.848083\n",
       "paternity / maternity leave    3296.759962\n",
       "retiree                        1630.019381\n",
       "student                         578.751554\n",
       "unemployed                     1630.019381\n",
       "Name: days_employed, dtype: float64"
      ]
     },
     "execution_count": 69,
     "metadata": {},
     "output_type": "execute_result"
    }
   ],
   "source": [
    "\n",
    "df_calculo_renda= df.groupby('income_type')['days_employed'].mean()\n",
    "df_calculo_renda"
   ]
  },
  {
   "cell_type": "code",
   "execution_count": 70,
   "metadata": {},
   "outputs": [],
   "source": [
    "tabe_pivo=df.pivot_table(index='income_type', columns= 'education',values='total_income', aggfunc='mean')"
   ]
  },
  {
   "cell_type": "code",
   "execution_count": 71,
   "metadata": {
    "scrolled": true
   },
   "outputs": [
    {
     "data": {
      "text/html": [
       "<div>\n",
       "<style scoped>\n",
       "    .dataframe tbody tr th:only-of-type {\n",
       "        vertical-align: middle;\n",
       "    }\n",
       "\n",
       "    .dataframe tbody tr th {\n",
       "        vertical-align: top;\n",
       "    }\n",
       "\n",
       "    .dataframe thead th {\n",
       "        text-align: right;\n",
       "    }\n",
       "</style>\n",
       "<table border=\"1\" class=\"dataframe\">\n",
       "  <thead>\n",
       "    <tr style=\"text-align: right;\">\n",
       "      <th>education</th>\n",
       "      <th>bachelor's degree</th>\n",
       "      <th>graduate degree</th>\n",
       "      <th>primary education</th>\n",
       "      <th>secondary education</th>\n",
       "      <th>some college</th>\n",
       "    </tr>\n",
       "    <tr>\n",
       "      <th>income_type</th>\n",
       "      <th></th>\n",
       "      <th></th>\n",
       "      <th></th>\n",
       "      <th></th>\n",
       "      <th></th>\n",
       "    </tr>\n",
       "  </thead>\n",
       "  <tbody>\n",
       "    <tr>\n",
       "      <th>business</th>\n",
       "      <td>38815.606164</td>\n",
       "      <td>NaN</td>\n",
       "      <td>26409.124931</td>\n",
       "      <td>28732.034349</td>\n",
       "      <td>31620.043969</td>\n",
       "    </tr>\n",
       "    <tr>\n",
       "      <th>civil servant</th>\n",
       "      <td>31617.948593</td>\n",
       "      <td>17822.757000</td>\n",
       "      <td>29449.016667</td>\n",
       "      <td>24664.297146</td>\n",
       "      <td>27596.312587</td>\n",
       "    </tr>\n",
       "    <tr>\n",
       "      <th>employee</th>\n",
       "      <td>30672.572883</td>\n",
       "      <td>31089.653667</td>\n",
       "      <td>21954.056075</td>\n",
       "      <td>24428.164389</td>\n",
       "      <td>27934.650356</td>\n",
       "    </tr>\n",
       "    <tr>\n",
       "      <th>entrepreneur</th>\n",
       "      <td>79866.103000</td>\n",
       "      <td>NaN</td>\n",
       "      <td>NaN</td>\n",
       "      <td>NaN</td>\n",
       "      <td>NaN</td>\n",
       "    </tr>\n",
       "    <tr>\n",
       "      <th>paternity / maternity leave</th>\n",
       "      <td>NaN</td>\n",
       "      <td>NaN</td>\n",
       "      <td>NaN</td>\n",
       "      <td>8612.661000</td>\n",
       "      <td>NaN</td>\n",
       "    </tr>\n",
       "    <tr>\n",
       "      <th>retiree</th>\n",
       "      <td>27332.427936</td>\n",
       "      <td>28334.215000</td>\n",
       "      <td>17810.387914</td>\n",
       "      <td>21069.410891</td>\n",
       "      <td>22129.937314</td>\n",
       "    </tr>\n",
       "    <tr>\n",
       "      <th>student</th>\n",
       "      <td>15712.260000</td>\n",
       "      <td>NaN</td>\n",
       "      <td>NaN</td>\n",
       "      <td>NaN</td>\n",
       "      <td>NaN</td>\n",
       "    </tr>\n",
       "    <tr>\n",
       "      <th>unemployed</th>\n",
       "      <td>32435.602000</td>\n",
       "      <td>NaN</td>\n",
       "      <td>NaN</td>\n",
       "      <td>9593.119000</td>\n",
       "      <td>NaN</td>\n",
       "    </tr>\n",
       "  </tbody>\n",
       "</table>\n",
       "</div>"
      ],
      "text/plain": [
       "education                    bachelor's degree  graduate degree  \\\n",
       "income_type                                                       \n",
       "business                          38815.606164              NaN   \n",
       "civil servant                     31617.948593     17822.757000   \n",
       "employee                          30672.572883     31089.653667   \n",
       "entrepreneur                      79866.103000              NaN   \n",
       "paternity / maternity leave                NaN              NaN   \n",
       "retiree                           27332.427936     28334.215000   \n",
       "student                           15712.260000              NaN   \n",
       "unemployed                        32435.602000              NaN   \n",
       "\n",
       "education                    primary education  secondary education  \\\n",
       "income_type                                                           \n",
       "business                          26409.124931         28732.034349   \n",
       "civil servant                     29449.016667         24664.297146   \n",
       "employee                          21954.056075         24428.164389   \n",
       "entrepreneur                               NaN                  NaN   \n",
       "paternity / maternity leave                NaN          8612.661000   \n",
       "retiree                           17810.387914         21069.410891   \n",
       "student                                    NaN                  NaN   \n",
       "unemployed                                 NaN          9593.119000   \n",
       "\n",
       "education                    some college  \n",
       "income_type                                \n",
       "business                     31620.043969  \n",
       "civil servant                27596.312587  \n",
       "employee                     27934.650356  \n",
       "entrepreneur                          NaN  \n",
       "paternity / maternity leave           NaN  \n",
       "retiree                      22129.937314  \n",
       "student                               NaN  \n",
       "unemployed                            NaN  "
      ]
     },
     "execution_count": 71,
     "metadata": {},
     "output_type": "execute_result"
    }
   ],
   "source": [
    "tabe_pivo"
   ]
  },
  {
   "cell_type": "code",
   "execution_count": 72,
   "metadata": {
    "scrolled": true
   },
   "outputs": [
    {
     "data": {
      "text/html": [
       "<div>\n",
       "<style scoped>\n",
       "    .dataframe tbody tr th:only-of-type {\n",
       "        vertical-align: middle;\n",
       "    }\n",
       "\n",
       "    .dataframe tbody tr th {\n",
       "        vertical-align: top;\n",
       "    }\n",
       "\n",
       "    .dataframe thead th {\n",
       "        text-align: right;\n",
       "    }\n",
       "</style>\n",
       "<table border=\"1\" class=\"dataframe\">\n",
       "  <thead>\n",
       "    <tr style=\"text-align: right;\">\n",
       "      <th></th>\n",
       "      <th>total_income</th>\n",
       "    </tr>\n",
       "    <tr>\n",
       "      <th>education</th>\n",
       "      <th></th>\n",
       "    </tr>\n",
       "  </thead>\n",
       "  <tbody>\n",
       "    <tr>\n",
       "      <th>bachelor's degree</th>\n",
       "      <td>33172.428387</td>\n",
       "    </tr>\n",
       "    <tr>\n",
       "      <th>graduate degree</th>\n",
       "      <td>27960.024667</td>\n",
       "    </tr>\n",
       "    <tr>\n",
       "      <th>primary education</th>\n",
       "      <td>21144.882211</td>\n",
       "    </tr>\n",
       "    <tr>\n",
       "      <th>secondary education</th>\n",
       "      <td>24600.353617</td>\n",
       "    </tr>\n",
       "    <tr>\n",
       "      <th>some college</th>\n",
       "      <td>29035.057865</td>\n",
       "    </tr>\n",
       "  </tbody>\n",
       "</table>\n",
       "</div>"
      ],
      "text/plain": [
       "                     total_income\n",
       "education                        \n",
       "bachelor's degree    33172.428387\n",
       "graduate degree      27960.024667\n",
       "primary education    21144.882211\n",
       "secondary education  24600.353617\n",
       "some college         29035.057865"
      ]
     },
     "execution_count": 72,
     "metadata": {},
     "output_type": "execute_result"
    }
   ],
   "source": [
    "df.pivot_table(index='education', values='total_income', aggfunc='mean')\n"
   ]
  },
  {
   "cell_type": "code",
   "execution_count": 73,
   "metadata": {
    "scrolled": false
   },
   "outputs": [
    {
     "data": {
      "text/html": [
       "<div>\n",
       "<style scoped>\n",
       "    .dataframe tbody tr th:only-of-type {\n",
       "        vertical-align: middle;\n",
       "    }\n",
       "\n",
       "    .dataframe tbody tr th {\n",
       "        vertical-align: top;\n",
       "    }\n",
       "\n",
       "    .dataframe thead th {\n",
       "        text-align: right;\n",
       "    }\n",
       "</style>\n",
       "<table border=\"1\" class=\"dataframe\">\n",
       "  <thead>\n",
       "    <tr style=\"text-align: right;\">\n",
       "      <th>education</th>\n",
       "      <th>bachelor's degree</th>\n",
       "      <th>graduate degree</th>\n",
       "      <th>primary education</th>\n",
       "      <th>secondary education</th>\n",
       "      <th>some college</th>\n",
       "    </tr>\n",
       "    <tr>\n",
       "      <th>gender</th>\n",
       "      <th></th>\n",
       "      <th></th>\n",
       "      <th></th>\n",
       "      <th></th>\n",
       "      <th></th>\n",
       "    </tr>\n",
       "  </thead>\n",
       "  <tbody>\n",
       "    <tr>\n",
       "      <th>F</th>\n",
       "      <td>30332.630701</td>\n",
       "      <td>29345.394</td>\n",
       "      <td>19118.479588</td>\n",
       "      <td>22677.456712</td>\n",
       "      <td>26484.617125</td>\n",
       "    </tr>\n",
       "    <tr>\n",
       "      <th>M</th>\n",
       "      <td>39026.494990</td>\n",
       "      <td>27267.340</td>\n",
       "      <td>23798.931664</td>\n",
       "      <td>28294.556582</td>\n",
       "      <td>33179.524066</td>\n",
       "    </tr>\n",
       "  </tbody>\n",
       "</table>\n",
       "</div>"
      ],
      "text/plain": [
       "education  bachelor's degree  graduate degree  primary education  \\\n",
       "gender                                                             \n",
       "F               30332.630701        29345.394       19118.479588   \n",
       "M               39026.494990        27267.340       23798.931664   \n",
       "\n",
       "education  secondary education  some college  \n",
       "gender                                        \n",
       "F                 22677.456712  26484.617125  \n",
       "M                 28294.556582  33179.524066  "
      ]
     },
     "execution_count": 73,
     "metadata": {},
     "output_type": "execute_result"
    }
   ],
   "source": [
    "df.pivot_table(index='gender', columns= 'education',values='total_income', aggfunc='mean')"
   ]
  },
  {
   "cell_type": "code",
   "execution_count": 74,
   "metadata": {
    "scrolled": false
   },
   "outputs": [
    {
     "data": {
      "text/html": [
       "<div>\n",
       "<style scoped>\n",
       "    .dataframe tbody tr th:only-of-type {\n",
       "        vertical-align: middle;\n",
       "    }\n",
       "\n",
       "    .dataframe tbody tr th {\n",
       "        vertical-align: top;\n",
       "    }\n",
       "\n",
       "    .dataframe thead th {\n",
       "        text-align: right;\n",
       "    }\n",
       "</style>\n",
       "<table border=\"1\" class=\"dataframe\">\n",
       "  <thead>\n",
       "    <tr style=\"text-align: right;\">\n",
       "      <th></th>\n",
       "      <th>total_income</th>\n",
       "    </tr>\n",
       "    <tr>\n",
       "      <th>gender</th>\n",
       "      <th></th>\n",
       "    </tr>\n",
       "  </thead>\n",
       "  <tbody>\n",
       "    <tr>\n",
       "      <th>F</th>\n",
       "      <td>24664.752169</td>\n",
       "    </tr>\n",
       "    <tr>\n",
       "      <th>M</th>\n",
       "      <td>30905.772981</td>\n",
       "    </tr>\n",
       "  </tbody>\n",
       "</table>\n",
       "</div>"
      ],
      "text/plain": [
       "        total_income\n",
       "gender              \n",
       "F       24664.752169\n",
       "M       30905.772981"
      ]
     },
     "execution_count": 74,
     "metadata": {},
     "output_type": "execute_result"
    }
   ],
   "source": [
    "df.pivot_table(index='gender',values='total_income', aggfunc='mean')"
   ]
  },
  {
   "cell_type": "code",
   "execution_count": 75,
   "metadata": {
    "scrolled": true
   },
   "outputs": [
    {
     "data": {
      "text/html": [
       "<div>\n",
       "<style scoped>\n",
       "    .dataframe tbody tr th:only-of-type {\n",
       "        vertical-align: middle;\n",
       "    }\n",
       "\n",
       "    .dataframe tbody tr th {\n",
       "        vertical-align: top;\n",
       "    }\n",
       "\n",
       "    .dataframe thead th {\n",
       "        text-align: right;\n",
       "    }\n",
       "</style>\n",
       "<table border=\"1\" class=\"dataframe\">\n",
       "  <thead>\n",
       "    <tr style=\"text-align: right;\">\n",
       "      <th>purpose</th>\n",
       "      <th>building a property</th>\n",
       "      <th>building a real estate</th>\n",
       "      <th>buy commercial real estate</th>\n",
       "      <th>buy real estate</th>\n",
       "      <th>buy residential real estate</th>\n",
       "      <th>buying a second-hand car</th>\n",
       "      <th>buying my own car</th>\n",
       "      <th>buying property for renting out</th>\n",
       "      <th>car</th>\n",
       "      <th>car purchase</th>\n",
       "      <th>...</th>\n",
       "      <th>supplementary education</th>\n",
       "      <th>to become educated</th>\n",
       "      <th>to buy a car</th>\n",
       "      <th>to get a supplementary education</th>\n",
       "      <th>to have a wedding</th>\n",
       "      <th>to own a car</th>\n",
       "      <th>transactions with commercial real estate</th>\n",
       "      <th>transactions with my real estate</th>\n",
       "      <th>university education</th>\n",
       "      <th>wedding ceremony</th>\n",
       "    </tr>\n",
       "    <tr>\n",
       "      <th>family_status</th>\n",
       "      <th></th>\n",
       "      <th></th>\n",
       "      <th></th>\n",
       "      <th></th>\n",
       "      <th></th>\n",
       "      <th></th>\n",
       "      <th></th>\n",
       "      <th></th>\n",
       "      <th></th>\n",
       "      <th></th>\n",
       "      <th></th>\n",
       "      <th></th>\n",
       "      <th></th>\n",
       "      <th></th>\n",
       "      <th></th>\n",
       "      <th></th>\n",
       "      <th></th>\n",
       "      <th></th>\n",
       "      <th></th>\n",
       "      <th></th>\n",
       "      <th></th>\n",
       "    </tr>\n",
       "  </thead>\n",
       "  <tbody>\n",
       "    <tr>\n",
       "      <th>civil partnership</th>\n",
       "      <td>25888.902769</td>\n",
       "      <td>25702.899462</td>\n",
       "      <td>30140.791612</td>\n",
       "      <td>29161.823681</td>\n",
       "      <td>30635.498375</td>\n",
       "      <td>23887.215860</td>\n",
       "      <td>24428.492023</td>\n",
       "      <td>27561.056606</td>\n",
       "      <td>26902.800100</td>\n",
       "      <td>28977.558850</td>\n",
       "      <td>...</td>\n",
       "      <td>33879.184862</td>\n",
       "      <td>27526.247622</td>\n",
       "      <td>27456.573863</td>\n",
       "      <td>25951.324238</td>\n",
       "      <td>26519.200009</td>\n",
       "      <td>24243.290851</td>\n",
       "      <td>23550.547156</td>\n",
       "      <td>25402.239313</td>\n",
       "      <td>29436.488585</td>\n",
       "      <td>25924.189997</td>\n",
       "    </tr>\n",
       "    <tr>\n",
       "      <th>divorced</th>\n",
       "      <td>24012.554935</td>\n",
       "      <td>29695.398316</td>\n",
       "      <td>26156.118978</td>\n",
       "      <td>33017.785735</td>\n",
       "      <td>27729.504588</td>\n",
       "      <td>29399.801333</td>\n",
       "      <td>28034.842320</td>\n",
       "      <td>27591.512333</td>\n",
       "      <td>22858.374226</td>\n",
       "      <td>31362.027050</td>\n",
       "      <td>...</td>\n",
       "      <td>24611.933593</td>\n",
       "      <td>16523.209083</td>\n",
       "      <td>29841.814643</td>\n",
       "      <td>23426.709480</td>\n",
       "      <td>NaN</td>\n",
       "      <td>25263.689929</td>\n",
       "      <td>29095.423658</td>\n",
       "      <td>25814.705433</td>\n",
       "      <td>26712.288760</td>\n",
       "      <td>NaN</td>\n",
       "    </tr>\n",
       "    <tr>\n",
       "      <th>married</th>\n",
       "      <td>26824.015947</td>\n",
       "      <td>27053.633846</td>\n",
       "      <td>26765.285235</td>\n",
       "      <td>27667.313573</td>\n",
       "      <td>27809.168609</td>\n",
       "      <td>25826.592164</td>\n",
       "      <td>27197.417481</td>\n",
       "      <td>26326.552366</td>\n",
       "      <td>27992.272124</td>\n",
       "      <td>26239.836173</td>\n",
       "      <td>...</td>\n",
       "      <td>26357.576191</td>\n",
       "      <td>28430.214216</td>\n",
       "      <td>28084.867282</td>\n",
       "      <td>25415.650856</td>\n",
       "      <td>NaN</td>\n",
       "      <td>26389.027227</td>\n",
       "      <td>27542.700732</td>\n",
       "      <td>26586.139903</td>\n",
       "      <td>28153.717696</td>\n",
       "      <td>NaN</td>\n",
       "    </tr>\n",
       "    <tr>\n",
       "      <th>unmarried</th>\n",
       "      <td>26435.647701</td>\n",
       "      <td>27365.738630</td>\n",
       "      <td>25789.083614</td>\n",
       "      <td>27730.891365</td>\n",
       "      <td>25948.222011</td>\n",
       "      <td>29578.113672</td>\n",
       "      <td>25202.903250</td>\n",
       "      <td>26942.393494</td>\n",
       "      <td>29967.914902</td>\n",
       "      <td>26635.119529</td>\n",
       "      <td>...</td>\n",
       "      <td>25377.733435</td>\n",
       "      <td>26603.659264</td>\n",
       "      <td>28865.054286</td>\n",
       "      <td>25710.790564</td>\n",
       "      <td>NaN</td>\n",
       "      <td>23988.419019</td>\n",
       "      <td>27391.092371</td>\n",
       "      <td>27194.022775</td>\n",
       "      <td>26699.581527</td>\n",
       "      <td>NaN</td>\n",
       "    </tr>\n",
       "    <tr>\n",
       "      <th>widow / widower</th>\n",
       "      <td>22137.181333</td>\n",
       "      <td>22368.393595</td>\n",
       "      <td>23162.062171</td>\n",
       "      <td>21673.609462</td>\n",
       "      <td>21026.563100</td>\n",
       "      <td>18407.456957</td>\n",
       "      <td>22280.101050</td>\n",
       "      <td>28627.628520</td>\n",
       "      <td>20383.498393</td>\n",
       "      <td>21205.533571</td>\n",
       "      <td>...</td>\n",
       "      <td>19051.139300</td>\n",
       "      <td>23128.642000</td>\n",
       "      <td>20812.937318</td>\n",
       "      <td>22909.148864</td>\n",
       "      <td>NaN</td>\n",
       "      <td>21685.476357</td>\n",
       "      <td>26732.873000</td>\n",
       "      <td>21277.355968</td>\n",
       "      <td>22492.103808</td>\n",
       "      <td>NaN</td>\n",
       "    </tr>\n",
       "  </tbody>\n",
       "</table>\n",
       "<p>5 rows × 38 columns</p>\n",
       "</div>"
      ],
      "text/plain": [
       "purpose            building a property  building a real estate  \\\n",
       "family_status                                                    \n",
       "civil partnership         25888.902769            25702.899462   \n",
       "divorced                  24012.554935            29695.398316   \n",
       "married                   26824.015947            27053.633846   \n",
       "unmarried                 26435.647701            27365.738630   \n",
       "widow / widower           22137.181333            22368.393595   \n",
       "\n",
       "purpose            buy commercial real estate  buy real estate  \\\n",
       "family_status                                                    \n",
       "civil partnership                30140.791612     29161.823681   \n",
       "divorced                         26156.118978     33017.785735   \n",
       "married                          26765.285235     27667.313573   \n",
       "unmarried                        25789.083614     27730.891365   \n",
       "widow / widower                  23162.062171     21673.609462   \n",
       "\n",
       "purpose            buy residential real estate  buying a second-hand car  \\\n",
       "family_status                                                              \n",
       "civil partnership                 30635.498375              23887.215860   \n",
       "divorced                          27729.504588              29399.801333   \n",
       "married                           27809.168609              25826.592164   \n",
       "unmarried                         25948.222011              29578.113672   \n",
       "widow / widower                   21026.563100              18407.456957   \n",
       "\n",
       "purpose            buying my own car  buying property for renting out  \\\n",
       "family_status                                                           \n",
       "civil partnership       24428.492023                     27561.056606   \n",
       "divorced                28034.842320                     27591.512333   \n",
       "married                 27197.417481                     26326.552366   \n",
       "unmarried               25202.903250                     26942.393494   \n",
       "widow / widower         22280.101050                     28627.628520   \n",
       "\n",
       "purpose                     car  car purchase  ...  supplementary education  \\\n",
       "family_status                                  ...                            \n",
       "civil partnership  26902.800100  28977.558850  ...             33879.184862   \n",
       "divorced           22858.374226  31362.027050  ...             24611.933593   \n",
       "married            27992.272124  26239.836173  ...             26357.576191   \n",
       "unmarried          29967.914902  26635.119529  ...             25377.733435   \n",
       "widow / widower    20383.498393  21205.533571  ...             19051.139300   \n",
       "\n",
       "purpose            to become educated  to buy a car  \\\n",
       "family_status                                         \n",
       "civil partnership        27526.247622  27456.573863   \n",
       "divorced                 16523.209083  29841.814643   \n",
       "married                  28430.214216  28084.867282   \n",
       "unmarried                26603.659264  28865.054286   \n",
       "widow / widower          23128.642000  20812.937318   \n",
       "\n",
       "purpose            to get a supplementary education  to have a wedding  \\\n",
       "family_status                                                            \n",
       "civil partnership                      25951.324238       26519.200009   \n",
       "divorced                               23426.709480                NaN   \n",
       "married                                25415.650856                NaN   \n",
       "unmarried                              25710.790564                NaN   \n",
       "widow / widower                        22909.148864                NaN   \n",
       "\n",
       "purpose            to own a car  transactions with commercial real estate  \\\n",
       "family_status                                                               \n",
       "civil partnership  24243.290851                              23550.547156   \n",
       "divorced           25263.689929                              29095.423658   \n",
       "married            26389.027227                              27542.700732   \n",
       "unmarried          23988.419019                              27391.092371   \n",
       "widow / widower    21685.476357                              26732.873000   \n",
       "\n",
       "purpose            transactions with my real estate  university education  \\\n",
       "family_status                                                               \n",
       "civil partnership                      25402.239313          29436.488585   \n",
       "divorced                               25814.705433          26712.288760   \n",
       "married                                26586.139903          28153.717696   \n",
       "unmarried                              27194.022775          26699.581527   \n",
       "widow / widower                        21277.355968          22492.103808   \n",
       "\n",
       "purpose            wedding ceremony  \n",
       "family_status                        \n",
       "civil partnership      25924.189997  \n",
       "divorced                        NaN  \n",
       "married                         NaN  \n",
       "unmarried                       NaN  \n",
       "widow / widower                 NaN  \n",
       "\n",
       "[5 rows x 38 columns]"
      ]
     },
     "execution_count": 75,
     "metadata": {},
     "output_type": "execute_result"
    }
   ],
   "source": [
    "df.pivot_table(index='family_status', columns= 'purpose',values='total_income', aggfunc='mean')"
   ]
  },
  {
   "cell_type": "code",
   "execution_count": 76,
   "metadata": {
    "scrolled": true
   },
   "outputs": [
    {
     "data": {
      "text/html": [
       "<div>\n",
       "<style scoped>\n",
       "    .dataframe tbody tr th:only-of-type {\n",
       "        vertical-align: middle;\n",
       "    }\n",
       "\n",
       "    .dataframe tbody tr th {\n",
       "        vertical-align: top;\n",
       "    }\n",
       "\n",
       "    .dataframe thead th {\n",
       "        text-align: right;\n",
       "    }\n",
       "</style>\n",
       "<table border=\"1\" class=\"dataframe\">\n",
       "  <thead>\n",
       "    <tr style=\"text-align: right;\">\n",
       "      <th>income_type</th>\n",
       "      <th>business</th>\n",
       "      <th>civil servant</th>\n",
       "      <th>employee</th>\n",
       "      <th>entrepreneur</th>\n",
       "      <th>paternity / maternity leave</th>\n",
       "      <th>retiree</th>\n",
       "      <th>student</th>\n",
       "      <th>unemployed</th>\n",
       "    </tr>\n",
       "    <tr>\n",
       "      <th>family_status</th>\n",
       "      <th></th>\n",
       "      <th></th>\n",
       "      <th></th>\n",
       "      <th></th>\n",
       "      <th></th>\n",
       "      <th></th>\n",
       "      <th></th>\n",
       "      <th></th>\n",
       "    </tr>\n",
       "  </thead>\n",
       "  <tbody>\n",
       "    <tr>\n",
       "      <th>civil partnership</th>\n",
       "      <td>31908.776999</td>\n",
       "      <td>26354.229858</td>\n",
       "      <td>25651.536358</td>\n",
       "      <td>79866.103</td>\n",
       "      <td>NaN</td>\n",
       "      <td>22297.919497</td>\n",
       "      <td>NaN</td>\n",
       "      <td>32435.602</td>\n",
       "    </tr>\n",
       "    <tr>\n",
       "      <th>divorced</th>\n",
       "      <td>33885.358661</td>\n",
       "      <td>28640.609905</td>\n",
       "      <td>25942.453043</td>\n",
       "      <td>NaN</td>\n",
       "      <td>NaN</td>\n",
       "      <td>22042.152594</td>\n",
       "      <td>NaN</td>\n",
       "      <td>NaN</td>\n",
       "    </tr>\n",
       "    <tr>\n",
       "      <th>married</th>\n",
       "      <td>32804.544216</td>\n",
       "      <td>27471.878455</td>\n",
       "      <td>26044.880675</td>\n",
       "      <td>NaN</td>\n",
       "      <td>8612.661</td>\n",
       "      <td>21930.442886</td>\n",
       "      <td>NaN</td>\n",
       "      <td>9593.119</td>\n",
       "    </tr>\n",
       "    <tr>\n",
       "      <th>unmarried</th>\n",
       "      <td>31469.093368</td>\n",
       "      <td>28344.267050</td>\n",
       "      <td>25402.588556</td>\n",
       "      <td>NaN</td>\n",
       "      <td>NaN</td>\n",
       "      <td>22424.321427</td>\n",
       "      <td>15712.26</td>\n",
       "      <td>NaN</td>\n",
       "    </tr>\n",
       "    <tr>\n",
       "      <th>widow / widower</th>\n",
       "      <td>28739.370535</td>\n",
       "      <td>25404.091390</td>\n",
       "      <td>24114.164917</td>\n",
       "      <td>NaN</td>\n",
       "      <td>NaN</td>\n",
       "      <td>21188.980946</td>\n",
       "      <td>NaN</td>\n",
       "      <td>NaN</td>\n",
       "    </tr>\n",
       "  </tbody>\n",
       "</table>\n",
       "</div>"
      ],
      "text/plain": [
       "income_type            business  civil servant      employee  entrepreneur  \\\n",
       "family_status                                                                \n",
       "civil partnership  31908.776999   26354.229858  25651.536358     79866.103   \n",
       "divorced           33885.358661   28640.609905  25942.453043           NaN   \n",
       "married            32804.544216   27471.878455  26044.880675           NaN   \n",
       "unmarried          31469.093368   28344.267050  25402.588556           NaN   \n",
       "widow / widower    28739.370535   25404.091390  24114.164917           NaN   \n",
       "\n",
       "income_type        paternity / maternity leave       retiree   student  \\\n",
       "family_status                                                            \n",
       "civil partnership                          NaN  22297.919497       NaN   \n",
       "divorced                                   NaN  22042.152594       NaN   \n",
       "married                               8612.661  21930.442886       NaN   \n",
       "unmarried                                  NaN  22424.321427  15712.26   \n",
       "widow / widower                            NaN  21188.980946       NaN   \n",
       "\n",
       "income_type        unemployed  \n",
       "family_status                  \n",
       "civil partnership   32435.602  \n",
       "divorced                  NaN  \n",
       "married              9593.119  \n",
       "unmarried                 NaN  \n",
       "widow / widower           NaN  "
      ]
     },
     "execution_count": 76,
     "metadata": {},
     "output_type": "execute_result"
    }
   ],
   "source": [
    "df.pivot_table(index='family_status', columns= 'income_type',values='total_income', aggfunc='mean')"
   ]
  },
  {
   "cell_type": "markdown",
   "metadata": {},
   "source": [
    "    As tabelas acima mostram que em relação as classes que possuem as maiores rendas média, se destacam as sedguintes: \n",
    "       -Pessoas do sexo M .\n",
    "       -pessoas com 'income_type'  entrepreneur .\n",
    "       -Pessoas com educação do tipo: `bachelor's degree` "
   ]
  },
  {
   "cell_type": "code",
   "execution_count": 77,
   "metadata": {},
   "outputs": [],
   "source": [
    "total_income_table = df.pivot_table(index='income_type', values='total_income', aggfunc='median')        \n"
   ]
  },
  {
   "cell_type": "code",
   "execution_count": 78,
   "metadata": {},
   "outputs": [],
   "source": [
    "def fill_total_income(row):\n",
    "    if pd.isna(row['total_income']):\n",
    "        return total_income_table['total_income'][row['income_type']]\n",
    "    return row['total_income']\n",
    "df['total_income'] = df.apply(fill_total_income, axis=1)"
   ]
  },
  {
   "cell_type": "code",
   "execution_count": 79,
   "metadata": {},
   "outputs": [
    {
     "data": {
      "text/plain": [
       "0"
      ]
     },
     "execution_count": 79,
     "metadata": {},
     "output_type": "execute_result"
    }
   ],
   "source": [
    "# Verifique se temos algum erro\n",
    "\n",
    "df['total_income'].isna().sum()"
   ]
  },
  {
   "cell_type": "code",
   "execution_count": 80,
   "metadata": {},
   "outputs": [
    {
     "data": {
      "text/plain": [
       "(21352,)"
      ]
     },
     "execution_count": 80,
     "metadata": {},
     "output_type": "execute_result"
    }
   ],
   "source": [
    "df['total_income'].shape\n"
   ]
  },
  {
   "cell_type": "markdown",
   "metadata": {},
   "source": [
    "###  Restaurar valores em `days_employed`"
   ]
  },
  {
   "cell_type": "markdown",
   "metadata": {},
   "source": [
    "[Pense nos parâmetros que podem ajudá-lo a restaurar os valores ausentes nesta coluna. Eventualmente, você desejará descobrir se deve usar valores médios ou medianos para substituir valores ausentes. Você provavelmente fará uma pesquisa semelhante à que fez ao restaurar dados em uma coluna anterior.]"
   ]
  },
  {
   "cell_type": "code",
   "execution_count": 81,
   "metadata": {
    "scrolled": false
   },
   "outputs": [
    {
     "data": {
      "text/html": [
       "<div>\n",
       "<style scoped>\n",
       "    .dataframe tbody tr th:only-of-type {\n",
       "        vertical-align: middle;\n",
       "    }\n",
       "\n",
       "    .dataframe tbody tr th {\n",
       "        vertical-align: top;\n",
       "    }\n",
       "\n",
       "    .dataframe thead th {\n",
       "        text-align: right;\n",
       "    }\n",
       "</style>\n",
       "<table border=\"1\" class=\"dataframe\">\n",
       "  <thead>\n",
       "    <tr style=\"text-align: right;\">\n",
       "      <th></th>\n",
       "      <th>children</th>\n",
       "      <th>dob_years</th>\n",
       "      <th>education_id</th>\n",
       "      <th>family_status_id</th>\n",
       "      <th>debt</th>\n",
       "      <th>total_income</th>\n",
       "    </tr>\n",
       "    <tr>\n",
       "      <th>days_employed</th>\n",
       "      <th></th>\n",
       "      <th></th>\n",
       "      <th></th>\n",
       "      <th></th>\n",
       "      <th></th>\n",
       "      <th></th>\n",
       "    </tr>\n",
       "  </thead>\n",
       "  <tbody>\n",
       "    <tr>\n",
       "      <th>24.141633</th>\n",
       "      <td>1.0</td>\n",
       "      <td>31.0</td>\n",
       "      <td>1.0</td>\n",
       "      <td>0.0</td>\n",
       "      <td>1.0</td>\n",
       "      <td>26712.386</td>\n",
       "    </tr>\n",
       "    <tr>\n",
       "      <th>24.240695</th>\n",
       "      <td>0.0</td>\n",
       "      <td>32.0</td>\n",
       "      <td>0.0</td>\n",
       "      <td>4.0</td>\n",
       "      <td>0.0</td>\n",
       "      <td>19858.460</td>\n",
       "    </tr>\n",
       "    <tr>\n",
       "      <th>30.195337</th>\n",
       "      <td>2.0</td>\n",
       "      <td>47.0</td>\n",
       "      <td>1.0</td>\n",
       "      <td>1.0</td>\n",
       "      <td>0.0</td>\n",
       "      <td>37033.790</td>\n",
       "    </tr>\n",
       "    <tr>\n",
       "      <th>33.520665</th>\n",
       "      <td>0.0</td>\n",
       "      <td>43.0</td>\n",
       "      <td>1.0</td>\n",
       "      <td>4.0</td>\n",
       "      <td>1.0</td>\n",
       "      <td>20568.944</td>\n",
       "    </tr>\n",
       "    <tr>\n",
       "      <th>34.701045</th>\n",
       "      <td>1.0</td>\n",
       "      <td>31.0</td>\n",
       "      <td>0.0</td>\n",
       "      <td>0.0</td>\n",
       "      <td>0.0</td>\n",
       "      <td>14489.279</td>\n",
       "    </tr>\n",
       "    <tr>\n",
       "      <th>...</th>\n",
       "      <td>...</td>\n",
       "      <td>...</td>\n",
       "      <td>...</td>\n",
       "      <td>...</td>\n",
       "      <td>...</td>\n",
       "      <td>...</td>\n",
       "    </tr>\n",
       "    <tr>\n",
       "      <th>16119.687737</th>\n",
       "      <td>0.0</td>\n",
       "      <td>64.0</td>\n",
       "      <td>1.0</td>\n",
       "      <td>0.0</td>\n",
       "      <td>0.0</td>\n",
       "      <td>14644.430</td>\n",
       "    </tr>\n",
       "    <tr>\n",
       "      <th>16264.699501</th>\n",
       "      <td>0.0</td>\n",
       "      <td>59.0</td>\n",
       "      <td>1.0</td>\n",
       "      <td>0.0</td>\n",
       "      <td>0.0</td>\n",
       "      <td>8198.235</td>\n",
       "    </tr>\n",
       "    <tr>\n",
       "      <th>16593.472817</th>\n",
       "      <td>0.0</td>\n",
       "      <td>60.0</td>\n",
       "      <td>0.0</td>\n",
       "      <td>0.0</td>\n",
       "      <td>0.0</td>\n",
       "      <td>19951.655</td>\n",
       "    </tr>\n",
       "    <tr>\n",
       "      <th>17615.563266</th>\n",
       "      <td>0.0</td>\n",
       "      <td>61.0</td>\n",
       "      <td>1.0</td>\n",
       "      <td>0.0</td>\n",
       "      <td>0.0</td>\n",
       "      <td>19609.719</td>\n",
       "    </tr>\n",
       "    <tr>\n",
       "      <th>18388.949901</th>\n",
       "      <td>1.0</td>\n",
       "      <td>61.0</td>\n",
       "      <td>1.0</td>\n",
       "      <td>0.0</td>\n",
       "      <td>0.0</td>\n",
       "      <td>29788.629</td>\n",
       "    </tr>\n",
       "  </tbody>\n",
       "</table>\n",
       "<p>15832 rows × 6 columns</p>\n",
       "</div>"
      ],
      "text/plain": [
       "               children  dob_years  education_id  family_status_id  debt  \\\n",
       "days_employed                                                              \n",
       "24.141633           1.0       31.0           1.0               0.0   1.0   \n",
       "24.240695           0.0       32.0           0.0               4.0   0.0   \n",
       "30.195337           2.0       47.0           1.0               1.0   0.0   \n",
       "33.520665           0.0       43.0           1.0               4.0   1.0   \n",
       "34.701045           1.0       31.0           0.0               0.0   0.0   \n",
       "...                 ...        ...           ...               ...   ...   \n",
       "16119.687737        0.0       64.0           1.0               0.0   0.0   \n",
       "16264.699501        0.0       59.0           1.0               0.0   0.0   \n",
       "16593.472817        0.0       60.0           0.0               0.0   0.0   \n",
       "17615.563266        0.0       61.0           1.0               0.0   0.0   \n",
       "18388.949901        1.0       61.0           1.0               0.0   0.0   \n",
       "\n",
       "               total_income  \n",
       "days_employed                \n",
       "24.141633         26712.386  \n",
       "24.240695         19858.460  \n",
       "30.195337         37033.790  \n",
       "33.520665         20568.944  \n",
       "34.701045         14489.279  \n",
       "...                     ...  \n",
       "16119.687737      14644.430  \n",
       "16264.699501       8198.235  \n",
       "16593.472817      19951.655  \n",
       "17615.563266      19609.719  \n",
       "18388.949901      29788.629  \n",
       "\n",
       "[15832 rows x 6 columns]"
      ]
     },
     "execution_count": 81,
     "metadata": {},
     "output_type": "execute_result"
    }
   ],
   "source": [
    "df_calculo_dias= df.groupby('days_employed').mean()\n",
    "df_calculo_dias"
   ]
  },
  {
   "cell_type": "code",
   "execution_count": 82,
   "metadata": {},
   "outputs": [
    {
     "data": {
      "text/plain": [
       "count    19259.000000\n",
       "mean      2224.912583\n",
       "std       2107.977120\n",
       "min         24.141633\n",
       "25%        926.823974\n",
       "50%       1630.019381\n",
       "75%       2748.436594\n",
       "max      18388.949901\n",
       "Name: days_employed, dtype: float64"
      ]
     },
     "execution_count": 82,
     "metadata": {},
     "output_type": "execute_result"
    }
   ],
   "source": [
    "df['days_employed'].describe()"
   ]
  },
  {
   "cell_type": "code",
   "execution_count": 83,
   "metadata": {},
   "outputs": [
    {
     "data": {
      "text/plain": [
       "days_employed\n",
       "24.141633       26712.386\n",
       "24.240695       19858.460\n",
       "30.195337       37033.790\n",
       "33.520665       20568.944\n",
       "34.701045       14489.279\n",
       "                  ...    \n",
       "16119.687737    14644.430\n",
       "16264.699501     8198.235\n",
       "16593.472817    19951.655\n",
       "17615.563266    19609.719\n",
       "18388.949901    29788.629\n",
       "Name: total_income, Length: 15832, dtype: float64"
      ]
     },
     "execution_count": 83,
     "metadata": {},
     "output_type": "execute_result"
    }
   ],
   "source": [
    "df_calculo_renda= df.groupby('days_employed')['total_income'].mean()\n",
    "df_calculo_renda"
   ]
  },
  {
   "cell_type": "markdown",
   "metadata": {},
   "source": [
    "     A princípio o melhor valor a se usar seria a mediana,  é a melhor opção pois ela nos da um valor mais justo ao preencher os valores nulos, ja que a distribuição dos dados se encontra próximo aos valores da média, em termos de representatividade .\n",
    "\n"
   ]
  },
  {
   "cell_type": "code",
   "execution_count": 84,
   "metadata": {},
   "outputs": [
    {
     "data": {
      "text/plain": [
       "32594.00011198837"
      ]
     },
     "execution_count": 84,
     "metadata": {},
     "output_type": "execute_result"
    }
   ],
   "source": [
    "purchase = df.groupby('days_employed')['total_income'].sum().mean()\n",
    "purchase"
   ]
  },
  {
   "cell_type": "code",
   "execution_count": 85,
   "metadata": {},
   "outputs": [],
   "source": [
    "def media_calc(df, groups_column, values_column):\n",
    "    return df.groupby(groups_column)[values_column].median( )"
   ]
  },
  {
   "cell_type": "code",
   "execution_count": 86,
   "metadata": {
    "scrolled": true
   },
   "outputs": [
    {
     "data": {
      "text/plain": [
       "income_type\n",
       "business                       1548.009883\n",
       "civil servant                  2673.404956\n",
       "employee                       1576.067689\n",
       "entrepreneur                    520.848083\n",
       "paternity / maternity leave    3296.759962\n",
       "retiree                        1630.019381\n",
       "student                         578.751554\n",
       "unemployed                     1630.019381\n",
       "Name: days_employed, dtype: float64"
      ]
     },
     "execution_count": 86,
     "metadata": {},
     "output_type": "execute_result"
    }
   ],
   "source": [
    "# Aplicar função ao income_type\n",
    "\n",
    "media_calc (df, 'income_type', 'days_employed')\n"
   ]
  },
  {
   "cell_type": "code",
   "execution_count": 87,
   "metadata": {},
   "outputs": [],
   "source": [
    "df['days_employed'].fillna(media_calc, inplace = True)\n"
   ]
  },
  {
   "cell_type": "code",
   "execution_count": 88,
   "metadata": {},
   "outputs": [
    {
     "data": {
      "text/plain": [
       "0"
      ]
     },
     "execution_count": 88,
     "metadata": {},
     "output_type": "execute_result"
    }
   ],
   "source": [
    "df['days_employed'].isna().sum()"
   ]
  },
  {
   "cell_type": "markdown",
   "metadata": {},
   "source": [
    "## Categorização de dados\n",
    "\n",
    "Para responder às perguntas e testar as hipóteses vamos trabalhar com dados categorizados. \n",
    "\n"
   ]
  },
  {
   "cell_type": "code",
   "execution_count": 89,
   "metadata": {},
   "outputs": [
    {
     "data": {
      "text/plain": [
       "array(['purchase of the house', 'car purchase', 'supplementary education',\n",
       "       'to have a wedding', 'housing transactions', 'education',\n",
       "       'having a wedding', 'purchase of the house for my family',\n",
       "       'buy real estate', 'buy commercial real estate',\n",
       "       'buy residential real estate', 'construction of own property',\n",
       "       'property', 'building a property', 'buying a second-hand car',\n",
       "       'buying my own car', 'transactions with commercial real estate',\n",
       "       'building a real estate', 'housing',\n",
       "       'transactions with my real estate', 'cars', 'to become educated',\n",
       "       'second-hand car purchase', 'getting an education', 'car',\n",
       "       'wedding ceremony', 'to get a supplementary education',\n",
       "       'purchase of my own house', 'real estate transactions',\n",
       "       'getting higher education', 'to own a car', 'purchase of a car',\n",
       "       'profile education', 'university education',\n",
       "       'buying property for renting out', 'to buy a car',\n",
       "       'housing renovation', 'going to university'], dtype=object)"
      ]
     },
     "execution_count": 89,
     "metadata": {},
     "output_type": "execute_result"
    }
   ],
   "source": [
    "# Verifique os valores exclusivos\n",
    "df['purpose'].unique()"
   ]
  },
  {
   "cell_type": "code",
   "execution_count": 90,
   "metadata": {},
   "outputs": [],
   "source": [
    "def categorize_purpose(row):\n",
    "    if 'car' in row['purpose']:\n",
    "        return 'car'\n",
    "    if 'hous' in row['purpose'] or 'prop' in row['purpose'] or 'real est' in row['purpose']:\n",
    "        return 'real estate'\n",
    "    if 'wedd' in row['purpose']:\n",
    "        return 'wedding'\n",
    "    if 'educ' in row['purpose'] or 'uni' in row['purpose']:\n",
    "        return 'education'"
   ]
  },
  {
   "cell_type": "code",
   "execution_count": 91,
   "metadata": {},
   "outputs": [],
   "source": [
    "df['purpose_category'] = df.apply(categorize_purpose,axis=1)"
   ]
  },
  {
   "cell_type": "markdown",
   "metadata": {},
   "source": [
    " *-Para fazer a categorização serão utilizados 4 classes de valores, que foram obtidos pelo método describe, e que represantam uma distribuição representativa da % de classes de income* ."
   ]
  },
  {
   "cell_type": "code",
   "execution_count": 92,
   "metadata": {
    "scrolled": false
   },
   "outputs": [
    {
     "data": {
      "text/plain": [
       "count     21352.000000\n",
       "mean      26457.353168\n",
       "std       15727.807234\n",
       "min        3306.762000\n",
       "25%       17223.821250\n",
       "50%       22815.103500\n",
       "75%       31325.403250\n",
       "max      362496.645000\n",
       "Name: total_income, dtype: float64"
      ]
     },
     "execution_count": 92,
     "metadata": {},
     "output_type": "execute_result"
    }
   ],
   "source": [
    "df['total_income'].describe()"
   ]
  },
  {
   "cell_type": "code",
   "execution_count": 93,
   "metadata": {},
   "outputs": [],
   "source": [
    "def income_level(income):\n",
    "       \n",
    "    if  income<=17000 :\n",
    "        return 'baixo'\n",
    "    if  income<=22000 :\n",
    "        return 'média'\n",
    "    if  income<=31000 :\n",
    "        return 'alto'\n",
    "    if  income>31000 :\n",
    "        return 'muito alto'\n",
    " "
   ]
  },
  {
   "cell_type": "code",
   "execution_count": 94,
   "metadata": {},
   "outputs": [],
   "source": [
    "# Criar coluna com categorias\n",
    "\n",
    "df['income_category'] = df['total_income'].apply(income_level)\n"
   ]
  },
  {
   "cell_type": "code",
   "execution_count": 95,
   "metadata": {},
   "outputs": [
    {
     "data": {
      "text/plain": [
       "alto          6726\n",
       "muito alto    5473\n",
       "baixo         5190\n",
       "média         3963\n",
       "Name: income_category, dtype: int64"
      ]
     },
     "execution_count": 95,
     "metadata": {},
     "output_type": "execute_result"
    }
   ],
   "source": [
    "df['income_category'].value_counts()"
   ]
  },
  {
   "cell_type": "markdown",
   "metadata": {},
   "source": [
    "## Verificar as Hipóteses\n"
   ]
  },
  {
   "cell_type": "markdown",
   "metadata": {},
   "source": [
    "**Existe uma correlação entre o nível de renda e do pagamento em dia?**"
   ]
  },
  {
   "cell_type": "code",
   "execution_count": 96,
   "metadata": {},
   "outputs": [],
   "source": [
    "pivot_table_income_level = df.pivot_table(index='income_category',columns= 'debt', values='days_employed', aggfunc='count')"
   ]
  },
  {
   "cell_type": "code",
   "execution_count": 97,
   "metadata": {},
   "outputs": [
    {
     "data": {
      "text/plain": [
       "0        muito alto\n",
       "1             média\n",
       "2              alto\n",
       "3        muito alto\n",
       "4              alto\n",
       "            ...    \n",
       "21347    muito alto\n",
       "21348          alto\n",
       "21349         baixo\n",
       "21350    muito alto\n",
       "21351         baixo\n",
       "Name: income_category, Length: 21352, dtype: object"
      ]
     },
     "execution_count": 97,
     "metadata": {},
     "output_type": "execute_result"
    }
   ],
   "source": [
    "df['income_category']"
   ]
  },
  {
   "cell_type": "code",
   "execution_count": 98,
   "metadata": {},
   "outputs": [
    {
     "data": {
      "text/plain": [
       "income_category\n",
       "alto          581\n",
       "baixo         408\n",
       "muito alto    395\n",
       "média         349\n",
       "Name: 1, dtype: int64"
      ]
     },
     "execution_count": 98,
     "metadata": {},
     "output_type": "execute_result"
    }
   ],
   "source": [
    "pivot_table_income_level[1]"
   ]
  },
  {
   "cell_type": "code",
   "execution_count": 99,
   "metadata": {},
   "outputs": [],
   "source": [
    "pivot_table_income_level['percent_1'] = pivot_table_income_level[1]/(pivot_table_income_level[1] + pivot_table_income_level[0]) * 100"
   ]
  },
  {
   "cell_type": "code",
   "execution_count": 100,
   "metadata": {
    "scrolled": false
   },
   "outputs": [
    {
     "data": {
      "text/html": [
       "<div>\n",
       "<style scoped>\n",
       "    .dataframe tbody tr th:only-of-type {\n",
       "        vertical-align: middle;\n",
       "    }\n",
       "\n",
       "    .dataframe tbody tr th {\n",
       "        vertical-align: top;\n",
       "    }\n",
       "\n",
       "    .dataframe thead th {\n",
       "        text-align: right;\n",
       "    }\n",
       "</style>\n",
       "<table border=\"1\" class=\"dataframe\">\n",
       "  <thead>\n",
       "    <tr style=\"text-align: right;\">\n",
       "      <th>debt</th>\n",
       "      <th>0</th>\n",
       "      <th>1</th>\n",
       "      <th>percent_1</th>\n",
       "    </tr>\n",
       "    <tr>\n",
       "      <th>income_category</th>\n",
       "      <th></th>\n",
       "      <th></th>\n",
       "      <th></th>\n",
       "    </tr>\n",
       "  </thead>\n",
       "  <tbody>\n",
       "    <tr>\n",
       "      <th>alto</th>\n",
       "      <td>6145</td>\n",
       "      <td>581</td>\n",
       "      <td>8.638121</td>\n",
       "    </tr>\n",
       "    <tr>\n",
       "      <th>baixo</th>\n",
       "      <td>4782</td>\n",
       "      <td>408</td>\n",
       "      <td>7.861272</td>\n",
       "    </tr>\n",
       "    <tr>\n",
       "      <th>muito alto</th>\n",
       "      <td>5078</td>\n",
       "      <td>395</td>\n",
       "      <td>7.217248</td>\n",
       "    </tr>\n",
       "    <tr>\n",
       "      <th>média</th>\n",
       "      <td>3614</td>\n",
       "      <td>349</td>\n",
       "      <td>8.806460</td>\n",
       "    </tr>\n",
       "  </tbody>\n",
       "</table>\n",
       "</div>"
      ],
      "text/plain": [
       "debt                0    1  percent_1\n",
       "income_category                      \n",
       "alto             6145  581   8.638121\n",
       "baixo            4782  408   7.861272\n",
       "muito alto       5078  395   7.217248\n",
       "média            3614  349   8.806460"
      ]
     },
     "execution_count": 100,
     "metadata": {},
     "output_type": "execute_result"
    }
   ],
   "source": [
    "pivot_table_income_level"
   ]
  },
  {
   "cell_type": "markdown",
   "metadata": {},
   "source": [
    "**Conclusão**\n",
    "\n"
   ]
  },
  {
   "cell_type": "markdown",
   "metadata": {},
   "source": [
    "    -As taxa de inadiplência são similares para os niveis de renda, sendo que os maiores são as da renda média e alta, então esta correlação não traz muita informação relevante para uma correlação direta de renda x inad.  "
   ]
  },
  {
   "cell_type": "markdown",
   "metadata": {},
   "source": [
    "**Existe uma correlação entre o status familiar e o pagamento em dia?**"
   ]
  },
  {
   "cell_type": "code",
   "execution_count": 101,
   "metadata": {},
   "outputs": [],
   "source": [
    "# Calcular a taxa de inadimplência com base no número de filhos\n"
   ]
  },
  {
   "cell_type": "code",
   "execution_count": 102,
   "metadata": {},
   "outputs": [],
   "source": [
    "pivot_table_child = df.pivot_table(index='children', columns= 'debt', values='days_employed', aggfunc='count')"
   ]
  },
  {
   "cell_type": "code",
   "execution_count": 103,
   "metadata": {},
   "outputs": [],
   "source": [
    "# Verifique os dados de status da família e do pagamento em dia\n"
   ]
  },
  {
   "cell_type": "code",
   "execution_count": 104,
   "metadata": {},
   "outputs": [],
   "source": [
    "pivot_table_child['percent_1'] = pivot_table_child[1]/(pivot_table_child[1]+ pivot_table_child[0]) * 100"
   ]
  },
  {
   "cell_type": "code",
   "execution_count": 105,
   "metadata": {
    "scrolled": true
   },
   "outputs": [
    {
     "data": {
      "text/html": [
       "<div>\n",
       "<style scoped>\n",
       "    .dataframe tbody tr th:only-of-type {\n",
       "        vertical-align: middle;\n",
       "    }\n",
       "\n",
       "    .dataframe tbody tr th {\n",
       "        vertical-align: top;\n",
       "    }\n",
       "\n",
       "    .dataframe thead th {\n",
       "        text-align: right;\n",
       "    }\n",
       "</style>\n",
       "<table border=\"1\" class=\"dataframe\">\n",
       "  <thead>\n",
       "    <tr style=\"text-align: right;\">\n",
       "      <th>debt</th>\n",
       "      <th>0</th>\n",
       "      <th>1</th>\n",
       "      <th>percent_1</th>\n",
       "    </tr>\n",
       "    <tr>\n",
       "      <th>children</th>\n",
       "      <th></th>\n",
       "      <th></th>\n",
       "      <th></th>\n",
       "    </tr>\n",
       "  </thead>\n",
       "  <tbody>\n",
       "    <tr>\n",
       "      <th>0</th>\n",
       "      <td>12963.0</td>\n",
       "      <td>1058.0</td>\n",
       "      <td>7.545824</td>\n",
       "    </tr>\n",
       "    <tr>\n",
       "      <th>1</th>\n",
       "      <td>4397.0</td>\n",
       "      <td>442.0</td>\n",
       "      <td>9.134119</td>\n",
       "    </tr>\n",
       "    <tr>\n",
       "      <th>2</th>\n",
       "      <td>1912.0</td>\n",
       "      <td>202.0</td>\n",
       "      <td>9.555345</td>\n",
       "    </tr>\n",
       "    <tr>\n",
       "      <th>3</th>\n",
       "      <td>301.0</td>\n",
       "      <td>27.0</td>\n",
       "      <td>8.231707</td>\n",
       "    </tr>\n",
       "    <tr>\n",
       "      <th>4</th>\n",
       "      <td>37.0</td>\n",
       "      <td>4.0</td>\n",
       "      <td>9.756098</td>\n",
       "    </tr>\n",
       "    <tr>\n",
       "      <th>5</th>\n",
       "      <td>9.0</td>\n",
       "      <td>NaN</td>\n",
       "      <td>NaN</td>\n",
       "    </tr>\n",
       "  </tbody>\n",
       "</table>\n",
       "</div>"
      ],
      "text/plain": [
       "debt            0       1  percent_1\n",
       "children                            \n",
       "0         12963.0  1058.0   7.545824\n",
       "1          4397.0   442.0   9.134119\n",
       "2          1912.0   202.0   9.555345\n",
       "3           301.0    27.0   8.231707\n",
       "4            37.0     4.0   9.756098\n",
       "5             9.0     NaN        NaN"
      ]
     },
     "execution_count": 105,
     "metadata": {},
     "output_type": "execute_result"
    }
   ],
   "source": [
    "pivot_table_child"
   ]
  },
  {
   "cell_type": "markdown",
   "metadata": {},
   "source": [
    "Esta correlação ficou interessante pois mostra que pessoas sem filhos tem inadinplência menor."
   ]
  },
  {
   "cell_type": "code",
   "execution_count": 106,
   "metadata": {},
   "outputs": [],
   "source": [
    "# Calcular a taxa padrão com base no status da família"
   ]
  },
  {
   "cell_type": "code",
   "execution_count": 107,
   "metadata": {},
   "outputs": [],
   "source": [
    "pivot_table_fami_stat = df.pivot_table(index='family_status', columns= 'debt', values='days_employed', aggfunc='count')\n"
   ]
  },
  {
   "cell_type": "code",
   "execution_count": 108,
   "metadata": {},
   "outputs": [],
   "source": [
    "pivot_table_fami_stat['percent_1'] = pivot_table_fami_stat[1]/(pivot_table_fami_stat[1] + pivot_table_fami_stat[0]) * 100"
   ]
  },
  {
   "cell_type": "code",
   "execution_count": 109,
   "metadata": {
    "scrolled": true
   },
   "outputs": [
    {
     "data": {
      "text/html": [
       "<div>\n",
       "<style scoped>\n",
       "    .dataframe tbody tr th:only-of-type {\n",
       "        vertical-align: middle;\n",
       "    }\n",
       "\n",
       "    .dataframe tbody tr th {\n",
       "        vertical-align: top;\n",
       "    }\n",
       "\n",
       "    .dataframe thead th {\n",
       "        text-align: right;\n",
       "    }\n",
       "</style>\n",
       "<table border=\"1\" class=\"dataframe\">\n",
       "  <thead>\n",
       "    <tr style=\"text-align: right;\">\n",
       "      <th>debt</th>\n",
       "      <th>0</th>\n",
       "      <th>1</th>\n",
       "      <th>percent_1</th>\n",
       "    </tr>\n",
       "    <tr>\n",
       "      <th>family_status</th>\n",
       "      <th></th>\n",
       "      <th></th>\n",
       "      <th></th>\n",
       "    </tr>\n",
       "  </thead>\n",
       "  <tbody>\n",
       "    <tr>\n",
       "      <th>civil partnership</th>\n",
       "      <td>3743</td>\n",
       "      <td>386</td>\n",
       "      <td>9.348511</td>\n",
       "    </tr>\n",
       "    <tr>\n",
       "      <th>divorced</th>\n",
       "      <td>1100</td>\n",
       "      <td>85</td>\n",
       "      <td>7.172996</td>\n",
       "    </tr>\n",
       "    <tr>\n",
       "      <th>married</th>\n",
       "      <td>11363</td>\n",
       "      <td>927</td>\n",
       "      <td>7.542718</td>\n",
       "    </tr>\n",
       "    <tr>\n",
       "      <th>unmarried</th>\n",
       "      <td>2521</td>\n",
       "      <td>273</td>\n",
       "      <td>9.770938</td>\n",
       "    </tr>\n",
       "    <tr>\n",
       "      <th>widow / widower</th>\n",
       "      <td>892</td>\n",
       "      <td>62</td>\n",
       "      <td>6.498952</td>\n",
       "    </tr>\n",
       "  </tbody>\n",
       "</table>\n",
       "</div>"
      ],
      "text/plain": [
       "debt                   0    1  percent_1\n",
       "family_status                           \n",
       "civil partnership   3743  386   9.348511\n",
       "divorced            1100   85   7.172996\n",
       "married            11363  927   7.542718\n",
       "unmarried           2521  273   9.770938\n",
       "widow / widower      892   62   6.498952"
      ]
     },
     "execution_count": 109,
     "metadata": {},
     "output_type": "execute_result"
    }
   ],
   "source": [
    "pivot_table_fami_stat"
   ]
  },
  {
   "cell_type": "markdown",
   "metadata": {},
   "source": [
    "**Conclusão**\n",
    "\n"
   ]
  },
  {
   "cell_type": "markdown",
   "metadata": {},
   "source": [
    "    A correlação na tabela `child` ficou interessante pois mostra que pessoas sem filhos tem inadinplência menor.  \n",
    "    Esta correlação também trouxe informações interessantes, podemos ver que pessoas solteiras ou em união estável tem taxas maiores. \n",
    "    Outro dado interessante é que as viúvas tem as menores taxas. "
   ]
  },
  {
   "cell_type": "markdown",
   "metadata": {},
   "source": [
    "**Existe uma correlação entre o status familiar e o pagamento em dia?**"
   ]
  },
  {
   "cell_type": "markdown",
   "metadata": {},
   "source": [
    "**Como a finalidade do crédito afeta a taxa de inadimplência?**"
   ]
  },
  {
   "cell_type": "code",
   "execution_count": 110,
   "metadata": {},
   "outputs": [],
   "source": [
    "pivot_table_purpose = df.pivot_table(index='purpose_category', columns= 'debt', values='days_employed', aggfunc='count')\n"
   ]
  },
  {
   "cell_type": "code",
   "execution_count": 111,
   "metadata": {},
   "outputs": [],
   "source": [
    "pivot_table_purpose['percent_1'] = pivot_table_purpose[1]/(pivot_table_purpose[1] + pivot_table_purpose[0]) * 100"
   ]
  },
  {
   "cell_type": "code",
   "execution_count": 112,
   "metadata": {
    "scrolled": true
   },
   "outputs": [
    {
     "data": {
      "text/html": [
       "<div>\n",
       "<style scoped>\n",
       "    .dataframe tbody tr th:only-of-type {\n",
       "        vertical-align: middle;\n",
       "    }\n",
       "\n",
       "    .dataframe tbody tr th {\n",
       "        vertical-align: top;\n",
       "    }\n",
       "\n",
       "    .dataframe thead th {\n",
       "        text-align: right;\n",
       "    }\n",
       "</style>\n",
       "<table border=\"1\" class=\"dataframe\">\n",
       "  <thead>\n",
       "    <tr style=\"text-align: right;\">\n",
       "      <th>debt</th>\n",
       "      <th>0</th>\n",
       "      <th>1</th>\n",
       "      <th>percent_1</th>\n",
       "    </tr>\n",
       "    <tr>\n",
       "      <th>purpose_category</th>\n",
       "      <th></th>\n",
       "      <th></th>\n",
       "      <th></th>\n",
       "    </tr>\n",
       "  </thead>\n",
       "  <tbody>\n",
       "    <tr>\n",
       "      <th>car</th>\n",
       "      <td>3884</td>\n",
       "      <td>400</td>\n",
       "      <td>9.337068</td>\n",
       "    </tr>\n",
       "    <tr>\n",
       "      <th>education</th>\n",
       "      <td>3625</td>\n",
       "      <td>370</td>\n",
       "      <td>9.261577</td>\n",
       "    </tr>\n",
       "    <tr>\n",
       "      <th>real estate</th>\n",
       "      <td>9984</td>\n",
       "      <td>779</td>\n",
       "      <td>7.237759</td>\n",
       "    </tr>\n",
       "    <tr>\n",
       "      <th>wedding</th>\n",
       "      <td>2126</td>\n",
       "      <td>184</td>\n",
       "      <td>7.965368</td>\n",
       "    </tr>\n",
       "  </tbody>\n",
       "</table>\n",
       "</div>"
      ],
      "text/plain": [
       "debt                 0    1  percent_1\n",
       "purpose_category                      \n",
       "car               3884  400   9.337068\n",
       "education         3625  370   9.261577\n",
       "real estate       9984  779   7.237759\n",
       "wedding           2126  184   7.965368"
      ]
     },
     "execution_count": 112,
     "metadata": {},
     "output_type": "execute_result"
    }
   ],
   "source": [
    "pivot_table_purpose "
   ]
  },
  {
   "cell_type": "markdown",
   "metadata": {},
   "source": [
    "**Conclusão**\n",
    "\n"
   ]
  },
  {
   "cell_type": "markdown",
   "metadata": {},
   "source": [
    "    De princípio podemos notar que usos associados à imóveis possuem menor inadimplência.\n",
    "    Automóveis e educação possuem maiores taxas. "
   ]
  },
  {
   "cell_type": "markdown",
   "metadata": {},
   "source": [
    "    Entre os 4 parâmetros analissados, praticamente todos apresentaram correlaçoes que trazem informações valiosas sobre a inadimplência dos participantes. Com exceção do parâmetro 'income' que não forneceu correlações muito expressivas, ja que as pessoas de renda Alta e média possuem a maiores taxas, o que precisaria ser investigado com mais atenção, ja que não é a hipótese mais intuitiva em um primeiro olhar.  "
   ]
  }
 ],
 "metadata": {
  "ExecuteTimeLog": [
   {
    "duration": 2741,
    "start_time": "2021-10-21T01:08:49.480Z"
   },
   {
    "duration": 52,
    "start_time": "2021-10-21T01:08:53.315Z"
   },
   {
    "duration": 49,
    "start_time": "2021-10-21T01:08:57.432Z"
   },
   {
    "duration": 70,
    "start_time": "2021-10-21T01:09:07.706Z"
   },
   {
    "duration": 463,
    "start_time": "2022-04-10T01:18:46.070Z"
   },
   {
    "duration": 14,
    "start_time": "2022-04-10T01:19:11.473Z"
   },
   {
    "duration": 204,
    "start_time": "2022-04-10T01:19:27.539Z"
   },
   {
    "duration": 13,
    "start_time": "2022-04-10T01:19:48.991Z"
   },
   {
    "duration": 52,
    "start_time": "2022-04-10T01:23:31.695Z"
   },
   {
    "duration": 50,
    "start_time": "2022-04-10T01:23:38.484Z"
   },
   {
    "duration": 54,
    "start_time": "2022-04-10T01:23:57.927Z"
   },
   {
    "duration": 60,
    "start_time": "2022-04-10T01:24:53.015Z"
   },
   {
    "duration": 16,
    "start_time": "2022-04-10T01:25:36.147Z"
   },
   {
    "duration": 7,
    "start_time": "2022-04-10T01:26:14.701Z"
   },
   {
    "duration": 3,
    "start_time": "2022-04-10T01:26:41.966Z"
   },
   {
    "duration": 8,
    "start_time": "2022-04-10T01:31:11.423Z"
   },
   {
    "duration": 16,
    "start_time": "2022-04-10T01:33:41.057Z"
   },
   {
    "duration": 64,
    "start_time": "2022-04-14T02:13:29.243Z"
   },
   {
    "duration": 8,
    "start_time": "2022-04-14T02:13:48.675Z"
   },
   {
    "duration": 8,
    "start_time": "2022-04-14T02:14:32.412Z"
   },
   {
    "duration": 7,
    "start_time": "2022-04-14T02:14:51.664Z"
   },
   {
    "duration": 9,
    "start_time": "2022-04-14T02:15:01.389Z"
   },
   {
    "duration": 8,
    "start_time": "2022-04-14T02:15:14.298Z"
   },
   {
    "duration": 529,
    "start_time": "2022-04-14T02:18:30.227Z"
   },
   {
    "duration": 452,
    "start_time": "2022-04-21T22:43:03.854Z"
   },
   {
    "duration": 2,
    "start_time": "2022-04-21T22:43:55.912Z"
   },
   {
    "duration": 41,
    "start_time": "2022-04-21T22:43:59.816Z"
   },
   {
    "duration": 11,
    "start_time": "2022-04-21T22:44:41.328Z"
   },
   {
    "duration": 8,
    "start_time": "2022-04-21T22:44:46.892Z"
   },
   {
    "duration": 3,
    "start_time": "2022-04-21T22:56:58.591Z"
   },
   {
    "duration": 24,
    "start_time": "2022-04-21T23:14:56.332Z"
   },
   {
    "duration": 51,
    "start_time": "2022-04-21T23:15:00.673Z"
   },
   {
    "duration": 80,
    "start_time": "2022-04-22T14:18:53.316Z"
   },
   {
    "duration": 8,
    "start_time": "2022-04-22T14:18:56.969Z"
   },
   {
    "duration": 481,
    "start_time": "2022-04-22T14:18:59.690Z"
   },
   {
    "duration": 67,
    "start_time": "2022-04-22T14:19:00.195Z"
   },
   {
    "duration": 3,
    "start_time": "2022-04-22T14:19:56.768Z"
   },
   {
    "duration": 50,
    "start_time": "2022-04-22T14:19:57.180Z"
   },
   {
    "duration": 16,
    "start_time": "2022-04-22T14:19:57.516Z"
   },
   {
    "duration": 7,
    "start_time": "2022-04-22T14:19:57.879Z"
   },
   {
    "duration": 12,
    "start_time": "2022-04-22T14:29:09.233Z"
   },
   {
    "duration": 10,
    "start_time": "2022-04-22T14:31:06.203Z"
   },
   {
    "duration": 30,
    "start_time": "2022-04-22T14:49:00.118Z"
   },
   {
    "duration": 32,
    "start_time": "2022-04-22T14:49:03.312Z"
   },
   {
    "duration": 40,
    "start_time": "2022-04-22T14:50:00.723Z"
   },
   {
    "duration": 5,
    "start_time": "2022-04-22T14:50:18.418Z"
   },
   {
    "duration": 4,
    "start_time": "2022-04-22T14:50:24.312Z"
   },
   {
    "duration": 13,
    "start_time": "2022-04-22T14:50:39.635Z"
   },
   {
    "duration": 20,
    "start_time": "2022-04-22T14:52:37.242Z"
   },
   {
    "duration": 47,
    "start_time": "2022-04-22T14:55:37.832Z"
   },
   {
    "duration": 8,
    "start_time": "2022-04-22T14:56:03.159Z"
   },
   {
    "duration": 169,
    "start_time": "2022-04-22T14:56:09.606Z"
   },
   {
    "duration": 8,
    "start_time": "2022-04-22T14:56:22.248Z"
   },
   {
    "duration": 8,
    "start_time": "2022-04-22T14:56:28.591Z"
   },
   {
    "duration": 9,
    "start_time": "2022-04-22T14:59:27.322Z"
   },
   {
    "duration": 8,
    "start_time": "2022-04-22T14:59:35.891Z"
   },
   {
    "duration": 7,
    "start_time": "2022-04-22T14:59:52.477Z"
   },
   {
    "duration": 8,
    "start_time": "2022-04-22T15:00:57.770Z"
   },
   {
    "duration": 7,
    "start_time": "2022-04-22T15:01:13.779Z"
   },
   {
    "duration": 11,
    "start_time": "2022-04-22T15:01:38.338Z"
   },
   {
    "duration": 12,
    "start_time": "2022-04-22T15:03:42.147Z"
   },
   {
    "duration": 7,
    "start_time": "2022-04-22T15:03:56.140Z"
   },
   {
    "duration": 9,
    "start_time": "2022-04-22T15:03:59.538Z"
   },
   {
    "duration": 12,
    "start_time": "2022-04-22T15:06:46.488Z"
   },
   {
    "duration": 41,
    "start_time": "2022-04-22T15:07:09.429Z"
   },
   {
    "duration": 7,
    "start_time": "2022-04-22T15:07:28.906Z"
   },
   {
    "duration": 8,
    "start_time": "2022-04-22T15:10:25.450Z"
   },
   {
    "duration": 12,
    "start_time": "2022-04-22T15:13:41.153Z"
   },
   {
    "duration": 8,
    "start_time": "2022-04-22T15:13:57.310Z"
   },
   {
    "duration": 0,
    "start_time": "2022-04-22T15:40:13.712Z"
   },
   {
    "duration": 11,
    "start_time": "2022-04-22T15:40:18.094Z"
   },
   {
    "duration": 7522,
    "start_time": "2022-04-22T15:40:19.026Z"
   },
   {
    "duration": 506,
    "start_time": "2022-04-22T15:40:43.389Z"
   },
   {
    "duration": 8,
    "start_time": "2022-04-22T15:40:48.403Z"
   },
   {
    "duration": 3365,
    "start_time": "2022-04-22T15:42:35.083Z"
   },
   {
    "duration": 2694,
    "start_time": "2022-04-22T15:42:46.475Z"
   },
   {
    "duration": 7,
    "start_time": "2022-04-22T15:43:06.689Z"
   },
   {
    "duration": 9,
    "start_time": "2022-04-22T15:44:03.994Z"
   },
   {
    "duration": 276,
    "start_time": "2022-04-22T15:44:31.641Z"
   },
   {
    "duration": 16,
    "start_time": "2022-04-22T15:44:35.642Z"
   },
   {
    "duration": 8,
    "start_time": "2022-04-22T15:45:12.568Z"
   },
   {
    "duration": 24,
    "start_time": "2022-04-22T15:45:19.864Z"
   },
   {
    "duration": 9,
    "start_time": "2022-04-22T15:45:33.377Z"
   },
   {
    "duration": 8,
    "start_time": "2022-04-22T16:30:53.371Z"
   },
   {
    "duration": 13,
    "start_time": "2022-04-22T16:32:56.376Z"
   },
   {
    "duration": 25,
    "start_time": "2022-04-22T16:33:03.091Z"
   },
   {
    "duration": 25,
    "start_time": "2022-04-22T16:35:09.899Z"
   },
   {
    "duration": 12,
    "start_time": "2022-04-22T16:36:17.926Z"
   },
   {
    "duration": 4,
    "start_time": "2022-04-22T16:55:28.411Z"
   },
   {
    "duration": 6,
    "start_time": "2022-04-22T16:58:29.960Z"
   },
   {
    "duration": 22,
    "start_time": "2022-04-22T16:59:52.328Z"
   },
   {
    "duration": 8,
    "start_time": "2022-04-22T17:00:19.169Z"
   },
   {
    "duration": 8,
    "start_time": "2022-04-22T17:00:24.889Z"
   },
   {
    "duration": 8,
    "start_time": "2022-04-22T17:02:34.217Z"
   },
   {
    "duration": 32,
    "start_time": "2022-04-22T17:03:38.855Z"
   },
   {
    "duration": 8,
    "start_time": "2022-04-22T17:38:03.718Z"
   },
   {
    "duration": 370,
    "start_time": "2022-04-23T00:04:28.774Z"
   },
   {
    "duration": 46,
    "start_time": "2022-04-23T00:04:29.146Z"
   },
   {
    "duration": 8,
    "start_time": "2022-04-23T00:04:29.346Z"
   },
   {
    "duration": 2,
    "start_time": "2022-04-23T00:04:34.253Z"
   },
   {
    "duration": 56,
    "start_time": "2022-04-23T00:04:34.257Z"
   },
   {
    "duration": 6,
    "start_time": "2022-04-23T00:04:34.315Z"
   },
   {
    "duration": 18,
    "start_time": "2022-04-23T00:04:34.323Z"
   },
   {
    "duration": 18,
    "start_time": "2022-04-23T00:04:34.342Z"
   },
   {
    "duration": 29,
    "start_time": "2022-04-23T00:04:34.361Z"
   },
   {
    "duration": 39,
    "start_time": "2022-04-23T00:04:34.391Z"
   },
   {
    "duration": 144,
    "start_time": "2022-04-23T00:04:34.431Z"
   },
   {
    "duration": 0,
    "start_time": "2022-04-23T00:04:34.579Z"
   },
   {
    "duration": 0,
    "start_time": "2022-04-23T00:04:34.580Z"
   },
   {
    "duration": 0,
    "start_time": "2022-04-23T00:04:34.580Z"
   },
   {
    "duration": 0,
    "start_time": "2022-04-23T00:04:34.581Z"
   },
   {
    "duration": 0,
    "start_time": "2022-04-23T00:04:34.582Z"
   },
   {
    "duration": 0,
    "start_time": "2022-04-23T00:04:34.583Z"
   },
   {
    "duration": 0,
    "start_time": "2022-04-23T00:04:34.584Z"
   },
   {
    "duration": 0,
    "start_time": "2022-04-23T00:04:34.584Z"
   },
   {
    "duration": 0,
    "start_time": "2022-04-23T00:04:34.585Z"
   },
   {
    "duration": 0,
    "start_time": "2022-04-23T00:04:34.586Z"
   },
   {
    "duration": 0,
    "start_time": "2022-04-23T00:04:34.587Z"
   },
   {
    "duration": 0,
    "start_time": "2022-04-23T00:04:34.587Z"
   },
   {
    "duration": 0,
    "start_time": "2022-04-23T00:04:34.588Z"
   },
   {
    "duration": 0,
    "start_time": "2022-04-23T00:04:34.590Z"
   },
   {
    "duration": 0,
    "start_time": "2022-04-23T00:04:34.591Z"
   },
   {
    "duration": 0,
    "start_time": "2022-04-23T00:04:34.592Z"
   },
   {
    "duration": 0,
    "start_time": "2022-04-23T00:04:34.593Z"
   },
   {
    "duration": 0,
    "start_time": "2022-04-23T00:04:34.594Z"
   },
   {
    "duration": 0,
    "start_time": "2022-04-23T00:04:34.595Z"
   },
   {
    "duration": 0,
    "start_time": "2022-04-23T00:04:34.596Z"
   },
   {
    "duration": 0,
    "start_time": "2022-04-23T00:04:34.597Z"
   },
   {
    "duration": 0,
    "start_time": "2022-04-23T00:04:34.598Z"
   },
   {
    "duration": 0,
    "start_time": "2022-04-23T00:04:34.599Z"
   },
   {
    "duration": 0,
    "start_time": "2022-04-23T00:04:34.600Z"
   },
   {
    "duration": 0,
    "start_time": "2022-04-23T00:04:34.601Z"
   },
   {
    "duration": 0,
    "start_time": "2022-04-23T00:04:34.602Z"
   },
   {
    "duration": 0,
    "start_time": "2022-04-23T00:04:34.602Z"
   },
   {
    "duration": 0,
    "start_time": "2022-04-23T00:04:34.603Z"
   },
   {
    "duration": 0,
    "start_time": "2022-04-23T00:04:34.604Z"
   },
   {
    "duration": 0,
    "start_time": "2022-04-23T00:04:34.605Z"
   },
   {
    "duration": 0,
    "start_time": "2022-04-23T00:04:34.606Z"
   },
   {
    "duration": 0,
    "start_time": "2022-04-23T00:04:34.607Z"
   },
   {
    "duration": 0,
    "start_time": "2022-04-23T00:04:34.608Z"
   },
   {
    "duration": 0,
    "start_time": "2022-04-23T00:04:34.609Z"
   },
   {
    "duration": 0,
    "start_time": "2022-04-23T00:04:34.610Z"
   },
   {
    "duration": 0,
    "start_time": "2022-04-23T00:04:34.611Z"
   },
   {
    "duration": 0,
    "start_time": "2022-04-23T00:04:34.611Z"
   },
   {
    "duration": 0,
    "start_time": "2022-04-23T00:04:34.612Z"
   },
   {
    "duration": 0,
    "start_time": "2022-04-23T00:04:34.613Z"
   },
   {
    "duration": 0,
    "start_time": "2022-04-23T00:04:34.614Z"
   },
   {
    "duration": 0,
    "start_time": "2022-04-23T00:04:34.655Z"
   },
   {
    "duration": 0,
    "start_time": "2022-04-23T00:04:34.655Z"
   },
   {
    "duration": 0,
    "start_time": "2022-04-23T00:04:34.657Z"
   },
   {
    "duration": 0,
    "start_time": "2022-04-23T00:04:34.657Z"
   },
   {
    "duration": 0,
    "start_time": "2022-04-23T00:04:34.658Z"
   },
   {
    "duration": 0,
    "start_time": "2022-04-23T00:04:34.659Z"
   },
   {
    "duration": 0,
    "start_time": "2022-04-23T00:04:34.660Z"
   },
   {
    "duration": 0,
    "start_time": "2022-04-23T00:04:34.661Z"
   },
   {
    "duration": 0,
    "start_time": "2022-04-23T00:04:34.662Z"
   },
   {
    "duration": 0,
    "start_time": "2022-04-23T00:04:34.663Z"
   },
   {
    "duration": 0,
    "start_time": "2022-04-23T00:04:34.663Z"
   },
   {
    "duration": 0,
    "start_time": "2022-04-23T00:04:34.664Z"
   },
   {
    "duration": 0,
    "start_time": "2022-04-23T00:04:34.665Z"
   },
   {
    "duration": 0,
    "start_time": "2022-04-23T00:04:34.666Z"
   },
   {
    "duration": 0,
    "start_time": "2022-04-23T00:04:34.667Z"
   },
   {
    "duration": 8,
    "start_time": "2022-04-23T00:04:34.671Z"
   },
   {
    "duration": 21,
    "start_time": "2022-04-23T00:04:34.681Z"
   },
   {
    "duration": 53,
    "start_time": "2022-04-23T00:04:34.703Z"
   },
   {
    "duration": 27,
    "start_time": "2022-04-23T00:04:34.758Z"
   },
   {
    "duration": 21,
    "start_time": "2022-04-23T00:04:34.787Z"
   },
   {
    "duration": 18,
    "start_time": "2022-04-23T00:04:34.809Z"
   },
   {
    "duration": 19,
    "start_time": "2022-04-23T00:04:34.830Z"
   },
   {
    "duration": 23,
    "start_time": "2022-04-23T00:04:34.851Z"
   },
   {
    "duration": 18,
    "start_time": "2022-04-23T00:04:34.875Z"
   },
   {
    "duration": 27,
    "start_time": "2022-04-23T00:04:34.895Z"
   },
   {
    "duration": 21,
    "start_time": "2022-04-23T00:04:34.924Z"
   },
   {
    "duration": 23,
    "start_time": "2022-04-23T00:04:34.947Z"
   },
   {
    "duration": 26,
    "start_time": "2022-04-23T00:04:34.972Z"
   },
   {
    "duration": 17,
    "start_time": "2022-04-23T00:04:35.000Z"
   },
   {
    "duration": 21,
    "start_time": "2022-04-23T00:04:35.019Z"
   },
   {
    "duration": 19,
    "start_time": "2022-04-23T00:04:35.042Z"
   },
   {
    "duration": 21,
    "start_time": "2022-04-23T00:04:35.063Z"
   },
   {
    "duration": 19,
    "start_time": "2022-04-23T00:04:35.085Z"
   },
   {
    "duration": 20,
    "start_time": "2022-04-23T00:04:52.806Z"
   },
   {
    "duration": 61,
    "start_time": "2022-04-23T00:06:03.746Z"
   },
   {
    "duration": 7,
    "start_time": "2022-04-23T00:06:28.447Z"
   },
   {
    "duration": 405,
    "start_time": "2022-04-23T00:06:48.461Z"
   },
   {
    "duration": 41,
    "start_time": "2022-04-23T00:06:48.868Z"
   },
   {
    "duration": 8,
    "start_time": "2022-04-23T00:06:48.910Z"
   },
   {
    "duration": 29,
    "start_time": "2022-04-23T00:06:48.920Z"
   },
   {
    "duration": 21,
    "start_time": "2022-04-23T00:06:48.950Z"
   },
   {
    "duration": 23,
    "start_time": "2022-04-23T00:06:48.973Z"
   },
   {
    "duration": 36,
    "start_time": "2022-04-23T00:06:48.998Z"
   },
   {
    "duration": 2,
    "start_time": "2022-04-23T00:06:49.035Z"
   },
   {
    "duration": 14,
    "start_time": "2022-04-23T00:06:49.039Z"
   },
   {
    "duration": 19,
    "start_time": "2022-04-23T00:06:49.056Z"
   },
   {
    "duration": 58,
    "start_time": "2022-04-23T00:06:49.077Z"
   },
   {
    "duration": 0,
    "start_time": "2022-04-23T00:06:49.138Z"
   },
   {
    "duration": 0,
    "start_time": "2022-04-23T00:06:49.138Z"
   },
   {
    "duration": 0,
    "start_time": "2022-04-23T00:06:49.154Z"
   },
   {
    "duration": 0,
    "start_time": "2022-04-23T00:06:49.155Z"
   },
   {
    "duration": 0,
    "start_time": "2022-04-23T00:06:49.156Z"
   },
   {
    "duration": 0,
    "start_time": "2022-04-23T00:06:49.157Z"
   },
   {
    "duration": 0,
    "start_time": "2022-04-23T00:06:49.158Z"
   },
   {
    "duration": 0,
    "start_time": "2022-04-23T00:06:49.159Z"
   },
   {
    "duration": 0,
    "start_time": "2022-04-23T00:06:49.160Z"
   },
   {
    "duration": 0,
    "start_time": "2022-04-23T00:06:49.161Z"
   },
   {
    "duration": 0,
    "start_time": "2022-04-23T00:06:49.162Z"
   },
   {
    "duration": 0,
    "start_time": "2022-04-23T00:06:49.162Z"
   },
   {
    "duration": 0,
    "start_time": "2022-04-23T00:06:49.163Z"
   },
   {
    "duration": 0,
    "start_time": "2022-04-23T00:06:49.164Z"
   },
   {
    "duration": 0,
    "start_time": "2022-04-23T00:06:49.165Z"
   },
   {
    "duration": 0,
    "start_time": "2022-04-23T00:06:49.166Z"
   },
   {
    "duration": 0,
    "start_time": "2022-04-23T00:06:49.167Z"
   },
   {
    "duration": 0,
    "start_time": "2022-04-23T00:06:49.168Z"
   },
   {
    "duration": 0,
    "start_time": "2022-04-23T00:06:49.168Z"
   },
   {
    "duration": 0,
    "start_time": "2022-04-23T00:06:49.169Z"
   },
   {
    "duration": 0,
    "start_time": "2022-04-23T00:06:49.170Z"
   },
   {
    "duration": 0,
    "start_time": "2022-04-23T00:06:49.171Z"
   },
   {
    "duration": 0,
    "start_time": "2022-04-23T00:06:49.172Z"
   },
   {
    "duration": 0,
    "start_time": "2022-04-23T00:06:49.173Z"
   },
   {
    "duration": 0,
    "start_time": "2022-04-23T00:06:49.173Z"
   },
   {
    "duration": 0,
    "start_time": "2022-04-23T00:06:49.174Z"
   },
   {
    "duration": 0,
    "start_time": "2022-04-23T00:06:49.175Z"
   },
   {
    "duration": 0,
    "start_time": "2022-04-23T00:06:49.176Z"
   },
   {
    "duration": 0,
    "start_time": "2022-04-23T00:06:49.176Z"
   },
   {
    "duration": 0,
    "start_time": "2022-04-23T00:06:49.177Z"
   },
   {
    "duration": 0,
    "start_time": "2022-04-23T00:06:49.178Z"
   },
   {
    "duration": 0,
    "start_time": "2022-04-23T00:06:49.179Z"
   },
   {
    "duration": 0,
    "start_time": "2022-04-23T00:06:49.180Z"
   },
   {
    "duration": 0,
    "start_time": "2022-04-23T00:06:49.180Z"
   },
   {
    "duration": 0,
    "start_time": "2022-04-23T00:06:49.181Z"
   },
   {
    "duration": 0,
    "start_time": "2022-04-23T00:06:49.182Z"
   },
   {
    "duration": 0,
    "start_time": "2022-04-23T00:06:49.183Z"
   },
   {
    "duration": 0,
    "start_time": "2022-04-23T00:06:49.184Z"
   },
   {
    "duration": 0,
    "start_time": "2022-04-23T00:06:49.184Z"
   },
   {
    "duration": 0,
    "start_time": "2022-04-23T00:06:49.185Z"
   },
   {
    "duration": 0,
    "start_time": "2022-04-23T00:06:49.186Z"
   },
   {
    "duration": 0,
    "start_time": "2022-04-23T00:06:49.187Z"
   },
   {
    "duration": 0,
    "start_time": "2022-04-23T00:06:49.188Z"
   },
   {
    "duration": 0,
    "start_time": "2022-04-23T00:06:49.189Z"
   },
   {
    "duration": 1,
    "start_time": "2022-04-23T00:06:49.189Z"
   },
   {
    "duration": 0,
    "start_time": "2022-04-23T00:06:49.190Z"
   },
   {
    "duration": 0,
    "start_time": "2022-04-23T00:06:49.191Z"
   },
   {
    "duration": 0,
    "start_time": "2022-04-23T00:06:49.192Z"
   },
   {
    "duration": 0,
    "start_time": "2022-04-23T00:06:49.193Z"
   },
   {
    "duration": 0,
    "start_time": "2022-04-23T00:06:49.254Z"
   },
   {
    "duration": 0,
    "start_time": "2022-04-23T00:06:49.255Z"
   },
   {
    "duration": 0,
    "start_time": "2022-04-23T00:06:49.256Z"
   },
   {
    "duration": 0,
    "start_time": "2022-04-23T00:06:49.257Z"
   },
   {
    "duration": 0,
    "start_time": "2022-04-23T00:06:49.258Z"
   },
   {
    "duration": 0,
    "start_time": "2022-04-23T00:06:49.258Z"
   },
   {
    "duration": 0,
    "start_time": "2022-04-23T00:06:49.259Z"
   },
   {
    "duration": 0,
    "start_time": "2022-04-23T00:06:49.261Z"
   },
   {
    "duration": 0,
    "start_time": "2022-04-23T00:06:49.261Z"
   },
   {
    "duration": 0,
    "start_time": "2022-04-23T00:06:49.262Z"
   },
   {
    "duration": 0,
    "start_time": "2022-04-23T00:06:49.263Z"
   },
   {
    "duration": 0,
    "start_time": "2022-04-23T00:06:49.264Z"
   },
   {
    "duration": 0,
    "start_time": "2022-04-23T00:06:49.264Z"
   },
   {
    "duration": 0,
    "start_time": "2022-04-23T00:06:49.265Z"
   },
   {
    "duration": 0,
    "start_time": "2022-04-23T00:06:49.266Z"
   },
   {
    "duration": 0,
    "start_time": "2022-04-23T00:06:49.267Z"
   },
   {
    "duration": 0,
    "start_time": "2022-04-23T00:06:49.268Z"
   },
   {
    "duration": 1,
    "start_time": "2022-04-23T00:06:49.268Z"
   },
   {
    "duration": 0,
    "start_time": "2022-04-23T00:06:49.269Z"
   },
   {
    "duration": 0,
    "start_time": "2022-04-23T00:06:49.270Z"
   },
   {
    "duration": 0,
    "start_time": "2022-04-23T00:06:49.271Z"
   },
   {
    "duration": 7,
    "start_time": "2022-04-23T00:07:02.624Z"
   },
   {
    "duration": 2425,
    "start_time": "2022-04-23T00:08:53.926Z"
   },
   {
    "duration": 8,
    "start_time": "2022-04-23T00:09:04.163Z"
   },
   {
    "duration": 8,
    "start_time": "2022-04-23T00:09:04.979Z"
   },
   {
    "duration": 3,
    "start_time": "2022-04-23T00:12:19.689Z"
   },
   {
    "duration": 40,
    "start_time": "2022-04-23T00:12:21.003Z"
   },
   {
    "duration": 8,
    "start_time": "2022-04-23T00:12:21.466Z"
   },
   {
    "duration": 3,
    "start_time": "2022-04-23T00:12:23.051Z"
   },
   {
    "duration": 7,
    "start_time": "2022-04-23T00:12:23.376Z"
   },
   {
    "duration": 14,
    "start_time": "2022-04-23T00:12:23.537Z"
   },
   {
    "duration": 27,
    "start_time": "2022-04-23T00:12:23.689Z"
   },
   {
    "duration": 2,
    "start_time": "2022-04-23T00:12:24.158Z"
   },
   {
    "duration": 11,
    "start_time": "2022-04-23T00:12:24.315Z"
   },
   {
    "duration": 19,
    "start_time": "2022-04-23T00:12:24.466Z"
   },
   {
    "duration": 7,
    "start_time": "2022-04-23T00:12:24.633Z"
   },
   {
    "duration": 7,
    "start_time": "2022-04-23T00:12:24.796Z"
   },
   {
    "duration": 6,
    "start_time": "2022-04-23T00:12:24.967Z"
   },
   {
    "duration": 2294,
    "start_time": "2022-04-23T00:12:25.133Z"
   },
   {
    "duration": 0,
    "start_time": "2022-04-23T00:12:27.429Z"
   },
   {
    "duration": 0,
    "start_time": "2022-04-23T00:12:27.430Z"
   },
   {
    "duration": 0,
    "start_time": "2022-04-23T00:12:27.431Z"
   },
   {
    "duration": 0,
    "start_time": "2022-04-23T00:12:27.432Z"
   },
   {
    "duration": 2310,
    "start_time": "2022-04-23T00:12:31.331Z"
   },
   {
    "duration": 6,
    "start_time": "2022-04-23T00:12:36.586Z"
   },
   {
    "duration": 7,
    "start_time": "2022-04-23T00:12:39.250Z"
   },
   {
    "duration": 150,
    "start_time": "2022-04-23T00:18:25.804Z"
   },
   {
    "duration": 21,
    "start_time": "2022-04-23T00:18:42.829Z"
   },
   {
    "duration": 7,
    "start_time": "2022-04-23T00:18:45.947Z"
   },
   {
    "duration": 7,
    "start_time": "2022-04-23T00:18:46.414Z"
   },
   {
    "duration": 6,
    "start_time": "2022-04-23T00:18:46.976Z"
   },
   {
    "duration": 142,
    "start_time": "2022-04-23T00:18:47.581Z"
   },
   {
    "duration": 17,
    "start_time": "2022-04-23T00:20:32.165Z"
   },
   {
    "duration": 415,
    "start_time": "2022-04-23T00:25:21.356Z"
   },
   {
    "duration": 42,
    "start_time": "2022-04-23T00:25:21.773Z"
   },
   {
    "duration": 10,
    "start_time": "2022-04-23T00:25:21.817Z"
   },
   {
    "duration": 5,
    "start_time": "2022-04-23T00:25:21.829Z"
   },
   {
    "duration": 22,
    "start_time": "2022-04-23T00:25:21.836Z"
   },
   {
    "duration": 17,
    "start_time": "2022-04-23T00:25:21.860Z"
   },
   {
    "duration": 33,
    "start_time": "2022-04-23T00:25:21.879Z"
   },
   {
    "duration": 2,
    "start_time": "2022-04-23T00:25:21.914Z"
   },
   {
    "duration": 14,
    "start_time": "2022-04-23T00:25:21.917Z"
   },
   {
    "duration": 20,
    "start_time": "2022-04-23T00:25:21.958Z"
   },
   {
    "duration": 75,
    "start_time": "2022-04-23T00:25:21.979Z"
   },
   {
    "duration": 0,
    "start_time": "2022-04-23T00:25:22.057Z"
   },
   {
    "duration": 0,
    "start_time": "2022-04-23T00:25:22.058Z"
   },
   {
    "duration": 0,
    "start_time": "2022-04-23T00:25:22.059Z"
   },
   {
    "duration": 0,
    "start_time": "2022-04-23T00:25:22.060Z"
   },
   {
    "duration": 0,
    "start_time": "2022-04-23T00:25:22.060Z"
   },
   {
    "duration": 0,
    "start_time": "2022-04-23T00:25:22.061Z"
   },
   {
    "duration": 0,
    "start_time": "2022-04-23T00:25:22.062Z"
   },
   {
    "duration": 0,
    "start_time": "2022-04-23T00:25:22.063Z"
   },
   {
    "duration": 0,
    "start_time": "2022-04-23T00:25:22.064Z"
   },
   {
    "duration": 0,
    "start_time": "2022-04-23T00:25:22.065Z"
   },
   {
    "duration": 0,
    "start_time": "2022-04-23T00:25:22.066Z"
   },
   {
    "duration": 0,
    "start_time": "2022-04-23T00:25:22.067Z"
   },
   {
    "duration": 0,
    "start_time": "2022-04-23T00:25:22.068Z"
   },
   {
    "duration": 0,
    "start_time": "2022-04-23T00:25:22.069Z"
   },
   {
    "duration": 0,
    "start_time": "2022-04-23T00:25:22.070Z"
   },
   {
    "duration": 0,
    "start_time": "2022-04-23T00:25:22.071Z"
   },
   {
    "duration": 0,
    "start_time": "2022-04-23T00:25:22.071Z"
   },
   {
    "duration": 0,
    "start_time": "2022-04-23T00:25:22.072Z"
   },
   {
    "duration": 0,
    "start_time": "2022-04-23T00:25:22.073Z"
   },
   {
    "duration": 0,
    "start_time": "2022-04-23T00:25:22.074Z"
   },
   {
    "duration": 0,
    "start_time": "2022-04-23T00:25:22.075Z"
   },
   {
    "duration": 0,
    "start_time": "2022-04-23T00:25:22.076Z"
   },
   {
    "duration": 0,
    "start_time": "2022-04-23T00:25:22.077Z"
   },
   {
    "duration": 0,
    "start_time": "2022-04-23T00:25:22.078Z"
   },
   {
    "duration": 0,
    "start_time": "2022-04-23T00:25:22.079Z"
   },
   {
    "duration": 0,
    "start_time": "2022-04-23T00:25:22.080Z"
   },
   {
    "duration": 0,
    "start_time": "2022-04-23T00:25:22.081Z"
   },
   {
    "duration": 0,
    "start_time": "2022-04-23T00:25:22.082Z"
   },
   {
    "duration": 0,
    "start_time": "2022-04-23T00:25:22.083Z"
   },
   {
    "duration": 0,
    "start_time": "2022-04-23T00:25:22.084Z"
   },
   {
    "duration": 0,
    "start_time": "2022-04-23T00:25:22.084Z"
   },
   {
    "duration": 0,
    "start_time": "2022-04-23T00:25:22.086Z"
   },
   {
    "duration": 0,
    "start_time": "2022-04-23T00:25:22.086Z"
   },
   {
    "duration": 0,
    "start_time": "2022-04-23T00:25:22.087Z"
   },
   {
    "duration": 0,
    "start_time": "2022-04-23T00:25:22.088Z"
   },
   {
    "duration": 0,
    "start_time": "2022-04-23T00:25:22.089Z"
   },
   {
    "duration": 0,
    "start_time": "2022-04-23T00:25:22.090Z"
   },
   {
    "duration": 0,
    "start_time": "2022-04-23T00:25:22.091Z"
   },
   {
    "duration": 0,
    "start_time": "2022-04-23T00:25:22.092Z"
   },
   {
    "duration": 0,
    "start_time": "2022-04-23T00:25:22.093Z"
   },
   {
    "duration": 0,
    "start_time": "2022-04-23T00:25:22.154Z"
   },
   {
    "duration": 0,
    "start_time": "2022-04-23T00:25:22.155Z"
   },
   {
    "duration": 0,
    "start_time": "2022-04-23T00:25:22.156Z"
   },
   {
    "duration": 0,
    "start_time": "2022-04-23T00:25:22.157Z"
   },
   {
    "duration": 0,
    "start_time": "2022-04-23T00:25:22.158Z"
   },
   {
    "duration": 0,
    "start_time": "2022-04-23T00:25:22.159Z"
   },
   {
    "duration": 0,
    "start_time": "2022-04-23T00:25:22.160Z"
   },
   {
    "duration": 0,
    "start_time": "2022-04-23T00:25:22.161Z"
   },
   {
    "duration": 0,
    "start_time": "2022-04-23T00:25:22.162Z"
   },
   {
    "duration": 0,
    "start_time": "2022-04-23T00:25:22.163Z"
   },
   {
    "duration": 0,
    "start_time": "2022-04-23T00:25:22.164Z"
   },
   {
    "duration": 0,
    "start_time": "2022-04-23T00:25:22.165Z"
   },
   {
    "duration": 0,
    "start_time": "2022-04-23T00:25:22.166Z"
   },
   {
    "duration": 1,
    "start_time": "2022-04-23T00:25:22.166Z"
   },
   {
    "duration": 0,
    "start_time": "2022-04-23T00:25:22.168Z"
   },
   {
    "duration": 0,
    "start_time": "2022-04-23T00:25:22.168Z"
   },
   {
    "duration": 0,
    "start_time": "2022-04-23T00:25:22.169Z"
   },
   {
    "duration": 0,
    "start_time": "2022-04-23T00:25:22.170Z"
   },
   {
    "duration": 0,
    "start_time": "2022-04-23T00:25:22.171Z"
   },
   {
    "duration": 0,
    "start_time": "2022-04-23T00:25:22.172Z"
   },
   {
    "duration": 0,
    "start_time": "2022-04-23T00:25:22.173Z"
   },
   {
    "duration": 0,
    "start_time": "2022-04-23T00:25:22.174Z"
   },
   {
    "duration": 0,
    "start_time": "2022-04-23T00:25:22.175Z"
   },
   {
    "duration": 0,
    "start_time": "2022-04-23T00:25:22.176Z"
   },
   {
    "duration": 0,
    "start_time": "2022-04-23T00:25:22.177Z"
   },
   {
    "duration": 0,
    "start_time": "2022-04-23T00:25:22.178Z"
   },
   {
    "duration": 0,
    "start_time": "2022-04-23T00:25:22.179Z"
   },
   {
    "duration": 0,
    "start_time": "2022-04-23T00:25:22.179Z"
   },
   {
    "duration": 0,
    "start_time": "2022-04-23T00:25:22.180Z"
   },
   {
    "duration": 0,
    "start_time": "2022-04-23T00:25:22.181Z"
   },
   {
    "duration": 0,
    "start_time": "2022-04-23T00:25:22.182Z"
   },
   {
    "duration": 7,
    "start_time": "2022-04-23T00:25:38.685Z"
   },
   {
    "duration": 6,
    "start_time": "2022-04-23T00:25:41.815Z"
   },
   {
    "duration": 19,
    "start_time": "2022-04-23T00:25:42.132Z"
   },
   {
    "duration": 17,
    "start_time": "2022-04-23T00:25:47.839Z"
   },
   {
    "duration": 32,
    "start_time": "2022-04-23T00:25:50.735Z"
   },
   {
    "duration": 24,
    "start_time": "2022-04-23T00:26:09.142Z"
   },
   {
    "duration": 29,
    "start_time": "2022-04-23T00:30:15.376Z"
   },
   {
    "duration": 567,
    "start_time": "2022-04-23T12:34:33.506Z"
   },
   {
    "duration": 69,
    "start_time": "2022-04-23T12:34:34.076Z"
   },
   {
    "duration": 12,
    "start_time": "2022-04-23T12:34:34.147Z"
   },
   {
    "duration": 8,
    "start_time": "2022-04-23T12:34:34.162Z"
   },
   {
    "duration": 21,
    "start_time": "2022-04-23T12:34:34.172Z"
   },
   {
    "duration": 23,
    "start_time": "2022-04-23T12:34:34.195Z"
   },
   {
    "duration": 48,
    "start_time": "2022-04-23T12:34:34.220Z"
   },
   {
    "duration": 24,
    "start_time": "2022-04-23T12:34:34.270Z"
   },
   {
    "duration": 16,
    "start_time": "2022-04-23T12:34:34.296Z"
   },
   {
    "duration": 30,
    "start_time": "2022-04-23T12:34:34.317Z"
   },
   {
    "duration": 119,
    "start_time": "2022-04-23T12:34:34.349Z"
   },
   {
    "duration": 0,
    "start_time": "2022-04-23T12:34:34.472Z"
   },
   {
    "duration": 0,
    "start_time": "2022-04-23T12:34:34.474Z"
   },
   {
    "duration": 0,
    "start_time": "2022-04-23T12:34:34.475Z"
   },
   {
    "duration": 0,
    "start_time": "2022-04-23T12:34:34.478Z"
   },
   {
    "duration": 0,
    "start_time": "2022-04-23T12:34:34.479Z"
   },
   {
    "duration": 0,
    "start_time": "2022-04-23T12:34:34.492Z"
   },
   {
    "duration": 0,
    "start_time": "2022-04-23T12:34:34.494Z"
   },
   {
    "duration": 0,
    "start_time": "2022-04-23T12:34:34.495Z"
   },
   {
    "duration": 1,
    "start_time": "2022-04-23T12:34:34.497Z"
   },
   {
    "duration": 0,
    "start_time": "2022-04-23T12:34:34.499Z"
   },
   {
    "duration": 0,
    "start_time": "2022-04-23T12:34:34.500Z"
   },
   {
    "duration": 0,
    "start_time": "2022-04-23T12:34:34.502Z"
   },
   {
    "duration": 0,
    "start_time": "2022-04-23T12:34:34.503Z"
   },
   {
    "duration": 0,
    "start_time": "2022-04-23T12:34:34.505Z"
   },
   {
    "duration": 0,
    "start_time": "2022-04-23T12:34:34.506Z"
   },
   {
    "duration": 0,
    "start_time": "2022-04-23T12:34:34.507Z"
   },
   {
    "duration": 0,
    "start_time": "2022-04-23T12:34:34.509Z"
   },
   {
    "duration": 0,
    "start_time": "2022-04-23T12:34:34.511Z"
   },
   {
    "duration": 0,
    "start_time": "2022-04-23T12:34:34.512Z"
   },
   {
    "duration": 0,
    "start_time": "2022-04-23T12:34:34.513Z"
   },
   {
    "duration": 0,
    "start_time": "2022-04-23T12:34:34.514Z"
   },
   {
    "duration": 0,
    "start_time": "2022-04-23T12:34:34.516Z"
   },
   {
    "duration": 0,
    "start_time": "2022-04-23T12:34:34.517Z"
   },
   {
    "duration": 0,
    "start_time": "2022-04-23T12:34:34.519Z"
   },
   {
    "duration": 0,
    "start_time": "2022-04-23T12:34:34.521Z"
   },
   {
    "duration": 0,
    "start_time": "2022-04-23T12:34:34.522Z"
   },
   {
    "duration": 0,
    "start_time": "2022-04-23T12:34:34.523Z"
   },
   {
    "duration": 0,
    "start_time": "2022-04-23T12:34:34.525Z"
   },
   {
    "duration": 0,
    "start_time": "2022-04-23T12:34:34.526Z"
   },
   {
    "duration": 0,
    "start_time": "2022-04-23T12:34:34.528Z"
   },
   {
    "duration": 0,
    "start_time": "2022-04-23T12:34:34.593Z"
   },
   {
    "duration": 0,
    "start_time": "2022-04-23T12:34:34.595Z"
   },
   {
    "duration": 0,
    "start_time": "2022-04-23T12:34:34.596Z"
   },
   {
    "duration": 0,
    "start_time": "2022-04-23T12:34:34.598Z"
   },
   {
    "duration": 0,
    "start_time": "2022-04-23T12:34:34.599Z"
   },
   {
    "duration": 0,
    "start_time": "2022-04-23T12:34:34.601Z"
   },
   {
    "duration": 0,
    "start_time": "2022-04-23T12:34:34.602Z"
   },
   {
    "duration": 0,
    "start_time": "2022-04-23T12:34:34.604Z"
   },
   {
    "duration": 0,
    "start_time": "2022-04-23T12:34:34.605Z"
   },
   {
    "duration": 0,
    "start_time": "2022-04-23T12:34:34.607Z"
   },
   {
    "duration": 0,
    "start_time": "2022-04-23T12:34:34.608Z"
   },
   {
    "duration": 0,
    "start_time": "2022-04-23T12:34:34.610Z"
   },
   {
    "duration": 0,
    "start_time": "2022-04-23T12:34:34.612Z"
   },
   {
    "duration": 0,
    "start_time": "2022-04-23T12:34:34.614Z"
   },
   {
    "duration": 0,
    "start_time": "2022-04-23T12:34:34.616Z"
   },
   {
    "duration": 0,
    "start_time": "2022-04-23T12:34:34.618Z"
   },
   {
    "duration": 0,
    "start_time": "2022-04-23T12:34:34.620Z"
   },
   {
    "duration": 0,
    "start_time": "2022-04-23T12:34:34.622Z"
   },
   {
    "duration": 0,
    "start_time": "2022-04-23T12:34:34.624Z"
   },
   {
    "duration": 0,
    "start_time": "2022-04-23T12:34:34.626Z"
   },
   {
    "duration": 0,
    "start_time": "2022-04-23T12:34:34.628Z"
   },
   {
    "duration": 0,
    "start_time": "2022-04-23T12:34:34.630Z"
   },
   {
    "duration": 0,
    "start_time": "2022-04-23T12:34:34.692Z"
   },
   {
    "duration": 0,
    "start_time": "2022-04-23T12:34:34.694Z"
   },
   {
    "duration": 0,
    "start_time": "2022-04-23T12:34:34.696Z"
   },
   {
    "duration": 0,
    "start_time": "2022-04-23T12:34:34.699Z"
   },
   {
    "duration": 0,
    "start_time": "2022-04-23T12:34:34.700Z"
   },
   {
    "duration": 0,
    "start_time": "2022-04-23T12:34:34.702Z"
   },
   {
    "duration": 0,
    "start_time": "2022-04-23T12:34:34.704Z"
   },
   {
    "duration": 0,
    "start_time": "2022-04-23T12:34:34.706Z"
   },
   {
    "duration": 0,
    "start_time": "2022-04-23T12:34:34.709Z"
   },
   {
    "duration": 0,
    "start_time": "2022-04-23T12:34:34.710Z"
   },
   {
    "duration": 0,
    "start_time": "2022-04-23T12:34:34.712Z"
   },
   {
    "duration": 0,
    "start_time": "2022-04-23T12:34:34.714Z"
   },
   {
    "duration": 0,
    "start_time": "2022-04-23T12:34:34.717Z"
   },
   {
    "duration": 0,
    "start_time": "2022-04-23T12:34:34.718Z"
   },
   {
    "duration": 0,
    "start_time": "2022-04-23T12:34:34.720Z"
   },
   {
    "duration": 0,
    "start_time": "2022-04-23T12:34:34.722Z"
   },
   {
    "duration": 0,
    "start_time": "2022-04-23T12:34:34.723Z"
   },
   {
    "duration": 0,
    "start_time": "2022-04-23T12:34:34.725Z"
   },
   {
    "duration": 0,
    "start_time": "2022-04-23T12:34:34.727Z"
   },
   {
    "duration": 0,
    "start_time": "2022-04-23T12:34:34.728Z"
   },
   {
    "duration": 3,
    "start_time": "2022-04-23T12:34:53.184Z"
   },
   {
    "duration": 57,
    "start_time": "2022-04-23T12:34:53.248Z"
   },
   {
    "duration": 11,
    "start_time": "2022-04-23T12:34:53.311Z"
   },
   {
    "duration": 4,
    "start_time": "2022-04-23T12:34:53.436Z"
   },
   {
    "duration": 11,
    "start_time": "2022-04-23T12:34:53.559Z"
   },
   {
    "duration": 21,
    "start_time": "2022-04-23T12:34:53.616Z"
   },
   {
    "duration": 41,
    "start_time": "2022-04-23T12:34:53.678Z"
   },
   {
    "duration": 4,
    "start_time": "2022-04-23T12:34:53.865Z"
   },
   {
    "duration": 14,
    "start_time": "2022-04-23T12:34:53.925Z"
   },
   {
    "duration": 30,
    "start_time": "2022-04-23T12:34:53.984Z"
   },
   {
    "duration": 10,
    "start_time": "2022-04-23T12:34:54.049Z"
   },
   {
    "duration": 10,
    "start_time": "2022-04-23T12:34:54.110Z"
   },
   {
    "duration": 10,
    "start_time": "2022-04-23T12:34:54.165Z"
   },
   {
    "duration": 26,
    "start_time": "2022-04-23T12:34:54.230Z"
   },
   {
    "duration": 26,
    "start_time": "2022-04-23T12:34:54.476Z"
   },
   {
    "duration": 37,
    "start_time": "2022-04-23T12:34:54.537Z"
   },
   {
    "duration": 42,
    "start_time": "2022-04-23T12:34:54.606Z"
   },
   {
    "duration": 4,
    "start_time": "2022-04-23T12:34:54.715Z"
   },
   {
    "duration": 3,
    "start_time": "2022-04-23T12:34:54.779Z"
   },
   {
    "duration": 3,
    "start_time": "2022-04-23T12:34:57.006Z"
   },
   {
    "duration": 4,
    "start_time": "2022-04-23T12:34:57.300Z"
   },
   {
    "duration": 31,
    "start_time": "2022-04-23T13:31:36.098Z"
   },
   {
    "duration": 28,
    "start_time": "2022-04-23T13:31:46.186Z"
   },
   {
    "duration": 23,
    "start_time": "2022-04-23T13:33:02.681Z"
   },
   {
    "duration": 24,
    "start_time": "2022-04-23T13:33:18.806Z"
   },
   {
    "duration": 26,
    "start_time": "2022-04-23T13:33:25.581Z"
   },
   {
    "duration": 25,
    "start_time": "2022-04-23T13:33:42.513Z"
   },
   {
    "duration": 24,
    "start_time": "2022-04-23T13:34:49.519Z"
   },
   {
    "duration": 25,
    "start_time": "2022-04-23T13:38:54.613Z"
   },
   {
    "duration": 25,
    "start_time": "2022-04-23T13:38:55.027Z"
   },
   {
    "duration": 40,
    "start_time": "2022-04-23T13:38:56.716Z"
   },
   {
    "duration": 25,
    "start_time": "2022-04-23T13:39:25.818Z"
   },
   {
    "duration": 26,
    "start_time": "2022-04-23T13:39:26.000Z"
   },
   {
    "duration": 38,
    "start_time": "2022-04-23T13:39:26.804Z"
   },
   {
    "duration": 26,
    "start_time": "2022-04-23T13:39:33.655Z"
   },
   {
    "duration": 25,
    "start_time": "2022-04-23T13:39:34.042Z"
   },
   {
    "duration": 24,
    "start_time": "2022-04-23T13:40:00.166Z"
   },
   {
    "duration": 24,
    "start_time": "2022-04-23T13:40:03.133Z"
   },
   {
    "duration": 26,
    "start_time": "2022-04-23T13:40:06.858Z"
   },
   {
    "duration": 26,
    "start_time": "2022-04-23T13:40:08.377Z"
   },
   {
    "duration": 22,
    "start_time": "2022-04-23T13:40:10.547Z"
   },
   {
    "duration": 431,
    "start_time": "2022-06-19T21:56:44.845Z"
   },
   {
    "duration": 99,
    "start_time": "2022-06-19T21:56:45.278Z"
   },
   {
    "duration": 0,
    "start_time": "2022-06-19T21:56:45.382Z"
   },
   {
    "duration": 0,
    "start_time": "2022-06-19T21:56:45.383Z"
   },
   {
    "duration": 0,
    "start_time": "2022-06-19T21:56:45.384Z"
   },
   {
    "duration": 0,
    "start_time": "2022-06-19T21:56:45.386Z"
   },
   {
    "duration": 0,
    "start_time": "2022-06-19T21:56:45.387Z"
   },
   {
    "duration": 0,
    "start_time": "2022-06-19T21:56:45.389Z"
   },
   {
    "duration": 0,
    "start_time": "2022-06-19T21:56:45.390Z"
   },
   {
    "duration": 0,
    "start_time": "2022-06-19T21:56:45.391Z"
   },
   {
    "duration": 0,
    "start_time": "2022-06-19T21:56:45.393Z"
   },
   {
    "duration": 0,
    "start_time": "2022-06-19T21:56:45.394Z"
   },
   {
    "duration": 0,
    "start_time": "2022-06-19T21:56:45.396Z"
   },
   {
    "duration": 0,
    "start_time": "2022-06-19T21:56:45.397Z"
   },
   {
    "duration": 0,
    "start_time": "2022-06-19T21:56:45.398Z"
   },
   {
    "duration": 0,
    "start_time": "2022-06-19T21:56:45.400Z"
   },
   {
    "duration": 0,
    "start_time": "2022-06-19T21:56:45.401Z"
   },
   {
    "duration": 0,
    "start_time": "2022-06-19T21:56:45.402Z"
   },
   {
    "duration": 0,
    "start_time": "2022-06-19T21:56:45.404Z"
   },
   {
    "duration": 0,
    "start_time": "2022-06-19T21:56:45.405Z"
   },
   {
    "duration": 0,
    "start_time": "2022-06-19T21:56:45.407Z"
   },
   {
    "duration": 0,
    "start_time": "2022-06-19T21:56:45.407Z"
   },
   {
    "duration": 0,
    "start_time": "2022-06-19T21:56:45.442Z"
   },
   {
    "duration": 0,
    "start_time": "2022-06-19T21:56:45.444Z"
   },
   {
    "duration": 0,
    "start_time": "2022-06-19T21:56:45.445Z"
   },
   {
    "duration": 0,
    "start_time": "2022-06-19T21:56:45.447Z"
   },
   {
    "duration": 0,
    "start_time": "2022-06-19T21:56:45.448Z"
   },
   {
    "duration": 0,
    "start_time": "2022-06-19T21:56:45.449Z"
   },
   {
    "duration": 0,
    "start_time": "2022-06-19T21:56:45.450Z"
   },
   {
    "duration": 0,
    "start_time": "2022-06-19T21:56:45.451Z"
   },
   {
    "duration": 0,
    "start_time": "2022-06-19T21:56:45.452Z"
   },
   {
    "duration": 0,
    "start_time": "2022-06-19T21:56:45.453Z"
   },
   {
    "duration": 0,
    "start_time": "2022-06-19T21:56:45.454Z"
   },
   {
    "duration": 0,
    "start_time": "2022-06-19T21:56:45.455Z"
   },
   {
    "duration": 0,
    "start_time": "2022-06-19T21:56:45.456Z"
   },
   {
    "duration": 0,
    "start_time": "2022-06-19T21:56:45.457Z"
   },
   {
    "duration": 0,
    "start_time": "2022-06-19T21:56:45.458Z"
   },
   {
    "duration": 0,
    "start_time": "2022-06-19T21:56:45.459Z"
   },
   {
    "duration": 0,
    "start_time": "2022-06-19T21:56:45.461Z"
   },
   {
    "duration": 0,
    "start_time": "2022-06-19T21:56:45.461Z"
   },
   {
    "duration": 0,
    "start_time": "2022-06-19T21:56:45.462Z"
   },
   {
    "duration": 0,
    "start_time": "2022-06-19T21:56:45.464Z"
   },
   {
    "duration": 0,
    "start_time": "2022-06-19T21:56:45.464Z"
   },
   {
    "duration": 0,
    "start_time": "2022-06-19T21:56:45.466Z"
   },
   {
    "duration": 0,
    "start_time": "2022-06-19T21:56:45.467Z"
   },
   {
    "duration": 0,
    "start_time": "2022-06-19T21:56:45.468Z"
   },
   {
    "duration": 0,
    "start_time": "2022-06-19T21:56:45.469Z"
   },
   {
    "duration": 0,
    "start_time": "2022-06-19T21:56:45.470Z"
   },
   {
    "duration": 0,
    "start_time": "2022-06-19T21:56:45.471Z"
   },
   {
    "duration": 0,
    "start_time": "2022-06-19T21:56:45.473Z"
   },
   {
    "duration": 0,
    "start_time": "2022-06-19T21:56:45.473Z"
   },
   {
    "duration": 0,
    "start_time": "2022-06-19T21:56:45.476Z"
   },
   {
    "duration": 0,
    "start_time": "2022-06-19T21:56:45.477Z"
   },
   {
    "duration": 0,
    "start_time": "2022-06-19T21:56:45.478Z"
   },
   {
    "duration": 0,
    "start_time": "2022-06-19T21:56:45.479Z"
   },
   {
    "duration": 0,
    "start_time": "2022-06-19T21:56:45.541Z"
   },
   {
    "duration": 0,
    "start_time": "2022-06-19T21:56:45.543Z"
   },
   {
    "duration": 0,
    "start_time": "2022-06-19T21:56:45.544Z"
   },
   {
    "duration": 0,
    "start_time": "2022-06-19T21:56:45.545Z"
   },
   {
    "duration": 0,
    "start_time": "2022-06-19T21:56:45.546Z"
   },
   {
    "duration": 0,
    "start_time": "2022-06-19T21:56:45.547Z"
   },
   {
    "duration": 0,
    "start_time": "2022-06-19T21:56:45.548Z"
   },
   {
    "duration": 0,
    "start_time": "2022-06-19T21:56:45.550Z"
   },
   {
    "duration": 0,
    "start_time": "2022-06-19T21:56:45.551Z"
   },
   {
    "duration": 0,
    "start_time": "2022-06-19T21:56:45.552Z"
   },
   {
    "duration": 0,
    "start_time": "2022-06-19T21:56:45.555Z"
   },
   {
    "duration": 0,
    "start_time": "2022-06-19T21:56:45.555Z"
   },
   {
    "duration": 0,
    "start_time": "2022-06-19T21:56:45.556Z"
   },
   {
    "duration": 0,
    "start_time": "2022-06-19T21:56:45.557Z"
   },
   {
    "duration": 0,
    "start_time": "2022-06-19T21:56:45.558Z"
   },
   {
    "duration": 0,
    "start_time": "2022-06-19T21:56:45.559Z"
   },
   {
    "duration": 0,
    "start_time": "2022-06-19T21:56:45.560Z"
   },
   {
    "duration": 0,
    "start_time": "2022-06-19T21:56:45.561Z"
   },
   {
    "duration": 0,
    "start_time": "2022-06-19T21:56:45.562Z"
   },
   {
    "duration": 0,
    "start_time": "2022-06-19T21:56:45.564Z"
   },
   {
    "duration": 8,
    "start_time": "2022-06-19T21:56:45.569Z"
   },
   {
    "duration": 7,
    "start_time": "2022-06-19T21:56:45.643Z"
   },
   {
    "duration": 11,
    "start_time": "2022-06-19T21:56:45.651Z"
   },
   {
    "duration": 0,
    "start_time": "2022-06-19T21:56:45.667Z"
   },
   {
    "duration": 0,
    "start_time": "2022-06-19T21:56:45.669Z"
   },
   {
    "duration": 0,
    "start_time": "2022-06-19T21:56:45.670Z"
   },
   {
    "duration": 0,
    "start_time": "2022-06-19T21:56:45.671Z"
   },
   {
    "duration": 0,
    "start_time": "2022-06-19T21:56:45.672Z"
   },
   {
    "duration": 1,
    "start_time": "2022-06-19T21:56:45.673Z"
   },
   {
    "duration": 0,
    "start_time": "2022-06-19T21:56:45.675Z"
   },
   {
    "duration": 0,
    "start_time": "2022-06-19T21:56:45.676Z"
   },
   {
    "duration": 0,
    "start_time": "2022-06-19T21:56:45.677Z"
   },
   {
    "duration": 0,
    "start_time": "2022-06-19T21:56:45.678Z"
   },
   {
    "duration": 0,
    "start_time": "2022-06-19T21:56:45.680Z"
   },
   {
    "duration": 0,
    "start_time": "2022-06-19T21:56:45.681Z"
   },
   {
    "duration": 0,
    "start_time": "2022-06-19T21:56:45.683Z"
   },
   {
    "duration": 0,
    "start_time": "2022-06-19T21:56:45.684Z"
   },
   {
    "duration": 0,
    "start_time": "2022-06-19T21:56:45.743Z"
   },
   {
    "duration": 0,
    "start_time": "2022-06-19T21:56:45.745Z"
   },
   {
    "duration": 0,
    "start_time": "2022-06-19T21:56:45.746Z"
   },
   {
    "duration": 0,
    "start_time": "2022-06-19T21:56:45.747Z"
   },
   {
    "duration": 0,
    "start_time": "2022-06-19T21:56:45.748Z"
   },
   {
    "duration": 0,
    "start_time": "2022-06-19T21:56:45.749Z"
   },
   {
    "duration": 0,
    "start_time": "2022-06-19T21:56:45.750Z"
   },
   {
    "duration": 0,
    "start_time": "2022-06-19T21:56:45.752Z"
   },
   {
    "duration": 0,
    "start_time": "2022-06-19T21:56:45.753Z"
   },
   {
    "duration": 0,
    "start_time": "2022-06-19T21:56:45.754Z"
   },
   {
    "duration": 0,
    "start_time": "2022-06-19T21:56:45.755Z"
   },
   {
    "duration": 0,
    "start_time": "2022-06-19T21:56:45.756Z"
   },
   {
    "duration": 0,
    "start_time": "2022-06-19T21:56:45.757Z"
   },
   {
    "duration": 0,
    "start_time": "2022-06-19T21:56:45.759Z"
   },
   {
    "duration": 0,
    "start_time": "2022-06-19T21:56:45.760Z"
   },
   {
    "duration": 0,
    "start_time": "2022-06-19T21:56:45.761Z"
   },
   {
    "duration": 0,
    "start_time": "2022-06-19T21:56:45.763Z"
   },
   {
    "duration": 0,
    "start_time": "2022-06-19T21:56:45.764Z"
   },
   {
    "duration": 0,
    "start_time": "2022-06-19T21:56:45.765Z"
   },
   {
    "duration": 0,
    "start_time": "2022-06-19T21:56:45.766Z"
   },
   {
    "duration": 0,
    "start_time": "2022-06-19T21:56:45.767Z"
   },
   {
    "duration": 0,
    "start_time": "2022-06-19T21:56:45.769Z"
   },
   {
    "duration": 0,
    "start_time": "2022-06-19T21:56:45.771Z"
   },
   {
    "duration": 0,
    "start_time": "2022-06-19T21:56:45.772Z"
   },
   {
    "duration": 0,
    "start_time": "2022-06-19T21:56:45.774Z"
   },
   {
    "duration": 0,
    "start_time": "2022-06-19T21:56:45.775Z"
   },
   {
    "duration": 0,
    "start_time": "2022-06-19T21:56:45.776Z"
   },
   {
    "duration": 0,
    "start_time": "2022-06-19T21:56:45.778Z"
   },
   {
    "duration": 0,
    "start_time": "2022-06-19T21:56:45.779Z"
   },
   {
    "duration": 0,
    "start_time": "2022-06-19T21:56:45.781Z"
   },
   {
    "duration": 0,
    "start_time": "2022-06-19T21:56:45.845Z"
   },
   {
    "duration": 0,
    "start_time": "2022-06-19T21:56:45.847Z"
   },
   {
    "duration": 0,
    "start_time": "2022-06-19T21:56:45.848Z"
   },
   {
    "duration": 0,
    "start_time": "2022-06-19T21:56:45.850Z"
   },
   {
    "duration": 0,
    "start_time": "2022-06-19T21:56:45.850Z"
   },
   {
    "duration": 0,
    "start_time": "2022-06-19T21:56:45.851Z"
   },
   {
    "duration": 0,
    "start_time": "2022-06-19T21:56:45.852Z"
   },
   {
    "duration": 0,
    "start_time": "2022-06-19T21:56:45.854Z"
   },
   {
    "duration": 0,
    "start_time": "2022-06-19T21:56:45.854Z"
   },
   {
    "duration": 0,
    "start_time": "2022-06-19T21:56:45.856Z"
   },
   {
    "duration": 0,
    "start_time": "2022-06-19T21:56:45.856Z"
   },
   {
    "duration": 0,
    "start_time": "2022-06-19T21:56:45.857Z"
   },
   {
    "duration": 0,
    "start_time": "2022-06-19T21:56:45.858Z"
   },
   {
    "duration": 0,
    "start_time": "2022-06-19T21:56:45.860Z"
   },
   {
    "duration": 0,
    "start_time": "2022-06-19T21:56:45.861Z"
   },
   {
    "duration": 0,
    "start_time": "2022-06-19T21:56:45.862Z"
   },
   {
    "duration": 0,
    "start_time": "2022-06-19T21:56:45.864Z"
   },
   {
    "duration": 0,
    "start_time": "2022-06-19T21:56:45.865Z"
   },
   {
    "duration": 0,
    "start_time": "2022-06-19T21:56:45.867Z"
   },
   {
    "duration": 0,
    "start_time": "2022-06-19T21:56:45.868Z"
   },
   {
    "duration": 0,
    "start_time": "2022-06-19T21:56:45.870Z"
   },
   {
    "duration": 0,
    "start_time": "2022-06-19T21:56:45.871Z"
   },
   {
    "duration": 0,
    "start_time": "2022-06-19T21:56:45.873Z"
   },
   {
    "duration": 0,
    "start_time": "2022-06-19T21:56:45.874Z"
   },
   {
    "duration": 0,
    "start_time": "2022-06-19T21:56:45.875Z"
   },
   {
    "duration": 0,
    "start_time": "2022-06-19T21:56:45.879Z"
   },
   {
    "duration": 0,
    "start_time": "2022-06-19T21:56:45.943Z"
   },
   {
    "duration": 0,
    "start_time": "2022-06-19T21:56:45.945Z"
   },
   {
    "duration": 0,
    "start_time": "2022-06-19T21:56:45.946Z"
   },
   {
    "duration": 0,
    "start_time": "2022-06-19T21:56:45.948Z"
   },
   {
    "duration": 0,
    "start_time": "2022-06-19T21:56:45.950Z"
   },
   {
    "duration": 0,
    "start_time": "2022-06-19T21:56:45.951Z"
   },
   {
    "duration": 0,
    "start_time": "2022-06-19T21:56:45.952Z"
   },
   {
    "duration": 0,
    "start_time": "2022-06-19T21:56:45.954Z"
   },
   {
    "duration": 0,
    "start_time": "2022-06-19T21:56:45.955Z"
   },
   {
    "duration": 0,
    "start_time": "2022-06-19T21:56:45.956Z"
   },
   {
    "duration": 0,
    "start_time": "2022-06-19T21:56:45.958Z"
   },
   {
    "duration": 0,
    "start_time": "2022-06-19T21:56:45.959Z"
   },
   {
    "duration": 0,
    "start_time": "2022-06-19T21:56:45.960Z"
   },
   {
    "duration": 0,
    "start_time": "2022-06-19T21:56:45.962Z"
   },
   {
    "duration": 0,
    "start_time": "2022-06-19T21:56:45.963Z"
   },
   {
    "duration": 0,
    "start_time": "2022-06-19T21:56:45.964Z"
   },
   {
    "duration": 0,
    "start_time": "2022-06-19T21:56:45.965Z"
   },
   {
    "duration": 0,
    "start_time": "2022-06-19T21:56:45.966Z"
   },
   {
    "duration": 0,
    "start_time": "2022-06-19T21:56:45.967Z"
   },
   {
    "duration": 0,
    "start_time": "2022-06-19T21:56:45.968Z"
   },
   {
    "duration": 84,
    "start_time": "2022-06-19T21:58:09.002Z"
   },
   {
    "duration": 238,
    "start_time": "2022-06-19T21:59:35.862Z"
   },
   {
    "duration": 2,
    "start_time": "2022-06-19T21:59:39.822Z"
   },
   {
    "duration": 73,
    "start_time": "2022-06-19T21:59:39.826Z"
   },
   {
    "duration": 15,
    "start_time": "2022-06-19T21:59:39.902Z"
   },
   {
    "duration": 8,
    "start_time": "2022-06-19T21:59:39.919Z"
   },
   {
    "duration": 18,
    "start_time": "2022-06-19T21:59:39.930Z"
   },
   {
    "duration": 25,
    "start_time": "2022-06-19T21:59:39.950Z"
   },
   {
    "duration": 18,
    "start_time": "2022-06-19T21:59:39.977Z"
   },
   {
    "duration": 51,
    "start_time": "2022-06-19T21:59:39.996Z"
   },
   {
    "duration": 27,
    "start_time": "2022-06-19T21:59:40.049Z"
   },
   {
    "duration": 15,
    "start_time": "2022-06-19T21:59:40.078Z"
   },
   {
    "duration": 13,
    "start_time": "2022-06-19T21:59:40.209Z"
   },
   {
    "duration": 10,
    "start_time": "2022-06-19T21:59:40.224Z"
   },
   {
    "duration": 15,
    "start_time": "2022-06-19T21:59:40.236Z"
   },
   {
    "duration": 14,
    "start_time": "2022-06-19T21:59:40.253Z"
   },
   {
    "duration": 6,
    "start_time": "2022-06-19T21:59:40.269Z"
   },
   {
    "duration": 17,
    "start_time": "2022-06-19T21:59:40.277Z"
   },
   {
    "duration": 5,
    "start_time": "2022-06-19T21:59:40.296Z"
   },
   {
    "duration": 6,
    "start_time": "2022-06-19T21:59:40.303Z"
   },
   {
    "duration": 7,
    "start_time": "2022-06-19T21:59:40.310Z"
   },
   {
    "duration": 58,
    "start_time": "2022-06-19T21:59:40.319Z"
   },
   {
    "duration": 9,
    "start_time": "2022-06-19T21:59:40.379Z"
   },
   {
    "duration": 4,
    "start_time": "2022-06-19T21:59:40.390Z"
   },
   {
    "duration": 19,
    "start_time": "2022-06-19T21:59:40.396Z"
   },
   {
    "duration": 35,
    "start_time": "2022-06-19T21:59:40.418Z"
   },
   {
    "duration": 3,
    "start_time": "2022-06-19T21:59:40.455Z"
   },
   {
    "duration": 7,
    "start_time": "2022-06-19T21:59:40.459Z"
   },
   {
    "duration": 8,
    "start_time": "2022-06-19T21:59:40.468Z"
   },
   {
    "duration": 19,
    "start_time": "2022-06-19T21:59:40.478Z"
   },
   {
    "duration": 43,
    "start_time": "2022-06-19T21:59:40.499Z"
   },
   {
    "duration": 6,
    "start_time": "2022-06-19T21:59:40.544Z"
   },
   {
    "duration": 21,
    "start_time": "2022-06-19T21:59:40.552Z"
   },
   {
    "duration": 6,
    "start_time": "2022-06-19T21:59:40.575Z"
   },
   {
    "duration": 14,
    "start_time": "2022-06-19T21:59:40.583Z"
   },
   {
    "duration": 57,
    "start_time": "2022-06-19T21:59:40.599Z"
   },
   {
    "duration": 23,
    "start_time": "2022-06-19T21:59:40.658Z"
   },
   {
    "duration": 19,
    "start_time": "2022-06-19T21:59:40.683Z"
   },
   {
    "duration": 7,
    "start_time": "2022-06-19T21:59:40.704Z"
   },
   {
    "duration": 28,
    "start_time": "2022-06-19T21:59:40.713Z"
   },
   {
    "duration": 14,
    "start_time": "2022-06-19T21:59:40.744Z"
   },
   {
    "duration": 7,
    "start_time": "2022-06-19T21:59:40.761Z"
   },
   {
    "duration": 7,
    "start_time": "2022-06-19T21:59:40.770Z"
   },
   {
    "duration": 12,
    "start_time": "2022-06-19T21:59:40.779Z"
   },
   {
    "duration": 6,
    "start_time": "2022-06-19T21:59:40.794Z"
   },
   {
    "duration": 8,
    "start_time": "2022-06-19T21:59:40.802Z"
   },
   {
    "duration": 8,
    "start_time": "2022-06-19T21:59:40.812Z"
   },
   {
    "duration": 25,
    "start_time": "2022-06-19T21:59:40.822Z"
   },
   {
    "duration": 12,
    "start_time": "2022-06-19T21:59:40.850Z"
   },
   {
    "duration": 4,
    "start_time": "2022-06-19T21:59:40.866Z"
   },
   {
    "duration": 16,
    "start_time": "2022-06-19T21:59:40.872Z"
   },
   {
    "duration": 8,
    "start_time": "2022-06-19T21:59:40.890Z"
   },
   {
    "duration": 5,
    "start_time": "2022-06-19T21:59:40.974Z"
   },
   {
    "duration": 19,
    "start_time": "2022-06-19T21:59:40.981Z"
   },
   {
    "duration": 11,
    "start_time": "2022-06-19T21:59:41.002Z"
   },
   {
    "duration": 10,
    "start_time": "2022-06-19T21:59:41.014Z"
   },
   {
    "duration": 5,
    "start_time": "2022-06-19T21:59:41.026Z"
   },
   {
    "duration": 18,
    "start_time": "2022-06-19T21:59:41.042Z"
   },
   {
    "duration": 2,
    "start_time": "2022-06-19T21:59:41.062Z"
   },
   {
    "duration": 13,
    "start_time": "2022-06-19T21:59:41.066Z"
   },
   {
    "duration": 8,
    "start_time": "2022-06-19T21:59:41.082Z"
   },
   {
    "duration": 8,
    "start_time": "2022-06-19T21:59:41.092Z"
   },
   {
    "duration": 13,
    "start_time": "2022-06-19T21:59:41.101Z"
   },
   {
    "duration": 14,
    "start_time": "2022-06-19T21:59:41.116Z"
   },
   {
    "duration": 8,
    "start_time": "2022-06-19T21:59:41.142Z"
   },
   {
    "duration": 7,
    "start_time": "2022-06-19T21:59:41.152Z"
   },
   {
    "duration": 9,
    "start_time": "2022-06-19T21:59:41.162Z"
   },
   {
    "duration": 5,
    "start_time": "2022-06-19T21:59:41.172Z"
   },
   {
    "duration": 11,
    "start_time": "2022-06-19T21:59:41.179Z"
   },
   {
    "duration": 12,
    "start_time": "2022-06-19T21:59:41.192Z"
   },
   {
    "duration": 6,
    "start_time": "2022-06-19T21:59:41.206Z"
   },
   {
    "duration": 34,
    "start_time": "2022-06-19T21:59:41.214Z"
   },
   {
    "duration": 16,
    "start_time": "2022-06-19T21:59:41.250Z"
   },
   {
    "duration": 8,
    "start_time": "2022-06-19T21:59:41.268Z"
   },
   {
    "duration": 8,
    "start_time": "2022-06-19T21:59:41.278Z"
   },
   {
    "duration": 3,
    "start_time": "2022-06-19T21:59:41.289Z"
   },
   {
    "duration": 9,
    "start_time": "2022-06-19T21:59:41.293Z"
   },
   {
    "duration": 6,
    "start_time": "2022-06-19T21:59:41.304Z"
   },
   {
    "duration": 6,
    "start_time": "2022-06-19T21:59:41.312Z"
   },
   {
    "duration": 7,
    "start_time": "2022-06-19T21:59:41.341Z"
   },
   {
    "duration": 11,
    "start_time": "2022-06-19T21:59:41.350Z"
   },
   {
    "duration": 30,
    "start_time": "2022-06-19T21:59:41.363Z"
   },
   {
    "duration": 6,
    "start_time": "2022-06-19T21:59:41.395Z"
   },
   {
    "duration": 29,
    "start_time": "2022-06-19T21:59:41.402Z"
   },
   {
    "duration": 3,
    "start_time": "2022-06-19T21:59:41.442Z"
   },
   {
    "duration": 13,
    "start_time": "2022-06-19T21:59:41.449Z"
   },
   {
    "duration": 7,
    "start_time": "2022-06-19T21:59:41.464Z"
   },
   {
    "duration": 10,
    "start_time": "2022-06-19T21:59:41.474Z"
   },
   {
    "duration": 24,
    "start_time": "2022-06-19T21:59:41.486Z"
   },
   {
    "duration": 15,
    "start_time": "2022-06-19T21:59:41.512Z"
   },
   {
    "duration": 15,
    "start_time": "2022-06-19T21:59:41.528Z"
   },
   {
    "duration": 20,
    "start_time": "2022-06-19T21:59:41.545Z"
   },
   {
    "duration": 12,
    "start_time": "2022-06-19T21:59:41.567Z"
   },
   {
    "duration": 3,
    "start_time": "2022-06-19T21:59:41.581Z"
   },
   {
    "duration": 12,
    "start_time": "2022-06-19T21:59:41.585Z"
   },
   {
    "duration": 11,
    "start_time": "2022-06-19T21:59:41.599Z"
   },
   {
    "duration": 10,
    "start_time": "2022-06-19T21:59:41.612Z"
   },
   {
    "duration": 14,
    "start_time": "2022-06-19T21:59:41.643Z"
   },
   {
    "duration": 36,
    "start_time": "2022-06-19T21:59:41.659Z"
   },
   {
    "duration": 10,
    "start_time": "2022-06-19T21:59:41.697Z"
   },
   {
    "duration": 4,
    "start_time": "2022-06-19T21:59:41.710Z"
   },
   {
    "duration": 37,
    "start_time": "2022-06-19T21:59:41.716Z"
   },
   {
    "duration": 9,
    "start_time": "2022-06-19T21:59:41.755Z"
   },
   {
    "duration": 3,
    "start_time": "2022-06-19T21:59:41.767Z"
   },
   {
    "duration": 13,
    "start_time": "2022-06-19T21:59:41.771Z"
   },
   {
    "duration": 2,
    "start_time": "2022-06-19T21:59:41.786Z"
   },
   {
    "duration": 19,
    "start_time": "2022-06-19T21:59:41.790Z"
   },
   {
    "duration": 43,
    "start_time": "2022-06-19T21:59:41.812Z"
   },
   {
    "duration": 10,
    "start_time": "2022-06-19T21:59:41.857Z"
   },
   {
    "duration": 12,
    "start_time": "2022-06-19T21:59:41.869Z"
   },
   {
    "duration": 19,
    "start_time": "2022-06-19T21:59:41.882Z"
   },
   {
    "duration": 53,
    "start_time": "2022-06-19T21:59:41.903Z"
   },
   {
    "duration": 20,
    "start_time": "2022-06-19T21:59:41.958Z"
   },
   {
    "duration": 38,
    "start_time": "2022-06-19T21:59:41.980Z"
   },
   {
    "duration": 56,
    "start_time": "2022-06-19T21:59:42.020Z"
   },
   {
    "duration": 3,
    "start_time": "2022-06-19T21:59:42.078Z"
   },
   {
    "duration": 16,
    "start_time": "2022-06-19T21:59:42.083Z"
   },
   {
    "duration": 280,
    "start_time": "2022-06-19T21:59:42.100Z"
   },
   {
    "duration": 6,
    "start_time": "2022-06-19T21:59:42.382Z"
   },
   {
    "duration": 8,
    "start_time": "2022-06-19T21:59:42.391Z"
   },
   {
    "duration": 6,
    "start_time": "2022-06-19T21:59:42.400Z"
   },
   {
    "duration": 8,
    "start_time": "2022-06-19T21:59:42.407Z"
   },
   {
    "duration": 4,
    "start_time": "2022-06-19T21:59:42.417Z"
   },
   {
    "duration": 42,
    "start_time": "2022-06-19T21:59:42.444Z"
   },
   {
    "duration": 15,
    "start_time": "2022-06-19T21:59:42.488Z"
   },
   {
    "duration": 24,
    "start_time": "2022-06-19T21:59:42.506Z"
   },
   {
    "duration": 21,
    "start_time": "2022-06-19T21:59:42.544Z"
   },
   {
    "duration": 29,
    "start_time": "2022-06-19T21:59:42.570Z"
   },
   {
    "duration": 5,
    "start_time": "2022-06-19T21:59:42.601Z"
   },
   {
    "duration": 11,
    "start_time": "2022-06-19T21:59:42.608Z"
   },
   {
    "duration": 10,
    "start_time": "2022-06-19T21:59:42.621Z"
   },
   {
    "duration": 24,
    "start_time": "2022-06-19T21:59:42.633Z"
   },
   {
    "duration": 4,
    "start_time": "2022-06-19T21:59:42.659Z"
   },
   {
    "duration": 7,
    "start_time": "2022-06-19T21:59:42.671Z"
   },
   {
    "duration": 24,
    "start_time": "2022-06-19T21:59:42.680Z"
   },
   {
    "duration": 6,
    "start_time": "2022-06-19T21:59:42.706Z"
   },
   {
    "duration": 19,
    "start_time": "2022-06-19T21:59:42.714Z"
   },
   {
    "duration": 17,
    "start_time": "2022-06-19T21:59:42.736Z"
   },
   {
    "duration": 6,
    "start_time": "2022-06-19T21:59:42.755Z"
   },
   {
    "duration": 9,
    "start_time": "2022-06-19T21:59:42.763Z"
   },
   {
    "duration": 18,
    "start_time": "2022-06-19T21:59:42.774Z"
   },
   {
    "duration": 337,
    "start_time": "2022-06-19T21:59:42.793Z"
   },
   {
    "duration": 2,
    "start_time": "2022-06-19T21:59:43.132Z"
   },
   {
    "duration": 21,
    "start_time": "2022-06-19T21:59:43.136Z"
   },
   {
    "duration": 18,
    "start_time": "2022-06-19T21:59:43.158Z"
   },
   {
    "duration": 14,
    "start_time": "2022-06-19T21:59:43.178Z"
   },
   {
    "duration": 3,
    "start_time": "2022-06-19T21:59:43.194Z"
   },
   {
    "duration": 14,
    "start_time": "2022-06-19T21:59:43.199Z"
   },
   {
    "duration": 5,
    "start_time": "2022-06-19T21:59:43.215Z"
   },
   {
    "duration": 10,
    "start_time": "2022-06-19T21:59:43.223Z"
   },
   {
    "duration": 5,
    "start_time": "2022-06-19T21:59:43.235Z"
   },
   {
    "duration": 6,
    "start_time": "2022-06-19T21:59:43.241Z"
   },
   {
    "duration": 23,
    "start_time": "2022-06-19T21:59:43.249Z"
   },
   {
    "duration": 6,
    "start_time": "2022-06-19T21:59:43.274Z"
   },
   {
    "duration": 13,
    "start_time": "2022-06-19T21:59:43.282Z"
   },
   {
    "duration": 8,
    "start_time": "2022-06-19T21:59:43.297Z"
   },
   {
    "duration": 12,
    "start_time": "2022-06-19T21:59:43.307Z"
   },
   {
    "duration": 6,
    "start_time": "2022-06-19T21:59:43.322Z"
   },
   {
    "duration": 25,
    "start_time": "2022-06-19T21:59:43.330Z"
   },
   {
    "duration": 4,
    "start_time": "2022-06-19T21:59:43.357Z"
   },
   {
    "duration": 18,
    "start_time": "2022-06-19T21:59:43.363Z"
   },
   {
    "duration": 23,
    "start_time": "2022-06-19T21:59:43.383Z"
   },
   {
    "duration": 12,
    "start_time": "2022-06-19T21:59:43.409Z"
   },
   {
    "duration": 20,
    "start_time": "2022-06-19T21:59:43.423Z"
   },
   {
    "duration": 7,
    "start_time": "2022-06-19T21:59:43.446Z"
   },
   {
    "duration": 14,
    "start_time": "2022-06-19T21:59:43.455Z"
   },
   {
    "duration": 5,
    "start_time": "2022-06-19T21:59:43.470Z"
   },
   {
    "duration": 17,
    "start_time": "2022-06-19T21:59:43.477Z"
   },
   {
    "duration": 6,
    "start_time": "2022-06-19T21:59:43.496Z"
   },
   {
    "duration": 21,
    "start_time": "2022-06-19T21:59:43.504Z"
   },
   {
    "duration": 66,
    "start_time": "2022-06-19T22:10:11.917Z"
   },
   {
    "duration": 38,
    "start_time": "2022-06-19T22:10:25.653Z"
   },
   {
    "duration": 7,
    "start_time": "2022-06-19T22:26:17.107Z"
   },
   {
    "duration": 11,
    "start_time": "2022-06-19T22:28:10.786Z"
   },
   {
    "duration": 12,
    "start_time": "2022-06-19T22:32:37.627Z"
   },
   {
    "duration": 14,
    "start_time": "2022-06-19T22:32:41.392Z"
   },
   {
    "duration": 397,
    "start_time": "2022-06-19T22:46:18.315Z"
   },
   {
    "duration": 158,
    "start_time": "2022-06-19T22:46:18.714Z"
   },
   {
    "duration": 11,
    "start_time": "2022-06-19T22:46:18.874Z"
   },
   {
    "duration": 3,
    "start_time": "2022-06-19T22:46:18.887Z"
   },
   {
    "duration": 13,
    "start_time": "2022-06-19T22:46:18.891Z"
   },
   {
    "duration": 16,
    "start_time": "2022-06-19T22:46:18.905Z"
   },
   {
    "duration": 17,
    "start_time": "2022-06-19T22:46:18.922Z"
   },
   {
    "duration": 35,
    "start_time": "2022-06-19T22:46:18.940Z"
   },
   {
    "duration": 19,
    "start_time": "2022-06-19T22:46:18.976Z"
   },
   {
    "duration": 12,
    "start_time": "2022-06-19T22:46:18.997Z"
   },
   {
    "duration": 9,
    "start_time": "2022-06-19T22:46:19.010Z"
   },
   {
    "duration": 34,
    "start_time": "2022-06-19T22:46:19.021Z"
   },
   {
    "duration": 6,
    "start_time": "2022-06-19T22:46:19.056Z"
   },
   {
    "duration": 6,
    "start_time": "2022-06-19T22:46:19.063Z"
   },
   {
    "duration": 13,
    "start_time": "2022-06-19T22:46:19.070Z"
   },
   {
    "duration": 7,
    "start_time": "2022-06-19T22:46:19.084Z"
   },
   {
    "duration": 15,
    "start_time": "2022-06-19T22:46:19.092Z"
   },
   {
    "duration": 6,
    "start_time": "2022-06-19T22:46:19.109Z"
   },
   {
    "duration": 7,
    "start_time": "2022-06-19T22:46:19.117Z"
   },
   {
    "duration": 13,
    "start_time": "2022-06-19T22:46:19.125Z"
   },
   {
    "duration": 17,
    "start_time": "2022-06-19T22:46:19.139Z"
   },
   {
    "duration": 2,
    "start_time": "2022-06-19T22:46:19.158Z"
   },
   {
    "duration": 14,
    "start_time": "2022-06-19T22:46:19.162Z"
   },
   {
    "duration": 29,
    "start_time": "2022-06-19T22:46:19.177Z"
   },
   {
    "duration": 2,
    "start_time": "2022-06-19T22:46:19.208Z"
   },
   {
    "duration": 5,
    "start_time": "2022-06-19T22:46:19.212Z"
   },
   {
    "duration": 3,
    "start_time": "2022-06-19T22:46:19.219Z"
   },
   {
    "duration": 12,
    "start_time": "2022-06-19T22:46:19.252Z"
   },
   {
    "duration": 11,
    "start_time": "2022-06-19T22:46:19.266Z"
   },
   {
    "duration": 5,
    "start_time": "2022-06-19T22:46:19.279Z"
   },
   {
    "duration": 9,
    "start_time": "2022-06-19T22:46:19.286Z"
   },
   {
    "duration": 4,
    "start_time": "2022-06-19T22:46:19.297Z"
   },
   {
    "duration": 6,
    "start_time": "2022-06-19T22:46:19.303Z"
   },
   {
    "duration": 56,
    "start_time": "2022-06-19T22:46:19.311Z"
   },
   {
    "duration": 19,
    "start_time": "2022-06-19T22:46:19.368Z"
   },
   {
    "duration": 15,
    "start_time": "2022-06-19T22:46:19.388Z"
   },
   {
    "duration": 2,
    "start_time": "2022-06-19T22:46:19.404Z"
   },
   {
    "duration": 13,
    "start_time": "2022-06-19T22:46:19.408Z"
   },
   {
    "duration": 7,
    "start_time": "2022-06-19T22:46:19.422Z"
   },
   {
    "duration": 2,
    "start_time": "2022-06-19T22:46:19.431Z"
   },
   {
    "duration": 3,
    "start_time": "2022-06-19T22:46:19.452Z"
   },
   {
    "duration": 9,
    "start_time": "2022-06-19T22:46:19.457Z"
   },
   {
    "duration": 5,
    "start_time": "2022-06-19T22:46:19.467Z"
   },
   {
    "duration": 9,
    "start_time": "2022-06-19T22:46:19.473Z"
   },
   {
    "duration": 7,
    "start_time": "2022-06-19T22:46:19.483Z"
   },
   {
    "duration": 10,
    "start_time": "2022-06-19T22:46:19.491Z"
   },
   {
    "duration": 9,
    "start_time": "2022-06-19T22:46:19.502Z"
   },
   {
    "duration": 3,
    "start_time": "2022-06-19T22:46:19.512Z"
   },
   {
    "duration": 11,
    "start_time": "2022-06-19T22:46:19.516Z"
   },
   {
    "duration": 2,
    "start_time": "2022-06-19T22:46:19.528Z"
   },
   {
    "duration": 22,
    "start_time": "2022-06-19T22:46:19.531Z"
   },
   {
    "duration": 9,
    "start_time": "2022-06-19T22:46:19.554Z"
   },
   {
    "duration": 3,
    "start_time": "2022-06-19T22:46:19.565Z"
   },
   {
    "duration": 9,
    "start_time": "2022-06-19T22:46:19.569Z"
   },
   {
    "duration": 4,
    "start_time": "2022-06-19T22:46:19.580Z"
   },
   {
    "duration": 11,
    "start_time": "2022-06-19T22:46:19.585Z"
   },
   {
    "duration": 2,
    "start_time": "2022-06-19T22:46:19.597Z"
   },
   {
    "duration": 8,
    "start_time": "2022-06-19T22:46:19.600Z"
   },
   {
    "duration": 7,
    "start_time": "2022-06-19T22:46:19.609Z"
   },
   {
    "duration": 4,
    "start_time": "2022-06-19T22:46:19.617Z"
   },
   {
    "duration": 31,
    "start_time": "2022-06-19T22:46:19.622Z"
   },
   {
    "duration": 4,
    "start_time": "2022-06-19T22:46:19.654Z"
   },
   {
    "duration": 10,
    "start_time": "2022-06-19T22:46:19.659Z"
   },
   {
    "duration": 5,
    "start_time": "2022-06-19T22:46:19.671Z"
   },
   {
    "duration": 16,
    "start_time": "2022-06-19T22:46:19.677Z"
   },
   {
    "duration": 12,
    "start_time": "2022-06-19T22:46:19.694Z"
   },
   {
    "duration": 9,
    "start_time": "2022-06-19T22:46:19.707Z"
   },
   {
    "duration": 9,
    "start_time": "2022-06-19T22:46:19.717Z"
   },
   {
    "duration": 6,
    "start_time": "2022-06-19T22:46:19.727Z"
   },
   {
    "duration": 10,
    "start_time": "2022-06-19T22:46:19.735Z"
   },
   {
    "duration": 11,
    "start_time": "2022-06-19T22:46:19.746Z"
   },
   {
    "duration": 7,
    "start_time": "2022-06-19T22:46:19.758Z"
   },
   {
    "duration": 8,
    "start_time": "2022-06-19T22:46:19.766Z"
   },
   {
    "duration": 4,
    "start_time": "2022-06-19T22:46:19.776Z"
   },
   {
    "duration": 9,
    "start_time": "2022-06-19T22:46:19.781Z"
   },
   {
    "duration": 4,
    "start_time": "2022-06-19T22:46:19.791Z"
   },
   {
    "duration": 4,
    "start_time": "2022-06-19T22:46:19.796Z"
   },
   {
    "duration": 6,
    "start_time": "2022-06-19T22:46:19.802Z"
   },
   {
    "duration": 4,
    "start_time": "2022-06-19T22:46:19.809Z"
   },
   {
    "duration": 22,
    "start_time": "2022-06-19T22:46:19.814Z"
   },
   {
    "duration": 16,
    "start_time": "2022-06-19T22:46:19.837Z"
   },
   {
    "duration": 14,
    "start_time": "2022-06-19T22:46:19.859Z"
   },
   {
    "duration": 2,
    "start_time": "2022-06-19T22:46:19.874Z"
   },
   {
    "duration": 7,
    "start_time": "2022-06-19T22:46:19.877Z"
   },
   {
    "duration": 4,
    "start_time": "2022-06-19T22:46:19.886Z"
   },
   {
    "duration": 7,
    "start_time": "2022-06-19T22:46:19.891Z"
   },
   {
    "duration": 19,
    "start_time": "2022-06-19T22:46:19.900Z"
   },
   {
    "duration": 9,
    "start_time": "2022-06-19T22:46:19.920Z"
   },
   {
    "duration": 2,
    "start_time": "2022-06-19T22:46:19.952Z"
   },
   {
    "duration": 12,
    "start_time": "2022-06-19T22:46:19.955Z"
   },
   {
    "duration": 7,
    "start_time": "2022-06-19T22:46:19.968Z"
   },
   {
    "duration": 2,
    "start_time": "2022-06-19T22:46:19.976Z"
   },
   {
    "duration": 5,
    "start_time": "2022-06-19T22:46:19.979Z"
   },
   {
    "duration": 5,
    "start_time": "2022-06-19T22:46:19.986Z"
   },
   {
    "duration": 7,
    "start_time": "2022-06-19T22:46:19.992Z"
   },
   {
    "duration": 10,
    "start_time": "2022-06-19T22:46:20.000Z"
   },
   {
    "duration": 12,
    "start_time": "2022-06-19T22:46:20.011Z"
   },
   {
    "duration": 7,
    "start_time": "2022-06-19T22:46:20.051Z"
   },
   {
    "duration": 6,
    "start_time": "2022-06-19T22:46:20.059Z"
   },
   {
    "duration": 22,
    "start_time": "2022-06-19T22:46:20.066Z"
   },
   {
    "duration": 9,
    "start_time": "2022-06-19T22:46:20.089Z"
   },
   {
    "duration": 7,
    "start_time": "2022-06-19T22:46:20.100Z"
   },
   {
    "duration": 11,
    "start_time": "2022-06-19T22:46:20.108Z"
   },
   {
    "duration": 3,
    "start_time": "2022-06-19T22:46:20.120Z"
   },
   {
    "duration": 8,
    "start_time": "2022-06-19T22:46:20.152Z"
   },
   {
    "duration": 14,
    "start_time": "2022-06-19T22:46:20.162Z"
   },
   {
    "duration": 9,
    "start_time": "2022-06-19T22:46:20.178Z"
   },
   {
    "duration": 5,
    "start_time": "2022-06-19T22:46:20.188Z"
   },
   {
    "duration": 15,
    "start_time": "2022-06-19T22:46:20.194Z"
   },
   {
    "duration": 43,
    "start_time": "2022-06-19T22:46:20.211Z"
   },
   {
    "duration": 12,
    "start_time": "2022-06-19T22:46:20.255Z"
   },
   {
    "duration": 28,
    "start_time": "2022-06-19T22:46:20.268Z"
   },
   {
    "duration": 20,
    "start_time": "2022-06-19T22:46:20.298Z"
   },
   {
    "duration": 2,
    "start_time": "2022-06-19T22:46:20.319Z"
   },
   {
    "duration": 10,
    "start_time": "2022-06-19T22:46:20.351Z"
   },
   {
    "duration": 195,
    "start_time": "2022-06-19T22:46:20.363Z"
   },
   {
    "duration": 4,
    "start_time": "2022-06-19T22:46:20.560Z"
   },
   {
    "duration": 8,
    "start_time": "2022-06-19T22:46:20.565Z"
   },
   {
    "duration": 10,
    "start_time": "2022-06-19T22:46:20.575Z"
   },
   {
    "duration": 24,
    "start_time": "2022-06-19T22:46:20.586Z"
   },
   {
    "duration": 7,
    "start_time": "2022-06-19T22:46:20.611Z"
   },
   {
    "duration": 35,
    "start_time": "2022-06-19T22:46:20.619Z"
   },
   {
    "duration": 8,
    "start_time": "2022-06-19T22:46:20.656Z"
   },
   {
    "duration": 12,
    "start_time": "2022-06-19T22:46:20.665Z"
   },
   {
    "duration": 2,
    "start_time": "2022-06-19T22:46:20.678Z"
   },
   {
    "duration": 16,
    "start_time": "2022-06-19T22:46:20.682Z"
   },
   {
    "duration": 11,
    "start_time": "2022-06-19T22:46:20.700Z"
   },
   {
    "duration": 7,
    "start_time": "2022-06-19T22:46:20.713Z"
   },
   {
    "duration": 8,
    "start_time": "2022-06-19T22:46:20.721Z"
   },
   {
    "duration": 8,
    "start_time": "2022-06-19T22:46:20.731Z"
   },
   {
    "duration": 2,
    "start_time": "2022-06-19T22:46:20.741Z"
   },
   {
    "duration": 10,
    "start_time": "2022-06-19T22:46:20.744Z"
   },
   {
    "duration": 6,
    "start_time": "2022-06-19T22:46:20.755Z"
   },
   {
    "duration": 12,
    "start_time": "2022-06-19T22:46:20.762Z"
   },
   {
    "duration": 5,
    "start_time": "2022-06-19T22:46:20.775Z"
   },
   {
    "duration": 10,
    "start_time": "2022-06-19T22:46:20.782Z"
   },
   {
    "duration": 3,
    "start_time": "2022-06-19T22:46:20.793Z"
   },
   {
    "duration": 12,
    "start_time": "2022-06-19T22:46:20.797Z"
   },
   {
    "duration": 7,
    "start_time": "2022-06-19T22:46:20.810Z"
   },
   {
    "duration": 239,
    "start_time": "2022-06-19T22:46:20.818Z"
   },
   {
    "duration": 2,
    "start_time": "2022-06-19T22:46:21.059Z"
   },
   {
    "duration": 5,
    "start_time": "2022-06-19T22:46:21.063Z"
   },
   {
    "duration": 5,
    "start_time": "2022-06-19T22:46:21.069Z"
   },
   {
    "duration": 43,
    "start_time": "2022-06-19T22:46:21.075Z"
   },
   {
    "duration": 3,
    "start_time": "2022-06-19T22:46:21.119Z"
   },
   {
    "duration": 12,
    "start_time": "2022-06-19T22:46:21.123Z"
   },
   {
    "duration": 15,
    "start_time": "2022-06-19T22:46:21.137Z"
   },
   {
    "duration": 7,
    "start_time": "2022-06-19T22:46:21.154Z"
   },
   {
    "duration": 4,
    "start_time": "2022-06-19T22:46:21.162Z"
   },
   {
    "duration": 4,
    "start_time": "2022-06-19T22:46:21.167Z"
   },
   {
    "duration": 17,
    "start_time": "2022-06-19T22:46:21.173Z"
   },
   {
    "duration": 5,
    "start_time": "2022-06-19T22:46:21.192Z"
   },
   {
    "duration": 10,
    "start_time": "2022-06-19T22:46:21.199Z"
   },
   {
    "duration": 6,
    "start_time": "2022-06-19T22:46:21.210Z"
   },
   {
    "duration": 9,
    "start_time": "2022-06-19T22:46:21.217Z"
   },
   {
    "duration": 25,
    "start_time": "2022-06-19T22:46:21.227Z"
   },
   {
    "duration": 13,
    "start_time": "2022-06-19T22:46:21.253Z"
   },
   {
    "duration": 2,
    "start_time": "2022-06-19T22:46:21.268Z"
   },
   {
    "duration": 6,
    "start_time": "2022-06-19T22:46:21.271Z"
   },
   {
    "duration": 11,
    "start_time": "2022-06-19T22:46:21.278Z"
   },
   {
    "duration": 4,
    "start_time": "2022-06-19T22:46:21.290Z"
   },
   {
    "duration": 15,
    "start_time": "2022-06-19T22:46:21.295Z"
   },
   {
    "duration": 3,
    "start_time": "2022-06-19T22:46:21.311Z"
   },
   {
    "duration": 8,
    "start_time": "2022-06-19T22:46:21.316Z"
   },
   {
    "duration": 26,
    "start_time": "2022-06-19T22:46:21.326Z"
   },
   {
    "duration": 12,
    "start_time": "2022-06-19T22:46:21.353Z"
   },
   {
    "duration": 3,
    "start_time": "2022-06-19T22:46:21.367Z"
   },
   {
    "duration": 8,
    "start_time": "2022-06-19T22:46:21.372Z"
   },
   {
    "duration": 221,
    "start_time": "2022-06-19T22:57:19.383Z"
   },
   {
    "duration": 44,
    "start_time": "2022-06-19T22:57:39.122Z"
   },
   {
    "duration": 114,
    "start_time": "2022-06-19T23:01:55.484Z"
   },
   {
    "duration": 63,
    "start_time": "2022-06-19T23:03:30.873Z"
   },
   {
    "duration": 5,
    "start_time": "2022-06-19T23:03:35.117Z"
   },
   {
    "duration": 5,
    "start_time": "2022-06-19T23:03:51.392Z"
   },
   {
    "duration": 15,
    "start_time": "2022-06-19T23:03:54.016Z"
   },
   {
    "duration": 5,
    "start_time": "2022-06-19T23:04:16.278Z"
   },
   {
    "duration": 70,
    "start_time": "2022-06-27T00:58:30.657Z"
   },
   {
    "duration": 399,
    "start_time": "2022-06-27T00:58:40.973Z"
   },
   {
    "duration": 147,
    "start_time": "2022-06-27T00:58:41.376Z"
   },
   {
    "duration": 15,
    "start_time": "2022-06-27T00:58:41.525Z"
   },
   {
    "duration": 8,
    "start_time": "2022-06-27T00:58:41.542Z"
   },
   {
    "duration": 30,
    "start_time": "2022-06-27T00:58:41.552Z"
   },
   {
    "duration": 16,
    "start_time": "2022-06-27T00:58:41.583Z"
   },
   {
    "duration": 28,
    "start_time": "2022-06-27T00:58:41.601Z"
   },
   {
    "duration": 34,
    "start_time": "2022-06-27T00:58:41.630Z"
   },
   {
    "duration": 14,
    "start_time": "2022-06-27T00:58:41.668Z"
   },
   {
    "duration": 13,
    "start_time": "2022-06-27T00:58:41.685Z"
   },
   {
    "duration": 6,
    "start_time": "2022-06-27T00:58:41.700Z"
   },
   {
    "duration": 4,
    "start_time": "2022-06-27T00:58:41.708Z"
   },
   {
    "duration": 5,
    "start_time": "2022-06-27T00:58:41.714Z"
   },
   {
    "duration": 32,
    "start_time": "2022-06-27T00:58:41.721Z"
   },
   {
    "duration": 11,
    "start_time": "2022-06-27T00:58:41.755Z"
   },
   {
    "duration": 11,
    "start_time": "2022-06-27T00:58:41.769Z"
   },
   {
    "duration": 52,
    "start_time": "2022-06-27T00:58:41.782Z"
   },
   {
    "duration": 57,
    "start_time": "2022-06-27T00:58:46.026Z"
   },
   {
    "duration": 8,
    "start_time": "2022-06-27T00:59:00.738Z"
   },
   {
    "duration": 427,
    "start_time": "2022-07-05T21:05:14.680Z"
   },
   {
    "duration": 138,
    "start_time": "2022-07-05T21:05:15.109Z"
   },
   {
    "duration": 17,
    "start_time": "2022-07-05T21:05:15.249Z"
   },
   {
    "duration": 12,
    "start_time": "2022-07-05T21:05:15.269Z"
   },
   {
    "duration": 28,
    "start_time": "2022-07-05T21:05:15.283Z"
   },
   {
    "duration": 22,
    "start_time": "2022-07-05T21:05:15.312Z"
   },
   {
    "duration": 65,
    "start_time": "2022-07-05T21:05:15.336Z"
   },
   {
    "duration": 19,
    "start_time": "2022-07-05T21:05:15.403Z"
   },
   {
    "duration": 10,
    "start_time": "2022-07-05T21:05:15.423Z"
   },
   {
    "duration": 9,
    "start_time": "2022-07-05T21:05:15.436Z"
   },
   {
    "duration": 9,
    "start_time": "2022-07-05T21:05:15.446Z"
   },
   {
    "duration": 10,
    "start_time": "2022-07-05T21:05:15.456Z"
   },
   {
    "duration": 9,
    "start_time": "2022-07-05T21:05:15.468Z"
   },
   {
    "duration": 31,
    "start_time": "2022-07-05T21:05:15.478Z"
   },
   {
    "duration": 6,
    "start_time": "2022-07-05T21:05:15.511Z"
   },
   {
    "duration": 7,
    "start_time": "2022-07-05T21:05:15.519Z"
   },
   {
    "duration": 9,
    "start_time": "2022-07-05T21:05:15.527Z"
   },
   {
    "duration": 14,
    "start_time": "2022-07-05T21:05:15.538Z"
   },
   {
    "duration": 5,
    "start_time": "2022-07-05T21:05:15.554Z"
   },
   {
    "duration": 44,
    "start_time": "2022-07-05T21:05:15.560Z"
   },
   {
    "duration": 6,
    "start_time": "2022-07-05T21:05:15.605Z"
   },
   {
    "duration": 7,
    "start_time": "2022-07-05T21:05:15.612Z"
   },
   {
    "duration": 20,
    "start_time": "2022-07-05T21:05:15.621Z"
   },
   {
    "duration": 16,
    "start_time": "2022-07-05T21:05:15.643Z"
   },
   {
    "duration": 41,
    "start_time": "2022-07-05T21:05:15.660Z"
   },
   {
    "duration": 2,
    "start_time": "2022-07-05T21:05:15.703Z"
   },
   {
    "duration": 9,
    "start_time": "2022-07-05T21:05:15.707Z"
   },
   {
    "duration": 11,
    "start_time": "2022-07-05T21:05:15.720Z"
   },
   {
    "duration": 9,
    "start_time": "2022-07-05T21:05:15.733Z"
   },
   {
    "duration": 6,
    "start_time": "2022-07-05T21:05:15.743Z"
   },
   {
    "duration": 8,
    "start_time": "2022-07-05T21:05:15.751Z"
   },
   {
    "duration": 4,
    "start_time": "2022-07-05T21:05:15.761Z"
   },
   {
    "duration": 8,
    "start_time": "2022-07-05T21:05:15.766Z"
   },
   {
    "duration": 4,
    "start_time": "2022-07-05T21:05:15.776Z"
   },
   {
    "duration": 23,
    "start_time": "2022-07-05T21:05:15.782Z"
   },
   {
    "duration": 9,
    "start_time": "2022-07-05T21:05:15.806Z"
   },
   {
    "duration": 3,
    "start_time": "2022-07-05T21:05:15.817Z"
   },
   {
    "duration": 12,
    "start_time": "2022-07-05T21:05:15.822Z"
   },
   {
    "duration": 3,
    "start_time": "2022-07-05T21:05:15.836Z"
   },
   {
    "duration": 8,
    "start_time": "2022-07-05T21:05:15.840Z"
   },
   {
    "duration": 13,
    "start_time": "2022-07-05T21:05:15.849Z"
   },
   {
    "duration": 4,
    "start_time": "2022-07-05T21:05:15.863Z"
   },
   {
    "duration": 40,
    "start_time": "2022-07-05T21:05:15.869Z"
   },
   {
    "duration": 4,
    "start_time": "2022-07-05T21:05:15.911Z"
   },
   {
    "duration": 12,
    "start_time": "2022-07-05T21:05:15.916Z"
   },
   {
    "duration": 3,
    "start_time": "2022-07-05T21:05:15.929Z"
   },
   {
    "duration": 8,
    "start_time": "2022-07-05T21:05:15.933Z"
   },
   {
    "duration": 6,
    "start_time": "2022-07-05T21:05:15.942Z"
   },
   {
    "duration": 6,
    "start_time": "2022-07-05T21:05:15.949Z"
   },
   {
    "duration": 7,
    "start_time": "2022-07-05T21:05:15.956Z"
   },
   {
    "duration": 10,
    "start_time": "2022-07-05T21:05:15.964Z"
   },
   {
    "duration": 26,
    "start_time": "2022-07-05T21:05:15.975Z"
   },
   {
    "duration": 8,
    "start_time": "2022-07-05T21:05:16.003Z"
   },
   {
    "duration": 8,
    "start_time": "2022-07-05T21:05:16.012Z"
   },
   {
    "duration": 11,
    "start_time": "2022-07-05T21:05:16.021Z"
   },
   {
    "duration": 6,
    "start_time": "2022-07-05T21:05:16.034Z"
   },
   {
    "duration": 6,
    "start_time": "2022-07-05T21:05:16.042Z"
   },
   {
    "duration": 13,
    "start_time": "2022-07-05T21:05:16.050Z"
   },
   {
    "duration": 10,
    "start_time": "2022-07-05T21:05:16.065Z"
   },
   {
    "duration": 26,
    "start_time": "2022-07-05T21:05:16.077Z"
   },
   {
    "duration": 4,
    "start_time": "2022-07-05T21:05:16.105Z"
   },
   {
    "duration": 16,
    "start_time": "2022-07-05T21:05:16.111Z"
   },
   {
    "duration": 11,
    "start_time": "2022-07-05T21:05:16.129Z"
   },
   {
    "duration": 4,
    "start_time": "2022-07-05T21:05:16.142Z"
   },
   {
    "duration": 9,
    "start_time": "2022-07-05T21:05:16.147Z"
   },
   {
    "duration": 9,
    "start_time": "2022-07-05T21:05:16.158Z"
   },
   {
    "duration": 9,
    "start_time": "2022-07-05T21:05:16.168Z"
   },
   {
    "duration": 22,
    "start_time": "2022-07-05T21:05:16.179Z"
   },
   {
    "duration": 15,
    "start_time": "2022-07-05T21:05:16.202Z"
   },
   {
    "duration": 2,
    "start_time": "2022-07-05T21:05:16.218Z"
   },
   {
    "duration": 17,
    "start_time": "2022-07-05T21:05:16.222Z"
   },
   {
    "duration": 6,
    "start_time": "2022-07-05T21:05:16.240Z"
   },
   {
    "duration": 8,
    "start_time": "2022-07-05T21:05:16.247Z"
   },
   {
    "duration": 15,
    "start_time": "2022-07-05T21:05:16.257Z"
   },
   {
    "duration": 10,
    "start_time": "2022-07-05T21:05:16.274Z"
   },
   {
    "duration": 14,
    "start_time": "2022-07-05T21:05:16.286Z"
   },
   {
    "duration": 12,
    "start_time": "2022-07-05T21:05:16.302Z"
   },
   {
    "duration": 7,
    "start_time": "2022-07-05T21:05:16.315Z"
   },
   {
    "duration": 3,
    "start_time": "2022-07-05T21:05:16.323Z"
   },
   {
    "duration": 5,
    "start_time": "2022-07-05T21:05:16.327Z"
   },
   {
    "duration": 6,
    "start_time": "2022-07-05T21:05:16.334Z"
   },
   {
    "duration": 2,
    "start_time": "2022-07-05T21:05:16.345Z"
   },
   {
    "duration": 12,
    "start_time": "2022-07-05T21:05:16.349Z"
   },
   {
    "duration": 39,
    "start_time": "2022-07-05T21:05:16.362Z"
   },
   {
    "duration": 7,
    "start_time": "2022-07-05T21:05:16.403Z"
   },
   {
    "duration": 8,
    "start_time": "2022-07-05T21:05:16.411Z"
   },
   {
    "duration": 28,
    "start_time": "2022-07-05T21:05:16.421Z"
   },
   {
    "duration": 9,
    "start_time": "2022-07-05T21:05:16.450Z"
   },
   {
    "duration": 4,
    "start_time": "2022-07-05T21:05:16.460Z"
   },
   {
    "duration": 12,
    "start_time": "2022-07-05T21:05:16.465Z"
   },
   {
    "duration": 4,
    "start_time": "2022-07-05T21:05:16.501Z"
   },
   {
    "duration": 13,
    "start_time": "2022-07-05T21:05:16.506Z"
   },
   {
    "duration": 16,
    "start_time": "2022-07-05T21:05:16.520Z"
   },
   {
    "duration": 10,
    "start_time": "2022-07-05T21:05:16.537Z"
   },
   {
    "duration": 5,
    "start_time": "2022-07-05T21:05:16.549Z"
   },
   {
    "duration": 15,
    "start_time": "2022-07-05T21:05:16.556Z"
   },
   {
    "duration": 41,
    "start_time": "2022-07-05T21:05:16.572Z"
   },
   {
    "duration": 11,
    "start_time": "2022-07-05T21:05:16.614Z"
   },
   {
    "duration": 33,
    "start_time": "2022-07-05T21:05:16.627Z"
   },
   {
    "duration": 22,
    "start_time": "2022-07-05T21:05:16.661Z"
   },
   {
    "duration": 2,
    "start_time": "2022-07-05T21:05:16.701Z"
   },
   {
    "duration": 17,
    "start_time": "2022-07-05T21:05:16.705Z"
   },
   {
    "duration": 207,
    "start_time": "2022-07-05T21:05:16.723Z"
   },
   {
    "duration": 5,
    "start_time": "2022-07-05T21:05:16.932Z"
   },
   {
    "duration": 11,
    "start_time": "2022-07-05T21:05:16.938Z"
   },
   {
    "duration": 8,
    "start_time": "2022-07-05T21:05:16.950Z"
   },
   {
    "duration": 10,
    "start_time": "2022-07-05T21:05:16.960Z"
   },
   {
    "duration": 3,
    "start_time": "2022-07-05T21:05:16.971Z"
   },
   {
    "duration": 33,
    "start_time": "2022-07-05T21:05:16.976Z"
   },
   {
    "duration": 9,
    "start_time": "2022-07-05T21:05:17.010Z"
   },
   {
    "duration": 10,
    "start_time": "2022-07-05T21:05:17.020Z"
   },
   {
    "duration": 2,
    "start_time": "2022-07-05T21:05:17.032Z"
   },
   {
    "duration": 14,
    "start_time": "2022-07-05T21:05:17.036Z"
   },
   {
    "duration": 8,
    "start_time": "2022-07-05T21:05:17.052Z"
   },
   {
    "duration": 13,
    "start_time": "2022-07-05T21:05:17.062Z"
   },
   {
    "duration": 6,
    "start_time": "2022-07-05T21:05:17.076Z"
   },
   {
    "duration": 22,
    "start_time": "2022-07-05T21:05:17.083Z"
   },
   {
    "duration": 2,
    "start_time": "2022-07-05T21:05:17.106Z"
   },
   {
    "duration": 7,
    "start_time": "2022-07-05T21:05:17.110Z"
   },
   {
    "duration": 6,
    "start_time": "2022-07-05T21:05:17.118Z"
   },
   {
    "duration": 5,
    "start_time": "2022-07-05T21:05:17.125Z"
   },
   {
    "duration": 5,
    "start_time": "2022-07-05T21:05:17.132Z"
   },
   {
    "duration": 11,
    "start_time": "2022-07-05T21:05:17.139Z"
   },
   {
    "duration": 5,
    "start_time": "2022-07-05T21:05:17.152Z"
   },
   {
    "duration": 6,
    "start_time": "2022-07-05T21:05:17.158Z"
   },
   {
    "duration": 5,
    "start_time": "2022-07-05T21:05:17.165Z"
   },
   {
    "duration": 280,
    "start_time": "2022-07-05T21:05:17.172Z"
   },
   {
    "duration": 3,
    "start_time": "2022-07-05T21:05:17.453Z"
   },
   {
    "duration": 10,
    "start_time": "2022-07-05T21:05:17.458Z"
   },
   {
    "duration": 12,
    "start_time": "2022-07-05T21:05:17.470Z"
   },
   {
    "duration": 16,
    "start_time": "2022-07-05T21:05:17.484Z"
   },
   {
    "duration": 4,
    "start_time": "2022-07-05T21:05:17.501Z"
   },
   {
    "duration": 13,
    "start_time": "2022-07-05T21:05:17.506Z"
   },
   {
    "duration": 5,
    "start_time": "2022-07-05T21:05:17.520Z"
   },
   {
    "duration": 13,
    "start_time": "2022-07-05T21:05:17.526Z"
   },
   {
    "duration": 5,
    "start_time": "2022-07-05T21:05:17.540Z"
   },
   {
    "duration": 6,
    "start_time": "2022-07-05T21:05:17.546Z"
   },
   {
    "duration": 19,
    "start_time": "2022-07-05T21:05:17.554Z"
   },
   {
    "duration": 4,
    "start_time": "2022-07-05T21:05:17.575Z"
   },
   {
    "duration": 20,
    "start_time": "2022-07-05T21:05:17.581Z"
   },
   {
    "duration": 4,
    "start_time": "2022-07-05T21:05:17.603Z"
   },
   {
    "duration": 13,
    "start_time": "2022-07-05T21:05:17.608Z"
   },
   {
    "duration": 6,
    "start_time": "2022-07-05T21:05:17.622Z"
   },
   {
    "duration": 14,
    "start_time": "2022-07-05T21:05:17.630Z"
   },
   {
    "duration": 3,
    "start_time": "2022-07-05T21:05:17.645Z"
   },
   {
    "duration": 6,
    "start_time": "2022-07-05T21:05:17.649Z"
   },
   {
    "duration": 11,
    "start_time": "2022-07-05T21:05:17.656Z"
   },
   {
    "duration": 5,
    "start_time": "2022-07-05T21:05:17.668Z"
   },
   {
    "duration": 66,
    "start_time": "2022-07-05T21:05:17.674Z"
   },
   {
    "duration": 4,
    "start_time": "2022-07-05T21:05:17.741Z"
   },
   {
    "duration": 11,
    "start_time": "2022-07-05T21:05:17.746Z"
   },
   {
    "duration": 3,
    "start_time": "2022-07-05T21:05:17.760Z"
   },
   {
    "duration": 17,
    "start_time": "2022-07-05T21:05:17.765Z"
   },
   {
    "duration": 4,
    "start_time": "2022-07-05T21:05:17.783Z"
   },
   {
    "duration": 23,
    "start_time": "2022-07-05T21:05:17.788Z"
   },
   {
    "duration": 78,
    "start_time": "2022-07-05T21:06:40.864Z"
   }
  ],
  "kernelspec": {
   "display_name": "Python 3 (ipykernel)",
   "language": "python",
   "name": "python3"
  },
  "language_info": {
   "codemirror_mode": {
    "name": "ipython",
    "version": 3
   },
   "file_extension": ".py",
   "mimetype": "text/x-python",
   "name": "python",
   "nbconvert_exporter": "python",
   "pygments_lexer": "ipython3",
   "version": "3.9.5"
  },
  "toc": {
   "base_numbering": 1,
   "nav_menu": {},
   "number_sections": true,
   "sideBar": true,
   "skip_h1_title": true,
   "title_cell": "Table of Contents",
   "title_sidebar": "Contents",
   "toc_cell": false,
   "toc_position": {},
   "toc_section_display": true,
   "toc_window_display": false
  }
 },
 "nbformat": 4,
 "nbformat_minor": 2
}
