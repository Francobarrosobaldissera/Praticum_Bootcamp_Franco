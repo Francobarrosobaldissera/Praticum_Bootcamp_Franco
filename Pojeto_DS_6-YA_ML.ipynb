{
 "cells": [
  {
   "cell_type": "markdown",
   "metadata": {},
   "source": [
    "## Importando os dados"
   ]
  },
  {
   "cell_type": "markdown",
   "metadata": {},
   "source": [
    "    O objetivo deste projeto é desenvolver um modelo que possa analisar o comportamento do cliente e recomendar um dos planos mais recentes da Megaline: Smart ou Ultra.\n",
    "     Para tanto, vamos realizar uma tarefa de classificação, e desenvolver um modelo que escolherá o plano certo, e  com a maior acurácia possível. \n",
    "    Para iniciar temos acesso a dados de comportamento dos assinantes que já mudaram para os novos planos. Para esta tarefa de classificação precisamos desenvolver um modelo que escolherá o plano certo. e com a maior acurácia possível, definido em 0,75. "
   ]
  },
  {
   "cell_type": "code",
   "execution_count": 1,
   "metadata": {},
   "outputs": [],
   "source": [
    "import pandas as pd \n",
    "import scipy.stats  as spt \n",
    "import seaborn as sns\n",
    "import matplotlib as mplt\n",
    "import matplotlib.pyplot as plt\n",
    "import seaborn as sns\n",
    "import  plotly.express as px\n",
    "import pandas as pd\n",
    "from sklearn.tree import DecisionTreeClassifier\n",
    "from sklearn.metrics import accuracy_score\n",
    "from sklearn.model_selection import train_test_split\n",
    "from sklearn.ensemble import RandomForestClassifier\n",
    "from sklearn.ensemble import RandomForestRegressor\n",
    "from sklearn.linear_model import LogisticRegression\n",
    "from sklearn.metrics import mean_squared_error\n"
   ]
  },
  {
   "cell_type": "code",
   "execution_count": 2,
   "metadata": {},
   "outputs": [],
   "source": [
    "df= pd.read_csv('/datasets/users_behavior_upd.csv')"
   ]
  },
  {
   "cell_type": "code",
   "execution_count": 3,
   "metadata": {
    "scrolled": false
   },
   "outputs": [
    {
     "data": {
      "text/html": [
       "<div>\n",
       "<style scoped>\n",
       "    .dataframe tbody tr th:only-of-type {\n",
       "        vertical-align: middle;\n",
       "    }\n",
       "\n",
       "    .dataframe tbody tr th {\n",
       "        vertical-align: top;\n",
       "    }\n",
       "\n",
       "    .dataframe thead th {\n",
       "        text-align: right;\n",
       "    }\n",
       "</style>\n",
       "<table border=\"1\" class=\"dataframe\">\n",
       "  <thead>\n",
       "    <tr style=\"text-align: right;\">\n",
       "      <th></th>\n",
       "      <th>calls</th>\n",
       "      <th>minutes</th>\n",
       "      <th>messages</th>\n",
       "      <th>mb_used</th>\n",
       "      <th>is_ultimate</th>\n",
       "    </tr>\n",
       "  </thead>\n",
       "  <tbody>\n",
       "    <tr>\n",
       "      <th>0</th>\n",
       "      <td>40.0</td>\n",
       "      <td>311.90</td>\n",
       "      <td>83.0</td>\n",
       "      <td>19915.42</td>\n",
       "      <td>0</td>\n",
       "    </tr>\n",
       "    <tr>\n",
       "      <th>1</th>\n",
       "      <td>85.0</td>\n",
       "      <td>516.75</td>\n",
       "      <td>56.0</td>\n",
       "      <td>22696.96</td>\n",
       "      <td>0</td>\n",
       "    </tr>\n",
       "    <tr>\n",
       "      <th>2</th>\n",
       "      <td>77.0</td>\n",
       "      <td>467.66</td>\n",
       "      <td>86.0</td>\n",
       "      <td>21060.45</td>\n",
       "      <td>0</td>\n",
       "    </tr>\n",
       "    <tr>\n",
       "      <th>3</th>\n",
       "      <td>106.0</td>\n",
       "      <td>745.53</td>\n",
       "      <td>81.0</td>\n",
       "      <td>8437.39</td>\n",
       "      <td>1</td>\n",
       "    </tr>\n",
       "    <tr>\n",
       "      <th>4</th>\n",
       "      <td>66.0</td>\n",
       "      <td>418.74</td>\n",
       "      <td>1.0</td>\n",
       "      <td>14502.75</td>\n",
       "      <td>0</td>\n",
       "    </tr>\n",
       "  </tbody>\n",
       "</table>\n",
       "</div>"
      ],
      "text/plain": [
       "   calls  minutes  messages   mb_used  is_ultimate\n",
       "0   40.0   311.90      83.0  19915.42            0\n",
       "1   85.0   516.75      56.0  22696.96            0\n",
       "2   77.0   467.66      86.0  21060.45            0\n",
       "3  106.0   745.53      81.0   8437.39            1\n",
       "4   66.0   418.74       1.0  14502.75            0"
      ]
     },
     "execution_count": 3,
     "metadata": {},
     "output_type": "execute_result"
    }
   ],
   "source": [
    "df.head(5)"
   ]
  },
  {
   "cell_type": "markdown",
   "metadata": {},
   "source": [
    "Este conjunto de dados traz informações sobre o comportamento dos usuários e a utilizaão dos serviços, bem como uma coluna (is_ultimate) que traz o resultado de uma classificação em que 1- significa que o usuário ja tem o plano Ultimate, e 0- que ele tem outro plano (surf)."
   ]
  },
  {
   "cell_type": "markdown",
   "metadata": {},
   "source": [
    "### Dividindo o dataset em train, test e valid"
   ]
  },
  {
   "cell_type": "markdown",
   "metadata": {},
   "source": [
    "     A variável que queremos estudar como objetivo é 'is_ultimate', que será definida como o target. \n",
    " \n",
    "     As demais colunas serão nossas features, que são compostas todas por dados numéricos. "
   ]
  },
  {
   "cell_type": "code",
   "execution_count": 4,
   "metadata": {},
   "outputs": [],
   "source": [
    "features= df.drop(df['is_ultimate']).values "
   ]
  },
  {
   "cell_type": "code",
   "execution_count": 5,
   "metadata": {},
   "outputs": [],
   "source": [
    "target= df['is_ultimate'].values"
   ]
  },
  {
   "cell_type": "markdown",
   "metadata": {},
   "source": [
    "   * Vamos dividir os dados em conjuntos de treinamento, validação e teste: \n",
    "      * A primeira divisão será o que vai armazernar os dados de test para uma verificação da qualidade do modelo. \n",
    "      * O restante será utilizado para formar uma nova divisão que resultará nos conjuntos de treino e validação.\n",
    "      * O valor escolhido para o tamanho do conjunto de teste é de 25% do conjunto original, o que é suficiente para uma validação da qualidade.\n"
   ]
  },
  {
   "cell_type": "code",
   "execution_count": 6,
   "metadata": {},
   "outputs": [],
   "source": [
    "df_train_valid, df_test = train_test_split(df, test_size=0.25, random_state=12345)"
   ]
  },
  {
   "cell_type": "code",
   "execution_count": 7,
   "metadata": {},
   "outputs": [],
   "source": [
    "df_train, df_valid = train_test_split(df_train_valid, test_size=0.25, random_state=12345)\n"
   ]
  },
  {
   "cell_type": "code",
   "execution_count": 8,
   "metadata": {},
   "outputs": [],
   "source": [
    "features_train = df_train.drop(['is_ultimate'], axis=1)\n",
    "target_train = df_train['is_ultimate']\n",
    "features_valid = df_valid.drop(['is_ultimate'], axis=1)\n",
    "target_valid = df_valid['is_ultimate']\n",
    "features_test = df_test.drop(['is_ultimate'], axis=1)\n",
    "target_test = df_test['is_ultimate']"
   ]
  },
  {
   "cell_type": "markdown",
   "metadata": {},
   "source": [
    "### Iniciando os modelos de regressão "
   ]
  },
  {
   "cell_type": "markdown",
   "metadata": {},
   "source": [
    " * Vamos testar como os dados deste dataset reagem à alguns dos diferentes modelos existentes. "
   ]
  },
  {
   "cell_type": "markdown",
   "metadata": {},
   "source": [
    "####        Regressão tipo DecisionTree "
   ]
  },
  {
   "cell_type": "code",
   "execution_count": 9,
   "metadata": {},
   "outputs": [],
   "source": [
    "model_tree = DecisionTreeClassifier(random_state=12345)\n"
   ]
  },
  {
   "cell_type": "code",
   "execution_count": 10,
   "metadata": {},
   "outputs": [
    {
     "data": {
      "text/plain": [
       "DecisionTreeClassifier(random_state=12345)"
      ]
     },
     "execution_count": 10,
     "metadata": {},
     "output_type": "execute_result"
    }
   ],
   "source": [
    "model_tree.fit(features_train, target_train)"
   ]
  },
  {
   "cell_type": "code",
   "execution_count": 11,
   "metadata": {
    "scrolled": true
   },
   "outputs": [
    {
     "name": "stdout",
     "output_type": "stream",
     "text": [
      "max_depth = 5 : Train: 0.8201438848920863\n",
      "Valid: 0.7877280265339967\n",
      "Acurácia do melhor modelo: 0.7943615257048093\n"
     ]
    }
   ],
   "source": [
    "\n",
    "best_model = None\n",
    "best_result = 0\n",
    "for depth in range(1, 6):\n",
    "\tmodel_tree = DecisionTreeClassifier(random_state=12345, max_depth= depth ) \n",
    "\tmodel_tree.fit(features_train, target_train) \n",
    "\tpredictions = model_tree.predict(features_valid)\n",
    "\tresult = accuracy_score(target_valid,predictions) \n",
    "\tif result > best_result:\n",
    "\t\tbest_model = features_train\n",
    "\t\tbest_result = result\n",
    "predict_train = model_tree.predict(features_train)\n",
    "\n",
    "print(\"max_depth =\", depth, \": \", end='')\n",
    "print(\"Train:\", accuracy_score(target_train,predict_train))\n",
    "print(\"Valid:\", accuracy_score(target_valid,predictions))\n",
    "print(\"Acurácia do melhor modelo:\", best_result)\n"
   ]
  },
  {
   "cell_type": "markdown",
   "metadata": {},
   "source": [
    "   * A acurácia dos 2 conjuntos tem uma diferença pequena. O resultado do melhor modelo é satisfatório para nosso limite de corte aceitavel de >0,75.\n",
    "      - Como resultado,o melhor valor para o parâmetro max_depth foi de =5. \n",
    " Resta compararmos este resultado com sos demais modelos para, ai então escolher o melhor modelo. "
   ]
  },
  {
   "cell_type": "markdown",
   "metadata": {},
   "source": [
    "####        Regressão tipo  RandomForest "
   ]
  },
  {
   "cell_type": "code",
   "execution_count": 12,
   "metadata": {},
   "outputs": [],
   "source": [
    "model_rfc = RandomForestClassifier(random_state=54321, n_estimators=9)"
   ]
  },
  {
   "cell_type": "code",
   "execution_count": 13,
   "metadata": {},
   "outputs": [
    {
     "data": {
      "text/plain": [
       "RandomForestClassifier(n_estimators=9, random_state=54321)"
      ]
     },
     "execution_count": 13,
     "metadata": {},
     "output_type": "execute_result"
    }
   ],
   "source": [
    "model_rfc.fit(features_train, target_train)"
   ]
  },
  {
   "cell_type": "code",
   "execution_count": 14,
   "metadata": {},
   "outputs": [],
   "source": [
    "valid_predictions_rfc = model_rfc.predict(features_valid)\n",
    "valid_accur_score_rfc= accuracy_score(target_valid, valid_predictions_rfc)\n",
    "\n",
    "test_predictions_rfc= model_rfc.predict(features_test) \n",
    "test_predict_accur_rfc= accuracy_score(target_test, test_predictions_rfc)"
   ]
  },
  {
   "cell_type": "code",
   "execution_count": 15,
   "metadata": {},
   "outputs": [
    {
     "name": "stdout",
     "output_type": "stream",
     "text": [
      "Acurácia\n",
      "Conjunto de teste: 0.7823383084577115\n",
      "Conjunto de valid: 0.7927031509121062\n"
     ]
    }
   ],
   "source": [
    "print('Acurácia' )\n",
    "print('Conjunto de teste:',  test_predict_accur_rfc)\n",
    "print('Conjunto de valid:',  valid_accur_score_rfc)\n"
   ]
  },
  {
   "cell_type": "code",
   "execution_count": 16,
   "metadata": {
    "scrolled": true
   },
   "outputs": [
    {
     "name": "stdout",
     "output_type": "stream",
     "text": [
      "Train: 0.9800774764803541\n",
      "Valid: 0.7976782752902156\n",
      "Acurácia do melhor modelo no conjunto de valid (n_estimators = 8): 0.7993366500829188\n"
     ]
    }
   ],
   "source": [
    "best_score = 0\n",
    "best_est = 0  \n",
    "for est in range(1, 11): \n",
    "    model_rfc = RandomForestClassifier(random_state=54321, n_estimators=est) \n",
    "    model_rfc.fit(features_train, target_train ) \n",
    "    predict_rfc = model_rfc.predict(features_valid)\n",
    "    score = accuracy_score(target_valid, predict_rfc)\n",
    "    if score > best_score:\n",
    "        best_score = score \n",
    "        best_est = est \n",
    "\n",
    "predict_rfc_train = model_rfc.predict(features_train)\n",
    "        \n",
    "print(\"Train:\", accuracy_score(target_train,predict_rfc_train))\n",
    "print(\"Valid:\", accuracy_score(target_valid,predict_rfc))\n",
    "print(\"Acurácia do melhor modelo no conjunto de valid (n_estimators = {}): {}\".format(best_est, best_score))\n",
    "        "
   ]
  },
  {
   "cell_type": "markdown",
   "metadata": {},
   "source": [
    "    Observações sobre o Modelo:\n",
    "- As acurácias tiveram uma diferença grande entre de valid e train, o que mostra que o modelo não é tão preciso.\n",
    "- Obtivemos também um melhor valor para o parâmetro n_estimators, de =8. "
   ]
  },
  {
   "cell_type": "markdown",
   "metadata": {},
   "source": [
    "####        regressão tipo Logistic regression"
   ]
  },
  {
   "cell_type": "code",
   "execution_count": 17,
   "metadata": {},
   "outputs": [
    {
     "data": {
      "text/plain": [
       "LogisticRegression(random_state=12345)"
      ]
     },
     "execution_count": 17,
     "metadata": {},
     "output_type": "execute_result"
    }
   ],
   "source": [
    "model_lr = LogisticRegression(random_state=12345) \n",
    "model_lr.fit(features_train, target_train) "
   ]
  },
  {
   "cell_type": "code",
   "execution_count": 18,
   "metadata": {},
   "outputs": [],
   "source": [
    "valid_pred_lr = model_lr.predict(features_valid)\n",
    "valid_acc_lr= accuracy_score(target_valid, valid_pred_lr)"
   ]
  },
  {
   "cell_type": "code",
   "execution_count": 20,
   "metadata": {},
   "outputs": [
    {
     "name": "stdout",
     "output_type": "stream",
     "text": [
      "Conjunto de validação: 0.7412935323383084\n"
     ]
    }
   ],
   "source": [
    "('Acurácia' )\n",
    "print('Conjunto de validação:',  valid_acc_lr)\n"
   ]
  },
  {
   "cell_type": "code",
   "execution_count": 21,
   "metadata": {},
   "outputs": [
    {
     "name": "stdout",
     "output_type": "stream",
     "text": [
      "O REQM do modelo de regressão linear no conjunto de validação: 0.5086319569803804\n"
     ]
    }
   ],
   "source": [
    "result = mean_squared_error(target_valid, valid_pred_lr)**0.5 \n",
    "print(\"O REQM do modelo de regressão linear no conjunto de validação:\", result)"
   ]
  },
  {
   "cell_type": "markdown",
   "metadata": {},
   "source": [
    "    Observações sobre o Modelo:\n",
    "\n",
    " * Esse modelo foi o que teve a menor acurácia, e como ficou abaixo a nossa linha de corte (0,75), vamos descartá-lo.  "
   ]
  },
  {
   "cell_type": "markdown",
   "metadata": {},
   "source": [
    "### TREINANDO MODELO COM MELHOR ACURÁCIA"
   ]
  },
  {
   "cell_type": "markdown",
   "metadata": {},
   "source": [
    "       Os 2 Modelos DecisionTreeClassifier E RandomForest tiveram o resultado do teste de accurácia com o valores muito próximos, de= 0.788 e 0.79 respectivamente. \n",
    "       Mas o modelo DecisinTree foi o que teve o resultado mais próximo do valor de acurácia do conjunto de train, o que demonstra que este modelo tem maior precisão.  \n",
    "  Sendo assim vamos rodar o Modelo final utilizando a regressão tipo DecisionTreeClassifier, com o hiperparâmetre max_depth = 5 e obter a acurácia do conjunto de teste como forma de verificação da qualidade do modelo, utilizando um dado não enviesado (que não foi treinado) .\n",
    "         Ao se rodar o modelo, foi utilizado um loop for para obter o melhor resultado do hiperparâmetro que teve como resultado: max_depth = 5. \n"
   ]
  },
  {
   "cell_type": "code",
   "execution_count": 22,
   "metadata": {},
   "outputs": [],
   "source": [
    "model_dtc_fin = DecisionTreeClassifier(random_state=12345, max_depth= 5 ) "
   ]
  },
  {
   "cell_type": "code",
   "execution_count": 23,
   "metadata": {},
   "outputs": [
    {
     "data": {
      "text/plain": [
       "DecisionTreeClassifier(max_depth=5, random_state=12345)"
      ]
     },
     "execution_count": 23,
     "metadata": {},
     "output_type": "execute_result"
    }
   ],
   "source": [
    "model_dtc_fin.fit(features_train, target_train)"
   ]
  },
  {
   "cell_type": "code",
   "execution_count": 24,
   "metadata": {},
   "outputs": [],
   "source": [
    "pred_test = model_dtc_fin.predict(features_test)\n",
    "accurc_test = accuracy_score(target_test,pred_test)"
   ]
  },
  {
   "cell_type": "code",
   "execution_count": 25,
   "metadata": {
    "scrolled": true
   },
   "outputs": [
    {
     "name": "stdout",
     "output_type": "stream",
     "text": [
      "Acurácia\n",
      "Conjunto final de validação: 0.7873134328358209\n"
     ]
    }
   ],
   "source": [
    "print('Acurácia' )\n",
    "print('Conjunto final de validação:',  accurc_test)"
   ]
  },
  {
   "cell_type": "markdown",
   "metadata": {},
   "source": [
    "Como já esperado, a acurácia do modelo de teste (0.78) é muito próxima ao modelo de validação (0.78), o que indica uma qualidade satisfatória pára o modelo. "
   ]
  }
 ],
 "metadata": {
  "ExecuteTimeLog": [
   {
    "duration": 55,
    "start_time": "2022-08-23T20:37:52.915Z"
   },
   {
    "duration": 1543,
    "start_time": "2022-08-23T20:37:56.037Z"
   },
   {
    "duration": 136,
    "start_time": "2022-08-23T20:37:57.582Z"
   },
   {
    "duration": 19,
    "start_time": "2022-08-23T20:38:02.709Z"
   },
   {
    "duration": 14,
    "start_time": "2022-08-23T20:40:21.465Z"
   },
   {
    "duration": 53,
    "start_time": "2022-08-23T22:36:25.489Z"
   },
   {
    "duration": 1813,
    "start_time": "2022-08-23T22:36:32.163Z"
   },
   {
    "duration": 136,
    "start_time": "2022-08-23T22:36:33.979Z"
   },
   {
    "duration": 15,
    "start_time": "2022-08-23T22:36:34.118Z"
   },
   {
    "duration": 127,
    "start_time": "2022-08-23T22:36:34.135Z"
   },
   {
    "duration": 3,
    "start_time": "2022-08-23T22:36:46.092Z"
   },
   {
    "duration": 31,
    "start_time": "2022-08-23T22:36:47.681Z"
   },
   {
    "duration": 11,
    "start_time": "2022-08-23T22:36:47.882Z"
   },
   {
    "duration": 5,
    "start_time": "2022-08-23T22:36:48.033Z"
   },
   {
    "duration": 13,
    "start_time": "2022-08-23T22:36:52.602Z"
   },
   {
    "duration": 14,
    "start_time": "2022-08-23T22:36:59.002Z"
   },
   {
    "duration": 10,
    "start_time": "2022-08-23T22:37:06.058Z"
   },
   {
    "duration": 10,
    "start_time": "2022-08-23T22:37:09.929Z"
   },
   {
    "duration": 10,
    "start_time": "2022-08-23T22:37:15.226Z"
   },
   {
    "duration": 5,
    "start_time": "2022-08-24T00:02:12.971Z"
   },
   {
    "duration": 48,
    "start_time": "2022-08-24T13:02:55.549Z"
   },
   {
    "duration": 1592,
    "start_time": "2022-08-24T13:03:03.537Z"
   },
   {
    "duration": 80,
    "start_time": "2022-08-24T13:03:05.130Z"
   },
   {
    "duration": 12,
    "start_time": "2022-08-24T13:03:05.212Z"
   },
   {
    "duration": 5,
    "start_time": "2022-08-24T13:03:05.225Z"
   },
   {
    "duration": 14,
    "start_time": "2022-08-24T13:03:05.232Z"
   },
   {
    "duration": 13,
    "start_time": "2022-08-24T13:03:05.247Z"
   },
   {
    "duration": 18,
    "start_time": "2022-08-24T13:03:05.261Z"
   },
   {
    "duration": 121,
    "start_time": "2022-08-24T13:03:05.280Z"
   },
   {
    "duration": 9,
    "start_time": "2022-08-24T13:03:14.879Z"
   },
   {
    "duration": 3,
    "start_time": "2022-08-24T13:08:30.644Z"
   },
   {
    "duration": 12,
    "start_time": "2022-08-24T13:08:36.187Z"
   },
   {
    "duration": 98,
    "start_time": "2022-08-24T14:02:25.760Z"
   },
   {
    "duration": 12,
    "start_time": "2022-08-24T14:02:40.188Z"
   },
   {
    "duration": 4,
    "start_time": "2022-08-24T14:02:51.383Z"
   },
   {
    "duration": 11,
    "start_time": "2022-08-24T14:02:58.063Z"
   },
   {
    "duration": 9,
    "start_time": "2022-08-24T14:03:05.734Z"
   },
   {
    "duration": 8,
    "start_time": "2022-08-24T14:03:10.710Z"
   },
   {
    "duration": 8,
    "start_time": "2022-08-24T14:03:16.854Z"
   },
   {
    "duration": 13,
    "start_time": "2022-08-24T14:03:19.773Z"
   },
   {
    "duration": 10,
    "start_time": "2022-08-24T14:03:39.694Z"
   },
   {
    "duration": 88,
    "start_time": "2022-08-24T14:03:44.615Z"
   },
   {
    "duration": 4,
    "start_time": "2022-08-24T14:03:56.214Z"
   },
   {
    "duration": 11,
    "start_time": "2022-08-24T14:03:57.525Z"
   },
   {
    "duration": 8,
    "start_time": "2022-08-24T14:04:05.413Z"
   },
   {
    "duration": 4,
    "start_time": "2022-08-24T14:04:20.598Z"
   },
   {
    "duration": 11,
    "start_time": "2022-08-24T14:04:21.316Z"
   },
   {
    "duration": 5,
    "start_time": "2022-08-24T14:27:02.431Z"
   },
   {
    "duration": 4,
    "start_time": "2022-08-24T14:27:03.261Z"
   },
   {
    "duration": 18,
    "start_time": "2022-08-24T14:27:11.605Z"
   },
   {
    "duration": 12,
    "start_time": "2022-08-24T14:27:18.024Z"
   },
   {
    "duration": 12,
    "start_time": "2022-08-24T14:27:32.910Z"
   },
   {
    "duration": 12,
    "start_time": "2022-08-24T14:27:38.750Z"
   },
   {
    "duration": 11,
    "start_time": "2022-08-24T14:27:45.157Z"
   },
   {
    "duration": 10,
    "start_time": "2022-08-24T14:27:59.373Z"
   },
   {
    "duration": 4,
    "start_time": "2022-08-24T16:48:15.381Z"
   },
   {
    "duration": 3,
    "start_time": "2022-08-24T16:49:08.374Z"
   },
   {
    "duration": 2,
    "start_time": "2022-08-24T16:50:08.550Z"
   },
   {
    "duration": 8,
    "start_time": "2022-08-24T18:39:15.303Z"
   },
   {
    "duration": 11,
    "start_time": "2022-08-24T18:39:35.389Z"
   },
   {
    "duration": 3,
    "start_time": "2022-08-24T18:39:43.821Z"
   },
   {
    "duration": 2,
    "start_time": "2022-08-24T18:40:45.405Z"
   },
   {
    "duration": 14,
    "start_time": "2022-08-24T18:48:14.800Z"
   },
   {
    "duration": 14,
    "start_time": "2022-08-24T18:48:24.144Z"
   },
   {
    "duration": 13,
    "start_time": "2022-08-24T18:52:46.308Z"
   },
   {
    "duration": 1372,
    "start_time": "2022-08-24T19:05:25.122Z"
   },
   {
    "duration": 30,
    "start_time": "2022-08-24T19:05:26.495Z"
   },
   {
    "duration": 13,
    "start_time": "2022-08-24T19:05:26.526Z"
   },
   {
    "duration": 4,
    "start_time": "2022-08-24T19:05:26.540Z"
   },
   {
    "duration": 3,
    "start_time": "2022-08-24T19:05:26.546Z"
   },
   {
    "duration": 6,
    "start_time": "2022-08-24T19:05:26.550Z"
   },
   {
    "duration": 5,
    "start_time": "2022-08-24T19:05:26.557Z"
   },
   {
    "duration": 18,
    "start_time": "2022-08-24T19:05:26.563Z"
   },
   {
    "duration": 5,
    "start_time": "2022-08-24T19:05:26.582Z"
   },
   {
    "duration": 5,
    "start_time": "2022-08-24T19:05:26.588Z"
   },
   {
    "duration": 125,
    "start_time": "2022-08-24T19:05:26.594Z"
   },
   {
    "duration": 3,
    "start_time": "2022-08-24T19:05:32.594Z"
   },
   {
    "duration": 8,
    "start_time": "2022-08-24T19:05:35.976Z"
   },
   {
    "duration": 10,
    "start_time": "2022-08-24T19:06:26.735Z"
   },
   {
    "duration": 14,
    "start_time": "2022-08-24T19:06:58.135Z"
   },
   {
    "duration": 2,
    "start_time": "2022-08-24T19:07:11.951Z"
   },
   {
    "duration": 12,
    "start_time": "2022-08-24T19:07:13.830Z"
   },
   {
    "duration": 1356,
    "start_time": "2022-08-24T19:07:24.572Z"
   },
   {
    "duration": 30,
    "start_time": "2022-08-24T19:07:25.929Z"
   },
   {
    "duration": 11,
    "start_time": "2022-08-24T19:07:25.960Z"
   },
   {
    "duration": 3,
    "start_time": "2022-08-24T19:07:25.973Z"
   },
   {
    "duration": 8,
    "start_time": "2022-08-24T19:07:25.978Z"
   },
   {
    "duration": 8,
    "start_time": "2022-08-24T19:07:25.987Z"
   },
   {
    "duration": 7,
    "start_time": "2022-08-24T19:07:25.996Z"
   },
   {
    "duration": 13,
    "start_time": "2022-08-24T19:07:26.004Z"
   },
   {
    "duration": 6,
    "start_time": "2022-08-24T19:07:26.018Z"
   },
   {
    "duration": 6,
    "start_time": "2022-08-24T19:07:26.025Z"
   },
   {
    "duration": 5,
    "start_time": "2022-08-24T19:07:26.032Z"
   },
   {
    "duration": 119,
    "start_time": "2022-08-24T19:07:26.038Z"
   },
   {
    "duration": 16,
    "start_time": "2022-08-24T19:08:19.956Z"
   },
   {
    "duration": 4,
    "start_time": "2022-08-24T19:08:24.307Z"
   },
   {
    "duration": 4,
    "start_time": "2022-08-24T19:11:54.794Z"
   },
   {
    "duration": 3,
    "start_time": "2022-08-24T19:11:55.250Z"
   },
   {
    "duration": 3,
    "start_time": "2022-08-24T19:11:56.186Z"
   },
   {
    "duration": 13,
    "start_time": "2022-08-24T19:11:57.931Z"
   },
   {
    "duration": 13,
    "start_time": "2022-08-24T19:12:35.882Z"
   },
   {
    "duration": 3,
    "start_time": "2022-08-24T19:12:43.002Z"
   },
   {
    "duration": 13,
    "start_time": "2022-08-24T19:13:03.944Z"
   },
   {
    "duration": 8,
    "start_time": "2022-08-24T19:13:45.937Z"
   },
   {
    "duration": 9,
    "start_time": "2022-08-24T19:13:50.608Z"
   },
   {
    "duration": 7,
    "start_time": "2022-08-24T19:17:20.101Z"
   },
   {
    "duration": 12,
    "start_time": "2022-08-24T19:17:31.908Z"
   },
   {
    "duration": 9,
    "start_time": "2022-08-24T19:17:51.732Z"
   },
   {
    "duration": 9,
    "start_time": "2022-08-24T19:17:57.795Z"
   },
   {
    "duration": 16,
    "start_time": "2022-08-24T19:26:53.224Z"
   },
   {
    "duration": 15,
    "start_time": "2022-08-24T19:27:23.087Z"
   },
   {
    "duration": 4,
    "start_time": "2022-08-24T19:34:34.107Z"
   },
   {
    "duration": 3,
    "start_time": "2022-08-24T19:34:34.603Z"
   },
   {
    "duration": 2,
    "start_time": "2022-08-24T19:34:36.147Z"
   },
   {
    "duration": 12,
    "start_time": "2022-08-24T19:34:36.995Z"
   },
   {
    "duration": 12,
    "start_time": "2022-08-24T19:34:55.378Z"
   },
   {
    "duration": 2,
    "start_time": "2022-08-24T19:43:49.565Z"
   },
   {
    "duration": 15,
    "start_time": "2022-08-24T19:44:01.980Z"
   },
   {
    "duration": 63,
    "start_time": "2022-08-24T20:00:43.577Z"
   },
   {
    "duration": 4,
    "start_time": "2022-08-24T20:00:57.168Z"
   },
   {
    "duration": 3,
    "start_time": "2022-08-24T20:00:58.482Z"
   },
   {
    "duration": 115,
    "start_time": "2022-08-24T20:00:59.061Z"
   },
   {
    "duration": 8,
    "start_time": "2022-08-24T20:01:04.428Z"
   },
   {
    "duration": 2,
    "start_time": "2022-08-24T20:01:17.015Z"
   },
   {
    "duration": 11,
    "start_time": "2022-08-24T20:01:17.910Z"
   },
   {
    "duration": 1397,
    "start_time": "2022-08-24T20:01:32.778Z"
   },
   {
    "duration": 30,
    "start_time": "2022-08-24T20:01:34.177Z"
   },
   {
    "duration": 12,
    "start_time": "2022-08-24T20:01:34.209Z"
   },
   {
    "duration": 4,
    "start_time": "2022-08-24T20:01:34.222Z"
   },
   {
    "duration": 5,
    "start_time": "2022-08-24T20:01:34.228Z"
   },
   {
    "duration": 118,
    "start_time": "2022-08-24T20:01:34.234Z"
   },
   {
    "duration": 0,
    "start_time": "2022-08-24T20:01:34.354Z"
   },
   {
    "duration": 0,
    "start_time": "2022-08-24T20:01:34.355Z"
   },
   {
    "duration": 9,
    "start_time": "2022-08-24T20:01:54.448Z"
   },
   {
    "duration": 4,
    "start_time": "2022-08-24T20:02:00.462Z"
   },
   {
    "duration": 3,
    "start_time": "2022-08-24T20:02:01.596Z"
   },
   {
    "duration": 11,
    "start_time": "2022-08-24T20:02:01.781Z"
   },
   {
    "duration": 9,
    "start_time": "2022-08-24T20:10:34.647Z"
   },
   {
    "duration": 8,
    "start_time": "2022-08-24T20:10:39.695Z"
   },
   {
    "duration": 1368,
    "start_time": "2022-08-24T20:10:46.728Z"
   },
   {
    "duration": 30,
    "start_time": "2022-08-24T20:10:48.097Z"
   },
   {
    "duration": 13,
    "start_time": "2022-08-24T20:10:48.128Z"
   },
   {
    "duration": 6,
    "start_time": "2022-08-24T20:10:48.142Z"
   },
   {
    "duration": 3,
    "start_time": "2022-08-24T20:10:48.150Z"
   },
   {
    "duration": 5,
    "start_time": "2022-08-24T20:10:48.154Z"
   },
   {
    "duration": 4,
    "start_time": "2022-08-24T20:10:48.161Z"
   },
   {
    "duration": 5,
    "start_time": "2022-08-24T20:10:48.166Z"
   },
   {
    "duration": 4,
    "start_time": "2022-08-24T20:10:48.172Z"
   },
   {
    "duration": 4,
    "start_time": "2022-08-24T20:10:48.177Z"
   },
   {
    "duration": 5,
    "start_time": "2022-08-24T20:10:48.182Z"
   },
   {
    "duration": 4,
    "start_time": "2022-08-24T20:11:04.384Z"
   },
   {
    "duration": 2,
    "start_time": "2022-08-24T20:11:09.828Z"
   },
   {
    "duration": 4,
    "start_time": "2022-08-24T20:11:10.897Z"
   },
   {
    "duration": 4,
    "start_time": "2022-08-24T20:11:11.759Z"
   },
   {
    "duration": 4,
    "start_time": "2022-08-24T20:11:11.954Z"
   },
   {
    "duration": 4,
    "start_time": "2022-08-24T20:11:12.471Z"
   },
   {
    "duration": 2,
    "start_time": "2022-08-24T20:11:13.624Z"
   },
   {
    "duration": 122,
    "start_time": "2022-08-24T20:11:18.527Z"
   },
   {
    "duration": 1380,
    "start_time": "2022-08-24T20:11:29.627Z"
   },
   {
    "duration": 30,
    "start_time": "2022-08-24T20:11:31.009Z"
   },
   {
    "duration": 12,
    "start_time": "2022-08-24T20:11:31.041Z"
   },
   {
    "duration": 13,
    "start_time": "2022-08-24T20:11:31.054Z"
   },
   {
    "duration": 22,
    "start_time": "2022-08-24T20:11:31.069Z"
   },
   {
    "duration": 7,
    "start_time": "2022-08-24T20:11:31.092Z"
   },
   {
    "duration": 25,
    "start_time": "2022-08-24T20:11:31.100Z"
   },
   {
    "duration": 6,
    "start_time": "2022-08-24T20:11:31.126Z"
   },
   {
    "duration": 7,
    "start_time": "2022-08-24T20:11:31.133Z"
   },
   {
    "duration": 20,
    "start_time": "2022-08-24T20:11:31.142Z"
   },
   {
    "duration": 139,
    "start_time": "2022-08-24T20:11:31.163Z"
   },
   {
    "duration": 0,
    "start_time": "2022-08-24T20:11:31.303Z"
   },
   {
    "duration": 5,
    "start_time": "2022-08-24T20:11:44.775Z"
   },
   {
    "duration": 3,
    "start_time": "2022-08-24T20:11:52.470Z"
   },
   {
    "duration": 2,
    "start_time": "2022-08-24T20:11:53.228Z"
   },
   {
    "duration": 11,
    "start_time": "2022-08-24T20:11:53.390Z"
   },
   {
    "duration": 1424,
    "start_time": "2022-08-24T20:12:03.174Z"
   },
   {
    "duration": 30,
    "start_time": "2022-08-24T20:12:04.599Z"
   },
   {
    "duration": 13,
    "start_time": "2022-08-24T20:12:04.631Z"
   },
   {
    "duration": 9,
    "start_time": "2022-08-24T20:12:04.645Z"
   },
   {
    "duration": 4,
    "start_time": "2022-08-24T20:12:04.656Z"
   },
   {
    "duration": 7,
    "start_time": "2022-08-24T20:12:04.662Z"
   },
   {
    "duration": 12,
    "start_time": "2022-08-24T20:12:04.670Z"
   },
   {
    "duration": 7,
    "start_time": "2022-08-24T20:12:04.683Z"
   },
   {
    "duration": 8,
    "start_time": "2022-08-24T20:12:04.691Z"
   },
   {
    "duration": 9,
    "start_time": "2022-08-24T20:12:04.700Z"
   },
   {
    "duration": 127,
    "start_time": "2022-08-24T20:12:04.711Z"
   },
   {
    "duration": 0,
    "start_time": "2022-08-24T20:12:04.839Z"
   },
   {
    "duration": 9,
    "start_time": "2022-08-24T22:43:18.082Z"
   },
   {
    "duration": 5,
    "start_time": "2022-08-24T22:44:07.307Z"
   },
   {
    "duration": 2,
    "start_time": "2022-08-24T22:44:09.760Z"
   },
   {
    "duration": 19,
    "start_time": "2022-08-24T22:44:10.464Z"
   },
   {
    "duration": 3,
    "start_time": "2022-08-24T22:44:13.112Z"
   },
   {
    "duration": 3,
    "start_time": "2022-08-26T11:39:39.942Z"
   },
   {
    "duration": 3,
    "start_time": "2022-08-26T11:40:43.947Z"
   },
   {
    "duration": 46,
    "start_time": "2022-08-26T12:14:26.514Z"
   },
   {
    "duration": 6,
    "start_time": "2022-08-26T12:14:34.106Z"
   },
   {
    "duration": 7,
    "start_time": "2022-08-26T12:14:35.048Z"
   },
   {
    "duration": 7,
    "start_time": "2022-08-26T12:14:35.448Z"
   },
   {
    "duration": 1653,
    "start_time": "2022-08-26T12:14:43.456Z"
   },
   {
    "duration": 89,
    "start_time": "2022-08-26T12:14:45.111Z"
   },
   {
    "duration": 14,
    "start_time": "2022-08-26T12:14:45.202Z"
   },
   {
    "duration": 13,
    "start_time": "2022-08-26T12:14:45.218Z"
   },
   {
    "duration": 5,
    "start_time": "2022-08-26T12:14:45.233Z"
   },
   {
    "duration": 7,
    "start_time": "2022-08-26T12:14:45.240Z"
   },
   {
    "duration": 6,
    "start_time": "2022-08-26T12:14:45.248Z"
   },
   {
    "duration": 8,
    "start_time": "2022-08-26T12:14:45.255Z"
   },
   {
    "duration": 7,
    "start_time": "2022-08-26T12:14:45.265Z"
   },
   {
    "duration": 52,
    "start_time": "2022-08-26T12:14:45.274Z"
   },
   {
    "duration": 123,
    "start_time": "2022-08-26T12:14:45.328Z"
   },
   {
    "duration": 0,
    "start_time": "2022-08-26T12:14:45.453Z"
   },
   {
    "duration": 0,
    "start_time": "2022-08-26T12:14:45.454Z"
   },
   {
    "duration": 13,
    "start_time": "2022-08-26T12:15:24.265Z"
   },
   {
    "duration": 9,
    "start_time": "2022-08-26T12:15:43.757Z"
   },
   {
    "duration": 4,
    "start_time": "2022-08-26T12:16:02.380Z"
   },
   {
    "duration": 5,
    "start_time": "2022-08-26T12:16:07.224Z"
   },
   {
    "duration": 4,
    "start_time": "2022-08-26T12:16:13.462Z"
   },
   {
    "duration": 4,
    "start_time": "2022-08-26T12:16:19.974Z"
   },
   {
    "duration": 4,
    "start_time": "2022-08-26T12:16:21.295Z"
   },
   {
    "duration": 7,
    "start_time": "2022-08-26T12:16:44.252Z"
   },
   {
    "duration": 4,
    "start_time": "2022-08-26T12:17:15.055Z"
   },
   {
    "duration": 4,
    "start_time": "2022-08-26T12:17:15.790Z"
   },
   {
    "duration": 5,
    "start_time": "2022-08-26T12:22:21.991Z"
   },
   {
    "duration": 16,
    "start_time": "2022-08-26T12:25:09.010Z"
   },
   {
    "duration": 1390,
    "start_time": "2022-08-26T12:25:41.347Z"
   },
   {
    "duration": 33,
    "start_time": "2022-08-26T12:25:42.739Z"
   },
   {
    "duration": 14,
    "start_time": "2022-08-26T12:25:42.774Z"
   },
   {
    "duration": 9,
    "start_time": "2022-08-26T12:25:42.790Z"
   },
   {
    "duration": 5,
    "start_time": "2022-08-26T12:25:42.802Z"
   },
   {
    "duration": 10,
    "start_time": "2022-08-26T12:25:42.809Z"
   },
   {
    "duration": 10,
    "start_time": "2022-08-26T12:25:42.821Z"
   },
   {
    "duration": 10,
    "start_time": "2022-08-26T12:25:42.832Z"
   },
   {
    "duration": 114,
    "start_time": "2022-08-26T12:25:42.844Z"
   },
   {
    "duration": 0,
    "start_time": "2022-08-26T12:25:42.959Z"
   },
   {
    "duration": 0,
    "start_time": "2022-08-26T12:25:42.961Z"
   },
   {
    "duration": 0,
    "start_time": "2022-08-26T12:25:42.962Z"
   },
   {
    "duration": 35,
    "start_time": "2022-08-26T12:27:02.300Z"
   },
   {
    "duration": 9,
    "start_time": "2022-08-26T12:30:54.893Z"
   },
   {
    "duration": 4,
    "start_time": "2022-08-26T12:30:55.260Z"
   },
   {
    "duration": 3,
    "start_time": "2022-08-26T12:31:02.190Z"
   },
   {
    "duration": 24,
    "start_time": "2022-08-26T12:31:02.372Z"
   },
   {
    "duration": 3,
    "start_time": "2022-08-26T15:22:33.364Z"
   },
   {
    "duration": 27,
    "start_time": "2022-08-26T15:22:33.529Z"
   },
   {
    "duration": 15,
    "start_time": "2022-08-26T15:22:33.713Z"
   },
   {
    "duration": 14,
    "start_time": "2022-08-26T15:23:33.593Z"
   },
   {
    "duration": 10,
    "start_time": "2022-08-26T15:23:50.657Z"
   },
   {
    "duration": 5,
    "start_time": "2022-08-26T15:24:11.690Z"
   },
   {
    "duration": 3,
    "start_time": "2022-08-26T15:24:16.680Z"
   },
   {
    "duration": 1481,
    "start_time": "2022-08-26T15:55:12.044Z"
   },
   {
    "duration": 33,
    "start_time": "2022-08-26T15:55:13.528Z"
   },
   {
    "duration": 14,
    "start_time": "2022-08-26T15:55:13.563Z"
   },
   {
    "duration": 6,
    "start_time": "2022-08-26T15:55:13.579Z"
   },
   {
    "duration": 6,
    "start_time": "2022-08-26T15:55:13.587Z"
   },
   {
    "duration": 9,
    "start_time": "2022-08-26T15:55:13.594Z"
   },
   {
    "duration": 8,
    "start_time": "2022-08-26T15:55:13.605Z"
   },
   {
    "duration": 9,
    "start_time": "2022-08-26T15:55:13.615Z"
   },
   {
    "duration": 8,
    "start_time": "2022-08-26T15:55:13.626Z"
   },
   {
    "duration": 27,
    "start_time": "2022-08-26T15:55:13.637Z"
   },
   {
    "duration": 45,
    "start_time": "2022-08-26T15:55:13.666Z"
   },
   {
    "duration": 7,
    "start_time": "2022-08-26T15:55:13.713Z"
   },
   {
    "duration": 5,
    "start_time": "2022-08-26T15:55:13.722Z"
   },
   {
    "duration": 14,
    "start_time": "2022-08-26T15:55:13.729Z"
   },
   {
    "duration": 38,
    "start_time": "2022-08-26T15:55:13.744Z"
   },
   {
    "duration": 25,
    "start_time": "2022-08-26T15:55:13.784Z"
   },
   {
    "duration": 3,
    "start_time": "2022-08-26T15:55:13.811Z"
   },
   {
    "duration": 124,
    "start_time": "2022-08-26T15:55:39.802Z"
   },
   {
    "duration": 6,
    "start_time": "2022-08-26T15:55:40.857Z"
   },
   {
    "duration": 14,
    "start_time": "2022-08-26T15:55:45.890Z"
   },
   {
    "duration": 4,
    "start_time": "2022-08-26T15:55:46.657Z"
   },
   {
    "duration": 16,
    "start_time": "2022-08-26T15:57:40.640Z"
   },
   {
    "duration": 5,
    "start_time": "2022-08-26T15:57:41.464Z"
   },
   {
    "duration": 18,
    "start_time": "2022-08-26T15:57:53.631Z"
   },
   {
    "duration": 17,
    "start_time": "2022-08-26T15:57:59.912Z"
   },
   {
    "duration": 17,
    "start_time": "2022-08-26T15:58:20.953Z"
   },
   {
    "duration": 10,
    "start_time": "2022-08-26T15:58:28.479Z"
   },
   {
    "duration": 6,
    "start_time": "2022-08-26T15:58:29.686Z"
   },
   {
    "duration": 16,
    "start_time": "2022-08-26T15:58:56.295Z"
   },
   {
    "duration": 11,
    "start_time": "2022-08-26T15:59:06.105Z"
   },
   {
    "duration": 4,
    "start_time": "2022-08-26T15:59:07.696Z"
   },
   {
    "duration": 4,
    "start_time": "2022-08-26T16:12:41.575Z"
   },
   {
    "duration": 3,
    "start_time": "2022-08-26T16:14:22.965Z"
   },
   {
    "duration": 24,
    "start_time": "2022-08-26T16:14:23.422Z"
   },
   {
    "duration": 11,
    "start_time": "2022-08-26T16:14:23.740Z"
   },
   {
    "duration": 5,
    "start_time": "2022-08-26T16:14:24.244Z"
   },
   {
    "duration": 9,
    "start_time": "2022-08-26T16:15:38.277Z"
   },
   {
    "duration": 6,
    "start_time": "2022-08-26T16:15:39.052Z"
   },
   {
    "duration": 10,
    "start_time": "2022-08-26T16:15:48.997Z"
   },
   {
    "duration": 4,
    "start_time": "2022-08-26T16:15:49.828Z"
   },
   {
    "duration": 11,
    "start_time": "2022-08-26T16:19:14.957Z"
   },
   {
    "duration": 10,
    "start_time": "2022-08-26T16:19:18.517Z"
   },
   {
    "duration": 4,
    "start_time": "2022-08-26T16:23:11.747Z"
   },
   {
    "duration": 3,
    "start_time": "2022-08-26T16:23:15.869Z"
   },
   {
    "duration": 11,
    "start_time": "2022-08-26T16:23:16.995Z"
   },
   {
    "duration": 4,
    "start_time": "2022-08-26T16:23:46.779Z"
   },
   {
    "duration": 4,
    "start_time": "2022-08-26T16:24:04.795Z"
   },
   {
    "duration": 52,
    "start_time": "2022-08-26T20:03:18.112Z"
   },
   {
    "duration": 1623,
    "start_time": "2022-08-26T20:03:27.267Z"
   },
   {
    "duration": 92,
    "start_time": "2022-08-26T20:03:28.892Z"
   },
   {
    "duration": 15,
    "start_time": "2022-08-26T20:03:28.986Z"
   },
   {
    "duration": 5,
    "start_time": "2022-08-26T20:03:29.003Z"
   },
   {
    "duration": 3,
    "start_time": "2022-08-26T20:03:29.011Z"
   },
   {
    "duration": 8,
    "start_time": "2022-08-26T20:03:29.015Z"
   },
   {
    "duration": 4,
    "start_time": "2022-08-26T20:03:29.025Z"
   },
   {
    "duration": 7,
    "start_time": "2022-08-26T20:03:29.031Z"
   },
   {
    "duration": 4,
    "start_time": "2022-08-26T20:03:29.039Z"
   },
   {
    "duration": 45,
    "start_time": "2022-08-26T20:03:29.045Z"
   },
   {
    "duration": 34,
    "start_time": "2022-08-26T20:03:29.092Z"
   },
   {
    "duration": 7,
    "start_time": "2022-08-26T20:03:29.128Z"
   },
   {
    "duration": 3,
    "start_time": "2022-08-26T20:03:29.136Z"
   },
   {
    "duration": 5,
    "start_time": "2022-08-26T20:03:29.142Z"
   },
   {
    "duration": 50,
    "start_time": "2022-08-26T20:03:29.148Z"
   },
   {
    "duration": 11,
    "start_time": "2022-08-26T20:03:29.200Z"
   },
   {
    "duration": 4,
    "start_time": "2022-08-26T20:03:29.213Z"
   },
   {
    "duration": 4,
    "start_time": "2022-08-26T20:03:29.219Z"
   },
   {
    "duration": 16,
    "start_time": "2022-08-26T20:03:29.225Z"
   },
   {
    "duration": 3,
    "start_time": "2022-08-26T20:03:29.243Z"
   },
   {
    "duration": 35,
    "start_time": "2022-08-26T20:04:47.126Z"
   },
   {
    "duration": 38,
    "start_time": "2022-08-26T20:04:53.274Z"
   },
   {
    "duration": 113,
    "start_time": "2022-08-26T20:12:41.328Z"
   },
   {
    "duration": 309,
    "start_time": "2022-08-26T20:12:51.335Z"
   },
   {
    "duration": 303,
    "start_time": "2022-08-26T20:14:13.484Z"
   },
   {
    "duration": 1422,
    "start_time": "2022-08-26T20:18:33.829Z"
   },
   {
    "duration": 38,
    "start_time": "2022-08-26T20:18:35.253Z"
   },
   {
    "duration": 13,
    "start_time": "2022-08-26T20:18:35.293Z"
   },
   {
    "duration": 5,
    "start_time": "2022-08-26T20:18:35.308Z"
   },
   {
    "duration": 5,
    "start_time": "2022-08-26T20:18:35.316Z"
   },
   {
    "duration": 7,
    "start_time": "2022-08-26T20:18:35.322Z"
   },
   {
    "duration": 7,
    "start_time": "2022-08-26T20:18:35.331Z"
   },
   {
    "duration": 12,
    "start_time": "2022-08-26T20:18:35.339Z"
   },
   {
    "duration": 7,
    "start_time": "2022-08-26T20:18:35.352Z"
   },
   {
    "duration": 38,
    "start_time": "2022-08-26T20:18:35.360Z"
   },
   {
    "duration": 33,
    "start_time": "2022-08-26T20:18:35.400Z"
   },
   {
    "duration": 6,
    "start_time": "2022-08-26T20:18:35.434Z"
   },
   {
    "duration": 6,
    "start_time": "2022-08-26T20:18:35.442Z"
   },
   {
    "duration": 3,
    "start_time": "2022-08-26T20:18:35.450Z"
   },
   {
    "duration": 46,
    "start_time": "2022-08-26T20:18:35.454Z"
   },
   {
    "duration": 11,
    "start_time": "2022-08-26T20:18:35.502Z"
   },
   {
    "duration": 4,
    "start_time": "2022-08-26T20:18:35.514Z"
   },
   {
    "duration": 312,
    "start_time": "2022-08-26T20:18:35.520Z"
   },
   {
    "duration": 3,
    "start_time": "2022-08-26T20:18:35.834Z"
   },
   {
    "duration": 20,
    "start_time": "2022-08-26T20:18:35.838Z"
   },
   {
    "duration": 3,
    "start_time": "2022-08-26T20:18:35.860Z"
   },
   {
    "duration": 3,
    "start_time": "2022-08-26T20:19:00.516Z"
   },
   {
    "duration": 44,
    "start_time": "2022-08-26T20:19:00.903Z"
   },
   {
    "duration": 16,
    "start_time": "2022-08-26T20:19:01.119Z"
   },
   {
    "duration": 4,
    "start_time": "2022-08-26T20:19:01.271Z"
   },
   {
    "duration": 301,
    "start_time": "2022-08-26T20:19:01.433Z"
   },
   {
    "duration": 115,
    "start_time": "2022-08-26T20:37:09.229Z"
   },
   {
    "duration": 285,
    "start_time": "2022-08-26T20:37:14.004Z"
   },
   {
    "duration": 10,
    "start_time": "2022-08-26T20:44:47.784Z"
   },
   {
    "duration": 24,
    "start_time": "2022-08-26T20:44:53.071Z"
   },
   {
    "duration": 15,
    "start_time": "2022-08-26T20:44:56.518Z"
   },
   {
    "duration": 4,
    "start_time": "2022-08-26T20:44:57.215Z"
   },
   {
    "duration": 9,
    "start_time": "2022-08-26T20:44:57.972Z"
   },
   {
    "duration": 8,
    "start_time": "2022-08-26T20:46:02.933Z"
   },
   {
    "duration": 3,
    "start_time": "2022-08-26T20:46:03.749Z"
   },
   {
    "duration": 4,
    "start_time": "2022-08-26T20:46:41.551Z"
   },
   {
    "duration": 5,
    "start_time": "2022-08-26T20:47:02.149Z"
   },
   {
    "duration": 4,
    "start_time": "2022-08-26T20:47:13.918Z"
   },
   {
    "duration": 9,
    "start_time": "2022-08-26T20:47:31.423Z"
   },
   {
    "duration": 3,
    "start_time": "2022-08-26T20:47:41.510Z"
   },
   {
    "duration": 4,
    "start_time": "2022-08-26T20:47:47.102Z"
   },
   {
    "duration": 5,
    "start_time": "2022-08-26T20:47:59.478Z"
   },
   {
    "duration": 48,
    "start_time": "2022-08-27T15:40:02.339Z"
   },
   {
    "duration": 1611,
    "start_time": "2022-08-27T15:40:10.710Z"
   },
   {
    "duration": 85,
    "start_time": "2022-08-27T15:40:12.323Z"
   },
   {
    "duration": 14,
    "start_time": "2022-08-27T15:40:12.410Z"
   },
   {
    "duration": 7,
    "start_time": "2022-08-27T15:40:12.425Z"
   },
   {
    "duration": 8,
    "start_time": "2022-08-27T15:40:12.433Z"
   },
   {
    "duration": 8,
    "start_time": "2022-08-27T15:40:12.442Z"
   },
   {
    "duration": 15,
    "start_time": "2022-08-27T15:40:12.452Z"
   },
   {
    "duration": 10,
    "start_time": "2022-08-27T15:40:12.469Z"
   },
   {
    "duration": 8,
    "start_time": "2022-08-27T15:40:12.481Z"
   },
   {
    "duration": 22,
    "start_time": "2022-08-27T15:40:12.491Z"
   },
   {
    "duration": 35,
    "start_time": "2022-08-27T15:40:12.515Z"
   },
   {
    "duration": 7,
    "start_time": "2022-08-27T15:40:12.551Z"
   },
   {
    "duration": 8,
    "start_time": "2022-08-27T15:40:12.559Z"
   },
   {
    "duration": 4,
    "start_time": "2022-08-27T15:40:12.569Z"
   },
   {
    "duration": 51,
    "start_time": "2022-08-27T15:40:12.574Z"
   },
   {
    "duration": 25,
    "start_time": "2022-08-27T15:40:12.626Z"
   },
   {
    "duration": 4,
    "start_time": "2022-08-27T15:40:12.652Z"
   },
   {
    "duration": 319,
    "start_time": "2022-08-27T15:40:12.658Z"
   },
   {
    "duration": 169,
    "start_time": "2022-08-27T15:40:12.979Z"
   },
   {
    "duration": 108,
    "start_time": "2022-08-27T15:40:13.240Z"
   },
   {
    "duration": 193,
    "start_time": "2022-08-27T15:40:13.351Z"
   },
   {
    "duration": 6,
    "start_time": "2022-08-27T15:40:13.545Z"
   },
   {
    "duration": 9,
    "start_time": "2022-08-27T15:40:13.553Z"
   },
   {
    "duration": 3,
    "start_time": "2022-08-27T15:41:36.204Z"
   },
   {
    "duration": 122,
    "start_time": "2022-08-27T16:43:31.947Z"
   },
   {
    "duration": 34,
    "start_time": "2022-08-27T16:45:24.000Z"
   },
   {
    "duration": 31,
    "start_time": "2022-08-27T16:46:47.217Z"
   },
   {
    "duration": 36,
    "start_time": "2022-08-27T17:05:14.327Z"
   },
   {
    "duration": 35,
    "start_time": "2022-08-27T17:07:03.044Z"
   },
   {
    "duration": 4,
    "start_time": "2022-08-27T17:07:06.311Z"
   },
   {
    "duration": 7,
    "start_time": "2022-08-27T17:07:08.453Z"
   },
   {
    "duration": 7,
    "start_time": "2022-08-27T17:13:31.577Z"
   },
   {
    "duration": 6,
    "start_time": "2022-08-27T17:13:59.899Z"
   },
   {
    "duration": 49,
    "start_time": "2022-08-30T22:50:03.480Z"
   },
   {
    "duration": 1541,
    "start_time": "2022-08-30T22:50:12.852Z"
   },
   {
    "duration": 0,
    "start_time": "2022-08-30T22:50:14.396Z"
   },
   {
    "duration": 0,
    "start_time": "2022-08-30T22:50:14.398Z"
   },
   {
    "duration": 0,
    "start_time": "2022-08-30T22:50:14.399Z"
   },
   {
    "duration": 0,
    "start_time": "2022-08-30T22:50:14.400Z"
   },
   {
    "duration": 0,
    "start_time": "2022-08-30T22:50:14.402Z"
   },
   {
    "duration": 0,
    "start_time": "2022-08-30T22:50:14.403Z"
   },
   {
    "duration": 0,
    "start_time": "2022-08-30T22:50:14.405Z"
   },
   {
    "duration": 0,
    "start_time": "2022-08-30T22:50:14.407Z"
   },
   {
    "duration": 0,
    "start_time": "2022-08-30T22:50:14.408Z"
   },
   {
    "duration": 0,
    "start_time": "2022-08-30T22:50:14.409Z"
   },
   {
    "duration": 0,
    "start_time": "2022-08-30T22:50:14.411Z"
   },
   {
    "duration": 0,
    "start_time": "2022-08-30T22:50:14.413Z"
   },
   {
    "duration": 0,
    "start_time": "2022-08-30T22:50:14.414Z"
   },
   {
    "duration": 0,
    "start_time": "2022-08-30T22:50:14.415Z"
   },
   {
    "duration": 0,
    "start_time": "2022-08-30T22:50:14.417Z"
   },
   {
    "duration": 0,
    "start_time": "2022-08-30T22:50:14.418Z"
   },
   {
    "duration": 0,
    "start_time": "2022-08-30T22:50:14.420Z"
   },
   {
    "duration": 0,
    "start_time": "2022-08-30T22:50:14.421Z"
   },
   {
    "duration": 1,
    "start_time": "2022-08-30T22:50:14.422Z"
   },
   {
    "duration": 0,
    "start_time": "2022-08-30T22:50:14.424Z"
   },
   {
    "duration": 0,
    "start_time": "2022-08-30T22:50:14.425Z"
   },
   {
    "duration": 0,
    "start_time": "2022-08-30T22:50:14.427Z"
   },
   {
    "duration": 194,
    "start_time": "2022-08-30T22:50:50.189Z"
   },
   {
    "duration": 86,
    "start_time": "2022-08-30T22:50:53.963Z"
   },
   {
    "duration": 13,
    "start_time": "2022-08-30T22:50:59.571Z"
   },
   {
    "duration": 7,
    "start_time": "2022-08-30T22:50:59.586Z"
   },
   {
    "duration": 6,
    "start_time": "2022-08-30T22:50:59.594Z"
   },
   {
    "duration": 8,
    "start_time": "2022-08-30T22:50:59.602Z"
   },
   {
    "duration": 8,
    "start_time": "2022-08-30T22:50:59.612Z"
   },
   {
    "duration": 8,
    "start_time": "2022-08-30T22:50:59.621Z"
   },
   {
    "duration": 6,
    "start_time": "2022-08-30T22:50:59.631Z"
   },
   {
    "duration": 22,
    "start_time": "2022-08-30T22:50:59.638Z"
   },
   {
    "duration": 65,
    "start_time": "2022-08-30T22:50:59.662Z"
   },
   {
    "duration": 0,
    "start_time": "2022-08-30T22:50:59.729Z"
   },
   {
    "duration": 0,
    "start_time": "2022-08-30T22:50:59.730Z"
   },
   {
    "duration": 0,
    "start_time": "2022-08-30T22:50:59.731Z"
   },
   {
    "duration": 0,
    "start_time": "2022-08-30T22:50:59.732Z"
   },
   {
    "duration": 0,
    "start_time": "2022-08-30T22:50:59.733Z"
   },
   {
    "duration": 0,
    "start_time": "2022-08-30T22:50:59.734Z"
   },
   {
    "duration": 0,
    "start_time": "2022-08-30T22:50:59.735Z"
   },
   {
    "duration": 0,
    "start_time": "2022-08-30T22:50:59.736Z"
   },
   {
    "duration": 0,
    "start_time": "2022-08-30T22:50:59.737Z"
   },
   {
    "duration": 0,
    "start_time": "2022-08-30T22:50:59.738Z"
   },
   {
    "duration": 0,
    "start_time": "2022-08-30T22:50:59.739Z"
   },
   {
    "duration": 0,
    "start_time": "2022-08-30T22:50:59.740Z"
   },
   {
    "duration": 33,
    "start_time": "2022-08-30T22:52:16.122Z"
   },
   {
    "duration": 7,
    "start_time": "2022-08-30T22:52:25.506Z"
   },
   {
    "duration": 4,
    "start_time": "2022-08-30T22:52:29.096Z"
   },
   {
    "duration": 4,
    "start_time": "2022-08-30T22:52:29.102Z"
   },
   {
    "duration": 47,
    "start_time": "2022-08-30T22:52:29.108Z"
   },
   {
    "duration": 14,
    "start_time": "2022-08-30T22:52:29.156Z"
   },
   {
    "duration": 17,
    "start_time": "2022-08-30T22:52:29.171Z"
   },
   {
    "duration": 297,
    "start_time": "2022-08-30T22:52:29.190Z"
   },
   {
    "duration": 205,
    "start_time": "2022-08-30T22:52:29.489Z"
   },
   {
    "duration": 194,
    "start_time": "2022-08-30T22:52:29.696Z"
   },
   {
    "duration": 104,
    "start_time": "2022-08-30T22:52:29.893Z"
   },
   {
    "duration": 5,
    "start_time": "2022-08-30T22:52:29.998Z"
   },
   {
    "duration": 13,
    "start_time": "2022-08-30T22:52:30.005Z"
   },
   {
    "duration": 9,
    "start_time": "2022-08-30T22:56:17.213Z"
   },
   {
    "duration": 245,
    "start_time": "2022-08-30T23:51:06.070Z"
   },
   {
    "duration": 36,
    "start_time": "2022-08-30T23:51:48.834Z"
   },
   {
    "duration": 4,
    "start_time": "2022-08-31T00:01:23.953Z"
   },
   {
    "duration": 5,
    "start_time": "2022-08-31T00:02:00.342Z"
   },
   {
    "duration": 75,
    "start_time": "2022-09-03T23:14:38.817Z"
   },
   {
    "duration": 53,
    "start_time": "2022-09-04T13:12:55.739Z"
   },
   {
    "duration": 1602,
    "start_time": "2022-09-04T13:13:02.670Z"
   },
   {
    "duration": 84,
    "start_time": "2022-09-04T13:13:04.274Z"
   },
   {
    "duration": 13,
    "start_time": "2022-09-04T13:13:04.359Z"
   },
   {
    "duration": 4,
    "start_time": "2022-09-04T13:13:04.374Z"
   },
   {
    "duration": 5,
    "start_time": "2022-09-04T13:13:04.380Z"
   },
   {
    "duration": 16,
    "start_time": "2022-09-04T13:13:04.387Z"
   },
   {
    "duration": 9,
    "start_time": "2022-09-04T13:13:04.405Z"
   },
   {
    "duration": 9,
    "start_time": "2022-09-04T13:13:04.416Z"
   },
   {
    "duration": 12,
    "start_time": "2022-09-04T13:13:04.426Z"
   },
   {
    "duration": 27,
    "start_time": "2022-09-04T13:13:04.441Z"
   },
   {
    "duration": 53,
    "start_time": "2022-09-04T13:13:04.470Z"
   },
   {
    "duration": 8,
    "start_time": "2022-09-04T13:13:04.525Z"
   },
   {
    "duration": 13,
    "start_time": "2022-09-04T13:13:04.535Z"
   },
   {
    "duration": 8,
    "start_time": "2022-09-04T13:13:04.550Z"
   },
   {
    "duration": 72,
    "start_time": "2022-09-04T13:13:04.562Z"
   },
   {
    "duration": 15,
    "start_time": "2022-09-04T13:13:04.636Z"
   },
   {
    "duration": 7,
    "start_time": "2022-09-04T13:13:04.653Z"
   },
   {
    "duration": 331,
    "start_time": "2022-09-04T13:13:04.661Z"
   },
   {
    "duration": 113,
    "start_time": "2022-09-04T13:13:04.993Z"
   },
   {
    "duration": 96,
    "start_time": "2022-09-04T13:13:05.108Z"
   },
   {
    "duration": 96,
    "start_time": "2022-09-04T13:13:05.206Z"
   },
   {
    "duration": 107,
    "start_time": "2022-09-04T13:13:05.303Z"
   },
   {
    "duration": 5,
    "start_time": "2022-09-04T13:13:05.412Z"
   },
   {
    "duration": 8,
    "start_time": "2022-09-04T13:27:15.821Z"
   },
   {
    "duration": 3,
    "start_time": "2022-09-04T13:28:45.610Z"
   },
   {
    "duration": 46,
    "start_time": "2022-09-04T13:28:45.827Z"
   },
   {
    "duration": 9,
    "start_time": "2022-09-04T13:28:46.035Z"
   },
   {
    "duration": 4,
    "start_time": "2022-09-04T13:28:46.485Z"
   },
   {
    "duration": 9,
    "start_time": "2022-09-04T13:29:34.275Z"
   },
   {
    "duration": 4,
    "start_time": "2022-09-04T13:29:34.722Z"
   },
   {
    "duration": 2,
    "start_time": "2022-09-04T13:33:26.561Z"
   },
   {
    "duration": 7,
    "start_time": "2022-09-04T13:35:52.349Z"
   },
   {
    "duration": 3,
    "start_time": "2022-09-04T13:35:53.045Z"
   },
   {
    "duration": 43,
    "start_time": "2022-09-05T00:36:06.288Z"
   },
   {
    "duration": 1331,
    "start_time": "2022-09-05T00:36:11.568Z"
   },
   {
    "duration": 98,
    "start_time": "2022-09-05T00:36:13.617Z"
   },
   {
    "duration": 16,
    "start_time": "2022-09-05T00:36:15.400Z"
   },
   {
    "duration": 97,
    "start_time": "2022-09-05T00:37:14.041Z"
   },
   {
    "duration": 8,
    "start_time": "2022-09-05T00:37:14.208Z"
   },
   {
    "duration": 45,
    "start_time": "2022-09-06T22:35:35.771Z"
   },
   {
    "duration": 1517,
    "start_time": "2022-09-06T22:35:45.994Z"
   },
   {
    "duration": 97,
    "start_time": "2022-09-06T22:35:47.513Z"
   },
   {
    "duration": 12,
    "start_time": "2022-09-06T22:35:47.612Z"
   },
   {
    "duration": 4,
    "start_time": "2022-09-06T22:35:47.626Z"
   },
   {
    "duration": 5,
    "start_time": "2022-09-06T22:35:47.632Z"
   },
   {
    "duration": 9,
    "start_time": "2022-09-06T22:35:47.639Z"
   },
   {
    "duration": 6,
    "start_time": "2022-09-06T22:35:47.649Z"
   },
   {
    "duration": 7,
    "start_time": "2022-09-06T22:35:47.657Z"
   },
   {
    "duration": 8,
    "start_time": "2022-09-06T22:35:47.665Z"
   },
   {
    "duration": 28,
    "start_time": "2022-09-06T22:35:47.675Z"
   },
   {
    "duration": 37,
    "start_time": "2022-09-06T22:35:47.704Z"
   },
   {
    "duration": 108,
    "start_time": "2022-09-06T22:35:47.743Z"
   },
   {
    "duration": 0,
    "start_time": "2022-09-06T22:35:47.853Z"
   },
   {
    "duration": 0,
    "start_time": "2022-09-06T22:35:47.854Z"
   },
   {
    "duration": 0,
    "start_time": "2022-09-06T22:35:47.855Z"
   },
   {
    "duration": 0,
    "start_time": "2022-09-06T22:35:47.857Z"
   },
   {
    "duration": 0,
    "start_time": "2022-09-06T22:35:47.858Z"
   },
   {
    "duration": 0,
    "start_time": "2022-09-06T22:35:47.859Z"
   },
   {
    "duration": 0,
    "start_time": "2022-09-06T22:35:47.861Z"
   },
   {
    "duration": 0,
    "start_time": "2022-09-06T22:35:47.863Z"
   },
   {
    "duration": 0,
    "start_time": "2022-09-06T22:35:47.864Z"
   },
   {
    "duration": 0,
    "start_time": "2022-09-06T22:35:47.865Z"
   },
   {
    "duration": 0,
    "start_time": "2022-09-06T22:35:47.867Z"
   },
   {
    "duration": 0,
    "start_time": "2022-09-06T22:35:47.868Z"
   },
   {
    "duration": 0,
    "start_time": "2022-09-06T22:35:47.869Z"
   },
   {
    "duration": 0,
    "start_time": "2022-09-06T22:35:47.870Z"
   },
   {
    "duration": 0,
    "start_time": "2022-09-06T22:35:47.872Z"
   },
   {
    "duration": 0,
    "start_time": "2022-09-06T22:35:47.873Z"
   },
   {
    "duration": 4,
    "start_time": "2022-09-06T22:36:14.460Z"
   },
   {
    "duration": 9,
    "start_time": "2022-09-06T23:49:59.680Z"
   },
   {
    "duration": 2,
    "start_time": "2022-09-06T23:50:03.052Z"
   },
   {
    "duration": 51,
    "start_time": "2022-09-06T23:50:03.056Z"
   },
   {
    "duration": 7,
    "start_time": "2022-09-06T23:50:03.216Z"
   },
   {
    "duration": 3,
    "start_time": "2022-09-06T23:50:04.520Z"
   },
   {
    "duration": 18,
    "start_time": "2022-09-06T23:51:12.963Z"
   },
   {
    "duration": 4,
    "start_time": "2022-09-06T23:51:18.952Z"
   },
   {
    "duration": 44,
    "start_time": "2022-09-06T23:51:19.268Z"
   },
   {
    "duration": 17,
    "start_time": "2022-09-06T23:51:19.969Z"
   },
   {
    "duration": 18,
    "start_time": "2022-09-06T23:51:25.919Z"
   },
   {
    "duration": 7,
    "start_time": "2022-09-06T23:51:38.385Z"
   },
   {
    "duration": 3,
    "start_time": "2022-09-06T23:51:39.749Z"
   },
   {
    "duration": 21,
    "start_time": "2022-09-06T23:52:03.934Z"
   },
   {
    "duration": 7,
    "start_time": "2022-09-06T23:52:04.696Z"
   },
   {
    "duration": 3,
    "start_time": "2022-09-06T23:52:05.486Z"
   },
   {
    "duration": 1383,
    "start_time": "2022-09-06T23:53:08.278Z"
   },
   {
    "duration": 30,
    "start_time": "2022-09-06T23:53:09.663Z"
   },
   {
    "duration": 12,
    "start_time": "2022-09-06T23:53:09.695Z"
   },
   {
    "duration": 5,
    "start_time": "2022-09-06T23:53:09.709Z"
   },
   {
    "duration": 7,
    "start_time": "2022-09-06T23:53:09.716Z"
   },
   {
    "duration": 6,
    "start_time": "2022-09-06T23:53:09.724Z"
   },
   {
    "duration": 6,
    "start_time": "2022-09-06T23:53:09.731Z"
   },
   {
    "duration": 6,
    "start_time": "2022-09-06T23:53:09.738Z"
   },
   {
    "duration": 5,
    "start_time": "2022-09-06T23:53:09.745Z"
   },
   {
    "duration": 19,
    "start_time": "2022-09-06T23:53:09.752Z"
   },
   {
    "duration": 35,
    "start_time": "2022-09-06T23:53:09.772Z"
   },
   {
    "duration": 123,
    "start_time": "2022-09-06T23:53:09.809Z"
   },
   {
    "duration": 0,
    "start_time": "2022-09-06T23:53:09.934Z"
   },
   {
    "duration": 0,
    "start_time": "2022-09-06T23:53:09.938Z"
   },
   {
    "duration": 0,
    "start_time": "2022-09-06T23:53:09.939Z"
   },
   {
    "duration": 0,
    "start_time": "2022-09-06T23:53:09.940Z"
   },
   {
    "duration": 0,
    "start_time": "2022-09-06T23:53:09.941Z"
   },
   {
    "duration": 0,
    "start_time": "2022-09-06T23:53:09.943Z"
   },
   {
    "duration": 0,
    "start_time": "2022-09-06T23:53:09.944Z"
   },
   {
    "duration": 0,
    "start_time": "2022-09-06T23:53:09.945Z"
   },
   {
    "duration": 0,
    "start_time": "2022-09-06T23:53:09.946Z"
   },
   {
    "duration": 0,
    "start_time": "2022-09-06T23:53:09.947Z"
   },
   {
    "duration": 0,
    "start_time": "2022-09-06T23:53:09.948Z"
   },
   {
    "duration": 0,
    "start_time": "2022-09-06T23:53:09.948Z"
   },
   {
    "duration": 0,
    "start_time": "2022-09-06T23:53:09.949Z"
   },
   {
    "duration": 0,
    "start_time": "2022-09-06T23:53:09.950Z"
   },
   {
    "duration": 0,
    "start_time": "2022-09-06T23:53:09.951Z"
   },
   {
    "duration": 0,
    "start_time": "2022-09-06T23:53:09.952Z"
   },
   {
    "duration": 11,
    "start_time": "2022-09-07T00:09:28.140Z"
   },
   {
    "duration": 5,
    "start_time": "2022-09-07T00:09:37.718Z"
   },
   {
    "duration": 3,
    "start_time": "2022-09-07T00:09:41.519Z"
   },
   {
    "duration": 4,
    "start_time": "2022-09-07T00:09:51.111Z"
   },
   {
    "duration": 3,
    "start_time": "2022-09-07T00:09:51.806Z"
   },
   {
    "duration": 4,
    "start_time": "2022-09-07T00:09:58.870Z"
   },
   {
    "duration": 5,
    "start_time": "2022-09-07T00:10:03.177Z"
   },
   {
    "duration": 3,
    "start_time": "2022-09-07T00:10:03.375Z"
   },
   {
    "duration": 14,
    "start_time": "2022-09-07T00:10:46.894Z"
   },
   {
    "duration": 4,
    "start_time": "2022-09-07T00:10:47.622Z"
   },
   {
    "duration": 11,
    "start_time": "2022-09-07T00:10:57.981Z"
   },
   {
    "duration": 5,
    "start_time": "2022-09-07T00:11:20.741Z"
   },
   {
    "duration": 13,
    "start_time": "2022-09-07T00:11:32.382Z"
   },
   {
    "duration": 4,
    "start_time": "2022-09-07T00:11:35.271Z"
   },
   {
    "duration": 3,
    "start_time": "2022-09-07T00:12:23.068Z"
   },
   {
    "duration": 43,
    "start_time": "2022-09-07T00:12:23.468Z"
   },
   {
    "duration": 13,
    "start_time": "2022-09-07T00:12:23.869Z"
   },
   {
    "duration": 4,
    "start_time": "2022-09-07T00:12:24.476Z"
   },
   {
    "duration": 285,
    "start_time": "2022-09-07T00:12:25.274Z"
   },
   {
    "duration": 8,
    "start_time": "2022-09-07T00:12:26.108Z"
   },
   {
    "duration": 8,
    "start_time": "2022-09-07T00:12:34.317Z"
   },
   {
    "duration": 8,
    "start_time": "2022-09-07T00:12:40.363Z"
   },
   {
    "duration": 156,
    "start_time": "2022-09-07T00:12:56.684Z"
   },
   {
    "duration": 7,
    "start_time": "2022-09-07T00:12:57.554Z"
   },
   {
    "duration": 5,
    "start_time": "2022-09-07T00:12:58.516Z"
   },
   {
    "duration": 4,
    "start_time": "2022-09-07T00:12:59.339Z"
   },
   {
    "duration": 4,
    "start_time": "2022-09-07T00:13:00.132Z"
   },
   {
    "duration": 2,
    "start_time": "2022-09-07T00:13:52.044Z"
   },
   {
    "duration": 21,
    "start_time": "2022-09-07T00:13:52.369Z"
   },
   {
    "duration": 7,
    "start_time": "2022-09-07T00:13:52.524Z"
   },
   {
    "duration": 3,
    "start_time": "2022-09-07T00:13:52.663Z"
   },
   {
    "duration": 123,
    "start_time": "2022-09-07T00:24:36.441Z"
   },
   {
    "duration": 47,
    "start_time": "2022-09-07T12:53:30.713Z"
   },
   {
    "duration": 1628,
    "start_time": "2022-09-07T12:53:37.309Z"
   },
   {
    "duration": 82,
    "start_time": "2022-09-07T12:53:38.939Z"
   },
   {
    "duration": 12,
    "start_time": "2022-09-07T12:53:39.023Z"
   },
   {
    "duration": 4,
    "start_time": "2022-09-07T12:53:39.037Z"
   },
   {
    "duration": 8,
    "start_time": "2022-09-07T12:53:39.042Z"
   },
   {
    "duration": 17,
    "start_time": "2022-09-07T12:53:39.051Z"
   },
   {
    "duration": 5,
    "start_time": "2022-09-07T12:53:39.069Z"
   },
   {
    "duration": 7,
    "start_time": "2022-09-07T12:53:39.076Z"
   },
   {
    "duration": 7,
    "start_time": "2022-09-07T12:53:39.085Z"
   },
   {
    "duration": 20,
    "start_time": "2022-09-07T12:53:39.094Z"
   },
   {
    "duration": 37,
    "start_time": "2022-09-07T12:53:39.116Z"
   },
   {
    "duration": 10,
    "start_time": "2022-09-07T12:53:39.155Z"
   },
   {
    "duration": 5,
    "start_time": "2022-09-07T12:53:39.167Z"
   },
   {
    "duration": 9,
    "start_time": "2022-09-07T12:53:39.173Z"
   },
   {
    "duration": 6,
    "start_time": "2022-09-07T12:53:39.183Z"
   },
   {
    "duration": 61,
    "start_time": "2022-09-07T12:53:39.191Z"
   },
   {
    "duration": 12,
    "start_time": "2022-09-07T12:53:39.253Z"
   },
   {
    "duration": 2,
    "start_time": "2022-09-07T12:53:39.267Z"
   },
   {
    "duration": 325,
    "start_time": "2022-09-07T12:53:39.271Z"
   },
   {
    "duration": 13,
    "start_time": "2022-09-07T12:53:39.598Z"
   },
   {
    "duration": 103,
    "start_time": "2022-09-07T12:53:39.613Z"
   },
   {
    "duration": 104,
    "start_time": "2022-09-07T12:53:39.718Z"
   },
   {
    "duration": 109,
    "start_time": "2022-09-07T12:53:39.912Z"
   },
   {
    "duration": 12,
    "start_time": "2022-09-07T12:53:40.023Z"
   },
   {
    "duration": 24,
    "start_time": "2022-09-07T12:53:40.036Z"
   },
   {
    "duration": 7,
    "start_time": "2022-09-07T12:53:40.061Z"
   },
   {
    "duration": 27,
    "start_time": "2022-09-07T12:53:40.070Z"
   },
   {
    "duration": 7,
    "start_time": "2022-09-07T12:53:40.100Z"
   },
   {
    "duration": 7,
    "start_time": "2022-09-07T12:53:40.108Z"
   },
   {
    "duration": 151,
    "start_time": "2022-09-07T12:57:35.038Z"
   },
   {
    "duration": 37,
    "start_time": "2022-09-07T12:58:26.843Z"
   },
   {
    "duration": 40,
    "start_time": "2022-09-07T13:02:39.863Z"
   },
   {
    "duration": 37,
    "start_time": "2022-09-07T13:02:44.045Z"
   },
   {
    "duration": 4,
    "start_time": "2022-09-07T13:04:18.358Z"
   },
   {
    "duration": 4,
    "start_time": "2022-09-07T13:04:30.996Z"
   },
   {
    "duration": 10,
    "start_time": "2022-09-07T13:05:35.734Z"
   },
   {
    "duration": 4,
    "start_time": "2022-09-07T13:05:36.859Z"
   },
   {
    "duration": 9,
    "start_time": "2022-09-07T13:06:25.084Z"
   },
   {
    "duration": 9,
    "start_time": "2022-09-07T13:06:27.364Z"
   },
   {
    "duration": 10,
    "start_time": "2022-09-07T13:06:37.916Z"
   },
   {
    "duration": 10,
    "start_time": "2022-09-07T13:06:49.995Z"
   },
   {
    "duration": 3,
    "start_time": "2022-09-07T13:06:50.402Z"
   },
   {
    "duration": 22,
    "start_time": "2022-09-07T13:21:44.909Z"
   },
   {
    "duration": 20,
    "start_time": "2022-09-07T13:22:00.823Z"
   },
   {
    "duration": 21,
    "start_time": "2022-09-07T13:23:11.312Z"
   },
   {
    "duration": 20,
    "start_time": "2022-09-07T13:23:27.062Z"
   },
   {
    "duration": 21,
    "start_time": "2022-09-07T13:24:01.190Z"
   },
   {
    "duration": 302,
    "start_time": "2022-09-07T13:25:10.788Z"
   },
   {
    "duration": 342,
    "start_time": "2022-09-07T13:27:02.642Z"
   },
   {
    "duration": 4,
    "start_time": "2022-09-07T13:47:18.091Z"
   },
   {
    "duration": 3,
    "start_time": "2022-09-07T13:47:35.710Z"
   },
   {
    "duration": 47,
    "start_time": "2022-09-07T19:05:23.177Z"
   },
   {
    "duration": 5,
    "start_time": "2022-09-07T19:05:23.477Z"
   },
   {
    "duration": 6,
    "start_time": "2022-09-07T19:05:23.731Z"
   },
   {
    "duration": 6,
    "start_time": "2022-09-07T19:05:24.123Z"
   },
   {
    "duration": 1636,
    "start_time": "2022-09-07T19:05:29.172Z"
   },
   {
    "duration": 100,
    "start_time": "2022-09-07T19:05:30.810Z"
   },
   {
    "duration": 13,
    "start_time": "2022-09-07T19:05:30.911Z"
   },
   {
    "duration": 30,
    "start_time": "2022-09-07T19:05:30.926Z"
   },
   {
    "duration": 11,
    "start_time": "2022-09-07T19:05:30.958Z"
   },
   {
    "duration": 29,
    "start_time": "2022-09-07T19:05:30.970Z"
   },
   {
    "duration": 134,
    "start_time": "2022-09-07T19:05:31.001Z"
   },
   {
    "duration": 0,
    "start_time": "2022-09-07T19:05:31.137Z"
   },
   {
    "duration": 0,
    "start_time": "2022-09-07T19:05:31.138Z"
   },
   {
    "duration": 0,
    "start_time": "2022-09-07T19:05:31.139Z"
   },
   {
    "duration": 0,
    "start_time": "2022-09-07T19:05:31.140Z"
   },
   {
    "duration": 0,
    "start_time": "2022-09-07T19:05:31.141Z"
   },
   {
    "duration": 0,
    "start_time": "2022-09-07T19:05:31.142Z"
   },
   {
    "duration": 0,
    "start_time": "2022-09-07T19:05:31.143Z"
   },
   {
    "duration": 0,
    "start_time": "2022-09-07T19:05:31.144Z"
   },
   {
    "duration": 0,
    "start_time": "2022-09-07T19:05:31.145Z"
   },
   {
    "duration": 0,
    "start_time": "2022-09-07T19:05:31.146Z"
   },
   {
    "duration": 0,
    "start_time": "2022-09-07T19:05:31.147Z"
   },
   {
    "duration": 0,
    "start_time": "2022-09-07T19:05:31.147Z"
   },
   {
    "duration": 0,
    "start_time": "2022-09-07T19:05:31.148Z"
   },
   {
    "duration": 0,
    "start_time": "2022-09-07T19:05:31.149Z"
   },
   {
    "duration": 0,
    "start_time": "2022-09-07T19:05:31.150Z"
   },
   {
    "duration": 0,
    "start_time": "2022-09-07T19:05:31.150Z"
   },
   {
    "duration": 0,
    "start_time": "2022-09-07T19:05:31.151Z"
   },
   {
    "duration": 0,
    "start_time": "2022-09-07T19:05:31.152Z"
   },
   {
    "duration": 0,
    "start_time": "2022-09-07T19:05:31.153Z"
   },
   {
    "duration": 0,
    "start_time": "2022-09-07T19:05:31.154Z"
   },
   {
    "duration": 4,
    "start_time": "2022-09-07T19:05:37.569Z"
   },
   {
    "duration": 8,
    "start_time": "2022-09-07T19:05:38.000Z"
   },
   {
    "duration": 4,
    "start_time": "2022-09-07T19:05:51.016Z"
   },
   {
    "duration": 5,
    "start_time": "2022-09-07T19:05:51.920Z"
   },
   {
    "duration": 3,
    "start_time": "2022-09-07T19:05:58.199Z"
   },
   {
    "duration": 25,
    "start_time": "2022-09-07T19:06:05.928Z"
   },
   {
    "duration": 45,
    "start_time": "2022-09-07T19:11:37.165Z"
   },
   {
    "duration": 41,
    "start_time": "2022-09-07T19:12:19.389Z"
   },
   {
    "duration": 34,
    "start_time": "2022-09-07T19:12:33.900Z"
   },
   {
    "duration": 36,
    "start_time": "2022-09-07T19:12:49.620Z"
   },
   {
    "duration": 3,
    "start_time": "2022-09-07T19:20:14.733Z"
   },
   {
    "duration": 54,
    "start_time": "2022-09-07T19:20:15.341Z"
   },
   {
    "duration": 301,
    "start_time": "2022-09-07T19:25:17.639Z"
   },
   {
    "duration": 29,
    "start_time": "2022-09-07T19:31:43.477Z"
   },
   {
    "duration": 8,
    "start_time": "2022-09-07T19:31:55.644Z"
   },
   {
    "duration": 5,
    "start_time": "2022-09-07T19:31:59.324Z"
   },
   {
    "duration": 3,
    "start_time": "2022-09-07T19:32:01.877Z"
   },
   {
    "duration": 5,
    "start_time": "2022-09-07T19:32:11.685Z"
   },
   {
    "duration": 3,
    "start_time": "2022-09-07T19:32:17.757Z"
   },
   {
    "duration": 312,
    "start_time": "2022-09-07T19:43:23.820Z"
   },
   {
    "duration": 327,
    "start_time": "2022-09-07T19:45:03.838Z"
   },
   {
    "duration": 320,
    "start_time": "2022-09-07T19:45:09.022Z"
   },
   {
    "duration": 1330,
    "start_time": "2022-09-07T19:47:18.456Z"
   },
   {
    "duration": 30,
    "start_time": "2022-09-07T19:47:19.787Z"
   },
   {
    "duration": 14,
    "start_time": "2022-09-07T19:47:19.818Z"
   },
   {
    "duration": 5,
    "start_time": "2022-09-07T19:47:19.834Z"
   },
   {
    "duration": 10,
    "start_time": "2022-09-07T19:47:19.840Z"
   },
   {
    "duration": 5,
    "start_time": "2022-09-07T19:47:19.851Z"
   },
   {
    "duration": 4,
    "start_time": "2022-09-07T19:47:19.858Z"
   },
   {
    "duration": 7,
    "start_time": "2022-09-07T19:47:19.864Z"
   },
   {
    "duration": 4,
    "start_time": "2022-09-07T19:47:19.873Z"
   },
   {
    "duration": 33,
    "start_time": "2022-09-07T19:47:19.880Z"
   },
   {
    "duration": 38,
    "start_time": "2022-09-07T19:47:19.914Z"
   },
   {
    "duration": 3,
    "start_time": "2022-09-07T19:47:19.963Z"
   },
   {
    "duration": 57,
    "start_time": "2022-09-07T19:47:19.967Z"
   },
   {
    "duration": 11,
    "start_time": "2022-09-07T19:47:20.026Z"
   },
   {
    "duration": 9,
    "start_time": "2022-09-07T19:47:20.039Z"
   },
   {
    "duration": 325,
    "start_time": "2022-09-07T19:47:20.050Z"
   },
   {
    "duration": 32,
    "start_time": "2022-09-07T19:47:20.377Z"
   },
   {
    "duration": 95,
    "start_time": "2022-09-07T19:47:20.411Z"
   },
   {
    "duration": 189,
    "start_time": "2022-09-07T19:47:20.508Z"
   },
   {
    "duration": 14,
    "start_time": "2022-09-07T19:47:20.700Z"
   },
   {
    "duration": 8,
    "start_time": "2022-09-07T19:47:20.715Z"
   },
   {
    "duration": 3,
    "start_time": "2022-09-07T19:47:20.725Z"
   },
   {
    "duration": 32,
    "start_time": "2022-09-07T19:47:20.730Z"
   },
   {
    "duration": 13,
    "start_time": "2022-09-07T19:47:20.763Z"
   },
   {
    "duration": 3,
    "start_time": "2022-09-07T19:47:20.777Z"
   },
   {
    "duration": 310,
    "start_time": "2022-09-07T19:49:13.941Z"
   },
   {
    "duration": 311,
    "start_time": "2022-09-07T19:49:39.486Z"
   },
   {
    "duration": 328,
    "start_time": "2022-09-07T19:49:45.022Z"
   },
   {
    "duration": 316,
    "start_time": "2022-09-07T19:49:47.540Z"
   },
   {
    "duration": 308,
    "start_time": "2022-09-07T19:51:15.612Z"
   },
   {
    "duration": 113,
    "start_time": "2022-09-07T20:07:58.751Z"
   },
   {
    "duration": 2,
    "start_time": "2022-09-07T20:08:02.585Z"
   },
   {
    "duration": 49,
    "start_time": "2022-09-07T20:08:03.167Z"
   },
   {
    "duration": 2,
    "start_time": "2022-09-07T20:08:32.192Z"
   },
   {
    "duration": 10,
    "start_time": "2022-09-07T20:08:32.839Z"
   },
   {
    "duration": 5,
    "start_time": "2022-09-07T20:09:11.343Z"
   },
   {
    "duration": 3,
    "start_time": "2022-09-07T20:09:12.087Z"
   },
   {
    "duration": 5,
    "start_time": "2022-09-07T20:10:03.447Z"
   },
   {
    "duration": 3,
    "start_time": "2022-09-07T20:10:04.118Z"
   },
   {
    "duration": 52,
    "start_time": "2022-09-08T19:15:27.275Z"
   },
   {
    "duration": 6,
    "start_time": "2022-09-08T19:15:27.450Z"
   },
   {
    "duration": 6,
    "start_time": "2022-09-08T19:15:27.596Z"
   },
   {
    "duration": 7,
    "start_time": "2022-09-08T19:15:27.749Z"
   },
   {
    "duration": 7,
    "start_time": "2022-09-08T19:15:27.900Z"
   },
   {
    "duration": 1782,
    "start_time": "2022-09-08T19:15:33.822Z"
   },
   {
    "duration": 115,
    "start_time": "2022-09-08T19:15:35.606Z"
   },
   {
    "duration": 15,
    "start_time": "2022-09-08T19:15:35.723Z"
   },
   {
    "duration": 9,
    "start_time": "2022-09-08T19:15:35.740Z"
   },
   {
    "duration": 13,
    "start_time": "2022-09-08T19:15:35.752Z"
   },
   {
    "duration": 11,
    "start_time": "2022-09-08T19:15:35.766Z"
   },
   {
    "duration": 16,
    "start_time": "2022-09-08T19:15:35.779Z"
   },
   {
    "duration": 23,
    "start_time": "2022-09-08T19:15:35.797Z"
   },
   {
    "duration": 11,
    "start_time": "2022-09-08T19:15:35.821Z"
   },
   {
    "duration": 26,
    "start_time": "2022-09-08T19:15:35.833Z"
   },
   {
    "duration": 148,
    "start_time": "2022-09-08T19:15:35.861Z"
   },
   {
    "duration": 0,
    "start_time": "2022-09-08T19:15:36.011Z"
   },
   {
    "duration": 0,
    "start_time": "2022-09-08T19:15:36.012Z"
   },
   {
    "duration": 0,
    "start_time": "2022-09-08T19:15:36.014Z"
   },
   {
    "duration": 0,
    "start_time": "2022-09-08T19:15:36.015Z"
   },
   {
    "duration": 0,
    "start_time": "2022-09-08T19:15:36.016Z"
   },
   {
    "duration": 0,
    "start_time": "2022-09-08T19:15:36.017Z"
   },
   {
    "duration": 0,
    "start_time": "2022-09-08T19:15:36.019Z"
   },
   {
    "duration": 0,
    "start_time": "2022-09-08T19:15:36.020Z"
   },
   {
    "duration": 0,
    "start_time": "2022-09-08T19:15:36.021Z"
   },
   {
    "duration": 0,
    "start_time": "2022-09-08T19:15:36.022Z"
   },
   {
    "duration": 0,
    "start_time": "2022-09-08T19:15:36.024Z"
   },
   {
    "duration": 0,
    "start_time": "2022-09-08T19:15:36.025Z"
   },
   {
    "duration": 0,
    "start_time": "2022-09-08T19:15:36.026Z"
   },
   {
    "duration": 0,
    "start_time": "2022-09-08T19:15:36.027Z"
   },
   {
    "duration": 0,
    "start_time": "2022-09-08T19:15:36.028Z"
   },
   {
    "duration": 0,
    "start_time": "2022-09-08T19:15:36.029Z"
   },
   {
    "duration": 40,
    "start_time": "2022-09-08T19:16:03.423Z"
   },
   {
    "duration": 37,
    "start_time": "2022-09-08T19:16:12.291Z"
   },
   {
    "duration": 4,
    "start_time": "2022-09-08T19:16:53.166Z"
   },
   {
    "duration": 41,
    "start_time": "2022-09-08T19:16:53.496Z"
   },
   {
    "duration": 277,
    "start_time": "2022-09-08T19:17:30.433Z"
   },
   {
    "duration": 277,
    "start_time": "2022-09-08T19:17:49.850Z"
   },
   {
    "duration": 273,
    "start_time": "2022-09-08T19:17:59.682Z"
   },
   {
    "duration": 3,
    "start_time": "2022-09-08T19:20:28.963Z"
   },
   {
    "duration": 56,
    "start_time": "2022-09-08T19:20:37.276Z"
   },
   {
    "duration": 6,
    "start_time": "2022-09-08T19:20:47.172Z"
   },
   {
    "duration": 6,
    "start_time": "2022-09-08T19:20:55.963Z"
   },
   {
    "duration": 3,
    "start_time": "2022-09-08T19:21:17.804Z"
   },
   {
    "duration": 4,
    "start_time": "2022-09-08T19:21:21.598Z"
   },
   {
    "duration": 3,
    "start_time": "2022-09-08T19:21:46.107Z"
   },
   {
    "duration": 10,
    "start_time": "2022-09-08T19:22:05.908Z"
   },
   {
    "duration": 5,
    "start_time": "2022-09-08T19:22:30.348Z"
   },
   {
    "duration": 3,
    "start_time": "2022-09-08T19:22:33.219Z"
   },
   {
    "duration": 5,
    "start_time": "2022-09-08T19:22:36.123Z"
   },
   {
    "duration": 3,
    "start_time": "2022-09-08T19:22:37.610Z"
   },
   {
    "duration": 6,
    "start_time": "2022-09-08T19:23:37.123Z"
   },
   {
    "duration": 4,
    "start_time": "2022-09-08T19:23:37.905Z"
   },
   {
    "duration": 6,
    "start_time": "2022-09-08T19:24:06.910Z"
   },
   {
    "duration": 3,
    "start_time": "2022-09-08T19:24:07.707Z"
   },
   {
    "duration": 5,
    "start_time": "2022-09-08T19:54:15.199Z"
   },
   {
    "duration": 4,
    "start_time": "2022-09-08T19:54:19.354Z"
   },
   {
    "duration": 71,
    "start_time": "2022-09-08T19:54:20.570Z"
   }
  ],
  "kernelspec": {
   "display_name": "Python 3 (ipykernel)",
   "language": "python",
   "name": "python3"
  },
  "language_info": {
   "codemirror_mode": {
    "name": "ipython",
    "version": 3
   },
   "file_extension": ".py",
   "mimetype": "text/x-python",
   "name": "python",
   "nbconvert_exporter": "python",
   "pygments_lexer": "ipython3",
   "version": "3.9.5"
  },
  "toc": {
   "base_numbering": 1,
   "nav_menu": {},
   "number_sections": true,
   "sideBar": true,
   "skip_h1_title": true,
   "title_cell": "Table of Contents",
   "title_sidebar": "Contents",
   "toc_cell": false,
   "toc_position": {},
   "toc_section_display": true,
   "toc_window_display": false
  }
 },
 "nbformat": 4,
 "nbformat_minor": 2
}
